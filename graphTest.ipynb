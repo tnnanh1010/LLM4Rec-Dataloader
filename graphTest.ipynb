{
 "cells": [
  {
   "cell_type": "code",
   "execution_count": null,
   "metadata": {},
   "outputs": [],
   "source": [
    "import splitter\n",
    "import movielens\n",
    "import graphLoader "
   ]
  },
  {
   "cell_type": "code",
   "execution_count": 2,
   "metadata": {},
   "outputs": [
    {
     "name": "stderr",
     "output_type": "stream",
     "text": [
      "/home/vinmike/.local/lib/python3.10/site-packages/numpy/core/fromnumeric.py:59: FutureWarning: 'DataFrame.swapaxes' is deprecated and will be removed in a future version. Please use 'DataFrame.transpose' instead.\n",
      "  return bound(*args, **kwds)\n"
     ]
    }
   ],
   "source": [
    "split = splitter.random_split(movielens.load_pandas_df(\"100K\"))"
   ]
  },
  {
   "cell_type": "code",
   "execution_count": 3,
   "metadata": {},
   "outputs": [
    {
     "data": {
      "text/html": [
       "<div>\n",
       "<style scoped>\n",
       "    .dataframe tbody tr th:only-of-type {\n",
       "        vertical-align: middle;\n",
       "    }\n",
       "\n",
       "    .dataframe tbody tr th {\n",
       "        vertical-align: top;\n",
       "    }\n",
       "\n",
       "    .dataframe thead th {\n",
       "        text-align: right;\n",
       "    }\n",
       "</style>\n",
       "<table border=\"1\" class=\"dataframe\">\n",
       "  <thead>\n",
       "    <tr style=\"text-align: right;\">\n",
       "      <th></th>\n",
       "      <th>userID</th>\n",
       "      <th>itemID</th>\n",
       "      <th>rating</th>\n",
       "    </tr>\n",
       "  </thead>\n",
       "  <tbody>\n",
       "    <tr>\n",
       "      <th>0</th>\n",
       "      <td>0</td>\n",
       "      <td>0</td>\n",
       "      <td>3.0</td>\n",
       "    </tr>\n",
       "    <tr>\n",
       "      <th>1</th>\n",
       "      <td>1</td>\n",
       "      <td>1</td>\n",
       "      <td>4.0</td>\n",
       "    </tr>\n",
       "    <tr>\n",
       "      <th>2</th>\n",
       "      <td>2</td>\n",
       "      <td>2</td>\n",
       "      <td>4.0</td>\n",
       "    </tr>\n",
       "    <tr>\n",
       "      <th>3</th>\n",
       "      <td>3</td>\n",
       "      <td>3</td>\n",
       "      <td>4.0</td>\n",
       "    </tr>\n",
       "    <tr>\n",
       "      <th>4</th>\n",
       "      <td>4</td>\n",
       "      <td>4</td>\n",
       "      <td>3.0</td>\n",
       "    </tr>\n",
       "    <tr>\n",
       "      <th>...</th>\n",
       "      <td>...</td>\n",
       "      <td>...</td>\n",
       "      <td>...</td>\n",
       "    </tr>\n",
       "    <tr>\n",
       "      <th>79994</th>\n",
       "      <td>166</td>\n",
       "      <td>24</td>\n",
       "      <td>3.0</td>\n",
       "    </tr>\n",
       "    <tr>\n",
       "      <th>79995</th>\n",
       "      <td>751</td>\n",
       "      <td>212</td>\n",
       "      <td>4.0</td>\n",
       "    </tr>\n",
       "    <tr>\n",
       "      <th>79996</th>\n",
       "      <td>121</td>\n",
       "      <td>161</td>\n",
       "      <td>3.0</td>\n",
       "    </tr>\n",
       "    <tr>\n",
       "      <th>79997</th>\n",
       "      <td>139</td>\n",
       "      <td>532</td>\n",
       "      <td>5.0</td>\n",
       "    </tr>\n",
       "    <tr>\n",
       "      <th>79998</th>\n",
       "      <td>142</td>\n",
       "      <td>156</td>\n",
       "      <td>4.0</td>\n",
       "    </tr>\n",
       "  </tbody>\n",
       "</table>\n",
       "<p>79999 rows × 3 columns</p>\n",
       "</div>"
      ],
      "text/plain": [
       "       userID  itemID  rating\n",
       "0           0       0     3.0\n",
       "1           1       1     4.0\n",
       "2           2       2     4.0\n",
       "3           3       3     4.0\n",
       "4           4       4     3.0\n",
       "...       ...     ...     ...\n",
       "79994     166      24     3.0\n",
       "79995     751     212     4.0\n",
       "79996     121     161     3.0\n",
       "79997     139     532     5.0\n",
       "79998     142     156     4.0\n",
       "\n",
       "[79999 rows x 3 columns]"
      ]
     },
     "execution_count": 3,
     "metadata": {},
     "output_type": "execute_result"
    }
   ],
   "source": [
    "data1 = graphLoader.ImplicitCF(train=split[0], test=split[1])\n",
    "data1.train"
   ]
  },
  {
   "cell_type": "code",
   "execution_count": 8,
   "metadata": {},
   "outputs": [
    {
     "name": "stdout",
     "output_type": "stream",
     "text": [
      "Already create adjacency matrix.\n",
      "Already normalize adjacency matrix.\n",
      "  (0, 943)\t0.0314970389008522\n",
      "  (0, 987)\t0.012123215943574905\n",
      "  (0, 1009)\t0.013263952918350697\n",
      "  (0, 1035)\t0.017323972657322884\n",
      "  (0, 1052)\t0.01200038380920887\n",
      "  (0, 1084)\t0.010631080716848373\n",
      "  (0, 1089)\t0.01918824017047882\n",
      "  (0, 1094)\t0.012543190270662308\n",
      "  (0, 1154)\t0.01277023646980524\n",
      "  (0, 1155)\t0.01585903763771057\n",
      "  (0, 1161)\t0.0144942756742239\n",
      "  (0, 1200)\t0.0144942756742239\n",
      "  (0, 1202)\t0.016835875809192657\n",
      "  (0, 1223)\t0.013856849633157253\n",
      "  (0, 1229)\t0.017039954662322998\n",
      "  (0, 1277)\t0.015915175899863243\n",
      "  (0, 1291)\t0.010531567968428135\n",
      "  (0, 1397)\t0.018101215362548828\n",
      "  (0, 1498)\t0.029880713671445847\n",
      "  (0, 1499)\t0.016386838629841805\n",
      "  (0, 1503)\t0.012828949838876724\n",
      "  (0, 1560)\t0.015803487971425056\n",
      "  (0, 1576)\t0.0306569654494524\n",
      "  (0, 1699)\t0.024397501721978188\n",
      "  (0, 1879)\t0.029160592705011368\n",
      "  :\t:\n",
      "  (2571, 118)\t0.04019339382648468\n",
      "  (2572, 118)\t0.04019339382648468\n",
      "  (2573, 300)\t0.06468462198972702\n",
      "  (2574, 403)\t0.07715167850255966\n",
      "  (2575, 165)\t0.05360562726855278\n",
      "  (2576, 689)\t0.14586499333381653\n",
      "  (2577, 415)\t0.08944272249937057\n",
      "  (2578, 183)\t0.07198157161474228\n",
      "  (2579, 118)\t0.04019339382648468\n",
      "  (2580, 129)\t0.052777983248233795\n",
      "  (2581, 165)\t0.05360562726855278\n",
      "  (2582, 142)\t0.04419417306780815\n",
      "  (2583, 346)\t0.18898223340511322\n",
      "  (2584, 118)\t0.04019339382648468\n",
      "  (2585, 188)\t0.04902903363108635\n",
      "  (2586, 606)\t0.11322770267724991\n",
      "  (2587, 128)\t0.0653720423579216\n",
      "  (2588, 338)\t0.05842062458395958\n",
      "  (2589, 316)\t0.14433756470680237\n",
      "  (2590, 67)\t0.051164451986551285\n",
      "  (2591, 340)\t0.11704114824533463\n",
      "  (2592, 144)\t0.042409446090459824\n",
      "  (2593, 129)\t0.052777983248233795\n",
      "  (2594, 118)\t0.04019339382648468\n",
      "  (2595, 316)\t0.14433756470680237\n"
     ]
    }
   ],
   "source": [
    "print(data1.get_norm_adj_mat())"
   ]
  },
  {
   "cell_type": "code",
   "execution_count": 9,
   "metadata": {},
   "outputs": [
    {
     "data": {
      "text/plain": [
       "(array([556, 346]), array([ 240, 1543]), array([1454, 1460]))"
      ]
     },
     "execution_count": 9,
     "metadata": {},
     "output_type": "execute_result"
    }
   ],
   "source": [
    "data1.train_loader(2)\n"
   ]
  },
  {
   "cell_type": "code",
   "execution_count": null,
   "metadata": {},
   "outputs": [],
   "source": []
  }
 ],
 "metadata": {
  "kernelspec": {
   "display_name": "Python 3",
   "language": "python",
   "name": "python3"
  },
  "language_info": {
   "codemirror_mode": {
    "name": "ipython",
    "version": 3
   },
   "file_extension": ".py",
   "mimetype": "text/x-python",
   "name": "python",
   "nbconvert_exporter": "python",
   "pygments_lexer": "ipython3",
   "version": "3.8.10"
  }
 },
 "nbformat": 4,
 "nbformat_minor": 2
}
