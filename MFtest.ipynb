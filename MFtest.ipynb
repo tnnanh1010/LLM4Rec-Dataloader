{
 "cells": [
  {
   "cell_type": "code",
   "execution_count": 1,
   "metadata": {},
   "outputs": [],
   "source": [
    "from model.MF.MF import MatrixFactorization\n",
    "\n",
    "\n",
    "from model.MF.preprocessing import ids_encoder, preprocess_mind_data, format_data\n",
    "\n",
    "\n",
    "import pandas as pd\n",
    "import movielens\n",
    "import splitter\n",
    "import mind"
   ]
  },
  {
   "cell_type": "code",
   "execution_count": 2,
   "metadata": {},
   "outputs": [],
   "source": [
    "df = movielens.load_pandas_df(\"100K\")\n"
   ]
  },
  {
   "cell_type": "code",
   "execution_count": 23,
   "metadata": {},
   "outputs": [
    {
     "data": {
      "text/html": [
       "<div>\n",
       "<style scoped>\n",
       "    .dataframe tbody tr th:only-of-type {\n",
       "        vertical-align: middle;\n",
       "    }\n",
       "\n",
       "    .dataframe tbody tr th {\n",
       "        vertical-align: top;\n",
       "    }\n",
       "\n",
       "    .dataframe thead th {\n",
       "        text-align: right;\n",
       "    }\n",
       "</style>\n",
       "<table border=\"1\" class=\"dataframe\">\n",
       "  <thead>\n",
       "    <tr style=\"text-align: right;\">\n",
       "      <th></th>\n",
       "      <th>userID</th>\n",
       "      <th>itemID</th>\n",
       "      <th>rating</th>\n",
       "      <th>timestamp</th>\n",
       "    </tr>\n",
       "  </thead>\n",
       "  <tbody>\n",
       "    <tr>\n",
       "      <th>0</th>\n",
       "      <td>186</td>\n",
       "      <td>302</td>\n",
       "      <td>3.0</td>\n",
       "      <td>891717742</td>\n",
       "    </tr>\n",
       "    <tr>\n",
       "      <th>1</th>\n",
       "      <td>22</td>\n",
       "      <td>377</td>\n",
       "      <td>1.0</td>\n",
       "      <td>878887116</td>\n",
       "    </tr>\n",
       "    <tr>\n",
       "      <th>2</th>\n",
       "      <td>244</td>\n",
       "      <td>51</td>\n",
       "      <td>2.0</td>\n",
       "      <td>880606923</td>\n",
       "    </tr>\n",
       "    <tr>\n",
       "      <th>3</th>\n",
       "      <td>166</td>\n",
       "      <td>346</td>\n",
       "      <td>1.0</td>\n",
       "      <td>886397596</td>\n",
       "    </tr>\n",
       "    <tr>\n",
       "      <th>4</th>\n",
       "      <td>298</td>\n",
       "      <td>474</td>\n",
       "      <td>4.0</td>\n",
       "      <td>884182806</td>\n",
       "    </tr>\n",
       "    <tr>\n",
       "      <th>...</th>\n",
       "      <td>...</td>\n",
       "      <td>...</td>\n",
       "      <td>...</td>\n",
       "      <td>...</td>\n",
       "    </tr>\n",
       "    <tr>\n",
       "      <th>99994</th>\n",
       "      <td>880</td>\n",
       "      <td>476</td>\n",
       "      <td>3.0</td>\n",
       "      <td>880175444</td>\n",
       "    </tr>\n",
       "    <tr>\n",
       "      <th>99995</th>\n",
       "      <td>716</td>\n",
       "      <td>204</td>\n",
       "      <td>5.0</td>\n",
       "      <td>879795543</td>\n",
       "    </tr>\n",
       "    <tr>\n",
       "      <th>99996</th>\n",
       "      <td>276</td>\n",
       "      <td>1090</td>\n",
       "      <td>1.0</td>\n",
       "      <td>874795795</td>\n",
       "    </tr>\n",
       "    <tr>\n",
       "      <th>99997</th>\n",
       "      <td>13</td>\n",
       "      <td>225</td>\n",
       "      <td>2.0</td>\n",
       "      <td>882399156</td>\n",
       "    </tr>\n",
       "    <tr>\n",
       "      <th>99998</th>\n",
       "      <td>12</td>\n",
       "      <td>203</td>\n",
       "      <td>3.0</td>\n",
       "      <td>879959583</td>\n",
       "    </tr>\n",
       "  </tbody>\n",
       "</table>\n",
       "<p>99999 rows × 4 columns</p>\n",
       "</div>"
      ],
      "text/plain": [
       "       userID  itemID  rating  timestamp\n",
       "0         186     302     3.0  891717742\n",
       "1          22     377     1.0  878887116\n",
       "2         244      51     2.0  880606923\n",
       "3         166     346     1.0  886397596\n",
       "4         298     474     4.0  884182806\n",
       "...       ...     ...     ...        ...\n",
       "99994     880     476     3.0  880175444\n",
       "99995     716     204     5.0  879795543\n",
       "99996     276    1090     1.0  874795795\n",
       "99997      13     225     2.0  882399156\n",
       "99998      12     203     3.0  879959583\n",
       "\n",
       "[99999 rows x 4 columns]"
      ]
     },
     "execution_count": 23,
     "metadata": {},
     "output_type": "execute_result"
    }
   ],
   "source": [
    "df"
   ]
  },
  {
   "cell_type": "code",
   "execution_count": 24,
   "metadata": {},
   "outputs": [],
   "source": [
    "ratings = pd.DataFrame(df[[\"userID\", \"itemID\", \"rating\"]])"
   ]
  },
  {
   "cell_type": "code",
   "execution_count": 25,
   "metadata": {},
   "outputs": [],
   "source": [
    "\n",
    "ratings, uencoder, iencoder = ids_encoder(ratings)\n",
    "\n",
    "m = ratings[\"userID\"].nunique()   # total number of users\n",
    "n = ratings[\"itemID\"].nunique()   # total number of items\n"
   ]
  },
  {
   "cell_type": "code",
   "execution_count": 6,
   "metadata": {},
   "outputs": [],
   "source": [
    "split_df = splitter.interactive_split(ratings)\n",
    "\n"
   ]
  },
  {
   "cell_type": "code",
   "execution_count": 7,
   "metadata": {},
   "outputs": [],
   "source": [
    "x_train, y_train, x_test, y_test = format_data(split_df[0], split_df[1], 'movielens')"
   ]
  },
  {
   "cell_type": "code",
   "execution_count": 8,
   "metadata": {},
   "outputs": [
    {
     "name": "stdout",
     "output_type": "stream",
     "text": [
      "Training Matrix Factorization Model ...\n",
      "k=10 \t alpha=0.01 \t lambda=1.5\n",
      "epoch 1/10 - loss : 1.926 - val_loss : 1.934\n",
      "epoch 2/10 - loss : 1.533 - val_loss : 1.537\n",
      "epoch 3/10 - loss : 1.503 - val_loss : 1.506\n",
      "epoch 4/10 - loss : 1.494 - val_loss : 1.497\n",
      "epoch 5/10 - loss : 1.491 - val_loss : 1.493\n",
      "epoch 6/10 - loss : 1.489 - val_loss : 1.491\n",
      "epoch 7/10 - loss : 1.488 - val_loss : 1.49\n",
      "epoch 8/10 - loss : 1.487 - val_loss : 1.49\n",
      "epoch 9/10 - loss : 1.487 - val_loss : 1.489\n",
      "epoch 10/10 - loss : 1.487 - val_loss : 1.489\n"
     ]
    }
   ],
   "source": [
    "\n",
    "\n",
    "MF = MatrixFactorization(m, n, k=10, alpha=0.01, lamb=1.5)\n",
    "\n",
    "history = MF.fit(x_train, y_train, epochs=10, validation_data=(x_test, y_test))\n",
    "\n"
   ]
  },
  {
   "cell_type": "code",
   "execution_count": 59,
   "metadata": {},
   "outputs": [
    {
     "name": "stdout",
     "output_type": "stream",
     "text": [
      "validation error : 1.489\n"
     ]
    },
    {
     "data": {
      "text/plain": [
       "1.4891639952848525"
      ]
     },
     "execution_count": 59,
     "metadata": {},
     "output_type": "execute_result"
    }
   ],
   "source": [
    "MF.evaluate(x_test, y_test)"
   ]
  },
  {
   "cell_type": "markdown",
   "metadata": {},
   "source": [
    "# BCE LOSS #"
   ]
  },
  {
   "cell_type": "code",
   "execution_count": 36,
   "metadata": {},
   "outputs": [],
   "source": [
    "threshold = 3.5\n",
    "# ratings[\"rating\"] = (ratings[\"rating\"] > threshold).astype(int)\n",
    "ratings[\"rating\"] = (ratings[\"rating\"] > 0).astype(int)\n",
    "\n",
    "\n",
    "m = ratings[\"userID\"].nunique()\n",
    "n = ratings[\"itemID\"].nunique()\n",
    "split_df = splitter.interactive_split(ratings)\n",
    "\n",
    "x_train, y_train, x_test, y_test = format_data(split_df[0], split_df[1], 'movielens')\n",
    "\n"
   ]
  },
  {
   "cell_type": "code",
   "execution_count": 37,
   "metadata": {},
   "outputs": [
    {
     "data": {
      "text/plain": [
       "[       userID  itemID  rating\n",
       " 0           0      30       1\n",
       " 1           0      38       1\n",
       " 2           0     162       1\n",
       " 3           0     225       1\n",
       " 4           0     168       1\n",
       " ...       ...     ...     ...\n",
       " 79994     942       1       1\n",
       " 79995     942    1187       1\n",
       " 79996     942     940       1\n",
       " 79997     942      37       1\n",
       " 79998     942     228       1\n",
       " \n",
       " [79999 rows x 3 columns],\n",
       "        userID  itemID  rating\n",
       " 0           0     241       1\n",
       " 1           0     154       1\n",
       " 2           0     112       1\n",
       " 3           0     232       1\n",
       " 4           0      57       1\n",
       " ...       ...     ...     ...\n",
       " 19995     942     823       1\n",
       " 19996     942     731       1\n",
       " 19997     942     273       1\n",
       " 19998     942      63       1\n",
       " 19999     942     420       1\n",
       " \n",
       " [20000 rows x 3 columns]]"
      ]
     },
     "execution_count": 37,
     "metadata": {},
     "output_type": "execute_result"
    }
   ],
   "source": [
    "split_df"
   ]
  },
  {
   "cell_type": "code",
   "execution_count": 38,
   "metadata": {},
   "outputs": [
    {
     "name": "stdout",
     "output_type": "stream",
     "text": [
      "Training Matrix Factorization Model ...\n",
      "k=10 \t alpha=0.001 \t lambda=1.5\n",
      "epoch 1/10 - loss : 1.033 - val_loss : 1.053\n",
      "epoch 2/10 - loss : 0.852 - val_loss : 0.876\n",
      "epoch 3/10 - loss : 0.772 - val_loss : 0.795\n",
      "epoch 4/10 - loss : 0.734 - val_loss : 0.755\n",
      "epoch 5/10 - loss : 0.715 - val_loss : 0.734\n",
      "epoch 6/10 - loss : 0.705 - val_loss : 0.721\n",
      "epoch 7/10 - loss : 0.699 - val_loss : 0.713\n",
      "epoch 8/10 - loss : 0.695 - val_loss : 0.708\n",
      "epoch 9/10 - loss : 0.693 - val_loss : 0.705\n",
      "epoch 10/10 - loss : 0.692 - val_loss : 0.702\n"
     ]
    }
   ],
   "source": [
    "\n",
    "MF = MatrixFactorization(m, n, k=10, alpha=0.001, lamb=1.5)\n",
    "\n",
    "history = MF.fit(x_train, y_train, epochs=10, validation_data=(x_test, y_test), loss='bce')\n",
    "\n"
   ]
  },
  {
   "cell_type": "code",
   "execution_count": 39,
   "metadata": {},
   "outputs": [
    {
     "name": "stdout",
     "output_type": "stream",
     "text": [
      "validation error : 1.011\n"
     ]
    },
    {
     "data": {
      "text/plain": [
       "1.0109938552713944"
      ]
     },
     "execution_count": 39,
     "metadata": {},
     "output_type": "execute_result"
    }
   ],
   "source": [
    "MF.evaluate(x_test, y_test)\n"
   ]
  },
  {
   "cell_type": "markdown",
   "metadata": {},
   "source": [
    "### Sample Negative Data ###"
   ]
  },
  {
   "cell_type": "code",
   "execution_count": 40,
   "metadata": {},
   "outputs": [],
   "source": [
    "import numpy as np\n",
    "import pandas as pd\n",
    "\n",
    "def generate_negative_samples(df, num_users, num_items, neg_ratio=1):\n",
    "    \"\"\"\n",
    "    Generate negative samples for user-item pairs.\n",
    "    Args:\n",
    "        df: DataFrame with 'user' and 'item' columns for positive samples.\n",
    "        num_users: Total number of users.\n",
    "        num_items: Total number of items.\n",
    "        neg_ratio: Ratio of negative samples to positive samples.\n",
    "    Returns:\n",
    "        DataFrame with both positive and negative samples.\n",
    "    \"\"\"\n",
    "    positive_pairs = set(zip(df['userID'], df['itemID']))\n",
    "    all_users = np.arange(num_users)\n",
    "    all_items = np.arange(num_items)\n",
    "    \n",
    "    negative_samples = []\n",
    "    for user, item in positive_pairs:\n",
    "        for _ in range(neg_ratio):\n",
    "            neg_item = np.random.choice(all_items)\n",
    "            while (user, neg_item) in positive_pairs:  # Avoid duplicates\n",
    "                neg_item = np.random.choice(all_items)\n",
    "            negative_samples.append((user, neg_item, 0))\n",
    "    \n",
    "    negative_df = pd.DataFrame(negative_samples, columns=['userID', 'itemID', 'rating'])\n",
    "    positive_df = df.copy()\n",
    "    positive_df['rating'] = 1\n",
    "    \n",
    "    return pd.concat([positive_df, negative_df]).sample(frac=1).reset_index(drop=True)\n"
   ]
  },
  {
   "cell_type": "code",
   "execution_count": 41,
   "metadata": {},
   "outputs": [],
   "source": [
    "# Generate a balanced dataset with negative samples\n",
    "dataset = generate_negative_samples(ratings, n, m, neg_ratio=3)\n"
   ]
  },
  {
   "cell_type": "code",
   "execution_count": 42,
   "metadata": {},
   "outputs": [
    {
     "name": "stderr",
     "output_type": "stream",
     "text": [
      "/home/vinmike/.local/lib/python3.10/site-packages/numpy/core/fromnumeric.py:59: FutureWarning: 'DataFrame.swapaxes' is deprecated and will be removed in a future version. Please use 'DataFrame.transpose' instead.\n",
      "  return bound(*args, **kwds)\n"
     ]
    }
   ],
   "source": [
    "split_df = splitter.random_split(dataset)\n",
    "x_train, y_train, x_test, y_test = format_data(split_df[0], split_df[1], 'movielens')\n"
   ]
  },
  {
   "cell_type": "code",
   "execution_count": 43,
   "metadata": {},
   "outputs": [
    {
     "name": "stdout",
     "output_type": "stream",
     "text": [
      "Training Matrix Factorization Model ...\n",
      "k=10 \t alpha=0.001 \t lambda=1.5\n",
      "epoch 1/10 - loss : 0.797 - val_loss : 0.792\n",
      "epoch 2/10 - loss : 0.714 - val_loss : 0.712\n",
      "epoch 3/10 - loss : 0.699 - val_loss : 0.697\n",
      "epoch 4/10 - loss : 0.695 - val_loss : 0.694\n",
      "epoch 5/10 - loss : 0.694 - val_loss : 0.693\n",
      "epoch 6/10 - loss : 0.693 - val_loss : 0.693\n",
      "epoch 7/10 - loss : 0.693 - val_loss : 0.693\n",
      "epoch 8/10 - loss : 0.693 - val_loss : 0.693\n",
      "epoch 9/10 - loss : 0.693 - val_loss : 0.693\n",
      "epoch 10/10 - loss : 0.693 - val_loss : 0.693\n"
     ]
    }
   ],
   "source": [
    "\n",
    "\n",
    "MF = MatrixFactorization(m, n, k=10, alpha=0.001, lamb=1.5)\n",
    "\n",
    "history = MF.fit(x_train, y_train, epochs=10, validation_data=(x_test, y_test), loss='bce')\n",
    "\n"
   ]
  },
  {
   "cell_type": "code",
   "execution_count": 44,
   "metadata": {},
   "outputs": [
    {
     "name": "stdout",
     "output_type": "stream",
     "text": [
      "validation error : 0.249\n"
     ]
    },
    {
     "data": {
      "text/plain": [
       "0.2488126468168498"
      ]
     },
     "execution_count": 44,
     "metadata": {},
     "output_type": "execute_result"
    }
   ],
   "source": [
    "MF.evaluate(x_test, y_test)\n"
   ]
  },
  {
   "cell_type": "markdown",
   "metadata": {},
   "source": [
    "***MIND***"
   ]
  },
  {
   "cell_type": "code",
   "execution_count": 3,
   "metadata": {},
   "outputs": [
    {
     "name": "stderr",
     "output_type": "stream",
     "text": [
      "100%|██████████| 51.8k/51.8k [04:15<00:00, 203KB/s]   \n",
      "100%|██████████| 30.2k/30.2k [03:51<00:00, 131KB/s]  \n"
     ]
    },
    {
     "name": "stdout",
     "output_type": "stream",
     "text": [
      "/home/vinmike/Documents/GitHub/LLM4Rec-Dataloader/data/MINDsmall_train/behaviors.tsv\n",
      "/home/vinmike/Documents/GitHub/LLM4Rec-Dataloader/data/MINDsmall_dev/behaviors.tsv\n",
      "/home/vinmike/Documents/GitHub/LLM4Rec-Dataloader/data/MINDsmall_train/news.tsv\n",
      "/home/vinmike/Documents/GitHub/LLM4Rec-Dataloader/data/MINDsmall_dev/news.tsv\n",
      "\n"
     ]
    }
   ],
   "source": [
    "behaviors_train_df, behaviors_dev_df, news_train_df, news_dev_df = mind.load_pandas_df('small')\n"
   ]
  },
  {
   "cell_type": "code",
   "execution_count": null,
   "metadata": {},
   "outputs": [],
   "source": []
  },
  {
   "cell_type": "code",
   "execution_count": 4,
   "metadata": {},
   "outputs": [],
   "source": [
    "train_df, uencoder, iencoder = preprocess_mind_data(behaviors_train_df)\n"
   ]
  },
  {
   "cell_type": "code",
   "execution_count": 5,
   "metadata": {},
   "outputs": [],
   "source": [
    "dev_df, _, _ = preprocess_mind_data(behaviors_dev_df)\n"
   ]
  },
  {
   "cell_type": "code",
   "execution_count": 6,
   "metadata": {},
   "outputs": [
    {
     "data": {
      "text/html": [
       "<div>\n",
       "<style scoped>\n",
       "    .dataframe tbody tr th:only-of-type {\n",
       "        vertical-align: middle;\n",
       "    }\n",
       "\n",
       "    .dataframe tbody tr th {\n",
       "        vertical-align: top;\n",
       "    }\n",
       "\n",
       "    .dataframe thead th {\n",
       "        text-align: right;\n",
       "    }\n",
       "</style>\n",
       "<table border=\"1\" class=\"dataframe\">\n",
       "  <thead>\n",
       "    <tr style=\"text-align: right;\">\n",
       "      <th></th>\n",
       "      <th>userID</th>\n",
       "      <th>itemID</th>\n",
       "      <th>rating</th>\n",
       "    </tr>\n",
       "  </thead>\n",
       "  <tbody>\n",
       "    <tr>\n",
       "      <th>0</th>\n",
       "      <td>2246</td>\n",
       "      <td>30687</td>\n",
       "      <td>1</td>\n",
       "    </tr>\n",
       "    <tr>\n",
       "      <th>1</th>\n",
       "      <td>2246</td>\n",
       "      <td>22278</td>\n",
       "      <td>1</td>\n",
       "    </tr>\n",
       "    <tr>\n",
       "      <th>2</th>\n",
       "      <td>2246</td>\n",
       "      <td>16757</td>\n",
       "      <td>1</td>\n",
       "    </tr>\n",
       "    <tr>\n",
       "      <th>3</th>\n",
       "      <td>2246</td>\n",
       "      <td>24335</td>\n",
       "      <td>1</td>\n",
       "    </tr>\n",
       "    <tr>\n",
       "      <th>4</th>\n",
       "      <td>2246</td>\n",
       "      <td>5680</td>\n",
       "      <td>1</td>\n",
       "    </tr>\n",
       "    <tr>\n",
       "      <th>...</th>\n",
       "      <td>...</td>\n",
       "      <td>...</td>\n",
       "      <td>...</td>\n",
       "    </tr>\n",
       "    <tr>\n",
       "      <th>9506457</th>\n",
       "      <td>20362</td>\n",
       "      <td>18956</td>\n",
       "      <td>1</td>\n",
       "    </tr>\n",
       "    <tr>\n",
       "      <th>9506458</th>\n",
       "      <td>20362</td>\n",
       "      <td>7229</td>\n",
       "      <td>1</td>\n",
       "    </tr>\n",
       "    <tr>\n",
       "      <th>9506459</th>\n",
       "      <td>32251</td>\n",
       "      <td>8857</td>\n",
       "      <td>1</td>\n",
       "    </tr>\n",
       "    <tr>\n",
       "      <th>9506460</th>\n",
       "      <td>32251</td>\n",
       "      <td>26331</td>\n",
       "      <td>1</td>\n",
       "    </tr>\n",
       "    <tr>\n",
       "      <th>9506461</th>\n",
       "      <td>32251</td>\n",
       "      <td>16158</td>\n",
       "      <td>1</td>\n",
       "    </tr>\n",
       "  </tbody>\n",
       "</table>\n",
       "<p>9506462 rows × 3 columns</p>\n",
       "</div>"
      ],
      "text/plain": [
       "         userID  itemID rating\n",
       "0          2246   30687      1\n",
       "1          2246   22278      1\n",
       "2          2246   16757      1\n",
       "3          2246   24335      1\n",
       "4          2246    5680      1\n",
       "...         ...     ...    ...\n",
       "9506457   20362   18956      1\n",
       "9506458   20362    7229      1\n",
       "9506459   32251    8857      1\n",
       "9506460   32251   26331      1\n",
       "9506461   32251   16158      1\n",
       "\n",
       "[9506462 rows x 3 columns]"
      ]
     },
     "execution_count": 6,
     "metadata": {},
     "output_type": "execute_result"
    }
   ],
   "source": [
    "train_df"
   ]
  },
  {
   "cell_type": "code",
   "execution_count": null,
   "metadata": {},
   "outputs": [
    {
     "data": {
      "text/plain": [
       "50000"
      ]
     },
     "execution_count": 8,
     "metadata": {},
     "output_type": "execute_result"
    }
   ],
   "source": [
    "\n",
    "m = train_df[\"userID\"].nunique()   # total number of users\n",
    "n = train_df[\"itemID\"].nunique()   # total number of items\n"
   ]
  },
  {
   "cell_type": "code",
   "execution_count": 9,
   "metadata": {},
   "outputs": [],
   "source": [
    "x_train, y_train, x_test, y_test = format_data(train_df, dev_df, 'mind')\n"
   ]
  },
  {
   "cell_type": "code",
   "execution_count": 11,
   "metadata": {},
   "outputs": [
    {
     "name": "stdout",
     "output_type": "stream",
     "text": [
      "Training Matrix Factorization Model ...\n",
      "k=50 \t alpha=0.01 \t lambda=1.5\n",
      "epoch 1/10 - loss : nan - val_loss : nan\n",
      "epoch 2/10 - loss : nan - val_loss : nan\n",
      "epoch 3/10 - loss : nan - val_loss : nan\n",
      "epoch 4/10 - loss : nan - val_loss : nan\n",
      "epoch 5/10 - loss : nan - val_loss : nan\n",
      "epoch 6/10 - loss : nan - val_loss : nan\n",
      "epoch 7/10 - loss : nan - val_loss : nan\n",
      "epoch 8/10 - loss : nan - val_loss : nan\n",
      "epoch 9/10 - loss : nan - val_loss : nan\n",
      "epoch 10/10 - loss : nan - val_loss : nan\n"
     ]
    }
   ],
   "source": [
    "# Instantiate and train the model\n",
    "MF = MatrixFactorization(m, n, k=50, alpha=0.01, lamb=1.5)\n",
    "history = MF.fit(x_train, y_train, epochs=10, validation_data=(x_test, y_test))\n",
    "\n"
   ]
  },
  {
   "cell_type": "code",
   "execution_count": null,
   "metadata": {},
   "outputs": [],
   "source": [
    "# Evaluate the model\n",
    "MF.evaluate(x_test, y_test)"
   ]
  }
 ],
 "metadata": {
  "kernelspec": {
   "display_name": "Python 3",
   "language": "python",
   "name": "python3"
  },
  "language_info": {
   "codemirror_mode": {
    "name": "ipython",
    "version": 3
   },
   "file_extension": ".py",
   "mimetype": "text/x-python",
   "name": "python",
   "nbconvert_exporter": "python",
   "pygments_lexer": "ipython3",
   "version": "3.10.12"
  }
 },
 "nbformat": 4,
 "nbformat_minor": 2
}
