{
  "cells": [
    {
      "cell_type": "code",
      "execution_count": null,
      "metadata": {
        "colab": {
          "base_uri": "https://localhost:8080/"
        },
        "id": "Jb2bDxXnL4Ot",
        "outputId": "a09298fe-82eb-4267-ffce-ac2fb925eec0"
      },
      "outputs": [
        {
          "name": "stdout",
          "output_type": "stream",
          "text": [
            "Mounted at /content/drive\n"
          ]
        }
      ],
      "source": [
        "from google.colab import drive\n",
        "drive.mount('/content/drive')"
      ]
    },
    {
      "cell_type": "code",
      "execution_count": null,
      "metadata": {
        "id": "E7i79ErILbl8"
      },
      "outputs": [],
      "source": [
        "import pandas as pd\n",
        "from tqdm import tqdm\n",
        "from nltk.tokenize import word_tokenize\n",
        "from collections import Counter\n",
        "import numpy as np\n",
        "import random\n",
        "import logging\n",
        "import os\n",
        "import torch.optim as optim\n",
        "import torch.distributed as dist\n",
        "from torch.utils.data import DataLoader\n",
        "from pathlib import Path\n",
        "\n"
      ]
    },
    {
      "cell_type": "code",
      "execution_count": null,
      "metadata": {
        "id": "WxUXYhf2MjaM"
      },
      "outputs": [],
      "source": [
        "\n",
        "from dataclasses import dataclass\n",
        "from typing import Optional\n",
        "\n",
        "@dataclass\n",
        "class Args:\n",
        "    nGPU: int = 1\n",
        "    seed: int = 0\n",
        "    prepare: bool = True\n",
        "    mode: str = \"train\"\n",
        "    train_data_dir: str = \"/content/drive/MyDrive/Colab Notebooks/NewsRecommendation/data/MINDsmall_train\"\n",
        "    test_data_dir: str = \"/content/drive/MyDrive/Colab Notebooks/NewsRecommendation/data/MINDsmall_dev\"\n",
        "    train_abstract_dir: str = '/content/genAbs0.json'\n",
        "    # \"/content/drive/MyDrive/Colab Notebooks/NewsRecommendation/data/train_gen_abs.json\"\n",
        "    test_abstract_dir: str = '/content/genAbs0.json'\n",
        "    # \"/content/drive/MyDrive/Colab Notebooks/NewsRecommendation/data/Dev_gen_abs.json\"\n",
        "    model_dir: str = '/content/drive/MyDrive/Colab Notebooks/NewsRecommendation/NRMS_title'\n",
        "    batch_size: int = 32\n",
        "    npratio: int = 4\n",
        "    enable_gpu: bool = True\n",
        "    filter_num: int = 3\n",
        "    log_steps: int = 100\n",
        "    epochs: int = 5\n",
        "    lr: float = 0.0003\n",
        "    num_words_title: int = 20\n",
        "    num_words_abstract: int = 50\n",
        "    user_log_length: int = 50\n",
        "    word_embedding_dim: int = 300\n",
        "    glove_embedding_path: str = '/content/drive/MyDrive/Colab Notebooks/NewsRecommendation/data/glove.840B.300d.txt'\n",
        "    freeze_embedding: bool = False\n",
        "    news_dim: int = 300\n",
        "    news_query_vector_dim: int = 200\n",
        "    user_query_vector_dim: int = 200\n",
        "    num_attention_heads: int = 15\n",
        "    user_log_mask: bool = False\n",
        "    drop_rate: float = 0.2\n",
        "    save_steps: int = 10000\n",
        "    start_epoch: int = 0\n",
        "    load_ckpt_name: Optional[str] = None\n",
        "    use_category: bool = True\n",
        "    use_subcategory: bool = True\n",
        "    use_abstract: bool = True\n",
        "    use_custom_abstract: bool = True\n",
        "    category_emb_dim: int = 100\n",
        "    num_users = 1 + 50000\n",
        "    num_categories = 1 + 274\n",
        "\n",
        "def parse_args():\n",
        "  return Args()\n"
      ]
    },
    {
      "cell_type": "markdown",
      "metadata": {
        "id": "s_SLKbAZpKFK"
      },
      "source": [
        "**Dataset.py**"
      ]
    },
    {
      "cell_type": "code",
      "execution_count": null,
      "metadata": {
        "id": "pqMrlk2u-Hiv"
      },
      "outputs": [],
      "source": [
        "from torch.utils.data import IterableDataset, Dataset\n",
        "import numpy as np\n",
        "import random\n",
        "\n",
        "\n",
        "class DatasetTrain(IterableDataset):\n",
        "    def __init__(self, filename, news_index, news_combined, args):\n",
        "        super(DatasetTrain).__init__()\n",
        "        self.filename = filename\n",
        "        self.news_index = news_index\n",
        "        self.news_combined = news_combined\n",
        "        self.args = args\n",
        "\n",
        "    def trans_to_nindex(self, nids):\n",
        "        return [int(self.news_index[i]) if i in self.news_index else 0 for i in nids]\n",
        "\n",
        "    def pad_to_fix_len(self, x, fix_length, padding_front=True, padding_value=0):\n",
        "        if padding_front:\n",
        "            pad_x = [padding_value] * (fix_length - len(x)) + x[-fix_length:]\n",
        "            mask = [0] * (fix_length - len(x)) + [1] * min(fix_length, len(x))\n",
        "        else:\n",
        "            pad_x = x[-fix_length:] + [padding_value] * (fix_length - len(x))\n",
        "            mask = [1] * min(fix_length, len(x)) + [0] * (fix_length - len(x))\n",
        "        return pad_x, np.array(mask, dtype='float32')\n",
        "\n",
        "    def line_mapper(self, line):\n",
        "        line = line.strip().split('\\t')\n",
        "        click_docs = line[3].split()\n",
        "        sess_pos = line[4].split()\n",
        "        sess_neg = line[5].split()\n",
        "\n",
        "        click_docs, _ = self.pad_to_fix_len(self.trans_to_nindex(click_docs), self.args.user_log_length)\n",
        "        user_feature = self.news_combined[click_docs]\n",
        "\n",
        "        pos = self.trans_to_nindex(sess_pos)\n",
        "        neg = self.trans_to_nindex(sess_neg)\n",
        "\n",
        "        label = random.randint(0, self.args.npratio)\n",
        "        sample_news = neg[:label] + pos + neg[label:]\n",
        "        news_feature = self.news_combined[sample_news]\n",
        "\n",
        "        return user_feature, news_feature, label\n",
        "\n",
        "    def __iter__(self):\n",
        "        file_iter = open(self.filename)\n",
        "        return map(self.line_mapper, file_iter)\n",
        "\n",
        "\n",
        "class DatasetTest(DatasetTrain):\n",
        "    def __init__(self, filename, news_index, news_scoring, args):\n",
        "        super(DatasetTrain).__init__()\n",
        "        self.filename = filename\n",
        "        self.news_index = news_index\n",
        "        self.news_scoring = news_scoring\n",
        "        self.args = args\n",
        "\n",
        "    def line_mapper(self, line):\n",
        "        line = line.strip().split('\\t')\n",
        "        click_docs = line[3].split()\n",
        "        click_docs, log_mask = self.pad_to_fix_len(self.trans_to_nindex(click_docs), self.args.user_log_length)\n",
        "        user_feature = self.news_scoring[click_docs]\n",
        "\n",
        "        candidate_news = self.trans_to_nindex([i.split('-')[0] for i in line[4].split()])\n",
        "        labels = np.array([int(i.split('-')[1]) for i in line[4].split()])\n",
        "        news_feature = self.news_scoring[candidate_news]\n",
        "\n",
        "        return user_feature, news_feature, labels\n",
        "\n",
        "    def __iter__(self):\n",
        "        file_iter = open(self.filename)\n",
        "        return map(self.line_mapper, file_iter)\n",
        "\n",
        "\n",
        "class NewsDataset(Dataset):\n",
        "    def __init__(self, data):\n",
        "        self.data = data\n",
        "\n",
        "    def __getitem__(self, idx):\n",
        "        return self.data[idx]\n",
        "\n",
        "    def __len__(self):\n",
        "        return self.data.shape[0]\n"
      ]
    },
    {
      "cell_type": "markdown",
      "metadata": {
        "id": "J1IjisEE-LHb"
      },
      "source": [
        "**Metric.py**"
      ]
    },
    {
      "cell_type": "code",
      "execution_count": null,
      "metadata": {
        "id": "ppd8qdG1-Nr3"
      },
      "outputs": [],
      "source": [
        "from sklearn.metrics import roc_auc_score\n",
        "import numpy as np\n",
        "\n",
        "\n",
        "def dcg_score(y_true, y_score, k=10):\n",
        "    order = np.argsort(y_score)[::-1]\n",
        "    y_true = np.take(y_true, order[:k])\n",
        "    gains = 2**y_true - 1\n",
        "    discounts = np.log2(np.arange(len(y_true)) + 2)\n",
        "    return np.sum(gains / discounts)\n",
        "\n",
        "\n",
        "def ndcg_score(y_true, y_score, k=10):\n",
        "    best = dcg_score(y_true, y_true, k)\n",
        "    actual = dcg_score(y_true, y_score, k)\n",
        "    return actual / best\n",
        "\n",
        "\n",
        "def mrr_score(y_true, y_score):\n",
        "    order = np.argsort(y_score)[::-1]\n",
        "    y_true = np.take(y_true, order)\n",
        "    rr_score = y_true / (np.arange(len(y_true)) + 1)\n",
        "    return np.sum(rr_score) / np.sum(y_true)\n",
        "\n",
        "\n",
        "def ctr_score(y_true, y_score, k=1):\n",
        "    order = np.argsort(y_score)[::-1]\n",
        "    y_true = np.take(y_true, order[:k])\n",
        "    return np.mean(y_true)\n",
        "\n",
        "def acc(y_true, y_hat):\n",
        "    y_hat = torch.argmax(y_hat, dim=-1)\n",
        "    tot = y_true.shape[0]\n",
        "    hit = torch.sum(y_true == y_hat)\n",
        "    return hit.data.float() * 1.0 / tot\n",
        "\n"
      ]
    },
    {
      "cell_type": "markdown",
      "metadata": {
        "id": "D1ZeoY8x-5Ds"
      },
      "source": [
        "**Ultis.py**"
      ]
    },
    {
      "cell_type": "code",
      "execution_count": null,
      "metadata": {
        "id": "Dfr-ri4E-s3M"
      },
      "outputs": [],
      "source": [
        "import logging\n",
        "import argparse\n",
        "import sys\n",
        "\n",
        "def setuplogger():\n",
        "    root = logging.getLogger()\n",
        "    root.setLevel(logging.INFO)\n",
        "    handler = logging.StreamHandler(sys.stdout)\n",
        "    handler.setLevel(logging.INFO)\n",
        "    formatter = logging.Formatter(\"[%(levelname)s %(asctime)s] %(message)s\")\n",
        "    handler.setFormatter(formatter)\n",
        "    root.addHandler(handler)\n",
        "\n",
        "\n",
        "def dump_args(args):\n",
        "    for arg in dir(args):\n",
        "        if not arg.startswith(\"_\"):\n",
        "            logging.info(f\"args[{arg}]={getattr(args, arg)}\")\n",
        "\n",
        "def load_matrix(embedding_file_path, word_dict, word_embedding_dim):\n",
        "    embedding_matrix = np.zeros(shape=(len(word_dict) + 1, word_embedding_dim))\n",
        "    have_word = []\n",
        "    if embedding_file_path is not None:\n",
        "        with open(embedding_file_path, 'rb') as f:\n",
        "            while True:\n",
        "                line = f.readline()\n",
        "                if len(line) == 0:\n",
        "                    break\n",
        "                line = line.split()\n",
        "                word = line[0].decode()\n",
        "                if word in word_dict:\n",
        "                    index = word_dict[word]\n",
        "                    tp = [float(x) for x in line[1:]]\n",
        "                    embedding_matrix[index] = np.array(tp)\n",
        "                    have_word.append(word)\n",
        "    return embedding_matrix, have_word\n",
        "\n",
        "\n",
        "def get_checkpoint(directory, ckpt_name):\n",
        "    ckpt_path = os.path.join(directory, ckpt_name)\n",
        "    if os.path.exists(ckpt_path):\n",
        "        return ckpt_path\n",
        "    else:\n",
        "        return None\n"
      ]
    },
    {
      "cell_type": "markdown",
      "metadata": {
        "id": "pqNlsklUAi48"
      },
      "source": [
        "**preprocess.py**"
      ]
    },
    {
      "cell_type": "code",
      "execution_count": null,
      "metadata": {
        "id": "_Ja_pvD0AYwg"
      },
      "outputs": [],
      "source": [
        "from collections import Counter\n",
        "from tqdm import tqdm\n",
        "import numpy as np\n",
        "from nltk.tokenize import word_tokenize\n",
        "import json\n",
        "\n",
        "\n",
        "def update_dict(dict, key, value=None):\n",
        "    if key not in dict:\n",
        "        if value is None:\n",
        "            dict[key] = len(dict) + 1\n",
        "        else:\n",
        "            dict[key] = value\n",
        "\n",
        "\n",
        "def read_custom_abstract(news_file, custom_abstract_dict):\n",
        "    news = {}\n",
        "    news_index = {}\n",
        "    category_dict = {}\n",
        "    subcategory_dict = {}\n",
        "    word_cnt = {}\n",
        "\n",
        "    with open(news_file, 'r', encoding='utf-8') as f:\n",
        "        for line in f:\n",
        "            splited = line.strip('\\n').split('\\t')\n",
        "            doc_id, category, subcategory, title, abstract, url, entity_title, entity_abstract = splited\n",
        "            if doc_id in custom_abstract_dict:\n",
        "                abstract = custom_abstract_dict[doc_id]\n",
        "            news[doc_id] = [title.split(' '), category, subcategory, abstract.split(' ')]\n",
        "            news_index[doc_id] = len(news_index) + 1\n",
        "            for word in title.split(' '):\n",
        "                if word not in word_cnt:\n",
        "                    word_cnt[word] = 0\n",
        "                word_cnt[word] += 1\n",
        "            for word in abstract.split(' '):\n",
        "                if word not in word_cnt:\n",
        "                    word_cnt[word] = 0\n",
        "                word_cnt[word] += 1\n",
        "            if category not in category_dict:\n",
        "                category_dict[category] = len(category_dict) + 1\n",
        "            if subcategory not in subcategory_dict:\n",
        "                subcategory_dict[subcategory] = len(subcategory_dict) + 1\n",
        "\n",
        "    return news, news_index, category_dict, subcategory_dict, word_cnt\n",
        "\n",
        "def read_news(news_path, abstract_path, args, mode='train'):\n",
        "    news = {}\n",
        "    category_dict = {}\n",
        "    subcategory_dict = {}\n",
        "    news_index = {}\n",
        "    word_cnt = Counter()\n",
        "    if args.use_custom_abstract:\n",
        "      with open(abstract_path, 'r') as f:\n",
        "          abs = json.load(f)\n",
        "    with open(news_path, 'r', encoding='utf-8') as f:\n",
        "        for line in tqdm(f):\n",
        "            splited = line.strip('\\n').split('\\t')\n",
        "            doc_id, category, subcategory, title, abstract, url, _, _ = splited\n",
        "            update_dict(news_index, doc_id)\n",
        "\n",
        "            title = title.lower()\n",
        "            title = word_tokenize(title, language='english', preserve_line=True)\n",
        "\n",
        "            update_dict(news, doc_id, [title, category, subcategory, abs[doc_id] if doc_id in abs else abstract])\n",
        "            if mode == 'train':\n",
        "                if args.use_category:\n",
        "                    update_dict(category_dict, category)\n",
        "                if args.use_subcategory:\n",
        "                    update_dict(subcategory_dict, subcategory)\n",
        "                word_cnt.update(title)\n",
        "\n",
        "    if mode == 'train':\n",
        "        word = [k for k, v in word_cnt.items() if v > args.filter_num]\n",
        "        word_dict = {k: v for k, v in zip(word, range(1, len(word) + 1))}\n",
        "        return news, news_index, category_dict, subcategory_dict, word_dict\n",
        "    elif mode == 'test':\n",
        "        return news, news_index\n",
        "    else:\n",
        "        assert False, 'Wrong mode!'\n",
        "\n",
        "\n",
        "def get_doc_input(news, news_index, category_dict, subcategory_dict, word_dict, args):\n",
        "    news_num = len(news) + 1\n",
        "    news_title = np.zeros((news_num, args.num_words_title), dtype='int32')\n",
        "    news_category = np.zeros((news_num, 1), dtype='int32') if args.use_category else None\n",
        "    news_subcategory = np.zeros((news_num, 1), dtype='int32') if args.use_subcategory else None\n",
        "    news_abstract = np.zeros((news_num, args.num_words_abstract), dtype='int32') if args.use_abstract else None\n",
        "\n",
        "    for key in tqdm(news):\n",
        "        title, category, subcategory, abstract = news[key]\n",
        "        doc_index = news_index[key]\n",
        "\n",
        "        for word_id in range(min(args.num_words_title, len(title))):\n",
        "            if title[word_id] in word_dict:\n",
        "                news_title[doc_index, word_id] = word_dict[title[word_id]]\n",
        "\n",
        "        if args.use_category:\n",
        "            news_category[doc_index, 0] = category_dict[category] if category in category_dict else 0\n",
        "        if args.use_subcategory:\n",
        "            news_subcategory[doc_index, 0] = subcategory_dict[subcategory] if subcategory in subcategory_dict else 0\n",
        "        if args.use_abstract:\n",
        "            for word_id in range(min(args.num_words_abstract, len(abstract))):\n",
        "                if abstract[word_id] in word_dict:\n",
        "                    news_abstract[doc_index, word_id] = word_dict[abstract[word_id]]\n",
        "\n",
        "    return news_title, news_category, news_subcategory, news_abstract"
      ]
    },
    {
      "cell_type": "code",
      "execution_count": null,
      "metadata": {
        "id": "MambLdtFlSxi"
      },
      "outputs": [],
      "source": []
    },
    {
      "cell_type": "code",
      "execution_count": null,
      "metadata": {
        "id": "zXd8SNmIm34q"
      },
      "outputs": [],
      "source": []
    },
    {
      "cell_type": "markdown",
      "metadata": {
        "id": "xu43E3_6AqAA"
      },
      "source": [
        "**prepare_data.py**"
      ]
    },
    {
      "cell_type": "code",
      "execution_count": null,
      "metadata": {
        "id": "5Qzn9-0kAuFF"
      },
      "outputs": [],
      "source": [
        "import os\n",
        "from tqdm import tqdm\n",
        "import random\n",
        "import logging\n",
        "\n",
        "\n",
        "def get_sample(all_elements, num_sample):\n",
        "    if num_sample > len(all_elements):\n",
        "        return random.sample(all_elements * (num_sample // len(all_elements) + 1), num_sample)\n",
        "    else:\n",
        "        return random.sample(all_elements, num_sample)\n",
        "\n",
        "\n",
        "def prepare_training_data(train_data_dir, nGPU, npratio, seed):\n",
        "    random.seed(seed)\n",
        "    behaviors = []\n",
        "\n",
        "    behavior_file_path = os.path.join(train_data_dir, 'behaviors.tsv')\n",
        "    with open(behavior_file_path, 'r', encoding='utf-8') as f:\n",
        "        for line in tqdm(f):\n",
        "            iid, uid, time, history, imp = line.strip().split('\\t')\n",
        "            impressions = [x.split('-') for x in imp.split(' ')]\n",
        "            pos, neg = [], []\n",
        "            for news_ID, label in impressions:\n",
        "                if label == '0':\n",
        "                    neg.append(news_ID)\n",
        "                elif label == '1':\n",
        "                    pos.append(news_ID)\n",
        "            if len(pos) == 0 or len(neg) == 0:\n",
        "                continue\n",
        "            for pos_id in pos:\n",
        "                neg_candidate = get_sample(neg, npratio)\n",
        "                neg_str = ' '.join(neg_candidate)\n",
        "                new_line = '\\t'.join([iid, uid, time, history, pos_id, neg_str]) + '\\n'\n",
        "                behaviors.append(new_line)\n",
        "\n",
        "    random.shuffle(behaviors)\n",
        "\n",
        "    behaviors_per_file = [[] for _ in range(nGPU)]\n",
        "    for i, line in enumerate(behaviors):\n",
        "        behaviors_per_file[i % nGPU].append(line)\n",
        "\n",
        "    logging.info('Writing files...')\n",
        "    for i in range(nGPU):\n",
        "        processed_file_path = os.path.join(train_data_dir, f'behaviors_np{npratio}_{i}.tsv')\n",
        "        with open(processed_file_path, 'w') as f:\n",
        "            f.writelines(behaviors_per_file[i])\n",
        "\n",
        "    return len(behaviors)\n",
        "\n",
        "\n",
        "def prepare_testing_data(test_data_dir, nGPU):\n",
        "    behaviors = [[] for _ in range(nGPU)]\n",
        "\n",
        "    behavior_file_path = os.path.join(test_data_dir, 'behaviors.tsv')\n",
        "    with open(behavior_file_path, 'r', encoding='utf-8') as f:\n",
        "        for i, line in enumerate(tqdm(f)):\n",
        "            behaviors[i % nGPU].append(line)\n",
        "\n",
        "    logging.info('Writing files...')\n",
        "    for i in range(nGPU):\n",
        "        processed_file_path = os.path.join(test_data_dir, f'behaviors_{i}.tsv')\n",
        "        with open(processed_file_path, 'w') as f:\n",
        "            f.writelines(behaviors[i])\n",
        "\n",
        "    return sum([len(x) for x in behaviors])\n"
      ]
    },
    {
      "cell_type": "code",
      "execution_count": null,
      "metadata": {
        "id": "VGYXTH1pMIBO"
      },
      "outputs": [],
      "source": [
        "def train(rank, args):\n",
        "\n",
        "    is_distributed = False\n",
        "    torch.cuda.set_device(rank)\n",
        "\n",
        "\n",
        "    news, news_index, category_dict, subcategory_dict, word_dict = read_news(\n",
        "        os.path.join(args.train_data_dir, 'news.tsv'), args.train_abstract_dir, args, mode='train')\n",
        "\n",
        "    news_title, news_category, news_subcategory, news_abstract = get_doc_input(\n",
        "        news, news_index, category_dict, subcategory_dict, word_dict, args)\n",
        "    news_combined = np.concatenate([x for x in [news_title, news_category, news_subcategory, news_abstract] if x is not None], axis=-1)\n",
        "\n",
        "    if rank == 0:\n",
        "        logging.info('Initializing word embedding matrix...')\n",
        "\n",
        "    embedding_matrix, have_word = load_matrix(args.glove_embedding_path,\n",
        "                                                    word_dict,\n",
        "                                                    args.word_embedding_dim)\n",
        "    if rank == 0:\n",
        "        logging.info(f'Word dict length: {len(word_dict)}')\n",
        "        logging.info(f'Have words: {len(have_word)}')\n",
        "        logging.info(f'Missing rate: {(len(word_dict) - len(have_word)) / len(word_dict)}')\n",
        "\n",
        "    model = Model(args, embedding_matrix, len(category_dict), len(subcategory_dict))\n",
        "\n",
        "    if args.load_ckpt_name is not None:\n",
        "        ckpt_path = get_checkpoint(args.model_dir, args.load_ckpt_name)\n",
        "        checkpoint = torch.load(ckpt_path, map_location='cpu')\n",
        "        model.load_state_dict(checkpoint['model_state_dict'])\n",
        "        logging.info(f\"Model loaded from {ckpt_path}.\")\n",
        "\n",
        "    optimizer = optim.Adam(model.parameters(), lr=args.lr)\n",
        "\n",
        "    if args.enable_gpu:\n",
        "        model = model.cuda(rank)\n",
        "\n",
        "    if is_distributed:\n",
        "        model = torch.nn.parallel.DistributedDataParallel(model, device_ids=[rank])\n",
        "\n",
        "    # if rank == 0:\n",
        "    #     print(model)\n",
        "    #     for name, param in model.named_parameters():\n",
        "    #         print(name, param.requires_grad)\n",
        "\n",
        "    data_file_path = os.path.join(args.train_data_dir, f'behaviors_np{args.npratio}_{rank}.tsv')\n",
        "\n",
        "    dataset = DatasetTrain(data_file_path, news_index, news_combined, args)\n",
        "    dataloader = DataLoader(dataset, batch_size=args.batch_size)\n",
        "\n",
        "    logging.info('Training...')\n",
        "    for ep in range(args.start_epoch, args.epochs):\n",
        "        loss = 0.0\n",
        "        accuary = 0.0\n",
        "        for cnt, (log_ids, log_mask, input_ids, targets) in enumerate(dataloader):\n",
        "            if args.enable_gpu:\n",
        "                log_ids = log_ids.cuda(rank, non_blocking=True)\n",
        "                log_mask = log_mask.cuda(rank, non_blocking=True)\n",
        "                input_ids = input_ids.cuda(rank, non_blocking=True)\n",
        "                targets = targets.cuda(rank, non_blocking=True)\n",
        "\n",
        "            bz_loss, y_hat = model(log_ids, log_mask, input_ids, targets)\n",
        "            loss += bz_loss.data.float()\n",
        "            accuary += acc(targets, y_hat)\n",
        "            optimizer.zero_grad()\n",
        "            bz_loss.backward()\n",
        "            optimizer.step()\n",
        "\n",
        "            if cnt % args.log_steps == 0:\n",
        "                logging.info(\n",
        "                    '[{}] Ed: {}, train_loss: {:.5f}, acc: {:.5f}'.format(\n",
        "                        rank, cnt * args.batch_size, loss.data / cnt, accuary / cnt)\n",
        "                )\n",
        "\n",
        "            if rank == 0 and     cnt != 0 and cnt % args.save_steps == 0:\n",
        "                ckpt_path = os.path.join(args.model_dir, f'epoch-{ep+1}-{cnt}.pt')\n",
        "                torch.save(\n",
        "                    {\n",
        "                        'model_state_dict':\n",
        "                            {'.'.join(k.split('.')[1:]): v for k, v in model.state_dict().items()}\n",
        "                            if is_distributed else model.state_dict(),\n",
        "                        'category_dict': category_dict,\n",
        "                        'word_dict': word_dict,\n",
        "                        'subcategory_dict': subcategory_dict\n",
        "                    }, ckpt_path)\n",
        "                logging.info(f\"Model saved to {ckpt_path}.\")\n",
        "\n",
        "        logging.info('Training finish.')\n",
        "\n",
        "        if rank == 0:\n",
        "            ckpt_path = os.path.join(args.model_dir, f'epoch-{ep+1}.pt')\n",
        "            torch.save(\n",
        "                {\n",
        "                    'model_state_dict':\n",
        "                        {'.'.join(k.split('.')[1:]): v for k, v in model.state_dict().items()}\n",
        "                        if is_distributed else model.state_dict(),\n",
        "                    'category_dict': category_dict,\n",
        "                    'subcategory_dict': subcategory_dict,\n",
        "                    'word_dict': word_dict,\n",
        "                }, ckpt_path)\n",
        "            logging.info(f\"Model saved to {ckpt_path}.\")\n",
        "\n"
      ]
    },
    {
      "cell_type": "code",
      "execution_count": null,
      "metadata": {
        "colab": {
          "base_uri": "https://localhost:8080/"
        },
        "id": "WgkOVqFzS6Uv",
        "outputId": "e14681ee-d8e3-4ffe-eccd-ee59f0746c48"
      },
      "outputs": [
        {
          "name": "stderr",
          "output_type": "stream",
          "text": [
            "INFO:root:args[batch_size]=32\n"
          ]
        },
        {
          "name": "stdout",
          "output_type": "stream",
          "text": [
            "[INFO 2025-03-03 13:13:17,645] args[batch_size]=32\n"
          ]
        },
        {
          "name": "stderr",
          "output_type": "stream",
          "text": [
            "INFO:root:args[category_emb_dim]=100\n"
          ]
        },
        {
          "name": "stdout",
          "output_type": "stream",
          "text": [
            "[INFO 2025-03-03 13:13:17,646] args[category_emb_dim]=100\n"
          ]
        },
        {
          "name": "stderr",
          "output_type": "stream",
          "text": [
            "INFO:root:args[drop_rate]=0.2\n"
          ]
        },
        {
          "name": "stdout",
          "output_type": "stream",
          "text": [
            "[INFO 2025-03-03 13:13:17,647] args[drop_rate]=0.2\n"
          ]
        },
        {
          "name": "stderr",
          "output_type": "stream",
          "text": [
            "INFO:root:args[enable_gpu]=True\n"
          ]
        },
        {
          "name": "stdout",
          "output_type": "stream",
          "text": [
            "[INFO 2025-03-03 13:13:17,648] args[enable_gpu]=True\n"
          ]
        },
        {
          "name": "stderr",
          "output_type": "stream",
          "text": [
            "INFO:root:args[epochs]=5\n"
          ]
        },
        {
          "name": "stdout",
          "output_type": "stream",
          "text": [
            "[INFO 2025-03-03 13:13:17,649] args[epochs]=5\n"
          ]
        },
        {
          "name": "stderr",
          "output_type": "stream",
          "text": [
            "INFO:root:args[filter_num]=3\n"
          ]
        },
        {
          "name": "stdout",
          "output_type": "stream",
          "text": [
            "[INFO 2025-03-03 13:13:17,650] args[filter_num]=3\n"
          ]
        },
        {
          "name": "stderr",
          "output_type": "stream",
          "text": [
            "INFO:root:args[freeze_embedding]=False\n"
          ]
        },
        {
          "name": "stdout",
          "output_type": "stream",
          "text": [
            "[INFO 2025-03-03 13:13:17,651] args[freeze_embedding]=False\n"
          ]
        },
        {
          "name": "stderr",
          "output_type": "stream",
          "text": [
            "INFO:root:args[glove_embedding_path]=/content/drive/MyDrive/Colab Notebooks/NewsRecommendation/data/glove.840B.300d.txt\n"
          ]
        },
        {
          "name": "stdout",
          "output_type": "stream",
          "text": [
            "[INFO 2025-03-03 13:13:17,652] args[glove_embedding_path]=/content/drive/MyDrive/Colab Notebooks/NewsRecommendation/data/glove.840B.300d.txt\n"
          ]
        },
        {
          "name": "stderr",
          "output_type": "stream",
          "text": [
            "INFO:root:args[load_ckpt_name]=None\n"
          ]
        },
        {
          "name": "stdout",
          "output_type": "stream",
          "text": [
            "[INFO 2025-03-03 13:13:17,653] args[load_ckpt_name]=None\n"
          ]
        },
        {
          "name": "stderr",
          "output_type": "stream",
          "text": [
            "INFO:root:args[log_steps]=100\n"
          ]
        },
        {
          "name": "stdout",
          "output_type": "stream",
          "text": [
            "[INFO 2025-03-03 13:13:17,654] args[log_steps]=100\n"
          ]
        },
        {
          "name": "stderr",
          "output_type": "stream",
          "text": [
            "INFO:root:args[lr]=0.0003\n"
          ]
        },
        {
          "name": "stdout",
          "output_type": "stream",
          "text": [
            "[INFO 2025-03-03 13:13:17,655] args[lr]=0.0003\n"
          ]
        },
        {
          "name": "stderr",
          "output_type": "stream",
          "text": [
            "INFO:root:args[mode]=train\n"
          ]
        },
        {
          "name": "stdout",
          "output_type": "stream",
          "text": [
            "[INFO 2025-03-03 13:13:17,656] args[mode]=train\n"
          ]
        },
        {
          "name": "stderr",
          "output_type": "stream",
          "text": [
            "INFO:root:args[model_dir]=/content/drive/MyDrive/Colab Notebooks/NewsRecommendation/NRMS_title\n"
          ]
        },
        {
          "name": "stdout",
          "output_type": "stream",
          "text": [
            "[INFO 2025-03-03 13:13:17,659] args[model_dir]=/content/drive/MyDrive/Colab Notebooks/NewsRecommendation/NRMS_title\n"
          ]
        },
        {
          "name": "stderr",
          "output_type": "stream",
          "text": [
            "INFO:root:args[nGPU]=1\n"
          ]
        },
        {
          "name": "stdout",
          "output_type": "stream",
          "text": [
            "[INFO 2025-03-03 13:13:17,660] args[nGPU]=1\n"
          ]
        },
        {
          "name": "stderr",
          "output_type": "stream",
          "text": [
            "INFO:root:args[news_dim]=300\n"
          ]
        },
        {
          "name": "stdout",
          "output_type": "stream",
          "text": [
            "[INFO 2025-03-03 13:13:17,661] args[news_dim]=300\n"
          ]
        },
        {
          "name": "stderr",
          "output_type": "stream",
          "text": [
            "INFO:root:args[news_query_vector_dim]=200\n"
          ]
        },
        {
          "name": "stdout",
          "output_type": "stream",
          "text": [
            "[INFO 2025-03-03 13:13:17,662] args[news_query_vector_dim]=200\n"
          ]
        },
        {
          "name": "stderr",
          "output_type": "stream",
          "text": [
            "INFO:root:args[npratio]=4\n"
          ]
        },
        {
          "name": "stdout",
          "output_type": "stream",
          "text": [
            "[INFO 2025-03-03 13:13:17,663] args[npratio]=4\n"
          ]
        },
        {
          "name": "stderr",
          "output_type": "stream",
          "text": [
            "INFO:root:args[num_attention_heads]=15\n"
          ]
        },
        {
          "name": "stdout",
          "output_type": "stream",
          "text": [
            "[INFO 2025-03-03 13:13:17,663] args[num_attention_heads]=15\n"
          ]
        },
        {
          "name": "stderr",
          "output_type": "stream",
          "text": [
            "INFO:root:args[num_categories]=275\n"
          ]
        },
        {
          "name": "stdout",
          "output_type": "stream",
          "text": [
            "[INFO 2025-03-03 13:13:17,664] args[num_categories]=275\n"
          ]
        },
        {
          "name": "stderr",
          "output_type": "stream",
          "text": [
            "INFO:root:args[num_users]=50001\n"
          ]
        },
        {
          "name": "stdout",
          "output_type": "stream",
          "text": [
            "[INFO 2025-03-03 13:13:17,665] args[num_users]=50001\n"
          ]
        },
        {
          "name": "stderr",
          "output_type": "stream",
          "text": [
            "INFO:root:args[num_words_abstract]=50\n"
          ]
        },
        {
          "name": "stdout",
          "output_type": "stream",
          "text": [
            "[INFO 2025-03-03 13:13:17,666] args[num_words_abstract]=50\n"
          ]
        },
        {
          "name": "stderr",
          "output_type": "stream",
          "text": [
            "INFO:root:args[num_words_title]=20\n"
          ]
        },
        {
          "name": "stdout",
          "output_type": "stream",
          "text": [
            "[INFO 2025-03-03 13:13:17,667] args[num_words_title]=20\n"
          ]
        },
        {
          "name": "stderr",
          "output_type": "stream",
          "text": [
            "INFO:root:args[prepare]=True\n"
          ]
        },
        {
          "name": "stdout",
          "output_type": "stream",
          "text": [
            "[INFO 2025-03-03 13:13:17,669] args[prepare]=True\n"
          ]
        },
        {
          "name": "stderr",
          "output_type": "stream",
          "text": [
            "INFO:root:args[save_steps]=10000\n"
          ]
        },
        {
          "name": "stdout",
          "output_type": "stream",
          "text": [
            "[INFO 2025-03-03 13:13:17,669] args[save_steps]=10000\n"
          ]
        },
        {
          "name": "stderr",
          "output_type": "stream",
          "text": [
            "INFO:root:args[seed]=0\n"
          ]
        },
        {
          "name": "stdout",
          "output_type": "stream",
          "text": [
            "[INFO 2025-03-03 13:13:17,670] args[seed]=0\n"
          ]
        },
        {
          "name": "stderr",
          "output_type": "stream",
          "text": [
            "INFO:root:args[start_epoch]=0\n"
          ]
        },
        {
          "name": "stdout",
          "output_type": "stream",
          "text": [
            "[INFO 2025-03-03 13:13:17,671] args[start_epoch]=0\n"
          ]
        },
        {
          "name": "stderr",
          "output_type": "stream",
          "text": [
            "INFO:root:args[test_abstract_dir]=/content/genAbs0.json\n"
          ]
        },
        {
          "name": "stdout",
          "output_type": "stream",
          "text": [
            "[INFO 2025-03-03 13:13:17,673] args[test_abstract_dir]=/content/genAbs0.json\n"
          ]
        },
        {
          "name": "stderr",
          "output_type": "stream",
          "text": [
            "INFO:root:args[test_data_dir]=/content/drive/MyDrive/Colab Notebooks/NewsRecommendation/data/MINDsmall_dev\n"
          ]
        },
        {
          "name": "stdout",
          "output_type": "stream",
          "text": [
            "[INFO 2025-03-03 13:13:17,673] args[test_data_dir]=/content/drive/MyDrive/Colab Notebooks/NewsRecommendation/data/MINDsmall_dev\n"
          ]
        },
        {
          "name": "stderr",
          "output_type": "stream",
          "text": [
            "INFO:root:args[train_abstract_dir]=/content/genAbs0.json\n"
          ]
        },
        {
          "name": "stdout",
          "output_type": "stream",
          "text": [
            "[INFO 2025-03-03 13:13:17,674] args[train_abstract_dir]=/content/genAbs0.json\n"
          ]
        },
        {
          "name": "stderr",
          "output_type": "stream",
          "text": [
            "INFO:root:args[train_data_dir]=/content/drive/MyDrive/Colab Notebooks/NewsRecommendation/data/MINDsmall_train\n"
          ]
        },
        {
          "name": "stdout",
          "output_type": "stream",
          "text": [
            "[INFO 2025-03-03 13:13:17,676] args[train_data_dir]=/content/drive/MyDrive/Colab Notebooks/NewsRecommendation/data/MINDsmall_train\n"
          ]
        },
        {
          "name": "stderr",
          "output_type": "stream",
          "text": [
            "INFO:root:args[use_abstract]=True\n"
          ]
        },
        {
          "name": "stdout",
          "output_type": "stream",
          "text": [
            "[INFO 2025-03-03 13:13:17,677] args[use_abstract]=True\n"
          ]
        },
        {
          "name": "stderr",
          "output_type": "stream",
          "text": [
            "INFO:root:args[use_category]=True\n"
          ]
        },
        {
          "name": "stdout",
          "output_type": "stream",
          "text": [
            "[INFO 2025-03-03 13:13:17,678] args[use_category]=True\n"
          ]
        },
        {
          "name": "stderr",
          "output_type": "stream",
          "text": [
            "INFO:root:args[use_custom_abstract]=True\n"
          ]
        },
        {
          "name": "stdout",
          "output_type": "stream",
          "text": [
            "[INFO 2025-03-03 13:13:17,679] args[use_custom_abstract]=True\n"
          ]
        },
        {
          "name": "stderr",
          "output_type": "stream",
          "text": [
            "INFO:root:args[use_subcategory]=True\n"
          ]
        },
        {
          "name": "stdout",
          "output_type": "stream",
          "text": [
            "[INFO 2025-03-03 13:13:17,680] args[use_subcategory]=True\n"
          ]
        },
        {
          "name": "stderr",
          "output_type": "stream",
          "text": [
            "INFO:root:args[user_log_length]=50\n"
          ]
        },
        {
          "name": "stdout",
          "output_type": "stream",
          "text": [
            "[INFO 2025-03-03 13:13:17,682] args[user_log_length]=50\n"
          ]
        },
        {
          "name": "stderr",
          "output_type": "stream",
          "text": [
            "INFO:root:args[user_log_mask]=False\n"
          ]
        },
        {
          "name": "stdout",
          "output_type": "stream",
          "text": [
            "[INFO 2025-03-03 13:13:17,683] args[user_log_mask]=False\n"
          ]
        },
        {
          "name": "stderr",
          "output_type": "stream",
          "text": [
            "INFO:root:args[user_query_vector_dim]=200\n"
          ]
        },
        {
          "name": "stdout",
          "output_type": "stream",
          "text": [
            "[INFO 2025-03-03 13:13:17,684] args[user_query_vector_dim]=200\n"
          ]
        },
        {
          "name": "stderr",
          "output_type": "stream",
          "text": [
            "INFO:root:args[word_embedding_dim]=300\n"
          ]
        },
        {
          "name": "stdout",
          "output_type": "stream",
          "text": [
            "[INFO 2025-03-03 13:13:17,684] args[word_embedding_dim]=300\n"
          ]
        }
      ],
      "source": [
        "\n",
        "    import subprocess\n",
        "    setuplogger()\n",
        "    args = parse_args()\n",
        "    dump_args(args)\n",
        "    random.seed(args.seed)\n",
        "\n",
        "\n",
        "\n"
      ]
    },
    {
      "cell_type": "code",
      "execution_count": null,
      "metadata": {
        "colab": {
          "base_uri": "https://localhost:8080/"
        },
        "id": "Lq_Df-xiThtr",
        "outputId": "de5a433a-d943-4d51-ad3b-f367ba3e813b"
      },
      "outputs": [
        {
          "name": "stderr",
          "output_type": "stream",
          "text": [
            "INFO:root:Preparing training data...\n"
          ]
        },
        {
          "name": "stdout",
          "output_type": "stream",
          "text": [
            "[INFO 2025-03-03 13:13:20,508] Preparing training data...\n"
          ]
        },
        {
          "name": "stderr",
          "output_type": "stream",
          "text": [
            "156965it [00:05, 27868.67it/s]\n",
            "INFO:root:Writing files...\n"
          ]
        },
        {
          "name": "stdout",
          "output_type": "stream",
          "text": [
            "[INFO 2025-03-03 13:13:28,529] Writing files...\n"
          ]
        },
        {
          "name": "stderr",
          "output_type": "stream",
          "text": [
            "INFO:root:236344 training samples, 7385 batches in total.\n"
          ]
        },
        {
          "name": "stdout",
          "output_type": "stream",
          "text": [
            "[INFO 2025-03-03 13:13:33,232] 236344 training samples, 7385 batches in total.\n"
          ]
        }
      ],
      "source": [
        "if 'train' in args.mode:\n",
        "    if args.prepare:\n",
        "        logging.info('Preparing training data...')\n",
        "        total_sample_num = prepare_training_data(args.train_data_dir, args.nGPU, args.npratio, args.seed)\n",
        "    else:\n",
        "        total_sample_num = 0\n",
        "        for i in range(args.nGPU):\n",
        "            data_file_path = os.path.join(args.train_data_dir, f'behaviors_np{args.npratio}_{i}.tsv')\n",
        "            print(data_file_path)\n",
        "            if not os.path.exists(data_file_path):\n",
        "                logging.error(f'Splited training data {data_file_path} for GPU {i} does not exist. Please set the parameter --prepare as True and rerun the code.')\n",
        "                exit()\n",
        "            result = subprocess.getoutput(f'wc -l {data_file_path}')\n",
        "            total_sample_num += int(result.split(' ')[0])\n",
        "        logging.info('Skip training data preparation.')\n",
        "    logging.info(f'{total_sample_num} training samples, {total_sample_num // args.batch_size // args.nGPU} batches in total.')\n",
        "\n",
        "    # train(0, args)"
      ]
    },
    {
      "cell_type": "code",
      "execution_count": null,
      "metadata": {
        "id": "5694OJnDLmEV"
      },
      "outputs": [],
      "source": []
    },
    {
      "cell_type": "markdown",
      "metadata": {
        "id": "VkoY3tHH6in5"
      },
      "source": [
        "# **NRMS**"
      ]
    },
    {
      "cell_type": "code",
      "execution_count": null,
      "metadata": {
        "id": "KXeVVGPl6sgG"
      },
      "outputs": [],
      "source": [
        "import torch\n",
        "import torch.nn as nn\n",
        "class DotProductClickPredictor(torch.nn.Module):\n",
        "    def __init__(self):\n",
        "        super(DotProductClickPredictor, self).__init__()\n",
        "\n",
        "    def forward(self, candidate_news_vector, user_vector):\n",
        "        \"\"\"\n",
        "        Args:\n",
        "            candidate_news_vector: batch_size, candidate_size, X\n",
        "            user_vector: batch_size, X\n",
        "        Returns:\n",
        "            (shape): batch_size\n",
        "        \"\"\"\n",
        "        # batch_size, candidate_size\n",
        "        probability = torch.bmm(candidate_news_vector,\n",
        "                                user_vector.unsqueeze(dim=-1)).squeeze(dim=-1)\n",
        "        return probability\n",
        "class AdditiveAttention(torch.nn.Module):\n",
        "    \"\"\"\n",
        "    A general additive attention module.\n",
        "    Originally for NAML.\n",
        "    \"\"\"\n",
        "    def __init__(self,\n",
        "                 query_vector_dim,\n",
        "                 candidate_vector_dim,\n",
        "                 writer=None,\n",
        "                 tag=None,\n",
        "                 names=None):\n",
        "        super(AdditiveAttention, self).__init__()\n",
        "        self.linear = nn.Linear(candidate_vector_dim, query_vector_dim)\n",
        "        self.attention_query_vector = nn.Parameter(\n",
        "            torch.empty(query_vector_dim).uniform_(-0.1, 0.1))\n",
        "        # For tensorboard\n",
        "        self.writer = writer\n",
        "        self.tag = tag\n",
        "        self.names = names\n",
        "        self.local_step = 1\n",
        "\n",
        "    def forward(self, candidate_vector):\n",
        "        \"\"\"\n",
        "        Args:\n",
        "            candidate_vector: batch_size, candidate_size, candidate_vector_dim\n",
        "        Returns:\n",
        "            (shape) batch_size, candidate_vector_dim\n",
        "        \"\"\"\n",
        "        # batch_size, candidate_size, query_vector_dim\n",
        "        temp = torch.tanh(self.linear(candidate_vector))\n",
        "        # batch_size, candidate_size\n",
        "        candidate_weights = F.softmax(torch.matmul(\n",
        "            temp, self.attention_query_vector),\n",
        "                                      dim=1)\n",
        "        if self.writer is not None:\n",
        "            assert candidate_weights.size(1) == len(self.names)\n",
        "            if self.local_step % 10 == 0:\n",
        "                self.writer.add_scalars(\n",
        "                    self.tag, {\n",
        "                        x: y\n",
        "                        for x, y in zip(self.names,\n",
        "                                        candidate_weights.mean(dim=0))\n",
        "                    }, self.local_step)\n",
        "            self.local_step += 1\n",
        "        # batch_size, candidate_vector_dim\n",
        "        target = torch.bmm(candidate_weights.unsqueeze(dim=1),\n",
        "                           candidate_vector).squeeze(dim=1)\n",
        "        return target\n",
        "\n",
        "class ScaledDotProductAttention(nn.Module):\n",
        "    def __init__(self, d_k):\n",
        "        super(ScaledDotProductAttention, self).__init__()\n",
        "        self.d_k = d_k\n",
        "\n",
        "    def forward(self, Q, K, V, attn_mask=None):\n",
        "        scores = torch.matmul(Q, K.transpose(-1, -2)) / np.sqrt(self.d_k)\n",
        "        scores = torch.exp(scores)\n",
        "        if attn_mask is not None:\n",
        "            scores = scores * attn_mask\n",
        "        attn = scores / (torch.sum(scores, dim=-1, keepdim=True) + 1e-8)\n",
        "\n",
        "        context = torch.matmul(attn, V)\n",
        "        return context, attn\n",
        "\n",
        "\n",
        "\n",
        "class MultiHeadSelfAttention(nn.Module):\n",
        "    def __init__(self, d_model, num_attention_heads):\n",
        "        super(MultiHeadSelfAttention, self).__init__()\n",
        "        self.d_model = d_model\n",
        "        self.num_attention_heads = num_attention_heads\n",
        "        # assert d_model % num_attention_heads == 0\n",
        "        self.d_k = d_model // num_attention_heads\n",
        "        self.d_v = d_model // num_attention_heads\n",
        "\n",
        "        self.W_Q = nn.Linear(d_model, d_model)\n",
        "        self.W_K = nn.Linear(d_model, d_model)\n",
        "        self.W_V = nn.Linear(d_model, d_model)\n",
        "\n",
        "        self._initialize_weights()\n",
        "\n",
        "    def _initialize_weights(self):\n",
        "        for m in self.modules():\n",
        "            if isinstance(m, nn.Linear):\n",
        "                nn.init.xavier_uniform_(m.weight, gain=1)\n",
        "\n",
        "    def forward(self, Q, K=None, V=None, length=None):\n",
        "        if K is None:\n",
        "            K = Q\n",
        "        if V is None:\n",
        "            V = Q\n",
        "        batch_size = Q.size(0)\n",
        "\n",
        "        q_s = self.W_Q(Q).view(batch_size, -1, self.num_attention_heads,\n",
        "                               self.d_k).transpose(1, 2)\n",
        "        k_s = self.W_K(K).view(batch_size, -1, self.num_attention_heads,\n",
        "                               self.d_k).transpose(1, 2)\n",
        "        v_s = self.W_V(V).view(batch_size, -1, self.num_attention_heads,\n",
        "                               self.d_v).transpose(1, 2)\n",
        "\n",
        "        if length is not None:\n",
        "            maxlen = Q.size(1)\n",
        "            attn_mask = torch.arange(maxlen).expand(\n",
        "                batch_size, maxlen) < length.view(-1, 1)\n",
        "            attn_mask = attn_mask.unsqueeze(1).expand(batch_size, maxlen,\n",
        "                                                      maxlen)\n",
        "            attn_mask = attn_mask.unsqueeze(1).repeat(1,\n",
        "                                                      self.num_attention_heads,\n",
        "                                                      1, 1)\n",
        "        else:\n",
        "            attn_mask = None\n",
        "\n",
        "        context, attn = ScaledDotProductAttention(self.d_k)(q_s, k_s, v_s,\n",
        "                                                            attn_mask)\n",
        "        context = context.transpose(1, 2).contiguous().view(\n",
        "            batch_size, -1, self.num_attention_heads * self.d_v)\n",
        "        return context"
      ]
    },
    {
      "cell_type": "code",
      "execution_count": null,
      "metadata": {
        "id": "l3W3JjCZ6k1a"
      },
      "outputs": [],
      "source": [
        "import torch\n",
        "from torch import nn\n",
        "import torch.nn.functional as F\n",
        "\n",
        "\n",
        "\n",
        "import torch\n",
        "import torch.nn as nn\n",
        "import torch.nn.functional as F\n",
        "\n",
        "class NewsEncoder(nn.Module):\n",
        "    def __init__(self, args, embedding_matrix, num_category, num_subcategory):\n",
        "        super(NewsEncoder, self).__init__()\n",
        "        self.embedding_matrix = embedding_matrix\n",
        "        self.drop_rate = args.drop_rate\n",
        "        self.num_words_title = args.num_words_title\n",
        "        self.num_words_abstract = args.num_words_abstract\n",
        "        self.news_dim = args.news_dim\n",
        "        self.word_embedding_dim = args.word_embedding_dim\n",
        "\n",
        "        self.multi_head_self_attn = MultiHeadSelfAttention(args.word_embedding_dim, args.num_attention_heads)\n",
        "        self.attn = AdditiveAttention(args.news_query_vector_dim, args.word_embedding_dim)\n",
        "\n",
        "        # Category & Subcategory Embeddings\n",
        "        self.use_category = args.use_category\n",
        "        self.use_subcategory = args.use_subcategory\n",
        "        self.use_abstract = args.use_abstract\n",
        "\n",
        "        self.category_emb = nn.Embedding(num_category + 1, args.category_emb_dim, padding_idx=0) if self.use_category else None\n",
        "        self.subcategory_emb = nn.Embedding(num_subcategory + 1, args.category_emb_dim, padding_idx=0) if self.use_subcategory else None\n",
        "\n",
        "        # Projection layers to match news_dim\n",
        "        self.category_dense = nn.Linear(args.category_emb_dim, self.news_dim) if self.use_category else None\n",
        "        self.subcategory_dense = nn.Linear(args.category_emb_dim, self.news_dim) if self.use_subcategory else None\n",
        "\n",
        "        if self.use_abstract:\n",
        "            self.abstract_multi_head_self_attn = MultiHeadSelfAttention(args.word_embedding_dim, args.num_attention_heads)\n",
        "            self.abstract_attn = AdditiveAttention(args.news_query_vector_dim, args.word_embedding_dim)\n",
        "\n",
        "        # Adjusting feature multiplier for correct shape\n",
        "        feature_multiplier = 1 + int(self.use_category) + int(self.use_subcategory) + int(self.use_abstract)\n",
        "        self.fusion_layer = nn.Linear(1200, self.news_dim)\n",
        "\n",
        "    def forward(self, x, mask=None):\n",
        "        all_vecs = []\n",
        "\n",
        "        # Encode Title\n",
        "        title = x[:, :self.num_words_title].long()\n",
        "        word_vecs = F.dropout(self.embedding_matrix(title), p=self.drop_rate, training=self.training)\n",
        "        multihead_text_vecs = self.multi_head_self_attn(word_vecs, word_vecs, word_vecs, mask)\n",
        "        multihead_text_vecs = F.dropout(multihead_text_vecs, p=self.drop_rate, training=self.training)\n",
        "        title_vecs = self.attn(multihead_text_vecs)\n",
        "        all_vecs.append(title_vecs)\n",
        "\n",
        "        start = self.num_words_title\n",
        "\n",
        "        # Encode Category\n",
        "        if self.use_category:\n",
        "            category = x[:, start].long()\n",
        "            category_vecs = F.relu(self.category_dense(self.category_emb(category)))\n",
        "            all_vecs.append(category_vecs)\n",
        "            start += 1\n",
        "\n",
        "        # Encode Subcategory\n",
        "        if self.use_subcategory:\n",
        "            subcategory = x[:, start].long()\n",
        "            subcategory_vecs = F.relu(self.subcategory_dense(self.subcategory_emb(subcategory)))\n",
        "            all_vecs.append(subcategory_vecs)\n",
        "            start += 1\n",
        "\n",
        "        # Encode Abstract\n",
        "        if self.use_abstract:\n",
        "            abstract = x[:, start:start + self.num_words_abstract].long()\n",
        "            abstract_word_vecs = F.dropout(self.embedding_matrix(abstract), p=self.drop_rate, training=self.training)\n",
        "            abstract_multihead_text_vecs = self.abstract_multi_head_self_attn(abstract_word_vecs, abstract_word_vecs, abstract_word_vecs, mask)\n",
        "            abstract_multihead_text_vecs = F.dropout(abstract_multihead_text_vecs, p=self.drop_rate, training=self.training)\n",
        "            abstract_vecs = self.abstract_attn(abstract_multihead_text_vecs)\n",
        "            all_vecs.append(abstract_vecs)\n",
        "\n",
        "        # Concatenate Features and Apply Final Fusion\n",
        "        news_vecs = torch.cat(all_vecs, dim=-1)\n",
        "        news_vecs = self.fusion_layer(news_vecs)\n",
        "\n",
        "        return news_vecs\n",
        "\n",
        "\n",
        "\n",
        "\n",
        "class UserEncoder(nn.Module):\n",
        "    def __init__(self, args):\n",
        "        super(UserEncoder, self).__init__()\n",
        "        self.args = args\n",
        "        self.dim_per_head = args.news_dim // args.num_attention_heads\n",
        "        self.multi_head_self_attn = MultiHeadSelfAttention(args.word_embedding_dim, args.num_attention_heads)\n",
        "        self.attn = AdditiveAttention(args.user_query_vector_dim, args.word_embedding_dim)\n",
        "        self.pad_doc = nn.Parameter(torch.empty(1, args.news_dim).uniform_(-1, 1)).type(torch.FloatTensor)\n",
        "\n",
        "    def forward(self, user_vector):\n",
        "        \"\"\"\n",
        "        Args:\n",
        "            user_vector: batch_size, num_clicked_news_a_user, word_embedding_dim\n",
        "        Returns:\n",
        "            (shape) batch_size, word_embedding_dim\n",
        "        \"\"\"\n",
        "        # batch_size, num_clicked_news_a_user, word_embedding_dim\n",
        "        multihead_user_vector = self.multi_head_self_attn(user_vector)\n",
        "        # batch_size, word_embedding_dim\n",
        "        final_user_vector = self.attn(multihead_user_vector)\n",
        "        return final_user_vector\n",
        "\n",
        "\n",
        "\n",
        "class NRMS(torch.nn.Module):\n",
        "    \"\"\"\n",
        "    NRMS network.\n",
        "    Input 1 + K candidate news and a list of user clicked news, produce the click probability.\n",
        "    \"\"\"\n",
        "    def __init__(self, config, embedding_matrix, num_category, num_subcategory):\n",
        "        super(NRMS, self).__init__()\n",
        "        self.config = config\n",
        "        word_embedding = torch.from_numpy(embedding_matrix).float()\n",
        "        pretrained_word_embedding = nn.Embedding.from_pretrained(word_embedding,\n",
        "                                                      freeze=args.freeze_embedding,\n",
        "                                                      padding_idx=0)\n",
        "\n",
        "        self.news_encoder = NewsEncoder(config, pretrained_word_embedding, num_category, num_subcategory)\n",
        "        self.user_encoder = UserEncoder(config)\n",
        "        self.click_predictor = DotProductClickPredictor()\n",
        "        self.loss_fn = nn.CrossEntropyLoss()\n",
        "\n",
        "    def forward(self, clicked_news, candidate_news, label):\n",
        "\n",
        "        # batch_size, 1 + K, word_embedding_dim\n",
        "        candidate_news_vector = torch.stack(\n",
        "            [self.news_encoder(x) for x in candidate_news])\n",
        "\n",
        "        # batch_size, num_clicked_news_a_user, word_embedding_dim\n",
        "        clicked_news_vector = torch.stack(\n",
        "            [self.news_encoder(x) for x in clicked_news])\n",
        "\n",
        "        # batch_size, word_embedding_dim\n",
        "        user_vector = self.user_encoder(clicked_news_vector)\n",
        "\n",
        "        # batch_size, 1 + K\n",
        "        click_probability = self.click_predictor(candidate_news_vector,\n",
        "                                                 user_vector)\n",
        "        loss = self.loss_fn(click_probability, label)\n",
        "        # loss = 0.5\n",
        "        return loss, click_probability\n"
      ]
    },
    {
      "cell_type": "code",
      "execution_count": null,
      "metadata": {
        "id": "OZngQdLK9Xfa"
      },
      "outputs": [],
      "source": [
        "args.mode = 'train'"
      ]
    },
    {
      "cell_type": "code",
      "execution_count": null,
      "metadata": {
        "colab": {
          "base_uri": "https://localhost:8080/"
        },
        "id": "3Ms-iPzD63S-",
        "outputId": "c6e66bdb-295d-4d23-c755-f3e8329a720b"
      },
      "outputs": [
        {
          "name": "stderr",
          "output_type": "stream",
          "text": [
            "INFO:root:Preparing training data...\n"
          ]
        },
        {
          "name": "stdout",
          "output_type": "stream",
          "text": [
            "[INFO 2025-03-03 13:13:33,274] Preparing training data...\n"
          ]
        },
        {
          "name": "stderr",
          "output_type": "stream",
          "text": [
            "156965it [00:02, 61616.47it/s]\n",
            "INFO:root:Writing files...\n"
          ]
        },
        {
          "name": "stdout",
          "output_type": "stream",
          "text": [
            "[INFO 2025-03-03 13:13:35,967] Writing files...\n"
          ]
        },
        {
          "name": "stderr",
          "output_type": "stream",
          "text": [
            "INFO:root:236344 training samples, 7385 batches in total.\n"
          ]
        },
        {
          "name": "stdout",
          "output_type": "stream",
          "text": [
            "[INFO 2025-03-03 13:13:36,323] 236344 training samples, 7385 batches in total.\n"
          ]
        }
      ],
      "source": [
        "if 'train' in args.mode:\n",
        "    if args.prepare:\n",
        "        logging.info('Preparing training data...')\n",
        "        total_sample_num = prepare_training_data(args.train_data_dir, args.nGPU, args.npratio, args.seed)\n",
        "    else:\n",
        "        total_sample_num = 0\n",
        "        for i in range(args.nGPU):\n",
        "            data_file_path = os.path.join(args.train_data_dir, f'behaviors_np{args.npratio}_{i}.tsv')\n",
        "            print(data_file_path)\n",
        "            if not os.path.exists(data_file_path):\n",
        "                logging.error(f'Splited training data {data_file_path} for GPU {i} does not exist. Please set the parameter --prepare as True and rerun the code.')\n",
        "                exit()\n",
        "            result = subprocess.getoutput(f'wc -l {data_file_path}')\n",
        "            total_sample_num += int(result.split(' ')[0])\n",
        "        logging.info('Skip training data preparation.')\n",
        "    logging.info(f'{total_sample_num} training samples, {total_sample_num // args.batch_size // args.nGPU} batches in total.')\n",
        "\n"
      ]
    },
    {
      "cell_type": "code",
      "execution_count": null,
      "metadata": {
        "colab": {
          "base_uri": "https://localhost:8080/"
        },
        "id": "Qgok_ZwDhxOn",
        "outputId": "39cc7915-4638-4888-8450-7ef1bb243417"
      },
      "outputs": [
        {
          "name": "stderr",
          "output_type": "stream",
          "text": [
            "51282it [00:05, 9761.55it/s] \n",
            "100%|██████████| 51282/51282 [00:00<00:00, 181837.80it/s]\n",
            "INFO:root:Initializing word embedding matrix...\n"
          ]
        },
        {
          "name": "stdout",
          "output_type": "stream",
          "text": [
            "[INFO 2025-03-03 13:13:45,105] Initializing word embedding matrix...\n"
          ]
        },
        {
          "name": "stderr",
          "output_type": "stream",
          "text": [
            "INFO:root:Word dict length: 12519\n"
          ]
        },
        {
          "name": "stdout",
          "output_type": "stream",
          "text": [
            "[INFO 2025-03-03 13:15:56,384] Word dict length: 12519\n"
          ]
        },
        {
          "name": "stderr",
          "output_type": "stream",
          "text": [
            "INFO:root:Have words: 11960\n"
          ]
        },
        {
          "name": "stdout",
          "output_type": "stream",
          "text": [
            "[INFO 2025-03-03 13:15:56,386] Have words: 11960\n"
          ]
        },
        {
          "name": "stderr",
          "output_type": "stream",
          "text": [
            "INFO:root:Missing rate: 0.0446521287642783\n"
          ]
        },
        {
          "name": "stdout",
          "output_type": "stream",
          "text": [
            "[INFO 2025-03-03 13:15:56,386] Missing rate: 0.0446521287642783\n"
          ]
        }
      ],
      "source": [
        "rank = 0\n",
        "news, news_index, category_dict, subcategory_dict, word_dict = read_news(\n",
        "\t\tos.path.join(args.train_data_dir, 'news.tsv'), args.train_abstract_dir, args, mode='train')\n",
        "\n",
        "news_title, news_category, news_subcategory, news_abstract = get_doc_input(\n",
        "    news, news_index, category_dict, subcategory_dict, word_dict, args)\n",
        "news_combined = np.concatenate([x for x in [news_title, news_category, news_subcategory, news_abstract] if x is not None], axis=-1)\n",
        "\n",
        "if rank == 0:\n",
        "    logging.info('Initializing word embedding matrix...')\n",
        "\n",
        "embedding_matrix, have_word = load_matrix(args.glove_embedding_path,\n",
        "                                                word_dict,\n",
        "                                                args.word_embedding_dim)\n",
        "if rank == 0:\n",
        "    logging.info(f'Word dict length: {len(word_dict)}')\n",
        "    logging.info(f'Have words: {len(have_word)}')\n",
        "    logging.info(f'Missing rate: {(len(word_dict) - len(have_word)) / len(word_dict)}')"
      ]
    },
    {
      "cell_type": "code",
      "execution_count": null,
      "metadata": {
        "colab": {
          "base_uri": "https://localhost:8080/"
        },
        "id": "qt4Qsf_r9RA_",
        "outputId": "dc55e90d-447e-4984-eb66-fcec2cc6c055"
      },
      "outputs": [
        {
          "name": "stderr",
          "output_type": "stream",
          "text": [
            "<ipython-input-16-76cc626f1493>:8: FutureWarning: You are using `torch.load` with `weights_only=False` (the current default value), which uses the default pickle module implicitly. It is possible to construct malicious pickle data which will execute arbitrary code during unpickling (See https://github.com/pytorch/pytorch/blob/main/SECURITY.md#untrusted-models for more details). In a future release, the default value for `weights_only` will be flipped to `True`. This limits the functions that could be executed during unpickling. Arbitrary objects will no longer be allowed to be loaded via this mode unless they are explicitly allowlisted by the user via `torch.serialization.add_safe_globals`. We recommend you start setting `weights_only=True` for any use case where you don't have full control of the loaded file. Please open an issue on GitHub for any issues related to this experimental feature.\n",
            "  checkpoint = torch.load(ckpt_path, map_location='cpu')\n",
            "INFO:root:Model loaded from /content/drive/MyDrive/Colab Notebooks/NewsRecommendation/NRMS_title/epoch-1.pt.\n"
          ]
        },
        {
          "name": "stdout",
          "output_type": "stream",
          "text": [
            "[INFO 2025-03-03 13:15:58,028] Model loaded from /content/drive/MyDrive/Colab Notebooks/NewsRecommendation/NRMS_title/epoch-1.pt.\n"
          ]
        },
        {
          "name": "stderr",
          "output_type": "stream",
          "text": [
            "INFO:root:Training...\n"
          ]
        },
        {
          "name": "stdout",
          "output_type": "stream",
          "text": [
            "[INFO 2025-03-03 13:16:02,515] Training...\n"
          ]
        },
        {
          "name": "stderr",
          "output_type": "stream",
          "text": [
            "INFO:root:[0] Ed: 0, train_loss: inf, acc: inf\n"
          ]
        },
        {
          "name": "stdout",
          "output_type": "stream",
          "text": [
            "[INFO 2025-03-03 13:16:03,956] [0] Ed: 0, train_loss: inf, acc: inf\n"
          ]
        },
        {
          "name": "stderr",
          "output_type": "stream",
          "text": [
            "INFO:root:[0] Ed: 3200, train_loss: 1.35918, acc: 0.46250\n"
          ]
        },
        {
          "name": "stdout",
          "output_type": "stream",
          "text": [
            "[INFO 2025-03-03 13:16:41,492] [0] Ed: 3200, train_loss: 1.35918, acc: 0.46250\n"
          ]
        },
        {
          "name": "stderr",
          "output_type": "stream",
          "text": [
            "INFO:root:[0] Ed: 6400, train_loss: 1.33820, acc: 0.46672\n"
          ]
        },
        {
          "name": "stdout",
          "output_type": "stream",
          "text": [
            "[INFO 2025-03-03 13:17:18,901] [0] Ed: 6400, train_loss: 1.33820, acc: 0.46672\n"
          ]
        },
        {
          "name": "stderr",
          "output_type": "stream",
          "text": [
            "INFO:root:[0] Ed: 9600, train_loss: 1.33411, acc: 0.46844\n"
          ]
        },
        {
          "name": "stdout",
          "output_type": "stream",
          "text": [
            "[INFO 2025-03-03 13:17:56,408] [0] Ed: 9600, train_loss: 1.33411, acc: 0.46844\n"
          ]
        },
        {
          "name": "stderr",
          "output_type": "stream",
          "text": [
            "INFO:root:[0] Ed: 12800, train_loss: 1.33026, acc: 0.46695\n"
          ]
        },
        {
          "name": "stdout",
          "output_type": "stream",
          "text": [
            "[INFO 2025-03-03 13:18:33,866] [0] Ed: 12800, train_loss: 1.33026, acc: 0.46695\n"
          ]
        },
        {
          "name": "stderr",
          "output_type": "stream",
          "text": [
            "INFO:root:[0] Ed: 16000, train_loss: 1.33142, acc: 0.46331\n"
          ]
        },
        {
          "name": "stdout",
          "output_type": "stream",
          "text": [
            "[INFO 2025-03-03 13:19:11,288] [0] Ed: 16000, train_loss: 1.33142, acc: 0.46331\n"
          ]
        },
        {
          "name": "stderr",
          "output_type": "stream",
          "text": [
            "INFO:root:[0] Ed: 19200, train_loss: 1.33126, acc: 0.46323\n"
          ]
        },
        {
          "name": "stdout",
          "output_type": "stream",
          "text": [
            "[INFO 2025-03-03 13:19:48,814] [0] Ed: 19200, train_loss: 1.33126, acc: 0.46323\n"
          ]
        },
        {
          "name": "stderr",
          "output_type": "stream",
          "text": [
            "INFO:root:[0] Ed: 22400, train_loss: 1.33015, acc: 0.46344\n"
          ]
        },
        {
          "name": "stdout",
          "output_type": "stream",
          "text": [
            "[INFO 2025-03-03 13:20:26,446] [0] Ed: 22400, train_loss: 1.33015, acc: 0.46344\n"
          ]
        },
        {
          "name": "stderr",
          "output_type": "stream",
          "text": [
            "INFO:root:[0] Ed: 25600, train_loss: 1.32996, acc: 0.46230\n"
          ]
        },
        {
          "name": "stdout",
          "output_type": "stream",
          "text": [
            "[INFO 2025-03-03 13:21:03,890] [0] Ed: 25600, train_loss: 1.32996, acc: 0.46230\n"
          ]
        },
        {
          "name": "stderr",
          "output_type": "stream",
          "text": [
            "INFO:root:[0] Ed: 28800, train_loss: 1.32999, acc: 0.46236\n"
          ]
        },
        {
          "name": "stdout",
          "output_type": "stream",
          "text": [
            "[INFO 2025-03-03 13:21:41,354] [0] Ed: 28800, train_loss: 1.32999, acc: 0.46236\n"
          ]
        },
        {
          "name": "stderr",
          "output_type": "stream",
          "text": [
            "INFO:root:[0] Ed: 32000, train_loss: 1.32909, acc: 0.46209\n"
          ]
        },
        {
          "name": "stdout",
          "output_type": "stream",
          "text": [
            "[INFO 2025-03-03 13:22:18,761] [0] Ed: 32000, train_loss: 1.32909, acc: 0.46209\n"
          ]
        },
        {
          "name": "stderr",
          "output_type": "stream",
          "text": [
            "INFO:root:[0] Ed: 35200, train_loss: 1.33096, acc: 0.46045\n"
          ]
        },
        {
          "name": "stdout",
          "output_type": "stream",
          "text": [
            "[INFO 2025-03-03 13:22:56,244] [0] Ed: 35200, train_loss: 1.33096, acc: 0.46045\n"
          ]
        },
        {
          "name": "stderr",
          "output_type": "stream",
          "text": [
            "INFO:root:[0] Ed: 38400, train_loss: 1.32930, acc: 0.46073\n"
          ]
        },
        {
          "name": "stdout",
          "output_type": "stream",
          "text": [
            "[INFO 2025-03-03 13:23:33,776] [0] Ed: 38400, train_loss: 1.32930, acc: 0.46073\n"
          ]
        },
        {
          "name": "stderr",
          "output_type": "stream",
          "text": [
            "INFO:root:[0] Ed: 41600, train_loss: 1.32759, acc: 0.46187\n"
          ]
        },
        {
          "name": "stdout",
          "output_type": "stream",
          "text": [
            "[INFO 2025-03-03 13:24:11,603] [0] Ed: 41600, train_loss: 1.32759, acc: 0.46187\n"
          ]
        },
        {
          "name": "stderr",
          "output_type": "stream",
          "text": [
            "INFO:root:[0] Ed: 44800, train_loss: 1.32678, acc: 0.46243\n"
          ]
        },
        {
          "name": "stdout",
          "output_type": "stream",
          "text": [
            "[INFO 2025-03-03 13:24:49,162] [0] Ed: 44800, train_loss: 1.32678, acc: 0.46243\n"
          ]
        },
        {
          "name": "stderr",
          "output_type": "stream",
          "text": [
            "INFO:root:[0] Ed: 48000, train_loss: 1.32690, acc: 0.46183\n"
          ]
        },
        {
          "name": "stdout",
          "output_type": "stream",
          "text": [
            "[INFO 2025-03-03 13:25:26,804] [0] Ed: 48000, train_loss: 1.32690, acc: 0.46183\n"
          ]
        },
        {
          "name": "stderr",
          "output_type": "stream",
          "text": [
            "INFO:root:[0] Ed: 51200, train_loss: 1.32631, acc: 0.46174\n"
          ]
        },
        {
          "name": "stdout",
          "output_type": "stream",
          "text": [
            "[INFO 2025-03-03 13:26:04,354] [0] Ed: 51200, train_loss: 1.32631, acc: 0.46174\n"
          ]
        },
        {
          "name": "stderr",
          "output_type": "stream",
          "text": [
            "INFO:root:[0] Ed: 54400, train_loss: 1.32558, acc: 0.46233\n"
          ]
        },
        {
          "name": "stdout",
          "output_type": "stream",
          "text": [
            "[INFO 2025-03-03 13:26:41,774] [0] Ed: 54400, train_loss: 1.32558, acc: 0.46233\n"
          ]
        },
        {
          "name": "stderr",
          "output_type": "stream",
          "text": [
            "INFO:root:[0] Ed: 57600, train_loss: 1.32478, acc: 0.46281\n"
          ]
        },
        {
          "name": "stdout",
          "output_type": "stream",
          "text": [
            "[INFO 2025-03-03 13:27:19,164] [0] Ed: 57600, train_loss: 1.32478, acc: 0.46281\n"
          ]
        },
        {
          "name": "stderr",
          "output_type": "stream",
          "text": [
            "INFO:root:[0] Ed: 60800, train_loss: 1.32453, acc: 0.46294\n"
          ]
        },
        {
          "name": "stdout",
          "output_type": "stream",
          "text": [
            "[INFO 2025-03-03 13:27:56,836] [0] Ed: 60800, train_loss: 1.32453, acc: 0.46294\n"
          ]
        },
        {
          "name": "stderr",
          "output_type": "stream",
          "text": [
            "INFO:root:[0] Ed: 64000, train_loss: 1.32322, acc: 0.46358\n"
          ]
        },
        {
          "name": "stdout",
          "output_type": "stream",
          "text": [
            "[INFO 2025-03-03 13:28:34,236] [0] Ed: 64000, train_loss: 1.32322, acc: 0.46358\n"
          ]
        },
        {
          "name": "stderr",
          "output_type": "stream",
          "text": [
            "INFO:root:[0] Ed: 67200, train_loss: 1.32228, acc: 0.46443\n"
          ]
        },
        {
          "name": "stdout",
          "output_type": "stream",
          "text": [
            "[INFO 2025-03-03 13:29:11,624] [0] Ed: 67200, train_loss: 1.32228, acc: 0.46443\n"
          ]
        },
        {
          "name": "stderr",
          "output_type": "stream",
          "text": [
            "INFO:root:[0] Ed: 70400, train_loss: 1.32115, acc: 0.46456\n"
          ]
        },
        {
          "name": "stdout",
          "output_type": "stream",
          "text": [
            "[INFO 2025-03-03 13:29:49,130] [0] Ed: 70400, train_loss: 1.32115, acc: 0.46456\n"
          ]
        },
        {
          "name": "stderr",
          "output_type": "stream",
          "text": [
            "INFO:root:[0] Ed: 73600, train_loss: 1.32070, acc: 0.46435\n"
          ]
        },
        {
          "name": "stdout",
          "output_type": "stream",
          "text": [
            "[INFO 2025-03-03 13:30:26,636] [0] Ed: 73600, train_loss: 1.32070, acc: 0.46435\n"
          ]
        },
        {
          "name": "stderr",
          "output_type": "stream",
          "text": [
            "INFO:root:[0] Ed: 76800, train_loss: 1.31984, acc: 0.46520\n"
          ]
        },
        {
          "name": "stdout",
          "output_type": "stream",
          "text": [
            "[INFO 2025-03-03 13:31:03,996] [0] Ed: 76800, train_loss: 1.31984, acc: 0.46520\n"
          ]
        },
        {
          "name": "stderr",
          "output_type": "stream",
          "text": [
            "INFO:root:[0] Ed: 80000, train_loss: 1.31984, acc: 0.46524\n"
          ]
        },
        {
          "name": "stdout",
          "output_type": "stream",
          "text": [
            "[INFO 2025-03-03 13:31:41,589] [0] Ed: 80000, train_loss: 1.31984, acc: 0.46524\n"
          ]
        },
        {
          "name": "stderr",
          "output_type": "stream",
          "text": [
            "INFO:root:[0] Ed: 83200, train_loss: 1.31876, acc: 0.46593\n"
          ]
        },
        {
          "name": "stdout",
          "output_type": "stream",
          "text": [
            "[INFO 2025-03-03 13:32:18,906] [0] Ed: 83200, train_loss: 1.31876, acc: 0.46593\n"
          ]
        },
        {
          "name": "stderr",
          "output_type": "stream",
          "text": [
            "INFO:root:[0] Ed: 86400, train_loss: 1.31826, acc: 0.46608\n"
          ]
        },
        {
          "name": "stdout",
          "output_type": "stream",
          "text": [
            "[INFO 2025-03-03 13:32:56,245] [0] Ed: 86400, train_loss: 1.31826, acc: 0.46608\n"
          ]
        },
        {
          "name": "stderr",
          "output_type": "stream",
          "text": [
            "INFO:root:[0] Ed: 89600, train_loss: 1.31721, acc: 0.46638\n"
          ]
        },
        {
          "name": "stdout",
          "output_type": "stream",
          "text": [
            "[INFO 2025-03-03 13:33:33,703] [0] Ed: 89600, train_loss: 1.31721, acc: 0.46638\n"
          ]
        },
        {
          "name": "stderr",
          "output_type": "stream",
          "text": [
            "INFO:root:[0] Ed: 92800, train_loss: 1.31762, acc: 0.46557\n"
          ]
        },
        {
          "name": "stdout",
          "output_type": "stream",
          "text": [
            "[INFO 2025-03-03 13:34:10,945] [0] Ed: 92800, train_loss: 1.31762, acc: 0.46557\n"
          ]
        },
        {
          "name": "stderr",
          "output_type": "stream",
          "text": [
            "INFO:root:[0] Ed: 96000, train_loss: 1.31711, acc: 0.46583\n"
          ]
        },
        {
          "name": "stdout",
          "output_type": "stream",
          "text": [
            "[INFO 2025-03-03 13:34:48,413] [0] Ed: 96000, train_loss: 1.31711, acc: 0.46583\n"
          ]
        },
        {
          "name": "stderr",
          "output_type": "stream",
          "text": [
            "INFO:root:[0] Ed: 99200, train_loss: 1.31707, acc: 0.46575\n"
          ]
        },
        {
          "name": "stdout",
          "output_type": "stream",
          "text": [
            "[INFO 2025-03-03 13:35:25,728] [0] Ed: 99200, train_loss: 1.31707, acc: 0.46575\n"
          ]
        },
        {
          "name": "stderr",
          "output_type": "stream",
          "text": [
            "INFO:root:[0] Ed: 102400, train_loss: 1.31626, acc: 0.46577\n"
          ]
        },
        {
          "name": "stdout",
          "output_type": "stream",
          "text": [
            "[INFO 2025-03-03 13:36:03,075] [0] Ed: 102400, train_loss: 1.31626, acc: 0.46577\n"
          ]
        },
        {
          "name": "stderr",
          "output_type": "stream",
          "text": [
            "INFO:root:[0] Ed: 105600, train_loss: 1.31519, acc: 0.46659\n"
          ]
        },
        {
          "name": "stdout",
          "output_type": "stream",
          "text": [
            "[INFO 2025-03-03 13:36:40,611] [0] Ed: 105600, train_loss: 1.31519, acc: 0.46659\n"
          ]
        },
        {
          "name": "stderr",
          "output_type": "stream",
          "text": [
            "INFO:root:[0] Ed: 108800, train_loss: 1.31536, acc: 0.46641\n"
          ]
        },
        {
          "name": "stdout",
          "output_type": "stream",
          "text": [
            "[INFO 2025-03-03 13:37:18,081] [0] Ed: 108800, train_loss: 1.31536, acc: 0.46641\n"
          ]
        },
        {
          "name": "stderr",
          "output_type": "stream",
          "text": [
            "INFO:root:[0] Ed: 112000, train_loss: 1.31526, acc: 0.46645\n"
          ]
        },
        {
          "name": "stdout",
          "output_type": "stream",
          "text": [
            "[INFO 2025-03-03 13:37:55,574] [0] Ed: 112000, train_loss: 1.31526, acc: 0.46645\n"
          ]
        },
        {
          "name": "stderr",
          "output_type": "stream",
          "text": [
            "INFO:root:[0] Ed: 115200, train_loss: 1.31495, acc: 0.46648\n"
          ]
        },
        {
          "name": "stdout",
          "output_type": "stream",
          "text": [
            "[INFO 2025-03-03 13:38:33,238] [0] Ed: 115200, train_loss: 1.31495, acc: 0.46648\n"
          ]
        },
        {
          "name": "stderr",
          "output_type": "stream",
          "text": [
            "INFO:root:[0] Ed: 118400, train_loss: 1.31406, acc: 0.46693\n"
          ]
        },
        {
          "name": "stdout",
          "output_type": "stream",
          "text": [
            "[INFO 2025-03-03 13:39:10,590] [0] Ed: 118400, train_loss: 1.31406, acc: 0.46693\n"
          ]
        },
        {
          "name": "stderr",
          "output_type": "stream",
          "text": [
            "INFO:root:[0] Ed: 121600, train_loss: 1.31388, acc: 0.46697\n"
          ]
        },
        {
          "name": "stdout",
          "output_type": "stream",
          "text": [
            "[INFO 2025-03-03 13:39:48,024] [0] Ed: 121600, train_loss: 1.31388, acc: 0.46697\n"
          ]
        },
        {
          "name": "stderr",
          "output_type": "stream",
          "text": [
            "INFO:root:[0] Ed: 124800, train_loss: 1.31368, acc: 0.46692\n"
          ]
        },
        {
          "name": "stdout",
          "output_type": "stream",
          "text": [
            "[INFO 2025-03-03 13:40:25,480] [0] Ed: 124800, train_loss: 1.31368, acc: 0.46692\n"
          ]
        },
        {
          "name": "stderr",
          "output_type": "stream",
          "text": [
            "INFO:root:[0] Ed: 128000, train_loss: 1.31380, acc: 0.46704\n"
          ]
        },
        {
          "name": "stdout",
          "output_type": "stream",
          "text": [
            "[INFO 2025-03-03 13:41:02,896] [0] Ed: 128000, train_loss: 1.31380, acc: 0.46704\n"
          ]
        },
        {
          "name": "stderr",
          "output_type": "stream",
          "text": [
            "INFO:root:[0] Ed: 131200, train_loss: 1.31311, acc: 0.46724\n"
          ]
        },
        {
          "name": "stdout",
          "output_type": "stream",
          "text": [
            "[INFO 2025-03-03 13:41:40,336] [0] Ed: 131200, train_loss: 1.31311, acc: 0.46724\n"
          ]
        },
        {
          "name": "stderr",
          "output_type": "stream",
          "text": [
            "INFO:root:[0] Ed: 134400, train_loss: 1.31306, acc: 0.46737\n"
          ]
        },
        {
          "name": "stdout",
          "output_type": "stream",
          "text": [
            "[INFO 2025-03-03 13:42:17,666] [0] Ed: 134400, train_loss: 1.31306, acc: 0.46737\n"
          ]
        },
        {
          "name": "stderr",
          "output_type": "stream",
          "text": [
            "INFO:root:[0] Ed: 137600, train_loss: 1.31324, acc: 0.46733\n"
          ]
        },
        {
          "name": "stdout",
          "output_type": "stream",
          "text": [
            "[INFO 2025-03-03 13:42:55,089] [0] Ed: 137600, train_loss: 1.31324, acc: 0.46733\n"
          ]
        },
        {
          "name": "stderr",
          "output_type": "stream",
          "text": [
            "INFO:root:[0] Ed: 140800, train_loss: 1.31280, acc: 0.46774\n"
          ]
        },
        {
          "name": "stdout",
          "output_type": "stream",
          "text": [
            "[INFO 2025-03-03 13:43:32,436] [0] Ed: 140800, train_loss: 1.31280, acc: 0.46774\n"
          ]
        },
        {
          "name": "stderr",
          "output_type": "stream",
          "text": [
            "INFO:root:[0] Ed: 144000, train_loss: 1.31251, acc: 0.46755\n"
          ]
        },
        {
          "name": "stdout",
          "output_type": "stream",
          "text": [
            "[INFO 2025-03-03 13:44:10,010] [0] Ed: 144000, train_loss: 1.31251, acc: 0.46755\n"
          ]
        },
        {
          "name": "stderr",
          "output_type": "stream",
          "text": [
            "INFO:root:[0] Ed: 147200, train_loss: 1.31211, acc: 0.46776\n"
          ]
        },
        {
          "name": "stdout",
          "output_type": "stream",
          "text": [
            "[INFO 2025-03-03 13:44:47,542] [0] Ed: 147200, train_loss: 1.31211, acc: 0.46776\n"
          ]
        },
        {
          "name": "stderr",
          "output_type": "stream",
          "text": [
            "INFO:root:[0] Ed: 150400, train_loss: 1.31143, acc: 0.46813\n"
          ]
        },
        {
          "name": "stdout",
          "output_type": "stream",
          "text": [
            "[INFO 2025-03-03 13:45:25,336] [0] Ed: 150400, train_loss: 1.31143, acc: 0.46813\n"
          ]
        },
        {
          "name": "stderr",
          "output_type": "stream",
          "text": [
            "INFO:root:[0] Ed: 153600, train_loss: 1.31075, acc: 0.46829\n"
          ]
        },
        {
          "name": "stdout",
          "output_type": "stream",
          "text": [
            "[INFO 2025-03-03 13:46:02,703] [0] Ed: 153600, train_loss: 1.31075, acc: 0.46829\n"
          ]
        },
        {
          "name": "stderr",
          "output_type": "stream",
          "text": [
            "INFO:root:[0] Ed: 156800, train_loss: 1.31023, acc: 0.46866\n"
          ]
        },
        {
          "name": "stdout",
          "output_type": "stream",
          "text": [
            "[INFO 2025-03-03 13:46:40,259] [0] Ed: 156800, train_loss: 1.31023, acc: 0.46866\n"
          ]
        },
        {
          "name": "stderr",
          "output_type": "stream",
          "text": [
            "INFO:root:[0] Ed: 160000, train_loss: 1.30974, acc: 0.46891\n"
          ]
        },
        {
          "name": "stdout",
          "output_type": "stream",
          "text": [
            "[INFO 2025-03-03 13:47:17,817] [0] Ed: 160000, train_loss: 1.30974, acc: 0.46891\n"
          ]
        },
        {
          "name": "stderr",
          "output_type": "stream",
          "text": [
            "INFO:root:[0] Ed: 163200, train_loss: 1.30953, acc: 0.46892\n"
          ]
        },
        {
          "name": "stdout",
          "output_type": "stream",
          "text": [
            "[INFO 2025-03-03 13:47:55,296] [0] Ed: 163200, train_loss: 1.30953, acc: 0.46892\n"
          ]
        },
        {
          "name": "stderr",
          "output_type": "stream",
          "text": [
            "INFO:root:[0] Ed: 166400, train_loss: 1.30951, acc: 0.46884\n"
          ]
        },
        {
          "name": "stdout",
          "output_type": "stream",
          "text": [
            "[INFO 2025-03-03 13:48:32,826] [0] Ed: 166400, train_loss: 1.30951, acc: 0.46884\n"
          ]
        },
        {
          "name": "stderr",
          "output_type": "stream",
          "text": [
            "INFO:root:[0] Ed: 169600, train_loss: 1.30934, acc: 0.46900\n"
          ]
        },
        {
          "name": "stdout",
          "output_type": "stream",
          "text": [
            "[INFO 2025-03-03 13:49:10,744] [0] Ed: 169600, train_loss: 1.30934, acc: 0.46900\n"
          ]
        },
        {
          "name": "stderr",
          "output_type": "stream",
          "text": [
            "INFO:root:[0] Ed: 172800, train_loss: 1.30895, acc: 0.46918\n"
          ]
        },
        {
          "name": "stdout",
          "output_type": "stream",
          "text": [
            "[INFO 2025-03-03 13:49:48,173] [0] Ed: 172800, train_loss: 1.30895, acc: 0.46918\n"
          ]
        },
        {
          "name": "stderr",
          "output_type": "stream",
          "text": [
            "INFO:root:[0] Ed: 176000, train_loss: 1.30860, acc: 0.46941\n"
          ]
        },
        {
          "name": "stdout",
          "output_type": "stream",
          "text": [
            "[INFO 2025-03-03 13:50:25,691] [0] Ed: 176000, train_loss: 1.30860, acc: 0.46941\n"
          ]
        },
        {
          "name": "stderr",
          "output_type": "stream",
          "text": [
            "INFO:root:[0] Ed: 179200, train_loss: 1.30819, acc: 0.46956\n"
          ]
        },
        {
          "name": "stdout",
          "output_type": "stream",
          "text": [
            "[INFO 2025-03-03 13:51:02,995] [0] Ed: 179200, train_loss: 1.30819, acc: 0.46956\n"
          ]
        },
        {
          "name": "stderr",
          "output_type": "stream",
          "text": [
            "INFO:root:[0] Ed: 182400, train_loss: 1.30814, acc: 0.46959\n"
          ]
        },
        {
          "name": "stdout",
          "output_type": "stream",
          "text": [
            "[INFO 2025-03-03 13:51:40,417] [0] Ed: 182400, train_loss: 1.30814, acc: 0.46959\n"
          ]
        },
        {
          "name": "stderr",
          "output_type": "stream",
          "text": [
            "INFO:root:[0] Ed: 185600, train_loss: 1.30765, acc: 0.46977\n"
          ]
        },
        {
          "name": "stdout",
          "output_type": "stream",
          "text": [
            "[INFO 2025-03-03 13:52:18,104] [0] Ed: 185600, train_loss: 1.30765, acc: 0.46977\n"
          ]
        },
        {
          "name": "stderr",
          "output_type": "stream",
          "text": [
            "INFO:root:[0] Ed: 188800, train_loss: 1.30742, acc: 0.46992\n"
          ]
        },
        {
          "name": "stdout",
          "output_type": "stream",
          "text": [
            "[INFO 2025-03-03 13:52:55,551] [0] Ed: 188800, train_loss: 1.30742, acc: 0.46992\n"
          ]
        },
        {
          "name": "stderr",
          "output_type": "stream",
          "text": [
            "INFO:root:[0] Ed: 192000, train_loss: 1.30749, acc: 0.46984\n"
          ]
        },
        {
          "name": "stdout",
          "output_type": "stream",
          "text": [
            "[INFO 2025-03-03 13:53:33,001] [0] Ed: 192000, train_loss: 1.30749, acc: 0.46984\n"
          ]
        },
        {
          "name": "stderr",
          "output_type": "stream",
          "text": [
            "INFO:root:[0] Ed: 195200, train_loss: 1.30719, acc: 0.47006\n"
          ]
        },
        {
          "name": "stdout",
          "output_type": "stream",
          "text": [
            "[INFO 2025-03-03 13:54:10,306] [0] Ed: 195200, train_loss: 1.30719, acc: 0.47006\n"
          ]
        },
        {
          "name": "stderr",
          "output_type": "stream",
          "text": [
            "INFO:root:[0] Ed: 198400, train_loss: 1.30723, acc: 0.47023\n"
          ]
        },
        {
          "name": "stdout",
          "output_type": "stream",
          "text": [
            "[INFO 2025-03-03 13:54:47,580] [0] Ed: 198400, train_loss: 1.30723, acc: 0.47023\n"
          ]
        },
        {
          "name": "stderr",
          "output_type": "stream",
          "text": [
            "INFO:root:[0] Ed: 201600, train_loss: 1.30697, acc: 0.47041\n"
          ]
        },
        {
          "name": "stdout",
          "output_type": "stream",
          "text": [
            "[INFO 2025-03-03 13:55:24,829] [0] Ed: 201600, train_loss: 1.30697, acc: 0.47041\n"
          ]
        },
        {
          "name": "stderr",
          "output_type": "stream",
          "text": [
            "INFO:root:[0] Ed: 204800, train_loss: 1.30697, acc: 0.47032\n"
          ]
        },
        {
          "name": "stdout",
          "output_type": "stream",
          "text": [
            "[INFO 2025-03-03 13:56:02,334] [0] Ed: 204800, train_loss: 1.30697, acc: 0.47032\n"
          ]
        },
        {
          "name": "stderr",
          "output_type": "stream",
          "text": [
            "INFO:root:[0] Ed: 208000, train_loss: 1.30698, acc: 0.47038\n"
          ]
        },
        {
          "name": "stdout",
          "output_type": "stream",
          "text": [
            "[INFO 2025-03-03 13:56:39,726] [0] Ed: 208000, train_loss: 1.30698, acc: 0.47038\n"
          ]
        },
        {
          "name": "stderr",
          "output_type": "stream",
          "text": [
            "INFO:root:[0] Ed: 211200, train_loss: 1.30693, acc: 0.47045\n"
          ]
        },
        {
          "name": "stdout",
          "output_type": "stream",
          "text": [
            "[INFO 2025-03-03 13:57:17,157] [0] Ed: 211200, train_loss: 1.30693, acc: 0.47045\n"
          ]
        },
        {
          "name": "stderr",
          "output_type": "stream",
          "text": [
            "INFO:root:[0] Ed: 214400, train_loss: 1.30679, acc: 0.47055\n"
          ]
        },
        {
          "name": "stdout",
          "output_type": "stream",
          "text": [
            "[INFO 2025-03-03 13:57:54,665] [0] Ed: 214400, train_loss: 1.30679, acc: 0.47055\n"
          ]
        },
        {
          "name": "stderr",
          "output_type": "stream",
          "text": [
            "INFO:root:[0] Ed: 217600, train_loss: 1.30667, acc: 0.47050\n"
          ]
        },
        {
          "name": "stdout",
          "output_type": "stream",
          "text": [
            "[INFO 2025-03-03 13:58:32,056] [0] Ed: 217600, train_loss: 1.30667, acc: 0.47050\n"
          ]
        },
        {
          "name": "stderr",
          "output_type": "stream",
          "text": [
            "INFO:root:[0] Ed: 220800, train_loss: 1.30633, acc: 0.47060\n"
          ]
        },
        {
          "name": "stdout",
          "output_type": "stream",
          "text": [
            "[INFO 2025-03-03 13:59:09,552] [0] Ed: 220800, train_loss: 1.30633, acc: 0.47060\n"
          ]
        },
        {
          "name": "stderr",
          "output_type": "stream",
          "text": [
            "INFO:root:[0] Ed: 224000, train_loss: 1.30594, acc: 0.47074\n"
          ]
        },
        {
          "name": "stdout",
          "output_type": "stream",
          "text": [
            "[INFO 2025-03-03 13:59:47,321] [0] Ed: 224000, train_loss: 1.30594, acc: 0.47074\n"
          ]
        },
        {
          "name": "stderr",
          "output_type": "stream",
          "text": [
            "INFO:root:[0] Ed: 227200, train_loss: 1.30562, acc: 0.47102\n"
          ]
        },
        {
          "name": "stdout",
          "output_type": "stream",
          "text": [
            "[INFO 2025-03-03 14:00:24,847] [0] Ed: 227200, train_loss: 1.30562, acc: 0.47102\n"
          ]
        },
        {
          "name": "stderr",
          "output_type": "stream",
          "text": [
            "INFO:root:[0] Ed: 230400, train_loss: 1.30530, acc: 0.47119\n"
          ]
        },
        {
          "name": "stdout",
          "output_type": "stream",
          "text": [
            "[INFO 2025-03-03 14:01:02,260] [0] Ed: 230400, train_loss: 1.30530, acc: 0.47119\n"
          ]
        },
        {
          "name": "stderr",
          "output_type": "stream",
          "text": [
            "INFO:root:[0] Ed: 233600, train_loss: 1.30478, acc: 0.47135\n"
          ]
        },
        {
          "name": "stdout",
          "output_type": "stream",
          "text": [
            "[INFO 2025-03-03 14:01:39,785] [0] Ed: 233600, train_loss: 1.30478, acc: 0.47135\n"
          ]
        },
        {
          "name": "stderr",
          "output_type": "stream",
          "text": [
            "INFO:root:Training finish.\n"
          ]
        },
        {
          "name": "stdout",
          "output_type": "stream",
          "text": [
            "[INFO 2025-03-03 14:02:11,505] Training finish.\n"
          ]
        },
        {
          "name": "stderr",
          "output_type": "stream",
          "text": [
            "INFO:root:Model saved to /content/drive/MyDrive/Colab Notebooks/NewsRecommendation/NRMS_title/epoch-2.pt.\n"
          ]
        },
        {
          "name": "stdout",
          "output_type": "stream",
          "text": [
            "[INFO 2025-03-03 14:02:13,257] Model saved to /content/drive/MyDrive/Colab Notebooks/NewsRecommendation/NRMS_title/epoch-2.pt.\n"
          ]
        },
        {
          "name": "stderr",
          "output_type": "stream",
          "text": [
            "INFO:root:[0] Ed: 0, train_loss: inf, acc: inf\n"
          ]
        },
        {
          "name": "stdout",
          "output_type": "stream",
          "text": [
            "[INFO 2025-03-03 14:02:13,647] [0] Ed: 0, train_loss: inf, acc: inf\n"
          ]
        },
        {
          "name": "stderr",
          "output_type": "stream",
          "text": [
            "INFO:root:[0] Ed: 3200, train_loss: 1.31180, acc: 0.48281\n"
          ]
        },
        {
          "name": "stdout",
          "output_type": "stream",
          "text": [
            "[INFO 2025-03-03 14:02:51,124] [0] Ed: 3200, train_loss: 1.31180, acc: 0.48281\n"
          ]
        },
        {
          "name": "stderr",
          "output_type": "stream",
          "text": [
            "INFO:root:[0] Ed: 6400, train_loss: 1.29378, acc: 0.48703\n"
          ]
        },
        {
          "name": "stdout",
          "output_type": "stream",
          "text": [
            "[INFO 2025-03-03 14:03:28,483] [0] Ed: 6400, train_loss: 1.29378, acc: 0.48703\n"
          ]
        },
        {
          "name": "stderr",
          "output_type": "stream",
          "text": [
            "INFO:root:[0] Ed: 9600, train_loss: 1.29431, acc: 0.48365\n"
          ]
        },
        {
          "name": "stdout",
          "output_type": "stream",
          "text": [
            "[INFO 2025-03-03 14:04:05,854] [0] Ed: 9600, train_loss: 1.29431, acc: 0.48365\n"
          ]
        },
        {
          "name": "stderr",
          "output_type": "stream",
          "text": [
            "INFO:root:[0] Ed: 12800, train_loss: 1.29025, acc: 0.48242\n"
          ]
        },
        {
          "name": "stdout",
          "output_type": "stream",
          "text": [
            "[INFO 2025-03-03 14:04:43,585] [0] Ed: 12800, train_loss: 1.29025, acc: 0.48242\n"
          ]
        },
        {
          "name": "stderr",
          "output_type": "stream",
          "text": [
            "INFO:root:[0] Ed: 16000, train_loss: 1.29289, acc: 0.47781\n"
          ]
        },
        {
          "name": "stdout",
          "output_type": "stream",
          "text": [
            "[INFO 2025-03-03 14:05:20,948] [0] Ed: 16000, train_loss: 1.29289, acc: 0.47781\n"
          ]
        },
        {
          "name": "stderr",
          "output_type": "stream",
          "text": [
            "INFO:root:[0] Ed: 19200, train_loss: 1.29317, acc: 0.47734\n"
          ]
        },
        {
          "name": "stdout",
          "output_type": "stream",
          "text": [
            "[INFO 2025-03-03 14:05:58,268] [0] Ed: 19200, train_loss: 1.29317, acc: 0.47734\n"
          ]
        },
        {
          "name": "stderr",
          "output_type": "stream",
          "text": [
            "INFO:root:[0] Ed: 22400, train_loss: 1.29232, acc: 0.47826\n"
          ]
        },
        {
          "name": "stdout",
          "output_type": "stream",
          "text": [
            "[INFO 2025-03-03 14:06:35,434] [0] Ed: 22400, train_loss: 1.29232, acc: 0.47826\n"
          ]
        },
        {
          "name": "stderr",
          "output_type": "stream",
          "text": [
            "INFO:root:[0] Ed: 25600, train_loss: 1.29098, acc: 0.47848\n"
          ]
        },
        {
          "name": "stdout",
          "output_type": "stream",
          "text": [
            "[INFO 2025-03-03 14:07:12,790] [0] Ed: 25600, train_loss: 1.29098, acc: 0.47848\n"
          ]
        },
        {
          "name": "stderr",
          "output_type": "stream",
          "text": [
            "INFO:root:[0] Ed: 28800, train_loss: 1.29024, acc: 0.47854\n"
          ]
        },
        {
          "name": "stdout",
          "output_type": "stream",
          "text": [
            "[INFO 2025-03-03 14:07:50,283] [0] Ed: 28800, train_loss: 1.29024, acc: 0.47854\n"
          ]
        },
        {
          "name": "stderr",
          "output_type": "stream",
          "text": [
            "INFO:root:[0] Ed: 32000, train_loss: 1.28931, acc: 0.47928\n"
          ]
        },
        {
          "name": "stdout",
          "output_type": "stream",
          "text": [
            "[INFO 2025-03-03 14:08:27,855] [0] Ed: 32000, train_loss: 1.28931, acc: 0.47928\n"
          ]
        },
        {
          "name": "stderr",
          "output_type": "stream",
          "text": [
            "INFO:root:[0] Ed: 35200, train_loss: 1.29104, acc: 0.47824\n"
          ]
        },
        {
          "name": "stdout",
          "output_type": "stream",
          "text": [
            "[INFO 2025-03-03 14:09:05,371] [0] Ed: 35200, train_loss: 1.29104, acc: 0.47824\n"
          ]
        },
        {
          "name": "stderr",
          "output_type": "stream",
          "text": [
            "INFO:root:[0] Ed: 38400, train_loss: 1.28988, acc: 0.47862\n"
          ]
        },
        {
          "name": "stdout",
          "output_type": "stream",
          "text": [
            "[INFO 2025-03-03 14:09:42,938] [0] Ed: 38400, train_loss: 1.28988, acc: 0.47862\n"
          ]
        },
        {
          "name": "stderr",
          "output_type": "stream",
          "text": [
            "INFO:root:[0] Ed: 41600, train_loss: 1.28826, acc: 0.47976\n"
          ]
        },
        {
          "name": "stdout",
          "output_type": "stream",
          "text": [
            "[INFO 2025-03-03 14:10:20,524] [0] Ed: 41600, train_loss: 1.28826, acc: 0.47976\n"
          ]
        },
        {
          "name": "stderr",
          "output_type": "stream",
          "text": [
            "INFO:root:[0] Ed: 44800, train_loss: 1.28725, acc: 0.48065\n"
          ]
        },
        {
          "name": "stdout",
          "output_type": "stream",
          "text": [
            "[INFO 2025-03-03 14:10:58,066] [0] Ed: 44800, train_loss: 1.28725, acc: 0.48065\n"
          ]
        },
        {
          "name": "stderr",
          "output_type": "stream",
          "text": [
            "INFO:root:[0] Ed: 48000, train_loss: 1.28742, acc: 0.48040\n"
          ]
        },
        {
          "name": "stdout",
          "output_type": "stream",
          "text": [
            "[INFO 2025-03-03 14:11:35,693] [0] Ed: 48000, train_loss: 1.28742, acc: 0.48040\n"
          ]
        },
        {
          "name": "stderr",
          "output_type": "stream",
          "text": [
            "INFO:root:[0] Ed: 51200, train_loss: 1.28703, acc: 0.48070\n"
          ]
        },
        {
          "name": "stdout",
          "output_type": "stream",
          "text": [
            "[INFO 2025-03-03 14:12:13,162] [0] Ed: 51200, train_loss: 1.28703, acc: 0.48070\n"
          ]
        },
        {
          "name": "stderr",
          "output_type": "stream",
          "text": [
            "INFO:root:[0] Ed: 54400, train_loss: 1.28611, acc: 0.48154\n"
          ]
        },
        {
          "name": "stdout",
          "output_type": "stream",
          "text": [
            "[INFO 2025-03-03 14:12:50,557] [0] Ed: 54400, train_loss: 1.28611, acc: 0.48154\n"
          ]
        },
        {
          "name": "stderr",
          "output_type": "stream",
          "text": [
            "INFO:root:[0] Ed: 57600, train_loss: 1.28553, acc: 0.48182\n"
          ]
        },
        {
          "name": "stdout",
          "output_type": "stream",
          "text": [
            "[INFO 2025-03-03 14:13:28,077] [0] Ed: 57600, train_loss: 1.28553, acc: 0.48182\n"
          ]
        },
        {
          "name": "stderr",
          "output_type": "stream",
          "text": [
            "INFO:root:[0] Ed: 60800, train_loss: 1.28532, acc: 0.48197\n"
          ]
        },
        {
          "name": "stdout",
          "output_type": "stream",
          "text": [
            "[INFO 2025-03-03 14:14:05,557] [0] Ed: 60800, train_loss: 1.28532, acc: 0.48197\n"
          ]
        },
        {
          "name": "stderr",
          "output_type": "stream",
          "text": [
            "INFO:root:[0] Ed: 64000, train_loss: 1.28410, acc: 0.48273\n"
          ]
        },
        {
          "name": "stdout",
          "output_type": "stream",
          "text": [
            "[INFO 2025-03-03 14:14:42,993] [0] Ed: 64000, train_loss: 1.28410, acc: 0.48273\n"
          ]
        },
        {
          "name": "stderr",
          "output_type": "stream",
          "text": [
            "INFO:root:[0] Ed: 67200, train_loss: 1.28305, acc: 0.48326\n"
          ]
        },
        {
          "name": "stdout",
          "output_type": "stream",
          "text": [
            "[INFO 2025-03-03 14:15:20,842] [0] Ed: 67200, train_loss: 1.28305, acc: 0.48326\n"
          ]
        },
        {
          "name": "stderr",
          "output_type": "stream",
          "text": [
            "INFO:root:[0] Ed: 70400, train_loss: 1.28203, acc: 0.48337\n"
          ]
        },
        {
          "name": "stdout",
          "output_type": "stream",
          "text": [
            "[INFO 2025-03-03 14:15:58,373] [0] Ed: 70400, train_loss: 1.28203, acc: 0.48337\n"
          ]
        },
        {
          "name": "stderr",
          "output_type": "stream",
          "text": [
            "INFO:root:[0] Ed: 73600, train_loss: 1.28175, acc: 0.48302\n"
          ]
        },
        {
          "name": "stdout",
          "output_type": "stream",
          "text": [
            "[INFO 2025-03-03 14:16:35,741] [0] Ed: 73600, train_loss: 1.28175, acc: 0.48302\n"
          ]
        },
        {
          "name": "stderr",
          "output_type": "stream",
          "text": [
            "INFO:root:[0] Ed: 76800, train_loss: 1.28076, acc: 0.48374\n"
          ]
        },
        {
          "name": "stdout",
          "output_type": "stream",
          "text": [
            "[INFO 2025-03-03 14:17:13,139] [0] Ed: 76800, train_loss: 1.28076, acc: 0.48374\n"
          ]
        },
        {
          "name": "stderr",
          "output_type": "stream",
          "text": [
            "INFO:root:[0] Ed: 80000, train_loss: 1.28071, acc: 0.48360\n"
          ]
        },
        {
          "name": "stdout",
          "output_type": "stream",
          "text": [
            "[INFO 2025-03-03 14:17:50,659] [0] Ed: 80000, train_loss: 1.28071, acc: 0.48360\n"
          ]
        },
        {
          "name": "stderr",
          "output_type": "stream",
          "text": [
            "INFO:root:[0] Ed: 83200, train_loss: 1.27983, acc: 0.48434\n"
          ]
        },
        {
          "name": "stdout",
          "output_type": "stream",
          "text": [
            "[INFO 2025-03-03 14:18:28,245] [0] Ed: 83200, train_loss: 1.27983, acc: 0.48434\n"
          ]
        },
        {
          "name": "stderr",
          "output_type": "stream",
          "text": [
            "INFO:root:[0] Ed: 86400, train_loss: 1.27942, acc: 0.48448\n"
          ]
        },
        {
          "name": "stdout",
          "output_type": "stream",
          "text": [
            "[INFO 2025-03-03 14:19:06,088] [0] Ed: 86400, train_loss: 1.27942, acc: 0.48448\n"
          ]
        },
        {
          "name": "stderr",
          "output_type": "stream",
          "text": [
            "INFO:root:[0] Ed: 89600, train_loss: 1.27856, acc: 0.48477\n"
          ]
        },
        {
          "name": "stdout",
          "output_type": "stream",
          "text": [
            "[INFO 2025-03-03 14:19:43,664] [0] Ed: 89600, train_loss: 1.27856, acc: 0.48477\n"
          ]
        },
        {
          "name": "stderr",
          "output_type": "stream",
          "text": [
            "INFO:root:[0] Ed: 92800, train_loss: 1.27930, acc: 0.48409\n"
          ]
        },
        {
          "name": "stdout",
          "output_type": "stream",
          "text": [
            "[INFO 2025-03-03 14:20:21,284] [0] Ed: 92800, train_loss: 1.27930, acc: 0.48409\n"
          ]
        },
        {
          "name": "stderr",
          "output_type": "stream",
          "text": [
            "INFO:root:[0] Ed: 96000, train_loss: 1.27886, acc: 0.48438\n"
          ]
        },
        {
          "name": "stdout",
          "output_type": "stream",
          "text": [
            "[INFO 2025-03-03 14:20:58,578] [0] Ed: 96000, train_loss: 1.27886, acc: 0.48438\n"
          ]
        },
        {
          "name": "stderr",
          "output_type": "stream",
          "text": [
            "INFO:root:[0] Ed: 99200, train_loss: 1.27880, acc: 0.48428\n"
          ]
        },
        {
          "name": "stdout",
          "output_type": "stream",
          "text": [
            "[INFO 2025-03-03 14:21:35,909] [0] Ed: 99200, train_loss: 1.27880, acc: 0.48428\n"
          ]
        },
        {
          "name": "stderr",
          "output_type": "stream",
          "text": [
            "INFO:root:[0] Ed: 102400, train_loss: 1.27803, acc: 0.48446\n"
          ]
        },
        {
          "name": "stdout",
          "output_type": "stream",
          "text": [
            "[INFO 2025-03-03 14:22:13,304] [0] Ed: 102400, train_loss: 1.27803, acc: 0.48446\n"
          ]
        },
        {
          "name": "stderr",
          "output_type": "stream",
          "text": [
            "INFO:root:[0] Ed: 105600, train_loss: 1.27705, acc: 0.48498\n"
          ]
        },
        {
          "name": "stdout",
          "output_type": "stream",
          "text": [
            "[INFO 2025-03-03 14:22:50,852] [0] Ed: 105600, train_loss: 1.27705, acc: 0.48498\n"
          ]
        },
        {
          "name": "stderr",
          "output_type": "stream",
          "text": [
            "INFO:root:[0] Ed: 108800, train_loss: 1.27725, acc: 0.48504\n"
          ]
        },
        {
          "name": "stdout",
          "output_type": "stream",
          "text": [
            "[INFO 2025-03-03 14:23:28,241] [0] Ed: 108800, train_loss: 1.27725, acc: 0.48504\n"
          ]
        },
        {
          "name": "stderr",
          "output_type": "stream",
          "text": [
            "INFO:root:[0] Ed: 112000, train_loss: 1.27742, acc: 0.48496\n"
          ]
        },
        {
          "name": "stdout",
          "output_type": "stream",
          "text": [
            "[INFO 2025-03-03 14:24:05,750] [0] Ed: 112000, train_loss: 1.27742, acc: 0.48496\n"
          ]
        },
        {
          "name": "stderr",
          "output_type": "stream",
          "text": [
            "INFO:root:[0] Ed: 115200, train_loss: 1.27722, acc: 0.48497\n"
          ]
        },
        {
          "name": "stdout",
          "output_type": "stream",
          "text": [
            "[INFO 2025-03-03 14:24:43,084] [0] Ed: 115200, train_loss: 1.27722, acc: 0.48497\n"
          ]
        },
        {
          "name": "stderr",
          "output_type": "stream",
          "text": [
            "INFO:root:[0] Ed: 118400, train_loss: 1.27624, acc: 0.48530\n"
          ]
        },
        {
          "name": "stdout",
          "output_type": "stream",
          "text": [
            "[INFO 2025-03-03 14:25:20,466] [0] Ed: 118400, train_loss: 1.27624, acc: 0.48530\n"
          ]
        },
        {
          "name": "stderr",
          "output_type": "stream",
          "text": [
            "INFO:root:[0] Ed: 121600, train_loss: 1.27601, acc: 0.48522\n"
          ]
        },
        {
          "name": "stdout",
          "output_type": "stream",
          "text": [
            "[INFO 2025-03-03 14:25:57,998] [0] Ed: 121600, train_loss: 1.27601, acc: 0.48522\n"
          ]
        },
        {
          "name": "stderr",
          "output_type": "stream",
          "text": [
            "INFO:root:[0] Ed: 124800, train_loss: 1.27578, acc: 0.48527\n"
          ]
        },
        {
          "name": "stdout",
          "output_type": "stream",
          "text": [
            "[INFO 2025-03-03 14:26:35,789] [0] Ed: 124800, train_loss: 1.27578, acc: 0.48527\n"
          ]
        },
        {
          "name": "stderr",
          "output_type": "stream",
          "text": [
            "INFO:root:[0] Ed: 128000, train_loss: 1.27612, acc: 0.48525\n"
          ]
        },
        {
          "name": "stdout",
          "output_type": "stream",
          "text": [
            "[INFO 2025-03-03 14:27:13,339] [0] Ed: 128000, train_loss: 1.27612, acc: 0.48525\n"
          ]
        },
        {
          "name": "stderr",
          "output_type": "stream",
          "text": [
            "INFO:root:[0] Ed: 131200, train_loss: 1.27541, acc: 0.48568\n"
          ]
        },
        {
          "name": "stdout",
          "output_type": "stream",
          "text": [
            "[INFO 2025-03-03 14:27:50,780] [0] Ed: 131200, train_loss: 1.27541, acc: 0.48568\n"
          ]
        },
        {
          "name": "stderr",
          "output_type": "stream",
          "text": [
            "INFO:root:[0] Ed: 134400, train_loss: 1.27559, acc: 0.48548\n"
          ]
        },
        {
          "name": "stdout",
          "output_type": "stream",
          "text": [
            "[INFO 2025-03-03 14:28:28,490] [0] Ed: 134400, train_loss: 1.27559, acc: 0.48548\n"
          ]
        },
        {
          "name": "stderr",
          "output_type": "stream",
          "text": [
            "INFO:root:[0] Ed: 137600, train_loss: 1.27576, acc: 0.48541\n"
          ]
        },
        {
          "name": "stdout",
          "output_type": "stream",
          "text": [
            "[INFO 2025-03-03 14:29:05,933] [0] Ed: 137600, train_loss: 1.27576, acc: 0.48541\n"
          ]
        },
        {
          "name": "stderr",
          "output_type": "stream",
          "text": [
            "INFO:root:[0] Ed: 140800, train_loss: 1.27538, acc: 0.48583\n"
          ]
        },
        {
          "name": "stdout",
          "output_type": "stream",
          "text": [
            "[INFO 2025-03-03 14:29:43,454] [0] Ed: 140800, train_loss: 1.27538, acc: 0.48583\n"
          ]
        },
        {
          "name": "stderr",
          "output_type": "stream",
          "text": [
            "INFO:root:[0] Ed: 144000, train_loss: 1.27520, acc: 0.48575\n"
          ]
        },
        {
          "name": "stdout",
          "output_type": "stream",
          "text": [
            "[INFO 2025-03-03 14:30:21,073] [0] Ed: 144000, train_loss: 1.27520, acc: 0.48575\n"
          ]
        },
        {
          "name": "stderr",
          "output_type": "stream",
          "text": [
            "INFO:root:[0] Ed: 147200, train_loss: 1.27486, acc: 0.48585\n"
          ]
        },
        {
          "name": "stdout",
          "output_type": "stream",
          "text": [
            "[INFO 2025-03-03 14:30:58,473] [0] Ed: 147200, train_loss: 1.27486, acc: 0.48585\n"
          ]
        },
        {
          "name": "stderr",
          "output_type": "stream",
          "text": [
            "INFO:root:[0] Ed: 150400, train_loss: 1.27416, acc: 0.48614\n"
          ]
        },
        {
          "name": "stdout",
          "output_type": "stream",
          "text": [
            "[INFO 2025-03-03 14:31:36,019] [0] Ed: 150400, train_loss: 1.27416, acc: 0.48614\n"
          ]
        },
        {
          "name": "stderr",
          "output_type": "stream",
          "text": [
            "INFO:root:[0] Ed: 153600, train_loss: 1.27355, acc: 0.48626\n"
          ]
        },
        {
          "name": "stdout",
          "output_type": "stream",
          "text": [
            "[INFO 2025-03-03 14:32:13,476] [0] Ed: 153600, train_loss: 1.27355, acc: 0.48626\n"
          ]
        },
        {
          "name": "stderr",
          "output_type": "stream",
          "text": [
            "INFO:root:[0] Ed: 156800, train_loss: 1.27296, acc: 0.48674\n"
          ]
        },
        {
          "name": "stdout",
          "output_type": "stream",
          "text": [
            "[INFO 2025-03-03 14:32:50,705] [0] Ed: 156800, train_loss: 1.27296, acc: 0.48674\n"
          ]
        },
        {
          "name": "stderr",
          "output_type": "stream",
          "text": [
            "INFO:root:[0] Ed: 160000, train_loss: 1.27252, acc: 0.48708\n"
          ]
        },
        {
          "name": "stdout",
          "output_type": "stream",
          "text": [
            "[INFO 2025-03-03 14:33:28,252] [0] Ed: 160000, train_loss: 1.27252, acc: 0.48708\n"
          ]
        },
        {
          "name": "stderr",
          "output_type": "stream",
          "text": [
            "INFO:root:[0] Ed: 163200, train_loss: 1.27223, acc: 0.48721\n"
          ]
        },
        {
          "name": "stdout",
          "output_type": "stream",
          "text": [
            "[INFO 2025-03-03 14:34:05,682] [0] Ed: 163200, train_loss: 1.27223, acc: 0.48721\n"
          ]
        },
        {
          "name": "stderr",
          "output_type": "stream",
          "text": [
            "INFO:root:[0] Ed: 166400, train_loss: 1.27225, acc: 0.48718\n"
          ]
        },
        {
          "name": "stdout",
          "output_type": "stream",
          "text": [
            "[INFO 2025-03-03 14:34:43,031] [0] Ed: 166400, train_loss: 1.27225, acc: 0.48718\n"
          ]
        },
        {
          "name": "stderr",
          "output_type": "stream",
          "text": [
            "INFO:root:[0] Ed: 169600, train_loss: 1.27225, acc: 0.48739\n"
          ]
        },
        {
          "name": "stdout",
          "output_type": "stream",
          "text": [
            "[INFO 2025-03-03 14:35:20,488] [0] Ed: 169600, train_loss: 1.27225, acc: 0.48739\n"
          ]
        },
        {
          "name": "stderr",
          "output_type": "stream",
          "text": [
            "INFO:root:[0] Ed: 172800, train_loss: 1.27180, acc: 0.48748\n"
          ]
        },
        {
          "name": "stdout",
          "output_type": "stream",
          "text": [
            "[INFO 2025-03-03 14:35:57,931] [0] Ed: 172800, train_loss: 1.27180, acc: 0.48748\n"
          ]
        },
        {
          "name": "stderr",
          "output_type": "stream",
          "text": [
            "INFO:root:[0] Ed: 176000, train_loss: 1.27147, acc: 0.48769\n"
          ]
        },
        {
          "name": "stdout",
          "output_type": "stream",
          "text": [
            "[INFO 2025-03-03 14:36:35,465] [0] Ed: 176000, train_loss: 1.27147, acc: 0.48769\n"
          ]
        },
        {
          "name": "stderr",
          "output_type": "stream",
          "text": [
            "INFO:root:[0] Ed: 179200, train_loss: 1.27114, acc: 0.48788\n"
          ]
        },
        {
          "name": "stdout",
          "output_type": "stream",
          "text": [
            "[INFO 2025-03-03 14:37:13,106] [0] Ed: 179200, train_loss: 1.27114, acc: 0.48788\n"
          ]
        },
        {
          "name": "stderr",
          "output_type": "stream",
          "text": [
            "INFO:root:[0] Ed: 182400, train_loss: 1.27122, acc: 0.48792\n"
          ]
        },
        {
          "name": "stdout",
          "output_type": "stream",
          "text": [
            "[INFO 2025-03-03 14:37:50,596] [0] Ed: 182400, train_loss: 1.27122, acc: 0.48792\n"
          ]
        },
        {
          "name": "stderr",
          "output_type": "stream",
          "text": [
            "INFO:root:[0] Ed: 185600, train_loss: 1.27080, acc: 0.48822\n"
          ]
        },
        {
          "name": "stdout",
          "output_type": "stream",
          "text": [
            "[INFO 2025-03-03 14:38:28,044] [0] Ed: 185600, train_loss: 1.27080, acc: 0.48822\n"
          ]
        },
        {
          "name": "stderr",
          "output_type": "stream",
          "text": [
            "INFO:root:[0] Ed: 188800, train_loss: 1.27055, acc: 0.48856\n"
          ]
        },
        {
          "name": "stdout",
          "output_type": "stream",
          "text": [
            "[INFO 2025-03-03 14:39:05,439] [0] Ed: 188800, train_loss: 1.27055, acc: 0.48856\n"
          ]
        },
        {
          "name": "stderr",
          "output_type": "stream",
          "text": [
            "INFO:root:[0] Ed: 192000, train_loss: 1.27077, acc: 0.48839\n"
          ]
        },
        {
          "name": "stdout",
          "output_type": "stream",
          "text": [
            "[INFO 2025-03-03 14:39:42,906] [0] Ed: 192000, train_loss: 1.27077, acc: 0.48839\n"
          ]
        },
        {
          "name": "stderr",
          "output_type": "stream",
          "text": [
            "INFO:root:[0] Ed: 195200, train_loss: 1.27065, acc: 0.48854\n"
          ]
        },
        {
          "name": "stdout",
          "output_type": "stream",
          "text": [
            "[INFO 2025-03-03 14:40:20,340] [0] Ed: 195200, train_loss: 1.27065, acc: 0.48854\n"
          ]
        },
        {
          "name": "stderr",
          "output_type": "stream",
          "text": [
            "INFO:root:[0] Ed: 198400, train_loss: 1.27067, acc: 0.48863\n"
          ]
        },
        {
          "name": "stdout",
          "output_type": "stream",
          "text": [
            "[INFO 2025-03-03 14:40:57,838] [0] Ed: 198400, train_loss: 1.27067, acc: 0.48863\n"
          ]
        },
        {
          "name": "stderr",
          "output_type": "stream",
          "text": [
            "INFO:root:[0] Ed: 201600, train_loss: 1.27042, acc: 0.48877\n"
          ]
        },
        {
          "name": "stdout",
          "output_type": "stream",
          "text": [
            "[INFO 2025-03-03 14:41:35,597] [0] Ed: 201600, train_loss: 1.27042, acc: 0.48877\n"
          ]
        },
        {
          "name": "stderr",
          "output_type": "stream",
          "text": [
            "INFO:root:[0] Ed: 204800, train_loss: 1.27039, acc: 0.48871\n"
          ]
        },
        {
          "name": "stdout",
          "output_type": "stream",
          "text": [
            "[INFO 2025-03-03 14:42:12,984] [0] Ed: 204800, train_loss: 1.27039, acc: 0.48871\n"
          ]
        },
        {
          "name": "stderr",
          "output_type": "stream",
          "text": [
            "INFO:root:[0] Ed: 208000, train_loss: 1.27047, acc: 0.48876\n"
          ]
        },
        {
          "name": "stdout",
          "output_type": "stream",
          "text": [
            "[INFO 2025-03-03 14:42:50,462] [0] Ed: 208000, train_loss: 1.27047, acc: 0.48876\n"
          ]
        },
        {
          "name": "stderr",
          "output_type": "stream",
          "text": [
            "INFO:root:[0] Ed: 211200, train_loss: 1.27043, acc: 0.48878\n"
          ]
        },
        {
          "name": "stdout",
          "output_type": "stream",
          "text": [
            "[INFO 2025-03-03 14:43:27,965] [0] Ed: 211200, train_loss: 1.27043, acc: 0.48878\n"
          ]
        },
        {
          "name": "stderr",
          "output_type": "stream",
          "text": [
            "INFO:root:[0] Ed: 214400, train_loss: 1.27029, acc: 0.48882\n"
          ]
        },
        {
          "name": "stdout",
          "output_type": "stream",
          "text": [
            "[INFO 2025-03-03 14:44:05,994] [0] Ed: 214400, train_loss: 1.27029, acc: 0.48882\n"
          ]
        },
        {
          "name": "stderr",
          "output_type": "stream",
          "text": [
            "INFO:root:[0] Ed: 217600, train_loss: 1.27016, acc: 0.48887\n"
          ]
        },
        {
          "name": "stdout",
          "output_type": "stream",
          "text": [
            "[INFO 2025-03-03 14:44:43,563] [0] Ed: 217600, train_loss: 1.27016, acc: 0.48887\n"
          ]
        },
        {
          "name": "stderr",
          "output_type": "stream",
          "text": [
            "INFO:root:[0] Ed: 220800, train_loss: 1.26997, acc: 0.48894\n"
          ]
        },
        {
          "name": "stdout",
          "output_type": "stream",
          "text": [
            "[INFO 2025-03-03 14:45:20,999] [0] Ed: 220800, train_loss: 1.26997, acc: 0.48894\n"
          ]
        },
        {
          "name": "stderr",
          "output_type": "stream",
          "text": [
            "INFO:root:[0] Ed: 224000, train_loss: 1.26963, acc: 0.48904\n"
          ]
        },
        {
          "name": "stdout",
          "output_type": "stream",
          "text": [
            "[INFO 2025-03-03 14:45:58,442] [0] Ed: 224000, train_loss: 1.26963, acc: 0.48904\n"
          ]
        },
        {
          "name": "stderr",
          "output_type": "stream",
          "text": [
            "INFO:root:[0] Ed: 227200, train_loss: 1.26924, acc: 0.48941\n"
          ]
        },
        {
          "name": "stdout",
          "output_type": "stream",
          "text": [
            "[INFO 2025-03-03 14:46:35,986] [0] Ed: 227200, train_loss: 1.26924, acc: 0.48941\n"
          ]
        },
        {
          "name": "stderr",
          "output_type": "stream",
          "text": [
            "INFO:root:[0] Ed: 230400, train_loss: 1.26899, acc: 0.48942\n"
          ]
        },
        {
          "name": "stdout",
          "output_type": "stream",
          "text": [
            "[INFO 2025-03-03 14:47:13,538] [0] Ed: 230400, train_loss: 1.26899, acc: 0.48942\n"
          ]
        },
        {
          "name": "stderr",
          "output_type": "stream",
          "text": [
            "INFO:root:[0] Ed: 233600, train_loss: 1.26860, acc: 0.48953\n"
          ]
        },
        {
          "name": "stdout",
          "output_type": "stream",
          "text": [
            "[INFO 2025-03-03 14:47:51,414] [0] Ed: 233600, train_loss: 1.26860, acc: 0.48953\n"
          ]
        },
        {
          "name": "stderr",
          "output_type": "stream",
          "text": [
            "INFO:root:Training finish.\n"
          ]
        },
        {
          "name": "stdout",
          "output_type": "stream",
          "text": [
            "[INFO 2025-03-03 14:48:23,165] Training finish.\n"
          ]
        },
        {
          "name": "stderr",
          "output_type": "stream",
          "text": [
            "INFO:root:Model saved to /content/drive/MyDrive/Colab Notebooks/NewsRecommendation/NRMS_title/epoch-3.pt.\n"
          ]
        },
        {
          "name": "stdout",
          "output_type": "stream",
          "text": [
            "[INFO 2025-03-03 14:48:23,237] Model saved to /content/drive/MyDrive/Colab Notebooks/NewsRecommendation/NRMS_title/epoch-3.pt.\n"
          ]
        },
        {
          "name": "stderr",
          "output_type": "stream",
          "text": [
            "INFO:root:[0] Ed: 0, train_loss: inf, acc: inf\n"
          ]
        },
        {
          "name": "stdout",
          "output_type": "stream",
          "text": [
            "[INFO 2025-03-03 14:48:23,627] [0] Ed: 0, train_loss: inf, acc: inf\n"
          ]
        },
        {
          "name": "stderr",
          "output_type": "stream",
          "text": [
            "INFO:root:[0] Ed: 3200, train_loss: 1.27820, acc: 0.50250\n"
          ]
        },
        {
          "name": "stdout",
          "output_type": "stream",
          "text": [
            "[INFO 2025-03-03 14:49:01,204] [0] Ed: 3200, train_loss: 1.27820, acc: 0.50250\n"
          ]
        },
        {
          "name": "stderr",
          "output_type": "stream",
          "text": [
            "INFO:root:[0] Ed: 6400, train_loss: 1.26204, acc: 0.50281\n"
          ]
        },
        {
          "name": "stdout",
          "output_type": "stream",
          "text": [
            "[INFO 2025-03-03 14:49:38,660] [0] Ed: 6400, train_loss: 1.26204, acc: 0.50281\n"
          ]
        },
        {
          "name": "stderr",
          "output_type": "stream",
          "text": [
            "INFO:root:[0] Ed: 9600, train_loss: 1.26169, acc: 0.49844\n"
          ]
        },
        {
          "name": "stdout",
          "output_type": "stream",
          "text": [
            "[INFO 2025-03-03 14:50:16,108] [0] Ed: 9600, train_loss: 1.26169, acc: 0.49844\n"
          ]
        },
        {
          "name": "stderr",
          "output_type": "stream",
          "text": [
            "INFO:root:[0] Ed: 12800, train_loss: 1.25910, acc: 0.49836\n"
          ]
        },
        {
          "name": "stdout",
          "output_type": "stream",
          "text": [
            "[INFO 2025-03-03 14:50:53,602] [0] Ed: 12800, train_loss: 1.25910, acc: 0.49836\n"
          ]
        },
        {
          "name": "stderr",
          "output_type": "stream",
          "text": [
            "INFO:root:[0] Ed: 16000, train_loss: 1.26281, acc: 0.49425\n"
          ]
        },
        {
          "name": "stdout",
          "output_type": "stream",
          "text": [
            "[INFO 2025-03-03 14:51:30,923] [0] Ed: 16000, train_loss: 1.26281, acc: 0.49425\n"
          ]
        },
        {
          "name": "stderr",
          "output_type": "stream",
          "text": [
            "INFO:root:[0] Ed: 19200, train_loss: 1.26242, acc: 0.49443\n"
          ]
        },
        {
          "name": "stdout",
          "output_type": "stream",
          "text": [
            "[INFO 2025-03-03 14:52:08,720] [0] Ed: 19200, train_loss: 1.26242, acc: 0.49443\n"
          ]
        },
        {
          "name": "stderr",
          "output_type": "stream",
          "text": [
            "INFO:root:[0] Ed: 22400, train_loss: 1.26125, acc: 0.49504\n"
          ]
        },
        {
          "name": "stdout",
          "output_type": "stream",
          "text": [
            "[INFO 2025-03-03 14:52:46,204] [0] Ed: 22400, train_loss: 1.26125, acc: 0.49504\n"
          ]
        },
        {
          "name": "stderr",
          "output_type": "stream",
          "text": [
            "INFO:root:[0] Ed: 25600, train_loss: 1.25863, acc: 0.49656\n"
          ]
        },
        {
          "name": "stdout",
          "output_type": "stream",
          "text": [
            "[INFO 2025-03-03 14:53:23,622] [0] Ed: 25600, train_loss: 1.25863, acc: 0.49656\n"
          ]
        },
        {
          "name": "stderr",
          "output_type": "stream",
          "text": [
            "INFO:root:[0] Ed: 28800, train_loss: 1.25880, acc: 0.49583\n"
          ]
        },
        {
          "name": "stdout",
          "output_type": "stream",
          "text": [
            "[INFO 2025-03-03 14:54:00,971] [0] Ed: 28800, train_loss: 1.25880, acc: 0.49583\n"
          ]
        },
        {
          "name": "stderr",
          "output_type": "stream",
          "text": [
            "INFO:root:[0] Ed: 32000, train_loss: 1.25765, acc: 0.49578\n"
          ]
        },
        {
          "name": "stdout",
          "output_type": "stream",
          "text": [
            "[INFO 2025-03-03 14:54:38,418] [0] Ed: 32000, train_loss: 1.25765, acc: 0.49578\n"
          ]
        },
        {
          "name": "stderr",
          "output_type": "stream",
          "text": [
            "INFO:root:[0] Ed: 35200, train_loss: 1.25903, acc: 0.49580\n"
          ]
        },
        {
          "name": "stdout",
          "output_type": "stream",
          "text": [
            "[INFO 2025-03-03 14:55:16,006] [0] Ed: 35200, train_loss: 1.25903, acc: 0.49580\n"
          ]
        },
        {
          "name": "stderr",
          "output_type": "stream",
          "text": [
            "INFO:root:[0] Ed: 38400, train_loss: 1.25741, acc: 0.49635\n"
          ]
        },
        {
          "name": "stdout",
          "output_type": "stream",
          "text": [
            "[INFO 2025-03-03 14:55:53,632] [0] Ed: 38400, train_loss: 1.25741, acc: 0.49635\n"
          ]
        },
        {
          "name": "stderr",
          "output_type": "stream",
          "text": [
            "INFO:root:[0] Ed: 41600, train_loss: 1.25579, acc: 0.49685\n"
          ]
        },
        {
          "name": "stdout",
          "output_type": "stream",
          "text": [
            "[INFO 2025-03-03 14:56:31,087] [0] Ed: 41600, train_loss: 1.25579, acc: 0.49685\n"
          ]
        },
        {
          "name": "stderr",
          "output_type": "stream",
          "text": [
            "INFO:root:[0] Ed: 44800, train_loss: 1.25489, acc: 0.49656\n"
          ]
        },
        {
          "name": "stdout",
          "output_type": "stream",
          "text": [
            "[INFO 2025-03-03 14:57:08,677] [0] Ed: 44800, train_loss: 1.25489, acc: 0.49656\n"
          ]
        },
        {
          "name": "stderr",
          "output_type": "stream",
          "text": [
            "INFO:root:[0] Ed: 48000, train_loss: 1.25474, acc: 0.49629\n"
          ]
        },
        {
          "name": "stdout",
          "output_type": "stream",
          "text": [
            "[INFO 2025-03-03 14:57:46,162] [0] Ed: 48000, train_loss: 1.25474, acc: 0.49629\n"
          ]
        },
        {
          "name": "stderr",
          "output_type": "stream",
          "text": [
            "INFO:root:[0] Ed: 51200, train_loss: 1.25437, acc: 0.49645\n"
          ]
        },
        {
          "name": "stdout",
          "output_type": "stream",
          "text": [
            "[INFO 2025-03-03 14:58:23,711] [0] Ed: 51200, train_loss: 1.25437, acc: 0.49645\n"
          ]
        },
        {
          "name": "stderr",
          "output_type": "stream",
          "text": [
            "INFO:root:[0] Ed: 54400, train_loss: 1.25385, acc: 0.49678\n"
          ]
        },
        {
          "name": "stdout",
          "output_type": "stream",
          "text": [
            "[INFO 2025-03-03 14:59:01,641] [0] Ed: 54400, train_loss: 1.25385, acc: 0.49678\n"
          ]
        },
        {
          "name": "stderr",
          "output_type": "stream",
          "text": [
            "INFO:root:[0] Ed: 57600, train_loss: 1.25325, acc: 0.49760\n"
          ]
        },
        {
          "name": "stdout",
          "output_type": "stream",
          "text": [
            "[INFO 2025-03-03 14:59:39,264] [0] Ed: 57600, train_loss: 1.25325, acc: 0.49760\n"
          ]
        },
        {
          "name": "stderr",
          "output_type": "stream",
          "text": [
            "INFO:root:[0] Ed: 60800, train_loss: 1.25344, acc: 0.49762\n"
          ]
        },
        {
          "name": "stdout",
          "output_type": "stream",
          "text": [
            "[INFO 2025-03-03 15:00:16,584] [0] Ed: 60800, train_loss: 1.25344, acc: 0.49762\n"
          ]
        },
        {
          "name": "stderr",
          "output_type": "stream",
          "text": [
            "INFO:root:[0] Ed: 64000, train_loss: 1.25217, acc: 0.49830\n"
          ]
        },
        {
          "name": "stdout",
          "output_type": "stream",
          "text": [
            "[INFO 2025-03-03 15:00:53,943] [0] Ed: 64000, train_loss: 1.25217, acc: 0.49830\n"
          ]
        },
        {
          "name": "stderr",
          "output_type": "stream",
          "text": [
            "INFO:root:[0] Ed: 67200, train_loss: 1.25138, acc: 0.49894\n"
          ]
        },
        {
          "name": "stdout",
          "output_type": "stream",
          "text": [
            "[INFO 2025-03-03 15:01:31,439] [0] Ed: 67200, train_loss: 1.25138, acc: 0.49894\n"
          ]
        },
        {
          "name": "stderr",
          "output_type": "stream",
          "text": [
            "INFO:root:[0] Ed: 70400, train_loss: 1.25059, acc: 0.49923\n"
          ]
        },
        {
          "name": "stdout",
          "output_type": "stream",
          "text": [
            "[INFO 2025-03-03 15:02:08,823] [0] Ed: 70400, train_loss: 1.25059, acc: 0.49923\n"
          ]
        },
        {
          "name": "stderr",
          "output_type": "stream",
          "text": [
            "INFO:root:[0] Ed: 73600, train_loss: 1.25059, acc: 0.49860\n"
          ]
        },
        {
          "name": "stdout",
          "output_type": "stream",
          "text": [
            "[INFO 2025-03-03 15:02:46,565] [0] Ed: 73600, train_loss: 1.25059, acc: 0.49860\n"
          ]
        },
        {
          "name": "stderr",
          "output_type": "stream",
          "text": [
            "INFO:root:[0] Ed: 76800, train_loss: 1.24955, acc: 0.49931\n"
          ]
        },
        {
          "name": "stdout",
          "output_type": "stream",
          "text": [
            "[INFO 2025-03-03 15:03:24,082] [0] Ed: 76800, train_loss: 1.24955, acc: 0.49931\n"
          ]
        },
        {
          "name": "stderr",
          "output_type": "stream",
          "text": [
            "INFO:root:[0] Ed: 80000, train_loss: 1.24992, acc: 0.49922\n"
          ]
        },
        {
          "name": "stdout",
          "output_type": "stream",
          "text": [
            "[INFO 2025-03-03 15:04:01,619] [0] Ed: 80000, train_loss: 1.24992, acc: 0.49922\n"
          ]
        },
        {
          "name": "stderr",
          "output_type": "stream",
          "text": [
            "INFO:root:[0] Ed: 83200, train_loss: 1.24910, acc: 0.50001\n"
          ]
        },
        {
          "name": "stdout",
          "output_type": "stream",
          "text": [
            "[INFO 2025-03-03 15:04:39,070] [0] Ed: 83200, train_loss: 1.24910, acc: 0.50001\n"
          ]
        },
        {
          "name": "stderr",
          "output_type": "stream",
          "text": [
            "INFO:root:[0] Ed: 86400, train_loss: 1.24873, acc: 0.50008\n"
          ]
        },
        {
          "name": "stdout",
          "output_type": "stream",
          "text": [
            "[INFO 2025-03-03 15:05:16,393] [0] Ed: 86400, train_loss: 1.24873, acc: 0.50008\n"
          ]
        },
        {
          "name": "stderr",
          "output_type": "stream",
          "text": [
            "INFO:root:[0] Ed: 89600, train_loss: 1.24795, acc: 0.50048\n"
          ]
        },
        {
          "name": "stdout",
          "output_type": "stream",
          "text": [
            "[INFO 2025-03-03 15:05:53,701] [0] Ed: 89600, train_loss: 1.24795, acc: 0.50048\n"
          ]
        },
        {
          "name": "stderr",
          "output_type": "stream",
          "text": [
            "INFO:root:[0] Ed: 92800, train_loss: 1.24844, acc: 0.50001\n"
          ]
        },
        {
          "name": "stdout",
          "output_type": "stream",
          "text": [
            "[INFO 2025-03-03 15:06:31,073] [0] Ed: 92800, train_loss: 1.24844, acc: 0.50001\n"
          ]
        },
        {
          "name": "stderr",
          "output_type": "stream",
          "text": [
            "INFO:root:[0] Ed: 96000, train_loss: 1.24785, acc: 0.50015\n"
          ]
        },
        {
          "name": "stdout",
          "output_type": "stream",
          "text": [
            "[INFO 2025-03-03 15:07:08,690] [0] Ed: 96000, train_loss: 1.24785, acc: 0.50015\n"
          ]
        },
        {
          "name": "stderr",
          "output_type": "stream",
          "text": [
            "INFO:root:[0] Ed: 99200, train_loss: 1.24761, acc: 0.50007\n"
          ]
        },
        {
          "name": "stdout",
          "output_type": "stream",
          "text": [
            "[INFO 2025-03-03 15:07:46,214] [0] Ed: 99200, train_loss: 1.24761, acc: 0.50007\n"
          ]
        },
        {
          "name": "stderr",
          "output_type": "stream",
          "text": [
            "INFO:root:[0] Ed: 102400, train_loss: 1.24695, acc: 0.50052\n"
          ]
        },
        {
          "name": "stdout",
          "output_type": "stream",
          "text": [
            "[INFO 2025-03-03 15:08:23,612] [0] Ed: 102400, train_loss: 1.24695, acc: 0.50052\n"
          ]
        },
        {
          "name": "stderr",
          "output_type": "stream",
          "text": [
            "INFO:root:[0] Ed: 105600, train_loss: 1.24583, acc: 0.50121\n"
          ]
        },
        {
          "name": "stdout",
          "output_type": "stream",
          "text": [
            "[INFO 2025-03-03 15:09:01,069] [0] Ed: 105600, train_loss: 1.24583, acc: 0.50121\n"
          ]
        },
        {
          "name": "stderr",
          "output_type": "stream",
          "text": [
            "INFO:root:[0] Ed: 108800, train_loss: 1.24605, acc: 0.50105\n"
          ]
        },
        {
          "name": "stdout",
          "output_type": "stream",
          "text": [
            "[INFO 2025-03-03 15:09:38,706] [0] Ed: 108800, train_loss: 1.24605, acc: 0.50105\n"
          ]
        },
        {
          "name": "stderr",
          "output_type": "stream",
          "text": [
            "INFO:root:[0] Ed: 112000, train_loss: 1.24622, acc: 0.50085\n"
          ]
        },
        {
          "name": "stdout",
          "output_type": "stream",
          "text": [
            "[INFO 2025-03-03 15:10:16,207] [0] Ed: 112000, train_loss: 1.24622, acc: 0.50085\n"
          ]
        },
        {
          "name": "stderr",
          "output_type": "stream",
          "text": [
            "INFO:root:[0] Ed: 115200, train_loss: 1.24591, acc: 0.50076\n"
          ]
        },
        {
          "name": "stdout",
          "output_type": "stream",
          "text": [
            "[INFO 2025-03-03 15:10:53,917] [0] Ed: 115200, train_loss: 1.24591, acc: 0.50076\n"
          ]
        },
        {
          "name": "stderr",
          "output_type": "stream",
          "text": [
            "INFO:root:[0] Ed: 118400, train_loss: 1.24510, acc: 0.50116\n"
          ]
        },
        {
          "name": "stdout",
          "output_type": "stream",
          "text": [
            "[INFO 2025-03-03 15:11:31,587] [0] Ed: 118400, train_loss: 1.24510, acc: 0.50116\n"
          ]
        },
        {
          "name": "stderr",
          "output_type": "stream",
          "text": [
            "INFO:root:[0] Ed: 121600, train_loss: 1.24471, acc: 0.50126\n"
          ]
        },
        {
          "name": "stdout",
          "output_type": "stream",
          "text": [
            "[INFO 2025-03-03 15:12:09,352] [0] Ed: 121600, train_loss: 1.24471, acc: 0.50126\n"
          ]
        },
        {
          "name": "stderr",
          "output_type": "stream",
          "text": [
            "INFO:root:[0] Ed: 124800, train_loss: 1.24437, acc: 0.50123\n"
          ]
        },
        {
          "name": "stdout",
          "output_type": "stream",
          "text": [
            "[INFO 2025-03-03 15:12:47,171] [0] Ed: 124800, train_loss: 1.24437, acc: 0.50123\n"
          ]
        },
        {
          "name": "stderr",
          "output_type": "stream",
          "text": [
            "INFO:root:[0] Ed: 128000, train_loss: 1.24480, acc: 0.50126\n"
          ]
        },
        {
          "name": "stdout",
          "output_type": "stream",
          "text": [
            "[INFO 2025-03-03 15:13:25,279] [0] Ed: 128000, train_loss: 1.24480, acc: 0.50126\n"
          ]
        },
        {
          "name": "stderr",
          "output_type": "stream",
          "text": [
            "INFO:root:[0] Ed: 131200, train_loss: 1.24400, acc: 0.50165\n"
          ]
        },
        {
          "name": "stdout",
          "output_type": "stream",
          "text": [
            "[INFO 2025-03-03 15:14:02,950] [0] Ed: 131200, train_loss: 1.24400, acc: 0.50165\n"
          ]
        },
        {
          "name": "stderr",
          "output_type": "stream",
          "text": [
            "INFO:root:[0] Ed: 134400, train_loss: 1.24403, acc: 0.50157\n"
          ]
        },
        {
          "name": "stdout",
          "output_type": "stream",
          "text": [
            "[INFO 2025-03-03 15:14:40,322] [0] Ed: 134400, train_loss: 1.24403, acc: 0.50157\n"
          ]
        },
        {
          "name": "stderr",
          "output_type": "stream",
          "text": [
            "INFO:root:[0] Ed: 137600, train_loss: 1.24409, acc: 0.50173\n"
          ]
        },
        {
          "name": "stdout",
          "output_type": "stream",
          "text": [
            "[INFO 2025-03-03 15:15:17,896] [0] Ed: 137600, train_loss: 1.24409, acc: 0.50173\n"
          ]
        },
        {
          "name": "stderr",
          "output_type": "stream",
          "text": [
            "INFO:root:[0] Ed: 140800, train_loss: 1.24363, acc: 0.50212\n"
          ]
        },
        {
          "name": "stdout",
          "output_type": "stream",
          "text": [
            "[INFO 2025-03-03 15:15:55,411] [0] Ed: 140800, train_loss: 1.24363, acc: 0.50212\n"
          ]
        },
        {
          "name": "stderr",
          "output_type": "stream",
          "text": [
            "INFO:root:[0] Ed: 144000, train_loss: 1.24350, acc: 0.50190\n"
          ]
        },
        {
          "name": "stdout",
          "output_type": "stream",
          "text": [
            "[INFO 2025-03-03 15:16:32,804] [0] Ed: 144000, train_loss: 1.24350, acc: 0.50190\n"
          ]
        },
        {
          "name": "stderr",
          "output_type": "stream",
          "text": [
            "INFO:root:[0] Ed: 147200, train_loss: 1.24330, acc: 0.50205\n"
          ]
        },
        {
          "name": "stdout",
          "output_type": "stream",
          "text": [
            "[INFO 2025-03-03 15:17:10,133] [0] Ed: 147200, train_loss: 1.24330, acc: 0.50205\n"
          ]
        },
        {
          "name": "stderr",
          "output_type": "stream",
          "text": [
            "INFO:root:[0] Ed: 150400, train_loss: 1.24253, acc: 0.50235\n"
          ]
        },
        {
          "name": "stdout",
          "output_type": "stream",
          "text": [
            "[INFO 2025-03-03 15:17:47,705] [0] Ed: 150400, train_loss: 1.24253, acc: 0.50235\n"
          ]
        },
        {
          "name": "stderr",
          "output_type": "stream",
          "text": [
            "INFO:root:[0] Ed: 153600, train_loss: 1.24172, acc: 0.50244\n"
          ]
        },
        {
          "name": "stdout",
          "output_type": "stream",
          "text": [
            "[INFO 2025-03-03 15:18:25,283] [0] Ed: 153600, train_loss: 1.24172, acc: 0.50244\n"
          ]
        },
        {
          "name": "stderr",
          "output_type": "stream",
          "text": [
            "INFO:root:[0] Ed: 156800, train_loss: 1.24127, acc: 0.50284\n"
          ]
        },
        {
          "name": "stdout",
          "output_type": "stream",
          "text": [
            "[INFO 2025-03-03 15:19:02,875] [0] Ed: 156800, train_loss: 1.24127, acc: 0.50284\n"
          ]
        },
        {
          "name": "stderr",
          "output_type": "stream",
          "text": [
            "INFO:root:[0] Ed: 160000, train_loss: 1.24093, acc: 0.50313\n"
          ]
        },
        {
          "name": "stdout",
          "output_type": "stream",
          "text": [
            "[INFO 2025-03-03 15:19:40,396] [0] Ed: 160000, train_loss: 1.24093, acc: 0.50313\n"
          ]
        },
        {
          "name": "stderr",
          "output_type": "stream",
          "text": [
            "INFO:root:[0] Ed: 163200, train_loss: 1.24069, acc: 0.50317\n"
          ]
        },
        {
          "name": "stdout",
          "output_type": "stream",
          "text": [
            "[INFO 2025-03-03 15:20:18,088] [0] Ed: 163200, train_loss: 1.24069, acc: 0.50317\n"
          ]
        },
        {
          "name": "stderr",
          "output_type": "stream",
          "text": [
            "INFO:root:[0] Ed: 166400, train_loss: 1.24077, acc: 0.50307\n"
          ]
        },
        {
          "name": "stdout",
          "output_type": "stream",
          "text": [
            "[INFO 2025-03-03 15:20:55,519] [0] Ed: 166400, train_loss: 1.24077, acc: 0.50307\n"
          ]
        },
        {
          "name": "stderr",
          "output_type": "stream",
          "text": [
            "INFO:root:[0] Ed: 169600, train_loss: 1.24088, acc: 0.50302\n"
          ]
        },
        {
          "name": "stdout",
          "output_type": "stream",
          "text": [
            "[INFO 2025-03-03 15:21:33,066] [0] Ed: 169600, train_loss: 1.24088, acc: 0.50302\n"
          ]
        },
        {
          "name": "stderr",
          "output_type": "stream",
          "text": [
            "INFO:root:[0] Ed: 172800, train_loss: 1.24046, acc: 0.50321\n"
          ]
        },
        {
          "name": "stdout",
          "output_type": "stream",
          "text": [
            "[INFO 2025-03-03 15:22:10,687] [0] Ed: 172800, train_loss: 1.24046, acc: 0.50321\n"
          ]
        },
        {
          "name": "stderr",
          "output_type": "stream",
          "text": [
            "INFO:root:[0] Ed: 176000, train_loss: 1.23997, acc: 0.50339\n"
          ]
        },
        {
          "name": "stdout",
          "output_type": "stream",
          "text": [
            "[INFO 2025-03-03 15:22:48,644] [0] Ed: 176000, train_loss: 1.23997, acc: 0.50339\n"
          ]
        },
        {
          "name": "stderr",
          "output_type": "stream",
          "text": [
            "INFO:root:[0] Ed: 179200, train_loss: 1.23978, acc: 0.50352\n"
          ]
        },
        {
          "name": "stdout",
          "output_type": "stream",
          "text": [
            "[INFO 2025-03-03 15:23:26,511] [0] Ed: 179200, train_loss: 1.23978, acc: 0.50352\n"
          ]
        },
        {
          "name": "stderr",
          "output_type": "stream",
          "text": [
            "INFO:root:[0] Ed: 182400, train_loss: 1.23979, acc: 0.50351\n"
          ]
        },
        {
          "name": "stdout",
          "output_type": "stream",
          "text": [
            "[INFO 2025-03-03 15:24:04,324] [0] Ed: 182400, train_loss: 1.23979, acc: 0.50351\n"
          ]
        },
        {
          "name": "stderr",
          "output_type": "stream",
          "text": [
            "INFO:root:[0] Ed: 185600, train_loss: 1.23958, acc: 0.50362\n"
          ]
        },
        {
          "name": "stdout",
          "output_type": "stream",
          "text": [
            "[INFO 2025-03-03 15:24:41,833] [0] Ed: 185600, train_loss: 1.23958, acc: 0.50362\n"
          ]
        },
        {
          "name": "stderr",
          "output_type": "stream",
          "text": [
            "INFO:root:[0] Ed: 188800, train_loss: 1.23942, acc: 0.50380\n"
          ]
        },
        {
          "name": "stdout",
          "output_type": "stream",
          "text": [
            "[INFO 2025-03-03 15:25:19,070] [0] Ed: 188800, train_loss: 1.23942, acc: 0.50380\n"
          ]
        },
        {
          "name": "stderr",
          "output_type": "stream",
          "text": [
            "INFO:root:[0] Ed: 192000, train_loss: 1.23963, acc: 0.50368\n"
          ]
        },
        {
          "name": "stdout",
          "output_type": "stream",
          "text": [
            "[INFO 2025-03-03 15:25:56,272] [0] Ed: 192000, train_loss: 1.23963, acc: 0.50368\n"
          ]
        },
        {
          "name": "stderr",
          "output_type": "stream",
          "text": [
            "INFO:root:[0] Ed: 195200, train_loss: 1.23949, acc: 0.50384\n"
          ]
        },
        {
          "name": "stdout",
          "output_type": "stream",
          "text": [
            "[INFO 2025-03-03 15:26:33,554] [0] Ed: 195200, train_loss: 1.23949, acc: 0.50384\n"
          ]
        },
        {
          "name": "stderr",
          "output_type": "stream",
          "text": [
            "INFO:root:[0] Ed: 198400, train_loss: 1.23963, acc: 0.50389\n"
          ]
        },
        {
          "name": "stdout",
          "output_type": "stream",
          "text": [
            "[INFO 2025-03-03 15:27:10,858] [0] Ed: 198400, train_loss: 1.23963, acc: 0.50389\n"
          ]
        },
        {
          "name": "stderr",
          "output_type": "stream",
          "text": [
            "INFO:root:[0] Ed: 201600, train_loss: 1.23929, acc: 0.50403\n"
          ]
        },
        {
          "name": "stdout",
          "output_type": "stream",
          "text": [
            "[INFO 2025-03-03 15:27:48,469] [0] Ed: 201600, train_loss: 1.23929, acc: 0.50403\n"
          ]
        },
        {
          "name": "stderr",
          "output_type": "stream",
          "text": [
            "INFO:root:[0] Ed: 204800, train_loss: 1.23933, acc: 0.50388\n"
          ]
        },
        {
          "name": "stdout",
          "output_type": "stream",
          "text": [
            "[INFO 2025-03-03 15:28:26,109] [0] Ed: 204800, train_loss: 1.23933, acc: 0.50388\n"
          ]
        },
        {
          "name": "stderr",
          "output_type": "stream",
          "text": [
            "INFO:root:[0] Ed: 208000, train_loss: 1.23946, acc: 0.50388\n"
          ]
        },
        {
          "name": "stdout",
          "output_type": "stream",
          "text": [
            "[INFO 2025-03-03 15:29:03,600] [0] Ed: 208000, train_loss: 1.23946, acc: 0.50388\n"
          ]
        },
        {
          "name": "stderr",
          "output_type": "stream",
          "text": [
            "INFO:root:[0] Ed: 211200, train_loss: 1.23952, acc: 0.50383\n"
          ]
        },
        {
          "name": "stdout",
          "output_type": "stream",
          "text": [
            "[INFO 2025-03-03 15:29:41,077] [0] Ed: 211200, train_loss: 1.23952, acc: 0.50383\n"
          ]
        },
        {
          "name": "stderr",
          "output_type": "stream",
          "text": [
            "INFO:root:[0] Ed: 214400, train_loss: 1.23933, acc: 0.50393\n"
          ]
        },
        {
          "name": "stdout",
          "output_type": "stream",
          "text": [
            "[INFO 2025-03-03 15:30:18,473] [0] Ed: 214400, train_loss: 1.23933, acc: 0.50393\n"
          ]
        },
        {
          "name": "stderr",
          "output_type": "stream",
          "text": [
            "INFO:root:[0] Ed: 217600, train_loss: 1.23919, acc: 0.50390\n"
          ]
        },
        {
          "name": "stdout",
          "output_type": "stream",
          "text": [
            "[INFO 2025-03-03 15:30:56,031] [0] Ed: 217600, train_loss: 1.23919, acc: 0.50390\n"
          ]
        },
        {
          "name": "stderr",
          "output_type": "stream",
          "text": [
            "INFO:root:[0] Ed: 220800, train_loss: 1.23892, acc: 0.50394\n"
          ]
        },
        {
          "name": "stdout",
          "output_type": "stream",
          "text": [
            "[INFO 2025-03-03 15:31:33,439] [0] Ed: 220800, train_loss: 1.23892, acc: 0.50394\n"
          ]
        },
        {
          "name": "stderr",
          "output_type": "stream",
          "text": [
            "INFO:root:[0] Ed: 224000, train_loss: 1.23852, acc: 0.50401\n"
          ]
        },
        {
          "name": "stdout",
          "output_type": "stream",
          "text": [
            "[INFO 2025-03-03 15:32:10,892] [0] Ed: 224000, train_loss: 1.23852, acc: 0.50401\n"
          ]
        },
        {
          "name": "stderr",
          "output_type": "stream",
          "text": [
            "INFO:root:[0] Ed: 227200, train_loss: 1.23823, acc: 0.50417\n"
          ]
        },
        {
          "name": "stdout",
          "output_type": "stream",
          "text": [
            "[INFO 2025-03-03 15:32:48,163] [0] Ed: 227200, train_loss: 1.23823, acc: 0.50417\n"
          ]
        },
        {
          "name": "stderr",
          "output_type": "stream",
          "text": [
            "INFO:root:[0] Ed: 230400, train_loss: 1.23805, acc: 0.50431\n"
          ]
        },
        {
          "name": "stdout",
          "output_type": "stream",
          "text": [
            "[INFO 2025-03-03 15:33:25,520] [0] Ed: 230400, train_loss: 1.23805, acc: 0.50431\n"
          ]
        },
        {
          "name": "stderr",
          "output_type": "stream",
          "text": [
            "INFO:root:[0] Ed: 233600, train_loss: 1.23750, acc: 0.50450\n"
          ]
        },
        {
          "name": "stdout",
          "output_type": "stream",
          "text": [
            "[INFO 2025-03-03 15:34:02,941] [0] Ed: 233600, train_loss: 1.23750, acc: 0.50450\n"
          ]
        },
        {
          "name": "stderr",
          "output_type": "stream",
          "text": [
            "INFO:root:Training finish.\n"
          ]
        },
        {
          "name": "stdout",
          "output_type": "stream",
          "text": [
            "[INFO 2025-03-03 15:34:34,858] Training finish.\n"
          ]
        },
        {
          "name": "stderr",
          "output_type": "stream",
          "text": [
            "INFO:root:Model saved to /content/drive/MyDrive/Colab Notebooks/NewsRecommendation/NRMS_title/epoch-4.pt.\n"
          ]
        },
        {
          "name": "stdout",
          "output_type": "stream",
          "text": [
            "[INFO 2025-03-03 15:34:34,929] Model saved to /content/drive/MyDrive/Colab Notebooks/NewsRecommendation/NRMS_title/epoch-4.pt.\n"
          ]
        },
        {
          "name": "stderr",
          "output_type": "stream",
          "text": [
            "INFO:root:[0] Ed: 0, train_loss: inf, acc: inf\n"
          ]
        },
        {
          "name": "stdout",
          "output_type": "stream",
          "text": [
            "[INFO 2025-03-03 15:34:35,322] [0] Ed: 0, train_loss: inf, acc: inf\n"
          ]
        },
        {
          "name": "stderr",
          "output_type": "stream",
          "text": [
            "INFO:root:[0] Ed: 3200, train_loss: 1.24564, acc: 0.51375\n"
          ]
        },
        {
          "name": "stdout",
          "output_type": "stream",
          "text": [
            "[INFO 2025-03-03 15:35:13,030] [0] Ed: 3200, train_loss: 1.24564, acc: 0.51375\n"
          ]
        },
        {
          "name": "stderr",
          "output_type": "stream",
          "text": [
            "INFO:root:[0] Ed: 6400, train_loss: 1.23202, acc: 0.51359\n"
          ]
        },
        {
          "name": "stdout",
          "output_type": "stream",
          "text": [
            "[INFO 2025-03-03 15:35:50,506] [0] Ed: 6400, train_loss: 1.23202, acc: 0.51359\n"
          ]
        },
        {
          "name": "stderr",
          "output_type": "stream",
          "text": [
            "INFO:root:[0] Ed: 9600, train_loss: 1.23286, acc: 0.51177\n"
          ]
        },
        {
          "name": "stdout",
          "output_type": "stream",
          "text": [
            "[INFO 2025-03-03 15:36:28,005] [0] Ed: 9600, train_loss: 1.23286, acc: 0.51177\n"
          ]
        },
        {
          "name": "stderr",
          "output_type": "stream",
          "text": [
            "INFO:root:[0] Ed: 12800, train_loss: 1.22809, acc: 0.51375\n"
          ]
        },
        {
          "name": "stdout",
          "output_type": "stream",
          "text": [
            "[INFO 2025-03-03 15:37:05,622] [0] Ed: 12800, train_loss: 1.22809, acc: 0.51375\n"
          ]
        },
        {
          "name": "stderr",
          "output_type": "stream",
          "text": [
            "INFO:root:[0] Ed: 16000, train_loss: 1.23124, acc: 0.51063\n"
          ]
        },
        {
          "name": "stdout",
          "output_type": "stream",
          "text": [
            "[INFO 2025-03-03 15:37:43,020] [0] Ed: 16000, train_loss: 1.23124, acc: 0.51063\n"
          ]
        },
        {
          "name": "stderr",
          "output_type": "stream",
          "text": [
            "INFO:root:[0] Ed: 19200, train_loss: 1.23195, acc: 0.50885\n"
          ]
        },
        {
          "name": "stdout",
          "output_type": "stream",
          "text": [
            "[INFO 2025-03-03 15:38:20,354] [0] Ed: 19200, train_loss: 1.23195, acc: 0.50885\n"
          ]
        },
        {
          "name": "stderr",
          "output_type": "stream",
          "text": [
            "INFO:root:[0] Ed: 22400, train_loss: 1.23085, acc: 0.50951\n"
          ]
        },
        {
          "name": "stdout",
          "output_type": "stream",
          "text": [
            "[INFO 2025-03-03 15:38:58,153] [0] Ed: 22400, train_loss: 1.23085, acc: 0.50951\n"
          ]
        },
        {
          "name": "stderr",
          "output_type": "stream",
          "text": [
            "INFO:root:[0] Ed: 25600, train_loss: 1.22835, acc: 0.51156\n"
          ]
        },
        {
          "name": "stdout",
          "output_type": "stream",
          "text": [
            "[INFO 2025-03-03 15:39:35,510] [0] Ed: 25600, train_loss: 1.22835, acc: 0.51156\n"
          ]
        },
        {
          "name": "stderr",
          "output_type": "stream",
          "text": [
            "INFO:root:[0] Ed: 28800, train_loss: 1.22826, acc: 0.51177\n"
          ]
        },
        {
          "name": "stdout",
          "output_type": "stream",
          "text": [
            "[INFO 2025-03-03 15:40:12,995] [0] Ed: 28800, train_loss: 1.22826, acc: 0.51177\n"
          ]
        },
        {
          "name": "stderr",
          "output_type": "stream",
          "text": [
            "INFO:root:[0] Ed: 32000, train_loss: 1.22780, acc: 0.51222\n"
          ]
        },
        {
          "name": "stdout",
          "output_type": "stream",
          "text": [
            "[INFO 2025-03-03 15:40:50,569] [0] Ed: 32000, train_loss: 1.22780, acc: 0.51222\n"
          ]
        },
        {
          "name": "stderr",
          "output_type": "stream",
          "text": [
            "INFO:root:[0] Ed: 35200, train_loss: 1.22914, acc: 0.51162\n"
          ]
        },
        {
          "name": "stdout",
          "output_type": "stream",
          "text": [
            "[INFO 2025-03-03 15:41:27,959] [0] Ed: 35200, train_loss: 1.22914, acc: 0.51162\n"
          ]
        },
        {
          "name": "stderr",
          "output_type": "stream",
          "text": [
            "INFO:root:[0] Ed: 38400, train_loss: 1.22781, acc: 0.51135\n"
          ]
        },
        {
          "name": "stdout",
          "output_type": "stream",
          "text": [
            "[INFO 2025-03-03 15:42:05,337] [0] Ed: 38400, train_loss: 1.22781, acc: 0.51135\n"
          ]
        },
        {
          "name": "stderr",
          "output_type": "stream",
          "text": [
            "INFO:root:[0] Ed: 41600, train_loss: 1.22609, acc: 0.51187\n"
          ]
        },
        {
          "name": "stdout",
          "output_type": "stream",
          "text": [
            "[INFO 2025-03-03 15:42:42,674] [0] Ed: 41600, train_loss: 1.22609, acc: 0.51187\n"
          ]
        },
        {
          "name": "stderr",
          "output_type": "stream",
          "text": [
            "INFO:root:[0] Ed: 44800, train_loss: 1.22580, acc: 0.51143\n"
          ]
        },
        {
          "name": "stdout",
          "output_type": "stream",
          "text": [
            "[INFO 2025-03-03 15:43:20,104] [0] Ed: 44800, train_loss: 1.22580, acc: 0.51143\n"
          ]
        },
        {
          "name": "stderr",
          "output_type": "stream",
          "text": [
            "INFO:root:[0] Ed: 48000, train_loss: 1.22524, acc: 0.51167\n"
          ]
        },
        {
          "name": "stdout",
          "output_type": "stream",
          "text": [
            "[INFO 2025-03-03 15:43:57,488] [0] Ed: 48000, train_loss: 1.22524, acc: 0.51167\n"
          ]
        },
        {
          "name": "stderr",
          "output_type": "stream",
          "text": [
            "INFO:root:[0] Ed: 51200, train_loss: 1.22481, acc: 0.51170\n"
          ]
        },
        {
          "name": "stdout",
          "output_type": "stream",
          "text": [
            "[INFO 2025-03-03 15:44:34,982] [0] Ed: 51200, train_loss: 1.22481, acc: 0.51170\n"
          ]
        },
        {
          "name": "stderr",
          "output_type": "stream",
          "text": [
            "INFO:root:[0] Ed: 54400, train_loss: 1.22407, acc: 0.51241\n"
          ]
        },
        {
          "name": "stdout",
          "output_type": "stream",
          "text": [
            "[INFO 2025-03-03 15:45:12,528] [0] Ed: 54400, train_loss: 1.22407, acc: 0.51241\n"
          ]
        },
        {
          "name": "stderr",
          "output_type": "stream",
          "text": [
            "INFO:root:[0] Ed: 57600, train_loss: 1.22390, acc: 0.51233\n"
          ]
        },
        {
          "name": "stdout",
          "output_type": "stream",
          "text": [
            "[INFO 2025-03-03 15:45:50,337] [0] Ed: 57600, train_loss: 1.22390, acc: 0.51233\n"
          ]
        },
        {
          "name": "stderr",
          "output_type": "stream",
          "text": [
            "INFO:root:[0] Ed: 60800, train_loss: 1.22358, acc: 0.51237\n"
          ]
        },
        {
          "name": "stdout",
          "output_type": "stream",
          "text": [
            "[INFO 2025-03-03 15:46:28,090] [0] Ed: 60800, train_loss: 1.22358, acc: 0.51237\n"
          ]
        },
        {
          "name": "stderr",
          "output_type": "stream",
          "text": [
            "INFO:root:[0] Ed: 64000, train_loss: 1.22212, acc: 0.51308\n"
          ]
        },
        {
          "name": "stdout",
          "output_type": "stream",
          "text": [
            "[INFO 2025-03-03 15:47:05,418] [0] Ed: 64000, train_loss: 1.22212, acc: 0.51308\n"
          ]
        },
        {
          "name": "stderr",
          "output_type": "stream",
          "text": [
            "INFO:root:[0] Ed: 67200, train_loss: 1.22115, acc: 0.51391\n"
          ]
        },
        {
          "name": "stdout",
          "output_type": "stream",
          "text": [
            "[INFO 2025-03-03 15:47:42,928] [0] Ed: 67200, train_loss: 1.22115, acc: 0.51391\n"
          ]
        },
        {
          "name": "stderr",
          "output_type": "stream",
          "text": [
            "INFO:root:[0] Ed: 70400, train_loss: 1.22024, acc: 0.51406\n"
          ]
        },
        {
          "name": "stdout",
          "output_type": "stream",
          "text": [
            "[INFO 2025-03-03 15:48:20,370] [0] Ed: 70400, train_loss: 1.22024, acc: 0.51406\n"
          ]
        },
        {
          "name": "stderr",
          "output_type": "stream",
          "text": [
            "INFO:root:[0] Ed: 73600, train_loss: 1.22050, acc: 0.51333\n"
          ]
        },
        {
          "name": "stdout",
          "output_type": "stream",
          "text": [
            "[INFO 2025-03-03 15:48:57,878] [0] Ed: 73600, train_loss: 1.22050, acc: 0.51333\n"
          ]
        },
        {
          "name": "stderr",
          "output_type": "stream",
          "text": [
            "INFO:root:[0] Ed: 76800, train_loss: 1.21938, acc: 0.51411\n"
          ]
        },
        {
          "name": "stdout",
          "output_type": "stream",
          "text": [
            "[INFO 2025-03-03 15:49:35,526] [0] Ed: 76800, train_loss: 1.21938, acc: 0.51411\n"
          ]
        },
        {
          "name": "stderr",
          "output_type": "stream",
          "text": [
            "INFO:root:[0] Ed: 80000, train_loss: 1.21959, acc: 0.51385\n"
          ]
        },
        {
          "name": "stdout",
          "output_type": "stream",
          "text": [
            "[INFO 2025-03-03 15:50:12,856] [0] Ed: 80000, train_loss: 1.21959, acc: 0.51385\n"
          ]
        },
        {
          "name": "stderr",
          "output_type": "stream",
          "text": [
            "INFO:root:[0] Ed: 83200, train_loss: 1.21849, acc: 0.51430\n"
          ]
        },
        {
          "name": "stdout",
          "output_type": "stream",
          "text": [
            "[INFO 2025-03-03 15:50:50,131] [0] Ed: 83200, train_loss: 1.21849, acc: 0.51430\n"
          ]
        },
        {
          "name": "stderr",
          "output_type": "stream",
          "text": [
            "INFO:root:[0] Ed: 86400, train_loss: 1.21829, acc: 0.51463\n"
          ]
        },
        {
          "name": "stdout",
          "output_type": "stream",
          "text": [
            "[INFO 2025-03-03 15:51:27,605] [0] Ed: 86400, train_loss: 1.21829, acc: 0.51463\n"
          ]
        },
        {
          "name": "stderr",
          "output_type": "stream",
          "text": [
            "INFO:root:[0] Ed: 89600, train_loss: 1.21747, acc: 0.51487\n"
          ]
        },
        {
          "name": "stdout",
          "output_type": "stream",
          "text": [
            "[INFO 2025-03-03 15:52:04,920] [0] Ed: 89600, train_loss: 1.21747, acc: 0.51487\n"
          ]
        },
        {
          "name": "stderr",
          "output_type": "stream",
          "text": [
            "INFO:root:[0] Ed: 92800, train_loss: 1.21824, acc: 0.51430\n"
          ]
        },
        {
          "name": "stdout",
          "output_type": "stream",
          "text": [
            "[INFO 2025-03-03 15:52:42,240] [0] Ed: 92800, train_loss: 1.21824, acc: 0.51430\n"
          ]
        },
        {
          "name": "stderr",
          "output_type": "stream",
          "text": [
            "INFO:root:[0] Ed: 96000, train_loss: 1.21766, acc: 0.51478\n"
          ]
        },
        {
          "name": "stdout",
          "output_type": "stream",
          "text": [
            "[INFO 2025-03-03 15:53:19,554] [0] Ed: 96000, train_loss: 1.21766, acc: 0.51478\n"
          ]
        },
        {
          "name": "stderr",
          "output_type": "stream",
          "text": [
            "INFO:root:[0] Ed: 99200, train_loss: 1.21741, acc: 0.51456\n"
          ]
        },
        {
          "name": "stdout",
          "output_type": "stream",
          "text": [
            "[INFO 2025-03-03 15:53:56,859] [0] Ed: 99200, train_loss: 1.21741, acc: 0.51456\n"
          ]
        },
        {
          "name": "stderr",
          "output_type": "stream",
          "text": [
            "INFO:root:[0] Ed: 102400, train_loss: 1.21654, acc: 0.51467\n"
          ]
        },
        {
          "name": "stdout",
          "output_type": "stream",
          "text": [
            "[INFO 2025-03-03 15:54:34,164] [0] Ed: 102400, train_loss: 1.21654, acc: 0.51467\n"
          ]
        },
        {
          "name": "stderr",
          "output_type": "stream",
          "text": [
            "INFO:root:[0] Ed: 105600, train_loss: 1.21535, acc: 0.51532\n"
          ]
        },
        {
          "name": "stdout",
          "output_type": "stream",
          "text": [
            "[INFO 2025-03-03 15:55:11,734] [0] Ed: 105600, train_loss: 1.21535, acc: 0.51532\n"
          ]
        },
        {
          "name": "stderr",
          "output_type": "stream",
          "text": [
            "INFO:root:[0] Ed: 108800, train_loss: 1.21545, acc: 0.51539\n"
          ]
        },
        {
          "name": "stdout",
          "output_type": "stream",
          "text": [
            "[INFO 2025-03-03 15:55:49,377] [0] Ed: 108800, train_loss: 1.21545, acc: 0.51539\n"
          ]
        },
        {
          "name": "stderr",
          "output_type": "stream",
          "text": [
            "INFO:root:[0] Ed: 112000, train_loss: 1.21574, acc: 0.51508\n"
          ]
        },
        {
          "name": "stdout",
          "output_type": "stream",
          "text": [
            "[INFO 2025-03-03 15:56:27,105] [0] Ed: 112000, train_loss: 1.21574, acc: 0.51508\n"
          ]
        },
        {
          "name": "stderr",
          "output_type": "stream",
          "text": [
            "INFO:root:[0] Ed: 115200, train_loss: 1.21572, acc: 0.51496\n"
          ]
        },
        {
          "name": "stdout",
          "output_type": "stream",
          "text": [
            "[INFO 2025-03-03 15:57:04,724] [0] Ed: 115200, train_loss: 1.21572, acc: 0.51496\n"
          ]
        },
        {
          "name": "stderr",
          "output_type": "stream",
          "text": [
            "INFO:root:[0] Ed: 118400, train_loss: 1.21466, acc: 0.51546\n"
          ]
        },
        {
          "name": "stdout",
          "output_type": "stream",
          "text": [
            "[INFO 2025-03-03 15:57:42,105] [0] Ed: 118400, train_loss: 1.21466, acc: 0.51546\n"
          ]
        },
        {
          "name": "stderr",
          "output_type": "stream",
          "text": [
            "INFO:root:[0] Ed: 121600, train_loss: 1.21413, acc: 0.51558\n"
          ]
        },
        {
          "name": "stdout",
          "output_type": "stream",
          "text": [
            "[INFO 2025-03-03 15:58:19,753] [0] Ed: 121600, train_loss: 1.21413, acc: 0.51558\n"
          ]
        },
        {
          "name": "stderr",
          "output_type": "stream",
          "text": [
            "INFO:root:[0] Ed: 124800, train_loss: 1.21383, acc: 0.51557\n"
          ]
        },
        {
          "name": "stdout",
          "output_type": "stream",
          "text": [
            "[INFO 2025-03-03 15:58:57,224] [0] Ed: 124800, train_loss: 1.21383, acc: 0.51557\n"
          ]
        },
        {
          "name": "stderr",
          "output_type": "stream",
          "text": [
            "INFO:root:[0] Ed: 128000, train_loss: 1.21422, acc: 0.51558\n"
          ]
        },
        {
          "name": "stdout",
          "output_type": "stream",
          "text": [
            "[INFO 2025-03-03 15:59:34,628] [0] Ed: 128000, train_loss: 1.21422, acc: 0.51558\n"
          ]
        },
        {
          "name": "stderr",
          "output_type": "stream",
          "text": [
            "INFO:root:[0] Ed: 131200, train_loss: 1.21354, acc: 0.51614\n"
          ]
        },
        {
          "name": "stdout",
          "output_type": "stream",
          "text": [
            "[INFO 2025-03-03 16:00:12,203] [0] Ed: 131200, train_loss: 1.21354, acc: 0.51614\n"
          ]
        },
        {
          "name": "stderr",
          "output_type": "stream",
          "text": [
            "INFO:root:[0] Ed: 134400, train_loss: 1.21363, acc: 0.51603\n"
          ]
        },
        {
          "name": "stdout",
          "output_type": "stream",
          "text": [
            "[INFO 2025-03-03 16:00:49,477] [0] Ed: 134400, train_loss: 1.21363, acc: 0.51603\n"
          ]
        },
        {
          "name": "stderr",
          "output_type": "stream",
          "text": [
            "INFO:root:[0] Ed: 137600, train_loss: 1.21364, acc: 0.51613\n"
          ]
        },
        {
          "name": "stdout",
          "output_type": "stream",
          "text": [
            "[INFO 2025-03-03 16:01:26,831] [0] Ed: 137600, train_loss: 1.21364, acc: 0.51613\n"
          ]
        },
        {
          "name": "stderr",
          "output_type": "stream",
          "text": [
            "INFO:root:[0] Ed: 140800, train_loss: 1.21318, acc: 0.51631\n"
          ]
        },
        {
          "name": "stdout",
          "output_type": "stream",
          "text": [
            "[INFO 2025-03-03 16:02:04,172] [0] Ed: 140800, train_loss: 1.21318, acc: 0.51631\n"
          ]
        },
        {
          "name": "stderr",
          "output_type": "stream",
          "text": [
            "INFO:root:[0] Ed: 144000, train_loss: 1.21309, acc: 0.51612\n"
          ]
        },
        {
          "name": "stdout",
          "output_type": "stream",
          "text": [
            "[INFO 2025-03-03 16:02:41,459] [0] Ed: 144000, train_loss: 1.21309, acc: 0.51612\n"
          ]
        },
        {
          "name": "stderr",
          "output_type": "stream",
          "text": [
            "INFO:root:[0] Ed: 147200, train_loss: 1.21284, acc: 0.51636\n"
          ]
        },
        {
          "name": "stdout",
          "output_type": "stream",
          "text": [
            "[INFO 2025-03-03 16:03:18,800] [0] Ed: 147200, train_loss: 1.21284, acc: 0.51636\n"
          ]
        },
        {
          "name": "stderr",
          "output_type": "stream",
          "text": [
            "INFO:root:[0] Ed: 150400, train_loss: 1.21207, acc: 0.51662\n"
          ]
        },
        {
          "name": "stdout",
          "output_type": "stream",
          "text": [
            "[INFO 2025-03-03 16:03:56,185] [0] Ed: 150400, train_loss: 1.21207, acc: 0.51662\n"
          ]
        },
        {
          "name": "stderr",
          "output_type": "stream",
          "text": [
            "INFO:root:[0] Ed: 153600, train_loss: 1.21124, acc: 0.51690\n"
          ]
        },
        {
          "name": "stdout",
          "output_type": "stream",
          "text": [
            "[INFO 2025-03-03 16:04:33,603] [0] Ed: 153600, train_loss: 1.21124, acc: 0.51690\n"
          ]
        },
        {
          "name": "stderr",
          "output_type": "stream",
          "text": [
            "INFO:root:[0] Ed: 156800, train_loss: 1.21074, acc: 0.51732\n"
          ]
        },
        {
          "name": "stdout",
          "output_type": "stream",
          "text": [
            "[INFO 2025-03-03 16:05:10,933] [0] Ed: 156800, train_loss: 1.21074, acc: 0.51732\n"
          ]
        },
        {
          "name": "stderr",
          "output_type": "stream",
          "text": [
            "INFO:root:[0] Ed: 160000, train_loss: 1.21044, acc: 0.51758\n"
          ]
        },
        {
          "name": "stdout",
          "output_type": "stream",
          "text": [
            "[INFO 2025-03-03 16:05:48,360] [0] Ed: 160000, train_loss: 1.21044, acc: 0.51758\n"
          ]
        },
        {
          "name": "stderr",
          "output_type": "stream",
          "text": [
            "INFO:root:[0] Ed: 163200, train_loss: 1.21014, acc: 0.51773\n"
          ]
        },
        {
          "name": "stdout",
          "output_type": "stream",
          "text": [
            "[INFO 2025-03-03 16:06:25,901] [0] Ed: 163200, train_loss: 1.21014, acc: 0.51773\n"
          ]
        },
        {
          "name": "stderr",
          "output_type": "stream",
          "text": [
            "INFO:root:[0] Ed: 166400, train_loss: 1.21018, acc: 0.51766\n"
          ]
        },
        {
          "name": "stdout",
          "output_type": "stream",
          "text": [
            "[INFO 2025-03-03 16:07:03,813] [0] Ed: 166400, train_loss: 1.21018, acc: 0.51766\n"
          ]
        },
        {
          "name": "stderr",
          "output_type": "stream",
          "text": [
            "INFO:root:[0] Ed: 169600, train_loss: 1.21021, acc: 0.51772\n"
          ]
        },
        {
          "name": "stdout",
          "output_type": "stream",
          "text": [
            "[INFO 2025-03-03 16:07:41,155] [0] Ed: 169600, train_loss: 1.21021, acc: 0.51772\n"
          ]
        },
        {
          "name": "stderr",
          "output_type": "stream",
          "text": [
            "INFO:root:[0] Ed: 172800, train_loss: 1.20961, acc: 0.51793\n"
          ]
        },
        {
          "name": "stdout",
          "output_type": "stream",
          "text": [
            "[INFO 2025-03-03 16:08:18,620] [0] Ed: 172800, train_loss: 1.20961, acc: 0.51793\n"
          ]
        },
        {
          "name": "stderr",
          "output_type": "stream",
          "text": [
            "INFO:root:[0] Ed: 176000, train_loss: 1.20910, acc: 0.51803\n"
          ]
        },
        {
          "name": "stdout",
          "output_type": "stream",
          "text": [
            "[INFO 2025-03-03 16:08:56,079] [0] Ed: 176000, train_loss: 1.20910, acc: 0.51803\n"
          ]
        },
        {
          "name": "stderr",
          "output_type": "stream",
          "text": [
            "INFO:root:[0] Ed: 179200, train_loss: 1.20876, acc: 0.51823\n"
          ]
        },
        {
          "name": "stdout",
          "output_type": "stream",
          "text": [
            "[INFO 2025-03-03 16:09:33,581] [0] Ed: 179200, train_loss: 1.20876, acc: 0.51823\n"
          ]
        },
        {
          "name": "stderr",
          "output_type": "stream",
          "text": [
            "INFO:root:[0] Ed: 182400, train_loss: 1.20891, acc: 0.51826\n"
          ]
        },
        {
          "name": "stdout",
          "output_type": "stream",
          "text": [
            "[INFO 2025-03-03 16:10:11,061] [0] Ed: 182400, train_loss: 1.20891, acc: 0.51826\n"
          ]
        },
        {
          "name": "stderr",
          "output_type": "stream",
          "text": [
            "INFO:root:[0] Ed: 185600, train_loss: 1.20869, acc: 0.51831\n"
          ]
        },
        {
          "name": "stdout",
          "output_type": "stream",
          "text": [
            "[INFO 2025-03-03 16:10:48,998] [0] Ed: 185600, train_loss: 1.20869, acc: 0.51831\n"
          ]
        },
        {
          "name": "stderr",
          "output_type": "stream",
          "text": [
            "INFO:root:[0] Ed: 188800, train_loss: 1.20860, acc: 0.51847\n"
          ]
        },
        {
          "name": "stdout",
          "output_type": "stream",
          "text": [
            "[INFO 2025-03-03 16:11:26,442] [0] Ed: 188800, train_loss: 1.20860, acc: 0.51847\n"
          ]
        },
        {
          "name": "stderr",
          "output_type": "stream",
          "text": [
            "INFO:root:[0] Ed: 192000, train_loss: 1.20880, acc: 0.51846\n"
          ]
        },
        {
          "name": "stdout",
          "output_type": "stream",
          "text": [
            "[INFO 2025-03-03 16:12:03,851] [0] Ed: 192000, train_loss: 1.20880, acc: 0.51846\n"
          ]
        },
        {
          "name": "stderr",
          "output_type": "stream",
          "text": [
            "INFO:root:[0] Ed: 195200, train_loss: 1.20861, acc: 0.51860\n"
          ]
        },
        {
          "name": "stdout",
          "output_type": "stream",
          "text": [
            "[INFO 2025-03-03 16:12:41,155] [0] Ed: 195200, train_loss: 1.20861, acc: 0.51860\n"
          ]
        },
        {
          "name": "stderr",
          "output_type": "stream",
          "text": [
            "INFO:root:[0] Ed: 198400, train_loss: 1.20877, acc: 0.51863\n"
          ]
        },
        {
          "name": "stdout",
          "output_type": "stream",
          "text": [
            "[INFO 2025-03-03 16:13:18,642] [0] Ed: 198400, train_loss: 1.20877, acc: 0.51863\n"
          ]
        },
        {
          "name": "stderr",
          "output_type": "stream",
          "text": [
            "INFO:root:[0] Ed: 201600, train_loss: 1.20828, acc: 0.51883\n"
          ]
        },
        {
          "name": "stdout",
          "output_type": "stream",
          "text": [
            "[INFO 2025-03-03 16:13:56,065] [0] Ed: 201600, train_loss: 1.20828, acc: 0.51883\n"
          ]
        },
        {
          "name": "stderr",
          "output_type": "stream",
          "text": [
            "INFO:root:[0] Ed: 204800, train_loss: 1.20838, acc: 0.51872\n"
          ]
        },
        {
          "name": "stdout",
          "output_type": "stream",
          "text": [
            "[INFO 2025-03-03 16:14:33,337] [0] Ed: 204800, train_loss: 1.20838, acc: 0.51872\n"
          ]
        },
        {
          "name": "stderr",
          "output_type": "stream",
          "text": [
            "INFO:root:[0] Ed: 208000, train_loss: 1.20854, acc: 0.51871\n"
          ]
        },
        {
          "name": "stdout",
          "output_type": "stream",
          "text": [
            "[INFO 2025-03-03 16:15:10,739] [0] Ed: 208000, train_loss: 1.20854, acc: 0.51871\n"
          ]
        },
        {
          "name": "stderr",
          "output_type": "stream",
          "text": [
            "INFO:root:[0] Ed: 211200, train_loss: 1.20845, acc: 0.51892\n"
          ]
        },
        {
          "name": "stdout",
          "output_type": "stream",
          "text": [
            "[INFO 2025-03-03 16:15:48,142] [0] Ed: 211200, train_loss: 1.20845, acc: 0.51892\n"
          ]
        },
        {
          "name": "stderr",
          "output_type": "stream",
          "text": [
            "INFO:root:[0] Ed: 214400, train_loss: 1.20821, acc: 0.51916\n"
          ]
        },
        {
          "name": "stdout",
          "output_type": "stream",
          "text": [
            "[INFO 2025-03-03 16:16:25,646] [0] Ed: 214400, train_loss: 1.20821, acc: 0.51916\n"
          ]
        },
        {
          "name": "stderr",
          "output_type": "stream",
          "text": [
            "INFO:root:[0] Ed: 217600, train_loss: 1.20816, acc: 0.51902\n"
          ]
        },
        {
          "name": "stdout",
          "output_type": "stream",
          "text": [
            "[INFO 2025-03-03 16:17:03,097] [0] Ed: 217600, train_loss: 1.20816, acc: 0.51902\n"
          ]
        },
        {
          "name": "stderr",
          "output_type": "stream",
          "text": [
            "INFO:root:[0] Ed: 220800, train_loss: 1.20783, acc: 0.51905\n"
          ]
        },
        {
          "name": "stdout",
          "output_type": "stream",
          "text": [
            "[INFO 2025-03-03 16:17:40,607] [0] Ed: 220800, train_loss: 1.20783, acc: 0.51905\n"
          ]
        },
        {
          "name": "stderr",
          "output_type": "stream",
          "text": [
            "INFO:root:[0] Ed: 224000, train_loss: 1.20745, acc: 0.51902\n"
          ]
        },
        {
          "name": "stdout",
          "output_type": "stream",
          "text": [
            "[INFO 2025-03-03 16:18:17,866] [0] Ed: 224000, train_loss: 1.20745, acc: 0.51902\n"
          ]
        },
        {
          "name": "stderr",
          "output_type": "stream",
          "text": [
            "INFO:root:[0] Ed: 227200, train_loss: 1.20712, acc: 0.51912\n"
          ]
        },
        {
          "name": "stdout",
          "output_type": "stream",
          "text": [
            "[INFO 2025-03-03 16:18:55,151] [0] Ed: 227200, train_loss: 1.20712, acc: 0.51912\n"
          ]
        },
        {
          "name": "stderr",
          "output_type": "stream",
          "text": [
            "INFO:root:[0] Ed: 230400, train_loss: 1.20701, acc: 0.51916\n"
          ]
        },
        {
          "name": "stdout",
          "output_type": "stream",
          "text": [
            "[INFO 2025-03-03 16:19:32,503] [0] Ed: 230400, train_loss: 1.20701, acc: 0.51916\n"
          ]
        },
        {
          "name": "stderr",
          "output_type": "stream",
          "text": [
            "INFO:root:[0] Ed: 233600, train_loss: 1.20658, acc: 0.51928\n"
          ]
        },
        {
          "name": "stdout",
          "output_type": "stream",
          "text": [
            "[INFO 2025-03-03 16:20:09,873] [0] Ed: 233600, train_loss: 1.20658, acc: 0.51928\n"
          ]
        },
        {
          "name": "stderr",
          "output_type": "stream",
          "text": [
            "INFO:root:Training finish.\n"
          ]
        },
        {
          "name": "stdout",
          "output_type": "stream",
          "text": [
            "[INFO 2025-03-03 16:20:41,400] Training finish.\n"
          ]
        },
        {
          "name": "stderr",
          "output_type": "stream",
          "text": [
            "INFO:root:Model saved to /content/drive/MyDrive/Colab Notebooks/NewsRecommendation/NRMS_title/epoch-5.pt.\n"
          ]
        },
        {
          "name": "stdout",
          "output_type": "stream",
          "text": [
            "[INFO 2025-03-03 16:20:41,471] Model saved to /content/drive/MyDrive/Colab Notebooks/NewsRecommendation/NRMS_title/epoch-5.pt.\n"
          ]
        }
      ],
      "source": [
        "import torch.optim as optim\n",
        "\n",
        "model = NRMS(args, embedding_matrix, len(category_dict), len(subcategory_dict))\n",
        "is_distributed = False\n",
        "args.load_ckpt_name = 'epoch-1.pt'\n",
        "if args.load_ckpt_name is not None:\n",
        "\tckpt_path = get_checkpoint(args.model_dir, args.load_ckpt_name)\n",
        "\tcheckpoint = torch.load(ckpt_path, map_location='cpu')\n",
        "\tmodel.load_state_dict(checkpoint['model_state_dict'])\n",
        "\tlogging.info(f\"Model loaded from {ckpt_path}.\")\n",
        "\n",
        "optimizer = optim.Adam(model.parameters(), lr=args.lr)\n",
        "\n",
        "if args.enable_gpu:\n",
        "\tmodel = model.cuda(rank)\n",
        "\n",
        "if is_distributed:\n",
        "\tmodel = torch.nn.parallel.DistributedDataParallel(model, device_ids=[rank])\n",
        "\n",
        "data_file_path = os.path.join(args.train_data_dir, f'behaviors_np{args.npratio}_{rank}.tsv')\n",
        "\n",
        "dataset = DatasetTrain(data_file_path, news_index, news_combined, args)\n",
        "dataloader = DataLoader(dataset, batch_size=args.batch_size)\n",
        "\n",
        "logging.info('Training...')\n",
        "for ep in range(args.start_epoch + 1, args.epochs):\n",
        "\tloss = 0.0\n",
        "\taccuary = 0.0\n",
        "\tfor cnt, (log_ids, input_ids, targets) in enumerate(dataloader):\n",
        "\t\tif args.enable_gpu:\n",
        "\t\t\tlog_ids = log_ids.cuda(rank, non_blocking=True)\n",
        "\t\t\t# log_mask = log_mask.cuda(rank, non_blocking=True)\n",
        "\t\t\tinput_ids = input_ids.cuda(rank, non_blocking=True)\n",
        "\t\t\ttargets = targets.cuda(rank, non_blocking=True)\n",
        "\n",
        "\n",
        "\t\tbz_loss, y_hat = model(log_ids, input_ids, targets)\n",
        "\t\tloss += bz_loss.data.float()\n",
        "\t\taccuary += acc(targets, y_hat)\n",
        "\t\toptimizer.zero_grad()\n",
        "\t\tbz_loss.backward()\n",
        "\t\toptimizer.step()\n",
        "\n",
        "\t\tif cnt % args.log_steps == 0:\n",
        "\t\t\tlogging.info(\n",
        "\t\t\t\t'[{}] Ed: {}, train_loss: {:.5f}, acc: {:.5f}'.format(\n",
        "\t\t\t\t\trank, cnt * args.batch_size, loss.data / cnt, accuary / cnt)\n",
        "\t\t\t)\n",
        "\n",
        "\t\tif rank == 0 and cnt != 0 and cnt % args.save_steps == 0:\n",
        "\t\t\tckpt_path = os.path.join(args.model_dir, f'epoch-{ep+1}-{cnt}.pt')\n",
        "\t\t\ttorch.save(\n",
        "\t\t\t\t{\n",
        "\t\t\t\t\t'model_state_dict':\n",
        "\t\t\t\t\t\t{'.'.join(k.split('.')[1:]): v for k, v in model.state_dict().items()}\n",
        "\t\t\t\t\t\tif is_distributed else model.state_dict(),\n",
        "\t\t\t\t\t'category_dict': category_dict,\n",
        "\t\t\t\t\t'word_dict': word_dict,\n",
        "\t\t\t\t\t'subcategory_dict': subcategory_dict\n",
        "\t\t\t\t}, ckpt_path)\n",
        "\t\t\tlogging.info(f\"Model saved to {ckpt_path}.\")\n",
        "\n",
        "\tlogging.info('Training finish.')\n",
        "\n",
        "\tif rank == 0:\n",
        "\t\tckpt_path = os.path.join(args.model_dir, f'epoch-{ep+1}.pt')\n",
        "\t\ttorch.save(\n",
        "\t\t\t{\n",
        "\t\t\t\t'model_state_dict':\n",
        "\t\t\t\t\t{'.'.join(k.split('.')[1:]): v for k, v in model.state_dict().items()}\n",
        "\t\t\t\t\tif is_distributed else model.state_dict(),\n",
        "\t\t\t\t'category_dict': category_dict,\n",
        "\t\t\t\t'subcategory_dict': subcategory_dict,\n",
        "\t\t\t\t'word_dict': word_dict,\n",
        "\t\t\t}, ckpt_path)\n",
        "\t\tlogging.info(f\"Model saved to {ckpt_path}.\")\n",
        "\n"
      ]
    },
    {
      "cell_type": "code",
      "execution_count": null,
      "metadata": {
        "colab": {
          "base_uri": "https://localhost:8080/",
          "height": 17
        },
        "id": "ePSOz5lRMqIa",
        "outputId": "053f65c0-d48b-41aa-d754-da17cd4577c6"
      },
      "outputs": [
        {
          "data": {
            "application/javascript": "\n    async function download(id, filename, size) {\n      if (!google.colab.kernel.accessAllowed) {\n        return;\n      }\n      const div = document.createElement('div');\n      const label = document.createElement('label');\n      label.textContent = `Downloading \"${filename}\": `;\n      div.appendChild(label);\n      const progress = document.createElement('progress');\n      progress.max = size;\n      div.appendChild(progress);\n      document.body.appendChild(div);\n\n      const buffers = [];\n      let downloaded = 0;\n\n      const channel = await google.colab.kernel.comms.open(id);\n      // Send a message to notify the kernel that we're ready.\n      channel.send({})\n\n      for await (const message of channel.messages) {\n        // Send a message to notify the kernel that we're ready.\n        channel.send({})\n        if (message.buffers) {\n          for (const buffer of message.buffers) {\n            buffers.push(buffer);\n            downloaded += buffer.byteLength;\n            progress.value = downloaded;\n          }\n        }\n      }\n      const blob = new Blob(buffers, {type: 'application/binary'});\n      const a = document.createElement('a');\n      a.href = window.URL.createObjectURL(blob);\n      a.download = filename;\n      div.appendChild(a);\n      a.click();\n      div.remove();\n    }\n  ",
            "text/plain": [
              "<IPython.core.display.Javascript object>"
            ]
          },
          "metadata": {},
          "output_type": "display_data"
        },
        {
          "data": {
            "application/javascript": "download(\"download_cba7c0fa-4bf0-49db-9bab-62ec1bf7a977\", \"epoch-5.pt\", 17934618)",
            "text/plain": [
              "<IPython.core.display.Javascript object>"
            ]
          },
          "metadata": {},
          "output_type": "display_data"
        }
      ],
      "source": [
        "import google.colab\n",
        "from google.colab import files\n",
        "files.download('/content/model/epoch-5.pt')"
      ]
    },
    {
      "cell_type": "code",
      "execution_count": null,
      "metadata": {
        "id": "8zaIGq-0Wv9C"
      },
      "outputs": [],
      "source": [
        "def test(rank, args):\n",
        "    is_distributed = False\n",
        "\n",
        "    torch.cuda.set_device(rank)\n",
        "\n",
        "    if args.load_ckpt_name is not None:\n",
        "        ckpt_path = get_checkpoint(args.model_dir, args.load_ckpt_name)\n",
        "\n",
        "    assert ckpt_path is not None, 'No checkpoint found.'\n",
        "    checkpoint = torch.load(ckpt_path, map_location='cpu')\n",
        "\n",
        "    subcategory_dict = checkpoint['subcategory_dict']\n",
        "    category_dict = checkpoint['category_dict']\n",
        "    word_dict = checkpoint['word_dict']\n",
        "\n",
        "    dummy_embedding_matrix = np.zeros((len(word_dict) + 1, args.word_embedding_dim))\n",
        "    model = NRMS(args, dummy_embedding_matrix, len(category_dict), len(subcategory_dict))\n",
        "    model.load_state_dict(checkpoint['model_state_dict'])\n",
        "    logging.info(f\"Model loaded from {ckpt_path}\")\n",
        "\n",
        "    if args.enable_gpu:\n",
        "        model.cuda(rank)\n",
        "\n",
        "    model.eval()\n",
        "    torch.set_grad_enabled(False)\n",
        "\n",
        "    news, news_index, category_dict, subcategory_dict, word_dict = read_news(\n",
        "        os.path.join(args.train_data_dir, 'news.tsv'), args.test_abstract_dir, args, mode='train')\n",
        "    news_title, news_category, news_subcategory, news_abstract = get_doc_input(\n",
        "        news, news_index, category_dict, subcategory_dict, word_dict, args)\n",
        "    news_combined = np.concatenate([x for x in [news_title, news_category, news_subcategory, news_abstract] if x is not None], axis=-1)\n",
        "\n",
        "    news_dataset = NewsDataset(news_combined)\n",
        "    news_dataloader = DataLoader(news_dataset,\n",
        "                                 batch_size=args.batch_size,\n",
        "                                 num_workers=4)\n",
        "\n",
        "    news_scoring = []\n",
        "    with torch.no_grad():\n",
        "        for input_ids in tqdm(news_dataloader):\n",
        "            input_ids = input_ids.cuda(rank)\n",
        "            news_vec = model.news_encoder(input_ids)\n",
        "            news_vec = news_vec.to(torch.device(\"cpu\")).detach().numpy()\n",
        "            news_scoring.extend(news_vec)\n",
        "\n",
        "    news_scoring = np.array(news_scoring)\n",
        "    logging.info(\"news scoring num: {}\".format(news_scoring.shape[0]))\n",
        "\n",
        "    if rank == 0:\n",
        "        doc_sim = 0\n",
        "        for _ in tqdm(range(1000000)):\n",
        "            i = random.randrange(1, len(news_scoring))\n",
        "            j = random.randrange(1, len(news_scoring))\n",
        "            if i != j:\n",
        "                doc_sim += np.dot(news_scoring[i], news_scoring[j]) / (np.linalg.norm(news_scoring[i]) * np.linalg.norm(news_scoring[j]))\n",
        "        logging.info(f'News doc-sim: {doc_sim / 1000000}')\n",
        "\n",
        "    data_file_path = os.path.join(args.test_data_dir, f'behaviors_{rank}.tsv')\n",
        "\n",
        "    def collate_fn(tuple_list):\n",
        "        log_vecs = torch.FloatTensor([x[0] for x in tuple_list])\n",
        "        # log_mask = torch.FloatTensor([x[1] for x in tuple_list])\n",
        "        news_vecs = [x[1] for x in tuple_list]\n",
        "        labels = [x[2] for x in tuple_list]\n",
        "        return (log_vecs, news_vecs, labels)\n",
        "\n",
        "    dataset = DatasetTest(data_file_path, news_index, news_scoring, args)\n",
        "    dataloader = DataLoader(dataset, batch_size=args.batch_size, collate_fn=collate_fn)\n",
        "\n",
        "    AUC = []\n",
        "    MRR = []\n",
        "    nDCG5 = []\n",
        "    nDCG10 = []\n",
        "\n",
        "    def print_metrics(rank, cnt, x):\n",
        "        logging.info(\"[{}] {} samples: {}\".format(rank, cnt, '\\t'.join([\"{:0.2f}\".format(i * 100) for i in x])))\n",
        "\n",
        "    def get_mean(arr):\n",
        "        return [np.array(i).mean() for i in arr]\n",
        "\n",
        "    def get_sum(arr):\n",
        "        return [np.array(i).sum() for i in arr]\n",
        "\n",
        "    local_sample_num = 0\n",
        "\n",
        "    for cnt, (log_vecs, news_vecs, labels) in enumerate(dataloader):\n",
        "        local_sample_num += log_vecs.shape[0]\n",
        "\n",
        "        if args.enable_gpu:\n",
        "            log_vecs = log_vecs.cuda(rank, non_blocking=True)\n",
        "\n",
        "        user_vecs = model.user_encoder(log_vecs).to(torch.device(\"cpu\")).detach().numpy()\n",
        "\n",
        "        for user_vec, news_vec, label in zip(user_vecs, news_vecs, labels):\n",
        "            if label.mean() == 0 or label.mean() == 1:\n",
        "                continue\n",
        "\n",
        "            score = np.dot(news_vec, user_vec)\n",
        "\n",
        "            auc = roc_auc_score(label, score)\n",
        "            mrr = mrr_score(label, score)\n",
        "            ndcg5 = ndcg_score(label, score, k=5)\n",
        "            ndcg10 = ndcg_score(label, score, k=10)\n",
        "\n",
        "            AUC.append(auc)\n",
        "            MRR.append(mrr)\n",
        "            nDCG5.append(ndcg5)\n",
        "            nDCG10.append(ndcg10)\n",
        "\n",
        "        if cnt % args.log_steps == 0:\n",
        "            print_metrics(rank, local_sample_num, get_mean([AUC, MRR, nDCG5, nDCG10]))\n",
        "\n",
        "    logging.info('[{}] local_sample_num: {}'.format(rank, local_sample_num))\n",
        "    if is_distributed:\n",
        "        local_sample_num = torch.tensor(local_sample_num).cuda(rank)\n",
        "        dist.reduce(local_sample_num, dst=0, op=dist.ReduceOp.SUM)\n",
        "        local_metrics_sum = torch.FloatTensor(get_sum([AUC, MRR, nDCG5, nDCG10])).cuda(rank)\n",
        "        dist.reduce(local_metrics_sum, dst=0, op=dist.ReduceOp.SUM)\n",
        "        if rank == 0:\n",
        "            print_metrics('*', local_sample_num, local_metrics_sum / local_sample_num)\n",
        "    else:\n",
        "        print_metrics('*', local_sample_num, get_mean([AUC, MRR, nDCG5, nDCG10]))\n"
      ]
    },
    {
      "cell_type": "markdown",
      "metadata": {
        "id": "P-sZ8O5OWvrp"
      },
      "source": []
    },
    {
      "cell_type": "code",
      "execution_count": null,
      "metadata": {
        "colab": {
          "base_uri": "https://localhost:8080/"
        },
        "id": "um0H4NwW69yY",
        "outputId": "aeb2a675-f9db-4762-de6b-5cb4a06c16e1"
      },
      "outputs": [
        {
          "name": "stderr",
          "output_type": "stream",
          "text": [
            "INFO:root:Preparing testing data...\n"
          ]
        },
        {
          "name": "stdout",
          "output_type": "stream",
          "text": [
            "[INFO 2025-03-03 16:20:41,854] Preparing testing data...\n"
          ]
        },
        {
          "name": "stderr",
          "output_type": "stream",
          "text": [
            "73152it [00:02, 28690.53it/s]\n",
            "INFO:root:Writing files...\n"
          ]
        },
        {
          "name": "stdout",
          "output_type": "stream",
          "text": [
            "[INFO 2025-03-03 16:20:44,833] Writing files...\n"
          ]
        },
        {
          "name": "stderr",
          "output_type": "stream",
          "text": [
            "INFO:root:73152 testing samples in total.\n"
          ]
        },
        {
          "name": "stdout",
          "output_type": "stream",
          "text": [
            "[INFO 2025-03-03 16:20:47,569] 73152 testing samples in total.\n"
          ]
        }
      ],
      "source": [
        "args.mode = 'test'\n",
        "args.user_log_mask=True\n",
        "args.batch_size=128\n",
        "args.load_ckpt_name= 'epoch-5.pt'\n",
        "args.prepare=True\n",
        "if 'test' in args.mode:\n",
        "        if args.prepare:\n",
        "            logging.info('Preparing testing data...')\n",
        "            total_sample_num = prepare_testing_data(args.test_data_dir, args.nGPU)\n",
        "        else:\n",
        "            total_sample_num = 0\n",
        "            for i in range(args.nGPU):\n",
        "                data_file_path = os.path.join(args.test_data_dir, f'behaviors_{i}.tsv')\n",
        "                if not os.path.exists(data_file_path):\n",
        "                    logging.error(f'Splited testing data {data_file_path} for GPU {i} does not exist. Please set the parameter --prepare as True and rerun the code.')\n",
        "                    exit()\n",
        "                result = subprocess.getoutput(f'wc -l {data_file_path}')\n",
        "                total_sample_num += int(result.split(' ')[0])\n",
        "            logging.info('Skip testing data preparation.')\n",
        "        logging.info(f'{total_sample_num} testing samples in total.')\n",
        "\n"
      ]
    },
    {
      "cell_type": "markdown",
      "metadata": {
        "id": "soI3jlXBCfD9"
      },
      "source": [
        "# Test\n"
      ]
    },
    {
      "cell_type": "code",
      "execution_count": null,
      "metadata": {
        "colab": {
          "base_uri": "https://localhost:8080/"
        },
        "id": "abHIlnIvCgsI",
        "outputId": "0a9b2029-7081-48e0-c2d2-be60c8a14d78"
      },
      "outputs": [
        {
          "name": "stderr",
          "output_type": "stream",
          "text": [
            "<ipython-input-22-07b4fad2991f>:10: FutureWarning: You are using `torch.load` with `weights_only=False` (the current default value), which uses the default pickle module implicitly. It is possible to construct malicious pickle data which will execute arbitrary code during unpickling (See https://github.com/pytorch/pytorch/blob/main/SECURITY.md#untrusted-models for more details). In a future release, the default value for `weights_only` will be flipped to `True`. This limits the functions that could be executed during unpickling. Arbitrary objects will no longer be allowed to be loaded via this mode unless they are explicitly allowlisted by the user via `torch.serialization.add_safe_globals`. We recommend you start setting `weights_only=True` for any use case where you don't have full control of the loaded file. Please open an issue on GitHub for any issues related to this experimental feature.\n",
            "  checkpoint = torch.load(ckpt_path, map_location='cpu')\n",
            "INFO:root:Model loaded from /content/drive/MyDrive/Colab Notebooks/NewsRecommendation/NRMS_title/epoch-5.pt\n"
          ]
        },
        {
          "name": "stdout",
          "output_type": "stream",
          "text": [
            "[INFO 2025-03-03 16:47:04,360] Model loaded from /content/drive/MyDrive/Colab Notebooks/NewsRecommendation/NRMS_title/epoch-5.pt\n"
          ]
        },
        {
          "name": "stderr",
          "output_type": "stream",
          "text": [
            "51282it [00:04, 11593.44it/s]\n",
            "100%|██████████| 51282/51282 [00:00<00:00, 184604.18it/s]\n",
            "100%|██████████| 401/401 [00:01<00:00, 236.87it/s]\n",
            "INFO:root:news scoring num: 51283\n"
          ]
        },
        {
          "name": "stdout",
          "output_type": "stream",
          "text": [
            "[INFO 2025-03-03 16:47:10,978] news scoring num: 51283\n"
          ]
        },
        {
          "name": "stderr",
          "output_type": "stream",
          "text": [
            "100%|██████████| 1000000/1000000 [00:09<00:00, 102039.16it/s]\n",
            "INFO:root:News doc-sim: 0.0501057828092307\n"
          ]
        },
        {
          "name": "stdout",
          "output_type": "stream",
          "text": [
            "[INFO 2025-03-03 16:47:20,783] News doc-sim: 0.0501057828092307\n"
          ]
        },
        {
          "name": "stderr",
          "output_type": "stream",
          "text": [
            "INFO:root:[0] 128 samples: 63.44\t30.68\t32.03\t39.13\n"
          ]
        },
        {
          "name": "stdout",
          "output_type": "stream",
          "text": [
            "[INFO 2025-03-03 16:47:21,375] [0] 128 samples: 63.44\t30.68\t32.03\t39.13\n"
          ]
        },
        {
          "name": "stderr",
          "output_type": "stream",
          "text": [
            "INFO:root:[0] 12928 samples: 64.07\t29.94\t32.81\t38.97\n"
          ]
        },
        {
          "name": "stdout",
          "output_type": "stream",
          "text": [
            "[INFO 2025-03-03 16:48:25,231] [0] 12928 samples: 64.07\t29.94\t32.81\t38.97\n"
          ]
        },
        {
          "name": "stderr",
          "output_type": "stream",
          "text": [
            "INFO:root:[0] 25728 samples: 64.08\t30.29\t33.00\t39.22\n"
          ]
        },
        {
          "name": "stdout",
          "output_type": "stream",
          "text": [
            "[INFO 2025-03-03 16:49:29,150] [0] 25728 samples: 64.08\t30.29\t33.00\t39.22\n"
          ]
        },
        {
          "name": "stderr",
          "output_type": "stream",
          "text": [
            "INFO:root:[0] 38528 samples: 64.10\t30.20\t32.91\t39.18\n"
          ]
        },
        {
          "name": "stdout",
          "output_type": "stream",
          "text": [
            "[INFO 2025-03-03 16:50:33,337] [0] 38528 samples: 64.10\t30.20\t32.91\t39.18\n"
          ]
        },
        {
          "name": "stderr",
          "output_type": "stream",
          "text": [
            "INFO:root:[0] 51328 samples: 64.05\t30.04\t32.73\t39.00\n"
          ]
        },
        {
          "name": "stdout",
          "output_type": "stream",
          "text": [
            "[INFO 2025-03-03 16:51:36,882] [0] 51328 samples: 64.05\t30.04\t32.73\t39.00\n"
          ]
        },
        {
          "name": "stderr",
          "output_type": "stream",
          "text": [
            "INFO:root:[0] 64128 samples: 64.09\t30.08\t32.81\t39.05\n"
          ]
        },
        {
          "name": "stdout",
          "output_type": "stream",
          "text": [
            "[INFO 2025-03-03 16:52:40,633] [0] 64128 samples: 64.09\t30.08\t32.81\t39.05\n"
          ]
        },
        {
          "name": "stderr",
          "output_type": "stream",
          "text": [
            "INFO:root:[0] local_sample_num: 73152\n"
          ]
        },
        {
          "name": "stdout",
          "output_type": "stream",
          "text": [
            "[INFO 2025-03-03 16:53:25,632] [0] local_sample_num: 73152\n"
          ]
        },
        {
          "name": "stderr",
          "output_type": "stream",
          "text": [
            "INFO:root:[*] 73152 samples: 64.10\t30.13\t32.86\t39.10\n"
          ]
        },
        {
          "name": "stdout",
          "output_type": "stream",
          "text": [
            "[INFO 2025-03-03 16:53:25,661] [*] 73152 samples: 64.10\t30.13\t32.86\t39.10\n"
          ]
        }
      ],
      "source": [
        "test(0, args)"
      ]
    },
    {
      "cell_type": "code",
      "execution_count": null,
      "metadata": {
        "id": "vU3UxmipCje4"
      },
      "outputs": [],
      "source": []
    },
    {
      "cell_type": "markdown",
      "metadata": {
        "id": "LmNFZ_lfY_EU"
      },
      "source": [
        "# OG Version with title only\n",
        "\n"
      ]
    },
    {
      "cell_type": "code",
      "execution_count": null,
      "metadata": {
        "colab": {
          "base_uri": "https://localhost:8080/"
        },
        "id": "1FHWoGGRZBke",
        "outputId": "df796849-c128-45ec-debd-869349827e21"
      },
      "outputs": [
        {
          "name": "stderr",
          "output_type": "stream",
          "text": [
            "INFO:root:Training...\n"
          ]
        },
        {
          "name": "stdout",
          "output_type": "stream",
          "text": [
            "[INFO 2025-02-19 16:07:13,177] Training...\n",
            "[INFO 2025-02-19 16:07:13,177] Training...\n"
          ]
        },
        {
          "name": "stderr",
          "output_type": "stream",
          "text": [
            "INFO:root:[0] Ed: 0, train_loss: inf, acc: inf\n"
          ]
        },
        {
          "name": "stdout",
          "output_type": "stream",
          "text": [
            "[INFO 2025-02-19 16:07:13,353] [0] Ed: 0, train_loss: inf, acc: inf\n",
            "[INFO 2025-02-19 16:07:13,353] [0] Ed: 0, train_loss: inf, acc: inf\n"
          ]
        },
        {
          "name": "stderr",
          "output_type": "stream",
          "text": [
            "INFO:root:[0] Ed: 3200, train_loss: 1.59732, acc: 0.28375\n"
          ]
        },
        {
          "name": "stdout",
          "output_type": "stream",
          "text": [
            "[INFO 2025-02-19 16:07:29,700] [0] Ed: 3200, train_loss: 1.59732, acc: 0.28375\n",
            "[INFO 2025-02-19 16:07:29,700] [0] Ed: 3200, train_loss: 1.59732, acc: 0.28375\n"
          ]
        },
        {
          "name": "stderr",
          "output_type": "stream",
          "text": [
            "INFO:root:[0] Ed: 6400, train_loss: 1.56525, acc: 0.30484\n"
          ]
        },
        {
          "name": "stdout",
          "output_type": "stream",
          "text": [
            "[INFO 2025-02-19 16:07:45,056] [0] Ed: 6400, train_loss: 1.56525, acc: 0.30484\n",
            "[INFO 2025-02-19 16:07:45,056] [0] Ed: 6400, train_loss: 1.56525, acc: 0.30484\n"
          ]
        },
        {
          "name": "stderr",
          "output_type": "stream",
          "text": [
            "INFO:root:[0] Ed: 9600, train_loss: 1.55043, acc: 0.31854\n"
          ]
        },
        {
          "name": "stdout",
          "output_type": "stream",
          "text": [
            "[INFO 2025-02-19 16:08:00,283] [0] Ed: 9600, train_loss: 1.55043, acc: 0.31854\n",
            "[INFO 2025-02-19 16:08:00,283] [0] Ed: 9600, train_loss: 1.55043, acc: 0.31854\n"
          ]
        },
        {
          "name": "stderr",
          "output_type": "stream",
          "text": [
            "INFO:root:[0] Ed: 12800, train_loss: 1.53782, acc: 0.32656\n"
          ]
        },
        {
          "name": "stdout",
          "output_type": "stream",
          "text": [
            "[INFO 2025-02-19 16:08:15,429] [0] Ed: 12800, train_loss: 1.53782, acc: 0.32656\n",
            "[INFO 2025-02-19 16:08:15,429] [0] Ed: 12800, train_loss: 1.53782, acc: 0.32656\n"
          ]
        },
        {
          "name": "stderr",
          "output_type": "stream",
          "text": [
            "INFO:root:[0] Ed: 16000, train_loss: 1.52480, acc: 0.33425\n"
          ]
        },
        {
          "name": "stdout",
          "output_type": "stream",
          "text": [
            "[INFO 2025-02-19 16:08:30,639] [0] Ed: 16000, train_loss: 1.52480, acc: 0.33425\n",
            "[INFO 2025-02-19 16:08:30,639] [0] Ed: 16000, train_loss: 1.52480, acc: 0.33425\n"
          ]
        },
        {
          "name": "stderr",
          "output_type": "stream",
          "text": [
            "INFO:root:[0] Ed: 19200, train_loss: 1.51392, acc: 0.34422\n"
          ]
        },
        {
          "name": "stdout",
          "output_type": "stream",
          "text": [
            "[INFO 2025-02-19 16:08:46,170] [0] Ed: 19200, train_loss: 1.51392, acc: 0.34422\n",
            "[INFO 2025-02-19 16:08:46,170] [0] Ed: 19200, train_loss: 1.51392, acc: 0.34422\n"
          ]
        },
        {
          "name": "stderr",
          "output_type": "stream",
          "text": [
            "INFO:root:[0] Ed: 22400, train_loss: 1.50393, acc: 0.35290\n"
          ]
        },
        {
          "name": "stdout",
          "output_type": "stream",
          "text": [
            "[INFO 2025-02-19 16:09:01,554] [0] Ed: 22400, train_loss: 1.50393, acc: 0.35290\n",
            "[INFO 2025-02-19 16:09:01,554] [0] Ed: 22400, train_loss: 1.50393, acc: 0.35290\n"
          ]
        },
        {
          "name": "stderr",
          "output_type": "stream",
          "text": [
            "INFO:root:[0] Ed: 25600, train_loss: 1.49807, acc: 0.35703\n"
          ]
        },
        {
          "name": "stdout",
          "output_type": "stream",
          "text": [
            "[INFO 2025-02-19 16:09:16,497] [0] Ed: 25600, train_loss: 1.49807, acc: 0.35703\n",
            "[INFO 2025-02-19 16:09:16,497] [0] Ed: 25600, train_loss: 1.49807, acc: 0.35703\n"
          ]
        },
        {
          "name": "stderr",
          "output_type": "stream",
          "text": [
            "INFO:root:[0] Ed: 28800, train_loss: 1.48914, acc: 0.36240\n"
          ]
        },
        {
          "name": "stdout",
          "output_type": "stream",
          "text": [
            "[INFO 2025-02-19 16:09:31,671] [0] Ed: 28800, train_loss: 1.48914, acc: 0.36240\n",
            "[INFO 2025-02-19 16:09:31,671] [0] Ed: 28800, train_loss: 1.48914, acc: 0.36240\n"
          ]
        },
        {
          "name": "stderr",
          "output_type": "stream",
          "text": [
            "INFO:root:[0] Ed: 32000, train_loss: 1.48337, acc: 0.36650\n"
          ]
        },
        {
          "name": "stdout",
          "output_type": "stream",
          "text": [
            "[INFO 2025-02-19 16:09:46,915] [0] Ed: 32000, train_loss: 1.48337, acc: 0.36650\n",
            "[INFO 2025-02-19 16:09:46,915] [0] Ed: 32000, train_loss: 1.48337, acc: 0.36650\n"
          ]
        },
        {
          "name": "stderr",
          "output_type": "stream",
          "text": [
            "INFO:root:[0] Ed: 35200, train_loss: 1.47883, acc: 0.36957\n"
          ]
        },
        {
          "name": "stdout",
          "output_type": "stream",
          "text": [
            "[INFO 2025-02-19 16:10:02,447] [0] Ed: 35200, train_loss: 1.47883, acc: 0.36957\n",
            "[INFO 2025-02-19 16:10:02,447] [0] Ed: 35200, train_loss: 1.47883, acc: 0.36957\n"
          ]
        },
        {
          "name": "stderr",
          "output_type": "stream",
          "text": [
            "INFO:root:[0] Ed: 38400, train_loss: 1.47340, acc: 0.37232\n"
          ]
        },
        {
          "name": "stdout",
          "output_type": "stream",
          "text": [
            "[INFO 2025-02-19 16:10:18,241] [0] Ed: 38400, train_loss: 1.47340, acc: 0.37232\n",
            "[INFO 2025-02-19 16:10:18,241] [0] Ed: 38400, train_loss: 1.47340, acc: 0.37232\n"
          ]
        },
        {
          "name": "stderr",
          "output_type": "stream",
          "text": [
            "INFO:root:[0] Ed: 41600, train_loss: 1.46793, acc: 0.37644\n"
          ]
        },
        {
          "name": "stdout",
          "output_type": "stream",
          "text": [
            "[INFO 2025-02-19 16:10:33,612] [0] Ed: 41600, train_loss: 1.46793, acc: 0.37644\n",
            "[INFO 2025-02-19 16:10:33,612] [0] Ed: 41600, train_loss: 1.46793, acc: 0.37644\n"
          ]
        },
        {
          "name": "stderr",
          "output_type": "stream",
          "text": [
            "INFO:root:[0] Ed: 44800, train_loss: 1.46322, acc: 0.37951\n"
          ]
        },
        {
          "name": "stdout",
          "output_type": "stream",
          "text": [
            "[INFO 2025-02-19 16:10:48,869] [0] Ed: 44800, train_loss: 1.46322, acc: 0.37951\n",
            "[INFO 2025-02-19 16:10:48,869] [0] Ed: 44800, train_loss: 1.46322, acc: 0.37951\n"
          ]
        },
        {
          "name": "stderr",
          "output_type": "stream",
          "text": [
            "INFO:root:[0] Ed: 48000, train_loss: 1.46011, acc: 0.38142\n"
          ]
        },
        {
          "name": "stdout",
          "output_type": "stream",
          "text": [
            "[INFO 2025-02-19 16:11:03,948] [0] Ed: 48000, train_loss: 1.46011, acc: 0.38142\n",
            "[INFO 2025-02-19 16:11:03,948] [0] Ed: 48000, train_loss: 1.46011, acc: 0.38142\n"
          ]
        },
        {
          "name": "stderr",
          "output_type": "stream",
          "text": [
            "INFO:root:[0] Ed: 51200, train_loss: 1.45632, acc: 0.38297\n"
          ]
        },
        {
          "name": "stdout",
          "output_type": "stream",
          "text": [
            "[INFO 2025-02-19 16:11:19,793] [0] Ed: 51200, train_loss: 1.45632, acc: 0.38297\n",
            "[INFO 2025-02-19 16:11:19,793] [0] Ed: 51200, train_loss: 1.45632, acc: 0.38297\n"
          ]
        },
        {
          "name": "stderr",
          "output_type": "stream",
          "text": [
            "INFO:root:[0] Ed: 54400, train_loss: 1.45307, acc: 0.38450\n"
          ]
        },
        {
          "name": "stdout",
          "output_type": "stream",
          "text": [
            "[INFO 2025-02-19 16:11:34,733] [0] Ed: 54400, train_loss: 1.45307, acc: 0.38450\n",
            "[INFO 2025-02-19 16:11:34,733] [0] Ed: 54400, train_loss: 1.45307, acc: 0.38450\n"
          ]
        },
        {
          "name": "stderr",
          "output_type": "stream",
          "text": [
            "INFO:root:[0] Ed: 57600, train_loss: 1.44957, acc: 0.38682\n"
          ]
        },
        {
          "name": "stdout",
          "output_type": "stream",
          "text": [
            "[INFO 2025-02-19 16:11:49,849] [0] Ed: 57600, train_loss: 1.44957, acc: 0.38682\n",
            "[INFO 2025-02-19 16:11:49,849] [0] Ed: 57600, train_loss: 1.44957, acc: 0.38682\n"
          ]
        },
        {
          "name": "stderr",
          "output_type": "stream",
          "text": [
            "INFO:root:[0] Ed: 60800, train_loss: 1.44668, acc: 0.38877\n"
          ]
        },
        {
          "name": "stdout",
          "output_type": "stream",
          "text": [
            "[INFO 2025-02-19 16:12:04,997] [0] Ed: 60800, train_loss: 1.44668, acc: 0.38877\n",
            "[INFO 2025-02-19 16:12:04,997] [0] Ed: 60800, train_loss: 1.44668, acc: 0.38877\n"
          ]
        },
        {
          "name": "stderr",
          "output_type": "stream",
          "text": [
            "INFO:root:[0] Ed: 64000, train_loss: 1.44335, acc: 0.39083\n"
          ]
        },
        {
          "name": "stdout",
          "output_type": "stream",
          "text": [
            "[INFO 2025-02-19 16:12:19,990] [0] Ed: 64000, train_loss: 1.44335, acc: 0.39083\n",
            "[INFO 2025-02-19 16:12:19,990] [0] Ed: 64000, train_loss: 1.44335, acc: 0.39083\n"
          ]
        },
        {
          "name": "stderr",
          "output_type": "stream",
          "text": [
            "INFO:root:[0] Ed: 67200, train_loss: 1.44048, acc: 0.39310\n"
          ]
        },
        {
          "name": "stdout",
          "output_type": "stream",
          "text": [
            "[INFO 2025-02-19 16:12:35,793] [0] Ed: 67200, train_loss: 1.44048, acc: 0.39310\n",
            "[INFO 2025-02-19 16:12:35,793] [0] Ed: 67200, train_loss: 1.44048, acc: 0.39310\n"
          ]
        },
        {
          "name": "stderr",
          "output_type": "stream",
          "text": [
            "INFO:root:[0] Ed: 70400, train_loss: 1.43761, acc: 0.39466\n"
          ]
        },
        {
          "name": "stdout",
          "output_type": "stream",
          "text": [
            "[INFO 2025-02-19 16:12:50,842] [0] Ed: 70400, train_loss: 1.43761, acc: 0.39466\n",
            "[INFO 2025-02-19 16:12:50,842] [0] Ed: 70400, train_loss: 1.43761, acc: 0.39466\n"
          ]
        },
        {
          "name": "stderr",
          "output_type": "stream",
          "text": [
            "INFO:root:[0] Ed: 73600, train_loss: 1.43565, acc: 0.39601\n"
          ]
        },
        {
          "name": "stdout",
          "output_type": "stream",
          "text": [
            "[INFO 2025-02-19 16:13:05,779] [0] Ed: 73600, train_loss: 1.43565, acc: 0.39601\n",
            "[INFO 2025-02-19 16:13:05,779] [0] Ed: 73600, train_loss: 1.43565, acc: 0.39601\n"
          ]
        },
        {
          "name": "stderr",
          "output_type": "stream",
          "text": [
            "INFO:root:[0] Ed: 76800, train_loss: 1.43299, acc: 0.39745\n"
          ]
        },
        {
          "name": "stdout",
          "output_type": "stream",
          "text": [
            "[INFO 2025-02-19 16:13:20,773] [0] Ed: 76800, train_loss: 1.43299, acc: 0.39745\n",
            "[INFO 2025-02-19 16:13:20,773] [0] Ed: 76800, train_loss: 1.43299, acc: 0.39745\n"
          ]
        },
        {
          "name": "stderr",
          "output_type": "stream",
          "text": [
            "INFO:root:[0] Ed: 80000, train_loss: 1.43119, acc: 0.39849\n"
          ]
        },
        {
          "name": "stdout",
          "output_type": "stream",
          "text": [
            "[INFO 2025-02-19 16:13:35,691] [0] Ed: 80000, train_loss: 1.43119, acc: 0.39849\n",
            "[INFO 2025-02-19 16:13:35,691] [0] Ed: 80000, train_loss: 1.43119, acc: 0.39849\n"
          ]
        },
        {
          "name": "stderr",
          "output_type": "stream",
          "text": [
            "INFO:root:[0] Ed: 83200, train_loss: 1.42873, acc: 0.40011\n"
          ]
        },
        {
          "name": "stdout",
          "output_type": "stream",
          "text": [
            "[INFO 2025-02-19 16:13:51,180] [0] Ed: 83200, train_loss: 1.42873, acc: 0.40011\n",
            "[INFO 2025-02-19 16:13:51,180] [0] Ed: 83200, train_loss: 1.42873, acc: 0.40011\n"
          ]
        },
        {
          "name": "stderr",
          "output_type": "stream",
          "text": [
            "INFO:root:[0] Ed: 86400, train_loss: 1.42655, acc: 0.40128\n"
          ]
        },
        {
          "name": "stdout",
          "output_type": "stream",
          "text": [
            "[INFO 2025-02-19 16:14:06,454] [0] Ed: 86400, train_loss: 1.42655, acc: 0.40128\n",
            "[INFO 2025-02-19 16:14:06,454] [0] Ed: 86400, train_loss: 1.42655, acc: 0.40128\n"
          ]
        },
        {
          "name": "stderr",
          "output_type": "stream",
          "text": [
            "INFO:root:[0] Ed: 89600, train_loss: 1.42401, acc: 0.40246\n"
          ]
        },
        {
          "name": "stdout",
          "output_type": "stream",
          "text": [
            "[INFO 2025-02-19 16:14:21,402] [0] Ed: 89600, train_loss: 1.42401, acc: 0.40246\n",
            "[INFO 2025-02-19 16:14:21,402] [0] Ed: 89600, train_loss: 1.42401, acc: 0.40246\n"
          ]
        },
        {
          "name": "stderr",
          "output_type": "stream",
          "text": [
            "INFO:root:[0] Ed: 92800, train_loss: 1.42276, acc: 0.40324\n"
          ]
        },
        {
          "name": "stdout",
          "output_type": "stream",
          "text": [
            "[INFO 2025-02-19 16:14:36,354] [0] Ed: 92800, train_loss: 1.42276, acc: 0.40324\n",
            "[INFO 2025-02-19 16:14:36,354] [0] Ed: 92800, train_loss: 1.42276, acc: 0.40324\n"
          ]
        },
        {
          "name": "stderr",
          "output_type": "stream",
          "text": [
            "INFO:root:[0] Ed: 96000, train_loss: 1.42100, acc: 0.40448\n"
          ]
        },
        {
          "name": "stdout",
          "output_type": "stream",
          "text": [
            "[INFO 2025-02-19 16:14:51,320] [0] Ed: 96000, train_loss: 1.42100, acc: 0.40448\n",
            "[INFO 2025-02-19 16:14:51,320] [0] Ed: 96000, train_loss: 1.42100, acc: 0.40448\n"
          ]
        },
        {
          "name": "stderr",
          "output_type": "stream",
          "text": [
            "INFO:root:[0] Ed: 99200, train_loss: 1.41971, acc: 0.40479\n"
          ]
        },
        {
          "name": "stdout",
          "output_type": "stream",
          "text": [
            "[INFO 2025-02-19 16:15:06,522] [0] Ed: 99200, train_loss: 1.41971, acc: 0.40479\n",
            "[INFO 2025-02-19 16:15:06,522] [0] Ed: 99200, train_loss: 1.41971, acc: 0.40479\n"
          ]
        },
        {
          "name": "stderr",
          "output_type": "stream",
          "text": [
            "INFO:root:[0] Ed: 102400, train_loss: 1.41728, acc: 0.40588\n"
          ]
        },
        {
          "name": "stdout",
          "output_type": "stream",
          "text": [
            "[INFO 2025-02-19 16:15:22,007] [0] Ed: 102400, train_loss: 1.41728, acc: 0.40588\n",
            "[INFO 2025-02-19 16:15:22,007] [0] Ed: 102400, train_loss: 1.41728, acc: 0.40588\n"
          ]
        },
        {
          "name": "stderr",
          "output_type": "stream",
          "text": [
            "INFO:root:[0] Ed: 105600, train_loss: 1.41519, acc: 0.40714\n"
          ]
        },
        {
          "name": "stdout",
          "output_type": "stream",
          "text": [
            "[INFO 2025-02-19 16:15:36,914] [0] Ed: 105600, train_loss: 1.41519, acc: 0.40714\n",
            "[INFO 2025-02-19 16:15:36,914] [0] Ed: 105600, train_loss: 1.41519, acc: 0.40714\n"
          ]
        },
        {
          "name": "stderr",
          "output_type": "stream",
          "text": [
            "INFO:root:[0] Ed: 108800, train_loss: 1.41406, acc: 0.40763\n"
          ]
        },
        {
          "name": "stdout",
          "output_type": "stream",
          "text": [
            "[INFO 2025-02-19 16:15:51,870] [0] Ed: 108800, train_loss: 1.41406, acc: 0.40763\n",
            "[INFO 2025-02-19 16:15:51,870] [0] Ed: 108800, train_loss: 1.41406, acc: 0.40763\n"
          ]
        },
        {
          "name": "stderr",
          "output_type": "stream",
          "text": [
            "INFO:root:[0] Ed: 112000, train_loss: 1.41269, acc: 0.40848\n"
          ]
        },
        {
          "name": "stdout",
          "output_type": "stream",
          "text": [
            "[INFO 2025-02-19 16:16:06,774] [0] Ed: 112000, train_loss: 1.41269, acc: 0.40848\n",
            "[INFO 2025-02-19 16:16:06,774] [0] Ed: 112000, train_loss: 1.41269, acc: 0.40848\n"
          ]
        },
        {
          "name": "stderr",
          "output_type": "stream",
          "text": [
            "INFO:root:[0] Ed: 115200, train_loss: 1.41144, acc: 0.40910\n"
          ]
        },
        {
          "name": "stdout",
          "output_type": "stream",
          "text": [
            "[INFO 2025-02-19 16:16:21,851] [0] Ed: 115200, train_loss: 1.41144, acc: 0.40910\n",
            "[INFO 2025-02-19 16:16:21,851] [0] Ed: 115200, train_loss: 1.41144, acc: 0.40910\n"
          ]
        },
        {
          "name": "stderr",
          "output_type": "stream",
          "text": [
            "INFO:root:[0] Ed: 118400, train_loss: 1.40970, acc: 0.40985\n"
          ]
        },
        {
          "name": "stdout",
          "output_type": "stream",
          "text": [
            "[INFO 2025-02-19 16:16:37,475] [0] Ed: 118400, train_loss: 1.40970, acc: 0.40985\n",
            "[INFO 2025-02-19 16:16:37,475] [0] Ed: 118400, train_loss: 1.40970, acc: 0.40985\n"
          ]
        },
        {
          "name": "stderr",
          "output_type": "stream",
          "text": [
            "INFO:root:[0] Ed: 121600, train_loss: 1.40874, acc: 0.41052\n"
          ]
        },
        {
          "name": "stdout",
          "output_type": "stream",
          "text": [
            "[INFO 2025-02-19 16:16:52,415] [0] Ed: 121600, train_loss: 1.40874, acc: 0.41052\n",
            "[INFO 2025-02-19 16:16:52,415] [0] Ed: 121600, train_loss: 1.40874, acc: 0.41052\n"
          ]
        },
        {
          "name": "stderr",
          "output_type": "stream",
          "text": [
            "INFO:root:[0] Ed: 124800, train_loss: 1.40738, acc: 0.41122\n"
          ]
        },
        {
          "name": "stdout",
          "output_type": "stream",
          "text": [
            "[INFO 2025-02-19 16:17:07,329] [0] Ed: 124800, train_loss: 1.40738, acc: 0.41122\n",
            "[INFO 2025-02-19 16:17:07,329] [0] Ed: 124800, train_loss: 1.40738, acc: 0.41122\n"
          ]
        },
        {
          "name": "stderr",
          "output_type": "stream",
          "text": [
            "INFO:root:[0] Ed: 128000, train_loss: 1.40671, acc: 0.41168\n"
          ]
        },
        {
          "name": "stdout",
          "output_type": "stream",
          "text": [
            "[INFO 2025-02-19 16:17:22,325] [0] Ed: 128000, train_loss: 1.40671, acc: 0.41168\n",
            "[INFO 2025-02-19 16:17:22,325] [0] Ed: 128000, train_loss: 1.40671, acc: 0.41168\n"
          ]
        },
        {
          "name": "stderr",
          "output_type": "stream",
          "text": [
            "INFO:root:[0] Ed: 131200, train_loss: 1.40541, acc: 0.41244\n"
          ]
        },
        {
          "name": "stdout",
          "output_type": "stream",
          "text": [
            "[INFO 2025-02-19 16:17:37,201] [0] Ed: 131200, train_loss: 1.40541, acc: 0.41244\n",
            "[INFO 2025-02-19 16:17:37,201] [0] Ed: 131200, train_loss: 1.40541, acc: 0.41244\n"
          ]
        },
        {
          "name": "stderr",
          "output_type": "stream",
          "text": [
            "INFO:root:[0] Ed: 134400, train_loss: 1.40436, acc: 0.41335\n"
          ]
        },
        {
          "name": "stdout",
          "output_type": "stream",
          "text": [
            "[INFO 2025-02-19 16:17:53,190] [0] Ed: 134400, train_loss: 1.40436, acc: 0.41335\n",
            "[INFO 2025-02-19 16:17:53,190] [0] Ed: 134400, train_loss: 1.40436, acc: 0.41335\n"
          ]
        },
        {
          "name": "stderr",
          "output_type": "stream",
          "text": [
            "INFO:root:[0] Ed: 137600, train_loss: 1.40357, acc: 0.41416\n"
          ]
        },
        {
          "name": "stdout",
          "output_type": "stream",
          "text": [
            "[INFO 2025-02-19 16:18:08,083] [0] Ed: 137600, train_loss: 1.40357, acc: 0.41416\n",
            "[INFO 2025-02-19 16:18:08,083] [0] Ed: 137600, train_loss: 1.40357, acc: 0.41416\n"
          ]
        },
        {
          "name": "stderr",
          "output_type": "stream",
          "text": [
            "INFO:root:[0] Ed: 140800, train_loss: 1.40219, acc: 0.41531\n"
          ]
        },
        {
          "name": "stdout",
          "output_type": "stream",
          "text": [
            "[INFO 2025-02-19 16:18:22,957] [0] Ed: 140800, train_loss: 1.40219, acc: 0.41531\n",
            "[INFO 2025-02-19 16:18:22,957] [0] Ed: 140800, train_loss: 1.40219, acc: 0.41531\n"
          ]
        },
        {
          "name": "stderr",
          "output_type": "stream",
          "text": [
            "INFO:root:[0] Ed: 144000, train_loss: 1.40119, acc: 0.41581\n"
          ]
        },
        {
          "name": "stdout",
          "output_type": "stream",
          "text": [
            "[INFO 2025-02-19 16:18:37,852] [0] Ed: 144000, train_loss: 1.40119, acc: 0.41581\n",
            "[INFO 2025-02-19 16:18:37,852] [0] Ed: 144000, train_loss: 1.40119, acc: 0.41581\n"
          ]
        },
        {
          "name": "stderr",
          "output_type": "stream",
          "text": [
            "INFO:root:[0] Ed: 147200, train_loss: 1.40004, acc: 0.41674\n"
          ]
        },
        {
          "name": "stdout",
          "output_type": "stream",
          "text": [
            "[INFO 2025-02-19 16:18:52,801] [0] Ed: 147200, train_loss: 1.40004, acc: 0.41674\n",
            "[INFO 2025-02-19 16:18:52,801] [0] Ed: 147200, train_loss: 1.40004, acc: 0.41674\n"
          ]
        },
        {
          "name": "stderr",
          "output_type": "stream",
          "text": [
            "INFO:root:[0] Ed: 150400, train_loss: 1.39881, acc: 0.41746\n"
          ]
        },
        {
          "name": "stdout",
          "output_type": "stream",
          "text": [
            "[INFO 2025-02-19 16:19:08,326] [0] Ed: 150400, train_loss: 1.39881, acc: 0.41746\n",
            "[INFO 2025-02-19 16:19:08,326] [0] Ed: 150400, train_loss: 1.39881, acc: 0.41746\n"
          ]
        },
        {
          "name": "stderr",
          "output_type": "stream",
          "text": [
            "INFO:root:[0] Ed: 153600, train_loss: 1.39755, acc: 0.41818\n"
          ]
        },
        {
          "name": "stdout",
          "output_type": "stream",
          "text": [
            "[INFO 2025-02-19 16:19:23,651] [0] Ed: 153600, train_loss: 1.39755, acc: 0.41818\n",
            "[INFO 2025-02-19 16:19:23,651] [0] Ed: 153600, train_loss: 1.39755, acc: 0.41818\n"
          ]
        },
        {
          "name": "stderr",
          "output_type": "stream",
          "text": [
            "INFO:root:[0] Ed: 156800, train_loss: 1.39660, acc: 0.41883\n"
          ]
        },
        {
          "name": "stdout",
          "output_type": "stream",
          "text": [
            "[INFO 2025-02-19 16:19:38,627] [0] Ed: 156800, train_loss: 1.39660, acc: 0.41883\n",
            "[INFO 2025-02-19 16:19:38,627] [0] Ed: 156800, train_loss: 1.39660, acc: 0.41883\n"
          ]
        },
        {
          "name": "stderr",
          "output_type": "stream",
          "text": [
            "INFO:root:[0] Ed: 160000, train_loss: 1.39550, acc: 0.41951\n"
          ]
        },
        {
          "name": "stdout",
          "output_type": "stream",
          "text": [
            "[INFO 2025-02-19 16:19:53,681] [0] Ed: 160000, train_loss: 1.39550, acc: 0.41951\n",
            "[INFO 2025-02-19 16:19:53,681] [0] Ed: 160000, train_loss: 1.39550, acc: 0.41951\n"
          ]
        },
        {
          "name": "stderr",
          "output_type": "stream",
          "text": [
            "INFO:root:[0] Ed: 163200, train_loss: 1.39451, acc: 0.42006\n"
          ]
        },
        {
          "name": "stdout",
          "output_type": "stream",
          "text": [
            "[INFO 2025-02-19 16:20:08,654] [0] Ed: 163200, train_loss: 1.39451, acc: 0.42006\n",
            "[INFO 2025-02-19 16:20:08,654] [0] Ed: 163200, train_loss: 1.39451, acc: 0.42006\n"
          ]
        },
        {
          "name": "stderr",
          "output_type": "stream",
          "text": [
            "INFO:root:[0] Ed: 166400, train_loss: 1.39372, acc: 0.42049\n"
          ]
        },
        {
          "name": "stdout",
          "output_type": "stream",
          "text": [
            "[INFO 2025-02-19 16:20:23,999] [0] Ed: 166400, train_loss: 1.39372, acc: 0.42049\n",
            "[INFO 2025-02-19 16:20:23,999] [0] Ed: 166400, train_loss: 1.39372, acc: 0.42049\n"
          ]
        },
        {
          "name": "stderr",
          "output_type": "stream",
          "text": [
            "INFO:root:[0] Ed: 169600, train_loss: 1.39275, acc: 0.42117\n"
          ]
        },
        {
          "name": "stdout",
          "output_type": "stream",
          "text": [
            "[INFO 2025-02-19 16:20:39,326] [0] Ed: 169600, train_loss: 1.39275, acc: 0.42117\n",
            "[INFO 2025-02-19 16:20:39,326] [0] Ed: 169600, train_loss: 1.39275, acc: 0.42117\n"
          ]
        },
        {
          "name": "stderr",
          "output_type": "stream",
          "text": [
            "INFO:root:[0] Ed: 172800, train_loss: 1.39170, acc: 0.42193\n"
          ]
        },
        {
          "name": "stdout",
          "output_type": "stream",
          "text": [
            "[INFO 2025-02-19 16:20:54,298] [0] Ed: 172800, train_loss: 1.39170, acc: 0.42193\n",
            "[INFO 2025-02-19 16:20:54,298] [0] Ed: 172800, train_loss: 1.39170, acc: 0.42193\n"
          ]
        },
        {
          "name": "stderr",
          "output_type": "stream",
          "text": [
            "INFO:root:[0] Ed: 176000, train_loss: 1.39080, acc: 0.42258\n"
          ]
        },
        {
          "name": "stdout",
          "output_type": "stream",
          "text": [
            "[INFO 2025-02-19 16:21:09,227] [0] Ed: 176000, train_loss: 1.39080, acc: 0.42258\n",
            "[INFO 2025-02-19 16:21:09,227] [0] Ed: 176000, train_loss: 1.39080, acc: 0.42258\n"
          ]
        },
        {
          "name": "stderr",
          "output_type": "stream",
          "text": [
            "INFO:root:[0] Ed: 179200, train_loss: 1.38981, acc: 0.42311\n"
          ]
        },
        {
          "name": "stdout",
          "output_type": "stream",
          "text": [
            "[INFO 2025-02-19 16:21:24,157] [0] Ed: 179200, train_loss: 1.38981, acc: 0.42311\n",
            "[INFO 2025-02-19 16:21:24,157] [0] Ed: 179200, train_loss: 1.38981, acc: 0.42311\n"
          ]
        },
        {
          "name": "stderr",
          "output_type": "stream",
          "text": [
            "INFO:root:[0] Ed: 182400, train_loss: 1.38909, acc: 0.42368\n"
          ]
        },
        {
          "name": "stdout",
          "output_type": "stream",
          "text": [
            "[INFO 2025-02-19 16:21:39,062] [0] Ed: 182400, train_loss: 1.38909, acc: 0.42368\n",
            "[INFO 2025-02-19 16:21:39,062] [0] Ed: 182400, train_loss: 1.38909, acc: 0.42368\n"
          ]
        },
        {
          "name": "stderr",
          "output_type": "stream",
          "text": [
            "INFO:root:[0] Ed: 185600, train_loss: 1.38801, acc: 0.42419\n"
          ]
        },
        {
          "name": "stdout",
          "output_type": "stream",
          "text": [
            "[INFO 2025-02-19 16:21:54,831] [0] Ed: 185600, train_loss: 1.38801, acc: 0.42419\n",
            "[INFO 2025-02-19 16:21:54,831] [0] Ed: 185600, train_loss: 1.38801, acc: 0.42419\n"
          ]
        },
        {
          "name": "stderr",
          "output_type": "stream",
          "text": [
            "INFO:root:[0] Ed: 188800, train_loss: 1.38722, acc: 0.42451\n"
          ]
        },
        {
          "name": "stdout",
          "output_type": "stream",
          "text": [
            "[INFO 2025-02-19 16:22:09,775] [0] Ed: 188800, train_loss: 1.38722, acc: 0.42451\n",
            "[INFO 2025-02-19 16:22:09,775] [0] Ed: 188800, train_loss: 1.38722, acc: 0.42451\n"
          ]
        },
        {
          "name": "stderr",
          "output_type": "stream",
          "text": [
            "INFO:root:[0] Ed: 192000, train_loss: 1.38664, acc: 0.42467\n"
          ]
        },
        {
          "name": "stdout",
          "output_type": "stream",
          "text": [
            "[INFO 2025-02-19 16:22:24,767] [0] Ed: 192000, train_loss: 1.38664, acc: 0.42467\n",
            "[INFO 2025-02-19 16:22:24,767] [0] Ed: 192000, train_loss: 1.38664, acc: 0.42467\n"
          ]
        },
        {
          "name": "stderr",
          "output_type": "stream",
          "text": [
            "INFO:root:[0] Ed: 195200, train_loss: 1.38585, acc: 0.42514\n"
          ]
        },
        {
          "name": "stdout",
          "output_type": "stream",
          "text": [
            "[INFO 2025-02-19 16:22:39,708] [0] Ed: 195200, train_loss: 1.38585, acc: 0.42514\n",
            "[INFO 2025-02-19 16:22:39,708] [0] Ed: 195200, train_loss: 1.38585, acc: 0.42514\n"
          ]
        },
        {
          "name": "stderr",
          "output_type": "stream",
          "text": [
            "INFO:root:[0] Ed: 198400, train_loss: 1.38519, acc: 0.42570\n"
          ]
        },
        {
          "name": "stdout",
          "output_type": "stream",
          "text": [
            "[INFO 2025-02-19 16:22:54,548] [0] Ed: 198400, train_loss: 1.38519, acc: 0.42570\n",
            "[INFO 2025-02-19 16:22:54,548] [0] Ed: 198400, train_loss: 1.38519, acc: 0.42570\n"
          ]
        },
        {
          "name": "stderr",
          "output_type": "stream",
          "text": [
            "INFO:root:[0] Ed: 201600, train_loss: 1.38434, acc: 0.42606\n"
          ]
        },
        {
          "name": "stdout",
          "output_type": "stream",
          "text": [
            "[INFO 2025-02-19 16:23:09,948] [0] Ed: 201600, train_loss: 1.38434, acc: 0.42606\n",
            "[INFO 2025-02-19 16:23:09,948] [0] Ed: 201600, train_loss: 1.38434, acc: 0.42606\n"
          ]
        },
        {
          "name": "stderr",
          "output_type": "stream",
          "text": [
            "INFO:root:[0] Ed: 204800, train_loss: 1.38386, acc: 0.42633\n"
          ]
        },
        {
          "name": "stdout",
          "output_type": "stream",
          "text": [
            "[INFO 2025-02-19 16:23:25,180] [0] Ed: 204800, train_loss: 1.38386, acc: 0.42633\n",
            "[INFO 2025-02-19 16:23:25,180] [0] Ed: 204800, train_loss: 1.38386, acc: 0.42633\n"
          ]
        },
        {
          "name": "stderr",
          "output_type": "stream",
          "text": [
            "INFO:root:[0] Ed: 208000, train_loss: 1.38342, acc: 0.42664\n"
          ]
        },
        {
          "name": "stdout",
          "output_type": "stream",
          "text": [
            "[INFO 2025-02-19 16:23:40,372] [0] Ed: 208000, train_loss: 1.38342, acc: 0.42664\n",
            "[INFO 2025-02-19 16:23:40,372] [0] Ed: 208000, train_loss: 1.38342, acc: 0.42664\n"
          ]
        },
        {
          "name": "stderr",
          "output_type": "stream",
          "text": [
            "INFO:root:[0] Ed: 211200, train_loss: 1.38282, acc: 0.42708\n"
          ]
        },
        {
          "name": "stdout",
          "output_type": "stream",
          "text": [
            "[INFO 2025-02-19 16:23:55,343] [0] Ed: 211200, train_loss: 1.38282, acc: 0.42708\n",
            "[INFO 2025-02-19 16:23:55,343] [0] Ed: 211200, train_loss: 1.38282, acc: 0.42708\n"
          ]
        },
        {
          "name": "stderr",
          "output_type": "stream",
          "text": [
            "INFO:root:[0] Ed: 214400, train_loss: 1.38221, acc: 0.42752\n"
          ]
        },
        {
          "name": "stdout",
          "output_type": "stream",
          "text": [
            "[INFO 2025-02-19 16:24:10,197] [0] Ed: 214400, train_loss: 1.38221, acc: 0.42752\n",
            "[INFO 2025-02-19 16:24:10,197] [0] Ed: 214400, train_loss: 1.38221, acc: 0.42752\n"
          ]
        },
        {
          "name": "stderr",
          "output_type": "stream",
          "text": [
            "INFO:root:[0] Ed: 217600, train_loss: 1.38164, acc: 0.42773\n"
          ]
        },
        {
          "name": "stdout",
          "output_type": "stream",
          "text": [
            "[INFO 2025-02-19 16:24:25,531] [0] Ed: 217600, train_loss: 1.38164, acc: 0.42773\n",
            "[INFO 2025-02-19 16:24:25,531] [0] Ed: 217600, train_loss: 1.38164, acc: 0.42773\n"
          ]
        },
        {
          "name": "stderr",
          "output_type": "stream",
          "text": [
            "INFO:root:[0] Ed: 220800, train_loss: 1.38085, acc: 0.42814\n"
          ]
        },
        {
          "name": "stdout",
          "output_type": "stream",
          "text": [
            "[INFO 2025-02-19 16:24:40,716] [0] Ed: 220800, train_loss: 1.38085, acc: 0.42814\n",
            "[INFO 2025-02-19 16:24:40,716] [0] Ed: 220800, train_loss: 1.38085, acc: 0.42814\n"
          ]
        },
        {
          "name": "stderr",
          "output_type": "stream",
          "text": [
            "INFO:root:[0] Ed: 224000, train_loss: 1.38003, acc: 0.42856\n"
          ]
        },
        {
          "name": "stdout",
          "output_type": "stream",
          "text": [
            "[INFO 2025-02-19 16:24:55,761] [0] Ed: 224000, train_loss: 1.38003, acc: 0.42856\n",
            "[INFO 2025-02-19 16:24:55,761] [0] Ed: 224000, train_loss: 1.38003, acc: 0.42856\n"
          ]
        },
        {
          "name": "stderr",
          "output_type": "stream",
          "text": [
            "INFO:root:[0] Ed: 227200, train_loss: 1.37925, acc: 0.42907\n"
          ]
        },
        {
          "name": "stdout",
          "output_type": "stream",
          "text": [
            "[INFO 2025-02-19 16:25:10,668] [0] Ed: 227200, train_loss: 1.37925, acc: 0.42907\n",
            "[INFO 2025-02-19 16:25:10,668] [0] Ed: 227200, train_loss: 1.37925, acc: 0.42907\n"
          ]
        },
        {
          "name": "stderr",
          "output_type": "stream",
          "text": [
            "INFO:root:[0] Ed: 230400, train_loss: 1.37837, acc: 0.42953\n"
          ]
        },
        {
          "name": "stdout",
          "output_type": "stream",
          "text": [
            "[INFO 2025-02-19 16:25:25,653] [0] Ed: 230400, train_loss: 1.37837, acc: 0.42953\n",
            "[INFO 2025-02-19 16:25:25,653] [0] Ed: 230400, train_loss: 1.37837, acc: 0.42953\n"
          ]
        },
        {
          "name": "stderr",
          "output_type": "stream",
          "text": [
            "INFO:root:[0] Ed: 233600, train_loss: 1.37742, acc: 0.43009\n"
          ]
        },
        {
          "name": "stdout",
          "output_type": "stream",
          "text": [
            "[INFO 2025-02-19 16:25:40,755] [0] Ed: 233600, train_loss: 1.37742, acc: 0.43009\n",
            "[INFO 2025-02-19 16:25:40,755] [0] Ed: 233600, train_loss: 1.37742, acc: 0.43009\n"
          ]
        },
        {
          "name": "stderr",
          "output_type": "stream",
          "text": [
            "INFO:root:Training finish.\n"
          ]
        },
        {
          "name": "stdout",
          "output_type": "stream",
          "text": [
            "[INFO 2025-02-19 16:25:53,542] Training finish.\n",
            "[INFO 2025-02-19 16:25:53,542] Training finish.\n"
          ]
        },
        {
          "name": "stderr",
          "output_type": "stream",
          "text": [
            "INFO:root:Model saved to /content/model/epoch-1.pt.\n"
          ]
        },
        {
          "name": "stdout",
          "output_type": "stream",
          "text": [
            "[INFO 2025-02-19 16:25:53,609] Model saved to /content/model/epoch-1.pt.\n",
            "[INFO 2025-02-19 16:25:53,609] Model saved to /content/model/epoch-1.pt.\n"
          ]
        },
        {
          "name": "stderr",
          "output_type": "stream",
          "text": [
            "INFO:root:[0] Ed: 0, train_loss: inf, acc: inf\n"
          ]
        },
        {
          "name": "stdout",
          "output_type": "stream",
          "text": [
            "[INFO 2025-02-19 16:25:53,837] [0] Ed: 0, train_loss: inf, acc: inf\n",
            "[INFO 2025-02-19 16:25:53,837] [0] Ed: 0, train_loss: inf, acc: inf\n"
          ]
        },
        {
          "name": "stderr",
          "output_type": "stream",
          "text": [
            "INFO:root:[0] Ed: 3200, train_loss: 1.34824, acc: 0.46125\n"
          ]
        },
        {
          "name": "stdout",
          "output_type": "stream",
          "text": [
            "[INFO 2025-02-19 16:26:09,310] [0] Ed: 3200, train_loss: 1.34824, acc: 0.46125\n",
            "[INFO 2025-02-19 16:26:09,310] [0] Ed: 3200, train_loss: 1.34824, acc: 0.46125\n"
          ]
        },
        {
          "name": "stderr",
          "output_type": "stream",
          "text": [
            "INFO:root:[0] Ed: 6400, train_loss: 1.33333, acc: 0.46203\n"
          ]
        },
        {
          "name": "stdout",
          "output_type": "stream",
          "text": [
            "[INFO 2025-02-19 16:26:24,298] [0] Ed: 6400, train_loss: 1.33333, acc: 0.46203\n",
            "[INFO 2025-02-19 16:26:24,298] [0] Ed: 6400, train_loss: 1.33333, acc: 0.46203\n"
          ]
        },
        {
          "name": "stderr",
          "output_type": "stream",
          "text": [
            "INFO:root:[0] Ed: 9600, train_loss: 1.33269, acc: 0.45896\n"
          ]
        },
        {
          "name": "stdout",
          "output_type": "stream",
          "text": [
            "[INFO 2025-02-19 16:26:39,183] [0] Ed: 9600, train_loss: 1.33269, acc: 0.45896\n",
            "[INFO 2025-02-19 16:26:39,183] [0] Ed: 9600, train_loss: 1.33269, acc: 0.45896\n"
          ]
        },
        {
          "name": "stderr",
          "output_type": "stream",
          "text": [
            "INFO:root:[0] Ed: 12800, train_loss: 1.32964, acc: 0.46094\n"
          ]
        },
        {
          "name": "stdout",
          "output_type": "stream",
          "text": [
            "[INFO 2025-02-19 16:26:54,165] [0] Ed: 12800, train_loss: 1.32964, acc: 0.46094\n",
            "[INFO 2025-02-19 16:26:54,165] [0] Ed: 12800, train_loss: 1.32964, acc: 0.46094\n"
          ]
        },
        {
          "name": "stderr",
          "output_type": "stream",
          "text": [
            "INFO:root:[0] Ed: 16000, train_loss: 1.33154, acc: 0.45819\n"
          ]
        },
        {
          "name": "stdout",
          "output_type": "stream",
          "text": [
            "[INFO 2025-02-19 16:27:09,304] [0] Ed: 16000, train_loss: 1.33154, acc: 0.45819\n",
            "[INFO 2025-02-19 16:27:09,304] [0] Ed: 16000, train_loss: 1.33154, acc: 0.45819\n"
          ]
        },
        {
          "name": "stderr",
          "output_type": "stream",
          "text": [
            "INFO:root:[0] Ed: 19200, train_loss: 1.33051, acc: 0.45661\n"
          ]
        },
        {
          "name": "stdout",
          "output_type": "stream",
          "text": [
            "[INFO 2025-02-19 16:27:24,989] [0] Ed: 19200, train_loss: 1.33051, acc: 0.45661\n",
            "[INFO 2025-02-19 16:27:24,989] [0] Ed: 19200, train_loss: 1.33051, acc: 0.45661\n"
          ]
        },
        {
          "name": "stderr",
          "output_type": "stream",
          "text": [
            "INFO:root:[0] Ed: 22400, train_loss: 1.32930, acc: 0.45790\n"
          ]
        },
        {
          "name": "stdout",
          "output_type": "stream",
          "text": [
            "[INFO 2025-02-19 16:27:39,925] [0] Ed: 22400, train_loss: 1.32930, acc: 0.45790\n",
            "[INFO 2025-02-19 16:27:39,925] [0] Ed: 22400, train_loss: 1.32930, acc: 0.45790\n"
          ]
        },
        {
          "name": "stderr",
          "output_type": "stream",
          "text": [
            "INFO:root:[0] Ed: 25600, train_loss: 1.32882, acc: 0.45895\n"
          ]
        },
        {
          "name": "stdout",
          "output_type": "stream",
          "text": [
            "[INFO 2025-02-19 16:27:54,993] [0] Ed: 25600, train_loss: 1.32882, acc: 0.45895\n",
            "[INFO 2025-02-19 16:27:54,993] [0] Ed: 25600, train_loss: 1.32882, acc: 0.45895\n"
          ]
        },
        {
          "name": "stderr",
          "output_type": "stream",
          "text": [
            "INFO:root:[0] Ed: 28800, train_loss: 1.32776, acc: 0.46035\n"
          ]
        },
        {
          "name": "stdout",
          "output_type": "stream",
          "text": [
            "[INFO 2025-02-19 16:28:09,998] [0] Ed: 28800, train_loss: 1.32776, acc: 0.46035\n",
            "[INFO 2025-02-19 16:28:09,998] [0] Ed: 28800, train_loss: 1.32776, acc: 0.46035\n"
          ]
        },
        {
          "name": "stderr",
          "output_type": "stream",
          "text": [
            "INFO:root:[0] Ed: 32000, train_loss: 1.32698, acc: 0.46097\n"
          ]
        },
        {
          "name": "stdout",
          "output_type": "stream",
          "text": [
            "[INFO 2025-02-19 16:28:25,198] [0] Ed: 32000, train_loss: 1.32698, acc: 0.46097\n",
            "[INFO 2025-02-19 16:28:25,198] [0] Ed: 32000, train_loss: 1.32698, acc: 0.46097\n"
          ]
        },
        {
          "name": "stderr",
          "output_type": "stream",
          "text": [
            "INFO:root:[0] Ed: 35200, train_loss: 1.32796, acc: 0.45986\n"
          ]
        },
        {
          "name": "stdout",
          "output_type": "stream",
          "text": [
            "[INFO 2025-02-19 16:28:40,895] [0] Ed: 35200, train_loss: 1.32796, acc: 0.45986\n",
            "[INFO 2025-02-19 16:28:40,895] [0] Ed: 35200, train_loss: 1.32796, acc: 0.45986\n"
          ]
        },
        {
          "name": "stderr",
          "output_type": "stream",
          "text": [
            "INFO:root:[0] Ed: 38400, train_loss: 1.32706, acc: 0.45922\n"
          ]
        },
        {
          "name": "stdout",
          "output_type": "stream",
          "text": [
            "[INFO 2025-02-19 16:28:55,762] [0] Ed: 38400, train_loss: 1.32706, acc: 0.45922\n",
            "[INFO 2025-02-19 16:28:55,762] [0] Ed: 38400, train_loss: 1.32706, acc: 0.45922\n"
          ]
        },
        {
          "name": "stderr",
          "output_type": "stream",
          "text": [
            "INFO:root:[0] Ed: 41600, train_loss: 1.32452, acc: 0.46077\n"
          ]
        },
        {
          "name": "stdout",
          "output_type": "stream",
          "text": [
            "[INFO 2025-02-19 16:29:10,891] [0] Ed: 41600, train_loss: 1.32452, acc: 0.46077\n",
            "[INFO 2025-02-19 16:29:10,891] [0] Ed: 41600, train_loss: 1.32452, acc: 0.46077\n"
          ]
        },
        {
          "name": "stderr",
          "output_type": "stream",
          "text": [
            "INFO:root:[0] Ed: 44800, train_loss: 1.32372, acc: 0.46065\n"
          ]
        },
        {
          "name": "stdout",
          "output_type": "stream",
          "text": [
            "[INFO 2025-02-19 16:29:25,866] [0] Ed: 44800, train_loss: 1.32372, acc: 0.46065\n",
            "[INFO 2025-02-19 16:29:25,866] [0] Ed: 44800, train_loss: 1.32372, acc: 0.46065\n"
          ]
        },
        {
          "name": "stderr",
          "output_type": "stream",
          "text": [
            "INFO:root:[0] Ed: 48000, train_loss: 1.32377, acc: 0.46046\n"
          ]
        },
        {
          "name": "stdout",
          "output_type": "stream",
          "text": [
            "[INFO 2025-02-19 16:29:40,743] [0] Ed: 48000, train_loss: 1.32377, acc: 0.46046\n",
            "[INFO 2025-02-19 16:29:40,743] [0] Ed: 48000, train_loss: 1.32377, acc: 0.46046\n"
          ]
        },
        {
          "name": "stderr",
          "output_type": "stream",
          "text": [
            "INFO:root:[0] Ed: 51200, train_loss: 1.32247, acc: 0.46129\n"
          ]
        },
        {
          "name": "stdout",
          "output_type": "stream",
          "text": [
            "[INFO 2025-02-19 16:29:56,717] [0] Ed: 51200, train_loss: 1.32247, acc: 0.46129\n",
            "[INFO 2025-02-19 16:29:56,717] [0] Ed: 51200, train_loss: 1.32247, acc: 0.46129\n"
          ]
        },
        {
          "name": "stderr",
          "output_type": "stream",
          "text": [
            "INFO:root:[0] Ed: 54400, train_loss: 1.32143, acc: 0.46199\n"
          ]
        },
        {
          "name": "stdout",
          "output_type": "stream",
          "text": [
            "[INFO 2025-02-19 16:30:11,914] [0] Ed: 54400, train_loss: 1.32143, acc: 0.46199\n",
            "[INFO 2025-02-19 16:30:11,914] [0] Ed: 54400, train_loss: 1.32143, acc: 0.46199\n"
          ]
        },
        {
          "name": "stderr",
          "output_type": "stream",
          "text": [
            "INFO:root:[0] Ed: 57600, train_loss: 1.32072, acc: 0.46313\n"
          ]
        },
        {
          "name": "stdout",
          "output_type": "stream",
          "text": [
            "[INFO 2025-02-19 16:30:27,186] [0] Ed: 57600, train_loss: 1.32072, acc: 0.46313\n",
            "[INFO 2025-02-19 16:30:27,186] [0] Ed: 57600, train_loss: 1.32072, acc: 0.46313\n"
          ]
        },
        {
          "name": "stderr",
          "output_type": "stream",
          "text": [
            "INFO:root:[0] Ed: 60800, train_loss: 1.32036, acc: 0.46326\n"
          ]
        },
        {
          "name": "stdout",
          "output_type": "stream",
          "text": [
            "[INFO 2025-02-19 16:30:42,449] [0] Ed: 60800, train_loss: 1.32036, acc: 0.46326\n",
            "[INFO 2025-02-19 16:30:42,449] [0] Ed: 60800, train_loss: 1.32036, acc: 0.46326\n"
          ]
        },
        {
          "name": "stderr",
          "output_type": "stream",
          "text": [
            "INFO:root:[0] Ed: 64000, train_loss: 1.31943, acc: 0.46422\n"
          ]
        },
        {
          "name": "stdout",
          "output_type": "stream",
          "text": [
            "[INFO 2025-02-19 16:30:57,782] [0] Ed: 64000, train_loss: 1.31943, acc: 0.46422\n",
            "[INFO 2025-02-19 16:30:57,782] [0] Ed: 64000, train_loss: 1.31943, acc: 0.46422\n"
          ]
        },
        {
          "name": "stderr",
          "output_type": "stream",
          "text": [
            "INFO:root:[0] Ed: 67200, train_loss: 1.31850, acc: 0.46503\n"
          ]
        },
        {
          "name": "stdout",
          "output_type": "stream",
          "text": [
            "[INFO 2025-02-19 16:31:13,338] [0] Ed: 67200, train_loss: 1.31850, acc: 0.46503\n",
            "[INFO 2025-02-19 16:31:13,338] [0] Ed: 67200, train_loss: 1.31850, acc: 0.46503\n"
          ]
        },
        {
          "name": "stderr",
          "output_type": "stream",
          "text": [
            "INFO:root:[0] Ed: 70400, train_loss: 1.31756, acc: 0.46547\n"
          ]
        },
        {
          "name": "stdout",
          "output_type": "stream",
          "text": [
            "[INFO 2025-02-19 16:31:28,653] [0] Ed: 70400, train_loss: 1.31756, acc: 0.46547\n",
            "[INFO 2025-02-19 16:31:28,653] [0] Ed: 70400, train_loss: 1.31756, acc: 0.46547\n"
          ]
        },
        {
          "name": "stderr",
          "output_type": "stream",
          "text": [
            "INFO:root:[0] Ed: 73600, train_loss: 1.31731, acc: 0.46538\n"
          ]
        },
        {
          "name": "stdout",
          "output_type": "stream",
          "text": [
            "[INFO 2025-02-19 16:31:43,537] [0] Ed: 73600, train_loss: 1.31731, acc: 0.46538\n",
            "[INFO 2025-02-19 16:31:43,537] [0] Ed: 73600, train_loss: 1.31731, acc: 0.46538\n"
          ]
        },
        {
          "name": "stderr",
          "output_type": "stream",
          "text": [
            "INFO:root:[0] Ed: 76800, train_loss: 1.31585, acc: 0.46600\n"
          ]
        },
        {
          "name": "stdout",
          "output_type": "stream",
          "text": [
            "[INFO 2025-02-19 16:31:58,531] [0] Ed: 76800, train_loss: 1.31585, acc: 0.46600\n",
            "[INFO 2025-02-19 16:31:58,531] [0] Ed: 76800, train_loss: 1.31585, acc: 0.46600\n"
          ]
        },
        {
          "name": "stderr",
          "output_type": "stream",
          "text": [
            "INFO:root:[0] Ed: 80000, train_loss: 1.31584, acc: 0.46576\n"
          ]
        },
        {
          "name": "stdout",
          "output_type": "stream",
          "text": [
            "[INFO 2025-02-19 16:32:13,737] [0] Ed: 80000, train_loss: 1.31584, acc: 0.46576\n",
            "[INFO 2025-02-19 16:32:13,737] [0] Ed: 80000, train_loss: 1.31584, acc: 0.46576\n"
          ]
        },
        {
          "name": "stderr",
          "output_type": "stream",
          "text": [
            "INFO:root:[0] Ed: 83200, train_loss: 1.31477, acc: 0.46641\n"
          ]
        },
        {
          "name": "stdout",
          "output_type": "stream",
          "text": [
            "[INFO 2025-02-19 16:32:29,548] [0] Ed: 83200, train_loss: 1.31477, acc: 0.46641\n",
            "[INFO 2025-02-19 16:32:29,548] [0] Ed: 83200, train_loss: 1.31477, acc: 0.46641\n"
          ]
        },
        {
          "name": "stderr",
          "output_type": "stream",
          "text": [
            "INFO:root:[0] Ed: 86400, train_loss: 1.31410, acc: 0.46637\n"
          ]
        },
        {
          "name": "stdout",
          "output_type": "stream",
          "text": [
            "[INFO 2025-02-19 16:32:44,534] [0] Ed: 86400, train_loss: 1.31410, acc: 0.46637\n",
            "[INFO 2025-02-19 16:32:44,534] [0] Ed: 86400, train_loss: 1.31410, acc: 0.46637\n"
          ]
        },
        {
          "name": "stderr",
          "output_type": "stream",
          "text": [
            "INFO:root:[0] Ed: 89600, train_loss: 1.31329, acc: 0.46698\n"
          ]
        },
        {
          "name": "stdout",
          "output_type": "stream",
          "text": [
            "[INFO 2025-02-19 16:32:59,559] [0] Ed: 89600, train_loss: 1.31329, acc: 0.46698\n",
            "[INFO 2025-02-19 16:32:59,559] [0] Ed: 89600, train_loss: 1.31329, acc: 0.46698\n"
          ]
        },
        {
          "name": "stderr",
          "output_type": "stream",
          "text": [
            "INFO:root:[0] Ed: 92800, train_loss: 1.31360, acc: 0.46669\n"
          ]
        },
        {
          "name": "stdout",
          "output_type": "stream",
          "text": [
            "[INFO 2025-02-19 16:33:14,538] [0] Ed: 92800, train_loss: 1.31360, acc: 0.46669\n",
            "[INFO 2025-02-19 16:33:14,538] [0] Ed: 92800, train_loss: 1.31360, acc: 0.46669\n"
          ]
        },
        {
          "name": "stderr",
          "output_type": "stream",
          "text": [
            "INFO:root:[0] Ed: 96000, train_loss: 1.31288, acc: 0.46733\n"
          ]
        },
        {
          "name": "stdout",
          "output_type": "stream",
          "text": [
            "[INFO 2025-02-19 16:33:29,603] [0] Ed: 96000, train_loss: 1.31288, acc: 0.46733\n",
            "[INFO 2025-02-19 16:33:29,603] [0] Ed: 96000, train_loss: 1.31288, acc: 0.46733\n"
          ]
        },
        {
          "name": "stderr",
          "output_type": "stream",
          "text": [
            "INFO:root:[0] Ed: 99200, train_loss: 1.31283, acc: 0.46728\n"
          ]
        },
        {
          "name": "stdout",
          "output_type": "stream",
          "text": [
            "[INFO 2025-02-19 16:33:45,279] [0] Ed: 99200, train_loss: 1.31283, acc: 0.46728\n",
            "[INFO 2025-02-19 16:33:45,279] [0] Ed: 99200, train_loss: 1.31283, acc: 0.46728\n"
          ]
        },
        {
          "name": "stderr",
          "output_type": "stream",
          "text": [
            "INFO:root:[0] Ed: 102400, train_loss: 1.31168, acc: 0.46782\n"
          ]
        },
        {
          "name": "stdout",
          "output_type": "stream",
          "text": [
            "[INFO 2025-02-19 16:34:00,319] [0] Ed: 102400, train_loss: 1.31168, acc: 0.46782\n",
            "[INFO 2025-02-19 16:34:00,319] [0] Ed: 102400, train_loss: 1.31168, acc: 0.46782\n"
          ]
        },
        {
          "name": "stderr",
          "output_type": "stream",
          "text": [
            "INFO:root:[0] Ed: 105600, train_loss: 1.31041, acc: 0.46847\n"
          ]
        },
        {
          "name": "stdout",
          "output_type": "stream",
          "text": [
            "[INFO 2025-02-19 16:34:15,326] [0] Ed: 105600, train_loss: 1.31041, acc: 0.46847\n",
            "[INFO 2025-02-19 16:34:15,326] [0] Ed: 105600, train_loss: 1.31041, acc: 0.46847\n"
          ]
        },
        {
          "name": "stderr",
          "output_type": "stream",
          "text": [
            "INFO:root:[0] Ed: 108800, train_loss: 1.31035, acc: 0.46846\n"
          ]
        },
        {
          "name": "stdout",
          "output_type": "stream",
          "text": [
            "[INFO 2025-02-19 16:34:30,347] [0] Ed: 108800, train_loss: 1.31035, acc: 0.46846\n",
            "[INFO 2025-02-19 16:34:30,347] [0] Ed: 108800, train_loss: 1.31035, acc: 0.46846\n"
          ]
        },
        {
          "name": "stderr",
          "output_type": "stream",
          "text": [
            "INFO:root:[0] Ed: 112000, train_loss: 1.31011, acc: 0.46854\n"
          ]
        },
        {
          "name": "stdout",
          "output_type": "stream",
          "text": [
            "[INFO 2025-02-19 16:34:45,259] [0] Ed: 112000, train_loss: 1.31011, acc: 0.46854\n",
            "[INFO 2025-02-19 16:34:45,259] [0] Ed: 112000, train_loss: 1.31011, acc: 0.46854\n"
          ]
        },
        {
          "name": "stderr",
          "output_type": "stream",
          "text": [
            "INFO:root:[0] Ed: 115200, train_loss: 1.30979, acc: 0.46841\n"
          ]
        },
        {
          "name": "stdout",
          "output_type": "stream",
          "text": [
            "[INFO 2025-02-19 16:35:01,333] [0] Ed: 115200, train_loss: 1.30979, acc: 0.46841\n",
            "[INFO 2025-02-19 16:35:01,333] [0] Ed: 115200, train_loss: 1.30979, acc: 0.46841\n"
          ]
        },
        {
          "name": "stderr",
          "output_type": "stream",
          "text": [
            "INFO:root:[0] Ed: 118400, train_loss: 1.30890, acc: 0.46910\n"
          ]
        },
        {
          "name": "stdout",
          "output_type": "stream",
          "text": [
            "[INFO 2025-02-19 16:35:16,362] [0] Ed: 118400, train_loss: 1.30890, acc: 0.46910\n",
            "[INFO 2025-02-19 16:35:16,362] [0] Ed: 118400, train_loss: 1.30890, acc: 0.46910\n"
          ]
        },
        {
          "name": "stderr",
          "output_type": "stream",
          "text": [
            "INFO:root:[0] Ed: 121600, train_loss: 1.30876, acc: 0.46911\n"
          ]
        },
        {
          "name": "stdout",
          "output_type": "stream",
          "text": [
            "[INFO 2025-02-19 16:35:31,379] [0] Ed: 121600, train_loss: 1.30876, acc: 0.46911\n",
            "[INFO 2025-02-19 16:35:31,379] [0] Ed: 121600, train_loss: 1.30876, acc: 0.46911\n"
          ]
        },
        {
          "name": "stderr",
          "output_type": "stream",
          "text": [
            "INFO:root:[0] Ed: 124800, train_loss: 1.30852, acc: 0.46893\n"
          ]
        },
        {
          "name": "stdout",
          "output_type": "stream",
          "text": [
            "[INFO 2025-02-19 16:35:46,385] [0] Ed: 124800, train_loss: 1.30852, acc: 0.46893\n",
            "[INFO 2025-02-19 16:35:46,385] [0] Ed: 124800, train_loss: 1.30852, acc: 0.46893\n"
          ]
        },
        {
          "name": "stderr",
          "output_type": "stream",
          "text": [
            "INFO:root:[0] Ed: 128000, train_loss: 1.30882, acc: 0.46886\n"
          ]
        },
        {
          "name": "stdout",
          "output_type": "stream",
          "text": [
            "[INFO 2025-02-19 16:36:01,393] [0] Ed: 128000, train_loss: 1.30882, acc: 0.46886\n",
            "[INFO 2025-02-19 16:36:01,393] [0] Ed: 128000, train_loss: 1.30882, acc: 0.46886\n"
          ]
        },
        {
          "name": "stderr",
          "output_type": "stream",
          "text": [
            "INFO:root:[0] Ed: 131200, train_loss: 1.30839, acc: 0.46913\n"
          ]
        },
        {
          "name": "stdout",
          "output_type": "stream",
          "text": [
            "[INFO 2025-02-19 16:36:17,153] [0] Ed: 131200, train_loss: 1.30839, acc: 0.46913\n",
            "[INFO 2025-02-19 16:36:17,153] [0] Ed: 131200, train_loss: 1.30839, acc: 0.46913\n"
          ]
        },
        {
          "name": "stderr",
          "output_type": "stream",
          "text": [
            "INFO:root:[0] Ed: 134400, train_loss: 1.30816, acc: 0.46931\n"
          ]
        },
        {
          "name": "stdout",
          "output_type": "stream",
          "text": [
            "[INFO 2025-02-19 16:36:32,096] [0] Ed: 134400, train_loss: 1.30816, acc: 0.46931\n",
            "[INFO 2025-02-19 16:36:32,096] [0] Ed: 134400, train_loss: 1.30816, acc: 0.46931\n"
          ]
        },
        {
          "name": "stderr",
          "output_type": "stream",
          "text": [
            "INFO:root:[0] Ed: 137600, train_loss: 1.30828, acc: 0.46933\n"
          ]
        },
        {
          "name": "stdout",
          "output_type": "stream",
          "text": [
            "[INFO 2025-02-19 16:36:46,964] [0] Ed: 137600, train_loss: 1.30828, acc: 0.46933\n",
            "[INFO 2025-02-19 16:36:46,964] [0] Ed: 137600, train_loss: 1.30828, acc: 0.46933\n"
          ]
        },
        {
          "name": "stderr",
          "output_type": "stream",
          "text": [
            "INFO:root:[0] Ed: 140800, train_loss: 1.30769, acc: 0.46975\n"
          ]
        },
        {
          "name": "stdout",
          "output_type": "stream",
          "text": [
            "[INFO 2025-02-19 16:37:01,992] [0] Ed: 140800, train_loss: 1.30769, acc: 0.46975\n",
            "[INFO 2025-02-19 16:37:01,992] [0] Ed: 140800, train_loss: 1.30769, acc: 0.46975\n"
          ]
        },
        {
          "name": "stderr",
          "output_type": "stream",
          "text": [
            "INFO:root:[0] Ed: 144000, train_loss: 1.30734, acc: 0.46972\n"
          ]
        },
        {
          "name": "stdout",
          "output_type": "stream",
          "text": [
            "[INFO 2025-02-19 16:37:17,002] [0] Ed: 144000, train_loss: 1.30734, acc: 0.46972\n",
            "[INFO 2025-02-19 16:37:17,002] [0] Ed: 144000, train_loss: 1.30734, acc: 0.46972\n"
          ]
        },
        {
          "name": "stderr",
          "output_type": "stream",
          "text": [
            "INFO:root:[0] Ed: 147200, train_loss: 1.30705, acc: 0.46980\n"
          ]
        },
        {
          "name": "stdout",
          "output_type": "stream",
          "text": [
            "[INFO 2025-02-19 16:37:32,752] [0] Ed: 147200, train_loss: 1.30705, acc: 0.46980\n",
            "[INFO 2025-02-19 16:37:32,752] [0] Ed: 147200, train_loss: 1.30705, acc: 0.46980\n"
          ]
        },
        {
          "name": "stderr",
          "output_type": "stream",
          "text": [
            "INFO:root:[0] Ed: 150400, train_loss: 1.30647, acc: 0.46997\n"
          ]
        },
        {
          "name": "stdout",
          "output_type": "stream",
          "text": [
            "[INFO 2025-02-19 16:37:47,782] [0] Ed: 150400, train_loss: 1.30647, acc: 0.46997\n",
            "[INFO 2025-02-19 16:37:47,782] [0] Ed: 150400, train_loss: 1.30647, acc: 0.46997\n"
          ]
        },
        {
          "name": "stderr",
          "output_type": "stream",
          "text": [
            "INFO:root:[0] Ed: 153600, train_loss: 1.30598, acc: 0.47010\n"
          ]
        },
        {
          "name": "stdout",
          "output_type": "stream",
          "text": [
            "[INFO 2025-02-19 16:38:02,824] [0] Ed: 153600, train_loss: 1.30598, acc: 0.47010\n",
            "[INFO 2025-02-19 16:38:02,824] [0] Ed: 153600, train_loss: 1.30598, acc: 0.47010\n"
          ]
        },
        {
          "name": "stderr",
          "output_type": "stream",
          "text": [
            "INFO:root:[0] Ed: 156800, train_loss: 1.30543, acc: 0.47050\n"
          ]
        },
        {
          "name": "stdout",
          "output_type": "stream",
          "text": [
            "[INFO 2025-02-19 16:38:17,905] [0] Ed: 156800, train_loss: 1.30543, acc: 0.47050\n",
            "[INFO 2025-02-19 16:38:17,905] [0] Ed: 156800, train_loss: 1.30543, acc: 0.47050\n"
          ]
        },
        {
          "name": "stderr",
          "output_type": "stream",
          "text": [
            "INFO:root:[0] Ed: 160000, train_loss: 1.30510, acc: 0.47083\n"
          ]
        },
        {
          "name": "stdout",
          "output_type": "stream",
          "text": [
            "[INFO 2025-02-19 16:38:32,905] [0] Ed: 160000, train_loss: 1.30510, acc: 0.47083\n",
            "[INFO 2025-02-19 16:38:32,905] [0] Ed: 160000, train_loss: 1.30510, acc: 0.47083\n"
          ]
        },
        {
          "name": "stderr",
          "output_type": "stream",
          "text": [
            "INFO:root:[0] Ed: 163200, train_loss: 1.30480, acc: 0.47094\n"
          ]
        },
        {
          "name": "stdout",
          "output_type": "stream",
          "text": [
            "[INFO 2025-02-19 16:38:48,682] [0] Ed: 163200, train_loss: 1.30480, acc: 0.47094\n",
            "[INFO 2025-02-19 16:38:48,682] [0] Ed: 163200, train_loss: 1.30480, acc: 0.47094\n"
          ]
        },
        {
          "name": "stderr",
          "output_type": "stream",
          "text": [
            "INFO:root:[0] Ed: 166400, train_loss: 1.30484, acc: 0.47082\n"
          ]
        },
        {
          "name": "stdout",
          "output_type": "stream",
          "text": [
            "[INFO 2025-02-19 16:39:03,694] [0] Ed: 166400, train_loss: 1.30484, acc: 0.47082\n",
            "[INFO 2025-02-19 16:39:03,694] [0] Ed: 166400, train_loss: 1.30484, acc: 0.47082\n"
          ]
        },
        {
          "name": "stderr",
          "output_type": "stream",
          "text": [
            "INFO:root:[0] Ed: 169600, train_loss: 1.30467, acc: 0.47104\n"
          ]
        },
        {
          "name": "stdout",
          "output_type": "stream",
          "text": [
            "[INFO 2025-02-19 16:39:18,641] [0] Ed: 169600, train_loss: 1.30467, acc: 0.47104\n",
            "[INFO 2025-02-19 16:39:18,641] [0] Ed: 169600, train_loss: 1.30467, acc: 0.47104\n"
          ]
        },
        {
          "name": "stderr",
          "output_type": "stream",
          "text": [
            "INFO:root:[0] Ed: 172800, train_loss: 1.30413, acc: 0.47123\n"
          ]
        },
        {
          "name": "stdout",
          "output_type": "stream",
          "text": [
            "[INFO 2025-02-19 16:39:33,583] [0] Ed: 172800, train_loss: 1.30413, acc: 0.47123\n",
            "[INFO 2025-02-19 16:39:33,583] [0] Ed: 172800, train_loss: 1.30413, acc: 0.47123\n"
          ]
        },
        {
          "name": "stderr",
          "output_type": "stream",
          "text": [
            "INFO:root:[0] Ed: 176000, train_loss: 1.30390, acc: 0.47132\n"
          ]
        },
        {
          "name": "stdout",
          "output_type": "stream",
          "text": [
            "[INFO 2025-02-19 16:39:48,382] [0] Ed: 176000, train_loss: 1.30390, acc: 0.47132\n",
            "[INFO 2025-02-19 16:39:48,382] [0] Ed: 176000, train_loss: 1.30390, acc: 0.47132\n"
          ]
        },
        {
          "name": "stderr",
          "output_type": "stream",
          "text": [
            "INFO:root:[0] Ed: 179200, train_loss: 1.30346, acc: 0.47162\n"
          ]
        },
        {
          "name": "stdout",
          "output_type": "stream",
          "text": [
            "[INFO 2025-02-19 16:40:03,749] [0] Ed: 179200, train_loss: 1.30346, acc: 0.47162\n",
            "[INFO 2025-02-19 16:40:03,749] [0] Ed: 179200, train_loss: 1.30346, acc: 0.47162\n"
          ]
        },
        {
          "name": "stderr",
          "output_type": "stream",
          "text": [
            "INFO:root:[0] Ed: 182400, train_loss: 1.30331, acc: 0.47177\n"
          ]
        },
        {
          "name": "stdout",
          "output_type": "stream",
          "text": [
            "[INFO 2025-02-19 16:40:18,900] [0] Ed: 182400, train_loss: 1.30331, acc: 0.47177\n",
            "[INFO 2025-02-19 16:40:18,900] [0] Ed: 182400, train_loss: 1.30331, acc: 0.47177\n"
          ]
        },
        {
          "name": "stderr",
          "output_type": "stream",
          "text": [
            "INFO:root:[0] Ed: 185600, train_loss: 1.30285, acc: 0.47199\n"
          ]
        },
        {
          "name": "stdout",
          "output_type": "stream",
          "text": [
            "[INFO 2025-02-19 16:40:33,875] [0] Ed: 185600, train_loss: 1.30285, acc: 0.47199\n",
            "[INFO 2025-02-19 16:40:33,875] [0] Ed: 185600, train_loss: 1.30285, acc: 0.47199\n"
          ]
        },
        {
          "name": "stderr",
          "output_type": "stream",
          "text": [
            "INFO:root:[0] Ed: 188800, train_loss: 1.30258, acc: 0.47228\n"
          ]
        },
        {
          "name": "stdout",
          "output_type": "stream",
          "text": [
            "[INFO 2025-02-19 16:40:48,966] [0] Ed: 188800, train_loss: 1.30258, acc: 0.47228\n",
            "[INFO 2025-02-19 16:40:48,966] [0] Ed: 188800, train_loss: 1.30258, acc: 0.47228\n"
          ]
        },
        {
          "name": "stderr",
          "output_type": "stream",
          "text": [
            "INFO:root:[0] Ed: 192000, train_loss: 1.30259, acc: 0.47222\n"
          ]
        },
        {
          "name": "stdout",
          "output_type": "stream",
          "text": [
            "[INFO 2025-02-19 16:41:03,869] [0] Ed: 192000, train_loss: 1.30259, acc: 0.47222\n",
            "[INFO 2025-02-19 16:41:03,869] [0] Ed: 192000, train_loss: 1.30259, acc: 0.47222\n"
          ]
        },
        {
          "name": "stderr",
          "output_type": "stream",
          "text": [
            "INFO:root:[0] Ed: 195200, train_loss: 1.30231, acc: 0.47248\n"
          ]
        },
        {
          "name": "stdout",
          "output_type": "stream",
          "text": [
            "[INFO 2025-02-19 16:41:19,004] [0] Ed: 195200, train_loss: 1.30231, acc: 0.47248\n",
            "[INFO 2025-02-19 16:41:19,004] [0] Ed: 195200, train_loss: 1.30231, acc: 0.47248\n"
          ]
        },
        {
          "name": "stderr",
          "output_type": "stream",
          "text": [
            "INFO:root:[0] Ed: 198400, train_loss: 1.30219, acc: 0.47272\n"
          ]
        },
        {
          "name": "stdout",
          "output_type": "stream",
          "text": [
            "[INFO 2025-02-19 16:41:34,392] [0] Ed: 198400, train_loss: 1.30219, acc: 0.47272\n",
            "[INFO 2025-02-19 16:41:34,392] [0] Ed: 198400, train_loss: 1.30219, acc: 0.47272\n"
          ]
        },
        {
          "name": "stderr",
          "output_type": "stream",
          "text": [
            "INFO:root:[0] Ed: 201600, train_loss: 1.30191, acc: 0.47276\n"
          ]
        },
        {
          "name": "stdout",
          "output_type": "stream",
          "text": [
            "[INFO 2025-02-19 16:41:49,218] [0] Ed: 201600, train_loss: 1.30191, acc: 0.47276\n",
            "[INFO 2025-02-19 16:41:49,218] [0] Ed: 201600, train_loss: 1.30191, acc: 0.47276\n"
          ]
        },
        {
          "name": "stderr",
          "output_type": "stream",
          "text": [
            "INFO:root:[0] Ed: 204800, train_loss: 1.30191, acc: 0.47269\n"
          ]
        },
        {
          "name": "stdout",
          "output_type": "stream",
          "text": [
            "[INFO 2025-02-19 16:42:04,054] [0] Ed: 204800, train_loss: 1.30191, acc: 0.47269\n",
            "[INFO 2025-02-19 16:42:04,054] [0] Ed: 204800, train_loss: 1.30191, acc: 0.47269\n"
          ]
        },
        {
          "name": "stderr",
          "output_type": "stream",
          "text": [
            "INFO:root:[0] Ed: 208000, train_loss: 1.30187, acc: 0.47276\n"
          ]
        },
        {
          "name": "stdout",
          "output_type": "stream",
          "text": [
            "[INFO 2025-02-19 16:42:18,940] [0] Ed: 208000, train_loss: 1.30187, acc: 0.47276\n",
            "[INFO 2025-02-19 16:42:18,940] [0] Ed: 208000, train_loss: 1.30187, acc: 0.47276\n"
          ]
        },
        {
          "name": "stderr",
          "output_type": "stream",
          "text": [
            "INFO:root:[0] Ed: 211200, train_loss: 1.30174, acc: 0.47285\n"
          ]
        },
        {
          "name": "stdout",
          "output_type": "stream",
          "text": [
            "[INFO 2025-02-19 16:42:33,872] [0] Ed: 211200, train_loss: 1.30174, acc: 0.47285\n",
            "[INFO 2025-02-19 16:42:33,872] [0] Ed: 211200, train_loss: 1.30174, acc: 0.47285\n"
          ]
        },
        {
          "name": "stderr",
          "output_type": "stream",
          "text": [
            "INFO:root:[0] Ed: 214400, train_loss: 1.30160, acc: 0.47288\n"
          ]
        },
        {
          "name": "stdout",
          "output_type": "stream",
          "text": [
            "[INFO 2025-02-19 16:42:49,473] [0] Ed: 214400, train_loss: 1.30160, acc: 0.47288\n",
            "[INFO 2025-02-19 16:42:49,473] [0] Ed: 214400, train_loss: 1.30160, acc: 0.47288\n"
          ]
        },
        {
          "name": "stderr",
          "output_type": "stream",
          "text": [
            "INFO:root:[0] Ed: 217600, train_loss: 1.30130, acc: 0.47294\n"
          ]
        },
        {
          "name": "stdout",
          "output_type": "stream",
          "text": [
            "[INFO 2025-02-19 16:43:04,355] [0] Ed: 217600, train_loss: 1.30130, acc: 0.47294\n",
            "[INFO 2025-02-19 16:43:04,355] [0] Ed: 217600, train_loss: 1.30130, acc: 0.47294\n"
          ]
        },
        {
          "name": "stderr",
          "output_type": "stream",
          "text": [
            "INFO:root:[0] Ed: 220800, train_loss: 1.30095, acc: 0.47308\n"
          ]
        },
        {
          "name": "stdout",
          "output_type": "stream",
          "text": [
            "[INFO 2025-02-19 16:43:19,303] [0] Ed: 220800, train_loss: 1.30095, acc: 0.47308\n",
            "[INFO 2025-02-19 16:43:19,303] [0] Ed: 220800, train_loss: 1.30095, acc: 0.47308\n"
          ]
        },
        {
          "name": "stderr",
          "output_type": "stream",
          "text": [
            "INFO:root:[0] Ed: 224000, train_loss: 1.30053, acc: 0.47326\n"
          ]
        },
        {
          "name": "stdout",
          "output_type": "stream",
          "text": [
            "[INFO 2025-02-19 16:43:34,302] [0] Ed: 224000, train_loss: 1.30053, acc: 0.47326\n",
            "[INFO 2025-02-19 16:43:34,302] [0] Ed: 224000, train_loss: 1.30053, acc: 0.47326\n"
          ]
        },
        {
          "name": "stderr",
          "output_type": "stream",
          "text": [
            "INFO:root:[0] Ed: 227200, train_loss: 1.30009, acc: 0.47350\n"
          ]
        },
        {
          "name": "stdout",
          "output_type": "stream",
          "text": [
            "[INFO 2025-02-19 16:43:49,262] [0] Ed: 227200, train_loss: 1.30009, acc: 0.47350\n",
            "[INFO 2025-02-19 16:43:49,262] [0] Ed: 227200, train_loss: 1.30009, acc: 0.47350\n"
          ]
        },
        {
          "name": "stderr",
          "output_type": "stream",
          "text": [
            "INFO:root:[0] Ed: 230400, train_loss: 1.29959, acc: 0.47361\n"
          ]
        },
        {
          "name": "stdout",
          "output_type": "stream",
          "text": [
            "[INFO 2025-02-19 16:44:04,806] [0] Ed: 230400, train_loss: 1.29959, acc: 0.47361\n",
            "[INFO 2025-02-19 16:44:04,806] [0] Ed: 230400, train_loss: 1.29959, acc: 0.47361\n"
          ]
        },
        {
          "name": "stderr",
          "output_type": "stream",
          "text": [
            "INFO:root:[0] Ed: 233600, train_loss: 1.29898, acc: 0.47399\n"
          ]
        },
        {
          "name": "stdout",
          "output_type": "stream",
          "text": [
            "[INFO 2025-02-19 16:44:19,881] [0] Ed: 233600, train_loss: 1.29898, acc: 0.47399\n",
            "[INFO 2025-02-19 16:44:19,881] [0] Ed: 233600, train_loss: 1.29898, acc: 0.47399\n"
          ]
        },
        {
          "name": "stderr",
          "output_type": "stream",
          "text": [
            "INFO:root:Training finish.\n"
          ]
        },
        {
          "name": "stdout",
          "output_type": "stream",
          "text": [
            "[INFO 2025-02-19 16:44:32,632] Training finish.\n",
            "[INFO 2025-02-19 16:44:32,632] Training finish.\n"
          ]
        },
        {
          "name": "stderr",
          "output_type": "stream",
          "text": [
            "INFO:root:Model saved to /content/model/epoch-2.pt.\n"
          ]
        },
        {
          "name": "stdout",
          "output_type": "stream",
          "text": [
            "[INFO 2025-02-19 16:44:32,675] Model saved to /content/model/epoch-2.pt.\n",
            "[INFO 2025-02-19 16:44:32,675] Model saved to /content/model/epoch-2.pt.\n"
          ]
        },
        {
          "name": "stderr",
          "output_type": "stream",
          "text": [
            "INFO:root:[0] Ed: 0, train_loss: inf, acc: inf\n"
          ]
        },
        {
          "name": "stdout",
          "output_type": "stream",
          "text": [
            "[INFO 2025-02-19 16:44:32,844] [0] Ed: 0, train_loss: inf, acc: inf\n",
            "[INFO 2025-02-19 16:44:32,844] [0] Ed: 0, train_loss: inf, acc: inf\n"
          ]
        },
        {
          "name": "stderr",
          "output_type": "stream",
          "text": [
            "INFO:root:[0] Ed: 3200, train_loss: 1.30297, acc: 0.48562\n"
          ]
        },
        {
          "name": "stdout",
          "output_type": "stream",
          "text": [
            "[INFO 2025-02-19 16:44:47,708] [0] Ed: 3200, train_loss: 1.30297, acc: 0.48562\n",
            "[INFO 2025-02-19 16:44:47,708] [0] Ed: 3200, train_loss: 1.30297, acc: 0.48562\n"
          ]
        },
        {
          "name": "stderr",
          "output_type": "stream",
          "text": [
            "INFO:root:[0] Ed: 6400, train_loss: 1.28626, acc: 0.48781\n"
          ]
        },
        {
          "name": "stdout",
          "output_type": "stream",
          "text": [
            "[INFO 2025-02-19 16:45:02,669] [0] Ed: 6400, train_loss: 1.28626, acc: 0.48781\n",
            "[INFO 2025-02-19 16:45:02,669] [0] Ed: 6400, train_loss: 1.28626, acc: 0.48781\n"
          ]
        },
        {
          "name": "stderr",
          "output_type": "stream",
          "text": [
            "INFO:root:[0] Ed: 9600, train_loss: 1.28647, acc: 0.48615\n"
          ]
        },
        {
          "name": "stdout",
          "output_type": "stream",
          "text": [
            "[INFO 2025-02-19 16:45:17,617] [0] Ed: 9600, train_loss: 1.28647, acc: 0.48615\n",
            "[INFO 2025-02-19 16:45:17,617] [0] Ed: 9600, train_loss: 1.28647, acc: 0.48615\n"
          ]
        },
        {
          "name": "stderr",
          "output_type": "stream",
          "text": [
            "INFO:root:[0] Ed: 12800, train_loss: 1.28315, acc: 0.48844\n"
          ]
        },
        {
          "name": "stdout",
          "output_type": "stream",
          "text": [
            "[INFO 2025-02-19 16:45:33,211] [0] Ed: 12800, train_loss: 1.28315, acc: 0.48844\n",
            "[INFO 2025-02-19 16:45:33,211] [0] Ed: 12800, train_loss: 1.28315, acc: 0.48844\n"
          ]
        },
        {
          "name": "stderr",
          "output_type": "stream",
          "text": [
            "INFO:root:[0] Ed: 16000, train_loss: 1.28569, acc: 0.48425\n"
          ]
        },
        {
          "name": "stdout",
          "output_type": "stream",
          "text": [
            "[INFO 2025-02-19 16:45:48,468] [0] Ed: 16000, train_loss: 1.28569, acc: 0.48425\n",
            "[INFO 2025-02-19 16:45:48,468] [0] Ed: 16000, train_loss: 1.28569, acc: 0.48425\n"
          ]
        },
        {
          "name": "stderr",
          "output_type": "stream",
          "text": [
            "INFO:root:[0] Ed: 19200, train_loss: 1.28506, acc: 0.48448\n"
          ]
        },
        {
          "name": "stdout",
          "output_type": "stream",
          "text": [
            "[INFO 2025-02-19 16:46:03,414] [0] Ed: 19200, train_loss: 1.28506, acc: 0.48448\n",
            "[INFO 2025-02-19 16:46:03,414] [0] Ed: 19200, train_loss: 1.28506, acc: 0.48448\n"
          ]
        },
        {
          "name": "stderr",
          "output_type": "stream",
          "text": [
            "INFO:root:[0] Ed: 22400, train_loss: 1.28443, acc: 0.48460\n"
          ]
        },
        {
          "name": "stdout",
          "output_type": "stream",
          "text": [
            "[INFO 2025-02-19 16:46:18,297] [0] Ed: 22400, train_loss: 1.28443, acc: 0.48460\n",
            "[INFO 2025-02-19 16:46:18,297] [0] Ed: 22400, train_loss: 1.28443, acc: 0.48460\n"
          ]
        },
        {
          "name": "stderr",
          "output_type": "stream",
          "text": [
            "INFO:root:[0] Ed: 25600, train_loss: 1.28250, acc: 0.48590\n"
          ]
        },
        {
          "name": "stdout",
          "output_type": "stream",
          "text": [
            "[INFO 2025-02-19 16:46:33,436] [0] Ed: 25600, train_loss: 1.28250, acc: 0.48590\n",
            "[INFO 2025-02-19 16:46:33,436] [0] Ed: 25600, train_loss: 1.28250, acc: 0.48590\n"
          ]
        },
        {
          "name": "stderr",
          "output_type": "stream",
          "text": [
            "INFO:root:[0] Ed: 28800, train_loss: 1.28214, acc: 0.48601\n"
          ]
        },
        {
          "name": "stdout",
          "output_type": "stream",
          "text": [
            "[INFO 2025-02-19 16:46:48,674] [0] Ed: 28800, train_loss: 1.28214, acc: 0.48601\n",
            "[INFO 2025-02-19 16:46:48,674] [0] Ed: 28800, train_loss: 1.28214, acc: 0.48601\n"
          ]
        },
        {
          "name": "stderr",
          "output_type": "stream",
          "text": [
            "INFO:root:[0] Ed: 32000, train_loss: 1.28156, acc: 0.48503\n"
          ]
        },
        {
          "name": "stdout",
          "output_type": "stream",
          "text": [
            "[INFO 2025-02-19 16:47:03,961] [0] Ed: 32000, train_loss: 1.28156, acc: 0.48503\n",
            "[INFO 2025-02-19 16:47:03,961] [0] Ed: 32000, train_loss: 1.28156, acc: 0.48503\n"
          ]
        },
        {
          "name": "stderr",
          "output_type": "stream",
          "text": [
            "INFO:root:[0] Ed: 35200, train_loss: 1.28321, acc: 0.48327\n"
          ]
        },
        {
          "name": "stdout",
          "output_type": "stream",
          "text": [
            "[INFO 2025-02-19 16:47:18,777] [0] Ed: 35200, train_loss: 1.28321, acc: 0.48327\n",
            "[INFO 2025-02-19 16:47:18,777] [0] Ed: 35200, train_loss: 1.28321, acc: 0.48327\n"
          ]
        },
        {
          "name": "stderr",
          "output_type": "stream",
          "text": [
            "INFO:root:[0] Ed: 38400, train_loss: 1.28229, acc: 0.48346\n"
          ]
        },
        {
          "name": "stdout",
          "output_type": "stream",
          "text": [
            "[INFO 2025-02-19 16:47:33,712] [0] Ed: 38400, train_loss: 1.28229, acc: 0.48346\n",
            "[INFO 2025-02-19 16:47:33,712] [0] Ed: 38400, train_loss: 1.28229, acc: 0.48346\n"
          ]
        },
        {
          "name": "stderr",
          "output_type": "stream",
          "text": [
            "INFO:root:[0] Ed: 41600, train_loss: 1.28020, acc: 0.48495\n"
          ]
        },
        {
          "name": "stdout",
          "output_type": "stream",
          "text": [
            "[INFO 2025-02-19 16:47:48,572] [0] Ed: 41600, train_loss: 1.28020, acc: 0.48495\n",
            "[INFO 2025-02-19 16:47:48,572] [0] Ed: 41600, train_loss: 1.28020, acc: 0.48495\n"
          ]
        },
        {
          "name": "stderr",
          "output_type": "stream",
          "text": [
            "INFO:root:[0] Ed: 44800, train_loss: 1.27932, acc: 0.48487\n"
          ]
        },
        {
          "name": "stdout",
          "output_type": "stream",
          "text": [
            "[INFO 2025-02-19 16:48:03,510] [0] Ed: 44800, train_loss: 1.27932, acc: 0.48487\n",
            "[INFO 2025-02-19 16:48:03,510] [0] Ed: 44800, train_loss: 1.27932, acc: 0.48487\n"
          ]
        },
        {
          "name": "stderr",
          "output_type": "stream",
          "text": [
            "INFO:root:[0] Ed: 48000, train_loss: 1.27910, acc: 0.48479\n"
          ]
        },
        {
          "name": "stdout",
          "output_type": "stream",
          "text": [
            "[INFO 2025-02-19 16:48:19,090] [0] Ed: 48000, train_loss: 1.27910, acc: 0.48479\n",
            "[INFO 2025-02-19 16:48:19,090] [0] Ed: 48000, train_loss: 1.27910, acc: 0.48479\n"
          ]
        },
        {
          "name": "stderr",
          "output_type": "stream",
          "text": [
            "INFO:root:[0] Ed: 51200, train_loss: 1.27821, acc: 0.48547\n"
          ]
        },
        {
          "name": "stdout",
          "output_type": "stream",
          "text": [
            "[INFO 2025-02-19 16:48:33,985] [0] Ed: 51200, train_loss: 1.27821, acc: 0.48547\n",
            "[INFO 2025-02-19 16:48:33,985] [0] Ed: 51200, train_loss: 1.27821, acc: 0.48547\n"
          ]
        },
        {
          "name": "stderr",
          "output_type": "stream",
          "text": [
            "INFO:root:[0] Ed: 54400, train_loss: 1.27721, acc: 0.48649\n"
          ]
        },
        {
          "name": "stdout",
          "output_type": "stream",
          "text": [
            "[INFO 2025-02-19 16:48:48,829] [0] Ed: 54400, train_loss: 1.27721, acc: 0.48649\n",
            "[INFO 2025-02-19 16:48:48,829] [0] Ed: 54400, train_loss: 1.27721, acc: 0.48649\n"
          ]
        },
        {
          "name": "stderr",
          "output_type": "stream",
          "text": [
            "INFO:root:[0] Ed: 57600, train_loss: 1.27669, acc: 0.48712\n"
          ]
        },
        {
          "name": "stdout",
          "output_type": "stream",
          "text": [
            "[INFO 2025-02-19 16:49:03,763] [0] Ed: 57600, train_loss: 1.27669, acc: 0.48712\n",
            "[INFO 2025-02-19 16:49:03,763] [0] Ed: 57600, train_loss: 1.27669, acc: 0.48712\n"
          ]
        },
        {
          "name": "stderr",
          "output_type": "stream",
          "text": [
            "INFO:root:[0] Ed: 60800, train_loss: 1.27688, acc: 0.48692\n"
          ]
        },
        {
          "name": "stdout",
          "output_type": "stream",
          "text": [
            "[INFO 2025-02-19 16:49:18,637] [0] Ed: 60800, train_loss: 1.27688, acc: 0.48692\n",
            "[INFO 2025-02-19 16:49:18,637] [0] Ed: 60800, train_loss: 1.27688, acc: 0.48692\n"
          ]
        },
        {
          "name": "stderr",
          "output_type": "stream",
          "text": [
            "INFO:root:[0] Ed: 64000, train_loss: 1.27581, acc: 0.48766\n"
          ]
        },
        {
          "name": "stdout",
          "output_type": "stream",
          "text": [
            "[INFO 2025-02-19 16:49:34,116] [0] Ed: 64000, train_loss: 1.27581, acc: 0.48766\n",
            "[INFO 2025-02-19 16:49:34,116] [0] Ed: 64000, train_loss: 1.27581, acc: 0.48766\n"
          ]
        },
        {
          "name": "stderr",
          "output_type": "stream",
          "text": [
            "INFO:root:[0] Ed: 67200, train_loss: 1.27512, acc: 0.48844\n"
          ]
        },
        {
          "name": "stdout",
          "output_type": "stream",
          "text": [
            "[INFO 2025-02-19 16:49:49,161] [0] Ed: 67200, train_loss: 1.27512, acc: 0.48844\n",
            "[INFO 2025-02-19 16:49:49,161] [0] Ed: 67200, train_loss: 1.27512, acc: 0.48844\n"
          ]
        },
        {
          "name": "stderr",
          "output_type": "stream",
          "text": [
            "INFO:root:[0] Ed: 70400, train_loss: 1.27434, acc: 0.48869\n"
          ]
        },
        {
          "name": "stdout",
          "output_type": "stream",
          "text": [
            "[INFO 2025-02-19 16:50:04,042] [0] Ed: 70400, train_loss: 1.27434, acc: 0.48869\n",
            "[INFO 2025-02-19 16:50:04,042] [0] Ed: 70400, train_loss: 1.27434, acc: 0.48869\n"
          ]
        },
        {
          "name": "stderr",
          "output_type": "stream",
          "text": [
            "INFO:root:[0] Ed: 73600, train_loss: 1.27468, acc: 0.48817\n"
          ]
        },
        {
          "name": "stdout",
          "output_type": "stream",
          "text": [
            "[INFO 2025-02-19 16:50:18,954] [0] Ed: 73600, train_loss: 1.27468, acc: 0.48817\n",
            "[INFO 2025-02-19 16:50:18,954] [0] Ed: 73600, train_loss: 1.27468, acc: 0.48817\n"
          ]
        },
        {
          "name": "stderr",
          "output_type": "stream",
          "text": [
            "INFO:root:[0] Ed: 76800, train_loss: 1.27374, acc: 0.48865\n"
          ]
        },
        {
          "name": "stdout",
          "output_type": "stream",
          "text": [
            "[INFO 2025-02-19 16:50:33,997] [0] Ed: 76800, train_loss: 1.27374, acc: 0.48865\n",
            "[INFO 2025-02-19 16:50:33,997] [0] Ed: 76800, train_loss: 1.27374, acc: 0.48865\n"
          ]
        },
        {
          "name": "stderr",
          "output_type": "stream",
          "text": [
            "INFO:root:[0] Ed: 80000, train_loss: 1.27402, acc: 0.48830\n"
          ]
        },
        {
          "name": "stdout",
          "output_type": "stream",
          "text": [
            "[INFO 2025-02-19 16:50:49,275] [0] Ed: 80000, train_loss: 1.27402, acc: 0.48830\n",
            "[INFO 2025-02-19 16:50:49,275] [0] Ed: 80000, train_loss: 1.27402, acc: 0.48830\n"
          ]
        },
        {
          "name": "stderr",
          "output_type": "stream",
          "text": [
            "INFO:root:[0] Ed: 83200, train_loss: 1.27328, acc: 0.48897\n"
          ]
        },
        {
          "name": "stdout",
          "output_type": "stream",
          "text": [
            "[INFO 2025-02-19 16:51:04,783] [0] Ed: 83200, train_loss: 1.27328, acc: 0.48897\n",
            "[INFO 2025-02-19 16:51:04,783] [0] Ed: 83200, train_loss: 1.27328, acc: 0.48897\n"
          ]
        },
        {
          "name": "stderr",
          "output_type": "stream",
          "text": [
            "INFO:root:[0] Ed: 86400, train_loss: 1.27237, acc: 0.48931\n"
          ]
        },
        {
          "name": "stdout",
          "output_type": "stream",
          "text": [
            "[INFO 2025-02-19 16:51:19,680] [0] Ed: 86400, train_loss: 1.27237, acc: 0.48931\n",
            "[INFO 2025-02-19 16:51:19,680] [0] Ed: 86400, train_loss: 1.27237, acc: 0.48931\n"
          ]
        },
        {
          "name": "stderr",
          "output_type": "stream",
          "text": [
            "INFO:root:[0] Ed: 89600, train_loss: 1.27128, acc: 0.49009\n"
          ]
        },
        {
          "name": "stdout",
          "output_type": "stream",
          "text": [
            "[INFO 2025-02-19 16:51:34,556] [0] Ed: 89600, train_loss: 1.27128, acc: 0.49009\n",
            "[INFO 2025-02-19 16:51:34,556] [0] Ed: 89600, train_loss: 1.27128, acc: 0.49009\n"
          ]
        },
        {
          "name": "stderr",
          "output_type": "stream",
          "text": [
            "INFO:root:[0] Ed: 92800, train_loss: 1.27150, acc: 0.48982\n"
          ]
        },
        {
          "name": "stdout",
          "output_type": "stream",
          "text": [
            "[INFO 2025-02-19 16:51:49,475] [0] Ed: 92800, train_loss: 1.27150, acc: 0.48982\n",
            "[INFO 2025-02-19 16:51:49,475] [0] Ed: 92800, train_loss: 1.27150, acc: 0.48982\n"
          ]
        },
        {
          "name": "stderr",
          "output_type": "stream",
          "text": [
            "INFO:root:[0] Ed: 96000, train_loss: 1.27111, acc: 0.48991\n"
          ]
        },
        {
          "name": "stdout",
          "output_type": "stream",
          "text": [
            "[INFO 2025-02-19 16:52:05,112] [0] Ed: 96000, train_loss: 1.27111, acc: 0.48991\n",
            "[INFO 2025-02-19 16:52:05,112] [0] Ed: 96000, train_loss: 1.27111, acc: 0.48991\n"
          ]
        },
        {
          "name": "stderr",
          "output_type": "stream",
          "text": [
            "INFO:root:[0] Ed: 99200, train_loss: 1.27096, acc: 0.48993\n"
          ]
        },
        {
          "name": "stdout",
          "output_type": "stream",
          "text": [
            "[INFO 2025-02-19 16:52:21,098] [0] Ed: 99200, train_loss: 1.27096, acc: 0.48993\n",
            "[INFO 2025-02-19 16:52:21,098] [0] Ed: 99200, train_loss: 1.27096, acc: 0.48993\n"
          ]
        },
        {
          "name": "stderr",
          "output_type": "stream",
          "text": [
            "INFO:root:[0] Ed: 102400, train_loss: 1.26982, acc: 0.49026\n"
          ]
        },
        {
          "name": "stdout",
          "output_type": "stream",
          "text": [
            "[INFO 2025-02-19 16:52:36,502] [0] Ed: 102400, train_loss: 1.26982, acc: 0.49026\n",
            "[INFO 2025-02-19 16:52:36,502] [0] Ed: 102400, train_loss: 1.26982, acc: 0.49026\n"
          ]
        },
        {
          "name": "stderr",
          "output_type": "stream",
          "text": [
            "INFO:root:[0] Ed: 105600, train_loss: 1.26851, acc: 0.49095\n"
          ]
        },
        {
          "name": "stdout",
          "output_type": "stream",
          "text": [
            "[INFO 2025-02-19 16:52:51,792] [0] Ed: 105600, train_loss: 1.26851, acc: 0.49095\n",
            "[INFO 2025-02-19 16:52:51,792] [0] Ed: 105600, train_loss: 1.26851, acc: 0.49095\n"
          ]
        },
        {
          "name": "stderr",
          "output_type": "stream",
          "text": [
            "INFO:root:[0] Ed: 108800, train_loss: 1.26859, acc: 0.49091\n"
          ]
        },
        {
          "name": "stdout",
          "output_type": "stream",
          "text": [
            "[INFO 2025-02-19 16:53:07,023] [0] Ed: 108800, train_loss: 1.26859, acc: 0.49091\n",
            "[INFO 2025-02-19 16:53:07,023] [0] Ed: 108800, train_loss: 1.26859, acc: 0.49091\n"
          ]
        },
        {
          "name": "stderr",
          "output_type": "stream",
          "text": [
            "INFO:root:[0] Ed: 112000, train_loss: 1.26864, acc: 0.49071\n"
          ]
        },
        {
          "name": "stdout",
          "output_type": "stream",
          "text": [
            "[INFO 2025-02-19 16:53:22,960] [0] Ed: 112000, train_loss: 1.26864, acc: 0.49071\n",
            "[INFO 2025-02-19 16:53:22,960] [0] Ed: 112000, train_loss: 1.26864, acc: 0.49071\n"
          ]
        },
        {
          "name": "stderr",
          "output_type": "stream",
          "text": [
            "INFO:root:[0] Ed: 115200, train_loss: 1.26825, acc: 0.49052\n"
          ]
        },
        {
          "name": "stdout",
          "output_type": "stream",
          "text": [
            "[INFO 2025-02-19 16:53:38,519] [0] Ed: 115200, train_loss: 1.26825, acc: 0.49052\n",
            "[INFO 2025-02-19 16:53:38,519] [0] Ed: 115200, train_loss: 1.26825, acc: 0.49052\n"
          ]
        },
        {
          "name": "stderr",
          "output_type": "stream",
          "text": [
            "INFO:root:[0] Ed: 118400, train_loss: 1.26711, acc: 0.49101\n"
          ]
        },
        {
          "name": "stdout",
          "output_type": "stream",
          "text": [
            "[INFO 2025-02-19 16:53:53,682] [0] Ed: 118400, train_loss: 1.26711, acc: 0.49101\n",
            "[INFO 2025-02-19 16:53:53,682] [0] Ed: 118400, train_loss: 1.26711, acc: 0.49101\n"
          ]
        },
        {
          "name": "stderr",
          "output_type": "stream",
          "text": [
            "INFO:root:[0] Ed: 121600, train_loss: 1.26695, acc: 0.49109\n"
          ]
        },
        {
          "name": "stdout",
          "output_type": "stream",
          "text": [
            "[INFO 2025-02-19 16:54:08,808] [0] Ed: 121600, train_loss: 1.26695, acc: 0.49109\n",
            "[INFO 2025-02-19 16:54:08,808] [0] Ed: 121600, train_loss: 1.26695, acc: 0.49109\n"
          ]
        },
        {
          "name": "stderr",
          "output_type": "stream",
          "text": [
            "INFO:root:[0] Ed: 124800, train_loss: 1.26687, acc: 0.49111\n"
          ]
        },
        {
          "name": "stdout",
          "output_type": "stream",
          "text": [
            "[INFO 2025-02-19 16:54:23,930] [0] Ed: 124800, train_loss: 1.26687, acc: 0.49111\n",
            "[INFO 2025-02-19 16:54:23,930] [0] Ed: 124800, train_loss: 1.26687, acc: 0.49111\n"
          ]
        },
        {
          "name": "stderr",
          "output_type": "stream",
          "text": [
            "INFO:root:[0] Ed: 128000, train_loss: 1.26729, acc: 0.49098\n"
          ]
        },
        {
          "name": "stdout",
          "output_type": "stream",
          "text": [
            "[INFO 2025-02-19 16:54:39,887] [0] Ed: 128000, train_loss: 1.26729, acc: 0.49098\n",
            "[INFO 2025-02-19 16:54:39,887] [0] Ed: 128000, train_loss: 1.26729, acc: 0.49098\n"
          ]
        },
        {
          "name": "stderr",
          "output_type": "stream",
          "text": [
            "INFO:root:[0] Ed: 131200, train_loss: 1.26690, acc: 0.49113\n"
          ]
        },
        {
          "name": "stdout",
          "output_type": "stream",
          "text": [
            "[INFO 2025-02-19 16:54:55,061] [0] Ed: 131200, train_loss: 1.26690, acc: 0.49113\n",
            "[INFO 2025-02-19 16:54:55,061] [0] Ed: 131200, train_loss: 1.26690, acc: 0.49113\n"
          ]
        },
        {
          "name": "stderr",
          "output_type": "stream",
          "text": [
            "INFO:root:[0] Ed: 134400, train_loss: 1.26695, acc: 0.49087\n"
          ]
        },
        {
          "name": "stdout",
          "output_type": "stream",
          "text": [
            "[INFO 2025-02-19 16:55:10,235] [0] Ed: 134400, train_loss: 1.26695, acc: 0.49087\n",
            "[INFO 2025-02-19 16:55:10,235] [0] Ed: 134400, train_loss: 1.26695, acc: 0.49087\n"
          ]
        },
        {
          "name": "stderr",
          "output_type": "stream",
          "text": [
            "INFO:root:[0] Ed: 137600, train_loss: 1.26701, acc: 0.49086\n"
          ]
        },
        {
          "name": "stdout",
          "output_type": "stream",
          "text": [
            "[INFO 2025-02-19 16:55:25,275] [0] Ed: 137600, train_loss: 1.26701, acc: 0.49086\n",
            "[INFO 2025-02-19 16:55:25,275] [0] Ed: 137600, train_loss: 1.26701, acc: 0.49086\n"
          ]
        },
        {
          "name": "stderr",
          "output_type": "stream",
          "text": [
            "INFO:root:[0] Ed: 140800, train_loss: 1.26657, acc: 0.49140\n"
          ]
        },
        {
          "name": "stdout",
          "output_type": "stream",
          "text": [
            "[INFO 2025-02-19 16:55:40,680] [0] Ed: 140800, train_loss: 1.26657, acc: 0.49140\n",
            "[INFO 2025-02-19 16:55:40,680] [0] Ed: 140800, train_loss: 1.26657, acc: 0.49140\n"
          ]
        },
        {
          "name": "stderr",
          "output_type": "stream",
          "text": [
            "INFO:root:[0] Ed: 144000, train_loss: 1.26633, acc: 0.49120\n"
          ]
        },
        {
          "name": "stdout",
          "output_type": "stream",
          "text": [
            "[INFO 2025-02-19 16:55:56,399] [0] Ed: 144000, train_loss: 1.26633, acc: 0.49120\n",
            "[INFO 2025-02-19 16:55:56,399] [0] Ed: 144000, train_loss: 1.26633, acc: 0.49120\n"
          ]
        },
        {
          "name": "stderr",
          "output_type": "stream",
          "text": [
            "INFO:root:[0] Ed: 147200, train_loss: 1.26605, acc: 0.49135\n"
          ]
        },
        {
          "name": "stdout",
          "output_type": "stream",
          "text": [
            "[INFO 2025-02-19 16:56:11,581] [0] Ed: 147200, train_loss: 1.26605, acc: 0.49135\n",
            "[INFO 2025-02-19 16:56:11,581] [0] Ed: 147200, train_loss: 1.26605, acc: 0.49135\n"
          ]
        },
        {
          "name": "stderr",
          "output_type": "stream",
          "text": [
            "INFO:root:[0] Ed: 150400, train_loss: 1.26549, acc: 0.49150\n"
          ]
        },
        {
          "name": "stdout",
          "output_type": "stream",
          "text": [
            "[INFO 2025-02-19 16:56:26,641] [0] Ed: 150400, train_loss: 1.26549, acc: 0.49150\n",
            "[INFO 2025-02-19 16:56:26,641] [0] Ed: 150400, train_loss: 1.26549, acc: 0.49150\n"
          ]
        },
        {
          "name": "stderr",
          "output_type": "stream",
          "text": [
            "INFO:root:[0] Ed: 153600, train_loss: 1.26506, acc: 0.49158\n"
          ]
        },
        {
          "name": "stdout",
          "output_type": "stream",
          "text": [
            "[INFO 2025-02-19 16:56:41,619] [0] Ed: 153600, train_loss: 1.26506, acc: 0.49158\n",
            "[INFO 2025-02-19 16:56:41,619] [0] Ed: 153600, train_loss: 1.26506, acc: 0.49158\n"
          ]
        },
        {
          "name": "stderr",
          "output_type": "stream",
          "text": [
            "INFO:root:[0] Ed: 156800, train_loss: 1.26458, acc: 0.49180\n"
          ]
        },
        {
          "name": "stdout",
          "output_type": "stream",
          "text": [
            "[INFO 2025-02-19 16:56:56,805] [0] Ed: 156800, train_loss: 1.26458, acc: 0.49180\n",
            "[INFO 2025-02-19 16:56:56,805] [0] Ed: 156800, train_loss: 1.26458, acc: 0.49180\n"
          ]
        },
        {
          "name": "stderr",
          "output_type": "stream",
          "text": [
            "INFO:root:[0] Ed: 160000, train_loss: 1.26417, acc: 0.49222\n"
          ]
        },
        {
          "name": "stdout",
          "output_type": "stream",
          "text": [
            "[INFO 2025-02-19 16:57:12,824] [0] Ed: 160000, train_loss: 1.26417, acc: 0.49222\n",
            "[INFO 2025-02-19 16:57:12,824] [0] Ed: 160000, train_loss: 1.26417, acc: 0.49222\n"
          ]
        },
        {
          "name": "stderr",
          "output_type": "stream",
          "text": [
            "INFO:root:[0] Ed: 163200, train_loss: 1.26406, acc: 0.49224\n"
          ]
        },
        {
          "name": "stdout",
          "output_type": "stream",
          "text": [
            "[INFO 2025-02-19 16:57:28,384] [0] Ed: 163200, train_loss: 1.26406, acc: 0.49224\n",
            "[INFO 2025-02-19 16:57:28,384] [0] Ed: 163200, train_loss: 1.26406, acc: 0.49224\n"
          ]
        },
        {
          "name": "stderr",
          "output_type": "stream",
          "text": [
            "INFO:root:[0] Ed: 166400, train_loss: 1.26425, acc: 0.49208\n"
          ]
        },
        {
          "name": "stdout",
          "output_type": "stream",
          "text": [
            "[INFO 2025-02-19 16:57:43,805] [0] Ed: 166400, train_loss: 1.26425, acc: 0.49208\n",
            "[INFO 2025-02-19 16:57:43,805] [0] Ed: 166400, train_loss: 1.26425, acc: 0.49208\n"
          ]
        },
        {
          "name": "stderr",
          "output_type": "stream",
          "text": [
            "INFO:root:[0] Ed: 169600, train_loss: 1.26431, acc: 0.49228\n"
          ]
        },
        {
          "name": "stdout",
          "output_type": "stream",
          "text": [
            "[INFO 2025-02-19 16:57:59,364] [0] Ed: 169600, train_loss: 1.26431, acc: 0.49228\n",
            "[INFO 2025-02-19 16:57:59,364] [0] Ed: 169600, train_loss: 1.26431, acc: 0.49228\n"
          ]
        },
        {
          "name": "stderr",
          "output_type": "stream",
          "text": [
            "INFO:root:[0] Ed: 172800, train_loss: 1.26397, acc: 0.49239\n"
          ]
        },
        {
          "name": "stdout",
          "output_type": "stream",
          "text": [
            "[INFO 2025-02-19 16:58:15,868] [0] Ed: 172800, train_loss: 1.26397, acc: 0.49239\n",
            "[INFO 2025-02-19 16:58:15,868] [0] Ed: 172800, train_loss: 1.26397, acc: 0.49239\n"
          ]
        },
        {
          "name": "stderr",
          "output_type": "stream",
          "text": [
            "INFO:root:[0] Ed: 176000, train_loss: 1.26374, acc: 0.49251\n"
          ]
        },
        {
          "name": "stdout",
          "output_type": "stream",
          "text": [
            "[INFO 2025-02-19 16:58:31,296] [0] Ed: 176000, train_loss: 1.26374, acc: 0.49251\n",
            "[INFO 2025-02-19 16:58:31,296] [0] Ed: 176000, train_loss: 1.26374, acc: 0.49251\n"
          ]
        },
        {
          "name": "stderr",
          "output_type": "stream",
          "text": [
            "INFO:root:[0] Ed: 179200, train_loss: 1.26344, acc: 0.49260\n"
          ]
        },
        {
          "name": "stdout",
          "output_type": "stream",
          "text": [
            "[INFO 2025-02-19 16:58:46,544] [0] Ed: 179200, train_loss: 1.26344, acc: 0.49260\n",
            "[INFO 2025-02-19 16:58:46,544] [0] Ed: 179200, train_loss: 1.26344, acc: 0.49260\n"
          ]
        },
        {
          "name": "stderr",
          "output_type": "stream",
          "text": [
            "INFO:root:[0] Ed: 182400, train_loss: 1.26334, acc: 0.49270\n"
          ]
        },
        {
          "name": "stdout",
          "output_type": "stream",
          "text": [
            "[INFO 2025-02-19 16:59:01,924] [0] Ed: 182400, train_loss: 1.26334, acc: 0.49270\n",
            "[INFO 2025-02-19 16:59:01,924] [0] Ed: 182400, train_loss: 1.26334, acc: 0.49270\n"
          ]
        },
        {
          "name": "stderr",
          "output_type": "stream",
          "text": [
            "INFO:root:[0] Ed: 185600, train_loss: 1.26289, acc: 0.49289\n"
          ]
        },
        {
          "name": "stdout",
          "output_type": "stream",
          "text": [
            "[INFO 2025-02-19 16:59:17,575] [0] Ed: 185600, train_loss: 1.26289, acc: 0.49289\n",
            "[INFO 2025-02-19 16:59:17,575] [0] Ed: 185600, train_loss: 1.26289, acc: 0.49289\n"
          ]
        },
        {
          "name": "stderr",
          "output_type": "stream",
          "text": [
            "INFO:root:[0] Ed: 188800, train_loss: 1.26263, acc: 0.49307\n"
          ]
        },
        {
          "name": "stdout",
          "output_type": "stream",
          "text": [
            "[INFO 2025-02-19 16:59:32,759] [0] Ed: 188800, train_loss: 1.26263, acc: 0.49307\n",
            "[INFO 2025-02-19 16:59:32,759] [0] Ed: 188800, train_loss: 1.26263, acc: 0.49307\n"
          ]
        },
        {
          "name": "stderr",
          "output_type": "stream",
          "text": [
            "INFO:root:[0] Ed: 192000, train_loss: 1.26268, acc: 0.49304\n"
          ]
        },
        {
          "name": "stdout",
          "output_type": "stream",
          "text": [
            "[INFO 2025-02-19 16:59:47,657] [0] Ed: 192000, train_loss: 1.26268, acc: 0.49304\n",
            "[INFO 2025-02-19 16:59:47,657] [0] Ed: 192000, train_loss: 1.26268, acc: 0.49304\n"
          ]
        },
        {
          "name": "stderr",
          "output_type": "stream",
          "text": [
            "INFO:root:[0] Ed: 195200, train_loss: 1.26246, acc: 0.49318\n"
          ]
        },
        {
          "name": "stdout",
          "output_type": "stream",
          "text": [
            "[INFO 2025-02-19 17:00:02,581] [0] Ed: 195200, train_loss: 1.26246, acc: 0.49318\n",
            "[INFO 2025-02-19 17:00:02,581] [0] Ed: 195200, train_loss: 1.26246, acc: 0.49318\n"
          ]
        },
        {
          "name": "stderr",
          "output_type": "stream",
          "text": [
            "INFO:root:[0] Ed: 198400, train_loss: 1.26239, acc: 0.49323\n"
          ]
        },
        {
          "name": "stdout",
          "output_type": "stream",
          "text": [
            "[INFO 2025-02-19 17:00:17,532] [0] Ed: 198400, train_loss: 1.26239, acc: 0.49323\n",
            "[INFO 2025-02-19 17:00:17,532] [0] Ed: 198400, train_loss: 1.26239, acc: 0.49323\n"
          ]
        },
        {
          "name": "stderr",
          "output_type": "stream",
          "text": [
            "INFO:root:[0] Ed: 201600, train_loss: 1.26211, acc: 0.49333\n"
          ]
        },
        {
          "name": "stdout",
          "output_type": "stream",
          "text": [
            "[INFO 2025-02-19 17:00:33,195] [0] Ed: 201600, train_loss: 1.26211, acc: 0.49333\n",
            "[INFO 2025-02-19 17:00:33,195] [0] Ed: 201600, train_loss: 1.26211, acc: 0.49333\n"
          ]
        },
        {
          "name": "stderr",
          "output_type": "stream",
          "text": [
            "INFO:root:[0] Ed: 204800, train_loss: 1.26221, acc: 0.49328\n"
          ]
        },
        {
          "name": "stdout",
          "output_type": "stream",
          "text": [
            "[INFO 2025-02-19 17:00:48,713] [0] Ed: 204800, train_loss: 1.26221, acc: 0.49328\n",
            "[INFO 2025-02-19 17:00:48,713] [0] Ed: 204800, train_loss: 1.26221, acc: 0.49328\n"
          ]
        },
        {
          "name": "stderr",
          "output_type": "stream",
          "text": [
            "INFO:root:[0] Ed: 208000, train_loss: 1.26232, acc: 0.49324\n"
          ]
        },
        {
          "name": "stdout",
          "output_type": "stream",
          "text": [
            "[INFO 2025-02-19 17:01:04,210] [0] Ed: 208000, train_loss: 1.26232, acc: 0.49324\n",
            "[INFO 2025-02-19 17:01:04,210] [0] Ed: 208000, train_loss: 1.26232, acc: 0.49324\n"
          ]
        },
        {
          "name": "stderr",
          "output_type": "stream",
          "text": [
            "INFO:root:[0] Ed: 211200, train_loss: 1.26228, acc: 0.49316\n"
          ]
        },
        {
          "name": "stdout",
          "output_type": "stream",
          "text": [
            "[INFO 2025-02-19 17:01:19,581] [0] Ed: 211200, train_loss: 1.26228, acc: 0.49316\n",
            "[INFO 2025-02-19 17:01:19,581] [0] Ed: 211200, train_loss: 1.26228, acc: 0.49316\n"
          ]
        },
        {
          "name": "stderr",
          "output_type": "stream",
          "text": [
            "INFO:root:[0] Ed: 214400, train_loss: 1.26219, acc: 0.49319\n"
          ]
        },
        {
          "name": "stdout",
          "output_type": "stream",
          "text": [
            "[INFO 2025-02-19 17:01:35,356] [0] Ed: 214400, train_loss: 1.26219, acc: 0.49319\n",
            "[INFO 2025-02-19 17:01:35,356] [0] Ed: 214400, train_loss: 1.26219, acc: 0.49319\n"
          ]
        },
        {
          "name": "stderr",
          "output_type": "stream",
          "text": [
            "INFO:root:[0] Ed: 217600, train_loss: 1.26200, acc: 0.49303\n"
          ]
        },
        {
          "name": "stdout",
          "output_type": "stream",
          "text": [
            "[INFO 2025-02-19 17:01:51,452] [0] Ed: 217600, train_loss: 1.26200, acc: 0.49303\n",
            "[INFO 2025-02-19 17:01:51,452] [0] Ed: 217600, train_loss: 1.26200, acc: 0.49303\n"
          ]
        },
        {
          "name": "stderr",
          "output_type": "stream",
          "text": [
            "INFO:root:[0] Ed: 220800, train_loss: 1.26179, acc: 0.49301\n"
          ]
        },
        {
          "name": "stdout",
          "output_type": "stream",
          "text": [
            "[INFO 2025-02-19 17:02:06,896] [0] Ed: 220800, train_loss: 1.26179, acc: 0.49301\n",
            "[INFO 2025-02-19 17:02:06,896] [0] Ed: 220800, train_loss: 1.26179, acc: 0.49301\n"
          ]
        },
        {
          "name": "stderr",
          "output_type": "stream",
          "text": [
            "INFO:root:[0] Ed: 224000, train_loss: 1.26132, acc: 0.49322\n"
          ]
        },
        {
          "name": "stdout",
          "output_type": "stream",
          "text": [
            "[INFO 2025-02-19 17:02:22,385] [0] Ed: 224000, train_loss: 1.26132, acc: 0.49322\n",
            "[INFO 2025-02-19 17:02:22,385] [0] Ed: 224000, train_loss: 1.26132, acc: 0.49322\n"
          ]
        },
        {
          "name": "stderr",
          "output_type": "stream",
          "text": [
            "INFO:root:[0] Ed: 227200, train_loss: 1.26100, acc: 0.49339\n"
          ]
        },
        {
          "name": "stdout",
          "output_type": "stream",
          "text": [
            "[INFO 2025-02-19 17:02:37,716] [0] Ed: 227200, train_loss: 1.26100, acc: 0.49339\n",
            "[INFO 2025-02-19 17:02:37,716] [0] Ed: 227200, train_loss: 1.26100, acc: 0.49339\n"
          ]
        },
        {
          "name": "stderr",
          "output_type": "stream",
          "text": [
            "INFO:root:[0] Ed: 230400, train_loss: 1.26060, acc: 0.49352\n"
          ]
        },
        {
          "name": "stdout",
          "output_type": "stream",
          "text": [
            "[INFO 2025-02-19 17:02:53,455] [0] Ed: 230400, train_loss: 1.26060, acc: 0.49352\n",
            "[INFO 2025-02-19 17:02:53,455] [0] Ed: 230400, train_loss: 1.26060, acc: 0.49352\n"
          ]
        },
        {
          "name": "stderr",
          "output_type": "stream",
          "text": [
            "INFO:root:[0] Ed: 233600, train_loss: 1.26016, acc: 0.49368\n"
          ]
        },
        {
          "name": "stdout",
          "output_type": "stream",
          "text": [
            "[INFO 2025-02-19 17:03:08,710] [0] Ed: 233600, train_loss: 1.26016, acc: 0.49368\n",
            "[INFO 2025-02-19 17:03:08,710] [0] Ed: 233600, train_loss: 1.26016, acc: 0.49368\n"
          ]
        },
        {
          "name": "stderr",
          "output_type": "stream",
          "text": [
            "INFO:root:Training finish.\n"
          ]
        },
        {
          "name": "stdout",
          "output_type": "stream",
          "text": [
            "[INFO 2025-02-19 17:03:21,699] Training finish.\n",
            "[INFO 2025-02-19 17:03:21,699] Training finish.\n"
          ]
        },
        {
          "name": "stderr",
          "output_type": "stream",
          "text": [
            "INFO:root:Model saved to /content/model/epoch-3.pt.\n"
          ]
        },
        {
          "name": "stdout",
          "output_type": "stream",
          "text": [
            "[INFO 2025-02-19 17:03:21,745] Model saved to /content/model/epoch-3.pt.\n",
            "[INFO 2025-02-19 17:03:21,745] Model saved to /content/model/epoch-3.pt.\n"
          ]
        },
        {
          "name": "stderr",
          "output_type": "stream",
          "text": [
            "INFO:root:[0] Ed: 0, train_loss: inf, acc: inf\n"
          ]
        },
        {
          "name": "stdout",
          "output_type": "stream",
          "text": [
            "[INFO 2025-02-19 17:03:21,909] [0] Ed: 0, train_loss: inf, acc: inf\n",
            "[INFO 2025-02-19 17:03:21,909] [0] Ed: 0, train_loss: inf, acc: inf\n"
          ]
        },
        {
          "name": "stderr",
          "output_type": "stream",
          "text": [
            "INFO:root:[0] Ed: 3200, train_loss: 1.26644, acc: 0.50313\n"
          ]
        },
        {
          "name": "stdout",
          "output_type": "stream",
          "text": [
            "[INFO 2025-02-19 17:03:36,959] [0] Ed: 3200, train_loss: 1.26644, acc: 0.50313\n",
            "[INFO 2025-02-19 17:03:36,959] [0] Ed: 3200, train_loss: 1.26644, acc: 0.50313\n"
          ]
        },
        {
          "name": "stderr",
          "output_type": "stream",
          "text": [
            "INFO:root:[0] Ed: 6400, train_loss: 1.24762, acc: 0.50516\n"
          ]
        },
        {
          "name": "stdout",
          "output_type": "stream",
          "text": [
            "[INFO 2025-02-19 17:03:51,951] [0] Ed: 6400, train_loss: 1.24762, acc: 0.50516\n",
            "[INFO 2025-02-19 17:03:51,951] [0] Ed: 6400, train_loss: 1.24762, acc: 0.50516\n"
          ]
        },
        {
          "name": "stderr",
          "output_type": "stream",
          "text": [
            "INFO:root:[0] Ed: 9600, train_loss: 1.24751, acc: 0.50458\n"
          ]
        },
        {
          "name": "stdout",
          "output_type": "stream",
          "text": [
            "[INFO 2025-02-19 17:04:07,163] [0] Ed: 9600, train_loss: 1.24751, acc: 0.50458\n",
            "[INFO 2025-02-19 17:04:07,163] [0] Ed: 9600, train_loss: 1.24751, acc: 0.50458\n"
          ]
        },
        {
          "name": "stderr",
          "output_type": "stream",
          "text": [
            "INFO:root:[0] Ed: 12800, train_loss: 1.24455, acc: 0.50648\n"
          ]
        },
        {
          "name": "stdout",
          "output_type": "stream",
          "text": [
            "[INFO 2025-02-19 17:04:23,017] [0] Ed: 12800, train_loss: 1.24455, acc: 0.50648\n",
            "[INFO 2025-02-19 17:04:23,017] [0] Ed: 12800, train_loss: 1.24455, acc: 0.50648\n"
          ]
        },
        {
          "name": "stderr",
          "output_type": "stream",
          "text": [
            "INFO:root:[0] Ed: 16000, train_loss: 1.24895, acc: 0.50144\n"
          ]
        },
        {
          "name": "stdout",
          "output_type": "stream",
          "text": [
            "[INFO 2025-02-19 17:04:38,101] [0] Ed: 16000, train_loss: 1.24895, acc: 0.50144\n",
            "[INFO 2025-02-19 17:04:38,101] [0] Ed: 16000, train_loss: 1.24895, acc: 0.50144\n"
          ]
        },
        {
          "name": "stderr",
          "output_type": "stream",
          "text": [
            "INFO:root:[0] Ed: 19200, train_loss: 1.24942, acc: 0.49906\n"
          ]
        },
        {
          "name": "stdout",
          "output_type": "stream",
          "text": [
            "[INFO 2025-02-19 17:04:52,984] [0] Ed: 19200, train_loss: 1.24942, acc: 0.49906\n",
            "[INFO 2025-02-19 17:04:52,984] [0] Ed: 19200, train_loss: 1.24942, acc: 0.49906\n"
          ]
        },
        {
          "name": "stderr",
          "output_type": "stream",
          "text": [
            "INFO:root:[0] Ed: 22400, train_loss: 1.24793, acc: 0.49897\n"
          ]
        },
        {
          "name": "stdout",
          "output_type": "stream",
          "text": [
            "[INFO 2025-02-19 17:05:07,949] [0] Ed: 22400, train_loss: 1.24793, acc: 0.49897\n",
            "[INFO 2025-02-19 17:05:07,949] [0] Ed: 22400, train_loss: 1.24793, acc: 0.49897\n"
          ]
        },
        {
          "name": "stderr",
          "output_type": "stream",
          "text": [
            "INFO:root:[0] Ed: 25600, train_loss: 1.24553, acc: 0.50102\n"
          ]
        },
        {
          "name": "stdout",
          "output_type": "stream",
          "text": [
            "[INFO 2025-02-19 17:05:22,884] [0] Ed: 25600, train_loss: 1.24553, acc: 0.50102\n",
            "[INFO 2025-02-19 17:05:22,884] [0] Ed: 25600, train_loss: 1.24553, acc: 0.50102\n"
          ]
        },
        {
          "name": "stderr",
          "output_type": "stream",
          "text": [
            "INFO:root:[0] Ed: 28800, train_loss: 1.24538, acc: 0.50181\n"
          ]
        },
        {
          "name": "stdout",
          "output_type": "stream",
          "text": [
            "[INFO 2025-02-19 17:05:38,501] [0] Ed: 28800, train_loss: 1.24538, acc: 0.50181\n",
            "[INFO 2025-02-19 17:05:38,501] [0] Ed: 28800, train_loss: 1.24538, acc: 0.50181\n"
          ]
        },
        {
          "name": "stderr",
          "output_type": "stream",
          "text": [
            "INFO:root:[0] Ed: 32000, train_loss: 1.24612, acc: 0.50084\n"
          ]
        },
        {
          "name": "stdout",
          "output_type": "stream",
          "text": [
            "[INFO 2025-02-19 17:05:53,700] [0] Ed: 32000, train_loss: 1.24612, acc: 0.50084\n",
            "[INFO 2025-02-19 17:05:53,700] [0] Ed: 32000, train_loss: 1.24612, acc: 0.50084\n"
          ]
        },
        {
          "name": "stderr",
          "output_type": "stream",
          "text": [
            "INFO:root:[0] Ed: 35200, train_loss: 1.24773, acc: 0.50014\n"
          ]
        },
        {
          "name": "stdout",
          "output_type": "stream",
          "text": [
            "[INFO 2025-02-19 17:06:08,686] [0] Ed: 35200, train_loss: 1.24773, acc: 0.50014\n",
            "[INFO 2025-02-19 17:06:08,686] [0] Ed: 35200, train_loss: 1.24773, acc: 0.50014\n"
          ]
        },
        {
          "name": "stderr",
          "output_type": "stream",
          "text": [
            "INFO:root:[0] Ed: 38400, train_loss: 1.24617, acc: 0.50104\n"
          ]
        },
        {
          "name": "stdout",
          "output_type": "stream",
          "text": [
            "[INFO 2025-02-19 17:06:23,811] [0] Ed: 38400, train_loss: 1.24617, acc: 0.50104\n",
            "[INFO 2025-02-19 17:06:23,811] [0] Ed: 38400, train_loss: 1.24617, acc: 0.50104\n"
          ]
        },
        {
          "name": "stderr",
          "output_type": "stream",
          "text": [
            "INFO:root:[0] Ed: 41600, train_loss: 1.24382, acc: 0.50221\n"
          ]
        },
        {
          "name": "stdout",
          "output_type": "stream",
          "text": [
            "[INFO 2025-02-19 17:06:38,799] [0] Ed: 41600, train_loss: 1.24382, acc: 0.50221\n",
            "[INFO 2025-02-19 17:06:38,799] [0] Ed: 41600, train_loss: 1.24382, acc: 0.50221\n"
          ]
        },
        {
          "name": "stderr",
          "output_type": "stream",
          "text": [
            "INFO:root:[0] Ed: 44800, train_loss: 1.24292, acc: 0.50259\n"
          ]
        },
        {
          "name": "stdout",
          "output_type": "stream",
          "text": [
            "[INFO 2025-02-19 17:06:54,343] [0] Ed: 44800, train_loss: 1.24292, acc: 0.50259\n",
            "[INFO 2025-02-19 17:06:54,343] [0] Ed: 44800, train_loss: 1.24292, acc: 0.50259\n"
          ]
        },
        {
          "name": "stderr",
          "output_type": "stream",
          "text": [
            "INFO:root:[0] Ed: 48000, train_loss: 1.24238, acc: 0.50233\n"
          ]
        },
        {
          "name": "stdout",
          "output_type": "stream",
          "text": [
            "[INFO 2025-02-19 17:07:09,461] [0] Ed: 48000, train_loss: 1.24238, acc: 0.50233\n",
            "[INFO 2025-02-19 17:07:09,461] [0] Ed: 48000, train_loss: 1.24238, acc: 0.50233\n"
          ]
        },
        {
          "name": "stderr",
          "output_type": "stream",
          "text": [
            "INFO:root:[0] Ed: 51200, train_loss: 1.24184, acc: 0.50264\n"
          ]
        },
        {
          "name": "stdout",
          "output_type": "stream",
          "text": [
            "[INFO 2025-02-19 17:07:24,527] [0] Ed: 51200, train_loss: 1.24184, acc: 0.50264\n",
            "[INFO 2025-02-19 17:07:24,527] [0] Ed: 51200, train_loss: 1.24184, acc: 0.50264\n"
          ]
        },
        {
          "name": "stderr",
          "output_type": "stream",
          "text": [
            "INFO:root:[0] Ed: 54400, train_loss: 1.24123, acc: 0.50301\n"
          ]
        },
        {
          "name": "stdout",
          "output_type": "stream",
          "text": [
            "[INFO 2025-02-19 17:07:39,757] [0] Ed: 54400, train_loss: 1.24123, acc: 0.50301\n",
            "[INFO 2025-02-19 17:07:39,757] [0] Ed: 54400, train_loss: 1.24123, acc: 0.50301\n"
          ]
        },
        {
          "name": "stderr",
          "output_type": "stream",
          "text": [
            "INFO:root:[0] Ed: 57600, train_loss: 1.24106, acc: 0.50314\n"
          ]
        },
        {
          "name": "stdout",
          "output_type": "stream",
          "text": [
            "[INFO 2025-02-19 17:07:55,114] [0] Ed: 57600, train_loss: 1.24106, acc: 0.50314\n",
            "[INFO 2025-02-19 17:07:55,114] [0] Ed: 57600, train_loss: 1.24106, acc: 0.50314\n"
          ]
        },
        {
          "name": "stderr",
          "output_type": "stream",
          "text": [
            "INFO:root:[0] Ed: 60800, train_loss: 1.24124, acc: 0.50265\n"
          ]
        },
        {
          "name": "stdout",
          "output_type": "stream",
          "text": [
            "[INFO 2025-02-19 17:08:11,114] [0] Ed: 60800, train_loss: 1.24124, acc: 0.50265\n",
            "[INFO 2025-02-19 17:08:11,114] [0] Ed: 60800, train_loss: 1.24124, acc: 0.50265\n"
          ]
        },
        {
          "name": "stderr",
          "output_type": "stream",
          "text": [
            "INFO:root:[0] Ed: 64000, train_loss: 1.24027, acc: 0.50298\n"
          ]
        },
        {
          "name": "stdout",
          "output_type": "stream",
          "text": [
            "[INFO 2025-02-19 17:08:26,379] [0] Ed: 64000, train_loss: 1.24027, acc: 0.50298\n",
            "[INFO 2025-02-19 17:08:26,379] [0] Ed: 64000, train_loss: 1.24027, acc: 0.50298\n"
          ]
        },
        {
          "name": "stderr",
          "output_type": "stream",
          "text": [
            "INFO:root:[0] Ed: 67200, train_loss: 1.23957, acc: 0.50339\n"
          ]
        },
        {
          "name": "stdout",
          "output_type": "stream",
          "text": [
            "[INFO 2025-02-19 17:08:41,593] [0] Ed: 67200, train_loss: 1.23957, acc: 0.50339\n",
            "[INFO 2025-02-19 17:08:41,593] [0] Ed: 67200, train_loss: 1.23957, acc: 0.50339\n"
          ]
        },
        {
          "name": "stderr",
          "output_type": "stream",
          "text": [
            "INFO:root:[0] Ed: 70400, train_loss: 1.23880, acc: 0.50361\n"
          ]
        },
        {
          "name": "stdout",
          "output_type": "stream",
          "text": [
            "[INFO 2025-02-19 17:08:56,810] [0] Ed: 70400, train_loss: 1.23880, acc: 0.50361\n",
            "[INFO 2025-02-19 17:08:56,810] [0] Ed: 70400, train_loss: 1.23880, acc: 0.50361\n"
          ]
        },
        {
          "name": "stderr",
          "output_type": "stream",
          "text": [
            "INFO:root:[0] Ed: 73600, train_loss: 1.23942, acc: 0.50306\n"
          ]
        },
        {
          "name": "stdout",
          "output_type": "stream",
          "text": [
            "[INFO 2025-02-19 17:09:12,255] [0] Ed: 73600, train_loss: 1.23942, acc: 0.50306\n",
            "[INFO 2025-02-19 17:09:12,255] [0] Ed: 73600, train_loss: 1.23942, acc: 0.50306\n"
          ]
        },
        {
          "name": "stderr",
          "output_type": "stream",
          "text": [
            "INFO:root:[0] Ed: 76800, train_loss: 1.23848, acc: 0.50357\n"
          ]
        },
        {
          "name": "stdout",
          "output_type": "stream",
          "text": [
            "[INFO 2025-02-19 17:09:27,795] [0] Ed: 76800, train_loss: 1.23848, acc: 0.50357\n",
            "[INFO 2025-02-19 17:09:27,795] [0] Ed: 76800, train_loss: 1.23848, acc: 0.50357\n"
          ]
        },
        {
          "name": "stderr",
          "output_type": "stream",
          "text": [
            "INFO:root:[0] Ed: 80000, train_loss: 1.23902, acc: 0.50335\n"
          ]
        },
        {
          "name": "stdout",
          "output_type": "stream",
          "text": [
            "[INFO 2025-02-19 17:09:43,060] [0] Ed: 80000, train_loss: 1.23902, acc: 0.50335\n",
            "[INFO 2025-02-19 17:09:43,060] [0] Ed: 80000, train_loss: 1.23902, acc: 0.50335\n"
          ]
        },
        {
          "name": "stderr",
          "output_type": "stream",
          "text": [
            "INFO:root:[0] Ed: 83200, train_loss: 1.23830, acc: 0.50399\n"
          ]
        },
        {
          "name": "stdout",
          "output_type": "stream",
          "text": [
            "[INFO 2025-02-19 17:09:58,024] [0] Ed: 83200, train_loss: 1.23830, acc: 0.50399\n",
            "[INFO 2025-02-19 17:09:58,024] [0] Ed: 83200, train_loss: 1.23830, acc: 0.50399\n"
          ]
        },
        {
          "name": "stderr",
          "output_type": "stream",
          "text": [
            "INFO:root:[0] Ed: 86400, train_loss: 1.23731, acc: 0.50448\n"
          ]
        },
        {
          "name": "stdout",
          "output_type": "stream",
          "text": [
            "[INFO 2025-02-19 17:10:12,842] [0] Ed: 86400, train_loss: 1.23731, acc: 0.50448\n",
            "[INFO 2025-02-19 17:10:12,842] [0] Ed: 86400, train_loss: 1.23731, acc: 0.50448\n"
          ]
        },
        {
          "name": "stderr",
          "output_type": "stream",
          "text": [
            "INFO:root:[0] Ed: 89600, train_loss: 1.23602, acc: 0.50525\n"
          ]
        },
        {
          "name": "stdout",
          "output_type": "stream",
          "text": [
            "[INFO 2025-02-19 17:10:28,033] [0] Ed: 89600, train_loss: 1.23602, acc: 0.50525\n",
            "[INFO 2025-02-19 17:10:28,033] [0] Ed: 89600, train_loss: 1.23602, acc: 0.50525\n"
          ]
        },
        {
          "name": "stderr",
          "output_type": "stream",
          "text": [
            "INFO:root:[0] Ed: 92800, train_loss: 1.23652, acc: 0.50494\n"
          ]
        },
        {
          "name": "stdout",
          "output_type": "stream",
          "text": [
            "[INFO 2025-02-19 17:10:43,497] [0] Ed: 92800, train_loss: 1.23652, acc: 0.50494\n",
            "[INFO 2025-02-19 17:10:43,497] [0] Ed: 92800, train_loss: 1.23652, acc: 0.50494\n"
          ]
        },
        {
          "name": "stderr",
          "output_type": "stream",
          "text": [
            "INFO:root:[0] Ed: 96000, train_loss: 1.23615, acc: 0.50517\n"
          ]
        },
        {
          "name": "stdout",
          "output_type": "stream",
          "text": [
            "[INFO 2025-02-19 17:10:58,467] [0] Ed: 96000, train_loss: 1.23615, acc: 0.50517\n",
            "[INFO 2025-02-19 17:10:58,467] [0] Ed: 96000, train_loss: 1.23615, acc: 0.50517\n"
          ]
        },
        {
          "name": "stderr",
          "output_type": "stream",
          "text": [
            "INFO:root:[0] Ed: 99200, train_loss: 1.23594, acc: 0.50529\n"
          ]
        },
        {
          "name": "stdout",
          "output_type": "stream",
          "text": [
            "[INFO 2025-02-19 17:11:13,331] [0] Ed: 99200, train_loss: 1.23594, acc: 0.50529\n",
            "[INFO 2025-02-19 17:11:13,331] [0] Ed: 99200, train_loss: 1.23594, acc: 0.50529\n"
          ]
        },
        {
          "name": "stderr",
          "output_type": "stream",
          "text": [
            "INFO:root:[0] Ed: 102400, train_loss: 1.23477, acc: 0.50557\n"
          ]
        },
        {
          "name": "stdout",
          "output_type": "stream",
          "text": [
            "[INFO 2025-02-19 17:11:28,330] [0] Ed: 102400, train_loss: 1.23477, acc: 0.50557\n",
            "[INFO 2025-02-19 17:11:28,330] [0] Ed: 102400, train_loss: 1.23477, acc: 0.50557\n"
          ]
        },
        {
          "name": "stderr",
          "output_type": "stream",
          "text": [
            "INFO:root:[0] Ed: 105600, train_loss: 1.23377, acc: 0.50599\n"
          ]
        },
        {
          "name": "stdout",
          "output_type": "stream",
          "text": [
            "[INFO 2025-02-19 17:11:43,242] [0] Ed: 105600, train_loss: 1.23377, acc: 0.50599\n",
            "[INFO 2025-02-19 17:11:43,242] [0] Ed: 105600, train_loss: 1.23377, acc: 0.50599\n"
          ]
        },
        {
          "name": "stderr",
          "output_type": "stream",
          "text": [
            "INFO:root:[0] Ed: 108800, train_loss: 1.23373, acc: 0.50599\n"
          ]
        },
        {
          "name": "stdout",
          "output_type": "stream",
          "text": [
            "[INFO 2025-02-19 17:11:58,935] [0] Ed: 108800, train_loss: 1.23373, acc: 0.50599\n",
            "[INFO 2025-02-19 17:11:58,935] [0] Ed: 108800, train_loss: 1.23373, acc: 0.50599\n"
          ]
        },
        {
          "name": "stderr",
          "output_type": "stream",
          "text": [
            "INFO:root:[0] Ed: 112000, train_loss: 1.23371, acc: 0.50621\n"
          ]
        },
        {
          "name": "stdout",
          "output_type": "stream",
          "text": [
            "[INFO 2025-02-19 17:12:14,010] [0] Ed: 112000, train_loss: 1.23371, acc: 0.50621\n",
            "[INFO 2025-02-19 17:12:14,010] [0] Ed: 112000, train_loss: 1.23371, acc: 0.50621\n"
          ]
        },
        {
          "name": "stderr",
          "output_type": "stream",
          "text": [
            "INFO:root:[0] Ed: 115200, train_loss: 1.23334, acc: 0.50626\n"
          ]
        },
        {
          "name": "stdout",
          "output_type": "stream",
          "text": [
            "[INFO 2025-02-19 17:12:29,014] [0] Ed: 115200, train_loss: 1.23334, acc: 0.50626\n",
            "[INFO 2025-02-19 17:12:29,014] [0] Ed: 115200, train_loss: 1.23334, acc: 0.50626\n"
          ]
        },
        {
          "name": "stderr",
          "output_type": "stream",
          "text": [
            "INFO:root:[0] Ed: 118400, train_loss: 1.23214, acc: 0.50676\n"
          ]
        },
        {
          "name": "stdout",
          "output_type": "stream",
          "text": [
            "[INFO 2025-02-19 17:12:44,007] [0] Ed: 118400, train_loss: 1.23214, acc: 0.50676\n",
            "[INFO 2025-02-19 17:12:44,007] [0] Ed: 118400, train_loss: 1.23214, acc: 0.50676\n"
          ]
        },
        {
          "name": "stderr",
          "output_type": "stream",
          "text": [
            "INFO:root:[0] Ed: 121600, train_loss: 1.23187, acc: 0.50687\n"
          ]
        },
        {
          "name": "stdout",
          "output_type": "stream",
          "text": [
            "[INFO 2025-02-19 17:12:59,232] [0] Ed: 121600, train_loss: 1.23187, acc: 0.50687\n",
            "[INFO 2025-02-19 17:12:59,232] [0] Ed: 121600, train_loss: 1.23187, acc: 0.50687\n"
          ]
        },
        {
          "name": "stderr",
          "output_type": "stream",
          "text": [
            "INFO:root:[0] Ed: 124800, train_loss: 1.23180, acc: 0.50693\n"
          ]
        },
        {
          "name": "stdout",
          "output_type": "stream",
          "text": [
            "[INFO 2025-02-19 17:13:15,117] [0] Ed: 124800, train_loss: 1.23180, acc: 0.50693\n",
            "[INFO 2025-02-19 17:13:15,117] [0] Ed: 124800, train_loss: 1.23180, acc: 0.50693\n"
          ]
        },
        {
          "name": "stderr",
          "output_type": "stream",
          "text": [
            "INFO:root:[0] Ed: 128000, train_loss: 1.23215, acc: 0.50689\n"
          ]
        },
        {
          "name": "stdout",
          "output_type": "stream",
          "text": [
            "[INFO 2025-02-19 17:13:30,090] [0] Ed: 128000, train_loss: 1.23215, acc: 0.50689\n",
            "[INFO 2025-02-19 17:13:30,090] [0] Ed: 128000, train_loss: 1.23215, acc: 0.50689\n"
          ]
        },
        {
          "name": "stderr",
          "output_type": "stream",
          "text": [
            "INFO:root:[0] Ed: 131200, train_loss: 1.23171, acc: 0.50727\n"
          ]
        },
        {
          "name": "stdout",
          "output_type": "stream",
          "text": [
            "[INFO 2025-02-19 17:13:44,955] [0] Ed: 131200, train_loss: 1.23171, acc: 0.50727\n",
            "[INFO 2025-02-19 17:13:44,955] [0] Ed: 131200, train_loss: 1.23171, acc: 0.50727\n"
          ]
        },
        {
          "name": "stderr",
          "output_type": "stream",
          "text": [
            "INFO:root:[0] Ed: 134400, train_loss: 1.23182, acc: 0.50716\n"
          ]
        },
        {
          "name": "stdout",
          "output_type": "stream",
          "text": [
            "[INFO 2025-02-19 17:14:00,026] [0] Ed: 134400, train_loss: 1.23182, acc: 0.50716\n",
            "[INFO 2025-02-19 17:14:00,026] [0] Ed: 134400, train_loss: 1.23182, acc: 0.50716\n"
          ]
        },
        {
          "name": "stderr",
          "output_type": "stream",
          "text": [
            "INFO:root:[0] Ed: 137600, train_loss: 1.23173, acc: 0.50734\n"
          ]
        },
        {
          "name": "stdout",
          "output_type": "stream",
          "text": [
            "[INFO 2025-02-19 17:14:14,984] [0] Ed: 137600, train_loss: 1.23173, acc: 0.50734\n",
            "[INFO 2025-02-19 17:14:14,984] [0] Ed: 137600, train_loss: 1.23173, acc: 0.50734\n"
          ]
        },
        {
          "name": "stderr",
          "output_type": "stream",
          "text": [
            "INFO:root:[0] Ed: 140800, train_loss: 1.23120, acc: 0.50763\n"
          ]
        },
        {
          "name": "stdout",
          "output_type": "stream",
          "text": [
            "[INFO 2025-02-19 17:14:30,646] [0] Ed: 140800, train_loss: 1.23120, acc: 0.50763\n",
            "[INFO 2025-02-19 17:14:30,646] [0] Ed: 140800, train_loss: 1.23120, acc: 0.50763\n"
          ]
        },
        {
          "name": "stderr",
          "output_type": "stream",
          "text": [
            "INFO:root:[0] Ed: 144000, train_loss: 1.23106, acc: 0.50770\n"
          ]
        },
        {
          "name": "stdout",
          "output_type": "stream",
          "text": [
            "[INFO 2025-02-19 17:14:45,585] [0] Ed: 144000, train_loss: 1.23106, acc: 0.50770\n",
            "[INFO 2025-02-19 17:14:45,585] [0] Ed: 144000, train_loss: 1.23106, acc: 0.50770\n"
          ]
        },
        {
          "name": "stderr",
          "output_type": "stream",
          "text": [
            "INFO:root:[0] Ed: 147200, train_loss: 1.23076, acc: 0.50793\n"
          ]
        },
        {
          "name": "stdout",
          "output_type": "stream",
          "text": [
            "[INFO 2025-02-19 17:15:00,487] [0] Ed: 147200, train_loss: 1.23076, acc: 0.50793\n",
            "[INFO 2025-02-19 17:15:00,487] [0] Ed: 147200, train_loss: 1.23076, acc: 0.50793\n"
          ]
        },
        {
          "name": "stderr",
          "output_type": "stream",
          "text": [
            "INFO:root:[0] Ed: 150400, train_loss: 1.23010, acc: 0.50830\n"
          ]
        },
        {
          "name": "stdout",
          "output_type": "stream",
          "text": [
            "[INFO 2025-02-19 17:15:15,364] [0] Ed: 150400, train_loss: 1.23010, acc: 0.50830\n",
            "[INFO 2025-02-19 17:15:15,364] [0] Ed: 150400, train_loss: 1.23010, acc: 0.50830\n"
          ]
        },
        {
          "name": "stderr",
          "output_type": "stream",
          "text": [
            "INFO:root:[0] Ed: 153600, train_loss: 1.22971, acc: 0.50840\n"
          ]
        },
        {
          "name": "stdout",
          "output_type": "stream",
          "text": [
            "[INFO 2025-02-19 17:15:30,549] [0] Ed: 153600, train_loss: 1.22971, acc: 0.50840\n",
            "[INFO 2025-02-19 17:15:30,549] [0] Ed: 153600, train_loss: 1.22971, acc: 0.50840\n"
          ]
        },
        {
          "name": "stderr",
          "output_type": "stream",
          "text": [
            "INFO:root:[0] Ed: 156800, train_loss: 1.22921, acc: 0.50844\n"
          ]
        },
        {
          "name": "stdout",
          "output_type": "stream",
          "text": [
            "[INFO 2025-02-19 17:15:45,819] [0] Ed: 156800, train_loss: 1.22921, acc: 0.50844\n",
            "[INFO 2025-02-19 17:15:45,819] [0] Ed: 156800, train_loss: 1.22921, acc: 0.50844\n"
          ]
        },
        {
          "name": "stderr",
          "output_type": "stream",
          "text": [
            "INFO:root:[0] Ed: 160000, train_loss: 1.22872, acc: 0.50892\n"
          ]
        },
        {
          "name": "stdout",
          "output_type": "stream",
          "text": [
            "[INFO 2025-02-19 17:16:01,035] [0] Ed: 160000, train_loss: 1.22872, acc: 0.50892\n",
            "[INFO 2025-02-19 17:16:01,035] [0] Ed: 160000, train_loss: 1.22872, acc: 0.50892\n"
          ]
        },
        {
          "name": "stderr",
          "output_type": "stream",
          "text": [
            "INFO:root:[0] Ed: 163200, train_loss: 1.22856, acc: 0.50893\n"
          ]
        },
        {
          "name": "stdout",
          "output_type": "stream",
          "text": [
            "[INFO 2025-02-19 17:16:16,181] [0] Ed: 163200, train_loss: 1.22856, acc: 0.50893\n",
            "[INFO 2025-02-19 17:16:16,181] [0] Ed: 163200, train_loss: 1.22856, acc: 0.50893\n"
          ]
        },
        {
          "name": "stderr",
          "output_type": "stream",
          "text": [
            "INFO:root:[0] Ed: 166400, train_loss: 1.22870, acc: 0.50873\n"
          ]
        },
        {
          "name": "stdout",
          "output_type": "stream",
          "text": [
            "[INFO 2025-02-19 17:16:31,101] [0] Ed: 166400, train_loss: 1.22870, acc: 0.50873\n",
            "[INFO 2025-02-19 17:16:31,101] [0] Ed: 166400, train_loss: 1.22870, acc: 0.50873\n"
          ]
        },
        {
          "name": "stderr",
          "output_type": "stream",
          "text": [
            "INFO:root:[0] Ed: 169600, train_loss: 1.22892, acc: 0.50857\n"
          ]
        },
        {
          "name": "stdout",
          "output_type": "stream",
          "text": [
            "[INFO 2025-02-19 17:16:46,105] [0] Ed: 169600, train_loss: 1.22892, acc: 0.50857\n",
            "[INFO 2025-02-19 17:16:46,105] [0] Ed: 169600, train_loss: 1.22892, acc: 0.50857\n"
          ]
        },
        {
          "name": "stderr",
          "output_type": "stream",
          "text": [
            "INFO:root:[0] Ed: 172800, train_loss: 1.22835, acc: 0.50891\n"
          ]
        },
        {
          "name": "stdout",
          "output_type": "stream",
          "text": [
            "[INFO 2025-02-19 17:17:01,678] [0] Ed: 172800, train_loss: 1.22835, acc: 0.50891\n",
            "[INFO 2025-02-19 17:17:01,678] [0] Ed: 172800, train_loss: 1.22835, acc: 0.50891\n"
          ]
        },
        {
          "name": "stderr",
          "output_type": "stream",
          "text": [
            "INFO:root:[0] Ed: 176000, train_loss: 1.22819, acc: 0.50915\n"
          ]
        },
        {
          "name": "stdout",
          "output_type": "stream",
          "text": [
            "[INFO 2025-02-19 17:17:16,927] [0] Ed: 176000, train_loss: 1.22819, acc: 0.50915\n",
            "[INFO 2025-02-19 17:17:16,927] [0] Ed: 176000, train_loss: 1.22819, acc: 0.50915\n"
          ]
        },
        {
          "name": "stderr",
          "output_type": "stream",
          "text": [
            "INFO:root:[0] Ed: 179200, train_loss: 1.22792, acc: 0.50942\n"
          ]
        },
        {
          "name": "stdout",
          "output_type": "stream",
          "text": [
            "[INFO 2025-02-19 17:17:31,842] [0] Ed: 179200, train_loss: 1.22792, acc: 0.50942\n",
            "[INFO 2025-02-19 17:17:31,842] [0] Ed: 179200, train_loss: 1.22792, acc: 0.50942\n"
          ]
        },
        {
          "name": "stderr",
          "output_type": "stream",
          "text": [
            "INFO:root:[0] Ed: 182400, train_loss: 1.22794, acc: 0.50950\n"
          ]
        },
        {
          "name": "stdout",
          "output_type": "stream",
          "text": [
            "[INFO 2025-02-19 17:17:46,670] [0] Ed: 182400, train_loss: 1.22794, acc: 0.50950\n",
            "[INFO 2025-02-19 17:17:46,670] [0] Ed: 182400, train_loss: 1.22794, acc: 0.50950\n"
          ]
        },
        {
          "name": "stderr",
          "output_type": "stream",
          "text": [
            "INFO:root:[0] Ed: 185600, train_loss: 1.22770, acc: 0.50947\n"
          ]
        },
        {
          "name": "stdout",
          "output_type": "stream",
          "text": [
            "[INFO 2025-02-19 17:18:01,566] [0] Ed: 185600, train_loss: 1.22770, acc: 0.50947\n",
            "[INFO 2025-02-19 17:18:01,566] [0] Ed: 185600, train_loss: 1.22770, acc: 0.50947\n"
          ]
        },
        {
          "name": "stderr",
          "output_type": "stream",
          "text": [
            "INFO:root:[0] Ed: 188800, train_loss: 1.22738, acc: 0.50977\n"
          ]
        },
        {
          "name": "stdout",
          "output_type": "stream",
          "text": [
            "[INFO 2025-02-19 17:18:16,529] [0] Ed: 188800, train_loss: 1.22738, acc: 0.50977\n",
            "[INFO 2025-02-19 17:18:16,529] [0] Ed: 188800, train_loss: 1.22738, acc: 0.50977\n"
          ]
        },
        {
          "name": "stderr",
          "output_type": "stream",
          "text": [
            "INFO:root:[0] Ed: 192000, train_loss: 1.22758, acc: 0.50964\n"
          ]
        },
        {
          "name": "stdout",
          "output_type": "stream",
          "text": [
            "[INFO 2025-02-19 17:18:32,093] [0] Ed: 192000, train_loss: 1.22758, acc: 0.50964\n",
            "[INFO 2025-02-19 17:18:32,093] [0] Ed: 192000, train_loss: 1.22758, acc: 0.50964\n"
          ]
        },
        {
          "name": "stderr",
          "output_type": "stream",
          "text": [
            "INFO:root:[0] Ed: 195200, train_loss: 1.22746, acc: 0.50989\n"
          ]
        },
        {
          "name": "stdout",
          "output_type": "stream",
          "text": [
            "[INFO 2025-02-19 17:18:47,001] [0] Ed: 195200, train_loss: 1.22746, acc: 0.50989\n",
            "[INFO 2025-02-19 17:18:47,001] [0] Ed: 195200, train_loss: 1.22746, acc: 0.50989\n"
          ]
        },
        {
          "name": "stderr",
          "output_type": "stream",
          "text": [
            "INFO:root:[0] Ed: 198400, train_loss: 1.22747, acc: 0.50992\n"
          ]
        },
        {
          "name": "stdout",
          "output_type": "stream",
          "text": [
            "[INFO 2025-02-19 17:19:01,874] [0] Ed: 198400, train_loss: 1.22747, acc: 0.50992\n",
            "[INFO 2025-02-19 17:19:01,874] [0] Ed: 198400, train_loss: 1.22747, acc: 0.50992\n"
          ]
        },
        {
          "name": "stderr",
          "output_type": "stream",
          "text": [
            "INFO:root:[0] Ed: 201600, train_loss: 1.22720, acc: 0.51000\n"
          ]
        },
        {
          "name": "stdout",
          "output_type": "stream",
          "text": [
            "[INFO 2025-02-19 17:19:16,738] [0] Ed: 201600, train_loss: 1.22720, acc: 0.51000\n",
            "[INFO 2025-02-19 17:19:16,738] [0] Ed: 201600, train_loss: 1.22720, acc: 0.51000\n"
          ]
        },
        {
          "name": "stderr",
          "output_type": "stream",
          "text": [
            "INFO:root:[0] Ed: 204800, train_loss: 1.22720, acc: 0.51000\n"
          ]
        },
        {
          "name": "stdout",
          "output_type": "stream",
          "text": [
            "[INFO 2025-02-19 17:19:31,642] [0] Ed: 204800, train_loss: 1.22720, acc: 0.51000\n",
            "[INFO 2025-02-19 17:19:31,642] [0] Ed: 204800, train_loss: 1.22720, acc: 0.51000\n"
          ]
        },
        {
          "name": "stderr",
          "output_type": "stream",
          "text": [
            "INFO:root:[0] Ed: 208000, train_loss: 1.22743, acc: 0.50994\n"
          ]
        },
        {
          "name": "stdout",
          "output_type": "stream",
          "text": [
            "[INFO 2025-02-19 17:19:47,221] [0] Ed: 208000, train_loss: 1.22743, acc: 0.50994\n",
            "[INFO 2025-02-19 17:19:47,221] [0] Ed: 208000, train_loss: 1.22743, acc: 0.50994\n"
          ]
        },
        {
          "name": "stderr",
          "output_type": "stream",
          "text": [
            "INFO:root:[0] Ed: 211200, train_loss: 1.22744, acc: 0.50997\n"
          ]
        },
        {
          "name": "stdout",
          "output_type": "stream",
          "text": [
            "[INFO 2025-02-19 17:20:02,169] [0] Ed: 211200, train_loss: 1.22744, acc: 0.50997\n",
            "[INFO 2025-02-19 17:20:02,169] [0] Ed: 211200, train_loss: 1.22744, acc: 0.50997\n"
          ]
        },
        {
          "name": "stderr",
          "output_type": "stream",
          "text": [
            "INFO:root:[0] Ed: 214400, train_loss: 1.22732, acc: 0.50990\n"
          ]
        },
        {
          "name": "stdout",
          "output_type": "stream",
          "text": [
            "[INFO 2025-02-19 17:20:16,994] [0] Ed: 214400, train_loss: 1.22732, acc: 0.50990\n",
            "[INFO 2025-02-19 17:20:16,994] [0] Ed: 214400, train_loss: 1.22732, acc: 0.50990\n"
          ]
        },
        {
          "name": "stderr",
          "output_type": "stream",
          "text": [
            "INFO:root:[0] Ed: 217600, train_loss: 1.22713, acc: 0.50991\n"
          ]
        },
        {
          "name": "stdout",
          "output_type": "stream",
          "text": [
            "[INFO 2025-02-19 17:20:31,940] [0] Ed: 217600, train_loss: 1.22713, acc: 0.50991\n",
            "[INFO 2025-02-19 17:20:31,940] [0] Ed: 217600, train_loss: 1.22713, acc: 0.50991\n"
          ]
        },
        {
          "name": "stderr",
          "output_type": "stream",
          "text": [
            "INFO:root:[0] Ed: 220800, train_loss: 1.22686, acc: 0.50998\n"
          ]
        },
        {
          "name": "stdout",
          "output_type": "stream",
          "text": [
            "[INFO 2025-02-19 17:20:46,768] [0] Ed: 220800, train_loss: 1.22686, acc: 0.50998\n",
            "[INFO 2025-02-19 17:20:46,768] [0] Ed: 220800, train_loss: 1.22686, acc: 0.50998\n"
          ]
        },
        {
          "name": "stderr",
          "output_type": "stream",
          "text": [
            "INFO:root:[0] Ed: 224000, train_loss: 1.22650, acc: 0.51019\n"
          ]
        },
        {
          "name": "stdout",
          "output_type": "stream",
          "text": [
            "[INFO 2025-02-19 17:21:02,092] [0] Ed: 224000, train_loss: 1.22650, acc: 0.51019\n",
            "[INFO 2025-02-19 17:21:02,092] [0] Ed: 224000, train_loss: 1.22650, acc: 0.51019\n"
          ]
        },
        {
          "name": "stderr",
          "output_type": "stream",
          "text": [
            "INFO:root:[0] Ed: 227200, train_loss: 1.22620, acc: 0.51029\n"
          ]
        },
        {
          "name": "stdout",
          "output_type": "stream",
          "text": [
            "[INFO 2025-02-19 17:21:17,550] [0] Ed: 227200, train_loss: 1.22620, acc: 0.51029\n",
            "[INFO 2025-02-19 17:21:17,550] [0] Ed: 227200, train_loss: 1.22620, acc: 0.51029\n"
          ]
        },
        {
          "name": "stderr",
          "output_type": "stream",
          "text": [
            "INFO:root:[0] Ed: 230400, train_loss: 1.22585, acc: 0.51039\n"
          ]
        },
        {
          "name": "stdout",
          "output_type": "stream",
          "text": [
            "[INFO 2025-02-19 17:21:32,500] [0] Ed: 230400, train_loss: 1.22585, acc: 0.51039\n",
            "[INFO 2025-02-19 17:21:32,500] [0] Ed: 230400, train_loss: 1.22585, acc: 0.51039\n"
          ]
        },
        {
          "name": "stderr",
          "output_type": "stream",
          "text": [
            "INFO:root:[0] Ed: 233600, train_loss: 1.22538, acc: 0.51052\n"
          ]
        },
        {
          "name": "stdout",
          "output_type": "stream",
          "text": [
            "[INFO 2025-02-19 17:21:47,387] [0] Ed: 233600, train_loss: 1.22538, acc: 0.51052\n",
            "[INFO 2025-02-19 17:21:47,387] [0] Ed: 233600, train_loss: 1.22538, acc: 0.51052\n"
          ]
        },
        {
          "name": "stderr",
          "output_type": "stream",
          "text": [
            "INFO:root:Training finish.\n"
          ]
        },
        {
          "name": "stdout",
          "output_type": "stream",
          "text": [
            "[INFO 2025-02-19 17:22:00,200] Training finish.\n",
            "[INFO 2025-02-19 17:22:00,200] Training finish.\n"
          ]
        },
        {
          "name": "stderr",
          "output_type": "stream",
          "text": [
            "INFO:root:Model saved to /content/model/epoch-4.pt.\n"
          ]
        },
        {
          "name": "stdout",
          "output_type": "stream",
          "text": [
            "[INFO 2025-02-19 17:22:00,247] Model saved to /content/model/epoch-4.pt.\n",
            "[INFO 2025-02-19 17:22:00,247] Model saved to /content/model/epoch-4.pt.\n"
          ]
        },
        {
          "name": "stderr",
          "output_type": "stream",
          "text": [
            "INFO:root:[0] Ed: 0, train_loss: inf, acc: inf\n"
          ]
        },
        {
          "name": "stdout",
          "output_type": "stream",
          "text": [
            "[INFO 2025-02-19 17:22:00,425] [0] Ed: 0, train_loss: inf, acc: inf\n",
            "[INFO 2025-02-19 17:22:00,425] [0] Ed: 0, train_loss: inf, acc: inf\n"
          ]
        },
        {
          "name": "stderr",
          "output_type": "stream",
          "text": [
            "INFO:root:[0] Ed: 3200, train_loss: 1.23119, acc: 0.52812\n"
          ]
        },
        {
          "name": "stdout",
          "output_type": "stream",
          "text": [
            "[INFO 2025-02-19 17:22:15,312] [0] Ed: 3200, train_loss: 1.23119, acc: 0.52812\n",
            "[INFO 2025-02-19 17:22:15,312] [0] Ed: 3200, train_loss: 1.23119, acc: 0.52812\n"
          ]
        },
        {
          "name": "stderr",
          "output_type": "stream",
          "text": [
            "INFO:root:[0] Ed: 6400, train_loss: 1.21153, acc: 0.52531\n"
          ]
        },
        {
          "name": "stdout",
          "output_type": "stream",
          "text": [
            "[INFO 2025-02-19 17:22:30,750] [0] Ed: 6400, train_loss: 1.21153, acc: 0.52531\n",
            "[INFO 2025-02-19 17:22:30,750] [0] Ed: 6400, train_loss: 1.21153, acc: 0.52531\n"
          ]
        },
        {
          "name": "stderr",
          "output_type": "stream",
          "text": [
            "INFO:root:[0] Ed: 9600, train_loss: 1.21444, acc: 0.52219\n"
          ]
        },
        {
          "name": "stdout",
          "output_type": "stream",
          "text": [
            "[INFO 2025-02-19 17:22:45,914] [0] Ed: 9600, train_loss: 1.21444, acc: 0.52219\n",
            "[INFO 2025-02-19 17:22:45,914] [0] Ed: 9600, train_loss: 1.21444, acc: 0.52219\n"
          ]
        },
        {
          "name": "stderr",
          "output_type": "stream",
          "text": [
            "INFO:root:[0] Ed: 12800, train_loss: 1.21100, acc: 0.52508\n"
          ]
        },
        {
          "name": "stdout",
          "output_type": "stream",
          "text": [
            "[INFO 2025-02-19 17:23:00,863] [0] Ed: 12800, train_loss: 1.21100, acc: 0.52508\n",
            "[INFO 2025-02-19 17:23:00,863] [0] Ed: 12800, train_loss: 1.21100, acc: 0.52508\n"
          ]
        },
        {
          "name": "stderr",
          "output_type": "stream",
          "text": [
            "INFO:root:[0] Ed: 16000, train_loss: 1.21595, acc: 0.51988\n"
          ]
        },
        {
          "name": "stdout",
          "output_type": "stream",
          "text": [
            "[INFO 2025-02-19 17:23:15,835] [0] Ed: 16000, train_loss: 1.21595, acc: 0.51988\n",
            "[INFO 2025-02-19 17:23:15,835] [0] Ed: 16000, train_loss: 1.21595, acc: 0.51988\n"
          ]
        },
        {
          "name": "stderr",
          "output_type": "stream",
          "text": [
            "INFO:root:[0] Ed: 19200, train_loss: 1.21589, acc: 0.51854\n"
          ]
        },
        {
          "name": "stdout",
          "output_type": "stream",
          "text": [
            "[INFO 2025-02-19 17:23:30,800] [0] Ed: 19200, train_loss: 1.21589, acc: 0.51854\n",
            "[INFO 2025-02-19 17:23:30,800] [0] Ed: 19200, train_loss: 1.21589, acc: 0.51854\n"
          ]
        },
        {
          "name": "stderr",
          "output_type": "stream",
          "text": [
            "INFO:root:[0] Ed: 22400, train_loss: 1.21387, acc: 0.51929\n"
          ]
        },
        {
          "name": "stdout",
          "output_type": "stream",
          "text": [
            "[INFO 2025-02-19 17:23:45,901] [0] Ed: 22400, train_loss: 1.21387, acc: 0.51929\n",
            "[INFO 2025-02-19 17:23:45,901] [0] Ed: 22400, train_loss: 1.21387, acc: 0.51929\n"
          ]
        },
        {
          "name": "stderr",
          "output_type": "stream",
          "text": [
            "INFO:root:[0] Ed: 25600, train_loss: 1.21050, acc: 0.52121\n"
          ]
        },
        {
          "name": "stdout",
          "output_type": "stream",
          "text": [
            "[INFO 2025-02-19 17:24:01,408] [0] Ed: 25600, train_loss: 1.21050, acc: 0.52121\n",
            "[INFO 2025-02-19 17:24:01,408] [0] Ed: 25600, train_loss: 1.21050, acc: 0.52121\n"
          ]
        },
        {
          "name": "stderr",
          "output_type": "stream",
          "text": [
            "INFO:root:[0] Ed: 28800, train_loss: 1.21128, acc: 0.52028\n"
          ]
        },
        {
          "name": "stdout",
          "output_type": "stream",
          "text": [
            "[INFO 2025-02-19 17:24:16,306] [0] Ed: 28800, train_loss: 1.21128, acc: 0.52028\n",
            "[INFO 2025-02-19 17:24:16,306] [0] Ed: 28800, train_loss: 1.21128, acc: 0.52028\n"
          ]
        },
        {
          "name": "stderr",
          "output_type": "stream",
          "text": [
            "INFO:root:[0] Ed: 32000, train_loss: 1.21166, acc: 0.52003\n"
          ]
        },
        {
          "name": "stdout",
          "output_type": "stream",
          "text": [
            "[INFO 2025-02-19 17:24:31,253] [0] Ed: 32000, train_loss: 1.21166, acc: 0.52003\n",
            "[INFO 2025-02-19 17:24:31,253] [0] Ed: 32000, train_loss: 1.21166, acc: 0.52003\n"
          ]
        },
        {
          "name": "stderr",
          "output_type": "stream",
          "text": [
            "INFO:root:[0] Ed: 35200, train_loss: 1.21381, acc: 0.51778\n"
          ]
        },
        {
          "name": "stdout",
          "output_type": "stream",
          "text": [
            "[INFO 2025-02-19 17:24:46,097] [0] Ed: 35200, train_loss: 1.21381, acc: 0.51778\n",
            "[INFO 2025-02-19 17:24:46,097] [0] Ed: 35200, train_loss: 1.21381, acc: 0.51778\n"
          ]
        },
        {
          "name": "stderr",
          "output_type": "stream",
          "text": [
            "INFO:root:[0] Ed: 38400, train_loss: 1.21253, acc: 0.51766\n"
          ]
        },
        {
          "name": "stdout",
          "output_type": "stream",
          "text": [
            "[INFO 2025-02-19 17:25:00,994] [0] Ed: 38400, train_loss: 1.21253, acc: 0.51766\n",
            "[INFO 2025-02-19 17:25:00,994] [0] Ed: 38400, train_loss: 1.21253, acc: 0.51766\n"
          ]
        },
        {
          "name": "stderr",
          "output_type": "stream",
          "text": [
            "INFO:root:[0] Ed: 41600, train_loss: 1.21048, acc: 0.51820\n"
          ]
        },
        {
          "name": "stdout",
          "output_type": "stream",
          "text": [
            "[INFO 2025-02-19 17:25:16,636] [0] Ed: 41600, train_loss: 1.21048, acc: 0.51820\n",
            "[INFO 2025-02-19 17:25:16,636] [0] Ed: 41600, train_loss: 1.21048, acc: 0.51820\n"
          ]
        },
        {
          "name": "stderr",
          "output_type": "stream",
          "text": [
            "INFO:root:[0] Ed: 44800, train_loss: 1.21021, acc: 0.51839\n"
          ]
        },
        {
          "name": "stdout",
          "output_type": "stream",
          "text": [
            "[INFO 2025-02-19 17:25:31,596] [0] Ed: 44800, train_loss: 1.21021, acc: 0.51839\n",
            "[INFO 2025-02-19 17:25:31,596] [0] Ed: 44800, train_loss: 1.21021, acc: 0.51839\n"
          ]
        },
        {
          "name": "stderr",
          "output_type": "stream",
          "text": [
            "INFO:root:[0] Ed: 48000, train_loss: 1.21024, acc: 0.51871\n"
          ]
        },
        {
          "name": "stdout",
          "output_type": "stream",
          "text": [
            "[INFO 2025-02-19 17:25:46,588] [0] Ed: 48000, train_loss: 1.21024, acc: 0.51871\n",
            "[INFO 2025-02-19 17:25:46,588] [0] Ed: 48000, train_loss: 1.21024, acc: 0.51871\n"
          ]
        },
        {
          "name": "stderr",
          "output_type": "stream",
          "text": [
            "INFO:root:[0] Ed: 51200, train_loss: 1.20972, acc: 0.51861\n"
          ]
        },
        {
          "name": "stdout",
          "output_type": "stream",
          "text": [
            "[INFO 2025-02-19 17:26:01,478] [0] Ed: 51200, train_loss: 1.20972, acc: 0.51861\n",
            "[INFO 2025-02-19 17:26:01,478] [0] Ed: 51200, train_loss: 1.20972, acc: 0.51861\n"
          ]
        },
        {
          "name": "stderr",
          "output_type": "stream",
          "text": [
            "INFO:root:[0] Ed: 54400, train_loss: 1.20943, acc: 0.51877\n"
          ]
        },
        {
          "name": "stdout",
          "output_type": "stream",
          "text": [
            "[INFO 2025-02-19 17:26:16,361] [0] Ed: 54400, train_loss: 1.20943, acc: 0.51877\n",
            "[INFO 2025-02-19 17:26:16,361] [0] Ed: 54400, train_loss: 1.20943, acc: 0.51877\n"
          ]
        },
        {
          "name": "stderr",
          "output_type": "stream",
          "text": [
            "INFO:root:[0] Ed: 57600, train_loss: 1.20900, acc: 0.51932\n"
          ]
        },
        {
          "name": "stdout",
          "output_type": "stream",
          "text": [
            "[INFO 2025-02-19 17:26:31,986] [0] Ed: 57600, train_loss: 1.20900, acc: 0.51932\n",
            "[INFO 2025-02-19 17:26:31,986] [0] Ed: 57600, train_loss: 1.20900, acc: 0.51932\n"
          ]
        },
        {
          "name": "stderr",
          "output_type": "stream",
          "text": [
            "INFO:root:[0] Ed: 60800, train_loss: 1.20897, acc: 0.51936\n"
          ]
        },
        {
          "name": "stdout",
          "output_type": "stream",
          "text": [
            "[INFO 2025-02-19 17:26:47,081] [0] Ed: 60800, train_loss: 1.20897, acc: 0.51936\n",
            "[INFO 2025-02-19 17:26:47,081] [0] Ed: 60800, train_loss: 1.20897, acc: 0.51936\n"
          ]
        },
        {
          "name": "stderr",
          "output_type": "stream",
          "text": [
            "INFO:root:[0] Ed: 64000, train_loss: 1.20804, acc: 0.52006\n"
          ]
        },
        {
          "name": "stdout",
          "output_type": "stream",
          "text": [
            "[INFO 2025-02-19 17:27:02,390] [0] Ed: 64000, train_loss: 1.20804, acc: 0.52006\n",
            "[INFO 2025-02-19 17:27:02,390] [0] Ed: 64000, train_loss: 1.20804, acc: 0.52006\n"
          ]
        },
        {
          "name": "stderr",
          "output_type": "stream",
          "text": [
            "INFO:root:[0] Ed: 67200, train_loss: 1.20742, acc: 0.52040\n"
          ]
        },
        {
          "name": "stdout",
          "output_type": "stream",
          "text": [
            "[INFO 2025-02-19 17:27:17,405] [0] Ed: 67200, train_loss: 1.20742, acc: 0.52040\n",
            "[INFO 2025-02-19 17:27:17,405] [0] Ed: 67200, train_loss: 1.20742, acc: 0.52040\n"
          ]
        },
        {
          "name": "stderr",
          "output_type": "stream",
          "text": [
            "INFO:root:[0] Ed: 70400, train_loss: 1.20670, acc: 0.52050\n"
          ]
        },
        {
          "name": "stdout",
          "output_type": "stream",
          "text": [
            "[INFO 2025-02-19 17:27:32,459] [0] Ed: 70400, train_loss: 1.20670, acc: 0.52050\n",
            "[INFO 2025-02-19 17:27:32,459] [0] Ed: 70400, train_loss: 1.20670, acc: 0.52050\n"
          ]
        },
        {
          "name": "stderr",
          "output_type": "stream",
          "text": [
            "INFO:root:[0] Ed: 73600, train_loss: 1.20752, acc: 0.52004\n"
          ]
        },
        {
          "name": "stdout",
          "output_type": "stream",
          "text": [
            "[INFO 2025-02-19 17:27:48,119] [0] Ed: 73600, train_loss: 1.20752, acc: 0.52004\n",
            "[INFO 2025-02-19 17:27:48,119] [0] Ed: 73600, train_loss: 1.20752, acc: 0.52004\n"
          ]
        },
        {
          "name": "stderr",
          "output_type": "stream",
          "text": [
            "INFO:root:[0] Ed: 76800, train_loss: 1.20669, acc: 0.52053\n"
          ]
        },
        {
          "name": "stdout",
          "output_type": "stream",
          "text": [
            "[INFO 2025-02-19 17:28:03,113] [0] Ed: 76800, train_loss: 1.20669, acc: 0.52053\n",
            "[INFO 2025-02-19 17:28:03,113] [0] Ed: 76800, train_loss: 1.20669, acc: 0.52053\n"
          ]
        },
        {
          "name": "stderr",
          "output_type": "stream",
          "text": [
            "INFO:root:[0] Ed: 80000, train_loss: 1.20699, acc: 0.52046\n"
          ]
        },
        {
          "name": "stdout",
          "output_type": "stream",
          "text": [
            "[INFO 2025-02-19 17:28:18,022] [0] Ed: 80000, train_loss: 1.20699, acc: 0.52046\n",
            "[INFO 2025-02-19 17:28:18,022] [0] Ed: 80000, train_loss: 1.20699, acc: 0.52046\n"
          ]
        },
        {
          "name": "stderr",
          "output_type": "stream",
          "text": [
            "INFO:root:[0] Ed: 83200, train_loss: 1.20622, acc: 0.52067\n"
          ]
        },
        {
          "name": "stdout",
          "output_type": "stream",
          "text": [
            "[INFO 2025-02-19 17:28:32,938] [0] Ed: 83200, train_loss: 1.20622, acc: 0.52067\n",
            "[INFO 2025-02-19 17:28:32,938] [0] Ed: 83200, train_loss: 1.20622, acc: 0.52067\n"
          ]
        },
        {
          "name": "stderr",
          "output_type": "stream",
          "text": [
            "INFO:root:[0] Ed: 86400, train_loss: 1.20532, acc: 0.52095\n"
          ]
        },
        {
          "name": "stdout",
          "output_type": "stream",
          "text": [
            "[INFO 2025-02-19 17:28:47,852] [0] Ed: 86400, train_loss: 1.20532, acc: 0.52095\n",
            "[INFO 2025-02-19 17:28:47,852] [0] Ed: 86400, train_loss: 1.20532, acc: 0.52095\n"
          ]
        },
        {
          "name": "stderr",
          "output_type": "stream",
          "text": [
            "INFO:root:[0] Ed: 89600, train_loss: 1.20433, acc: 0.52166\n"
          ]
        },
        {
          "name": "stdout",
          "output_type": "stream",
          "text": [
            "[INFO 2025-02-19 17:29:03,245] [0] Ed: 89600, train_loss: 1.20433, acc: 0.52166\n",
            "[INFO 2025-02-19 17:29:03,245] [0] Ed: 89600, train_loss: 1.20433, acc: 0.52166\n"
          ]
        },
        {
          "name": "stderr",
          "output_type": "stream",
          "text": [
            "INFO:root:[0] Ed: 92800, train_loss: 1.20446, acc: 0.52143\n"
          ]
        },
        {
          "name": "stdout",
          "output_type": "stream",
          "text": [
            "[INFO 2025-02-19 17:29:18,482] [0] Ed: 92800, train_loss: 1.20446, acc: 0.52143\n",
            "[INFO 2025-02-19 17:29:18,482] [0] Ed: 92800, train_loss: 1.20446, acc: 0.52143\n"
          ]
        },
        {
          "name": "stderr",
          "output_type": "stream",
          "text": [
            "INFO:root:[0] Ed: 96000, train_loss: 1.20418, acc: 0.52138\n"
          ]
        },
        {
          "name": "stdout",
          "output_type": "stream",
          "text": [
            "[INFO 2025-02-19 17:29:33,513] [0] Ed: 96000, train_loss: 1.20418, acc: 0.52138\n",
            "[INFO 2025-02-19 17:29:33,513] [0] Ed: 96000, train_loss: 1.20418, acc: 0.52138\n"
          ]
        },
        {
          "name": "stderr",
          "output_type": "stream",
          "text": [
            "INFO:root:[0] Ed: 99200, train_loss: 1.20422, acc: 0.52124\n"
          ]
        },
        {
          "name": "stdout",
          "output_type": "stream",
          "text": [
            "[INFO 2025-02-19 17:29:48,373] [0] Ed: 99200, train_loss: 1.20422, acc: 0.52124\n",
            "[INFO 2025-02-19 17:29:48,373] [0] Ed: 99200, train_loss: 1.20422, acc: 0.52124\n"
          ]
        },
        {
          "name": "stderr",
          "output_type": "stream",
          "text": [
            "INFO:root:[0] Ed: 102400, train_loss: 1.20318, acc: 0.52143\n"
          ]
        },
        {
          "name": "stdout",
          "output_type": "stream",
          "text": [
            "[INFO 2025-02-19 17:30:03,454] [0] Ed: 102400, train_loss: 1.20318, acc: 0.52143\n",
            "[INFO 2025-02-19 17:30:03,454] [0] Ed: 102400, train_loss: 1.20318, acc: 0.52143\n"
          ]
        },
        {
          "name": "stderr",
          "output_type": "stream",
          "text": [
            "INFO:root:[0] Ed: 105600, train_loss: 1.20185, acc: 0.52197\n"
          ]
        },
        {
          "name": "stdout",
          "output_type": "stream",
          "text": [
            "[INFO 2025-02-19 17:30:19,020] [0] Ed: 105600, train_loss: 1.20185, acc: 0.52197\n",
            "[INFO 2025-02-19 17:30:19,020] [0] Ed: 105600, train_loss: 1.20185, acc: 0.52197\n"
          ]
        },
        {
          "name": "stderr",
          "output_type": "stream",
          "text": [
            "INFO:root:[0] Ed: 108800, train_loss: 1.20179, acc: 0.52204\n"
          ]
        },
        {
          "name": "stdout",
          "output_type": "stream",
          "text": [
            "[INFO 2025-02-19 17:30:34,448] [0] Ed: 108800, train_loss: 1.20179, acc: 0.52204\n",
            "[INFO 2025-02-19 17:30:34,448] [0] Ed: 108800, train_loss: 1.20179, acc: 0.52204\n"
          ]
        },
        {
          "name": "stderr",
          "output_type": "stream",
          "text": [
            "INFO:root:[0] Ed: 112000, train_loss: 1.20210, acc: 0.52198\n"
          ]
        },
        {
          "name": "stdout",
          "output_type": "stream",
          "text": [
            "[INFO 2025-02-19 17:30:49,315] [0] Ed: 112000, train_loss: 1.20210, acc: 0.52198\n",
            "[INFO 2025-02-19 17:30:49,315] [0] Ed: 112000, train_loss: 1.20210, acc: 0.52198\n"
          ]
        },
        {
          "name": "stderr",
          "output_type": "stream",
          "text": [
            "INFO:root:[0] Ed: 115200, train_loss: 1.20155, acc: 0.52215\n"
          ]
        },
        {
          "name": "stdout",
          "output_type": "stream",
          "text": [
            "[INFO 2025-02-19 17:31:04,245] [0] Ed: 115200, train_loss: 1.20155, acc: 0.52215\n",
            "[INFO 2025-02-19 17:31:04,245] [0] Ed: 115200, train_loss: 1.20155, acc: 0.52215\n"
          ]
        },
        {
          "name": "stderr",
          "output_type": "stream",
          "text": [
            "INFO:root:[0] Ed: 118400, train_loss: 1.20034, acc: 0.52242\n"
          ]
        },
        {
          "name": "stdout",
          "output_type": "stream",
          "text": [
            "[INFO 2025-02-19 17:31:19,189] [0] Ed: 118400, train_loss: 1.20034, acc: 0.52242\n",
            "[INFO 2025-02-19 17:31:19,189] [0] Ed: 118400, train_loss: 1.20034, acc: 0.52242\n"
          ]
        },
        {
          "name": "stderr",
          "output_type": "stream",
          "text": [
            "INFO:root:[0] Ed: 121600, train_loss: 1.20005, acc: 0.52266\n"
          ]
        },
        {
          "name": "stdout",
          "output_type": "stream",
          "text": [
            "[INFO 2025-02-19 17:31:34,417] [0] Ed: 121600, train_loss: 1.20005, acc: 0.52266\n",
            "[INFO 2025-02-19 17:31:34,417] [0] Ed: 121600, train_loss: 1.20005, acc: 0.52266\n"
          ]
        },
        {
          "name": "stderr",
          "output_type": "stream",
          "text": [
            "INFO:root:[0] Ed: 124800, train_loss: 1.19994, acc: 0.52264\n"
          ]
        },
        {
          "name": "stdout",
          "output_type": "stream",
          "text": [
            "[INFO 2025-02-19 17:31:49,830] [0] Ed: 124800, train_loss: 1.19994, acc: 0.52264\n",
            "[INFO 2025-02-19 17:31:49,830] [0] Ed: 124800, train_loss: 1.19994, acc: 0.52264\n"
          ]
        },
        {
          "name": "stderr",
          "output_type": "stream",
          "text": [
            "INFO:root:[0] Ed: 128000, train_loss: 1.20014, acc: 0.52255\n"
          ]
        },
        {
          "name": "stdout",
          "output_type": "stream",
          "text": [
            "[INFO 2025-02-19 17:32:04,732] [0] Ed: 128000, train_loss: 1.20014, acc: 0.52255\n",
            "[INFO 2025-02-19 17:32:04,732] [0] Ed: 128000, train_loss: 1.20014, acc: 0.52255\n"
          ]
        },
        {
          "name": "stderr",
          "output_type": "stream",
          "text": [
            "INFO:root:[0] Ed: 131200, train_loss: 1.19971, acc: 0.52267\n"
          ]
        },
        {
          "name": "stdout",
          "output_type": "stream",
          "text": [
            "[INFO 2025-02-19 17:32:19,813] [0] Ed: 131200, train_loss: 1.19971, acc: 0.52267\n",
            "[INFO 2025-02-19 17:32:19,813] [0] Ed: 131200, train_loss: 1.19971, acc: 0.52267\n"
          ]
        },
        {
          "name": "stderr",
          "output_type": "stream",
          "text": [
            "INFO:root:[0] Ed: 134400, train_loss: 1.19967, acc: 0.52262\n"
          ]
        },
        {
          "name": "stdout",
          "output_type": "stream",
          "text": [
            "[INFO 2025-02-19 17:32:34,760] [0] Ed: 134400, train_loss: 1.19967, acc: 0.52262\n",
            "[INFO 2025-02-19 17:32:34,760] [0] Ed: 134400, train_loss: 1.19967, acc: 0.52262\n"
          ]
        },
        {
          "name": "stderr",
          "output_type": "stream",
          "text": [
            "INFO:root:[0] Ed: 137600, train_loss: 1.19961, acc: 0.52282\n"
          ]
        },
        {
          "name": "stdout",
          "output_type": "stream",
          "text": [
            "[INFO 2025-02-19 17:32:50,070] [0] Ed: 137600, train_loss: 1.19961, acc: 0.52282\n",
            "[INFO 2025-02-19 17:32:50,070] [0] Ed: 137600, train_loss: 1.19961, acc: 0.52282\n"
          ]
        },
        {
          "name": "stderr",
          "output_type": "stream",
          "text": [
            "INFO:root:[0] Ed: 140800, train_loss: 1.19877, acc: 0.52331\n"
          ]
        },
        {
          "name": "stdout",
          "output_type": "stream",
          "text": [
            "[INFO 2025-02-19 17:33:05,612] [0] Ed: 140800, train_loss: 1.19877, acc: 0.52331\n",
            "[INFO 2025-02-19 17:33:05,612] [0] Ed: 140800, train_loss: 1.19877, acc: 0.52331\n"
          ]
        },
        {
          "name": "stderr",
          "output_type": "stream",
          "text": [
            "INFO:root:[0] Ed: 144000, train_loss: 1.19858, acc: 0.52335\n"
          ]
        },
        {
          "name": "stdout",
          "output_type": "stream",
          "text": [
            "[INFO 2025-02-19 17:33:20,585] [0] Ed: 144000, train_loss: 1.19858, acc: 0.52335\n",
            "[INFO 2025-02-19 17:33:20,585] [0] Ed: 144000, train_loss: 1.19858, acc: 0.52335\n"
          ]
        },
        {
          "name": "stderr",
          "output_type": "stream",
          "text": [
            "INFO:root:[0] Ed: 147200, train_loss: 1.19827, acc: 0.52345\n"
          ]
        },
        {
          "name": "stdout",
          "output_type": "stream",
          "text": [
            "[INFO 2025-02-19 17:33:35,606] [0] Ed: 147200, train_loss: 1.19827, acc: 0.52345\n",
            "[INFO 2025-02-19 17:33:35,606] [0] Ed: 147200, train_loss: 1.19827, acc: 0.52345\n"
          ]
        },
        {
          "name": "stderr",
          "output_type": "stream",
          "text": [
            "INFO:root:[0] Ed: 150400, train_loss: 1.19764, acc: 0.52366\n"
          ]
        },
        {
          "name": "stdout",
          "output_type": "stream",
          "text": [
            "[INFO 2025-02-19 17:33:50,451] [0] Ed: 150400, train_loss: 1.19764, acc: 0.52366\n",
            "[INFO 2025-02-19 17:33:50,451] [0] Ed: 150400, train_loss: 1.19764, acc: 0.52366\n"
          ]
        },
        {
          "name": "stderr",
          "output_type": "stream",
          "text": [
            "INFO:root:[0] Ed: 153600, train_loss: 1.19736, acc: 0.52381\n"
          ]
        },
        {
          "name": "stdout",
          "output_type": "stream",
          "text": [
            "[INFO 2025-02-19 17:34:05,302] [0] Ed: 153600, train_loss: 1.19736, acc: 0.52381\n",
            "[INFO 2025-02-19 17:34:05,302] [0] Ed: 153600, train_loss: 1.19736, acc: 0.52381\n"
          ]
        },
        {
          "name": "stderr",
          "output_type": "stream",
          "text": [
            "INFO:root:[0] Ed: 156800, train_loss: 1.19708, acc: 0.52379\n"
          ]
        },
        {
          "name": "stdout",
          "output_type": "stream",
          "text": [
            "[INFO 2025-02-19 17:34:20,878] [0] Ed: 156800, train_loss: 1.19708, acc: 0.52379\n",
            "[INFO 2025-02-19 17:34:20,878] [0] Ed: 156800, train_loss: 1.19708, acc: 0.52379\n"
          ]
        },
        {
          "name": "stderr",
          "output_type": "stream",
          "text": [
            "INFO:root:[0] Ed: 160000, train_loss: 1.19659, acc: 0.52409\n"
          ]
        },
        {
          "name": "stdout",
          "output_type": "stream",
          "text": [
            "[INFO 2025-02-19 17:34:35,646] [0] Ed: 160000, train_loss: 1.19659, acc: 0.52409\n",
            "[INFO 2025-02-19 17:34:35,646] [0] Ed: 160000, train_loss: 1.19659, acc: 0.52409\n"
          ]
        },
        {
          "name": "stderr",
          "output_type": "stream",
          "text": [
            "INFO:root:[0] Ed: 163200, train_loss: 1.19631, acc: 0.52410\n"
          ]
        },
        {
          "name": "stdout",
          "output_type": "stream",
          "text": [
            "[INFO 2025-02-19 17:34:50,436] [0] Ed: 163200, train_loss: 1.19631, acc: 0.52410\n",
            "[INFO 2025-02-19 17:34:50,436] [0] Ed: 163200, train_loss: 1.19631, acc: 0.52410\n"
          ]
        },
        {
          "name": "stderr",
          "output_type": "stream",
          "text": [
            "INFO:root:[0] Ed: 166400, train_loss: 1.19659, acc: 0.52394\n"
          ]
        },
        {
          "name": "stdout",
          "output_type": "stream",
          "text": [
            "[INFO 2025-02-19 17:35:05,262] [0] Ed: 166400, train_loss: 1.19659, acc: 0.52394\n",
            "[INFO 2025-02-19 17:35:05,262] [0] Ed: 166400, train_loss: 1.19659, acc: 0.52394\n"
          ]
        },
        {
          "name": "stderr",
          "output_type": "stream",
          "text": [
            "INFO:root:[0] Ed: 169600, train_loss: 1.19681, acc: 0.52393\n"
          ]
        },
        {
          "name": "stdout",
          "output_type": "stream",
          "text": [
            "[INFO 2025-02-19 17:35:20,031] [0] Ed: 169600, train_loss: 1.19681, acc: 0.52393\n",
            "[INFO 2025-02-19 17:35:20,031] [0] Ed: 169600, train_loss: 1.19681, acc: 0.52393\n"
          ]
        },
        {
          "name": "stderr",
          "output_type": "stream",
          "text": [
            "INFO:root:[0] Ed: 172800, train_loss: 1.19641, acc: 0.52409\n"
          ]
        },
        {
          "name": "stdout",
          "output_type": "stream",
          "text": [
            "[INFO 2025-02-19 17:35:35,345] [0] Ed: 172800, train_loss: 1.19641, acc: 0.52409\n",
            "[INFO 2025-02-19 17:35:35,345] [0] Ed: 172800, train_loss: 1.19641, acc: 0.52409\n"
          ]
        },
        {
          "name": "stderr",
          "output_type": "stream",
          "text": [
            "INFO:root:[0] Ed: 176000, train_loss: 1.19613, acc: 0.52413\n"
          ]
        },
        {
          "name": "stdout",
          "output_type": "stream",
          "text": [
            "[INFO 2025-02-19 17:35:50,531] [0] Ed: 176000, train_loss: 1.19613, acc: 0.52413\n",
            "[INFO 2025-02-19 17:35:50,531] [0] Ed: 176000, train_loss: 1.19613, acc: 0.52413\n"
          ]
        },
        {
          "name": "stderr",
          "output_type": "stream",
          "text": [
            "INFO:root:[0] Ed: 179200, train_loss: 1.19574, acc: 0.52436\n"
          ]
        },
        {
          "name": "stdout",
          "output_type": "stream",
          "text": [
            "[INFO 2025-02-19 17:36:05,348] [0] Ed: 179200, train_loss: 1.19574, acc: 0.52436\n",
            "[INFO 2025-02-19 17:36:05,348] [0] Ed: 179200, train_loss: 1.19574, acc: 0.52436\n"
          ]
        },
        {
          "name": "stderr",
          "output_type": "stream",
          "text": [
            "INFO:root:[0] Ed: 182400, train_loss: 1.19577, acc: 0.52441\n"
          ]
        },
        {
          "name": "stdout",
          "output_type": "stream",
          "text": [
            "[INFO 2025-02-19 17:36:20,125] [0] Ed: 182400, train_loss: 1.19577, acc: 0.52441\n",
            "[INFO 2025-02-19 17:36:20,125] [0] Ed: 182400, train_loss: 1.19577, acc: 0.52441\n"
          ]
        },
        {
          "name": "stderr",
          "output_type": "stream",
          "text": [
            "INFO:root:[0] Ed: 185600, train_loss: 1.19548, acc: 0.52448\n"
          ]
        },
        {
          "name": "stdout",
          "output_type": "stream",
          "text": [
            "[INFO 2025-02-19 17:36:34,968] [0] Ed: 185600, train_loss: 1.19548, acc: 0.52448\n",
            "[INFO 2025-02-19 17:36:34,968] [0] Ed: 185600, train_loss: 1.19548, acc: 0.52448\n"
          ]
        },
        {
          "name": "stderr",
          "output_type": "stream",
          "text": [
            "INFO:root:[0] Ed: 188800, train_loss: 1.19515, acc: 0.52479\n"
          ]
        },
        {
          "name": "stdout",
          "output_type": "stream",
          "text": [
            "[INFO 2025-02-19 17:36:49,711] [0] Ed: 188800, train_loss: 1.19515, acc: 0.52479\n",
            "[INFO 2025-02-19 17:36:49,711] [0] Ed: 188800, train_loss: 1.19515, acc: 0.52479\n"
          ]
        },
        {
          "name": "stderr",
          "output_type": "stream",
          "text": [
            "INFO:root:[0] Ed: 192000, train_loss: 1.19539, acc: 0.52469\n"
          ]
        },
        {
          "name": "stdout",
          "output_type": "stream",
          "text": [
            "[INFO 2025-02-19 17:37:05,285] [0] Ed: 192000, train_loss: 1.19539, acc: 0.52469\n",
            "[INFO 2025-02-19 17:37:05,285] [0] Ed: 192000, train_loss: 1.19539, acc: 0.52469\n"
          ]
        },
        {
          "name": "stderr",
          "output_type": "stream",
          "text": [
            "INFO:root:[0] Ed: 195200, train_loss: 1.19517, acc: 0.52490\n"
          ]
        },
        {
          "name": "stdout",
          "output_type": "stream",
          "text": [
            "[INFO 2025-02-19 17:37:20,174] [0] Ed: 195200, train_loss: 1.19517, acc: 0.52490\n",
            "[INFO 2025-02-19 17:37:20,174] [0] Ed: 195200, train_loss: 1.19517, acc: 0.52490\n"
          ]
        },
        {
          "name": "stderr",
          "output_type": "stream",
          "text": [
            "INFO:root:[0] Ed: 198400, train_loss: 1.19523, acc: 0.52504\n"
          ]
        },
        {
          "name": "stdout",
          "output_type": "stream",
          "text": [
            "[INFO 2025-02-19 17:37:35,158] [0] Ed: 198400, train_loss: 1.19523, acc: 0.52504\n",
            "[INFO 2025-02-19 17:37:35,158] [0] Ed: 198400, train_loss: 1.19523, acc: 0.52504\n"
          ]
        },
        {
          "name": "stderr",
          "output_type": "stream",
          "text": [
            "INFO:root:[0] Ed: 201600, train_loss: 1.19501, acc: 0.52514\n"
          ]
        },
        {
          "name": "stdout",
          "output_type": "stream",
          "text": [
            "[INFO 2025-02-19 17:37:50,106] [0] Ed: 201600, train_loss: 1.19501, acc: 0.52514\n",
            "[INFO 2025-02-19 17:37:50,106] [0] Ed: 201600, train_loss: 1.19501, acc: 0.52514\n"
          ]
        },
        {
          "name": "stderr",
          "output_type": "stream",
          "text": [
            "INFO:root:[0] Ed: 204800, train_loss: 1.19505, acc: 0.52506\n"
          ]
        },
        {
          "name": "stdout",
          "output_type": "stream",
          "text": [
            "[INFO 2025-02-19 17:38:04,964] [0] Ed: 204800, train_loss: 1.19505, acc: 0.52506\n",
            "[INFO 2025-02-19 17:38:04,964] [0] Ed: 204800, train_loss: 1.19505, acc: 0.52506\n"
          ]
        },
        {
          "name": "stderr",
          "output_type": "stream",
          "text": [
            "INFO:root:[0] Ed: 208000, train_loss: 1.19526, acc: 0.52498\n"
          ]
        },
        {
          "name": "stdout",
          "output_type": "stream",
          "text": [
            "[INFO 2025-02-19 17:38:20,271] [0] Ed: 208000, train_loss: 1.19526, acc: 0.52498\n",
            "[INFO 2025-02-19 17:38:20,271] [0] Ed: 208000, train_loss: 1.19526, acc: 0.52498\n"
          ]
        },
        {
          "name": "stderr",
          "output_type": "stream",
          "text": [
            "INFO:root:[0] Ed: 211200, train_loss: 1.19539, acc: 0.52479\n"
          ]
        },
        {
          "name": "stdout",
          "output_type": "stream",
          "text": [
            "[INFO 2025-02-19 17:38:35,580] [0] Ed: 211200, train_loss: 1.19539, acc: 0.52479\n",
            "[INFO 2025-02-19 17:38:35,580] [0] Ed: 211200, train_loss: 1.19539, acc: 0.52479\n"
          ]
        },
        {
          "name": "stderr",
          "output_type": "stream",
          "text": [
            "INFO:root:[0] Ed: 214400, train_loss: 1.19528, acc: 0.52485\n"
          ]
        },
        {
          "name": "stdout",
          "output_type": "stream",
          "text": [
            "[INFO 2025-02-19 17:38:50,577] [0] Ed: 214400, train_loss: 1.19528, acc: 0.52485\n",
            "[INFO 2025-02-19 17:38:50,577] [0] Ed: 214400, train_loss: 1.19528, acc: 0.52485\n"
          ]
        },
        {
          "name": "stderr",
          "output_type": "stream",
          "text": [
            "INFO:root:[0] Ed: 217600, train_loss: 1.19504, acc: 0.52481\n"
          ]
        },
        {
          "name": "stdout",
          "output_type": "stream",
          "text": [
            "[INFO 2025-02-19 17:39:05,395] [0] Ed: 217600, train_loss: 1.19504, acc: 0.52481\n",
            "[INFO 2025-02-19 17:39:05,395] [0] Ed: 217600, train_loss: 1.19504, acc: 0.52481\n"
          ]
        },
        {
          "name": "stderr",
          "output_type": "stream",
          "text": [
            "INFO:root:[0] Ed: 220800, train_loss: 1.19470, acc: 0.52487\n"
          ]
        },
        {
          "name": "stdout",
          "output_type": "stream",
          "text": [
            "[INFO 2025-02-19 17:39:20,239] [0] Ed: 220800, train_loss: 1.19470, acc: 0.52487\n",
            "[INFO 2025-02-19 17:39:20,239] [0] Ed: 220800, train_loss: 1.19470, acc: 0.52487\n"
          ]
        },
        {
          "name": "stderr",
          "output_type": "stream",
          "text": [
            "INFO:root:[0] Ed: 224000, train_loss: 1.19426, acc: 0.52503\n"
          ]
        },
        {
          "name": "stdout",
          "output_type": "stream",
          "text": [
            "[INFO 2025-02-19 17:39:35,868] [0] Ed: 224000, train_loss: 1.19426, acc: 0.52503\n",
            "[INFO 2025-02-19 17:39:35,868] [0] Ed: 224000, train_loss: 1.19426, acc: 0.52503\n"
          ]
        },
        {
          "name": "stderr",
          "output_type": "stream",
          "text": [
            "INFO:root:[0] Ed: 227200, train_loss: 1.19396, acc: 0.52522\n"
          ]
        },
        {
          "name": "stdout",
          "output_type": "stream",
          "text": [
            "[INFO 2025-02-19 17:39:51,400] [0] Ed: 227200, train_loss: 1.19396, acc: 0.52522\n",
            "[INFO 2025-02-19 17:39:51,400] [0] Ed: 227200, train_loss: 1.19396, acc: 0.52522\n"
          ]
        },
        {
          "name": "stderr",
          "output_type": "stream",
          "text": [
            "INFO:root:[0] Ed: 230400, train_loss: 1.19371, acc: 0.52532\n"
          ]
        },
        {
          "name": "stdout",
          "output_type": "stream",
          "text": [
            "[INFO 2025-02-19 17:40:06,285] [0] Ed: 230400, train_loss: 1.19371, acc: 0.52532\n",
            "[INFO 2025-02-19 17:40:06,285] [0] Ed: 230400, train_loss: 1.19371, acc: 0.52532\n"
          ]
        },
        {
          "name": "stderr",
          "output_type": "stream",
          "text": [
            "INFO:root:[0] Ed: 233600, train_loss: 1.19323, acc: 0.52553\n"
          ]
        },
        {
          "name": "stdout",
          "output_type": "stream",
          "text": [
            "[INFO 2025-02-19 17:40:21,087] [0] Ed: 233600, train_loss: 1.19323, acc: 0.52553\n",
            "[INFO 2025-02-19 17:40:21,087] [0] Ed: 233600, train_loss: 1.19323, acc: 0.52553\n"
          ]
        },
        {
          "name": "stderr",
          "output_type": "stream",
          "text": [
            "INFO:root:Training finish.\n"
          ]
        },
        {
          "name": "stdout",
          "output_type": "stream",
          "text": [
            "[INFO 2025-02-19 17:40:33,786] Training finish.\n",
            "[INFO 2025-02-19 17:40:33,786] Training finish.\n"
          ]
        },
        {
          "name": "stderr",
          "output_type": "stream",
          "text": [
            "INFO:root:Model saved to /content/model/epoch-5.pt.\n"
          ]
        },
        {
          "name": "stdout",
          "output_type": "stream",
          "text": [
            "[INFO 2025-02-19 17:40:33,831] Model saved to /content/model/epoch-5.pt.\n",
            "[INFO 2025-02-19 17:40:33,831] Model saved to /content/model/epoch-5.pt.\n"
          ]
        }
      ],
      "source": [
        "import torch.optim as optim\n",
        "news_combined = np.concatenate([x for x in [news_title] if x is not None], axis=-1)\n",
        "\n",
        "model = NRMS(args, embedding_matrix)\n",
        "if args.enable_gpu:\n",
        "    model = model.cuda(0)\n",
        "is_distributed = False\n",
        "if args.load_ckpt_name is not None:\n",
        "\tckpt_path = get_checkpoint(args.model_dir, args.load_ckpt_name)\n",
        "\tcheckpoint = torch.load(ckpt_path, map_location='cpu')\n",
        "\tmodel.load_state_dict(checkpoint['model_state_dict'])\n",
        "\tlogging.info(f\"Model loaded from {ckpt_path}.\")\n",
        "\n",
        "optimizer = optim.Adam(model.parameters(), lr=args.lr)\n",
        "\n",
        "if args.enable_gpu:\n",
        "\tmodel = model.cuda(rank)\n",
        "\n",
        "if is_distributed:\n",
        "\tmodel = torch.nn.parallel.DistributedDataParallel(model, device_ids=[rank])\n",
        "\n",
        "data_file_path = os.path.join(args.train_data_dir, f'behaviors_np{args.npratio}_{rank}.tsv')\n",
        "\n",
        "dataset = DatasetTrain(data_file_path, news_index, news_combined, args)\n",
        "dataloader = DataLoader(dataset, batch_size=args.batch_size)\n",
        "\n",
        "logging.info('Training...')\n",
        "for ep in range(args.start_epoch, args.epochs):\n",
        "\tloss = 0.0\n",
        "\taccuary = 0.0\n",
        "\tfor cnt, (log_ids, input_ids, targets) in enumerate(dataloader):\n",
        "\t\tif args.enable_gpu:\n",
        "\t\t\tlog_ids = log_ids.cuda(rank, non_blocking=True)\n",
        "\t\t\t# log_mask = log_mask.cuda(rank, non_blocking=True)\n",
        "\t\t\tinput_ids = input_ids.cuda(rank, non_blocking=True)\n",
        "\t\t\ttargets = targets.cuda(rank, non_blocking=True)\n",
        "\n",
        "\n",
        "\t\tbz_loss, y_hat = model(log_ids, input_ids, targets)\n",
        "\t\tloss += bz_loss.data.float()\n",
        "\t\taccuary += acc(targets, y_hat)\n",
        "\t\toptimizer.zero_grad()\n",
        "\t\tbz_loss.backward()\n",
        "\t\toptimizer.step()\n",
        "\n",
        "\t\tif cnt % args.log_steps == 0:\n",
        "\t\t\tlogging.info(\n",
        "\t\t\t\t'[{}] Ed: {}, train_loss: {:.5f}, acc: {:.5f}'.format(\n",
        "\t\t\t\t\trank, cnt * args.batch_size, loss.data / cnt, accuary / cnt)\n",
        "\t\t\t)\n",
        "\n",
        "\t\tif rank == 0 and cnt != 0 and cnt % args.save_steps == 0:\n",
        "\t\t\tckpt_path = os.path.join(args.model_dir, f'epoch-{ep+1}-{cnt}.pt')\n",
        "\t\t\ttorch.save(\n",
        "\t\t\t\t{\n",
        "\t\t\t\t\t'model_state_dict':\n",
        "\t\t\t\t\t\t{'.'.join(k.split('.')[1:]): v for k, v in model.state_dict().items()}\n",
        "\t\t\t\t\t\tif is_distributed else model.state_dict(),\n",
        "\t\t\t\t\t'category_dict': category_dict,\n",
        "\t\t\t\t\t'word_dict': word_dict,\n",
        "\t\t\t\t\t'subcategory_dict': subcategory_dict\n",
        "\t\t\t\t}, ckpt_path)\n",
        "\t\t\tlogging.info(f\"Model saved to {ckpt_path}.\")\n",
        "\n",
        "\tlogging.info('Training finish.')\n",
        "\n",
        "\tif rank == 0:\n",
        "\t\tckpt_path = os.path.join(args.model_dir, f'epoch-{ep+1}.pt')\n",
        "\t\ttorch.save(\n",
        "\t\t\t{\n",
        "\t\t\t\t'model_state_dict':\n",
        "\t\t\t\t\t{'.'.join(k.split('.')[1:]): v for k, v in model.state_dict().items()}\n",
        "\t\t\t\t\tif is_distributed else model.state_dict(),\n",
        "\t\t\t\t'category_dict': category_dict,\n",
        "\t\t\t\t'subcategory_dict': subcategory_dict,\n",
        "\t\t\t\t'word_dict': word_dict,\n",
        "\t\t\t}, ckpt_path)\n",
        "\t\tlogging.info(f\"Model saved to {ckpt_path}.\")\n",
        "\n"
      ]
    },
    {
      "cell_type": "code",
      "execution_count": null,
      "metadata": {
        "id": "vnEfHAuUZONo"
      },
      "outputs": [],
      "source": [
        "def test(rank, args):\n",
        "    is_distributed = False\n",
        "\n",
        "    torch.cuda.set_device(rank)\n",
        "\n",
        "    if args.load_ckpt_name is not None:\n",
        "        ckpt_path = get_checkpoint(args.model_dir, args.load_ckpt_name)\n",
        "\n",
        "    assert ckpt_path is not None, 'No checkpoint found.'\n",
        "    checkpoint = torch.load(ckpt_path, map_location='cpu')\n",
        "\n",
        "    subcategory_dict = checkpoint['subcategory_dict']\n",
        "    category_dict = checkpoint['category_dict']\n",
        "    word_dict = checkpoint['word_dict']\n",
        "\n",
        "    dummy_embedding_matrix = np.zeros((len(word_dict) + 1, args.word_embedding_dim))\n",
        "    model = NRMS(args, dummy_embedding_matrix)\n",
        "    model.load_state_dict(checkpoint['model_state_dict'])\n",
        "    logging.info(f\"Model loaded from {ckpt_path}\")\n",
        "\n",
        "    if args.enable_gpu:\n",
        "        model.cuda(rank)\n",
        "\n",
        "    model.eval()\n",
        "    torch.set_grad_enabled(False)\n",
        "\n",
        "    news, news_index, category_dict, subcategory_dict, word_dict = read_news(\n",
        "        os.path.join(args.train_data_dir, 'news.tsv'), args.test_abstract_dir, args, mode='train')\n",
        "    news_title, news_category, news_subcategory, news_abstract = get_doc_input(\n",
        "        news, news_index, category_dict, subcategory_dict, word_dict, args)\n",
        "    news_combined = np.concatenate([x for x in [news_title] if x is not None], axis=-1)\n",
        "\n",
        "    news_dataset = NewsDataset(news_combined)\n",
        "    news_dataloader = DataLoader(news_dataset,\n",
        "                                 batch_size=args.batch_size,\n",
        "                                 num_workers=4)\n",
        "\n",
        "    news_scoring = []\n",
        "    with torch.no_grad():\n",
        "        for input_ids in tqdm(news_dataloader):\n",
        "            input_ids = input_ids.cuda(rank)\n",
        "            news_vec = model.news_encoder(input_ids)\n",
        "            news_vec = news_vec.to(torch.device(\"cpu\")).detach().numpy()\n",
        "            news_scoring.extend(news_vec)\n",
        "\n",
        "    news_scoring = np.array(news_scoring)\n",
        "    logging.info(\"news scoring num: {}\".format(news_scoring.shape[0]))\n",
        "\n",
        "    if rank == 0:\n",
        "        doc_sim = 0\n",
        "        for _ in tqdm(range(1000000)):\n",
        "            i = random.randrange(1, len(news_scoring))\n",
        "            j = random.randrange(1, len(news_scoring))\n",
        "            if i != j:\n",
        "                doc_sim += np.dot(news_scoring[i], news_scoring[j]) / (np.linalg.norm(news_scoring[i]) * np.linalg.norm(news_scoring[j]))\n",
        "        logging.info(f'News doc-sim: {doc_sim / 1000000}')\n",
        "\n",
        "    data_file_path = os.path.join(args.test_data_dir, f'behaviors_{rank}.tsv')\n",
        "\n",
        "    def collate_fn(tuple_list):\n",
        "        log_vecs = torch.FloatTensor([x[0] for x in tuple_list])\n",
        "        # log_mask = torch.FloatTensor([x[1] for x in tuple_list])\n",
        "        news_vecs = [x[1] for x in tuple_list]\n",
        "        labels = [x[2] for x in tuple_list]\n",
        "        return (log_vecs, news_vecs, labels)\n",
        "\n",
        "    dataset = DatasetTest(data_file_path, news_index, news_scoring, args)\n",
        "    dataloader = DataLoader(dataset, batch_size=args.batch_size, collate_fn=collate_fn)\n",
        "\n",
        "    AUC = []\n",
        "    MRR = []\n",
        "    nDCG5 = []\n",
        "    nDCG10 = []\n",
        "\n",
        "    def print_metrics(rank, cnt, x):\n",
        "        logging.info(\"[{}] {} samples: {}\".format(rank, cnt, '\\t'.join([\"{:0.2f}\".format(i * 100) for i in x])))\n",
        "\n",
        "    def get_mean(arr):\n",
        "        return [np.array(i).mean() for i in arr]\n",
        "\n",
        "    def get_sum(arr):\n",
        "        return [np.array(i).sum() for i in arr]\n",
        "\n",
        "    local_sample_num = 0\n",
        "\n",
        "    for cnt, (log_vecs, news_vecs, labels) in enumerate(dataloader):\n",
        "        local_sample_num += log_vecs.shape[0]\n",
        "\n",
        "        if args.enable_gpu:\n",
        "            log_vecs = log_vecs.cuda(rank, non_blocking=True)\n",
        "\n",
        "        user_vecs = model.user_encoder(log_vecs).to(torch.device(\"cpu\")).detach().numpy()\n",
        "\n",
        "        for user_vec, news_vec, label in zip(user_vecs, news_vecs, labels):\n",
        "            if label.mean() == 0 or label.mean() == 1:\n",
        "                continue\n",
        "\n",
        "            score = np.dot(news_vec, user_vec)\n",
        "\n",
        "            auc = roc_auc_score(label, score)\n",
        "            mrr = mrr_score(label, score)\n",
        "            ndcg5 = ndcg_score(label, score, k=5)\n",
        "            ndcg10 = ndcg_score(label, score, k=10)\n",
        "\n",
        "            AUC.append(auc)\n",
        "            MRR.append(mrr)\n",
        "            nDCG5.append(ndcg5)\n",
        "            nDCG10.append(ndcg10)\n",
        "\n",
        "        if cnt % args.log_steps == 0:\n",
        "            print_metrics(rank, local_sample_num, get_mean([AUC, MRR, nDCG5, nDCG10]))\n",
        "\n",
        "    logging.info('[{}] local_sample_num: {}'.format(rank, local_sample_num))\n",
        "    if is_distributed:\n",
        "        local_sample_num = torch.tensor(local_sample_num).cuda(rank)\n",
        "        dist.reduce(local_sample_num, dst=0, op=dist.ReduceOp.SUM)\n",
        "        local_metrics_sum = torch.FloatTensor(get_sum([AUC, MRR, nDCG5, nDCG10])).cuda(rank)\n",
        "        dist.reduce(local_metrics_sum, dst=0, op=dist.ReduceOp.SUM)\n",
        "        if rank == 0:\n",
        "            print_metrics('*', local_sample_num, local_metrics_sum / local_sample_num)\n",
        "    else:\n",
        "        print_metrics('*', local_sample_num, get_mean([AUC, MRR, nDCG5, nDCG10]))\n"
      ]
    },
    {
      "cell_type": "code",
      "execution_count": null,
      "metadata": {
        "colab": {
          "base_uri": "https://localhost:8080/"
        },
        "id": "uvyl4jTjg9ca",
        "outputId": "c06f9168-c60d-43c1-ea0b-97a36b2c3dca"
      },
      "outputs": [
        {
          "name": "stderr",
          "output_type": "stream",
          "text": [
            "INFO:root:Preparing testing data...\n"
          ]
        },
        {
          "name": "stdout",
          "output_type": "stream",
          "text": [
            "[INFO 2025-02-19 17:40:34,938] Preparing testing data...\n",
            "[INFO 2025-02-19 17:40:34,938] Preparing testing data...\n"
          ]
        },
        {
          "name": "stderr",
          "output_type": "stream",
          "text": [
            "73152it [00:04, 15900.24it/s]\n",
            "INFO:root:Writing files...\n"
          ]
        },
        {
          "name": "stdout",
          "output_type": "stream",
          "text": [
            "[INFO 2025-02-19 17:40:39,870] Writing files...\n",
            "[INFO 2025-02-19 17:40:39,870] Writing files...\n"
          ]
        },
        {
          "name": "stderr",
          "output_type": "stream",
          "text": [
            "INFO:root:73152 testing samples in total.\n"
          ]
        },
        {
          "name": "stdout",
          "output_type": "stream",
          "text": [
            "[INFO 2025-02-19 17:40:45,042] 73152 testing samples in total.\n",
            "[INFO 2025-02-19 17:40:45,042] 73152 testing samples in total.\n"
          ]
        }
      ],
      "source": [
        "args.mode = 'test'\n",
        "args.user_log_mask=True\n",
        "args.batch_size=128\n",
        "args.load_ckpt_name= 'epoch-5.pt'\n",
        "args.prepare=True\n",
        "if 'test' in args.mode:\n",
        "        if args.prepare:\n",
        "            logging.info('Preparing testing data...')\n",
        "            total_sample_num = prepare_testing_data(args.test_data_dir, args.nGPU)\n",
        "        else:\n",
        "            total_sample_num = 0\n",
        "            for i in range(args.nGPU):\n",
        "                data_file_path = os.path.join(args.test_data_dir, f'behaviors_{i}.tsv')\n",
        "                if not os.path.exists(data_file_path):\n",
        "                    logging.error(f'Splited testing data {data_file_path} for GPU {i} does not exist. Please set the parameter --prepare as True and rerun the code.')\n",
        "                    exit()\n",
        "                result = subprocess.getoutput(f'wc -l {data_file_path}')\n",
        "                total_sample_num += int(result.split(' ')[0])\n",
        "            logging.info('Skip testing data preparation.')\n",
        "        logging.info(f'{total_sample_num} testing samples in total.')\n",
        "\n"
      ]
    },
    {
      "cell_type": "code",
      "execution_count": null,
      "metadata": {
        "colab": {
          "base_uri": "https://localhost:8080/"
        },
        "id": "cUQSere6hAKy",
        "outputId": "d133ef9e-e58a-4ff7-c3e2-12e43e1ba608"
      },
      "outputs": [
        {
          "name": "stderr",
          "output_type": "stream",
          "text": [
            "<ipython-input-36-344a7e7e98c1>:10: FutureWarning: You are using `torch.load` with `weights_only=False` (the current default value), which uses the default pickle module implicitly. It is possible to construct malicious pickle data which will execute arbitrary code during unpickling (See https://github.com/pytorch/pytorch/blob/main/SECURITY.md#untrusted-models for more details). In a future release, the default value for `weights_only` will be flipped to `True`. This limits the functions that could be executed during unpickling. Arbitrary objects will no longer be allowed to be loaded via this mode unless they are explicitly allowlisted by the user via `torch.serialization.add_safe_globals`. We recommend you start setting `weights_only=True` for any use case where you don't have full control of the loaded file. Please open an issue on GitHub for any issues related to this experimental feature.\n",
            "  checkpoint = torch.load(ckpt_path, map_location='cpu')\n",
            "INFO:root:Model loaded from /content/model/epoch-5.pt\n"
          ]
        },
        {
          "name": "stdout",
          "output_type": "stream",
          "text": [
            "[INFO 2025-02-19 17:43:09,698] Model loaded from /content/model/epoch-5.pt\n",
            "[INFO 2025-02-19 17:43:09,698] Model loaded from /content/model/epoch-5.pt\n"
          ]
        },
        {
          "name": "stderr",
          "output_type": "stream",
          "text": [
            "51282it [00:04, 12052.85it/s]\n",
            "100%|██████████| 51282/51282 [00:00<00:00, 187115.04it/s]\n",
            "/usr/local/lib/python3.11/dist-packages/torch/utils/data/dataloader.py:617: UserWarning: This DataLoader will create 4 worker processes in total. Our suggested max number of worker in current system is 2, which is smaller than what this DataLoader is going to create. Please be aware that excessive worker creation might get DataLoader running slow or even freeze, lower the worker number to avoid potential slowness/freeze if necessary.\n",
            "  warnings.warn(\n",
            "100%|██████████| 401/401 [00:01<00:00, 313.05it/s]\n",
            "INFO:root:news scoring num: 51283\n"
          ]
        },
        {
          "name": "stdout",
          "output_type": "stream",
          "text": [
            "[INFO 2025-02-19 17:43:15,751] news scoring num: 51283\n",
            "[INFO 2025-02-19 17:43:15,751] news scoring num: 51283\n"
          ]
        },
        {
          "name": "stderr",
          "output_type": "stream",
          "text": [
            "100%|██████████| 1000000/1000000 [00:10<00:00, 97864.41it/s]\n",
            "INFO:root:News doc-sim: 0.05019143021884577\n"
          ]
        },
        {
          "name": "stdout",
          "output_type": "stream",
          "text": [
            "[INFO 2025-02-19 17:43:25,975] News doc-sim: 0.05019143021884577\n",
            "[INFO 2025-02-19 17:43:25,975] News doc-sim: 0.05019143021884577\n"
          ]
        },
        {
          "name": "stderr",
          "output_type": "stream",
          "text": [
            "INFO:root:[0] 128 samples: 65.98\t31.36\t34.26\t40.93\n"
          ]
        },
        {
          "name": "stdout",
          "output_type": "stream",
          "text": [
            "[INFO 2025-02-19 17:43:26,536] [0] 128 samples: 65.98\t31.36\t34.26\t40.93\n",
            "[INFO 2025-02-19 17:43:26,536] [0] 128 samples: 65.98\t31.36\t34.26\t40.93\n"
          ]
        },
        {
          "name": "stderr",
          "output_type": "stream",
          "text": [
            "INFO:root:[0] 12928 samples: 64.16\t30.57\t33.30\t39.53\n"
          ]
        },
        {
          "name": "stdout",
          "output_type": "stream",
          "text": [
            "[INFO 2025-02-19 17:44:32,354] [0] 12928 samples: 64.16\t30.57\t33.30\t39.53\n",
            "[INFO 2025-02-19 17:44:32,354] [0] 12928 samples: 64.16\t30.57\t33.30\t39.53\n"
          ]
        },
        {
          "name": "stderr",
          "output_type": "stream",
          "text": [
            "INFO:root:[0] 25728 samples: 64.29\t30.83\t33.59\t39.75\n"
          ]
        },
        {
          "name": "stdout",
          "output_type": "stream",
          "text": [
            "[INFO 2025-02-19 17:45:39,188] [0] 25728 samples: 64.29\t30.83\t33.59\t39.75\n",
            "[INFO 2025-02-19 17:45:39,188] [0] 25728 samples: 64.29\t30.83\t33.59\t39.75\n"
          ]
        },
        {
          "name": "stderr",
          "output_type": "stream",
          "text": [
            "INFO:root:[0] 38528 samples: 64.24\t30.72\t33.50\t39.67\n"
          ]
        },
        {
          "name": "stdout",
          "output_type": "stream",
          "text": [
            "[INFO 2025-02-19 17:46:44,761] [0] 38528 samples: 64.24\t30.72\t33.50\t39.67\n",
            "[INFO 2025-02-19 17:46:44,761] [0] 38528 samples: 64.24\t30.72\t33.50\t39.67\n"
          ]
        },
        {
          "name": "stderr",
          "output_type": "stream",
          "text": [
            "INFO:root:[0] 51328 samples: 64.15\t30.49\t33.26\t39.43\n"
          ]
        },
        {
          "name": "stdout",
          "output_type": "stream",
          "text": [
            "[INFO 2025-02-19 17:47:50,154] [0] 51328 samples: 64.15\t30.49\t33.26\t39.43\n",
            "[INFO 2025-02-19 17:47:50,154] [0] 51328 samples: 64.15\t30.49\t33.26\t39.43\n"
          ]
        },
        {
          "name": "stderr",
          "output_type": "stream",
          "text": [
            "INFO:root:[0] 64128 samples: 64.11\t30.54\t33.30\t39.48\n"
          ]
        },
        {
          "name": "stdout",
          "output_type": "stream",
          "text": [
            "[INFO 2025-02-19 17:48:55,845] [0] 64128 samples: 64.11\t30.54\t33.30\t39.48\n",
            "[INFO 2025-02-19 17:48:55,845] [0] 64128 samples: 64.11\t30.54\t33.30\t39.48\n"
          ]
        },
        {
          "name": "stderr",
          "output_type": "stream",
          "text": [
            "INFO:root:[0] local_sample_num: 73152\n"
          ]
        },
        {
          "name": "stdout",
          "output_type": "stream",
          "text": [
            "[INFO 2025-02-19 17:49:42,951] [0] local_sample_num: 73152\n",
            "[INFO 2025-02-19 17:49:42,951] [0] local_sample_num: 73152\n"
          ]
        },
        {
          "name": "stderr",
          "output_type": "stream",
          "text": [
            "INFO:root:[*] 73152 samples: 64.10\t30.59\t33.36\t39.52\n"
          ]
        },
        {
          "name": "stdout",
          "output_type": "stream",
          "text": [
            "[INFO 2025-02-19 17:49:43,011] [*] 73152 samples: 64.10\t30.59\t33.36\t39.52\n",
            "[INFO 2025-02-19 17:49:43,011] [*] 73152 samples: 64.10\t30.59\t33.36\t39.52\n"
          ]
        }
      ],
      "source": [
        "test(0, args)"
      ]
    },
    {
      "cell_type": "code",
      "execution_count": null,
      "metadata": {
        "id": "2g9euVCuhBrP"
      },
      "outputs": [],
      "source": []
    }
  ],
  "metadata": {
    "accelerator": "GPU",
    "colab": {
      "gpuType": "L4",
      "machine_shape": "hm",
      "provenance": []
    },
    "kernelspec": {
      "display_name": "Python 3",
      "name": "python3"
    },
    "language_info": {
      "codemirror_mode": {
        "name": "ipython",
        "version": 3
      },
      "file_extension": ".py",
      "mimetype": "text/x-python",
      "name": "python",
      "nbconvert_exporter": "python",
      "pygments_lexer": "ipython3",
      "version": "3.12.2"
    }
  },
  "nbformat": 4,
  "nbformat_minor": 0
}
