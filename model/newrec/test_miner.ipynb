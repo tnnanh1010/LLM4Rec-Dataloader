{
 "cells": [
  {
   "cell_type": "code",
   "execution_count": 1,
   "metadata": {},
   "outputs": [
    {
     "name": "stdout",
     "output_type": "stream",
     "text": [
      "✅ category2id.json and user2id.json have been created successfully!\n"
     ]
    }
   ],
   "source": [
    "import json\n",
    "\n",
    "# File paths (modify if needed)\n",
    "news_file = \"/home/vinmike/Documents/GitHub/LLM4Rec-Dataloader/data/MINDsmall_train/news.tsv\"\n",
    "behaviors_file = \"/home/vinmike/Documents/GitHub/LLM4Rec-Dataloader/data/MINDsmall_train/behaviors.tsv\"\n",
    "\n",
    "# Output files\n",
    "category2id_file = \"/home/vinmike/Documents/GitHub/LLM4Rec-Dataloader/data/MINDsmall_train/category2id.json\"\n",
    "user2id_file = \"/home/vinmike/Documents/GitHub/LLM4Rec-Dataloader/data/MINDsmall_train/user2id.json\"\n",
    "\n",
    "# Step 1: Extract unique categories from news.tsv\n",
    "categories = set()\n",
    "with open(news_file, \"r\", encoding=\"utf-8\") as f:\n",
    "    for line in f:\n",
    "        parts = line.strip().split(\"\\t\")\n",
    "        if len(parts) > 2:  # Ensure category column exists\n",
    "            categories.add(parts[2])  # Category is in the third column\n",
    "\n",
    "# Step 2: Extract unique users from behaviors.tsv\n",
    "users = set()\n",
    "with open(behaviors_file, \"r\", encoding=\"utf-8\") as f:\n",
    "    for line in f:\n",
    "        parts = line.strip().split(\"\\t\")\n",
    "        if len(parts) > 1:  # Ensure user ID column exists\n",
    "            users.add(parts[1])  # User ID is in the second column\n",
    "\n",
    "# Step 3: Create mappings with <pad> and <unk> tokens\n",
    "category2id = {\"<pad>\": 0, \"<unk>\": 1}\n",
    "user2id = {\"<pad>\": 0, \"<unk>\": 1}\n",
    "\n",
    "# Assign IDs starting from 2 (since 0 and 1 are reserved for pad & unk)\n",
    "for idx, category in enumerate(sorted(categories), start=2):\n",
    "    category2id[category] = idx\n",
    "\n",
    "for idx, user in enumerate(sorted(users), start=2):\n",
    "    user2id[user] = idx\n",
    "\n",
    "# Step 4: Save mappings to JSON files\n",
    "with open(category2id_file, \"w\", encoding=\"utf-8\") as f:\n",
    "    json.dump(category2id, f, indent=4, ensure_ascii=False)\n",
    "\n",
    "with open(user2id_file, \"w\", encoding=\"utf-8\") as f:\n",
    "    json.dump(user2id, f, indent=4, ensure_ascii=False)\n",
    "\n",
    "print(\"✅ category2id.json and user2id.json have been created successfully!\")\n"
   ]
  },
  {
   "cell_type": "code",
   "execution_count": 1,
   "metadata": {},
   "outputs": [
    {
     "name": "stderr",
     "output_type": "stream",
     "text": [
      "/home/vinmike/.local/lib/python3.12/site-packages/tqdm/auto.py:21: TqdmWarning: IProgress not found. Please update jupyter and ipywidgets. See https://ipywidgets.readthedocs.io/en/stable/user_install.html\n",
      "  from .autonotebook import tqdm as notebook_tqdm\n"
     ]
    },
    {
     "data": {
      "text/plain": [
       "<torch._C.Generator at 0x7d0a1e192b70>"
      ]
     },
     "execution_count": 1,
     "metadata": {},
     "output_type": "execute_result"
    }
   ],
   "source": [
    "from argument import parse_miner_args\n",
    "from log import dump_args\n",
    "import random\n",
    "import torch\n",
    "from reader import Reader\n",
    "args = parse_miner_args()\n",
    "dump_args(args)\n",
    "random.seed(args.seed)\n",
    "torch.manual_seed(args.seed)\n",
    "\n"
   ]
  },
  {
   "cell_type": "code",
   "execution_count": 2,
   "metadata": {},
   "outputs": [
    {
     "ename": "ImportError",
     "evalue": "attempted relative import with no known parent package",
     "output_type": "error",
     "traceback": [
      "\u001b[0;31m---------------------------------------------------------------------------\u001b[0m",
      "\u001b[0;31mImportError\u001b[0m                               Traceback (most recent call last)",
      "Cell \u001b[0;32mIn[2], line 1\u001b[0m\n\u001b[0;32m----> 1\u001b[0m \u001b[38;5;28;01mfrom\u001b[39;00m \u001b[38;5;21;01mminer_trainer\u001b[39;00m \u001b[38;5;28;01mimport\u001b[39;00m Trainer\n\u001b[1;32m      2\u001b[0m trainer \u001b[38;5;241m=\u001b[39m Trainer(args)\n\u001b[1;32m      3\u001b[0m trainer\u001b[38;5;241m.\u001b[39mtrain()\n",
      "File \u001b[0;32m~/Documents/GitHub/LLM4Rec-Dataloader/model/newrec/miner_trainer.py:16\u001b[0m\n\u001b[1;32m     13\u001b[0m \u001b[38;5;28;01mfrom\u001b[39;00m \u001b[38;5;21;01mtransformers\u001b[39;00m \u001b[38;5;28;01mimport\u001b[39;00m AutoTokenizer, RobertaConfig\n\u001b[1;32m     15\u001b[0m \u001b[38;5;28;01mimport\u001b[39;00m \u001b[38;5;21;01mutils\u001b[39;00m\n\u001b[0;32m---> 16\u001b[0m \u001b[38;5;28;01mfrom\u001b[39;00m \u001b[38;5;21;01m.\u001b[39;00m\u001b[38;5;21;01mbase_trainer\u001b[39;00m \u001b[38;5;28;01mimport\u001b[39;00m BaseTrainer\n\u001b[1;32m     17\u001b[0m \u001b[38;5;28;01mfrom\u001b[39;00m \u001b[38;5;21;01m.\u001b[39;00m\u001b[38;5;21;01mentities\u001b[39;00m \u001b[38;5;28;01mimport\u001b[39;00m Dataset\n\u001b[1;32m     18\u001b[0m \u001b[38;5;28;01mfrom\u001b[39;00m \u001b[38;5;21;01m.\u001b[39;00m\u001b[38;5;21;01mevaluation\u001b[39;00m \u001b[38;5;28;01mimport\u001b[39;00m FastEvaluator, SlowEvaluator\n",
      "\u001b[0;31mImportError\u001b[0m: attempted relative import with no known parent package"
     ]
    }
   ],
   "source": [
    "from miner_trainer import Trainer\n",
    "trainer = Trainer(args)\n",
    "trainer.train()"
   ]
  },
  {
   "cell_type": "code",
   "execution_count": null,
   "metadata": {},
   "outputs": [],
   "source": []
  }
 ],
 "metadata": {
  "kernelspec": {
   "display_name": "base",
   "language": "python",
   "name": "python3"
  },
  "language_info": {
   "codemirror_mode": {
    "name": "ipython",
    "version": 3
   },
   "file_extension": ".py",
   "mimetype": "text/x-python",
   "name": "python",
   "nbconvert_exporter": "python",
   "pygments_lexer": "ipython3",
   "version": "3.12.2"
  }
 },
 "nbformat": 4,
 "nbformat_minor": 2
}
