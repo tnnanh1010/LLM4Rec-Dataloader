{
  "cells": [
    {
      "cell_type": "code",
      "execution_count": null,
      "metadata": {
        "colab": {
          "base_uri": "https://localhost:8080/"
        },
        "id": "Jb2bDxXnL4Ot",
        "outputId": "24801ef3-476a-40d3-ada0-d4181d9a4cd0"
      },
      "outputs": [
        {
          "name": "stdout",
          "output_type": "stream",
          "text": [
            "Mounted at /content/drive\n"
          ]
        }
      ],
      "source": [
        "from google.colab import drive\n",
        "drive.mount('/content/drive')"
      ]
    },
    {
      "cell_type": "code",
      "execution_count": null,
      "metadata": {
        "id": "E7i79ErILbl8"
      },
      "outputs": [],
      "source": [
        "import pandas as pd\n",
        "from tqdm import tqdm\n",
        "from nltk.tokenize import word_tokenize\n",
        "from collections import Counter\n",
        "import numpy as np\n",
        "import random\n",
        "import logging\n",
        "import os\n",
        "import torch.optim as optim\n",
        "import torch.distributed as dist\n",
        "from torch.utils.data import DataLoader\n",
        "from pathlib import Path\n",
        "\n"
      ]
    },
    {
      "cell_type": "code",
      "execution_count": null,
      "metadata": {
        "id": "WxUXYhf2MjaM"
      },
      "outputs": [],
      "source": [
        "\n",
        "from dataclasses import dataclass\n",
        "from typing import Optional\n",
        "\n",
        "@dataclass\n",
        "class Args:\n",
        "    nGPU: int = 1\n",
        "    seed: int = 0\n",
        "    prepare: bool = True\n",
        "    mode: str = \"train\"\n",
        "    train_data_dir: str = \"/content/drive/MyDrive/Colab Notebooks/NewsRecommendation/data/MINDsmall_train\"\n",
        "    test_data_dir: str = \"/content/drive/MyDrive/Colab Notebooks/NewsRecommendation/data/MINDsmall_dev\"\n",
        "    train_abstract_dir: str = '/content/genAbs0.json'\n",
        "    # \"/content/drive/MyDrive/Colab Notebooks/NewsRecommendation/data/train_gen_abs.json\"\n",
        "    test_abstract_dir: str = '/content/genAbs0.json'\n",
        "    # \"/content/drive/MyDrive/Colab Notebooks/NewsRecommendation/data/Dev_gen_abs.json\"\n",
        "    model_dir: str = '/content/drive/MyDrive/Colab Notebooks/NewsRecommendation/NRMS_title'\n",
        "    batch_size: int = 32\n",
        "    npratio: int = 4\n",
        "    enable_gpu: bool = True\n",
        "    filter_num: int = 3\n",
        "    log_steps: int = 100\n",
        "    epochs: int = 5\n",
        "    lr: float = 0.0003\n",
        "    num_words_title: int = 20\n",
        "    num_words_abstract: int = 50\n",
        "    user_log_length: int = 50\n",
        "    word_embedding_dim: int = 300\n",
        "    glove_embedding_path: str = '/content/drive/MyDrive/Colab Notebooks/NewsRecommendation/data/glove.840B.300d.txt'\n",
        "    freeze_embedding: bool = False\n",
        "    news_dim: int = 400\n",
        "    news_query_vector_dim: int = 200\n",
        "    user_query_vector_dim: int = 200\n",
        "    num_attention_heads: int = 15\n",
        "    user_log_mask: bool = False\n",
        "    drop_rate: float = 0.2\n",
        "    save_steps: int = 10000\n",
        "    start_epoch: int = 0\n",
        "    load_ckpt_name: Optional[str] = None\n",
        "    use_category: bool = True\n",
        "    use_subcategory: bool = True\n",
        "    use_abstract: bool = True\n",
        "    use_custom_abstract: bool = True\n",
        "    category_emb_dim: int = 100\n",
        "\n",
        "def parse_args():\n",
        "  return Args()\n"
      ]
    },
    {
      "cell_type": "markdown",
      "metadata": {
        "id": "s_SLKbAZpKFK"
      },
      "source": [
        "**Dataset.py**"
      ]
    },
    {
      "cell_type": "code",
      "execution_count": null,
      "metadata": {
        "id": "pqMrlk2u-Hiv"
      },
      "outputs": [],
      "source": [
        "from torch.utils.data import IterableDataset, Dataset\n",
        "import numpy as np\n",
        "import random\n",
        "\n",
        "\n",
        "class DatasetTrain(IterableDataset):\n",
        "    def __init__(self, filename, news_index, news_combined, args):\n",
        "        super(DatasetTrain).__init__()\n",
        "        self.filename = filename\n",
        "        self.news_index = news_index\n",
        "        self.news_combined = news_combined\n",
        "        self.args = args\n",
        "\n",
        "    def trans_to_nindex(self, nids):\n",
        "        return [int(self.news_index[i]) if i in self.news_index else 0 for i in nids]\n",
        "\n",
        "    def pad_to_fix_len(self, x, fix_length, padding_front=True, padding_value=0):\n",
        "        if padding_front:\n",
        "            pad_x = [padding_value] * (fix_length - len(x)) + x[-fix_length:]\n",
        "            mask = [0] * (fix_length - len(x)) + [1] * min(fix_length, len(x))\n",
        "        else:\n",
        "            pad_x = x[-fix_length:] + [padding_value] * (fix_length - len(x))\n",
        "            mask = [1] * min(fix_length, len(x)) + [0] * (fix_length - len(x))\n",
        "        return pad_x, np.array(mask, dtype='float32')\n",
        "\n",
        "    def line_mapper(self, line):\n",
        "        line = line.strip().split('\\t')\n",
        "        click_docs = line[3].split()\n",
        "        sess_pos = line[4].split()\n",
        "        sess_neg = line[5].split()\n",
        "\n",
        "        click_docs, _ = self.pad_to_fix_len(self.trans_to_nindex(click_docs), self.args.user_log_length)\n",
        "        user_feature = self.news_combined[click_docs]\n",
        "\n",
        "        pos = self.trans_to_nindex(sess_pos)\n",
        "        neg = self.trans_to_nindex(sess_neg)\n",
        "\n",
        "        label = random.randint(0, self.args.npratio)\n",
        "        sample_news = neg[:label] + pos + neg[label:]\n",
        "        news_feature = self.news_combined[sample_news]\n",
        "\n",
        "        return user_feature, news_feature, label\n",
        "\n",
        "    def __iter__(self):\n",
        "        file_iter = open(self.filename)\n",
        "        return map(self.line_mapper, file_iter)\n",
        "\n",
        "\n",
        "class DatasetTest(DatasetTrain):\n",
        "    def __init__(self, filename, news_index, news_scoring, args):\n",
        "        super(DatasetTrain).__init__()\n",
        "        self.filename = filename\n",
        "        self.news_index = news_index\n",
        "        self.news_scoring = news_scoring\n",
        "        self.args = args\n",
        "\n",
        "    def line_mapper(self, line):\n",
        "        line = line.strip().split('\\t')\n",
        "        click_docs = line[3].split()\n",
        "        click_docs, log_mask = self.pad_to_fix_len(self.trans_to_nindex(click_docs), self.args.user_log_length)\n",
        "        user_feature = self.news_scoring[click_docs]\n",
        "\n",
        "        candidate_news = self.trans_to_nindex([i.split('-')[0] for i in line[4].split()])\n",
        "        labels = np.array([int(i.split('-')[1]) for i in line[4].split()])\n",
        "        news_feature = self.news_scoring[candidate_news]\n",
        "\n",
        "        return user_feature, news_feature, labels\n",
        "\n",
        "    def __iter__(self):\n",
        "        file_iter = open(self.filename)\n",
        "        return map(self.line_mapper, file_iter)\n",
        "\n",
        "\n",
        "class NewsDataset(Dataset):\n",
        "    def __init__(self, data):\n",
        "        self.data = data\n",
        "\n",
        "    def __getitem__(self, idx):\n",
        "        return self.data[idx]\n",
        "\n",
        "    def __len__(self):\n",
        "        return self.data.shape[0]\n"
      ]
    },
    {
      "cell_type": "markdown",
      "metadata": {
        "id": "J1IjisEE-LHb"
      },
      "source": [
        "**Metric.py**"
      ]
    },
    {
      "cell_type": "code",
      "execution_count": null,
      "metadata": {
        "id": "ppd8qdG1-Nr3"
      },
      "outputs": [],
      "source": [
        "from sklearn.metrics import roc_auc_score\n",
        "import numpy as np\n",
        "\n",
        "\n",
        "def dcg_score(y_true, y_score, k=10):\n",
        "    order = np.argsort(y_score)[::-1]\n",
        "    y_true = np.take(y_true, order[:k])\n",
        "    gains = 2**y_true - 1\n",
        "    discounts = np.log2(np.arange(len(y_true)) + 2)\n",
        "    return np.sum(gains / discounts)\n",
        "\n",
        "\n",
        "def ndcg_score(y_true, y_score, k=10):\n",
        "    best = dcg_score(y_true, y_true, k)\n",
        "    actual = dcg_score(y_true, y_score, k)\n",
        "    return actual / best\n",
        "\n",
        "\n",
        "def mrr_score(y_true, y_score):\n",
        "    order = np.argsort(y_score)[::-1]\n",
        "    y_true = np.take(y_true, order)\n",
        "    rr_score = y_true / (np.arange(len(y_true)) + 1)\n",
        "    return np.sum(rr_score) / np.sum(y_true)\n",
        "\n",
        "\n",
        "def ctr_score(y_true, y_score, k=1):\n",
        "    order = np.argsort(y_score)[::-1]\n",
        "    y_true = np.take(y_true, order[:k])\n",
        "    return np.mean(y_true)\n",
        "\n",
        "def acc(y_true, y_hat):\n",
        "    y_hat = torch.argmax(y_hat, dim=-1)\n",
        "    tot = y_true.shape[0]\n",
        "    hit = torch.sum(y_true == y_hat)\n",
        "    return hit.data.float() * 1.0 / tot\n",
        "\n"
      ]
    },
    {
      "cell_type": "markdown",
      "metadata": {
        "id": "D1ZeoY8x-5Ds"
      },
      "source": [
        "**Ultis.py**"
      ]
    },
    {
      "cell_type": "code",
      "execution_count": null,
      "metadata": {
        "id": "Dfr-ri4E-s3M"
      },
      "outputs": [],
      "source": [
        "import logging\n",
        "import argparse\n",
        "import sys\n",
        "\n",
        "def setuplogger():\n",
        "    root = logging.getLogger()\n",
        "    root.setLevel(logging.INFO)\n",
        "    handler = logging.StreamHandler(sys.stdout)\n",
        "    handler.setLevel(logging.INFO)\n",
        "    formatter = logging.Formatter(\"[%(levelname)s %(asctime)s] %(message)s\")\n",
        "    handler.setFormatter(formatter)\n",
        "    root.addHandler(handler)\n",
        "\n",
        "\n",
        "def dump_args(args):\n",
        "    for arg in dir(args):\n",
        "        if not arg.startswith(\"_\"):\n",
        "            logging.info(f\"args[{arg}]={getattr(args, arg)}\")\n",
        "\n",
        "def load_matrix(embedding_file_path, word_dict, word_embedding_dim):\n",
        "    embedding_matrix = np.zeros(shape=(len(word_dict) + 1, word_embedding_dim))\n",
        "    have_word = []\n",
        "    if embedding_file_path is not None:\n",
        "        with open(embedding_file_path, 'rb') as f:\n",
        "            while True:\n",
        "                line = f.readline()\n",
        "                if len(line) == 0:\n",
        "                    break\n",
        "                line = line.split()\n",
        "                word = line[0].decode()\n",
        "                if word in word_dict:\n",
        "                    index = word_dict[word]\n",
        "                    tp = [float(x) for x in line[1:]]\n",
        "                    embedding_matrix[index] = np.array(tp)\n",
        "                    have_word.append(word)\n",
        "    return embedding_matrix, have_word\n",
        "\n",
        "\n",
        "def get_checkpoint(directory, ckpt_name):\n",
        "    ckpt_path = os.path.join(directory, ckpt_name)\n",
        "    if os.path.exists(ckpt_path):\n",
        "        return ckpt_path\n",
        "    else:\n",
        "        return None\n"
      ]
    },
    {
      "cell_type": "markdown",
      "metadata": {
        "id": "pqNlsklUAi48"
      },
      "source": [
        "**preprocess.py**"
      ]
    },
    {
      "cell_type": "code",
      "execution_count": null,
      "metadata": {
        "id": "_Ja_pvD0AYwg"
      },
      "outputs": [],
      "source": [
        "from collections import Counter\n",
        "from tqdm import tqdm\n",
        "import numpy as np\n",
        "from nltk.tokenize import word_tokenize\n",
        "import json\n",
        "\n",
        "\n",
        "def update_dict(dict, key, value=None):\n",
        "    if key not in dict:\n",
        "        if value is None:\n",
        "            dict[key] = len(dict) + 1\n",
        "        else:\n",
        "            dict[key] = value\n",
        "\n",
        "\n",
        "def read_custom_abstract(news_file, custom_abstract_dict):\n",
        "    news = {}\n",
        "    news_index = {}\n",
        "    category_dict = {}\n",
        "    subcategory_dict = {}\n",
        "    word_cnt = {}\n",
        "\n",
        "    with open(news_file, 'r', encoding='utf-8') as f:\n",
        "        for line in f:\n",
        "            splited = line.strip('\\n').split('\\t')\n",
        "            doc_id, category, subcategory, title, abstract, url, entity_title, entity_abstract = splited\n",
        "            if doc_id in custom_abstract_dict:\n",
        "                abstract = custom_abstract_dict[doc_id]\n",
        "            news[doc_id] = [title.split(' '), category, subcategory, abstract.split(' ')]\n",
        "            news_index[doc_id] = len(news_index) + 1\n",
        "            for word in title.split(' '):\n",
        "                if word not in word_cnt:\n",
        "                    word_cnt[word] = 0\n",
        "                word_cnt[word] += 1\n",
        "            for word in abstract.split(' '):\n",
        "                if word not in word_cnt:\n",
        "                    word_cnt[word] = 0\n",
        "                word_cnt[word] += 1\n",
        "            if category not in category_dict:\n",
        "                category_dict[category] = len(category_dict) + 1\n",
        "            if subcategory not in subcategory_dict:\n",
        "                subcategory_dict[subcategory] = len(subcategory_dict) + 1\n",
        "\n",
        "    return news, news_index, category_dict, subcategory_dict, word_cnt\n",
        "\n",
        "def read_news(news_path, abstract_path, args, mode='train'):\n",
        "    news = {}\n",
        "    category_dict = {}\n",
        "    subcategory_dict = {}\n",
        "    news_index = {}\n",
        "    word_cnt = Counter()\n",
        "    if args.use_custom_abstract:\n",
        "      with open(abstract_path, 'r') as f:\n",
        "          abs = json.load(f)\n",
        "    with open(news_path, 'r', encoding='utf-8') as f:\n",
        "        for line in tqdm(f):\n",
        "            splited = line.strip('\\n').split('\\t')\n",
        "            doc_id, category, subcategory, title, abstract, url, _, _ = splited\n",
        "            update_dict(news_index, doc_id)\n",
        "\n",
        "            title = title.lower()\n",
        "            title = word_tokenize(title, language='english', preserve_line=True)\n",
        "\n",
        "            update_dict(news, doc_id, [title, category, subcategory, abs[doc_id] if doc_id in abs else abstract])\n",
        "            if mode == 'train':\n",
        "                if args.use_category:\n",
        "                    update_dict(category_dict, category)\n",
        "                if args.use_subcategory:\n",
        "                    update_dict(subcategory_dict, subcategory)\n",
        "                word_cnt.update(title)\n",
        "\n",
        "    if mode == 'train':\n",
        "        word = [k for k, v in word_cnt.items() if v > args.filter_num]\n",
        "        word_dict = {k: v for k, v in zip(word, range(1, len(word) + 1))}\n",
        "        return news, news_index, category_dict, subcategory_dict, word_dict\n",
        "    elif mode == 'test':\n",
        "        return news, news_index\n",
        "    else:\n",
        "        assert False, 'Wrong mode!'\n",
        "\n",
        "\n",
        "def get_doc_input(news, news_index, category_dict, subcategory_dict, word_dict, args):\n",
        "    news_num = len(news) + 1\n",
        "    news_title = np.zeros((news_num, args.num_words_title), dtype='int32')\n",
        "    news_category = np.zeros((news_num, 1), dtype='int32') if args.use_category else None\n",
        "    news_subcategory = np.zeros((news_num, 1), dtype='int32') if args.use_subcategory else None\n",
        "    news_abstract = np.zeros((news_num, args.num_words_abstract), dtype='int32') if args.use_abstract else None\n",
        "\n",
        "    for key in tqdm(news):\n",
        "        title, category, subcategory, abstract = news[key]\n",
        "        doc_index = news_index[key]\n",
        "\n",
        "        for word_id in range(min(args.num_words_title, len(title))):\n",
        "            if title[word_id] in word_dict:\n",
        "                news_title[doc_index, word_id] = word_dict[title[word_id]]\n",
        "\n",
        "        if args.use_category:\n",
        "            news_category[doc_index, 0] = category_dict[category] if category in category_dict else 0\n",
        "        if args.use_subcategory:\n",
        "            news_subcategory[doc_index, 0] = subcategory_dict[subcategory] if subcategory in subcategory_dict else 0\n",
        "        if args.use_abstract:\n",
        "            for word_id in range(min(args.num_words_abstract, len(abstract))):\n",
        "                if abstract[word_id] in word_dict:\n",
        "                    news_abstract[doc_index, word_id] = word_dict[abstract[word_id]]\n",
        "\n",
        "    return news_title, news_category, news_subcategory, news_abstract"
      ]
    },
    {
      "cell_type": "markdown",
      "metadata": {
        "id": "xu43E3_6AqAA"
      },
      "source": [
        "**prepare_data.py**"
      ]
    },
    {
      "cell_type": "code",
      "execution_count": null,
      "metadata": {
        "id": "5Qzn9-0kAuFF"
      },
      "outputs": [],
      "source": [
        "import os\n",
        "from tqdm import tqdm\n",
        "import random\n",
        "import logging\n",
        "\n",
        "\n",
        "def get_sample(all_elements, num_sample):\n",
        "    if num_sample > len(all_elements):\n",
        "        return random.sample(all_elements * (num_sample // len(all_elements) + 1), num_sample)\n",
        "    else:\n",
        "        return random.sample(all_elements, num_sample)\n",
        "\n",
        "\n",
        "def prepare_training_data(train_data_dir, nGPU, npratio, seed):\n",
        "    random.seed(seed)\n",
        "    behaviors = []\n",
        "\n",
        "    behavior_file_path = os.path.join(train_data_dir, 'behaviors.tsv')\n",
        "    with open(behavior_file_path, 'r', encoding='utf-8') as f:\n",
        "        for line in tqdm(f):\n",
        "            iid, uid, time, history, imp = line.strip().split('\\t')\n",
        "            impressions = [x.split('-') for x in imp.split(' ')]\n",
        "            pos, neg = [], []\n",
        "            for news_ID, label in impressions:\n",
        "                if label == '0':\n",
        "                    neg.append(news_ID)\n",
        "                elif label == '1':\n",
        "                    pos.append(news_ID)\n",
        "            if len(pos) == 0 or len(neg) == 0:\n",
        "                continue\n",
        "            for pos_id in pos:\n",
        "                neg_candidate = get_sample(neg, npratio)\n",
        "                neg_str = ' '.join(neg_candidate)\n",
        "                new_line = '\\t'.join([iid, uid, time, history, pos_id, neg_str]) + '\\n'\n",
        "                behaviors.append(new_line)\n",
        "\n",
        "    random.shuffle(behaviors)\n",
        "\n",
        "    behaviors_per_file = [[] for _ in range(nGPU)]\n",
        "    for i, line in enumerate(behaviors):\n",
        "        behaviors_per_file[i % nGPU].append(line)\n",
        "\n",
        "    logging.info('Writing files...')\n",
        "    for i in range(nGPU):\n",
        "        processed_file_path = os.path.join(train_data_dir, f'behaviors_np{npratio}_{i}.tsv')\n",
        "        with open(processed_file_path, 'w') as f:\n",
        "            f.writelines(behaviors_per_file[i])\n",
        "\n",
        "    return len(behaviors)\n",
        "\n",
        "\n",
        "def prepare_testing_data(test_data_dir, nGPU):\n",
        "    behaviors = [[] for _ in range(nGPU)]\n",
        "\n",
        "    behavior_file_path = os.path.join(test_data_dir, 'behaviors.tsv')\n",
        "    with open(behavior_file_path, 'r', encoding='utf-8') as f:\n",
        "        for i, line in enumerate(tqdm(f)):\n",
        "            behaviors[i % nGPU].append(line)\n",
        "\n",
        "    logging.info('Writing files...')\n",
        "    for i in range(nGPU):\n",
        "        processed_file_path = os.path.join(test_data_dir, f'behaviors_{i}.tsv')\n",
        "        with open(processed_file_path, 'w') as f:\n",
        "            f.writelines(behaviors[i])\n",
        "\n",
        "    return sum([len(x) for x in behaviors])\n"
      ]
    },
    {
      "cell_type": "code",
      "execution_count": null,
      "metadata": {
        "id": "VGYXTH1pMIBO"
      },
      "outputs": [],
      "source": [
        "def train(rank, args):\n",
        "\n",
        "    is_distributed = False\n",
        "    torch.cuda.set_device(rank)\n",
        "\n",
        "\n",
        "    news, news_index, category_dict, subcategory_dict, word_dict = read_news(\n",
        "        os.path.join(args.train_data_dir, 'news.tsv'), args.train_abstract_dir, args, mode='train')\n",
        "\n",
        "    news_title, news_category, news_subcategory, news_abstract = get_doc_input(\n",
        "        news, news_index, category_dict, subcategory_dict, word_dict, args)\n",
        "    news_combined = np.concatenate([x for x in [news_title, news_category, news_subcategory, news_abstract] if x is not None], axis=-1)\n",
        "\n",
        "    if rank == 0:\n",
        "        logging.info('Initializing word embedding matrix...')\n",
        "\n",
        "    embedding_matrix, have_word = load_matrix(args.glove_embedding_path,\n",
        "                                                    word_dict,\n",
        "                                                    args.word_embedding_dim)\n",
        "    if rank == 0:\n",
        "        logging.info(f'Word dict length: {len(word_dict)}')\n",
        "        logging.info(f'Have words: {len(have_word)}')\n",
        "        logging.info(f'Missing rate: {(len(word_dict) - len(have_word)) / len(word_dict)}')\n",
        "\n",
        "    model = Model(args, embedding_matrix, len(category_dict), len(subcategory_dict))\n",
        "\n",
        "    if args.load_ckpt_name is not None:\n",
        "        ckpt_path = get_checkpoint(args.model_dir, args.load_ckpt_name)\n",
        "        checkpoint = torch.load(ckpt_path, map_location='cpu')\n",
        "        model.load_state_dict(checkpoint['model_state_dict'])\n",
        "        logging.info(f\"Model loaded from {ckpt_path}.\")\n",
        "\n",
        "    optimizer = optim.Adam(model.parameters(), lr=args.lr)\n",
        "\n",
        "    if args.enable_gpu:\n",
        "        model = model.cuda(rank)\n",
        "\n",
        "    if is_distributed:\n",
        "        model = torch.nn.parallel.DistributedDataParallel(model, device_ids=[rank])\n",
        "\n",
        "    # if rank == 0:\n",
        "    #     print(model)\n",
        "    #     for name, param in model.named_parameters():\n",
        "    #         print(name, param.requires_grad)\n",
        "\n",
        "    data_file_path = os.path.join(args.train_data_dir, f'behaviors_np{args.npratio}_{rank}.tsv')\n",
        "\n",
        "    dataset = DatasetTrain(data_file_path, news_index, news_combined, args)\n",
        "    dataloader = DataLoader(dataset, batch_size=args.batch_size)\n",
        "\n",
        "    logging.info('Training...')\n",
        "    for ep in range(args.start_epoch, args.epochs):\n",
        "        loss = 0.0\n",
        "        accuary = 0.0\n",
        "        for cnt, (log_ids, log_mask, input_ids, targets) in enumerate(dataloader):\n",
        "            if args.enable_gpu:\n",
        "                log_ids = log_ids.cuda(rank, non_blocking=True)\n",
        "                log_mask = log_mask.cuda(rank, non_blocking=True)\n",
        "                input_ids = input_ids.cuda(rank, non_blocking=True)\n",
        "                targets = targets.cuda(rank, non_blocking=True)\n",
        "\n",
        "            bz_loss, y_hat = model(log_ids, log_mask, input_ids, targets)\n",
        "            loss += bz_loss.data.float()\n",
        "            accuary += acc(targets, y_hat)\n",
        "            optimizer.zero_grad()\n",
        "            bz_loss.backward()\n",
        "            optimizer.step()\n",
        "\n",
        "            if cnt % args.log_steps == 0:\n",
        "                logging.info(\n",
        "                    '[{}] Ed: {}, train_loss: {:.5f}, acc: {:.5f}'.format(\n",
        "                        rank, cnt * args.batch_size, loss.data / cnt, accuary / cnt)\n",
        "                )\n",
        "\n",
        "            if rank == 0 and     cnt != 0 and cnt % args.save_steps == 0:\n",
        "                ckpt_path = os.path.join(args.model_dir, f'epoch-{ep+1}-{cnt}.pt')\n",
        "                torch.save(\n",
        "                    {\n",
        "                        'model_state_dict':\n",
        "                            {'.'.join(k.split('.')[1:]): v for k, v in model.state_dict().items()}\n",
        "                            if is_distributed else model.state_dict(),\n",
        "                        'category_dict': category_dict,\n",
        "                        'word_dict': word_dict,\n",
        "                        'subcategory_dict': subcategory_dict\n",
        "                    }, ckpt_path)\n",
        "                logging.info(f\"Model saved to {ckpt_path}.\")\n",
        "\n",
        "        logging.info('Training finish.')\n",
        "\n",
        "        if rank == 0:\n",
        "            ckpt_path = os.path.join(args.model_dir, f'epoch-{ep+1}.pt')\n",
        "            torch.save(\n",
        "                {\n",
        "                    'model_state_dict':\n",
        "                        {'.'.join(k.split('.')[1:]): v for k, v in model.state_dict().items()}\n",
        "                        if is_distributed else model.state_dict(),\n",
        "                    'category_dict': category_dict,\n",
        "                    'subcategory_dict': subcategory_dict,\n",
        "                    'word_dict': word_dict,\n",
        "                }, ckpt_path)\n",
        "            logging.info(f\"Model saved to {ckpt_path}.\")\n",
        "\n"
      ]
    },
    {
      "cell_type": "code",
      "execution_count": null,
      "metadata": {
        "colab": {
          "base_uri": "https://localhost:8080/"
        },
        "id": "WgkOVqFzS6Uv",
        "outputId": "47359906-ea77-4dcf-d4ea-1c4c38412184"
      },
      "outputs": [
        {
          "name": "stderr",
          "output_type": "stream",
          "text": [
            "INFO:root:args[batch_size]=32\n"
          ]
        },
        {
          "name": "stdout",
          "output_type": "stream",
          "text": [
            "[INFO 2025-03-02 18:49:03,622] args[batch_size]=32\n"
          ]
        },
        {
          "name": "stderr",
          "output_type": "stream",
          "text": [
            "INFO:root:args[category_emb_dim]=100\n"
          ]
        },
        {
          "name": "stdout",
          "output_type": "stream",
          "text": [
            "[INFO 2025-03-02 18:49:03,624] args[category_emb_dim]=100\n"
          ]
        },
        {
          "name": "stderr",
          "output_type": "stream",
          "text": [
            "INFO:root:args[drop_rate]=0.2\n"
          ]
        },
        {
          "name": "stdout",
          "output_type": "stream",
          "text": [
            "[INFO 2025-03-02 18:49:03,630] args[drop_rate]=0.2\n"
          ]
        },
        {
          "name": "stderr",
          "output_type": "stream",
          "text": [
            "INFO:root:args[enable_gpu]=True\n"
          ]
        },
        {
          "name": "stdout",
          "output_type": "stream",
          "text": [
            "[INFO 2025-03-02 18:49:03,634] args[enable_gpu]=True\n"
          ]
        },
        {
          "name": "stderr",
          "output_type": "stream",
          "text": [
            "INFO:root:args[epochs]=5\n"
          ]
        },
        {
          "name": "stdout",
          "output_type": "stream",
          "text": [
            "[INFO 2025-03-02 18:49:03,638] args[epochs]=5\n"
          ]
        },
        {
          "name": "stderr",
          "output_type": "stream",
          "text": [
            "INFO:root:args[filter_num]=3\n"
          ]
        },
        {
          "name": "stdout",
          "output_type": "stream",
          "text": [
            "[INFO 2025-03-02 18:49:03,643] args[filter_num]=3\n"
          ]
        },
        {
          "name": "stderr",
          "output_type": "stream",
          "text": [
            "INFO:root:args[freeze_embedding]=False\n"
          ]
        },
        {
          "name": "stdout",
          "output_type": "stream",
          "text": [
            "[INFO 2025-03-02 18:49:03,648] args[freeze_embedding]=False\n"
          ]
        },
        {
          "name": "stderr",
          "output_type": "stream",
          "text": [
            "INFO:root:args[glove_embedding_path]=/content/drive/MyDrive/Colab Notebooks/NewsRecommendation/data/glove.840B.300d.txt\n"
          ]
        },
        {
          "name": "stdout",
          "output_type": "stream",
          "text": [
            "[INFO 2025-03-02 18:49:03,650] args[glove_embedding_path]=/content/drive/MyDrive/Colab Notebooks/NewsRecommendation/data/glove.840B.300d.txt\n"
          ]
        },
        {
          "name": "stderr",
          "output_type": "stream",
          "text": [
            "INFO:root:args[load_ckpt_name]=None\n"
          ]
        },
        {
          "name": "stdout",
          "output_type": "stream",
          "text": [
            "[INFO 2025-03-02 18:49:03,655] args[load_ckpt_name]=None\n"
          ]
        },
        {
          "name": "stderr",
          "output_type": "stream",
          "text": [
            "INFO:root:args[log_steps]=100\n"
          ]
        },
        {
          "name": "stdout",
          "output_type": "stream",
          "text": [
            "[INFO 2025-03-02 18:49:03,658] args[log_steps]=100\n"
          ]
        },
        {
          "name": "stderr",
          "output_type": "stream",
          "text": [
            "INFO:root:args[lr]=0.0003\n"
          ]
        },
        {
          "name": "stdout",
          "output_type": "stream",
          "text": [
            "[INFO 2025-03-02 18:49:03,662] args[lr]=0.0003\n"
          ]
        },
        {
          "name": "stderr",
          "output_type": "stream",
          "text": [
            "INFO:root:args[mode]=train\n"
          ]
        },
        {
          "name": "stdout",
          "output_type": "stream",
          "text": [
            "[INFO 2025-03-02 18:49:03,665] args[mode]=train\n"
          ]
        },
        {
          "name": "stderr",
          "output_type": "stream",
          "text": [
            "INFO:root:args[model_dir]=/content/model\n"
          ]
        },
        {
          "name": "stdout",
          "output_type": "stream",
          "text": [
            "[INFO 2025-03-02 18:49:03,669] args[model_dir]=/content/model\n"
          ]
        },
        {
          "name": "stderr",
          "output_type": "stream",
          "text": [
            "INFO:root:args[nGPU]=1\n"
          ]
        },
        {
          "name": "stdout",
          "output_type": "stream",
          "text": [
            "[INFO 2025-03-02 18:49:03,672] args[nGPU]=1\n"
          ]
        },
        {
          "name": "stderr",
          "output_type": "stream",
          "text": [
            "INFO:root:args[news_dim]=400\n"
          ]
        },
        {
          "name": "stdout",
          "output_type": "stream",
          "text": [
            "[INFO 2025-03-02 18:49:03,676] args[news_dim]=400\n"
          ]
        },
        {
          "name": "stderr",
          "output_type": "stream",
          "text": [
            "INFO:root:args[news_query_vector_dim]=200\n"
          ]
        },
        {
          "name": "stdout",
          "output_type": "stream",
          "text": [
            "[INFO 2025-03-02 18:49:03,680] args[news_query_vector_dim]=200\n"
          ]
        },
        {
          "name": "stderr",
          "output_type": "stream",
          "text": [
            "INFO:root:args[npratio]=4\n"
          ]
        },
        {
          "name": "stdout",
          "output_type": "stream",
          "text": [
            "[INFO 2025-03-02 18:49:03,684] args[npratio]=4\n"
          ]
        },
        {
          "name": "stderr",
          "output_type": "stream",
          "text": [
            "INFO:root:args[num_attention_heads]=15\n"
          ]
        },
        {
          "name": "stdout",
          "output_type": "stream",
          "text": [
            "[INFO 2025-03-02 18:49:03,687] args[num_attention_heads]=15\n"
          ]
        },
        {
          "name": "stderr",
          "output_type": "stream",
          "text": [
            "INFO:root:args[num_words_abstract]=50\n"
          ]
        },
        {
          "name": "stdout",
          "output_type": "stream",
          "text": [
            "[INFO 2025-03-02 18:49:03,691] args[num_words_abstract]=50\n"
          ]
        },
        {
          "name": "stderr",
          "output_type": "stream",
          "text": [
            "INFO:root:args[num_words_title]=20\n"
          ]
        },
        {
          "name": "stdout",
          "output_type": "stream",
          "text": [
            "[INFO 2025-03-02 18:49:03,694] args[num_words_title]=20\n"
          ]
        },
        {
          "name": "stderr",
          "output_type": "stream",
          "text": [
            "INFO:root:args[prepare]=True\n"
          ]
        },
        {
          "name": "stdout",
          "output_type": "stream",
          "text": [
            "[INFO 2025-03-02 18:49:03,696] args[prepare]=True\n"
          ]
        },
        {
          "name": "stderr",
          "output_type": "stream",
          "text": [
            "INFO:root:args[save_steps]=10000\n"
          ]
        },
        {
          "name": "stdout",
          "output_type": "stream",
          "text": [
            "[INFO 2025-03-02 18:49:03,699] args[save_steps]=10000\n"
          ]
        },
        {
          "name": "stderr",
          "output_type": "stream",
          "text": [
            "INFO:root:args[seed]=0\n"
          ]
        },
        {
          "name": "stdout",
          "output_type": "stream",
          "text": [
            "[INFO 2025-03-02 18:49:03,701] args[seed]=0\n"
          ]
        },
        {
          "name": "stderr",
          "output_type": "stream",
          "text": [
            "INFO:root:args[start_epoch]=0\n"
          ]
        },
        {
          "name": "stdout",
          "output_type": "stream",
          "text": [
            "[INFO 2025-03-02 18:49:03,703] args[start_epoch]=0\n"
          ]
        },
        {
          "name": "stderr",
          "output_type": "stream",
          "text": [
            "INFO:root:args[test_abstract_dir]=/content/genAbs0.json\n"
          ]
        },
        {
          "name": "stdout",
          "output_type": "stream",
          "text": [
            "[INFO 2025-03-02 18:49:03,705] args[test_abstract_dir]=/content/genAbs0.json\n"
          ]
        },
        {
          "name": "stderr",
          "output_type": "stream",
          "text": [
            "INFO:root:args[test_data_dir]=/content/drive/MyDrive/Colab Notebooks/NewsRecommendation/data/MINDsmall_dev\n"
          ]
        },
        {
          "name": "stdout",
          "output_type": "stream",
          "text": [
            "[INFO 2025-03-02 18:49:03,707] args[test_data_dir]=/content/drive/MyDrive/Colab Notebooks/NewsRecommendation/data/MINDsmall_dev\n"
          ]
        },
        {
          "name": "stderr",
          "output_type": "stream",
          "text": [
            "INFO:root:args[train_abstract_dir]=/content/genAbs0.json\n"
          ]
        },
        {
          "name": "stdout",
          "output_type": "stream",
          "text": [
            "[INFO 2025-03-02 18:49:03,709] args[train_abstract_dir]=/content/genAbs0.json\n"
          ]
        },
        {
          "name": "stderr",
          "output_type": "stream",
          "text": [
            "INFO:root:args[train_data_dir]=/content/drive/MyDrive/Colab Notebooks/NewsRecommendation/data/MINDsmall_train\n"
          ]
        },
        {
          "name": "stdout",
          "output_type": "stream",
          "text": [
            "[INFO 2025-03-02 18:49:03,711] args[train_data_dir]=/content/drive/MyDrive/Colab Notebooks/NewsRecommendation/data/MINDsmall_train\n"
          ]
        },
        {
          "name": "stderr",
          "output_type": "stream",
          "text": [
            "INFO:root:args[use_abstract]=True\n"
          ]
        },
        {
          "name": "stdout",
          "output_type": "stream",
          "text": [
            "[INFO 2025-03-02 18:49:03,713] args[use_abstract]=True\n"
          ]
        },
        {
          "name": "stderr",
          "output_type": "stream",
          "text": [
            "INFO:root:args[use_category]=True\n"
          ]
        },
        {
          "name": "stdout",
          "output_type": "stream",
          "text": [
            "[INFO 2025-03-02 18:49:03,715] args[use_category]=True\n"
          ]
        },
        {
          "name": "stderr",
          "output_type": "stream",
          "text": [
            "INFO:root:args[use_custom_abstract]=True\n"
          ]
        },
        {
          "name": "stdout",
          "output_type": "stream",
          "text": [
            "[INFO 2025-03-02 18:49:03,717] args[use_custom_abstract]=True\n"
          ]
        },
        {
          "name": "stderr",
          "output_type": "stream",
          "text": [
            "INFO:root:args[use_subcategory]=True\n"
          ]
        },
        {
          "name": "stdout",
          "output_type": "stream",
          "text": [
            "[INFO 2025-03-02 18:49:03,719] args[use_subcategory]=True\n"
          ]
        },
        {
          "name": "stderr",
          "output_type": "stream",
          "text": [
            "INFO:root:args[user_log_length]=50\n"
          ]
        },
        {
          "name": "stdout",
          "output_type": "stream",
          "text": [
            "[INFO 2025-03-02 18:49:03,721] args[user_log_length]=50\n"
          ]
        },
        {
          "name": "stderr",
          "output_type": "stream",
          "text": [
            "INFO:root:args[user_log_mask]=False\n"
          ]
        },
        {
          "name": "stdout",
          "output_type": "stream",
          "text": [
            "[INFO 2025-03-02 18:49:03,723] args[user_log_mask]=False\n"
          ]
        },
        {
          "name": "stderr",
          "output_type": "stream",
          "text": [
            "INFO:root:args[user_query_vector_dim]=200\n"
          ]
        },
        {
          "name": "stdout",
          "output_type": "stream",
          "text": [
            "[INFO 2025-03-02 18:49:03,726] args[user_query_vector_dim]=200\n"
          ]
        },
        {
          "name": "stderr",
          "output_type": "stream",
          "text": [
            "INFO:root:args[word_embedding_dim]=300\n"
          ]
        },
        {
          "name": "stdout",
          "output_type": "stream",
          "text": [
            "[INFO 2025-03-02 18:49:03,728] args[word_embedding_dim]=300\n"
          ]
        }
      ],
      "source": [
        "\n",
        "    import subprocess\n",
        "    setuplogger()\n",
        "    args = parse_args()\n",
        "    dump_args(args)\n",
        "    random.seed(args.seed)\n",
        "\n",
        "\n",
        "\n"
      ]
    },
    {
      "cell_type": "code",
      "execution_count": null,
      "metadata": {
        "id": "5694OJnDLmEV"
      },
      "outputs": [],
      "source": []
    },
    {
      "cell_type": "markdown",
      "metadata": {
        "id": "VkoY3tHH6in5"
      },
      "source": [
        "# **NRMS**"
      ]
    },
    {
      "cell_type": "code",
      "execution_count": null,
      "metadata": {
        "id": "KXeVVGPl6sgG"
      },
      "outputs": [],
      "source": [
        "import torch\n",
        "import torch.nn as nn\n",
        "class DotProductClickPredictor(torch.nn.Module):\n",
        "    def __init__(self):\n",
        "        super(DotProductClickPredictor, self).__init__()\n",
        "\n",
        "    def forward(self, candidate_news_vector, user_vector):\n",
        "        \"\"\"\n",
        "        Args:\n",
        "            candidate_news_vector: batch_size, candidate_size, X\n",
        "            user_vector: batch_size, X\n",
        "        Returns:\n",
        "            (shape): batch_size\n",
        "        \"\"\"\n",
        "        # batch_size, candidate_size\n",
        "        probability = torch.bmm(candidate_news_vector,\n",
        "                                user_vector.unsqueeze(dim=-1)).squeeze(dim=-1)\n",
        "        return probability\n",
        "class AdditiveAttention(torch.nn.Module):\n",
        "    \"\"\"\n",
        "    A general additive attention module.\n",
        "    Originally for NAML.\n",
        "    \"\"\"\n",
        "    def __init__(self,\n",
        "                 query_vector_dim,\n",
        "                 candidate_vector_dim,\n",
        "                 writer=None,\n",
        "                 tag=None,\n",
        "                 names=None):\n",
        "        super(AdditiveAttention, self).__init__()\n",
        "        self.linear = nn.Linear(candidate_vector_dim, query_vector_dim)\n",
        "        self.attention_query_vector = nn.Parameter(\n",
        "            torch.empty(query_vector_dim).uniform_(-0.1, 0.1))\n",
        "        # For tensorboard\n",
        "        self.writer = writer\n",
        "        self.tag = tag\n",
        "        self.names = names\n",
        "        self.local_step = 1\n",
        "\n",
        "    def forward(self, candidate_vector):\n",
        "        \"\"\"\n",
        "        Args:\n",
        "            candidate_vector: batch_size, candidate_size, candidate_vector_dim\n",
        "        Returns:\n",
        "            (shape) batch_size, candidate_vector_dim\n",
        "        \"\"\"\n",
        "        # batch_size, candidate_size, query_vector_dim\n",
        "        temp = torch.tanh(self.linear(candidate_vector))\n",
        "        # batch_size, candidate_size\n",
        "        candidate_weights = F.softmax(torch.matmul(\n",
        "            temp, self.attention_query_vector),\n",
        "                                      dim=1)\n",
        "        if self.writer is not None:\n",
        "            assert candidate_weights.size(1) == len(self.names)\n",
        "            if self.local_step % 10 == 0:\n",
        "                self.writer.add_scalars(\n",
        "                    self.tag, {\n",
        "                        x: y\n",
        "                        for x, y in zip(self.names,\n",
        "                                        candidate_weights.mean(dim=0))\n",
        "                    }, self.local_step)\n",
        "            self.local_step += 1\n",
        "        # batch_size, candidate_vector_dim\n",
        "        target = torch.bmm(candidate_weights.unsqueeze(dim=1),\n",
        "                           candidate_vector).squeeze(dim=1)\n",
        "        return target\n",
        "\n",
        "class ScaledDotProductAttention(nn.Module):\n",
        "    def __init__(self, d_k):\n",
        "        super(ScaledDotProductAttention, self).__init__()\n",
        "        self.d_k = d_k\n",
        "\n",
        "    def forward(self, Q, K, V, attn_mask=None):\n",
        "        scores = torch.matmul(Q, K.transpose(-1, -2)) / np.sqrt(self.d_k)\n",
        "        scores = torch.exp(scores)\n",
        "        if attn_mask is not None:\n",
        "            scores = scores * attn_mask\n",
        "        attn = scores / (torch.sum(scores, dim=-1, keepdim=True) + 1e-8)\n",
        "\n",
        "        context = torch.matmul(attn, V)\n",
        "        return context, attn\n",
        "\n",
        "\n",
        "\n",
        "class MultiHeadSelfAttention(nn.Module):\n",
        "    def __init__(self, d_model, num_attention_heads):\n",
        "        super(MultiHeadSelfAttention, self).__init__()\n",
        "        self.d_model = d_model\n",
        "        self.num_attention_heads = num_attention_heads\n",
        "        assert d_model % num_attention_heads == 0\n",
        "        self.d_k = d_model // num_attention_heads\n",
        "        self.d_v = d_model // num_attention_heads\n",
        "\n",
        "        self.W_Q = nn.Linear(d_model, d_model)\n",
        "        self.W_K = nn.Linear(d_model, d_model)\n",
        "        self.W_V = nn.Linear(d_model, d_model)\n",
        "\n",
        "        self._initialize_weights()\n",
        "\n",
        "    def _initialize_weights(self):\n",
        "        for m in self.modules():\n",
        "            if isinstance(m, nn.Linear):\n",
        "                nn.init.xavier_uniform_(m.weight, gain=1)\n",
        "\n",
        "    def forward(self, Q, K=None, V=None, length=None):\n",
        "        if K is None:\n",
        "            K = Q\n",
        "        if V is None:\n",
        "            V = Q\n",
        "        batch_size = Q.size(0)\n",
        "\n",
        "        q_s = self.W_Q(Q).view(batch_size, -1, self.num_attention_heads,\n",
        "                               self.d_k).transpose(1, 2)\n",
        "        k_s = self.W_K(K).view(batch_size, -1, self.num_attention_heads,\n",
        "                               self.d_k).transpose(1, 2)\n",
        "        v_s = self.W_V(V).view(batch_size, -1, self.num_attention_heads,\n",
        "                               self.d_v).transpose(1, 2)\n",
        "\n",
        "        if length is not None:\n",
        "            maxlen = Q.size(1)\n",
        "            attn_mask = torch.arange(maxlen).expand(\n",
        "                batch_size, maxlen) < length.view(-1, 1)\n",
        "            attn_mask = attn_mask.unsqueeze(1).expand(batch_size, maxlen,\n",
        "                                                      maxlen)\n",
        "            attn_mask = attn_mask.unsqueeze(1).repeat(1,\n",
        "                                                      self.num_attention_heads,\n",
        "                                                      1, 1)\n",
        "        else:\n",
        "            attn_mask = None\n",
        "\n",
        "        context, attn = ScaledDotProductAttention(self.d_k)(q_s, k_s, v_s,\n",
        "                                                            attn_mask)\n",
        "        context = context.transpose(1, 2).contiguous().view(\n",
        "            batch_size, -1, self.num_attention_heads * self.d_v)\n",
        "        return context"
      ]
    },
    {
      "cell_type": "code",
      "execution_count": null,
      "metadata": {
        "id": "l3W3JjCZ6k1a"
      },
      "outputs": [],
      "source": [
        "import torch\n",
        "from torch import nn\n",
        "import torch.nn.functional as F\n",
        "\n",
        "\n",
        "\n",
        "class NewsEncoder(nn.Module):\n",
        "    def __init__(self, args, embedding_matrix):\n",
        "        super(NewsEncoder, self).__init__()\n",
        "        self.embedding_matrix = embedding_matrix\n",
        "        self.drop_rate = args.drop_rate\n",
        "        self.dim_per_head = args.news_dim // args.num_attention_heads\n",
        "        self.multi_head_self_attn = MultiHeadSelfAttention(\n",
        "            args.word_embedding_dim,\n",
        "            args.num_attention_heads,\n",
        "            # self.dim_per_head,\n",
        "            # self.dim_per_head\n",
        "        )\n",
        "        self.attn = AdditiveAttention(args.news_query_vector_dim, args.word_embedding_dim)\n",
        "\n",
        "    def forward(self, x, mask=None):\n",
        "        '''\n",
        "            x: batch_size, word_num\n",
        "            mask: batch_size, word_num\n",
        "        '''\n",
        "        word_vecs = F.dropout(self.embedding_matrix(x.long()),\n",
        "                              p=self.drop_rate,\n",
        "                              training=self.training)\n",
        "        multihead_text_vecs = self.multi_head_self_attn(word_vecs, word_vecs, word_vecs, mask)\n",
        "        multihead_text_vecs = F.dropout(multihead_text_vecs,\n",
        "                                        p=self.drop_rate,\n",
        "                                        training=self.training)\n",
        "        news_vec = self.attn(multihead_text_vecs)\n",
        "        return news_vec\n",
        "\n",
        "\n",
        "class UserEncoder(nn.Module):\n",
        "    def __init__(self, args):\n",
        "        super(UserEncoder, self).__init__()\n",
        "        self.args = args\n",
        "        self.dim_per_head = args.news_dim // args.num_attention_heads\n",
        "        self.multi_head_self_attn = MultiHeadSelfAttention(args.word_embedding_dim, args.num_attention_heads)\n",
        "        self.attn = AdditiveAttention(args.user_query_vector_dim, args.word_embedding_dim)\n",
        "        self.pad_doc = nn.Parameter(torch.empty(1, args.news_dim).uniform_(-1, 1)).type(torch.FloatTensor)\n",
        "\n",
        "    def forward(self, user_vector):\n",
        "        \"\"\"\n",
        "        Args:\n",
        "            user_vector: batch_size, num_clicked_news_a_user, word_embedding_dim\n",
        "        Returns:\n",
        "            (shape) batch_size, word_embedding_dim\n",
        "        \"\"\"\n",
        "        # batch_size, num_clicked_news_a_user, word_embedding_dim\n",
        "        multihead_user_vector = self.multi_head_self_attn(user_vector)\n",
        "        # batch_size, word_embedding_dim\n",
        "        final_user_vector = self.attn(multihead_user_vector)\n",
        "        return final_user_vector\n",
        "\n",
        "    # def forward(self, news_vecs, log_mask=None):\n",
        "    #     '''\n",
        "    #         news_vecs: batch_size, history_num, news_dim\n",
        "    #         log_mask: batch_size, history_num\n",
        "    #     '''\n",
        "    #     bz = news_vecs.shape[0]\n",
        "    #     if self.args.user_log_mask:\n",
        "\n",
        "\n",
        "    #         news_vecs = self.multi_head_self_attn(news_vecs, news_vecs, news_vecs, log_mask)\n",
        "    #         user_vec = self.attn(news_vecs, log_mask)\n",
        "    #     else:\n",
        "    #         padding_doc = self.pad_doc.unsqueeze(dim=0).expand(bz, self.args.user_log_length, -1)\n",
        "    #         news_vecs = news_vecs * log_mask.unsqueeze(dim=-1) + padding_doc * (1 - log_mask.unsqueeze(dim=-1))\n",
        "    #         news_vecs = self.multi_head_self_attn(news_vecs, news_vecs, news_vecs)\n",
        "    #         user_vec = self.attn(news_vecs)\n",
        "    #     return user_vec\n",
        "\n",
        "\n",
        "\n",
        "class NRMS(torch.nn.Module):\n",
        "    \"\"\"\n",
        "    NRMS network.\n",
        "    Input 1 + K candidate news and a list of user clicked news, produce the click probability.\n",
        "    \"\"\"\n",
        "    def __init__(self, config, embedding_matrix):\n",
        "        super(NRMS, self).__init__()\n",
        "        self.config = config\n",
        "        word_embedding = torch.from_numpy(embedding_matrix).float()\n",
        "        pretrained_word_embedding = nn.Embedding.from_pretrained(word_embedding,\n",
        "                                                      freeze=args.freeze_embedding,\n",
        "                                                      padding_idx=0)\n",
        "\n",
        "        self.news_encoder = NewsEncoder(config, pretrained_word_embedding)\n",
        "        self.user_encoder = UserEncoder(config)\n",
        "        self.click_predictor = DotProductClickPredictor()\n",
        "        self.loss_fn = nn.CrossEntropyLoss()\n",
        "\n",
        "    def forward(self, clicked_news, candidate_news, label):\n",
        "        \"\"\"\n",
        "        Args:\n",
        "            candidate_news:\n",
        "                [\n",
        "                    {\n",
        "                        \"title\": batch_size * num_words_title\n",
        "                    } * (1 + K)\n",
        "                ]\n",
        "            clicked_news:\n",
        "                [\n",
        "                    {\n",
        "                        \"title\":batch_size * num_words_title\n",
        "                    } * num_clicked_news_a_user\n",
        "                ]\n",
        "        Returns:\n",
        "          click_probability: batch_size, 1 + K\n",
        "        \"\"\"\n",
        "        # batch_size, 1 + K, word_embedding_dim\n",
        "        candidate_news_vector = torch.stack(\n",
        "            [self.news_encoder(x) for x in candidate_news])\n",
        "\n",
        "        # batch_size, num_clicked_news_a_user, word_embedding_dim\n",
        "        clicked_news_vector = torch.stack(\n",
        "            [self.news_encoder(x) for x in clicked_news])\n",
        "\n",
        "        # batch_size, word_embedding_dim\n",
        "        user_vector = self.user_encoder(clicked_news_vector)\n",
        "\n",
        "        # batch_size, 1 + K\n",
        "        click_probability = self.click_predictor(candidate_news_vector,\n",
        "                                                 user_vector)\n",
        "        loss = self.loss_fn(click_probability, label)\n",
        "        # loss = 0.5\n",
        "        return loss, click_probability\n",
        "\n",
        "    def get_news_vector(self, news):\n",
        "        \"\"\"\n",
        "        Args:\n",
        "            news:\n",
        "                {\n",
        "                    \"title\": batch_size * num_words_title\n",
        "                },\n",
        "        Returns:\n",
        "            (shape) batch_size, word_embedding_dim\n",
        "        \"\"\"\n",
        "        # batch_size, word_embedding_dim\n",
        "        return self.news_encoder(news)\n",
        "\n",
        "    def get_user_vector(self, clicked_news_vector):\n",
        "        \"\"\"\n",
        "        Args:\n",
        "            clicked_news_vector: batch_size, num_clicked_news_a_user, word_embedding_dim\n",
        "        Returns:\n",
        "            (shape) batch_size, word_embedding_dim\n",
        "        \"\"\"\n",
        "        # batch_size, word_embedding_dim\n",
        "        return self.user_encoder(clicked_news_vector)\n",
        "\n",
        "    def get_prediction(self, news_vector, user_vector):\n",
        "        \"\"\"\n",
        "        Args:\n",
        "            news_vector: candidate_size, word_embedding_dim\n",
        "            user_vector: word_embedding_dim\n",
        "        Returns:\n",
        "            click_probability: candidate_size\n",
        "        \"\"\"\n",
        "        # candidate_size\n",
        "        return self.click_predictor(\n",
        "            news_vector.unsqueeze(dim=0),\n",
        "            user_vector.unsqueeze(dim=0)).squeeze(dim=0)"
      ]
    },
    {
      "cell_type": "code",
      "execution_count": null,
      "metadata": {
        "id": "OZngQdLK9Xfa"
      },
      "outputs": [],
      "source": [
        "args.mode = 'train'"
      ]
    },
    {
      "cell_type": "code",
      "execution_count": null,
      "metadata": {
        "colab": {
          "base_uri": "https://localhost:8080/"
        },
        "id": "3Ms-iPzD63S-",
        "outputId": "67e4313e-f16e-4f71-9496-91a285bc8e65"
      },
      "outputs": [
        {
          "name": "stderr",
          "output_type": "stream",
          "text": [
            "INFO:root:Preparing training data...\n"
          ]
        },
        {
          "name": "stdout",
          "output_type": "stream",
          "text": [
            "[INFO 2025-03-02 18:49:54,311] Preparing training data...\n"
          ]
        },
        {
          "name": "stderr",
          "output_type": "stream",
          "text": [
            "156965it [00:02, 61776.50it/s]\n",
            "INFO:root:Writing files...\n"
          ]
        },
        {
          "name": "stdout",
          "output_type": "stream",
          "text": [
            "[INFO 2025-03-02 18:49:56,994] Writing files...\n"
          ]
        },
        {
          "name": "stderr",
          "output_type": "stream",
          "text": [
            "INFO:root:236344 training samples, 7385 batches in total.\n"
          ]
        },
        {
          "name": "stdout",
          "output_type": "stream",
          "text": [
            "[INFO 2025-03-02 18:49:57,448] 236344 training samples, 7385 batches in total.\n"
          ]
        }
      ],
      "source": [
        "if 'train' in args.mode:\n",
        "    if args.prepare:\n",
        "        logging.info('Preparing training data...')\n",
        "        total_sample_num = prepare_training_data(args.train_data_dir, args.nGPU, args.npratio, args.seed)\n",
        "    else:\n",
        "        total_sample_num = 0\n",
        "        for i in range(args.nGPU):\n",
        "            data_file_path = os.path.join(args.train_data_dir, f'behaviors_np{args.npratio}_{i}.tsv')\n",
        "            print(data_file_path)\n",
        "            if not os.path.exists(data_file_path):\n",
        "                logging.error(f'Splited training data {data_file_path} for GPU {i} does not exist. Please set the parameter --prepare as True and rerun the code.')\n",
        "                exit()\n",
        "            result = subprocess.getoutput(f'wc -l {data_file_path}')\n",
        "            total_sample_num += int(result.split(' ')[0])\n",
        "        logging.info('Skip training data preparation.')\n",
        "    logging.info(f'{total_sample_num} training samples, {total_sample_num // args.batch_size // args.nGPU} batches in total.')\n",
        "\n"
      ]
    },
    {
      "cell_type": "code",
      "execution_count": null,
      "metadata": {
        "colab": {
          "base_uri": "https://localhost:8080/"
        },
        "id": "Qgok_ZwDhxOn",
        "outputId": "55e2fef7-40e2-4619-d939-2b4ece71e124"
      },
      "outputs": [
        {
          "name": "stderr",
          "output_type": "stream",
          "text": [
            "51282it [00:06, 8054.94it/s] \n",
            "100%|██████████| 51282/51282 [00:00<00:00, 191114.33it/s]\n",
            "INFO:root:Initializing word embedding matrix...\n"
          ]
        },
        {
          "name": "stdout",
          "output_type": "stream",
          "text": [
            "[INFO 2025-03-02 18:50:04,705] Initializing word embedding matrix...\n"
          ]
        },
        {
          "name": "stderr",
          "output_type": "stream",
          "text": [
            "INFO:root:Word dict length: 12519\n"
          ]
        },
        {
          "name": "stdout",
          "output_type": "stream",
          "text": [
            "[INFO 2025-03-02 18:51:26,471] Word dict length: 12519\n"
          ]
        },
        {
          "name": "stderr",
          "output_type": "stream",
          "text": [
            "INFO:root:Have words: 11960\n"
          ]
        },
        {
          "name": "stdout",
          "output_type": "stream",
          "text": [
            "[INFO 2025-03-02 18:51:26,475] Have words: 11960\n"
          ]
        },
        {
          "name": "stderr",
          "output_type": "stream",
          "text": [
            "INFO:root:Missing rate: 0.0446521287642783\n"
          ]
        },
        {
          "name": "stdout",
          "output_type": "stream",
          "text": [
            "[INFO 2025-03-02 18:51:26,478] Missing rate: 0.0446521287642783\n"
          ]
        }
      ],
      "source": [
        "rank = 0\n",
        "news, news_index, category_dict, subcategory_dict, word_dict = read_news(\n",
        "\t\tos.path.join(args.train_data_dir, 'news.tsv'), args.train_abstract_dir, args, mode='train')\n",
        "\n",
        "news_title, news_category, news_subcategory, news_abstract = get_doc_input(\n",
        "    news, news_index, category_dict, subcategory_dict, word_dict, args)\n",
        "news_combined = np.concatenate([x for x in [news_title, news_category, news_subcategory, news_abstract] if x is not None], axis=-1)\n",
        "\n",
        "if rank == 0:\n",
        "    logging.info('Initializing word embedding matrix...')\n",
        "\n",
        "embedding_matrix, have_word = load_matrix(args.glove_embedding_path,\n",
        "                                                word_dict,\n",
        "                                                args.word_embedding_dim)\n",
        "if rank == 0:\n",
        "    logging.info(f'Word dict length: {len(word_dict)}')\n",
        "    logging.info(f'Have words: {len(have_word)}')\n",
        "    logging.info(f'Missing rate: {(len(word_dict) - len(have_word)) / len(word_dict)}')"
      ]
    },
    {
      "cell_type": "code",
      "execution_count": null,
      "metadata": {
        "colab": {
          "base_uri": "https://localhost:8080/"
        },
        "id": "qt4Qsf_r9RA_",
        "outputId": "12b66558-cf12-4750-d720-d5c4a93ae303"
      },
      "outputs": [
        {
          "name": "stderr",
          "output_type": "stream",
          "text": [
            "INFO:root:Training...\n"
          ]
        },
        {
          "name": "stdout",
          "output_type": "stream",
          "text": [
            "[INFO 2025-03-02 18:51:31,332] Training...\n"
          ]
        },
        {
          "name": "stderr",
          "output_type": "stream",
          "text": [
            "INFO:root:[0] Ed: 0, train_loss: inf, acc: inf\n"
          ]
        },
        {
          "name": "stdout",
          "output_type": "stream",
          "text": [
            "[INFO 2025-03-02 18:51:32,934] [0] Ed: 0, train_loss: inf, acc: inf\n"
          ]
        },
        {
          "name": "stderr",
          "output_type": "stream",
          "text": [
            "INFO:root:[0] Ed: 3200, train_loss: 1.60300, acc: 0.27906\n"
          ]
        },
        {
          "name": "stdout",
          "output_type": "stream",
          "text": [
            "[INFO 2025-03-02 18:51:58,215] [0] Ed: 3200, train_loss: 1.60300, acc: 0.27906\n"
          ]
        },
        {
          "name": "stderr",
          "output_type": "stream",
          "text": [
            "INFO:root:[0] Ed: 6400, train_loss: 1.57256, acc: 0.30281\n"
          ]
        },
        {
          "name": "stdout",
          "output_type": "stream",
          "text": [
            "[INFO 2025-03-02 18:52:23,567] [0] Ed: 6400, train_loss: 1.57256, acc: 0.30281\n"
          ]
        },
        {
          "name": "stderr",
          "output_type": "stream",
          "text": [
            "INFO:root:[0] Ed: 9600, train_loss: 1.56084, acc: 0.31135\n"
          ]
        },
        {
          "name": "stdout",
          "output_type": "stream",
          "text": [
            "[INFO 2025-03-02 18:52:49,144] [0] Ed: 9600, train_loss: 1.56084, acc: 0.31135\n"
          ]
        },
        {
          "name": "stderr",
          "output_type": "stream",
          "text": [
            "INFO:root:[0] Ed: 12800, train_loss: 1.55049, acc: 0.31773\n"
          ]
        },
        {
          "name": "stdout",
          "output_type": "stream",
          "text": [
            "[INFO 2025-03-02 18:53:15,089] [0] Ed: 12800, train_loss: 1.55049, acc: 0.31773\n"
          ]
        },
        {
          "name": "stderr",
          "output_type": "stream",
          "text": [
            "INFO:root:[0] Ed: 16000, train_loss: 1.54209, acc: 0.32381\n"
          ]
        },
        {
          "name": "stdout",
          "output_type": "stream",
          "text": [
            "[INFO 2025-03-02 18:53:41,231] [0] Ed: 16000, train_loss: 1.54209, acc: 0.32381\n"
          ]
        },
        {
          "name": "stderr",
          "output_type": "stream",
          "text": [
            "INFO:root:[0] Ed: 19200, train_loss: 1.53520, acc: 0.32964\n"
          ]
        },
        {
          "name": "stdout",
          "output_type": "stream",
          "text": [
            "[INFO 2025-03-02 18:54:07,224] [0] Ed: 19200, train_loss: 1.53520, acc: 0.32964\n"
          ]
        },
        {
          "name": "stderr",
          "output_type": "stream",
          "text": [
            "INFO:root:[0] Ed: 22400, train_loss: 1.53005, acc: 0.33531\n"
          ]
        },
        {
          "name": "stdout",
          "output_type": "stream",
          "text": [
            "[INFO 2025-03-02 18:54:33,147] [0] Ed: 22400, train_loss: 1.53005, acc: 0.33531\n"
          ]
        },
        {
          "name": "stderr",
          "output_type": "stream",
          "text": [
            "INFO:root:[0] Ed: 25600, train_loss: 1.52700, acc: 0.33773\n"
          ]
        },
        {
          "name": "stdout",
          "output_type": "stream",
          "text": [
            "[INFO 2025-03-02 18:54:59,170] [0] Ed: 25600, train_loss: 1.52700, acc: 0.33773\n"
          ]
        },
        {
          "name": "stderr",
          "output_type": "stream",
          "text": [
            "INFO:root:[0] Ed: 28800, train_loss: 1.52139, acc: 0.34208\n"
          ]
        },
        {
          "name": "stdout",
          "output_type": "stream",
          "text": [
            "[INFO 2025-03-02 18:55:25,140] [0] Ed: 28800, train_loss: 1.52139, acc: 0.34208\n"
          ]
        },
        {
          "name": "stderr",
          "output_type": "stream",
          "text": [
            "INFO:root:[0] Ed: 32000, train_loss: 1.51721, acc: 0.34513\n"
          ]
        },
        {
          "name": "stdout",
          "output_type": "stream",
          "text": [
            "[INFO 2025-03-02 18:55:51,096] [0] Ed: 32000, train_loss: 1.51721, acc: 0.34513\n"
          ]
        },
        {
          "name": "stderr",
          "output_type": "stream",
          "text": [
            "INFO:root:[0] Ed: 35200, train_loss: 1.51507, acc: 0.34563\n"
          ]
        },
        {
          "name": "stdout",
          "output_type": "stream",
          "text": [
            "[INFO 2025-03-02 18:56:17,087] [0] Ed: 35200, train_loss: 1.51507, acc: 0.34563\n"
          ]
        },
        {
          "name": "stderr",
          "output_type": "stream",
          "text": [
            "INFO:root:[0] Ed: 38400, train_loss: 1.51126, acc: 0.34823\n"
          ]
        },
        {
          "name": "stdout",
          "output_type": "stream",
          "text": [
            "[INFO 2025-03-02 18:56:43,107] [0] Ed: 38400, train_loss: 1.51126, acc: 0.34823\n"
          ]
        },
        {
          "name": "stderr",
          "output_type": "stream",
          "text": [
            "INFO:root:[0] Ed: 41600, train_loss: 1.50776, acc: 0.35089\n"
          ]
        },
        {
          "name": "stdout",
          "output_type": "stream",
          "text": [
            "[INFO 2025-03-02 18:57:09,051] [0] Ed: 41600, train_loss: 1.50776, acc: 0.35089\n"
          ]
        },
        {
          "name": "stderr",
          "output_type": "stream",
          "text": [
            "INFO:root:[0] Ed: 44800, train_loss: 1.50456, acc: 0.35201\n"
          ]
        },
        {
          "name": "stdout",
          "output_type": "stream",
          "text": [
            "[INFO 2025-03-02 18:57:35,003] [0] Ed: 44800, train_loss: 1.50456, acc: 0.35201\n"
          ]
        },
        {
          "name": "stderr",
          "output_type": "stream",
          "text": [
            "INFO:root:[0] Ed: 48000, train_loss: 1.50253, acc: 0.35317\n"
          ]
        },
        {
          "name": "stdout",
          "output_type": "stream",
          "text": [
            "[INFO 2025-03-02 18:58:01,081] [0] Ed: 48000, train_loss: 1.50253, acc: 0.35317\n"
          ]
        },
        {
          "name": "stderr",
          "output_type": "stream",
          "text": [
            "INFO:root:[0] Ed: 51200, train_loss: 1.49876, acc: 0.35561\n"
          ]
        },
        {
          "name": "stdout",
          "output_type": "stream",
          "text": [
            "[INFO 2025-03-02 18:58:27,137] [0] Ed: 51200, train_loss: 1.49876, acc: 0.35561\n"
          ]
        },
        {
          "name": "stderr",
          "output_type": "stream",
          "text": [
            "INFO:root:[0] Ed: 54400, train_loss: 1.49493, acc: 0.35741\n"
          ]
        },
        {
          "name": "stdout",
          "output_type": "stream",
          "text": [
            "[INFO 2025-03-02 18:58:53,297] [0] Ed: 54400, train_loss: 1.49493, acc: 0.35741\n"
          ]
        },
        {
          "name": "stderr",
          "output_type": "stream",
          "text": [
            "INFO:root:[0] Ed: 57600, train_loss: 1.49080, acc: 0.36026\n"
          ]
        },
        {
          "name": "stdout",
          "output_type": "stream",
          "text": [
            "[INFO 2025-03-02 18:59:19,289] [0] Ed: 57600, train_loss: 1.49080, acc: 0.36026\n"
          ]
        },
        {
          "name": "stderr",
          "output_type": "stream",
          "text": [
            "INFO:root:[0] Ed: 60800, train_loss: 1.48745, acc: 0.36222\n"
          ]
        },
        {
          "name": "stdout",
          "output_type": "stream",
          "text": [
            "[INFO 2025-03-02 18:59:45,275] [0] Ed: 60800, train_loss: 1.48745, acc: 0.36222\n"
          ]
        },
        {
          "name": "stderr",
          "output_type": "stream",
          "text": [
            "INFO:root:[0] Ed: 64000, train_loss: 1.48355, acc: 0.36459\n"
          ]
        },
        {
          "name": "stdout",
          "output_type": "stream",
          "text": [
            "[INFO 2025-03-02 19:00:11,207] [0] Ed: 64000, train_loss: 1.48355, acc: 0.36459\n"
          ]
        },
        {
          "name": "stderr",
          "output_type": "stream",
          "text": [
            "INFO:root:[0] Ed: 67200, train_loss: 1.47989, acc: 0.36689\n"
          ]
        },
        {
          "name": "stdout",
          "output_type": "stream",
          "text": [
            "[INFO 2025-03-02 19:00:37,170] [0] Ed: 67200, train_loss: 1.47989, acc: 0.36689\n"
          ]
        },
        {
          "name": "stderr",
          "output_type": "stream",
          "text": [
            "INFO:root:[0] Ed: 70400, train_loss: 1.47650, acc: 0.36902\n"
          ]
        },
        {
          "name": "stdout",
          "output_type": "stream",
          "text": [
            "[INFO 2025-03-02 19:01:03,220] [0] Ed: 70400, train_loss: 1.47650, acc: 0.36902\n"
          ]
        },
        {
          "name": "stderr",
          "output_type": "stream",
          "text": [
            "INFO:root:[0] Ed: 73600, train_loss: 1.47349, acc: 0.37083\n"
          ]
        },
        {
          "name": "stdout",
          "output_type": "stream",
          "text": [
            "[INFO 2025-03-02 19:01:29,251] [0] Ed: 73600, train_loss: 1.47349, acc: 0.37083\n"
          ]
        },
        {
          "name": "stderr",
          "output_type": "stream",
          "text": [
            "INFO:root:[0] Ed: 76800, train_loss: 1.46981, acc: 0.37327\n"
          ]
        },
        {
          "name": "stdout",
          "output_type": "stream",
          "text": [
            "[INFO 2025-03-02 19:01:55,526] [0] Ed: 76800, train_loss: 1.46981, acc: 0.37327\n"
          ]
        },
        {
          "name": "stderr",
          "output_type": "stream",
          "text": [
            "INFO:root:[0] Ed: 80000, train_loss: 1.46763, acc: 0.37439\n"
          ]
        },
        {
          "name": "stdout",
          "output_type": "stream",
          "text": [
            "[INFO 2025-03-02 19:02:21,569] [0] Ed: 80000, train_loss: 1.46763, acc: 0.37439\n"
          ]
        },
        {
          "name": "stderr",
          "output_type": "stream",
          "text": [
            "INFO:root:[0] Ed: 83200, train_loss: 1.46446, acc: 0.37602\n"
          ]
        },
        {
          "name": "stdout",
          "output_type": "stream",
          "text": [
            "[INFO 2025-03-02 19:02:47,623] [0] Ed: 83200, train_loss: 1.46446, acc: 0.37602\n"
          ]
        },
        {
          "name": "stderr",
          "output_type": "stream",
          "text": [
            "INFO:root:[0] Ed: 86400, train_loss: 1.46186, acc: 0.37753\n"
          ]
        },
        {
          "name": "stdout",
          "output_type": "stream",
          "text": [
            "[INFO 2025-03-02 19:03:13,591] [0] Ed: 86400, train_loss: 1.46186, acc: 0.37753\n"
          ]
        },
        {
          "name": "stderr",
          "output_type": "stream",
          "text": [
            "INFO:root:[0] Ed: 89600, train_loss: 1.45861, acc: 0.37940\n"
          ]
        },
        {
          "name": "stdout",
          "output_type": "stream",
          "text": [
            "[INFO 2025-03-02 19:03:39,581] [0] Ed: 89600, train_loss: 1.45861, acc: 0.37940\n"
          ]
        },
        {
          "name": "stderr",
          "output_type": "stream",
          "text": [
            "INFO:root:[0] Ed: 92800, train_loss: 1.45650, acc: 0.38099\n"
          ]
        },
        {
          "name": "stdout",
          "output_type": "stream",
          "text": [
            "[INFO 2025-03-02 19:04:05,579] [0] Ed: 92800, train_loss: 1.45650, acc: 0.38099\n"
          ]
        },
        {
          "name": "stderr",
          "output_type": "stream",
          "text": [
            "INFO:root:[0] Ed: 96000, train_loss: 1.45410, acc: 0.38249\n"
          ]
        },
        {
          "name": "stdout",
          "output_type": "stream",
          "text": [
            "[INFO 2025-03-02 19:04:31,567] [0] Ed: 96000, train_loss: 1.45410, acc: 0.38249\n"
          ]
        },
        {
          "name": "stderr",
          "output_type": "stream",
          "text": [
            "INFO:root:[0] Ed: 99200, train_loss: 1.45241, acc: 0.38350\n"
          ]
        },
        {
          "name": "stdout",
          "output_type": "stream",
          "text": [
            "[INFO 2025-03-02 19:04:57,549] [0] Ed: 99200, train_loss: 1.45241, acc: 0.38350\n"
          ]
        },
        {
          "name": "stderr",
          "output_type": "stream",
          "text": [
            "INFO:root:[0] Ed: 102400, train_loss: 1.44978, acc: 0.38515\n"
          ]
        },
        {
          "name": "stdout",
          "output_type": "stream",
          "text": [
            "[INFO 2025-03-02 19:05:23,516] [0] Ed: 102400, train_loss: 1.44978, acc: 0.38515\n"
          ]
        },
        {
          "name": "stderr",
          "output_type": "stream",
          "text": [
            "INFO:root:[0] Ed: 105600, train_loss: 1.44743, acc: 0.38692\n"
          ]
        },
        {
          "name": "stdout",
          "output_type": "stream",
          "text": [
            "[INFO 2025-03-02 19:05:49,424] [0] Ed: 105600, train_loss: 1.44743, acc: 0.38692\n"
          ]
        },
        {
          "name": "stderr",
          "output_type": "stream",
          "text": [
            "INFO:root:[0] Ed: 108800, train_loss: 1.44564, acc: 0.38797\n"
          ]
        },
        {
          "name": "stdout",
          "output_type": "stream",
          "text": [
            "[INFO 2025-03-02 19:06:15,393] [0] Ed: 108800, train_loss: 1.44564, acc: 0.38797\n"
          ]
        },
        {
          "name": "stderr",
          "output_type": "stream",
          "text": [
            "INFO:root:[0] Ed: 112000, train_loss: 1.44370, acc: 0.38927\n"
          ]
        },
        {
          "name": "stdout",
          "output_type": "stream",
          "text": [
            "[INFO 2025-03-02 19:06:41,366] [0] Ed: 112000, train_loss: 1.44370, acc: 0.38927\n"
          ]
        },
        {
          "name": "stderr",
          "output_type": "stream",
          "text": [
            "INFO:root:[0] Ed: 115200, train_loss: 1.44189, acc: 0.39030\n"
          ]
        },
        {
          "name": "stdout",
          "output_type": "stream",
          "text": [
            "[INFO 2025-03-02 19:07:07,240] [0] Ed: 115200, train_loss: 1.44189, acc: 0.39030\n"
          ]
        },
        {
          "name": "stderr",
          "output_type": "stream",
          "text": [
            "INFO:root:[0] Ed: 118400, train_loss: 1.43974, acc: 0.39138\n"
          ]
        },
        {
          "name": "stdout",
          "output_type": "stream",
          "text": [
            "[INFO 2025-03-02 19:07:33,220] [0] Ed: 118400, train_loss: 1.43974, acc: 0.39138\n"
          ]
        },
        {
          "name": "stderr",
          "output_type": "stream",
          "text": [
            "INFO:root:[0] Ed: 121600, train_loss: 1.43817, acc: 0.39243\n"
          ]
        },
        {
          "name": "stdout",
          "output_type": "stream",
          "text": [
            "[INFO 2025-03-02 19:07:59,114] [0] Ed: 121600, train_loss: 1.43817, acc: 0.39243\n"
          ]
        },
        {
          "name": "stderr",
          "output_type": "stream",
          "text": [
            "INFO:root:[0] Ed: 124800, train_loss: 1.43639, acc: 0.39353\n"
          ]
        },
        {
          "name": "stdout",
          "output_type": "stream",
          "text": [
            "[INFO 2025-03-02 19:08:25,099] [0] Ed: 124800, train_loss: 1.43639, acc: 0.39353\n"
          ]
        },
        {
          "name": "stderr",
          "output_type": "stream",
          "text": [
            "INFO:root:[0] Ed: 128000, train_loss: 1.43515, acc: 0.39439\n"
          ]
        },
        {
          "name": "stdout",
          "output_type": "stream",
          "text": [
            "[INFO 2025-03-02 19:08:51,061] [0] Ed: 128000, train_loss: 1.43515, acc: 0.39439\n"
          ]
        },
        {
          "name": "stderr",
          "output_type": "stream",
          "text": [
            "INFO:root:[0] Ed: 131200, train_loss: 1.43340, acc: 0.39532\n"
          ]
        },
        {
          "name": "stdout",
          "output_type": "stream",
          "text": [
            "[INFO 2025-03-02 19:09:16,977] [0] Ed: 131200, train_loss: 1.43340, acc: 0.39532\n"
          ]
        },
        {
          "name": "stderr",
          "output_type": "stream",
          "text": [
            "INFO:root:[0] Ed: 134400, train_loss: 1.43196, acc: 0.39628\n"
          ]
        },
        {
          "name": "stdout",
          "output_type": "stream",
          "text": [
            "[INFO 2025-03-02 19:09:42,992] [0] Ed: 134400, train_loss: 1.43196, acc: 0.39628\n"
          ]
        },
        {
          "name": "stderr",
          "output_type": "stream",
          "text": [
            "INFO:root:[0] Ed: 137600, train_loss: 1.43069, acc: 0.39719\n"
          ]
        },
        {
          "name": "stdout",
          "output_type": "stream",
          "text": [
            "[INFO 2025-03-02 19:10:08,974] [0] Ed: 137600, train_loss: 1.43069, acc: 0.39719\n"
          ]
        },
        {
          "name": "stderr",
          "output_type": "stream",
          "text": [
            "INFO:root:[0] Ed: 140800, train_loss: 1.42899, acc: 0.39834\n"
          ]
        },
        {
          "name": "stdout",
          "output_type": "stream",
          "text": [
            "[INFO 2025-03-02 19:10:34,884] [0] Ed: 140800, train_loss: 1.42899, acc: 0.39834\n"
          ]
        },
        {
          "name": "stderr",
          "output_type": "stream",
          "text": [
            "INFO:root:[0] Ed: 144000, train_loss: 1.42756, acc: 0.39904\n"
          ]
        },
        {
          "name": "stdout",
          "output_type": "stream",
          "text": [
            "[INFO 2025-03-02 19:11:00,871] [0] Ed: 144000, train_loss: 1.42756, acc: 0.39904\n"
          ]
        },
        {
          "name": "stderr",
          "output_type": "stream",
          "text": [
            "INFO:root:[0] Ed: 147200, train_loss: 1.42585, acc: 0.40013\n"
          ]
        },
        {
          "name": "stdout",
          "output_type": "stream",
          "text": [
            "[INFO 2025-03-02 19:11:26,982] [0] Ed: 147200, train_loss: 1.42585, acc: 0.40013\n"
          ]
        },
        {
          "name": "stderr",
          "output_type": "stream",
          "text": [
            "INFO:root:[0] Ed: 150400, train_loss: 1.42431, acc: 0.40075\n"
          ]
        },
        {
          "name": "stdout",
          "output_type": "stream",
          "text": [
            "[INFO 2025-03-02 19:11:52,959] [0] Ed: 150400, train_loss: 1.42431, acc: 0.40075\n"
          ]
        },
        {
          "name": "stderr",
          "output_type": "stream",
          "text": [
            "INFO:root:[0] Ed: 153600, train_loss: 1.42288, acc: 0.40149\n"
          ]
        },
        {
          "name": "stdout",
          "output_type": "stream",
          "text": [
            "[INFO 2025-03-02 19:12:18,891] [0] Ed: 153600, train_loss: 1.42288, acc: 0.40149\n"
          ]
        },
        {
          "name": "stderr",
          "output_type": "stream",
          "text": [
            "INFO:root:[0] Ed: 156800, train_loss: 1.42151, acc: 0.40235\n"
          ]
        },
        {
          "name": "stdout",
          "output_type": "stream",
          "text": [
            "[INFO 2025-03-02 19:12:44,901] [0] Ed: 156800, train_loss: 1.42151, acc: 0.40235\n"
          ]
        },
        {
          "name": "stderr",
          "output_type": "stream",
          "text": [
            "INFO:root:[0] Ed: 160000, train_loss: 1.42019, acc: 0.40322\n"
          ]
        },
        {
          "name": "stdout",
          "output_type": "stream",
          "text": [
            "[INFO 2025-03-02 19:13:10,763] [0] Ed: 160000, train_loss: 1.42019, acc: 0.40322\n"
          ]
        },
        {
          "name": "stderr",
          "output_type": "stream",
          "text": [
            "INFO:root:[0] Ed: 163200, train_loss: 1.41899, acc: 0.40379\n"
          ]
        },
        {
          "name": "stdout",
          "output_type": "stream",
          "text": [
            "[INFO 2025-03-02 19:13:36,773] [0] Ed: 163200, train_loss: 1.41899, acc: 0.40379\n"
          ]
        },
        {
          "name": "stderr",
          "output_type": "stream",
          "text": [
            "INFO:root:[0] Ed: 166400, train_loss: 1.41773, acc: 0.40479\n"
          ]
        },
        {
          "name": "stdout",
          "output_type": "stream",
          "text": [
            "[INFO 2025-03-02 19:14:02,830] [0] Ed: 166400, train_loss: 1.41773, acc: 0.40479\n"
          ]
        },
        {
          "name": "stderr",
          "output_type": "stream",
          "text": [
            "INFO:root:[0] Ed: 169600, train_loss: 1.41653, acc: 0.40560\n"
          ]
        },
        {
          "name": "stdout",
          "output_type": "stream",
          "text": [
            "[INFO 2025-03-02 19:14:28,825] [0] Ed: 169600, train_loss: 1.41653, acc: 0.40560\n"
          ]
        },
        {
          "name": "stderr",
          "output_type": "stream",
          "text": [
            "INFO:root:[0] Ed: 172800, train_loss: 1.41525, acc: 0.40647\n"
          ]
        },
        {
          "name": "stdout",
          "output_type": "stream",
          "text": [
            "[INFO 2025-03-02 19:14:54,739] [0] Ed: 172800, train_loss: 1.41525, acc: 0.40647\n"
          ]
        },
        {
          "name": "stderr",
          "output_type": "stream",
          "text": [
            "INFO:root:[0] Ed: 176000, train_loss: 1.41423, acc: 0.40714\n"
          ]
        },
        {
          "name": "stdout",
          "output_type": "stream",
          "text": [
            "[INFO 2025-03-02 19:15:20,757] [0] Ed: 176000, train_loss: 1.41423, acc: 0.40714\n"
          ]
        },
        {
          "name": "stderr",
          "output_type": "stream",
          "text": [
            "INFO:root:[0] Ed: 179200, train_loss: 1.41306, acc: 0.40776\n"
          ]
        },
        {
          "name": "stdout",
          "output_type": "stream",
          "text": [
            "[INFO 2025-03-02 19:15:46,769] [0] Ed: 179200, train_loss: 1.41306, acc: 0.40776\n"
          ]
        },
        {
          "name": "stderr",
          "output_type": "stream",
          "text": [
            "INFO:root:[0] Ed: 182400, train_loss: 1.41221, acc: 0.40832\n"
          ]
        },
        {
          "name": "stdout",
          "output_type": "stream",
          "text": [
            "[INFO 2025-03-02 19:16:12,755] [0] Ed: 182400, train_loss: 1.41221, acc: 0.40832\n"
          ]
        },
        {
          "name": "stderr",
          "output_type": "stream",
          "text": [
            "INFO:root:[0] Ed: 185600, train_loss: 1.41103, acc: 0.40897\n"
          ]
        },
        {
          "name": "stdout",
          "output_type": "stream",
          "text": [
            "[INFO 2025-03-02 19:16:38,672] [0] Ed: 185600, train_loss: 1.41103, acc: 0.40897\n"
          ]
        },
        {
          "name": "stderr",
          "output_type": "stream",
          "text": [
            "INFO:root:[0] Ed: 188800, train_loss: 1.40995, acc: 0.40949\n"
          ]
        },
        {
          "name": "stdout",
          "output_type": "stream",
          "text": [
            "[INFO 2025-03-02 19:17:04,651] [0] Ed: 188800, train_loss: 1.40995, acc: 0.40949\n"
          ]
        },
        {
          "name": "stderr",
          "output_type": "stream",
          "text": [
            "INFO:root:[0] Ed: 192000, train_loss: 1.40916, acc: 0.40979\n"
          ]
        },
        {
          "name": "stdout",
          "output_type": "stream",
          "text": [
            "[INFO 2025-03-02 19:17:30,620] [0] Ed: 192000, train_loss: 1.40916, acc: 0.40979\n"
          ]
        },
        {
          "name": "stderr",
          "output_type": "stream",
          "text": [
            "INFO:root:[0] Ed: 195200, train_loss: 1.40817, acc: 0.41032\n"
          ]
        },
        {
          "name": "stdout",
          "output_type": "stream",
          "text": [
            "[INFO 2025-03-02 19:17:56,551] [0] Ed: 195200, train_loss: 1.40817, acc: 0.41032\n"
          ]
        },
        {
          "name": "stderr",
          "output_type": "stream",
          "text": [
            "INFO:root:[0] Ed: 198400, train_loss: 1.40731, acc: 0.41100\n"
          ]
        },
        {
          "name": "stdout",
          "output_type": "stream",
          "text": [
            "[INFO 2025-03-02 19:18:22,563] [0] Ed: 198400, train_loss: 1.40731, acc: 0.41100\n"
          ]
        },
        {
          "name": "stderr",
          "output_type": "stream",
          "text": [
            "INFO:root:[0] Ed: 201600, train_loss: 1.40650, acc: 0.41145\n"
          ]
        },
        {
          "name": "stdout",
          "output_type": "stream",
          "text": [
            "[INFO 2025-03-02 19:18:48,443] [0] Ed: 201600, train_loss: 1.40650, acc: 0.41145\n"
          ]
        },
        {
          "name": "stderr",
          "output_type": "stream",
          "text": [
            "INFO:root:[0] Ed: 204800, train_loss: 1.40588, acc: 0.41186\n"
          ]
        },
        {
          "name": "stdout",
          "output_type": "stream",
          "text": [
            "[INFO 2025-03-02 19:19:14,416] [0] Ed: 204800, train_loss: 1.40588, acc: 0.41186\n"
          ]
        },
        {
          "name": "stderr",
          "output_type": "stream",
          "text": [
            "INFO:root:[0] Ed: 208000, train_loss: 1.40524, acc: 0.41230\n"
          ]
        },
        {
          "name": "stdout",
          "output_type": "stream",
          "text": [
            "[INFO 2025-03-02 19:19:40,408] [0] Ed: 208000, train_loss: 1.40524, acc: 0.41230\n"
          ]
        },
        {
          "name": "stderr",
          "output_type": "stream",
          "text": [
            "INFO:root:[0] Ed: 211200, train_loss: 1.40442, acc: 0.41277\n"
          ]
        },
        {
          "name": "stdout",
          "output_type": "stream",
          "text": [
            "[INFO 2025-03-02 19:20:06,326] [0] Ed: 211200, train_loss: 1.40442, acc: 0.41277\n"
          ]
        },
        {
          "name": "stderr",
          "output_type": "stream",
          "text": [
            "INFO:root:[0] Ed: 214400, train_loss: 1.40372, acc: 0.41333\n"
          ]
        },
        {
          "name": "stdout",
          "output_type": "stream",
          "text": [
            "[INFO 2025-03-02 19:20:32,288] [0] Ed: 214400, train_loss: 1.40372, acc: 0.41333\n"
          ]
        },
        {
          "name": "stderr",
          "output_type": "stream",
          "text": [
            "INFO:root:[0] Ed: 217600, train_loss: 1.40297, acc: 0.41365\n"
          ]
        },
        {
          "name": "stdout",
          "output_type": "stream",
          "text": [
            "[INFO 2025-03-02 19:20:58,219] [0] Ed: 217600, train_loss: 1.40297, acc: 0.41365\n"
          ]
        },
        {
          "name": "stderr",
          "output_type": "stream",
          "text": [
            "INFO:root:[0] Ed: 220800, train_loss: 1.40203, acc: 0.41410\n"
          ]
        },
        {
          "name": "stdout",
          "output_type": "stream",
          "text": [
            "[INFO 2025-03-02 19:21:24,418] [0] Ed: 220800, train_loss: 1.40203, acc: 0.41410\n"
          ]
        },
        {
          "name": "stderr",
          "output_type": "stream",
          "text": [
            "INFO:root:[0] Ed: 224000, train_loss: 1.40106, acc: 0.41463\n"
          ]
        },
        {
          "name": "stdout",
          "output_type": "stream",
          "text": [
            "[INFO 2025-03-02 19:21:50,380] [0] Ed: 224000, train_loss: 1.40106, acc: 0.41463\n"
          ]
        },
        {
          "name": "stderr",
          "output_type": "stream",
          "text": [
            "INFO:root:[0] Ed: 227200, train_loss: 1.40008, acc: 0.41526\n"
          ]
        },
        {
          "name": "stdout",
          "output_type": "stream",
          "text": [
            "[INFO 2025-03-02 19:22:16,315] [0] Ed: 227200, train_loss: 1.40008, acc: 0.41526\n"
          ]
        },
        {
          "name": "stderr",
          "output_type": "stream",
          "text": [
            "INFO:root:[0] Ed: 230400, train_loss: 1.39912, acc: 0.41590\n"
          ]
        },
        {
          "name": "stdout",
          "output_type": "stream",
          "text": [
            "[INFO 2025-03-02 19:22:42,285] [0] Ed: 230400, train_loss: 1.39912, acc: 0.41590\n"
          ]
        },
        {
          "name": "stderr",
          "output_type": "stream",
          "text": [
            "INFO:root:[0] Ed: 233600, train_loss: 1.39797, acc: 0.41658\n"
          ]
        },
        {
          "name": "stdout",
          "output_type": "stream",
          "text": [
            "[INFO 2025-03-02 19:23:08,247] [0] Ed: 233600, train_loss: 1.39797, acc: 0.41658\n"
          ]
        },
        {
          "name": "stderr",
          "output_type": "stream",
          "text": [
            "INFO:root:Training finish.\n"
          ]
        },
        {
          "name": "stdout",
          "output_type": "stream",
          "text": [
            "[INFO 2025-03-02 19:23:30,330] Training finish.\n"
          ]
        },
        {
          "name": "stderr",
          "output_type": "stream",
          "text": [
            "INFO:root:Model saved to /content/model/epoch-1.pt.\n"
          ]
        },
        {
          "name": "stdout",
          "output_type": "stream",
          "text": [
            "[INFO 2025-03-02 19:23:30,386] Model saved to /content/model/epoch-1.pt.\n"
          ]
        },
        {
          "name": "stderr",
          "output_type": "stream",
          "text": [
            "INFO:root:[0] Ed: 0, train_loss: inf, acc: inf\n"
          ]
        },
        {
          "name": "stdout",
          "output_type": "stream",
          "text": [
            "[INFO 2025-03-02 19:23:30,671] [0] Ed: 0, train_loss: inf, acc: inf\n"
          ]
        },
        {
          "name": "stderr",
          "output_type": "stream",
          "text": [
            "INFO:root:[0] Ed: 3200, train_loss: 1.36322, acc: 0.45125\n"
          ]
        },
        {
          "name": "stdout",
          "output_type": "stream",
          "text": [
            "[INFO 2025-03-02 19:23:56,625] [0] Ed: 3200, train_loss: 1.36322, acc: 0.45125\n"
          ]
        },
        {
          "name": "stderr",
          "output_type": "stream",
          "text": [
            "INFO:root:[0] Ed: 6400, train_loss: 1.34776, acc: 0.45531\n"
          ]
        },
        {
          "name": "stdout",
          "output_type": "stream",
          "text": [
            "[INFO 2025-03-02 19:24:22,570] [0] Ed: 6400, train_loss: 1.34776, acc: 0.45531\n"
          ]
        },
        {
          "name": "stderr",
          "output_type": "stream",
          "text": [
            "INFO:root:[0] Ed: 9600, train_loss: 1.34390, acc: 0.45146\n"
          ]
        },
        {
          "name": "stdout",
          "output_type": "stream",
          "text": [
            "[INFO 2025-03-02 19:24:48,592] [0] Ed: 9600, train_loss: 1.34390, acc: 0.45146\n"
          ]
        },
        {
          "name": "stderr",
          "output_type": "stream",
          "text": [
            "INFO:root:[0] Ed: 12800, train_loss: 1.34202, acc: 0.45141\n"
          ]
        },
        {
          "name": "stdout",
          "output_type": "stream",
          "text": [
            "[INFO 2025-03-02 19:25:14,602] [0] Ed: 12800, train_loss: 1.34202, acc: 0.45141\n"
          ]
        },
        {
          "name": "stderr",
          "output_type": "stream",
          "text": [
            "INFO:root:[0] Ed: 16000, train_loss: 1.34370, acc: 0.45019\n"
          ]
        },
        {
          "name": "stdout",
          "output_type": "stream",
          "text": [
            "[INFO 2025-03-02 19:25:40,602] [0] Ed: 16000, train_loss: 1.34370, acc: 0.45019\n"
          ]
        },
        {
          "name": "stderr",
          "output_type": "stream",
          "text": [
            "INFO:root:[0] Ed: 19200, train_loss: 1.34374, acc: 0.45021\n"
          ]
        },
        {
          "name": "stdout",
          "output_type": "stream",
          "text": [
            "[INFO 2025-03-02 19:26:06,551] [0] Ed: 19200, train_loss: 1.34374, acc: 0.45021\n"
          ]
        },
        {
          "name": "stderr",
          "output_type": "stream",
          "text": [
            "INFO:root:[0] Ed: 22400, train_loss: 1.34305, acc: 0.44991\n"
          ]
        },
        {
          "name": "stdout",
          "output_type": "stream",
          "text": [
            "[INFO 2025-03-02 19:26:32,430] [0] Ed: 22400, train_loss: 1.34305, acc: 0.44991\n"
          ]
        },
        {
          "name": "stderr",
          "output_type": "stream",
          "text": [
            "INFO:root:[0] Ed: 25600, train_loss: 1.34376, acc: 0.44926\n"
          ]
        },
        {
          "name": "stdout",
          "output_type": "stream",
          "text": [
            "[INFO 2025-03-02 19:26:58,318] [0] Ed: 25600, train_loss: 1.34376, acc: 0.44926\n"
          ]
        },
        {
          "name": "stderr",
          "output_type": "stream",
          "text": [
            "INFO:root:[0] Ed: 28800, train_loss: 1.34246, acc: 0.45083\n"
          ]
        },
        {
          "name": "stdout",
          "output_type": "stream",
          "text": [
            "[INFO 2025-03-02 19:27:24,121] [0] Ed: 28800, train_loss: 1.34246, acc: 0.45083\n"
          ]
        },
        {
          "name": "stderr",
          "output_type": "stream",
          "text": [
            "INFO:root:[0] Ed: 32000, train_loss: 1.34191, acc: 0.45081\n"
          ]
        },
        {
          "name": "stdout",
          "output_type": "stream",
          "text": [
            "[INFO 2025-03-02 19:27:49,958] [0] Ed: 32000, train_loss: 1.34191, acc: 0.45081\n"
          ]
        },
        {
          "name": "stderr",
          "output_type": "stream",
          "text": [
            "INFO:root:[0] Ed: 35200, train_loss: 1.34347, acc: 0.44952\n"
          ]
        },
        {
          "name": "stdout",
          "output_type": "stream",
          "text": [
            "[INFO 2025-03-02 19:28:15,882] [0] Ed: 35200, train_loss: 1.34347, acc: 0.44952\n"
          ]
        },
        {
          "name": "stderr",
          "output_type": "stream",
          "text": [
            "INFO:root:[0] Ed: 38400, train_loss: 1.34188, acc: 0.45055\n"
          ]
        },
        {
          "name": "stdout",
          "output_type": "stream",
          "text": [
            "[INFO 2025-03-02 19:28:41,796] [0] Ed: 38400, train_loss: 1.34188, acc: 0.45055\n"
          ]
        },
        {
          "name": "stderr",
          "output_type": "stream",
          "text": [
            "INFO:root:[0] Ed: 41600, train_loss: 1.34026, acc: 0.45175\n"
          ]
        },
        {
          "name": "stdout",
          "output_type": "stream",
          "text": [
            "[INFO 2025-03-02 19:29:07,810] [0] Ed: 41600, train_loss: 1.34026, acc: 0.45175\n"
          ]
        },
        {
          "name": "stderr",
          "output_type": "stream",
          "text": [
            "INFO:root:[0] Ed: 44800, train_loss: 1.33942, acc: 0.45223\n"
          ]
        },
        {
          "name": "stdout",
          "output_type": "stream",
          "text": [
            "[INFO 2025-03-02 19:29:33,919] [0] Ed: 44800, train_loss: 1.33942, acc: 0.45223\n"
          ]
        },
        {
          "name": "stderr",
          "output_type": "stream",
          "text": [
            "INFO:root:[0] Ed: 48000, train_loss: 1.33982, acc: 0.45167\n"
          ]
        },
        {
          "name": "stdout",
          "output_type": "stream",
          "text": [
            "[INFO 2025-03-02 19:29:59,889] [0] Ed: 48000, train_loss: 1.33982, acc: 0.45167\n"
          ]
        },
        {
          "name": "stderr",
          "output_type": "stream",
          "text": [
            "INFO:root:[0] Ed: 51200, train_loss: 1.33882, acc: 0.45186\n"
          ]
        },
        {
          "name": "stdout",
          "output_type": "stream",
          "text": [
            "[INFO 2025-03-02 19:30:25,862] [0] Ed: 51200, train_loss: 1.33882, acc: 0.45186\n"
          ]
        },
        {
          "name": "stderr",
          "output_type": "stream",
          "text": [
            "INFO:root:[0] Ed: 54400, train_loss: 1.33780, acc: 0.45285\n"
          ]
        },
        {
          "name": "stdout",
          "output_type": "stream",
          "text": [
            "[INFO 2025-03-02 19:30:51,788] [0] Ed: 54400, train_loss: 1.33780, acc: 0.45285\n"
          ]
        },
        {
          "name": "stderr",
          "output_type": "stream",
          "text": [
            "INFO:root:[0] Ed: 57600, train_loss: 1.33682, acc: 0.45342\n"
          ]
        },
        {
          "name": "stdout",
          "output_type": "stream",
          "text": [
            "[INFO 2025-03-02 19:31:18,041] [0] Ed: 57600, train_loss: 1.33682, acc: 0.45342\n"
          ]
        },
        {
          "name": "stderr",
          "output_type": "stream",
          "text": [
            "INFO:root:[0] Ed: 60800, train_loss: 1.33648, acc: 0.45334\n"
          ]
        },
        {
          "name": "stdout",
          "output_type": "stream",
          "text": [
            "[INFO 2025-03-02 19:31:44,020] [0] Ed: 60800, train_loss: 1.33648, acc: 0.45334\n"
          ]
        },
        {
          "name": "stderr",
          "output_type": "stream",
          "text": [
            "INFO:root:[0] Ed: 64000, train_loss: 1.33522, acc: 0.45386\n"
          ]
        },
        {
          "name": "stdout",
          "output_type": "stream",
          "text": [
            "[INFO 2025-03-02 19:32:10,001] [0] Ed: 64000, train_loss: 1.33522, acc: 0.45386\n"
          ]
        },
        {
          "name": "stderr",
          "output_type": "stream",
          "text": [
            "INFO:root:[0] Ed: 67200, train_loss: 1.33450, acc: 0.45464\n"
          ]
        },
        {
          "name": "stdout",
          "output_type": "stream",
          "text": [
            "[INFO 2025-03-02 19:32:35,919] [0] Ed: 67200, train_loss: 1.33450, acc: 0.45464\n"
          ]
        },
        {
          "name": "stderr",
          "output_type": "stream",
          "text": [
            "INFO:root:[0] Ed: 70400, train_loss: 1.33364, acc: 0.45496\n"
          ]
        },
        {
          "name": "stdout",
          "output_type": "stream",
          "text": [
            "[INFO 2025-03-02 19:33:01,908] [0] Ed: 70400, train_loss: 1.33364, acc: 0.45496\n"
          ]
        },
        {
          "name": "stderr",
          "output_type": "stream",
          "text": [
            "INFO:root:[0] Ed: 73600, train_loss: 1.33325, acc: 0.45489\n"
          ]
        },
        {
          "name": "stdout",
          "output_type": "stream",
          "text": [
            "[INFO 2025-03-02 19:33:27,819] [0] Ed: 73600, train_loss: 1.33325, acc: 0.45489\n"
          ]
        },
        {
          "name": "stderr",
          "output_type": "stream",
          "text": [
            "INFO:root:[0] Ed: 76800, train_loss: 1.33225, acc: 0.45536\n"
          ]
        },
        {
          "name": "stdout",
          "output_type": "stream",
          "text": [
            "[INFO 2025-03-02 19:33:53,760] [0] Ed: 76800, train_loss: 1.33225, acc: 0.45536\n"
          ]
        },
        {
          "name": "stderr",
          "output_type": "stream",
          "text": [
            "INFO:root:[0] Ed: 80000, train_loss: 1.33245, acc: 0.45511\n"
          ]
        },
        {
          "name": "stdout",
          "output_type": "stream",
          "text": [
            "[INFO 2025-03-02 19:34:19,738] [0] Ed: 80000, train_loss: 1.33245, acc: 0.45511\n"
          ]
        },
        {
          "name": "stderr",
          "output_type": "stream",
          "text": [
            "INFO:root:[0] Ed: 83200, train_loss: 1.33147, acc: 0.45585\n"
          ]
        },
        {
          "name": "stdout",
          "output_type": "stream",
          "text": [
            "[INFO 2025-03-02 19:34:45,624] [0] Ed: 83200, train_loss: 1.33147, acc: 0.45585\n"
          ]
        },
        {
          "name": "stderr",
          "output_type": "stream",
          "text": [
            "INFO:root:[0] Ed: 86400, train_loss: 1.33095, acc: 0.45582\n"
          ]
        },
        {
          "name": "stdout",
          "output_type": "stream",
          "text": [
            "[INFO 2025-03-02 19:35:11,586] [0] Ed: 86400, train_loss: 1.33095, acc: 0.45582\n"
          ]
        },
        {
          "name": "stderr",
          "output_type": "stream",
          "text": [
            "INFO:root:[0] Ed: 89600, train_loss: 1.32974, acc: 0.45640\n"
          ]
        },
        {
          "name": "stdout",
          "output_type": "stream",
          "text": [
            "[INFO 2025-03-02 19:35:37,471] [0] Ed: 89600, train_loss: 1.32974, acc: 0.45640\n"
          ]
        },
        {
          "name": "stderr",
          "output_type": "stream",
          "text": [
            "INFO:root:[0] Ed: 92800, train_loss: 1.32986, acc: 0.45609\n"
          ]
        },
        {
          "name": "stdout",
          "output_type": "stream",
          "text": [
            "[INFO 2025-03-02 19:36:03,465] [0] Ed: 92800, train_loss: 1.32986, acc: 0.45609\n"
          ]
        },
        {
          "name": "stderr",
          "output_type": "stream",
          "text": [
            "INFO:root:[0] Ed: 96000, train_loss: 1.32896, acc: 0.45660\n"
          ]
        },
        {
          "name": "stdout",
          "output_type": "stream",
          "text": [
            "[INFO 2025-03-02 19:36:29,409] [0] Ed: 96000, train_loss: 1.32896, acc: 0.45660\n"
          ]
        },
        {
          "name": "stderr",
          "output_type": "stream",
          "text": [
            "INFO:root:[0] Ed: 99200, train_loss: 1.32893, acc: 0.45640\n"
          ]
        },
        {
          "name": "stdout",
          "output_type": "stream",
          "text": [
            "[INFO 2025-03-02 19:36:55,311] [0] Ed: 99200, train_loss: 1.32893, acc: 0.45640\n"
          ]
        },
        {
          "name": "stderr",
          "output_type": "stream",
          "text": [
            "INFO:root:[0] Ed: 102400, train_loss: 1.32792, acc: 0.45672\n"
          ]
        },
        {
          "name": "stdout",
          "output_type": "stream",
          "text": [
            "[INFO 2025-03-02 19:37:21,270] [0] Ed: 102400, train_loss: 1.32792, acc: 0.45672\n"
          ]
        },
        {
          "name": "stderr",
          "output_type": "stream",
          "text": [
            "INFO:root:[0] Ed: 105600, train_loss: 1.32672, acc: 0.45742\n"
          ]
        },
        {
          "name": "stdout",
          "output_type": "stream",
          "text": [
            "[INFO 2025-03-02 19:37:47,275] [0] Ed: 105600, train_loss: 1.32672, acc: 0.45742\n"
          ]
        },
        {
          "name": "stderr",
          "output_type": "stream",
          "text": [
            "INFO:root:[0] Ed: 108800, train_loss: 1.32654, acc: 0.45754\n"
          ]
        },
        {
          "name": "stdout",
          "output_type": "stream",
          "text": [
            "[INFO 2025-03-02 19:38:13,209] [0] Ed: 108800, train_loss: 1.32654, acc: 0.45754\n"
          ]
        },
        {
          "name": "stderr",
          "output_type": "stream",
          "text": [
            "INFO:root:[0] Ed: 112000, train_loss: 1.32643, acc: 0.45729\n"
          ]
        },
        {
          "name": "stdout",
          "output_type": "stream",
          "text": [
            "[INFO 2025-03-02 19:38:39,196] [0] Ed: 112000, train_loss: 1.32643, acc: 0.45729\n"
          ]
        },
        {
          "name": "stderr",
          "output_type": "stream",
          "text": [
            "INFO:root:[0] Ed: 115200, train_loss: 1.32633, acc: 0.45722\n"
          ]
        },
        {
          "name": "stdout",
          "output_type": "stream",
          "text": [
            "[INFO 2025-03-02 19:39:05,142] [0] Ed: 115200, train_loss: 1.32633, acc: 0.45722\n"
          ]
        },
        {
          "name": "stderr",
          "output_type": "stream",
          "text": [
            "INFO:root:[0] Ed: 118400, train_loss: 1.32544, acc: 0.45762\n"
          ]
        },
        {
          "name": "stdout",
          "output_type": "stream",
          "text": [
            "[INFO 2025-03-02 19:39:31,071] [0] Ed: 118400, train_loss: 1.32544, acc: 0.45762\n"
          ]
        },
        {
          "name": "stderr",
          "output_type": "stream",
          "text": [
            "INFO:root:[0] Ed: 121600, train_loss: 1.32539, acc: 0.45773\n"
          ]
        },
        {
          "name": "stdout",
          "output_type": "stream",
          "text": [
            "[INFO 2025-03-02 19:39:57,070] [0] Ed: 121600, train_loss: 1.32539, acc: 0.45773\n"
          ]
        },
        {
          "name": "stderr",
          "output_type": "stream",
          "text": [
            "INFO:root:[0] Ed: 124800, train_loss: 1.32510, acc: 0.45773\n"
          ]
        },
        {
          "name": "stdout",
          "output_type": "stream",
          "text": [
            "[INFO 2025-03-02 19:40:22,954] [0] Ed: 124800, train_loss: 1.32510, acc: 0.45773\n"
          ]
        },
        {
          "name": "stderr",
          "output_type": "stream",
          "text": [
            "INFO:root:[0] Ed: 128000, train_loss: 1.32527, acc: 0.45766\n"
          ]
        },
        {
          "name": "stdout",
          "output_type": "stream",
          "text": [
            "[INFO 2025-03-02 19:40:49,213] [0] Ed: 128000, train_loss: 1.32527, acc: 0.45766\n"
          ]
        },
        {
          "name": "stderr",
          "output_type": "stream",
          "text": [
            "INFO:root:[0] Ed: 131200, train_loss: 1.32479, acc: 0.45812\n"
          ]
        },
        {
          "name": "stdout",
          "output_type": "stream",
          "text": [
            "[INFO 2025-03-02 19:41:15,279] [0] Ed: 131200, train_loss: 1.32479, acc: 0.45812\n"
          ]
        },
        {
          "name": "stderr",
          "output_type": "stream",
          "text": [
            "INFO:root:[0] Ed: 134400, train_loss: 1.32475, acc: 0.45815\n"
          ]
        },
        {
          "name": "stdout",
          "output_type": "stream",
          "text": [
            "[INFO 2025-03-02 19:41:41,338] [0] Ed: 134400, train_loss: 1.32475, acc: 0.45815\n"
          ]
        },
        {
          "name": "stderr",
          "output_type": "stream",
          "text": [
            "INFO:root:[0] Ed: 137600, train_loss: 1.32483, acc: 0.45828\n"
          ]
        },
        {
          "name": "stdout",
          "output_type": "stream",
          "text": [
            "[INFO 2025-03-02 19:42:07,423] [0] Ed: 137600, train_loss: 1.32483, acc: 0.45828\n"
          ]
        },
        {
          "name": "stderr",
          "output_type": "stream",
          "text": [
            "INFO:root:[0] Ed: 140800, train_loss: 1.32430, acc: 0.45882\n"
          ]
        },
        {
          "name": "stdout",
          "output_type": "stream",
          "text": [
            "[INFO 2025-03-02 19:42:33,381] [0] Ed: 140800, train_loss: 1.32430, acc: 0.45882\n"
          ]
        },
        {
          "name": "stderr",
          "output_type": "stream",
          "text": [
            "INFO:root:[0] Ed: 144000, train_loss: 1.32393, acc: 0.45885\n"
          ]
        },
        {
          "name": "stdout",
          "output_type": "stream",
          "text": [
            "[INFO 2025-03-02 19:42:59,285] [0] Ed: 144000, train_loss: 1.32393, acc: 0.45885\n"
          ]
        },
        {
          "name": "stderr",
          "output_type": "stream",
          "text": [
            "INFO:root:[0] Ed: 147200, train_loss: 1.32338, acc: 0.45923\n"
          ]
        },
        {
          "name": "stdout",
          "output_type": "stream",
          "text": [
            "[INFO 2025-03-02 19:43:25,206] [0] Ed: 147200, train_loss: 1.32338, acc: 0.45923\n"
          ]
        },
        {
          "name": "stderr",
          "output_type": "stream",
          "text": [
            "INFO:root:[0] Ed: 150400, train_loss: 1.32274, acc: 0.45932\n"
          ]
        },
        {
          "name": "stdout",
          "output_type": "stream",
          "text": [
            "[INFO 2025-03-02 19:43:51,181] [0] Ed: 150400, train_loss: 1.32274, acc: 0.45932\n"
          ]
        },
        {
          "name": "stderr",
          "output_type": "stream",
          "text": [
            "INFO:root:[0] Ed: 153600, train_loss: 1.32232, acc: 0.45939\n"
          ]
        },
        {
          "name": "stdout",
          "output_type": "stream",
          "text": [
            "[INFO 2025-03-02 19:44:17,202] [0] Ed: 153600, train_loss: 1.32232, acc: 0.45939\n"
          ]
        },
        {
          "name": "stderr",
          "output_type": "stream",
          "text": [
            "INFO:root:[0] Ed: 156800, train_loss: 1.32181, acc: 0.45978\n"
          ]
        },
        {
          "name": "stdout",
          "output_type": "stream",
          "text": [
            "[INFO 2025-03-02 19:44:43,324] [0] Ed: 156800, train_loss: 1.32181, acc: 0.45978\n"
          ]
        },
        {
          "name": "stderr",
          "output_type": "stream",
          "text": [
            "INFO:root:[0] Ed: 160000, train_loss: 1.32146, acc: 0.45988\n"
          ]
        },
        {
          "name": "stdout",
          "output_type": "stream",
          "text": [
            "[INFO 2025-03-02 19:45:09,390] [0] Ed: 160000, train_loss: 1.32146, acc: 0.45988\n"
          ]
        },
        {
          "name": "stderr",
          "output_type": "stream",
          "text": [
            "INFO:root:[0] Ed: 163200, train_loss: 1.32118, acc: 0.45993\n"
          ]
        },
        {
          "name": "stdout",
          "output_type": "stream",
          "text": [
            "[INFO 2025-03-02 19:45:35,404] [0] Ed: 163200, train_loss: 1.32118, acc: 0.45993\n"
          ]
        },
        {
          "name": "stderr",
          "output_type": "stream",
          "text": [
            "INFO:root:[0] Ed: 166400, train_loss: 1.32094, acc: 0.46016\n"
          ]
        },
        {
          "name": "stdout",
          "output_type": "stream",
          "text": [
            "[INFO 2025-03-02 19:46:01,430] [0] Ed: 166400, train_loss: 1.32094, acc: 0.46016\n"
          ]
        },
        {
          "name": "stderr",
          "output_type": "stream",
          "text": [
            "INFO:root:[0] Ed: 169600, train_loss: 1.32075, acc: 0.46034\n"
          ]
        },
        {
          "name": "stdout",
          "output_type": "stream",
          "text": [
            "[INFO 2025-03-02 19:46:27,454] [0] Ed: 169600, train_loss: 1.32075, acc: 0.46034\n"
          ]
        },
        {
          "name": "stderr",
          "output_type": "stream",
          "text": [
            "INFO:root:[0] Ed: 172800, train_loss: 1.32023, acc: 0.46071\n"
          ]
        },
        {
          "name": "stdout",
          "output_type": "stream",
          "text": [
            "[INFO 2025-03-02 19:46:53,366] [0] Ed: 172800, train_loss: 1.32023, acc: 0.46071\n"
          ]
        },
        {
          "name": "stderr",
          "output_type": "stream",
          "text": [
            "INFO:root:[0] Ed: 176000, train_loss: 1.31997, acc: 0.46085\n"
          ]
        },
        {
          "name": "stdout",
          "output_type": "stream",
          "text": [
            "[INFO 2025-03-02 19:47:19,399] [0] Ed: 176000, train_loss: 1.31997, acc: 0.46085\n"
          ]
        },
        {
          "name": "stderr",
          "output_type": "stream",
          "text": [
            "INFO:root:[0] Ed: 179200, train_loss: 1.31972, acc: 0.46099\n"
          ]
        },
        {
          "name": "stdout",
          "output_type": "stream",
          "text": [
            "[INFO 2025-03-02 19:47:45,467] [0] Ed: 179200, train_loss: 1.31972, acc: 0.46099\n"
          ]
        },
        {
          "name": "stderr",
          "output_type": "stream",
          "text": [
            "INFO:root:[0] Ed: 182400, train_loss: 1.31959, acc: 0.46119\n"
          ]
        },
        {
          "name": "stdout",
          "output_type": "stream",
          "text": [
            "[INFO 2025-03-02 19:48:11,499] [0] Ed: 182400, train_loss: 1.31959, acc: 0.46119\n"
          ]
        },
        {
          "name": "stderr",
          "output_type": "stream",
          "text": [
            "INFO:root:[0] Ed: 185600, train_loss: 1.31920, acc: 0.46137\n"
          ]
        },
        {
          "name": "stdout",
          "output_type": "stream",
          "text": [
            "[INFO 2025-03-02 19:48:37,512] [0] Ed: 185600, train_loss: 1.31920, acc: 0.46137\n"
          ]
        },
        {
          "name": "stderr",
          "output_type": "stream",
          "text": [
            "INFO:root:[0] Ed: 188800, train_loss: 1.31885, acc: 0.46153\n"
          ]
        },
        {
          "name": "stdout",
          "output_type": "stream",
          "text": [
            "[INFO 2025-03-02 19:49:03,486] [0] Ed: 188800, train_loss: 1.31885, acc: 0.46153\n"
          ]
        },
        {
          "name": "stderr",
          "output_type": "stream",
          "text": [
            "INFO:root:[0] Ed: 192000, train_loss: 1.31882, acc: 0.46144\n"
          ]
        },
        {
          "name": "stdout",
          "output_type": "stream",
          "text": [
            "[INFO 2025-03-02 19:49:29,545] [0] Ed: 192000, train_loss: 1.31882, acc: 0.46144\n"
          ]
        },
        {
          "name": "stderr",
          "output_type": "stream",
          "text": [
            "INFO:root:[0] Ed: 195200, train_loss: 1.31865, acc: 0.46165\n"
          ]
        },
        {
          "name": "stdout",
          "output_type": "stream",
          "text": [
            "[INFO 2025-03-02 19:49:55,657] [0] Ed: 195200, train_loss: 1.31865, acc: 0.46165\n"
          ]
        },
        {
          "name": "stderr",
          "output_type": "stream",
          "text": [
            "INFO:root:[0] Ed: 198400, train_loss: 1.31848, acc: 0.46180\n"
          ]
        },
        {
          "name": "stdout",
          "output_type": "stream",
          "text": [
            "[INFO 2025-03-02 19:50:21,837] [0] Ed: 198400, train_loss: 1.31848, acc: 0.46180\n"
          ]
        },
        {
          "name": "stderr",
          "output_type": "stream",
          "text": [
            "INFO:root:[0] Ed: 201600, train_loss: 1.31824, acc: 0.46192\n"
          ]
        },
        {
          "name": "stdout",
          "output_type": "stream",
          "text": [
            "[INFO 2025-03-02 19:50:48,297] [0] Ed: 201600, train_loss: 1.31824, acc: 0.46192\n"
          ]
        },
        {
          "name": "stderr",
          "output_type": "stream",
          "text": [
            "INFO:root:[0] Ed: 204800, train_loss: 1.31822, acc: 0.46184\n"
          ]
        },
        {
          "name": "stdout",
          "output_type": "stream",
          "text": [
            "[INFO 2025-03-02 19:51:14,370] [0] Ed: 204800, train_loss: 1.31822, acc: 0.46184\n"
          ]
        },
        {
          "name": "stderr",
          "output_type": "stream",
          "text": [
            "INFO:root:[0] Ed: 208000, train_loss: 1.31830, acc: 0.46185\n"
          ]
        },
        {
          "name": "stdout",
          "output_type": "stream",
          "text": [
            "[INFO 2025-03-02 19:51:40,502] [0] Ed: 208000, train_loss: 1.31830, acc: 0.46185\n"
          ]
        },
        {
          "name": "stderr",
          "output_type": "stream",
          "text": [
            "INFO:root:[0] Ed: 211200, train_loss: 1.31815, acc: 0.46187\n"
          ]
        },
        {
          "name": "stdout",
          "output_type": "stream",
          "text": [
            "[INFO 2025-03-02 19:52:06,571] [0] Ed: 211200, train_loss: 1.31815, acc: 0.46187\n"
          ]
        },
        {
          "name": "stderr",
          "output_type": "stream",
          "text": [
            "INFO:root:[0] Ed: 214400, train_loss: 1.31802, acc: 0.46199\n"
          ]
        },
        {
          "name": "stdout",
          "output_type": "stream",
          "text": [
            "[INFO 2025-03-02 19:52:32,780] [0] Ed: 214400, train_loss: 1.31802, acc: 0.46199\n"
          ]
        },
        {
          "name": "stderr",
          "output_type": "stream",
          "text": [
            "INFO:root:[0] Ed: 217600, train_loss: 1.31779, acc: 0.46208\n"
          ]
        },
        {
          "name": "stdout",
          "output_type": "stream",
          "text": [
            "[INFO 2025-03-02 19:52:58,821] [0] Ed: 217600, train_loss: 1.31779, acc: 0.46208\n"
          ]
        },
        {
          "name": "stderr",
          "output_type": "stream",
          "text": [
            "INFO:root:[0] Ed: 220800, train_loss: 1.31741, acc: 0.46233\n"
          ]
        },
        {
          "name": "stdout",
          "output_type": "stream",
          "text": [
            "[INFO 2025-03-02 19:53:24,852] [0] Ed: 220800, train_loss: 1.31741, acc: 0.46233\n"
          ]
        },
        {
          "name": "stderr",
          "output_type": "stream",
          "text": [
            "INFO:root:[0] Ed: 224000, train_loss: 1.31704, acc: 0.46264\n"
          ]
        },
        {
          "name": "stdout",
          "output_type": "stream",
          "text": [
            "[INFO 2025-03-02 19:53:50,953] [0] Ed: 224000, train_loss: 1.31704, acc: 0.46264\n"
          ]
        },
        {
          "name": "stderr",
          "output_type": "stream",
          "text": [
            "INFO:root:[0] Ed: 227200, train_loss: 1.31659, acc: 0.46302\n"
          ]
        },
        {
          "name": "stdout",
          "output_type": "stream",
          "text": [
            "[INFO 2025-03-02 19:54:17,107] [0] Ed: 227200, train_loss: 1.31659, acc: 0.46302\n"
          ]
        },
        {
          "name": "stderr",
          "output_type": "stream",
          "text": [
            "INFO:root:[0] Ed: 230400, train_loss: 1.31619, acc: 0.46336\n"
          ]
        },
        {
          "name": "stdout",
          "output_type": "stream",
          "text": [
            "[INFO 2025-03-02 19:54:43,168] [0] Ed: 230400, train_loss: 1.31619, acc: 0.46336\n"
          ]
        },
        {
          "name": "stderr",
          "output_type": "stream",
          "text": [
            "INFO:root:[0] Ed: 233600, train_loss: 1.31563, acc: 0.46360\n"
          ]
        },
        {
          "name": "stdout",
          "output_type": "stream",
          "text": [
            "[INFO 2025-03-02 19:55:09,190] [0] Ed: 233600, train_loss: 1.31563, acc: 0.46360\n"
          ]
        },
        {
          "name": "stderr",
          "output_type": "stream",
          "text": [
            "INFO:root:Training finish.\n"
          ]
        },
        {
          "name": "stdout",
          "output_type": "stream",
          "text": [
            "[INFO 2025-03-02 19:55:31,142] Training finish.\n"
          ]
        },
        {
          "name": "stderr",
          "output_type": "stream",
          "text": [
            "INFO:root:Model saved to /content/model/epoch-2.pt.\n"
          ]
        },
        {
          "name": "stdout",
          "output_type": "stream",
          "text": [
            "[INFO 2025-03-02 19:55:31,209] Model saved to /content/model/epoch-2.pt.\n"
          ]
        },
        {
          "name": "stderr",
          "output_type": "stream",
          "text": [
            "INFO:root:[0] Ed: 0, train_loss: inf, acc: inf\n"
          ]
        },
        {
          "name": "stdout",
          "output_type": "stream",
          "text": [
            "[INFO 2025-03-02 19:55:31,519] [0] Ed: 0, train_loss: inf, acc: inf\n"
          ]
        },
        {
          "name": "stderr",
          "output_type": "stream",
          "text": [
            "INFO:root:[0] Ed: 3200, train_loss: 1.32168, acc: 0.46937\n"
          ]
        },
        {
          "name": "stdout",
          "output_type": "stream",
          "text": [
            "[INFO 2025-03-02 19:55:57,568] [0] Ed: 3200, train_loss: 1.32168, acc: 0.46937\n"
          ]
        },
        {
          "name": "stderr",
          "output_type": "stream",
          "text": [
            "INFO:root:[0] Ed: 6400, train_loss: 1.30593, acc: 0.46719\n"
          ]
        },
        {
          "name": "stdout",
          "output_type": "stream",
          "text": [
            "[INFO 2025-03-02 19:56:23,596] [0] Ed: 6400, train_loss: 1.30593, acc: 0.46719\n"
          ]
        },
        {
          "name": "stderr",
          "output_type": "stream",
          "text": [
            "INFO:root:[0] Ed: 9600, train_loss: 1.30141, acc: 0.47104\n"
          ]
        },
        {
          "name": "stdout",
          "output_type": "stream",
          "text": [
            "[INFO 2025-03-02 19:56:49,605] [0] Ed: 9600, train_loss: 1.30141, acc: 0.47104\n"
          ]
        },
        {
          "name": "stderr",
          "output_type": "stream",
          "text": [
            "INFO:root:[0] Ed: 12800, train_loss: 1.29787, acc: 0.47297\n"
          ]
        },
        {
          "name": "stdout",
          "output_type": "stream",
          "text": [
            "[INFO 2025-03-02 19:57:15,612] [0] Ed: 12800, train_loss: 1.29787, acc: 0.47297\n"
          ]
        },
        {
          "name": "stderr",
          "output_type": "stream",
          "text": [
            "INFO:root:[0] Ed: 16000, train_loss: 1.30191, acc: 0.46988\n"
          ]
        },
        {
          "name": "stdout",
          "output_type": "stream",
          "text": [
            "[INFO 2025-03-02 19:57:41,676] [0] Ed: 16000, train_loss: 1.30191, acc: 0.46988\n"
          ]
        },
        {
          "name": "stderr",
          "output_type": "stream",
          "text": [
            "INFO:root:[0] Ed: 19200, train_loss: 1.30310, acc: 0.46932\n"
          ]
        },
        {
          "name": "stdout",
          "output_type": "stream",
          "text": [
            "[INFO 2025-03-02 19:58:07,720] [0] Ed: 19200, train_loss: 1.30310, acc: 0.46932\n"
          ]
        },
        {
          "name": "stderr",
          "output_type": "stream",
          "text": [
            "INFO:root:[0] Ed: 22400, train_loss: 1.30209, acc: 0.47103\n"
          ]
        },
        {
          "name": "stdout",
          "output_type": "stream",
          "text": [
            "[INFO 2025-03-02 19:58:33,796] [0] Ed: 22400, train_loss: 1.30209, acc: 0.47103\n"
          ]
        },
        {
          "name": "stderr",
          "output_type": "stream",
          "text": [
            "INFO:root:[0] Ed: 25600, train_loss: 1.30267, acc: 0.47070\n"
          ]
        },
        {
          "name": "stdout",
          "output_type": "stream",
          "text": [
            "[INFO 2025-03-02 19:58:59,753] [0] Ed: 25600, train_loss: 1.30267, acc: 0.47070\n"
          ]
        },
        {
          "name": "stderr",
          "output_type": "stream",
          "text": [
            "INFO:root:[0] Ed: 28800, train_loss: 1.30229, acc: 0.47132\n"
          ]
        },
        {
          "name": "stdout",
          "output_type": "stream",
          "text": [
            "[INFO 2025-03-02 19:59:25,786] [0] Ed: 28800, train_loss: 1.30229, acc: 0.47132\n"
          ]
        },
        {
          "name": "stderr",
          "output_type": "stream",
          "text": [
            "INFO:root:[0] Ed: 32000, train_loss: 1.30291, acc: 0.47069\n"
          ]
        },
        {
          "name": "stdout",
          "output_type": "stream",
          "text": [
            "[INFO 2025-03-02 19:59:51,810] [0] Ed: 32000, train_loss: 1.30291, acc: 0.47069\n"
          ]
        },
        {
          "name": "stderr",
          "output_type": "stream",
          "text": [
            "INFO:root:[0] Ed: 35200, train_loss: 1.30486, acc: 0.46963\n"
          ]
        },
        {
          "name": "stdout",
          "output_type": "stream",
          "text": [
            "[INFO 2025-03-02 20:00:17,854] [0] Ed: 35200, train_loss: 1.30486, acc: 0.46963\n"
          ]
        },
        {
          "name": "stderr",
          "output_type": "stream",
          "text": [
            "INFO:root:[0] Ed: 38400, train_loss: 1.30392, acc: 0.46964\n"
          ]
        },
        {
          "name": "stdout",
          "output_type": "stream",
          "text": [
            "[INFO 2025-03-02 20:00:44,186] [0] Ed: 38400, train_loss: 1.30392, acc: 0.46964\n"
          ]
        },
        {
          "name": "stderr",
          "output_type": "stream",
          "text": [
            "INFO:root:[0] Ed: 41600, train_loss: 1.30192, acc: 0.47084\n"
          ]
        },
        {
          "name": "stdout",
          "output_type": "stream",
          "text": [
            "[INFO 2025-03-02 20:01:10,249] [0] Ed: 41600, train_loss: 1.30192, acc: 0.47084\n"
          ]
        },
        {
          "name": "stderr",
          "output_type": "stream",
          "text": [
            "INFO:root:[0] Ed: 44800, train_loss: 1.30056, acc: 0.47158\n"
          ]
        },
        {
          "name": "stdout",
          "output_type": "stream",
          "text": [
            "[INFO 2025-03-02 20:01:36,283] [0] Ed: 44800, train_loss: 1.30056, acc: 0.47158\n"
          ]
        },
        {
          "name": "stderr",
          "output_type": "stream",
          "text": [
            "INFO:root:[0] Ed: 48000, train_loss: 1.30065, acc: 0.47117\n"
          ]
        },
        {
          "name": "stdout",
          "output_type": "stream",
          "text": [
            "[INFO 2025-03-02 20:02:02,220] [0] Ed: 48000, train_loss: 1.30065, acc: 0.47117\n"
          ]
        },
        {
          "name": "stderr",
          "output_type": "stream",
          "text": [
            "INFO:root:[0] Ed: 51200, train_loss: 1.29990, acc: 0.47148\n"
          ]
        },
        {
          "name": "stdout",
          "output_type": "stream",
          "text": [
            "[INFO 2025-03-02 20:02:28,220] [0] Ed: 51200, train_loss: 1.29990, acc: 0.47148\n"
          ]
        },
        {
          "name": "stderr",
          "output_type": "stream",
          "text": [
            "INFO:root:[0] Ed: 54400, train_loss: 1.29894, acc: 0.47211\n"
          ]
        },
        {
          "name": "stdout",
          "output_type": "stream",
          "text": [
            "[INFO 2025-03-02 20:02:54,313] [0] Ed: 54400, train_loss: 1.29894, acc: 0.47211\n"
          ]
        },
        {
          "name": "stderr",
          "output_type": "stream",
          "text": [
            "INFO:root:[0] Ed: 57600, train_loss: 1.29851, acc: 0.47220\n"
          ]
        },
        {
          "name": "stdout",
          "output_type": "stream",
          "text": [
            "[INFO 2025-03-02 20:03:20,326] [0] Ed: 57600, train_loss: 1.29851, acc: 0.47220\n"
          ]
        },
        {
          "name": "stderr",
          "output_type": "stream",
          "text": [
            "INFO:root:[0] Ed: 60800, train_loss: 1.29856, acc: 0.47260\n"
          ]
        },
        {
          "name": "stdout",
          "output_type": "stream",
          "text": [
            "[INFO 2025-03-02 20:03:46,344] [0] Ed: 60800, train_loss: 1.29856, acc: 0.47260\n"
          ]
        },
        {
          "name": "stderr",
          "output_type": "stream",
          "text": [
            "INFO:root:[0] Ed: 64000, train_loss: 1.29750, acc: 0.47364\n"
          ]
        },
        {
          "name": "stdout",
          "output_type": "stream",
          "text": [
            "[INFO 2025-03-02 20:04:12,285] [0] Ed: 64000, train_loss: 1.29750, acc: 0.47364\n"
          ]
        },
        {
          "name": "stderr",
          "output_type": "stream",
          "text": [
            "INFO:root:[0] Ed: 67200, train_loss: 1.29691, acc: 0.47400\n"
          ]
        },
        {
          "name": "stdout",
          "output_type": "stream",
          "text": [
            "[INFO 2025-03-02 20:04:38,206] [0] Ed: 67200, train_loss: 1.29691, acc: 0.47400\n"
          ]
        },
        {
          "name": "stderr",
          "output_type": "stream",
          "text": [
            "INFO:root:[0] Ed: 70400, train_loss: 1.29629, acc: 0.47476\n"
          ]
        },
        {
          "name": "stdout",
          "output_type": "stream",
          "text": [
            "[INFO 2025-03-02 20:05:04,256] [0] Ed: 70400, train_loss: 1.29629, acc: 0.47476\n"
          ]
        },
        {
          "name": "stderr",
          "output_type": "stream",
          "text": [
            "INFO:root:[0] Ed: 73600, train_loss: 1.29608, acc: 0.47457\n"
          ]
        },
        {
          "name": "stdout",
          "output_type": "stream",
          "text": [
            "[INFO 2025-03-02 20:05:30,340] [0] Ed: 73600, train_loss: 1.29608, acc: 0.47457\n"
          ]
        },
        {
          "name": "stderr",
          "output_type": "stream",
          "text": [
            "INFO:root:[0] Ed: 76800, train_loss: 1.29509, acc: 0.47548\n"
          ]
        },
        {
          "name": "stdout",
          "output_type": "stream",
          "text": [
            "[INFO 2025-03-02 20:05:56,323] [0] Ed: 76800, train_loss: 1.29509, acc: 0.47548\n"
          ]
        },
        {
          "name": "stderr",
          "output_type": "stream",
          "text": [
            "INFO:root:[0] Ed: 80000, train_loss: 1.29525, acc: 0.47577\n"
          ]
        },
        {
          "name": "stdout",
          "output_type": "stream",
          "text": [
            "[INFO 2025-03-02 20:06:22,387] [0] Ed: 80000, train_loss: 1.29525, acc: 0.47577\n"
          ]
        },
        {
          "name": "stderr",
          "output_type": "stream",
          "text": [
            "INFO:root:[0] Ed: 83200, train_loss: 1.29412, acc: 0.47659\n"
          ]
        },
        {
          "name": "stdout",
          "output_type": "stream",
          "text": [
            "[INFO 2025-03-02 20:06:48,454] [0] Ed: 83200, train_loss: 1.29412, acc: 0.47659\n"
          ]
        },
        {
          "name": "stderr",
          "output_type": "stream",
          "text": [
            "INFO:root:[0] Ed: 86400, train_loss: 1.29355, acc: 0.47662\n"
          ]
        },
        {
          "name": "stdout",
          "output_type": "stream",
          "text": [
            "[INFO 2025-03-02 20:07:14,485] [0] Ed: 86400, train_loss: 1.29355, acc: 0.47662\n"
          ]
        },
        {
          "name": "stderr",
          "output_type": "stream",
          "text": [
            "INFO:root:[0] Ed: 89600, train_loss: 1.29273, acc: 0.47695\n"
          ]
        },
        {
          "name": "stdout",
          "output_type": "stream",
          "text": [
            "[INFO 2025-03-02 20:07:40,510] [0] Ed: 89600, train_loss: 1.29273, acc: 0.47695\n"
          ]
        },
        {
          "name": "stderr",
          "output_type": "stream",
          "text": [
            "INFO:root:[0] Ed: 92800, train_loss: 1.29311, acc: 0.47658\n"
          ]
        },
        {
          "name": "stdout",
          "output_type": "stream",
          "text": [
            "[INFO 2025-03-02 20:08:06,402] [0] Ed: 92800, train_loss: 1.29311, acc: 0.47658\n"
          ]
        },
        {
          "name": "stderr",
          "output_type": "stream",
          "text": [
            "INFO:root:[0] Ed: 96000, train_loss: 1.29246, acc: 0.47698\n"
          ]
        },
        {
          "name": "stdout",
          "output_type": "stream",
          "text": [
            "[INFO 2025-03-02 20:08:32,351] [0] Ed: 96000, train_loss: 1.29246, acc: 0.47698\n"
          ]
        },
        {
          "name": "stderr",
          "output_type": "stream",
          "text": [
            "INFO:root:[0] Ed: 99200, train_loss: 1.29221, acc: 0.47655\n"
          ]
        },
        {
          "name": "stdout",
          "output_type": "stream",
          "text": [
            "[INFO 2025-03-02 20:08:58,315] [0] Ed: 99200, train_loss: 1.29221, acc: 0.47655\n"
          ]
        },
        {
          "name": "stderr",
          "output_type": "stream",
          "text": [
            "INFO:root:[0] Ed: 102400, train_loss: 1.29128, acc: 0.47674\n"
          ]
        },
        {
          "name": "stdout",
          "output_type": "stream",
          "text": [
            "[INFO 2025-03-02 20:09:24,277] [0] Ed: 102400, train_loss: 1.29128, acc: 0.47674\n"
          ]
        },
        {
          "name": "stderr",
          "output_type": "stream",
          "text": [
            "INFO:root:[0] Ed: 105600, train_loss: 1.29018, acc: 0.47736\n"
          ]
        },
        {
          "name": "stdout",
          "output_type": "stream",
          "text": [
            "[INFO 2025-03-02 20:09:50,202] [0] Ed: 105600, train_loss: 1.29018, acc: 0.47736\n"
          ]
        },
        {
          "name": "stderr",
          "output_type": "stream",
          "text": [
            "INFO:root:[0] Ed: 108800, train_loss: 1.29026, acc: 0.47724\n"
          ]
        },
        {
          "name": "stdout",
          "output_type": "stream",
          "text": [
            "[INFO 2025-03-02 20:10:16,423] [0] Ed: 108800, train_loss: 1.29026, acc: 0.47724\n"
          ]
        },
        {
          "name": "stderr",
          "output_type": "stream",
          "text": [
            "INFO:root:[0] Ed: 112000, train_loss: 1.29041, acc: 0.47708\n"
          ]
        },
        {
          "name": "stdout",
          "output_type": "stream",
          "text": [
            "[INFO 2025-03-02 20:10:42,398] [0] Ed: 112000, train_loss: 1.29041, acc: 0.47708\n"
          ]
        },
        {
          "name": "stderr",
          "output_type": "stream",
          "text": [
            "INFO:root:[0] Ed: 115200, train_loss: 1.29038, acc: 0.47707\n"
          ]
        },
        {
          "name": "stdout",
          "output_type": "stream",
          "text": [
            "[INFO 2025-03-02 20:11:08,316] [0] Ed: 115200, train_loss: 1.29038, acc: 0.47707\n"
          ]
        },
        {
          "name": "stderr",
          "output_type": "stream",
          "text": [
            "INFO:root:[0] Ed: 118400, train_loss: 1.28954, acc: 0.47759\n"
          ]
        },
        {
          "name": "stdout",
          "output_type": "stream",
          "text": [
            "[INFO 2025-03-02 20:11:34,307] [0] Ed: 118400, train_loss: 1.28954, acc: 0.47759\n"
          ]
        },
        {
          "name": "stderr",
          "output_type": "stream",
          "text": [
            "INFO:root:[0] Ed: 121600, train_loss: 1.28976, acc: 0.47752\n"
          ]
        },
        {
          "name": "stdout",
          "output_type": "stream",
          "text": [
            "[INFO 2025-03-02 20:12:00,260] [0] Ed: 121600, train_loss: 1.28976, acc: 0.47752\n"
          ]
        },
        {
          "name": "stderr",
          "output_type": "stream",
          "text": [
            "INFO:root:[0] Ed: 124800, train_loss: 1.28962, acc: 0.47756\n"
          ]
        },
        {
          "name": "stdout",
          "output_type": "stream",
          "text": [
            "[INFO 2025-03-02 20:12:26,177] [0] Ed: 124800, train_loss: 1.28962, acc: 0.47756\n"
          ]
        },
        {
          "name": "stderr",
          "output_type": "stream",
          "text": [
            "INFO:root:[0] Ed: 128000, train_loss: 1.28999, acc: 0.47740\n"
          ]
        },
        {
          "name": "stdout",
          "output_type": "stream",
          "text": [
            "[INFO 2025-03-02 20:12:52,119] [0] Ed: 128000, train_loss: 1.28999, acc: 0.47740\n"
          ]
        },
        {
          "name": "stderr",
          "output_type": "stream",
          "text": [
            "INFO:root:[0] Ed: 131200, train_loss: 1.28966, acc: 0.47764\n"
          ]
        },
        {
          "name": "stdout",
          "output_type": "stream",
          "text": [
            "[INFO 2025-03-02 20:13:18,103] [0] Ed: 131200, train_loss: 1.28966, acc: 0.47764\n"
          ]
        },
        {
          "name": "stderr",
          "output_type": "stream",
          "text": [
            "INFO:root:[0] Ed: 134400, train_loss: 1.28973, acc: 0.47758\n"
          ]
        },
        {
          "name": "stdout",
          "output_type": "stream",
          "text": [
            "[INFO 2025-03-02 20:13:44,039] [0] Ed: 134400, train_loss: 1.28973, acc: 0.47758\n"
          ]
        },
        {
          "name": "stderr",
          "output_type": "stream",
          "text": [
            "INFO:root:[0] Ed: 137600, train_loss: 1.28992, acc: 0.47766\n"
          ]
        },
        {
          "name": "stdout",
          "output_type": "stream",
          "text": [
            "[INFO 2025-03-02 20:14:10,015] [0] Ed: 137600, train_loss: 1.28992, acc: 0.47766\n"
          ]
        },
        {
          "name": "stderr",
          "output_type": "stream",
          "text": [
            "INFO:root:[0] Ed: 140800, train_loss: 1.28950, acc: 0.47812\n"
          ]
        },
        {
          "name": "stdout",
          "output_type": "stream",
          "text": [
            "[INFO 2025-03-02 20:14:35,979] [0] Ed: 140800, train_loss: 1.28950, acc: 0.47812\n"
          ]
        },
        {
          "name": "stderr",
          "output_type": "stream",
          "text": [
            "INFO:root:[0] Ed: 144000, train_loss: 1.28911, acc: 0.47791\n"
          ]
        },
        {
          "name": "stdout",
          "output_type": "stream",
          "text": [
            "[INFO 2025-03-02 20:15:01,907] [0] Ed: 144000, train_loss: 1.28911, acc: 0.47791\n"
          ]
        },
        {
          "name": "stderr",
          "output_type": "stream",
          "text": [
            "INFO:root:[0] Ed: 147200, train_loss: 1.28866, acc: 0.47811\n"
          ]
        },
        {
          "name": "stdout",
          "output_type": "stream",
          "text": [
            "[INFO 2025-03-02 20:15:27,879] [0] Ed: 147200, train_loss: 1.28866, acc: 0.47811\n"
          ]
        },
        {
          "name": "stderr",
          "output_type": "stream",
          "text": [
            "INFO:root:[0] Ed: 150400, train_loss: 1.28800, acc: 0.47827\n"
          ]
        },
        {
          "name": "stdout",
          "output_type": "stream",
          "text": [
            "[INFO 2025-03-02 20:15:53,899] [0] Ed: 150400, train_loss: 1.28800, acc: 0.47827\n"
          ]
        },
        {
          "name": "stderr",
          "output_type": "stream",
          "text": [
            "INFO:root:[0] Ed: 153600, train_loss: 1.28741, acc: 0.47826\n"
          ]
        },
        {
          "name": "stdout",
          "output_type": "stream",
          "text": [
            "[INFO 2025-03-02 20:16:19,799] [0] Ed: 153600, train_loss: 1.28741, acc: 0.47826\n"
          ]
        },
        {
          "name": "stderr",
          "output_type": "stream",
          "text": [
            "INFO:root:[0] Ed: 156800, train_loss: 1.28695, acc: 0.47842\n"
          ]
        },
        {
          "name": "stdout",
          "output_type": "stream",
          "text": [
            "[INFO 2025-03-02 20:16:45,772] [0] Ed: 156800, train_loss: 1.28695, acc: 0.47842\n"
          ]
        },
        {
          "name": "stderr",
          "output_type": "stream",
          "text": [
            "INFO:root:[0] Ed: 160000, train_loss: 1.28670, acc: 0.47860\n"
          ]
        },
        {
          "name": "stdout",
          "output_type": "stream",
          "text": [
            "[INFO 2025-03-02 20:17:11,692] [0] Ed: 160000, train_loss: 1.28670, acc: 0.47860\n"
          ]
        },
        {
          "name": "stderr",
          "output_type": "stream",
          "text": [
            "INFO:root:[0] Ed: 163200, train_loss: 1.28660, acc: 0.47869\n"
          ]
        },
        {
          "name": "stdout",
          "output_type": "stream",
          "text": [
            "[INFO 2025-03-02 20:17:37,707] [0] Ed: 163200, train_loss: 1.28660, acc: 0.47869\n"
          ]
        },
        {
          "name": "stderr",
          "output_type": "stream",
          "text": [
            "INFO:root:[0] Ed: 166400, train_loss: 1.28660, acc: 0.47872\n"
          ]
        },
        {
          "name": "stdout",
          "output_type": "stream",
          "text": [
            "[INFO 2025-03-02 20:18:03,666] [0] Ed: 166400, train_loss: 1.28660, acc: 0.47872\n"
          ]
        },
        {
          "name": "stderr",
          "output_type": "stream",
          "text": [
            "INFO:root:[0] Ed: 169600, train_loss: 1.28659, acc: 0.47892\n"
          ]
        },
        {
          "name": "stdout",
          "output_type": "stream",
          "text": [
            "[INFO 2025-03-02 20:18:29,761] [0] Ed: 169600, train_loss: 1.28659, acc: 0.47892\n"
          ]
        },
        {
          "name": "stderr",
          "output_type": "stream",
          "text": [
            "INFO:root:[0] Ed: 172800, train_loss: 1.28614, acc: 0.47903\n"
          ]
        },
        {
          "name": "stdout",
          "output_type": "stream",
          "text": [
            "[INFO 2025-03-02 20:18:55,715] [0] Ed: 172800, train_loss: 1.28614, acc: 0.47903\n"
          ]
        },
        {
          "name": "stderr",
          "output_type": "stream",
          "text": [
            "INFO:root:[0] Ed: 176000, train_loss: 1.28592, acc: 0.47931\n"
          ]
        },
        {
          "name": "stdout",
          "output_type": "stream",
          "text": [
            "[INFO 2025-03-02 20:19:21,697] [0] Ed: 176000, train_loss: 1.28592, acc: 0.47931\n"
          ]
        },
        {
          "name": "stderr",
          "output_type": "stream",
          "text": [
            "INFO:root:[0] Ed: 179200, train_loss: 1.28568, acc: 0.47950\n"
          ]
        },
        {
          "name": "stdout",
          "output_type": "stream",
          "text": [
            "[INFO 2025-03-02 20:19:47,692] [0] Ed: 179200, train_loss: 1.28568, acc: 0.47950\n"
          ]
        },
        {
          "name": "stderr",
          "output_type": "stream",
          "text": [
            "INFO:root:[0] Ed: 182400, train_loss: 1.28563, acc: 0.47954\n"
          ]
        },
        {
          "name": "stdout",
          "output_type": "stream",
          "text": [
            "[INFO 2025-03-02 20:20:13,869] [0] Ed: 182400, train_loss: 1.28563, acc: 0.47954\n"
          ]
        },
        {
          "name": "stderr",
          "output_type": "stream",
          "text": [
            "INFO:root:[0] Ed: 185600, train_loss: 1.28524, acc: 0.47976\n"
          ]
        },
        {
          "name": "stdout",
          "output_type": "stream",
          "text": [
            "[INFO 2025-03-02 20:20:39,906] [0] Ed: 185600, train_loss: 1.28524, acc: 0.47976\n"
          ]
        },
        {
          "name": "stderr",
          "output_type": "stream",
          "text": [
            "INFO:root:[0] Ed: 188800, train_loss: 1.28506, acc: 0.47993\n"
          ]
        },
        {
          "name": "stdout",
          "output_type": "stream",
          "text": [
            "[INFO 2025-03-02 20:21:05,919] [0] Ed: 188800, train_loss: 1.28506, acc: 0.47993\n"
          ]
        },
        {
          "name": "stderr",
          "output_type": "stream",
          "text": [
            "INFO:root:[0] Ed: 192000, train_loss: 1.28516, acc: 0.47976\n"
          ]
        },
        {
          "name": "stdout",
          "output_type": "stream",
          "text": [
            "[INFO 2025-03-02 20:21:31,967] [0] Ed: 192000, train_loss: 1.28516, acc: 0.47976\n"
          ]
        },
        {
          "name": "stderr",
          "output_type": "stream",
          "text": [
            "INFO:root:[0] Ed: 195200, train_loss: 1.28507, acc: 0.47994\n"
          ]
        },
        {
          "name": "stdout",
          "output_type": "stream",
          "text": [
            "[INFO 2025-03-02 20:21:58,047] [0] Ed: 195200, train_loss: 1.28507, acc: 0.47994\n"
          ]
        },
        {
          "name": "stderr",
          "output_type": "stream",
          "text": [
            "INFO:root:[0] Ed: 198400, train_loss: 1.28506, acc: 0.48010\n"
          ]
        },
        {
          "name": "stdout",
          "output_type": "stream",
          "text": [
            "[INFO 2025-03-02 20:22:24,163] [0] Ed: 198400, train_loss: 1.28506, acc: 0.48010\n"
          ]
        },
        {
          "name": "stderr",
          "output_type": "stream",
          "text": [
            "INFO:root:[0] Ed: 201600, train_loss: 1.28490, acc: 0.48020\n"
          ]
        },
        {
          "name": "stdout",
          "output_type": "stream",
          "text": [
            "[INFO 2025-03-02 20:22:50,263] [0] Ed: 201600, train_loss: 1.28490, acc: 0.48020\n"
          ]
        },
        {
          "name": "stderr",
          "output_type": "stream",
          "text": [
            "INFO:root:[0] Ed: 204800, train_loss: 1.28499, acc: 0.48002\n"
          ]
        },
        {
          "name": "stdout",
          "output_type": "stream",
          "text": [
            "[INFO 2025-03-02 20:23:16,284] [0] Ed: 204800, train_loss: 1.28499, acc: 0.48002\n"
          ]
        },
        {
          "name": "stderr",
          "output_type": "stream",
          "text": [
            "INFO:root:[0] Ed: 208000, train_loss: 1.28510, acc: 0.48000\n"
          ]
        },
        {
          "name": "stdout",
          "output_type": "stream",
          "text": [
            "[INFO 2025-03-02 20:23:42,372] [0] Ed: 208000, train_loss: 1.28510, acc: 0.48000\n"
          ]
        },
        {
          "name": "stderr",
          "output_type": "stream",
          "text": [
            "INFO:root:[0] Ed: 211200, train_loss: 1.28503, acc: 0.48004\n"
          ]
        },
        {
          "name": "stdout",
          "output_type": "stream",
          "text": [
            "[INFO 2025-03-02 20:24:08,524] [0] Ed: 211200, train_loss: 1.28503, acc: 0.48004\n"
          ]
        },
        {
          "name": "stderr",
          "output_type": "stream",
          "text": [
            "INFO:root:[0] Ed: 214400, train_loss: 1.28485, acc: 0.48026\n"
          ]
        },
        {
          "name": "stdout",
          "output_type": "stream",
          "text": [
            "[INFO 2025-03-02 20:24:34,598] [0] Ed: 214400, train_loss: 1.28485, acc: 0.48026\n"
          ]
        },
        {
          "name": "stderr",
          "output_type": "stream",
          "text": [
            "INFO:root:[0] Ed: 217600, train_loss: 1.28464, acc: 0.48044\n"
          ]
        },
        {
          "name": "stdout",
          "output_type": "stream",
          "text": [
            "[INFO 2025-03-02 20:25:00,579] [0] Ed: 217600, train_loss: 1.28464, acc: 0.48044\n"
          ]
        },
        {
          "name": "stderr",
          "output_type": "stream",
          "text": [
            "INFO:root:[0] Ed: 220800, train_loss: 1.28436, acc: 0.48060\n"
          ]
        },
        {
          "name": "stdout",
          "output_type": "stream",
          "text": [
            "[INFO 2025-03-02 20:25:26,533] [0] Ed: 220800, train_loss: 1.28436, acc: 0.48060\n"
          ]
        },
        {
          "name": "stderr",
          "output_type": "stream",
          "text": [
            "INFO:root:[0] Ed: 224000, train_loss: 1.28404, acc: 0.48079\n"
          ]
        },
        {
          "name": "stdout",
          "output_type": "stream",
          "text": [
            "[INFO 2025-03-02 20:25:52,463] [0] Ed: 224000, train_loss: 1.28404, acc: 0.48079\n"
          ]
        },
        {
          "name": "stderr",
          "output_type": "stream",
          "text": [
            "INFO:root:[0] Ed: 227200, train_loss: 1.28369, acc: 0.48086\n"
          ]
        },
        {
          "name": "stdout",
          "output_type": "stream",
          "text": [
            "[INFO 2025-03-02 20:26:18,492] [0] Ed: 227200, train_loss: 1.28369, acc: 0.48086\n"
          ]
        },
        {
          "name": "stderr",
          "output_type": "stream",
          "text": [
            "INFO:root:[0] Ed: 230400, train_loss: 1.28336, acc: 0.48108\n"
          ]
        },
        {
          "name": "stdout",
          "output_type": "stream",
          "text": [
            "[INFO 2025-03-02 20:26:44,511] [0] Ed: 230400, train_loss: 1.28336, acc: 0.48108\n"
          ]
        },
        {
          "name": "stderr",
          "output_type": "stream",
          "text": [
            "INFO:root:[0] Ed: 233600, train_loss: 1.28291, acc: 0.48136\n"
          ]
        },
        {
          "name": "stdout",
          "output_type": "stream",
          "text": [
            "[INFO 2025-03-02 20:27:10,478] [0] Ed: 233600, train_loss: 1.28291, acc: 0.48136\n"
          ]
        },
        {
          "name": "stderr",
          "output_type": "stream",
          "text": [
            "INFO:root:Training finish.\n"
          ]
        },
        {
          "name": "stdout",
          "output_type": "stream",
          "text": [
            "[INFO 2025-03-02 20:27:32,366] Training finish.\n"
          ]
        },
        {
          "name": "stderr",
          "output_type": "stream",
          "text": [
            "INFO:root:Model saved to /content/model/epoch-3.pt.\n"
          ]
        },
        {
          "name": "stdout",
          "output_type": "stream",
          "text": [
            "[INFO 2025-03-02 20:27:32,407] Model saved to /content/model/epoch-3.pt.\n"
          ]
        },
        {
          "name": "stderr",
          "output_type": "stream",
          "text": [
            "INFO:root:[0] Ed: 0, train_loss: inf, acc: inf\n"
          ]
        },
        {
          "name": "stdout",
          "output_type": "stream",
          "text": [
            "[INFO 2025-03-02 20:27:32,690] [0] Ed: 0, train_loss: inf, acc: inf\n"
          ]
        },
        {
          "name": "stderr",
          "output_type": "stream",
          "text": [
            "INFO:root:[0] Ed: 3200, train_loss: 1.29305, acc: 0.48562\n"
          ]
        },
        {
          "name": "stdout",
          "output_type": "stream",
          "text": [
            "[INFO 2025-03-02 20:27:58,613] [0] Ed: 3200, train_loss: 1.29305, acc: 0.48562\n"
          ]
        },
        {
          "name": "stderr",
          "output_type": "stream",
          "text": [
            "INFO:root:[0] Ed: 6400, train_loss: 1.27754, acc: 0.48766\n"
          ]
        },
        {
          "name": "stdout",
          "output_type": "stream",
          "text": [
            "[INFO 2025-03-02 20:28:24,608] [0] Ed: 6400, train_loss: 1.27754, acc: 0.48766\n"
          ]
        },
        {
          "name": "stderr",
          "output_type": "stream",
          "text": [
            "INFO:root:[0] Ed: 9600, train_loss: 1.27713, acc: 0.48500\n"
          ]
        },
        {
          "name": "stdout",
          "output_type": "stream",
          "text": [
            "[INFO 2025-03-02 20:28:50,570] [0] Ed: 9600, train_loss: 1.27713, acc: 0.48500\n"
          ]
        },
        {
          "name": "stderr",
          "output_type": "stream",
          "text": [
            "INFO:root:[0] Ed: 12800, train_loss: 1.27346, acc: 0.48750\n"
          ]
        },
        {
          "name": "stdout",
          "output_type": "stream",
          "text": [
            "[INFO 2025-03-02 20:29:16,456] [0] Ed: 12800, train_loss: 1.27346, acc: 0.48750\n"
          ]
        },
        {
          "name": "stderr",
          "output_type": "stream",
          "text": [
            "INFO:root:[0] Ed: 16000, train_loss: 1.27835, acc: 0.48306\n"
          ]
        },
        {
          "name": "stdout",
          "output_type": "stream",
          "text": [
            "[INFO 2025-03-02 20:29:42,684] [0] Ed: 16000, train_loss: 1.27835, acc: 0.48306\n"
          ]
        },
        {
          "name": "stderr",
          "output_type": "stream",
          "text": [
            "INFO:root:[0] Ed: 19200, train_loss: 1.27901, acc: 0.48234\n"
          ]
        },
        {
          "name": "stdout",
          "output_type": "stream",
          "text": [
            "[INFO 2025-03-02 20:30:08,558] [0] Ed: 19200, train_loss: 1.27901, acc: 0.48234\n"
          ]
        },
        {
          "name": "stderr",
          "output_type": "stream",
          "text": [
            "INFO:root:[0] Ed: 22400, train_loss: 1.27803, acc: 0.48438\n"
          ]
        },
        {
          "name": "stdout",
          "output_type": "stream",
          "text": [
            "[INFO 2025-03-02 20:30:34,577] [0] Ed: 22400, train_loss: 1.27803, acc: 0.48438\n"
          ]
        },
        {
          "name": "stderr",
          "output_type": "stream",
          "text": [
            "INFO:root:[0] Ed: 25600, train_loss: 1.27810, acc: 0.48398\n"
          ]
        },
        {
          "name": "stdout",
          "output_type": "stream",
          "text": [
            "[INFO 2025-03-02 20:31:00,539] [0] Ed: 25600, train_loss: 1.27810, acc: 0.48398\n"
          ]
        },
        {
          "name": "stderr",
          "output_type": "stream",
          "text": [
            "INFO:root:[0] Ed: 28800, train_loss: 1.27708, acc: 0.48469\n"
          ]
        },
        {
          "name": "stdout",
          "output_type": "stream",
          "text": [
            "[INFO 2025-03-02 20:31:26,558] [0] Ed: 28800, train_loss: 1.27708, acc: 0.48469\n"
          ]
        },
        {
          "name": "stderr",
          "output_type": "stream",
          "text": [
            "INFO:root:[0] Ed: 32000, train_loss: 1.27773, acc: 0.48384\n"
          ]
        },
        {
          "name": "stdout",
          "output_type": "stream",
          "text": [
            "[INFO 2025-03-02 20:31:52,489] [0] Ed: 32000, train_loss: 1.27773, acc: 0.48384\n"
          ]
        },
        {
          "name": "stderr",
          "output_type": "stream",
          "text": [
            "INFO:root:[0] Ed: 35200, train_loss: 1.28003, acc: 0.48202\n"
          ]
        },
        {
          "name": "stdout",
          "output_type": "stream",
          "text": [
            "[INFO 2025-03-02 20:32:18,484] [0] Ed: 35200, train_loss: 1.28003, acc: 0.48202\n"
          ]
        },
        {
          "name": "stderr",
          "output_type": "stream",
          "text": [
            "INFO:root:[0] Ed: 38400, train_loss: 1.27855, acc: 0.48305\n"
          ]
        },
        {
          "name": "stdout",
          "output_type": "stream",
          "text": [
            "[INFO 2025-03-02 20:32:44,388] [0] Ed: 38400, train_loss: 1.27855, acc: 0.48305\n"
          ]
        },
        {
          "name": "stderr",
          "output_type": "stream",
          "text": [
            "INFO:root:[0] Ed: 41600, train_loss: 1.27669, acc: 0.48389\n"
          ]
        },
        {
          "name": "stdout",
          "output_type": "stream",
          "text": [
            "[INFO 2025-03-02 20:33:10,426] [0] Ed: 41600, train_loss: 1.27669, acc: 0.48389\n"
          ]
        },
        {
          "name": "stderr",
          "output_type": "stream",
          "text": [
            "INFO:root:[0] Ed: 44800, train_loss: 1.27587, acc: 0.48404\n"
          ]
        },
        {
          "name": "stdout",
          "output_type": "stream",
          "text": [
            "[INFO 2025-03-02 20:33:36,385] [0] Ed: 44800, train_loss: 1.27587, acc: 0.48404\n"
          ]
        },
        {
          "name": "stderr",
          "output_type": "stream",
          "text": [
            "INFO:root:[0] Ed: 48000, train_loss: 1.27583, acc: 0.48390\n"
          ]
        },
        {
          "name": "stdout",
          "output_type": "stream",
          "text": [
            "[INFO 2025-03-02 20:34:02,365] [0] Ed: 48000, train_loss: 1.27583, acc: 0.48390\n"
          ]
        },
        {
          "name": "stderr",
          "output_type": "stream",
          "text": [
            "INFO:root:[0] Ed: 51200, train_loss: 1.27472, acc: 0.48428\n"
          ]
        },
        {
          "name": "stdout",
          "output_type": "stream",
          "text": [
            "[INFO 2025-03-02 20:34:28,356] [0] Ed: 51200, train_loss: 1.27472, acc: 0.48428\n"
          ]
        },
        {
          "name": "stderr",
          "output_type": "stream",
          "text": [
            "INFO:root:[0] Ed: 54400, train_loss: 1.27373, acc: 0.48471\n"
          ]
        },
        {
          "name": "stdout",
          "output_type": "stream",
          "text": [
            "[INFO 2025-03-02 20:34:54,335] [0] Ed: 54400, train_loss: 1.27373, acc: 0.48471\n"
          ]
        },
        {
          "name": "stderr",
          "output_type": "stream",
          "text": [
            "INFO:root:[0] Ed: 57600, train_loss: 1.27328, acc: 0.48470\n"
          ]
        },
        {
          "name": "stdout",
          "output_type": "stream",
          "text": [
            "[INFO 2025-03-02 20:35:20,293] [0] Ed: 57600, train_loss: 1.27328, acc: 0.48470\n"
          ]
        },
        {
          "name": "stderr",
          "output_type": "stream",
          "text": [
            "INFO:root:[0] Ed: 60800, train_loss: 1.27357, acc: 0.48462\n"
          ]
        },
        {
          "name": "stdout",
          "output_type": "stream",
          "text": [
            "[INFO 2025-03-02 20:35:46,250] [0] Ed: 60800, train_loss: 1.27357, acc: 0.48462\n"
          ]
        },
        {
          "name": "stderr",
          "output_type": "stream",
          "text": [
            "INFO:root:[0] Ed: 64000, train_loss: 1.27259, acc: 0.48556\n"
          ]
        },
        {
          "name": "stdout",
          "output_type": "stream",
          "text": [
            "[INFO 2025-03-02 20:36:12,277] [0] Ed: 64000, train_loss: 1.27259, acc: 0.48556\n"
          ]
        },
        {
          "name": "stderr",
          "output_type": "stream",
          "text": [
            "INFO:root:[0] Ed: 67200, train_loss: 1.27216, acc: 0.48644\n"
          ]
        },
        {
          "name": "stdout",
          "output_type": "stream",
          "text": [
            "[INFO 2025-03-02 20:36:38,289] [0] Ed: 67200, train_loss: 1.27216, acc: 0.48644\n"
          ]
        },
        {
          "name": "stderr",
          "output_type": "stream",
          "text": [
            "INFO:root:[0] Ed: 70400, train_loss: 1.27128, acc: 0.48703\n"
          ]
        },
        {
          "name": "stdout",
          "output_type": "stream",
          "text": [
            "[INFO 2025-03-02 20:37:04,274] [0] Ed: 70400, train_loss: 1.27128, acc: 0.48703\n"
          ]
        },
        {
          "name": "stderr",
          "output_type": "stream",
          "text": [
            "INFO:root:[0] Ed: 73600, train_loss: 1.27142, acc: 0.48686\n"
          ]
        },
        {
          "name": "stdout",
          "output_type": "stream",
          "text": [
            "[INFO 2025-03-02 20:37:30,257] [0] Ed: 73600, train_loss: 1.27142, acc: 0.48686\n"
          ]
        },
        {
          "name": "stderr",
          "output_type": "stream",
          "text": [
            "INFO:root:[0] Ed: 76800, train_loss: 1.27041, acc: 0.48734\n"
          ]
        },
        {
          "name": "stdout",
          "output_type": "stream",
          "text": [
            "[INFO 2025-03-02 20:37:56,215] [0] Ed: 76800, train_loss: 1.27041, acc: 0.48734\n"
          ]
        },
        {
          "name": "stderr",
          "output_type": "stream",
          "text": [
            "INFO:root:[0] Ed: 80000, train_loss: 1.27075, acc: 0.48734\n"
          ]
        },
        {
          "name": "stdout",
          "output_type": "stream",
          "text": [
            "[INFO 2025-03-02 20:38:22,134] [0] Ed: 80000, train_loss: 1.27075, acc: 0.48734\n"
          ]
        },
        {
          "name": "stderr",
          "output_type": "stream",
          "text": [
            "INFO:root:[0] Ed: 83200, train_loss: 1.26970, acc: 0.48812\n"
          ]
        },
        {
          "name": "stdout",
          "output_type": "stream",
          "text": [
            "[INFO 2025-03-02 20:38:48,069] [0] Ed: 83200, train_loss: 1.26970, acc: 0.48812\n"
          ]
        },
        {
          "name": "stderr",
          "output_type": "stream",
          "text": [
            "INFO:root:[0] Ed: 86400, train_loss: 1.26908, acc: 0.48825\n"
          ]
        },
        {
          "name": "stdout",
          "output_type": "stream",
          "text": [
            "[INFO 2025-03-02 20:39:14,067] [0] Ed: 86400, train_loss: 1.26908, acc: 0.48825\n"
          ]
        },
        {
          "name": "stderr",
          "output_type": "stream",
          "text": [
            "INFO:root:[0] Ed: 89600, train_loss: 1.26811, acc: 0.48860\n"
          ]
        },
        {
          "name": "stdout",
          "output_type": "stream",
          "text": [
            "[INFO 2025-03-02 20:39:40,231] [0] Ed: 89600, train_loss: 1.26811, acc: 0.48860\n"
          ]
        },
        {
          "name": "stderr",
          "output_type": "stream",
          "text": [
            "INFO:root:[0] Ed: 92800, train_loss: 1.26834, acc: 0.48820\n"
          ]
        },
        {
          "name": "stdout",
          "output_type": "stream",
          "text": [
            "[INFO 2025-03-02 20:40:06,194] [0] Ed: 92800, train_loss: 1.26834, acc: 0.48820\n"
          ]
        },
        {
          "name": "stderr",
          "output_type": "stream",
          "text": [
            "INFO:root:[0] Ed: 96000, train_loss: 1.26750, acc: 0.48864\n"
          ]
        },
        {
          "name": "stdout",
          "output_type": "stream",
          "text": [
            "[INFO 2025-03-02 20:40:32,203] [0] Ed: 96000, train_loss: 1.26750, acc: 0.48864\n"
          ]
        },
        {
          "name": "stderr",
          "output_type": "stream",
          "text": [
            "INFO:root:[0] Ed: 99200, train_loss: 1.26725, acc: 0.48844\n"
          ]
        },
        {
          "name": "stdout",
          "output_type": "stream",
          "text": [
            "[INFO 2025-03-02 20:40:58,118] [0] Ed: 99200, train_loss: 1.26725, acc: 0.48844\n"
          ]
        },
        {
          "name": "stderr",
          "output_type": "stream",
          "text": [
            "INFO:root:[0] Ed: 102400, train_loss: 1.26604, acc: 0.48884\n"
          ]
        },
        {
          "name": "stdout",
          "output_type": "stream",
          "text": [
            "[INFO 2025-03-02 20:41:24,118] [0] Ed: 102400, train_loss: 1.26604, acc: 0.48884\n"
          ]
        },
        {
          "name": "stderr",
          "output_type": "stream",
          "text": [
            "INFO:root:[0] Ed: 105600, train_loss: 1.26491, acc: 0.48937\n"
          ]
        },
        {
          "name": "stdout",
          "output_type": "stream",
          "text": [
            "[INFO 2025-03-02 20:41:50,109] [0] Ed: 105600, train_loss: 1.26491, acc: 0.48937\n"
          ]
        },
        {
          "name": "stderr",
          "output_type": "stream",
          "text": [
            "INFO:root:[0] Ed: 108800, train_loss: 1.26488, acc: 0.48951\n"
          ]
        },
        {
          "name": "stdout",
          "output_type": "stream",
          "text": [
            "[INFO 2025-03-02 20:42:16,055] [0] Ed: 108800, train_loss: 1.26488, acc: 0.48951\n"
          ]
        },
        {
          "name": "stderr",
          "output_type": "stream",
          "text": [
            "INFO:root:[0] Ed: 112000, train_loss: 1.26514, acc: 0.48929\n"
          ]
        },
        {
          "name": "stdout",
          "output_type": "stream",
          "text": [
            "[INFO 2025-03-02 20:42:41,975] [0] Ed: 112000, train_loss: 1.26514, acc: 0.48929\n"
          ]
        },
        {
          "name": "stderr",
          "output_type": "stream",
          "text": [
            "INFO:root:[0] Ed: 115200, train_loss: 1.26504, acc: 0.48927\n"
          ]
        },
        {
          "name": "stdout",
          "output_type": "stream",
          "text": [
            "[INFO 2025-03-02 20:43:07,941] [0] Ed: 115200, train_loss: 1.26504, acc: 0.48927\n"
          ]
        },
        {
          "name": "stderr",
          "output_type": "stream",
          "text": [
            "INFO:root:[0] Ed: 118400, train_loss: 1.26411, acc: 0.48973\n"
          ]
        },
        {
          "name": "stdout",
          "output_type": "stream",
          "text": [
            "[INFO 2025-03-02 20:43:33,848] [0] Ed: 118400, train_loss: 1.26411, acc: 0.48973\n"
          ]
        },
        {
          "name": "stderr",
          "output_type": "stream",
          "text": [
            "INFO:root:[0] Ed: 121600, train_loss: 1.26414, acc: 0.48981\n"
          ]
        },
        {
          "name": "stdout",
          "output_type": "stream",
          "text": [
            "[INFO 2025-03-02 20:43:59,825] [0] Ed: 121600, train_loss: 1.26414, acc: 0.48981\n"
          ]
        },
        {
          "name": "stderr",
          "output_type": "stream",
          "text": [
            "INFO:root:[0] Ed: 124800, train_loss: 1.26412, acc: 0.48977\n"
          ]
        },
        {
          "name": "stdout",
          "output_type": "stream",
          "text": [
            "[INFO 2025-03-02 20:44:25,828] [0] Ed: 124800, train_loss: 1.26412, acc: 0.48977\n"
          ]
        },
        {
          "name": "stderr",
          "output_type": "stream",
          "text": [
            "INFO:root:[0] Ed: 128000, train_loss: 1.26453, acc: 0.48953\n"
          ]
        },
        {
          "name": "stdout",
          "output_type": "stream",
          "text": [
            "[INFO 2025-03-02 20:44:51,752] [0] Ed: 128000, train_loss: 1.26453, acc: 0.48953\n"
          ]
        },
        {
          "name": "stderr",
          "output_type": "stream",
          "text": [
            "INFO:root:[0] Ed: 131200, train_loss: 1.26423, acc: 0.48992\n"
          ]
        },
        {
          "name": "stdout",
          "output_type": "stream",
          "text": [
            "[INFO 2025-03-02 20:45:17,765] [0] Ed: 131200, train_loss: 1.26423, acc: 0.48992\n"
          ]
        },
        {
          "name": "stderr",
          "output_type": "stream",
          "text": [
            "INFO:root:[0] Ed: 134400, train_loss: 1.26434, acc: 0.48988\n"
          ]
        },
        {
          "name": "stdout",
          "output_type": "stream",
          "text": [
            "[INFO 2025-03-02 20:45:43,765] [0] Ed: 134400, train_loss: 1.26434, acc: 0.48988\n"
          ]
        },
        {
          "name": "stderr",
          "output_type": "stream",
          "text": [
            "INFO:root:[0] Ed: 137600, train_loss: 1.26451, acc: 0.48996\n"
          ]
        },
        {
          "name": "stdout",
          "output_type": "stream",
          "text": [
            "[INFO 2025-03-02 20:46:09,740] [0] Ed: 137600, train_loss: 1.26451, acc: 0.48996\n"
          ]
        },
        {
          "name": "stderr",
          "output_type": "stream",
          "text": [
            "INFO:root:[0] Ed: 140800, train_loss: 1.26402, acc: 0.49056\n"
          ]
        },
        {
          "name": "stdout",
          "output_type": "stream",
          "text": [
            "[INFO 2025-03-02 20:46:35,672] [0] Ed: 140800, train_loss: 1.26402, acc: 0.49056\n"
          ]
        },
        {
          "name": "stderr",
          "output_type": "stream",
          "text": [
            "INFO:root:[0] Ed: 144000, train_loss: 1.26377, acc: 0.49035\n"
          ]
        },
        {
          "name": "stdout",
          "output_type": "stream",
          "text": [
            "[INFO 2025-03-02 20:47:01,707] [0] Ed: 144000, train_loss: 1.26377, acc: 0.49035\n"
          ]
        },
        {
          "name": "stderr",
          "output_type": "stream",
          "text": [
            "INFO:root:[0] Ed: 147200, train_loss: 1.26337, acc: 0.49063\n"
          ]
        },
        {
          "name": "stdout",
          "output_type": "stream",
          "text": [
            "[INFO 2025-03-02 20:47:27,642] [0] Ed: 147200, train_loss: 1.26337, acc: 0.49063\n"
          ]
        },
        {
          "name": "stderr",
          "output_type": "stream",
          "text": [
            "INFO:root:[0] Ed: 150400, train_loss: 1.26272, acc: 0.49070\n"
          ]
        },
        {
          "name": "stdout",
          "output_type": "stream",
          "text": [
            "[INFO 2025-03-02 20:47:53,601] [0] Ed: 150400, train_loss: 1.26272, acc: 0.49070\n"
          ]
        },
        {
          "name": "stderr",
          "output_type": "stream",
          "text": [
            "INFO:root:[0] Ed: 153600, train_loss: 1.26217, acc: 0.49083\n"
          ]
        },
        {
          "name": "stdout",
          "output_type": "stream",
          "text": [
            "[INFO 2025-03-02 20:48:19,588] [0] Ed: 153600, train_loss: 1.26217, acc: 0.49083\n"
          ]
        },
        {
          "name": "stderr",
          "output_type": "stream",
          "text": [
            "INFO:root:[0] Ed: 156800, train_loss: 1.26171, acc: 0.49104\n"
          ]
        },
        {
          "name": "stdout",
          "output_type": "stream",
          "text": [
            "[INFO 2025-03-02 20:48:45,480] [0] Ed: 156800, train_loss: 1.26171, acc: 0.49104\n"
          ]
        },
        {
          "name": "stderr",
          "output_type": "stream",
          "text": [
            "INFO:root:[0] Ed: 160000, train_loss: 1.26136, acc: 0.49129\n"
          ]
        },
        {
          "name": "stdout",
          "output_type": "stream",
          "text": [
            "[INFO 2025-03-02 20:49:11,740] [0] Ed: 160000, train_loss: 1.26136, acc: 0.49129\n"
          ]
        },
        {
          "name": "stderr",
          "output_type": "stream",
          "text": [
            "INFO:root:[0] Ed: 163200, train_loss: 1.26120, acc: 0.49117\n"
          ]
        },
        {
          "name": "stdout",
          "output_type": "stream",
          "text": [
            "[INFO 2025-03-02 20:49:37,688] [0] Ed: 163200, train_loss: 1.26120, acc: 0.49117\n"
          ]
        },
        {
          "name": "stderr",
          "output_type": "stream",
          "text": [
            "INFO:root:[0] Ed: 166400, train_loss: 1.26136, acc: 0.49102\n"
          ]
        },
        {
          "name": "stdout",
          "output_type": "stream",
          "text": [
            "[INFO 2025-03-02 20:50:03,552] [0] Ed: 166400, train_loss: 1.26136, acc: 0.49102\n"
          ]
        },
        {
          "name": "stderr",
          "output_type": "stream",
          "text": [
            "INFO:root:[0] Ed: 169600, train_loss: 1.26147, acc: 0.49107\n"
          ]
        },
        {
          "name": "stdout",
          "output_type": "stream",
          "text": [
            "[INFO 2025-03-02 20:50:29,417] [0] Ed: 169600, train_loss: 1.26147, acc: 0.49107\n"
          ]
        },
        {
          "name": "stderr",
          "output_type": "stream",
          "text": [
            "INFO:root:[0] Ed: 172800, train_loss: 1.26110, acc: 0.49135\n"
          ]
        },
        {
          "name": "stdout",
          "output_type": "stream",
          "text": [
            "[INFO 2025-03-02 20:50:55,354] [0] Ed: 172800, train_loss: 1.26110, acc: 0.49135\n"
          ]
        },
        {
          "name": "stderr",
          "output_type": "stream",
          "text": [
            "INFO:root:[0] Ed: 176000, train_loss: 1.26085, acc: 0.49159\n"
          ]
        },
        {
          "name": "stdout",
          "output_type": "stream",
          "text": [
            "[INFO 2025-03-02 20:51:21,247] [0] Ed: 176000, train_loss: 1.26085, acc: 0.49159\n"
          ]
        },
        {
          "name": "stderr",
          "output_type": "stream",
          "text": [
            "INFO:root:[0] Ed: 179200, train_loss: 1.26071, acc: 0.49165\n"
          ]
        },
        {
          "name": "stdout",
          "output_type": "stream",
          "text": [
            "[INFO 2025-03-02 20:51:47,265] [0] Ed: 179200, train_loss: 1.26071, acc: 0.49165\n"
          ]
        },
        {
          "name": "stderr",
          "output_type": "stream",
          "text": [
            "INFO:root:[0] Ed: 182400, train_loss: 1.26070, acc: 0.49179\n"
          ]
        },
        {
          "name": "stdout",
          "output_type": "stream",
          "text": [
            "[INFO 2025-03-02 20:52:13,170] [0] Ed: 182400, train_loss: 1.26070, acc: 0.49179\n"
          ]
        },
        {
          "name": "stderr",
          "output_type": "stream",
          "text": [
            "INFO:root:[0] Ed: 185600, train_loss: 1.26028, acc: 0.49197\n"
          ]
        },
        {
          "name": "stdout",
          "output_type": "stream",
          "text": [
            "[INFO 2025-03-02 20:52:39,193] [0] Ed: 185600, train_loss: 1.26028, acc: 0.49197\n"
          ]
        },
        {
          "name": "stderr",
          "output_type": "stream",
          "text": [
            "INFO:root:[0] Ed: 188800, train_loss: 1.26005, acc: 0.49208\n"
          ]
        },
        {
          "name": "stdout",
          "output_type": "stream",
          "text": [
            "[INFO 2025-03-02 20:53:05,190] [0] Ed: 188800, train_loss: 1.26005, acc: 0.49208\n"
          ]
        },
        {
          "name": "stderr",
          "output_type": "stream",
          "text": [
            "INFO:root:[0] Ed: 192000, train_loss: 1.26016, acc: 0.49201\n"
          ]
        },
        {
          "name": "stdout",
          "output_type": "stream",
          "text": [
            "[INFO 2025-03-02 20:53:31,096] [0] Ed: 192000, train_loss: 1.26016, acc: 0.49201\n"
          ]
        },
        {
          "name": "stderr",
          "output_type": "stream",
          "text": [
            "INFO:root:[0] Ed: 195200, train_loss: 1.26000, acc: 0.49211\n"
          ]
        },
        {
          "name": "stdout",
          "output_type": "stream",
          "text": [
            "[INFO 2025-03-02 20:53:57,104] [0] Ed: 195200, train_loss: 1.26000, acc: 0.49211\n"
          ]
        },
        {
          "name": "stderr",
          "output_type": "stream",
          "text": [
            "INFO:root:[0] Ed: 198400, train_loss: 1.26008, acc: 0.49213\n"
          ]
        },
        {
          "name": "stdout",
          "output_type": "stream",
          "text": [
            "[INFO 2025-03-02 20:54:23,039] [0] Ed: 198400, train_loss: 1.26008, acc: 0.49213\n"
          ]
        },
        {
          "name": "stderr",
          "output_type": "stream",
          "text": [
            "INFO:root:[0] Ed: 201600, train_loss: 1.25980, acc: 0.49233\n"
          ]
        },
        {
          "name": "stdout",
          "output_type": "stream",
          "text": [
            "[INFO 2025-03-02 20:54:48,919] [0] Ed: 201600, train_loss: 1.25980, acc: 0.49233\n"
          ]
        },
        {
          "name": "stderr",
          "output_type": "stream",
          "text": [
            "INFO:root:[0] Ed: 204800, train_loss: 1.25995, acc: 0.49228\n"
          ]
        },
        {
          "name": "stdout",
          "output_type": "stream",
          "text": [
            "[INFO 2025-03-02 20:55:14,908] [0] Ed: 204800, train_loss: 1.25995, acc: 0.49228\n"
          ]
        },
        {
          "name": "stderr",
          "output_type": "stream",
          "text": [
            "INFO:root:[0] Ed: 208000, train_loss: 1.26010, acc: 0.49231\n"
          ]
        },
        {
          "name": "stdout",
          "output_type": "stream",
          "text": [
            "[INFO 2025-03-02 20:55:40,895] [0] Ed: 208000, train_loss: 1.26010, acc: 0.49231\n"
          ]
        },
        {
          "name": "stderr",
          "output_type": "stream",
          "text": [
            "INFO:root:[0] Ed: 211200, train_loss: 1.25996, acc: 0.49230\n"
          ]
        },
        {
          "name": "stdout",
          "output_type": "stream",
          "text": [
            "[INFO 2025-03-02 20:56:06,805] [0] Ed: 211200, train_loss: 1.25996, acc: 0.49230\n"
          ]
        },
        {
          "name": "stderr",
          "output_type": "stream",
          "text": [
            "INFO:root:[0] Ed: 214400, train_loss: 1.25991, acc: 0.49235\n"
          ]
        },
        {
          "name": "stdout",
          "output_type": "stream",
          "text": [
            "[INFO 2025-03-02 20:56:32,771] [0] Ed: 214400, train_loss: 1.25991, acc: 0.49235\n"
          ]
        },
        {
          "name": "stderr",
          "output_type": "stream",
          "text": [
            "INFO:root:[0] Ed: 217600, train_loss: 1.25969, acc: 0.49242\n"
          ]
        },
        {
          "name": "stdout",
          "output_type": "stream",
          "text": [
            "[INFO 2025-03-02 20:56:58,759] [0] Ed: 217600, train_loss: 1.25969, acc: 0.49242\n"
          ]
        },
        {
          "name": "stderr",
          "output_type": "stream",
          "text": [
            "INFO:root:[0] Ed: 220800, train_loss: 1.25945, acc: 0.49256\n"
          ]
        },
        {
          "name": "stdout",
          "output_type": "stream",
          "text": [
            "[INFO 2025-03-02 20:57:24,806] [0] Ed: 220800, train_loss: 1.25945, acc: 0.49256\n"
          ]
        },
        {
          "name": "stderr",
          "output_type": "stream",
          "text": [
            "INFO:root:[0] Ed: 224000, train_loss: 1.25912, acc: 0.49279\n"
          ]
        },
        {
          "name": "stdout",
          "output_type": "stream",
          "text": [
            "[INFO 2025-03-02 20:57:50,730] [0] Ed: 224000, train_loss: 1.25912, acc: 0.49279\n"
          ]
        },
        {
          "name": "stderr",
          "output_type": "stream",
          "text": [
            "INFO:root:[0] Ed: 227200, train_loss: 1.25888, acc: 0.49294\n"
          ]
        },
        {
          "name": "stdout",
          "output_type": "stream",
          "text": [
            "[INFO 2025-03-02 20:58:16,658] [0] Ed: 227200, train_loss: 1.25888, acc: 0.49294\n"
          ]
        },
        {
          "name": "stderr",
          "output_type": "stream",
          "text": [
            "INFO:root:[0] Ed: 230400, train_loss: 1.25858, acc: 0.49310\n"
          ]
        },
        {
          "name": "stdout",
          "output_type": "stream",
          "text": [
            "[INFO 2025-03-02 20:58:42,649] [0] Ed: 230400, train_loss: 1.25858, acc: 0.49310\n"
          ]
        },
        {
          "name": "stderr",
          "output_type": "stream",
          "text": [
            "INFO:root:[0] Ed: 233600, train_loss: 1.25819, acc: 0.49336\n"
          ]
        },
        {
          "name": "stdout",
          "output_type": "stream",
          "text": [
            "[INFO 2025-03-02 20:59:08,891] [0] Ed: 233600, train_loss: 1.25819, acc: 0.49336\n"
          ]
        },
        {
          "name": "stderr",
          "output_type": "stream",
          "text": [
            "INFO:root:Training finish.\n"
          ]
        },
        {
          "name": "stdout",
          "output_type": "stream",
          "text": [
            "[INFO 2025-03-02 20:59:30,953] Training finish.\n"
          ]
        },
        {
          "name": "stderr",
          "output_type": "stream",
          "text": [
            "INFO:root:Model saved to /content/model/epoch-4.pt.\n"
          ]
        },
        {
          "name": "stdout",
          "output_type": "stream",
          "text": [
            "[INFO 2025-03-02 20:59:30,997] Model saved to /content/model/epoch-4.pt.\n"
          ]
        },
        {
          "name": "stderr",
          "output_type": "stream",
          "text": [
            "INFO:root:[0] Ed: 0, train_loss: inf, acc: inf\n"
          ]
        },
        {
          "name": "stdout",
          "output_type": "stream",
          "text": [
            "[INFO 2025-03-02 20:59:31,283] [0] Ed: 0, train_loss: inf, acc: inf\n"
          ]
        },
        {
          "name": "stderr",
          "output_type": "stream",
          "text": [
            "INFO:root:[0] Ed: 3200, train_loss: 1.27580, acc: 0.49531\n"
          ]
        },
        {
          "name": "stdout",
          "output_type": "stream",
          "text": [
            "[INFO 2025-03-02 20:59:57,250] [0] Ed: 3200, train_loss: 1.27580, acc: 0.49531\n"
          ]
        },
        {
          "name": "stderr",
          "output_type": "stream",
          "text": [
            "INFO:root:[0] Ed: 6400, train_loss: 1.25757, acc: 0.50266\n"
          ]
        },
        {
          "name": "stdout",
          "output_type": "stream",
          "text": [
            "[INFO 2025-03-02 21:00:23,234] [0] Ed: 6400, train_loss: 1.25757, acc: 0.50266\n"
          ]
        },
        {
          "name": "stderr",
          "output_type": "stream",
          "text": [
            "INFO:root:[0] Ed: 9600, train_loss: 1.25656, acc: 0.50208\n"
          ]
        },
        {
          "name": "stdout",
          "output_type": "stream",
          "text": [
            "[INFO 2025-03-02 21:00:49,233] [0] Ed: 9600, train_loss: 1.25656, acc: 0.50208\n"
          ]
        },
        {
          "name": "stderr",
          "output_type": "stream",
          "text": [
            "INFO:root:[0] Ed: 12800, train_loss: 1.25226, acc: 0.50258\n"
          ]
        },
        {
          "name": "stdout",
          "output_type": "stream",
          "text": [
            "[INFO 2025-03-02 21:01:15,273] [0] Ed: 12800, train_loss: 1.25226, acc: 0.50258\n"
          ]
        },
        {
          "name": "stderr",
          "output_type": "stream",
          "text": [
            "INFO:root:[0] Ed: 16000, train_loss: 1.25657, acc: 0.49888\n"
          ]
        },
        {
          "name": "stdout",
          "output_type": "stream",
          "text": [
            "[INFO 2025-03-02 21:01:41,239] [0] Ed: 16000, train_loss: 1.25657, acc: 0.49888\n"
          ]
        },
        {
          "name": "stderr",
          "output_type": "stream",
          "text": [
            "INFO:root:[0] Ed: 19200, train_loss: 1.25660, acc: 0.49792\n"
          ]
        },
        {
          "name": "stdout",
          "output_type": "stream",
          "text": [
            "[INFO 2025-03-02 21:02:07,188] [0] Ed: 19200, train_loss: 1.25660, acc: 0.49792\n"
          ]
        },
        {
          "name": "stderr",
          "output_type": "stream",
          "text": [
            "INFO:root:[0] Ed: 22400, train_loss: 1.25540, acc: 0.49830\n"
          ]
        },
        {
          "name": "stdout",
          "output_type": "stream",
          "text": [
            "[INFO 2025-03-02 21:02:33,229] [0] Ed: 22400, train_loss: 1.25540, acc: 0.49830\n"
          ]
        },
        {
          "name": "stderr",
          "output_type": "stream",
          "text": [
            "INFO:root:[0] Ed: 25600, train_loss: 1.25469, acc: 0.49793\n"
          ]
        },
        {
          "name": "stdout",
          "output_type": "stream",
          "text": [
            "[INFO 2025-03-02 21:02:59,223] [0] Ed: 25600, train_loss: 1.25469, acc: 0.49793\n"
          ]
        },
        {
          "name": "stderr",
          "output_type": "stream",
          "text": [
            "INFO:root:[0] Ed: 28800, train_loss: 1.25479, acc: 0.49715\n"
          ]
        },
        {
          "name": "stdout",
          "output_type": "stream",
          "text": [
            "[INFO 2025-03-02 21:03:25,104] [0] Ed: 28800, train_loss: 1.25479, acc: 0.49715\n"
          ]
        },
        {
          "name": "stderr",
          "output_type": "stream",
          "text": [
            "INFO:root:[0] Ed: 32000, train_loss: 1.25549, acc: 0.49584\n"
          ]
        },
        {
          "name": "stdout",
          "output_type": "stream",
          "text": [
            "[INFO 2025-03-02 21:03:51,056] [0] Ed: 32000, train_loss: 1.25549, acc: 0.49584\n"
          ]
        },
        {
          "name": "stderr",
          "output_type": "stream",
          "text": [
            "INFO:root:[0] Ed: 35200, train_loss: 1.25723, acc: 0.49437\n"
          ]
        },
        {
          "name": "stdout",
          "output_type": "stream",
          "text": [
            "[INFO 2025-03-02 21:04:17,050] [0] Ed: 35200, train_loss: 1.25723, acc: 0.49437\n"
          ]
        },
        {
          "name": "stderr",
          "output_type": "stream",
          "text": [
            "INFO:root:[0] Ed: 38400, train_loss: 1.25530, acc: 0.49521\n"
          ]
        },
        {
          "name": "stdout",
          "output_type": "stream",
          "text": [
            "[INFO 2025-03-02 21:04:43,078] [0] Ed: 38400, train_loss: 1.25530, acc: 0.49521\n"
          ]
        },
        {
          "name": "stderr",
          "output_type": "stream",
          "text": [
            "INFO:root:[0] Ed: 41600, train_loss: 1.25311, acc: 0.49615\n"
          ]
        },
        {
          "name": "stdout",
          "output_type": "stream",
          "text": [
            "[INFO 2025-03-02 21:05:09,038] [0] Ed: 41600, train_loss: 1.25311, acc: 0.49615\n"
          ]
        },
        {
          "name": "stderr",
          "output_type": "stream",
          "text": [
            "INFO:root:[0] Ed: 44800, train_loss: 1.25243, acc: 0.49627\n"
          ]
        },
        {
          "name": "stdout",
          "output_type": "stream",
          "text": [
            "[INFO 2025-03-02 21:05:35,046] [0] Ed: 44800, train_loss: 1.25243, acc: 0.49627\n"
          ]
        },
        {
          "name": "stderr",
          "output_type": "stream",
          "text": [
            "INFO:root:[0] Ed: 48000, train_loss: 1.25192, acc: 0.49646\n"
          ]
        },
        {
          "name": "stdout",
          "output_type": "stream",
          "text": [
            "[INFO 2025-03-02 21:06:01,014] [0] Ed: 48000, train_loss: 1.25192, acc: 0.49646\n"
          ]
        },
        {
          "name": "stderr",
          "output_type": "stream",
          "text": [
            "INFO:root:[0] Ed: 51200, train_loss: 1.25144, acc: 0.49654\n"
          ]
        },
        {
          "name": "stdout",
          "output_type": "stream",
          "text": [
            "[INFO 2025-03-02 21:06:26,934] [0] Ed: 51200, train_loss: 1.25144, acc: 0.49654\n"
          ]
        },
        {
          "name": "stderr",
          "output_type": "stream",
          "text": [
            "INFO:root:[0] Ed: 54400, train_loss: 1.25020, acc: 0.49704\n"
          ]
        },
        {
          "name": "stdout",
          "output_type": "stream",
          "text": [
            "[INFO 2025-03-02 21:06:52,917] [0] Ed: 54400, train_loss: 1.25020, acc: 0.49704\n"
          ]
        },
        {
          "name": "stderr",
          "output_type": "stream",
          "text": [
            "INFO:root:[0] Ed: 57600, train_loss: 1.24981, acc: 0.49710\n"
          ]
        },
        {
          "name": "stdout",
          "output_type": "stream",
          "text": [
            "[INFO 2025-03-02 21:07:18,904] [0] Ed: 57600, train_loss: 1.24981, acc: 0.49710\n"
          ]
        },
        {
          "name": "stderr",
          "output_type": "stream",
          "text": [
            "INFO:root:[0] Ed: 60800, train_loss: 1.25006, acc: 0.49702\n"
          ]
        },
        {
          "name": "stdout",
          "output_type": "stream",
          "text": [
            "[INFO 2025-03-02 21:07:44,838] [0] Ed: 60800, train_loss: 1.25006, acc: 0.49702\n"
          ]
        },
        {
          "name": "stderr",
          "output_type": "stream",
          "text": [
            "INFO:root:[0] Ed: 64000, train_loss: 1.24915, acc: 0.49783\n"
          ]
        },
        {
          "name": "stdout",
          "output_type": "stream",
          "text": [
            "[INFO 2025-03-02 21:08:10,864] [0] Ed: 64000, train_loss: 1.24915, acc: 0.49783\n"
          ]
        },
        {
          "name": "stderr",
          "output_type": "stream",
          "text": [
            "INFO:root:[0] Ed: 67200, train_loss: 1.24849, acc: 0.49875\n"
          ]
        },
        {
          "name": "stdout",
          "output_type": "stream",
          "text": [
            "[INFO 2025-03-02 21:08:36,838] [0] Ed: 67200, train_loss: 1.24849, acc: 0.49875\n"
          ]
        },
        {
          "name": "stderr",
          "output_type": "stream",
          "text": [
            "INFO:root:[0] Ed: 70400, train_loss: 1.24768, acc: 0.49932\n"
          ]
        },
        {
          "name": "stdout",
          "output_type": "stream",
          "text": [
            "[INFO 2025-03-02 21:09:02,968] [0] Ed: 70400, train_loss: 1.24768, acc: 0.49932\n"
          ]
        },
        {
          "name": "stderr",
          "output_type": "stream",
          "text": [
            "INFO:root:[0] Ed: 73600, train_loss: 1.24775, acc: 0.49895\n"
          ]
        },
        {
          "name": "stdout",
          "output_type": "stream",
          "text": [
            "[INFO 2025-03-02 21:09:28,954] [0] Ed: 73600, train_loss: 1.24775, acc: 0.49895\n"
          ]
        },
        {
          "name": "stderr",
          "output_type": "stream",
          "text": [
            "INFO:root:[0] Ed: 76800, train_loss: 1.24698, acc: 0.49954\n"
          ]
        },
        {
          "name": "stdout",
          "output_type": "stream",
          "text": [
            "[INFO 2025-03-02 21:09:54,906] [0] Ed: 76800, train_loss: 1.24698, acc: 0.49954\n"
          ]
        },
        {
          "name": "stderr",
          "output_type": "stream",
          "text": [
            "INFO:root:[0] Ed: 80000, train_loss: 1.24752, acc: 0.49951\n"
          ]
        },
        {
          "name": "stdout",
          "output_type": "stream",
          "text": [
            "[INFO 2025-03-02 21:10:20,862] [0] Ed: 80000, train_loss: 1.24752, acc: 0.49951\n"
          ]
        },
        {
          "name": "stderr",
          "output_type": "stream",
          "text": [
            "INFO:root:[0] Ed: 83200, train_loss: 1.24687, acc: 0.49993\n"
          ]
        },
        {
          "name": "stdout",
          "output_type": "stream",
          "text": [
            "[INFO 2025-03-02 21:10:46,860] [0] Ed: 83200, train_loss: 1.24687, acc: 0.49993\n"
          ]
        },
        {
          "name": "stderr",
          "output_type": "stream",
          "text": [
            "INFO:root:[0] Ed: 86400, train_loss: 1.24628, acc: 0.49997\n"
          ]
        },
        {
          "name": "stdout",
          "output_type": "stream",
          "text": [
            "[INFO 2025-03-02 21:11:12,885] [0] Ed: 86400, train_loss: 1.24628, acc: 0.49997\n"
          ]
        },
        {
          "name": "stderr",
          "output_type": "stream",
          "text": [
            "INFO:root:[0] Ed: 89600, train_loss: 1.24540, acc: 0.50044\n"
          ]
        },
        {
          "name": "stdout",
          "output_type": "stream",
          "text": [
            "[INFO 2025-03-02 21:11:38,879] [0] Ed: 89600, train_loss: 1.24540, acc: 0.50044\n"
          ]
        },
        {
          "name": "stderr",
          "output_type": "stream",
          "text": [
            "INFO:root:[0] Ed: 92800, train_loss: 1.24593, acc: 0.50031\n"
          ]
        },
        {
          "name": "stdout",
          "output_type": "stream",
          "text": [
            "[INFO 2025-03-02 21:12:04,825] [0] Ed: 92800, train_loss: 1.24593, acc: 0.50031\n"
          ]
        },
        {
          "name": "stderr",
          "output_type": "stream",
          "text": [
            "INFO:root:[0] Ed: 96000, train_loss: 1.24516, acc: 0.50070\n"
          ]
        },
        {
          "name": "stdout",
          "output_type": "stream",
          "text": [
            "[INFO 2025-03-02 21:12:30,846] [0] Ed: 96000, train_loss: 1.24516, acc: 0.50070\n"
          ]
        },
        {
          "name": "stderr",
          "output_type": "stream",
          "text": [
            "INFO:root:[0] Ed: 99200, train_loss: 1.24490, acc: 0.50045\n"
          ]
        },
        {
          "name": "stdout",
          "output_type": "stream",
          "text": [
            "[INFO 2025-03-02 21:12:56,875] [0] Ed: 99200, train_loss: 1.24490, acc: 0.50045\n"
          ]
        },
        {
          "name": "stderr",
          "output_type": "stream",
          "text": [
            "INFO:root:[0] Ed: 102400, train_loss: 1.24408, acc: 0.50051\n"
          ]
        },
        {
          "name": "stdout",
          "output_type": "stream",
          "text": [
            "[INFO 2025-03-02 21:13:22,780] [0] Ed: 102400, train_loss: 1.24408, acc: 0.50051\n"
          ]
        },
        {
          "name": "stderr",
          "output_type": "stream",
          "text": [
            "INFO:root:[0] Ed: 105600, train_loss: 1.24282, acc: 0.50101\n"
          ]
        },
        {
          "name": "stdout",
          "output_type": "stream",
          "text": [
            "[INFO 2025-03-02 21:13:48,756] [0] Ed: 105600, train_loss: 1.24282, acc: 0.50101\n"
          ]
        },
        {
          "name": "stderr",
          "output_type": "stream",
          "text": [
            "INFO:root:[0] Ed: 108800, train_loss: 1.24268, acc: 0.50124\n"
          ]
        },
        {
          "name": "stdout",
          "output_type": "stream",
          "text": [
            "[INFO 2025-03-02 21:14:14,755] [0] Ed: 108800, train_loss: 1.24268, acc: 0.50124\n"
          ]
        },
        {
          "name": "stderr",
          "output_type": "stream",
          "text": [
            "INFO:root:[0] Ed: 112000, train_loss: 1.24287, acc: 0.50089\n"
          ]
        },
        {
          "name": "stdout",
          "output_type": "stream",
          "text": [
            "[INFO 2025-03-02 21:14:40,653] [0] Ed: 112000, train_loss: 1.24287, acc: 0.50089\n"
          ]
        },
        {
          "name": "stderr",
          "output_type": "stream",
          "text": [
            "INFO:root:[0] Ed: 115200, train_loss: 1.24269, acc: 0.50089\n"
          ]
        },
        {
          "name": "stdout",
          "output_type": "stream",
          "text": [
            "[INFO 2025-03-02 21:15:06,657] [0] Ed: 115200, train_loss: 1.24269, acc: 0.50089\n"
          ]
        },
        {
          "name": "stderr",
          "output_type": "stream",
          "text": [
            "INFO:root:[0] Ed: 118400, train_loss: 1.24169, acc: 0.50147\n"
          ]
        },
        {
          "name": "stdout",
          "output_type": "stream",
          "text": [
            "[INFO 2025-03-02 21:15:32,663] [0] Ed: 118400, train_loss: 1.24169, acc: 0.50147\n"
          ]
        },
        {
          "name": "stderr",
          "output_type": "stream",
          "text": [
            "INFO:root:[0] Ed: 121600, train_loss: 1.24145, acc: 0.50157\n"
          ]
        },
        {
          "name": "stdout",
          "output_type": "stream",
          "text": [
            "[INFO 2025-03-02 21:15:58,588] [0] Ed: 121600, train_loss: 1.24145, acc: 0.50157\n"
          ]
        },
        {
          "name": "stderr",
          "output_type": "stream",
          "text": [
            "INFO:root:[0] Ed: 124800, train_loss: 1.24137, acc: 0.50149\n"
          ]
        },
        {
          "name": "stdout",
          "output_type": "stream",
          "text": [
            "[INFO 2025-03-02 21:16:24,536] [0] Ed: 124800, train_loss: 1.24137, acc: 0.50149\n"
          ]
        },
        {
          "name": "stderr",
          "output_type": "stream",
          "text": [
            "INFO:root:[0] Ed: 128000, train_loss: 1.24178, acc: 0.50126\n"
          ]
        },
        {
          "name": "stdout",
          "output_type": "stream",
          "text": [
            "[INFO 2025-03-02 21:16:50,541] [0] Ed: 128000, train_loss: 1.24178, acc: 0.50126\n"
          ]
        },
        {
          "name": "stderr",
          "output_type": "stream",
          "text": [
            "INFO:root:[0] Ed: 131200, train_loss: 1.24150, acc: 0.50146\n"
          ]
        },
        {
          "name": "stdout",
          "output_type": "stream",
          "text": [
            "[INFO 2025-03-02 21:17:16,514] [0] Ed: 131200, train_loss: 1.24150, acc: 0.50146\n"
          ]
        },
        {
          "name": "stderr",
          "output_type": "stream",
          "text": [
            "INFO:root:[0] Ed: 134400, train_loss: 1.24145, acc: 0.50158\n"
          ]
        },
        {
          "name": "stdout",
          "output_type": "stream",
          "text": [
            "[INFO 2025-03-02 21:17:42,511] [0] Ed: 134400, train_loss: 1.24145, acc: 0.50158\n"
          ]
        },
        {
          "name": "stderr",
          "output_type": "stream",
          "text": [
            "INFO:root:[0] Ed: 137600, train_loss: 1.24153, acc: 0.50149\n"
          ]
        },
        {
          "name": "stdout",
          "output_type": "stream",
          "text": [
            "[INFO 2025-03-02 21:18:08,504] [0] Ed: 137600, train_loss: 1.24153, acc: 0.50149\n"
          ]
        },
        {
          "name": "stderr",
          "output_type": "stream",
          "text": [
            "INFO:root:[0] Ed: 140800, train_loss: 1.24098, acc: 0.50197\n"
          ]
        },
        {
          "name": "stdout",
          "output_type": "stream",
          "text": [
            "[INFO 2025-03-02 21:18:34,751] [0] Ed: 140800, train_loss: 1.24098, acc: 0.50197\n"
          ]
        },
        {
          "name": "stderr",
          "output_type": "stream",
          "text": [
            "INFO:root:[0] Ed: 144000, train_loss: 1.24073, acc: 0.50174\n"
          ]
        },
        {
          "name": "stdout",
          "output_type": "stream",
          "text": [
            "[INFO 2025-03-02 21:19:00,737] [0] Ed: 144000, train_loss: 1.24073, acc: 0.50174\n"
          ]
        },
        {
          "name": "stderr",
          "output_type": "stream",
          "text": [
            "INFO:root:[0] Ed: 147200, train_loss: 1.24035, acc: 0.50198\n"
          ]
        },
        {
          "name": "stdout",
          "output_type": "stream",
          "text": [
            "[INFO 2025-03-02 21:19:26,644] [0] Ed: 147200, train_loss: 1.24035, acc: 0.50198\n"
          ]
        },
        {
          "name": "stderr",
          "output_type": "stream",
          "text": [
            "INFO:root:[0] Ed: 150400, train_loss: 1.23949, acc: 0.50220\n"
          ]
        },
        {
          "name": "stdout",
          "output_type": "stream",
          "text": [
            "[INFO 2025-03-02 21:19:52,624] [0] Ed: 150400, train_loss: 1.23949, acc: 0.50220\n"
          ]
        },
        {
          "name": "stderr",
          "output_type": "stream",
          "text": [
            "INFO:root:[0] Ed: 153600, train_loss: 1.23895, acc: 0.50228\n"
          ]
        },
        {
          "name": "stdout",
          "output_type": "stream",
          "text": [
            "[INFO 2025-03-02 21:20:18,629] [0] Ed: 153600, train_loss: 1.23895, acc: 0.50228\n"
          ]
        },
        {
          "name": "stderr",
          "output_type": "stream",
          "text": [
            "INFO:root:[0] Ed: 156800, train_loss: 1.23850, acc: 0.50239\n"
          ]
        },
        {
          "name": "stdout",
          "output_type": "stream",
          "text": [
            "[INFO 2025-03-02 21:20:44,532] [0] Ed: 156800, train_loss: 1.23850, acc: 0.50239\n"
          ]
        },
        {
          "name": "stderr",
          "output_type": "stream",
          "text": [
            "INFO:root:[0] Ed: 160000, train_loss: 1.23839, acc: 0.50266\n"
          ]
        },
        {
          "name": "stdout",
          "output_type": "stream",
          "text": [
            "[INFO 2025-03-02 21:21:10,521] [0] Ed: 160000, train_loss: 1.23839, acc: 0.50266\n"
          ]
        },
        {
          "name": "stderr",
          "output_type": "stream",
          "text": [
            "INFO:root:[0] Ed: 163200, train_loss: 1.23808, acc: 0.50275\n"
          ]
        },
        {
          "name": "stdout",
          "output_type": "stream",
          "text": [
            "[INFO 2025-03-02 21:21:36,505] [0] Ed: 163200, train_loss: 1.23808, acc: 0.50275\n"
          ]
        },
        {
          "name": "stderr",
          "output_type": "stream",
          "text": [
            "INFO:root:[0] Ed: 166400, train_loss: 1.23815, acc: 0.50257\n"
          ]
        },
        {
          "name": "stdout",
          "output_type": "stream",
          "text": [
            "[INFO 2025-03-02 21:22:02,436] [0] Ed: 166400, train_loss: 1.23815, acc: 0.50257\n"
          ]
        },
        {
          "name": "stderr",
          "output_type": "stream",
          "text": [
            "INFO:root:[0] Ed: 169600, train_loss: 1.23835, acc: 0.50249\n"
          ]
        },
        {
          "name": "stdout",
          "output_type": "stream",
          "text": [
            "[INFO 2025-03-02 21:22:28,445] [0] Ed: 169600, train_loss: 1.23835, acc: 0.50249\n"
          ]
        },
        {
          "name": "stderr",
          "output_type": "stream",
          "text": [
            "INFO:root:[0] Ed: 172800, train_loss: 1.23797, acc: 0.50286\n"
          ]
        },
        {
          "name": "stdout",
          "output_type": "stream",
          "text": [
            "[INFO 2025-03-02 21:22:54,481] [0] Ed: 172800, train_loss: 1.23797, acc: 0.50286\n"
          ]
        },
        {
          "name": "stderr",
          "output_type": "stream",
          "text": [
            "INFO:root:[0] Ed: 176000, train_loss: 1.23781, acc: 0.50302\n"
          ]
        },
        {
          "name": "stdout",
          "output_type": "stream",
          "text": [
            "[INFO 2025-03-02 21:23:20,426] [0] Ed: 176000, train_loss: 1.23781, acc: 0.50302\n"
          ]
        },
        {
          "name": "stderr",
          "output_type": "stream",
          "text": [
            "INFO:root:[0] Ed: 179200, train_loss: 1.23771, acc: 0.50307\n"
          ]
        },
        {
          "name": "stdout",
          "output_type": "stream",
          "text": [
            "[INFO 2025-03-02 21:23:46,436] [0] Ed: 179200, train_loss: 1.23771, acc: 0.50307\n"
          ]
        },
        {
          "name": "stderr",
          "output_type": "stream",
          "text": [
            "INFO:root:[0] Ed: 182400, train_loss: 1.23767, acc: 0.50322\n"
          ]
        },
        {
          "name": "stdout",
          "output_type": "stream",
          "text": [
            "[INFO 2025-03-02 21:24:12,427] [0] Ed: 182400, train_loss: 1.23767, acc: 0.50322\n"
          ]
        },
        {
          "name": "stderr",
          "output_type": "stream",
          "text": [
            "INFO:root:[0] Ed: 185600, train_loss: 1.23734, acc: 0.50337\n"
          ]
        },
        {
          "name": "stdout",
          "output_type": "stream",
          "text": [
            "[INFO 2025-03-02 21:24:38,367] [0] Ed: 185600, train_loss: 1.23734, acc: 0.50337\n"
          ]
        },
        {
          "name": "stderr",
          "output_type": "stream",
          "text": [
            "INFO:root:[0] Ed: 188800, train_loss: 1.23710, acc: 0.50355\n"
          ]
        },
        {
          "name": "stdout",
          "output_type": "stream",
          "text": [
            "[INFO 2025-03-02 21:25:04,345] [0] Ed: 188800, train_loss: 1.23710, acc: 0.50355\n"
          ]
        },
        {
          "name": "stderr",
          "output_type": "stream",
          "text": [
            "INFO:root:[0] Ed: 192000, train_loss: 1.23714, acc: 0.50354\n"
          ]
        },
        {
          "name": "stdout",
          "output_type": "stream",
          "text": [
            "[INFO 2025-03-02 21:25:30,346] [0] Ed: 192000, train_loss: 1.23714, acc: 0.50354\n"
          ]
        },
        {
          "name": "stderr",
          "output_type": "stream",
          "text": [
            "INFO:root:[0] Ed: 195200, train_loss: 1.23708, acc: 0.50362\n"
          ]
        },
        {
          "name": "stdout",
          "output_type": "stream",
          "text": [
            "[INFO 2025-03-02 21:25:56,356] [0] Ed: 195200, train_loss: 1.23708, acc: 0.50362\n"
          ]
        },
        {
          "name": "stderr",
          "output_type": "stream",
          "text": [
            "INFO:root:[0] Ed: 198400, train_loss: 1.23719, acc: 0.50357\n"
          ]
        },
        {
          "name": "stdout",
          "output_type": "stream",
          "text": [
            "[INFO 2025-03-02 21:26:22,366] [0] Ed: 198400, train_loss: 1.23719, acc: 0.50357\n"
          ]
        },
        {
          "name": "stderr",
          "output_type": "stream",
          "text": [
            "INFO:root:[0] Ed: 201600, train_loss: 1.23705, acc: 0.50364\n"
          ]
        },
        {
          "name": "stdout",
          "output_type": "stream",
          "text": [
            "[INFO 2025-03-02 21:26:48,271] [0] Ed: 201600, train_loss: 1.23705, acc: 0.50364\n"
          ]
        },
        {
          "name": "stderr",
          "output_type": "stream",
          "text": [
            "INFO:root:[0] Ed: 204800, train_loss: 1.23725, acc: 0.50346\n"
          ]
        },
        {
          "name": "stdout",
          "output_type": "stream",
          "text": [
            "[INFO 2025-03-02 21:27:14,230] [0] Ed: 204800, train_loss: 1.23725, acc: 0.50346\n"
          ]
        },
        {
          "name": "stderr",
          "output_type": "stream",
          "text": [
            "INFO:root:[0] Ed: 208000, train_loss: 1.23744, acc: 0.50341\n"
          ]
        },
        {
          "name": "stdout",
          "output_type": "stream",
          "text": [
            "[INFO 2025-03-02 21:27:40,215] [0] Ed: 208000, train_loss: 1.23744, acc: 0.50341\n"
          ]
        },
        {
          "name": "stderr",
          "output_type": "stream",
          "text": [
            "INFO:root:[0] Ed: 211200, train_loss: 1.23747, acc: 0.50340\n"
          ]
        },
        {
          "name": "stdout",
          "output_type": "stream",
          "text": [
            "[INFO 2025-03-02 21:28:06,158] [0] Ed: 211200, train_loss: 1.23747, acc: 0.50340\n"
          ]
        },
        {
          "name": "stderr",
          "output_type": "stream",
          "text": [
            "INFO:root:[0] Ed: 214400, train_loss: 1.23742, acc: 0.50345\n"
          ]
        },
        {
          "name": "stdout",
          "output_type": "stream",
          "text": [
            "[INFO 2025-03-02 21:28:32,356] [0] Ed: 214400, train_loss: 1.23742, acc: 0.50345\n"
          ]
        },
        {
          "name": "stderr",
          "output_type": "stream",
          "text": [
            "INFO:root:[0] Ed: 217600, train_loss: 1.23728, acc: 0.50339\n"
          ]
        },
        {
          "name": "stdout",
          "output_type": "stream",
          "text": [
            "[INFO 2025-03-02 21:28:58,314] [0] Ed: 217600, train_loss: 1.23728, acc: 0.50339\n"
          ]
        },
        {
          "name": "stderr",
          "output_type": "stream",
          "text": [
            "INFO:root:[0] Ed: 220800, train_loss: 1.23705, acc: 0.50347\n"
          ]
        },
        {
          "name": "stdout",
          "output_type": "stream",
          "text": [
            "[INFO 2025-03-02 21:29:24,236] [0] Ed: 220800, train_loss: 1.23705, acc: 0.50347\n"
          ]
        },
        {
          "name": "stderr",
          "output_type": "stream",
          "text": [
            "INFO:root:[0] Ed: 224000, train_loss: 1.23672, acc: 0.50364\n"
          ]
        },
        {
          "name": "stdout",
          "output_type": "stream",
          "text": [
            "[INFO 2025-03-02 21:29:50,212] [0] Ed: 224000, train_loss: 1.23672, acc: 0.50364\n"
          ]
        },
        {
          "name": "stderr",
          "output_type": "stream",
          "text": [
            "INFO:root:[0] Ed: 227200, train_loss: 1.23642, acc: 0.50377\n"
          ]
        },
        {
          "name": "stdout",
          "output_type": "stream",
          "text": [
            "[INFO 2025-03-02 21:30:16,154] [0] Ed: 227200, train_loss: 1.23642, acc: 0.50377\n"
          ]
        },
        {
          "name": "stderr",
          "output_type": "stream",
          "text": [
            "INFO:root:[0] Ed: 230400, train_loss: 1.23617, acc: 0.50382\n"
          ]
        },
        {
          "name": "stdout",
          "output_type": "stream",
          "text": [
            "[INFO 2025-03-02 21:30:42,137] [0] Ed: 230400, train_loss: 1.23617, acc: 0.50382\n"
          ]
        },
        {
          "name": "stderr",
          "output_type": "stream",
          "text": [
            "INFO:root:[0] Ed: 233600, train_loss: 1.23579, acc: 0.50413\n"
          ]
        },
        {
          "name": "stdout",
          "output_type": "stream",
          "text": [
            "[INFO 2025-03-02 21:31:08,156] [0] Ed: 233600, train_loss: 1.23579, acc: 0.50413\n"
          ]
        },
        {
          "name": "stderr",
          "output_type": "stream",
          "text": [
            "INFO:root:Training finish.\n"
          ]
        },
        {
          "name": "stdout",
          "output_type": "stream",
          "text": [
            "[INFO 2025-03-02 21:31:30,161] Training finish.\n"
          ]
        },
        {
          "name": "stderr",
          "output_type": "stream",
          "text": [
            "INFO:root:Model saved to /content/model/epoch-5.pt.\n"
          ]
        },
        {
          "name": "stdout",
          "output_type": "stream",
          "text": [
            "[INFO 2025-03-02 21:31:30,207] Model saved to /content/model/epoch-5.pt.\n"
          ]
        }
      ],
      "source": [
        "import torch.optim as optim\n",
        "\n",
        "model = NRMS(args, embedding_matrix)\n",
        "is_distributed = False\n",
        "if args.load_ckpt_name is not None:\n",
        "\tckpt_path = get_checkpoint(args.model_dir, args.load_ckpt_name)\n",
        "\tcheckpoint = torch.load(ckpt_path, map_location='cpu')\n",
        "\tmodel.load_state_dict(checkpoint['model_state_dict'])\n",
        "\tlogging.info(f\"Model loaded from {ckpt_path}.\")\n",
        "\n",
        "optimizer = optim.Adam(model.parameters(), lr=args.lr)\n",
        "\n",
        "if args.enable_gpu:\n",
        "\tmodel = model.cuda(rank)\n",
        "\n",
        "if is_distributed:\n",
        "\tmodel = torch.nn.parallel.DistributedDataParallel(model, device_ids=[rank])\n",
        "\n",
        "data_file_path = os.path.join(args.train_data_dir, f'behaviors_np{args.npratio}_{rank}.tsv')\n",
        "\n",
        "dataset = DatasetTrain(data_file_path, news_index, news_combined, args)\n",
        "dataloader = DataLoader(dataset, batch_size=args.batch_size)\n",
        "\n",
        "logging.info('Training...')\n",
        "for ep in range(args.start_epoch, args.epochs):\n",
        "\tloss = 0.0\n",
        "\taccuary = 0.0\n",
        "\tfor cnt, (log_ids, input_ids, targets) in enumerate(dataloader):\n",
        "\t\tif args.enable_gpu:\n",
        "\t\t\tlog_ids = log_ids.cuda(rank, non_blocking=True)\n",
        "\t\t\t# log_mask = log_mask.cuda(rank, non_blocking=True)\n",
        "\t\t\tinput_ids = input_ids.cuda(rank, non_blocking=True)\n",
        "\t\t\ttargets = targets.cuda(rank, non_blocking=True)\n",
        "\n",
        "\n",
        "\t\tbz_loss, y_hat = model(log_ids, input_ids, targets)\n",
        "\t\tloss += bz_loss.data.float()\n",
        "\t\taccuary += acc(targets, y_hat)\n",
        "\t\toptimizer.zero_grad()\n",
        "\t\tbz_loss.backward()\n",
        "\t\toptimizer.step()\n",
        "\n",
        "\t\tif cnt % args.log_steps == 0:\n",
        "\t\t\tlogging.info(\n",
        "\t\t\t\t'[{}] Ed: {}, train_loss: {:.5f}, acc: {:.5f}'.format(\n",
        "\t\t\t\t\trank, cnt * args.batch_size, loss.data / cnt, accuary / cnt)\n",
        "\t\t\t)\n",
        "\n",
        "\t\tif rank == 0 and cnt != 0 and cnt % args.save_steps == 0:\n",
        "\t\t\tckpt_path = os.path.join(args.model_dir, f'epoch-{ep+1}-{cnt}.pt')\n",
        "\t\t\ttorch.save(\n",
        "\t\t\t\t{\n",
        "\t\t\t\t\t'model_state_dict':\n",
        "\t\t\t\t\t\t{'.'.join(k.split('.')[1:]): v for k, v in model.state_dict().items()}\n",
        "\t\t\t\t\t\tif is_distributed else model.state_dict(),\n",
        "\t\t\t\t\t'category_dict': category_dict,\n",
        "\t\t\t\t\t'word_dict': word_dict,\n",
        "\t\t\t\t\t'subcategory_dict': subcategory_dict\n",
        "\t\t\t\t}, ckpt_path)\n",
        "\t\t\tlogging.info(f\"Model saved to {ckpt_path}.\")\n",
        "\n",
        "\tlogging.info('Training finish.')\n",
        "\n",
        "\tif rank == 0:\n",
        "\t\tckpt_path = os.path.join(args.model_dir, f'epoch-{ep+1}.pt')\n",
        "\t\ttorch.save(\n",
        "\t\t\t{\n",
        "\t\t\t\t'model_state_dict':\n",
        "\t\t\t\t\t{'.'.join(k.split('.')[1:]): v for k, v in model.state_dict().items()}\n",
        "\t\t\t\t\tif is_distributed else model.state_dict(),\n",
        "\t\t\t\t'category_dict': category_dict,\n",
        "\t\t\t\t'subcategory_dict': subcategory_dict,\n",
        "\t\t\t\t'word_dict': word_dict,\n",
        "\t\t\t}, ckpt_path)\n",
        "\t\tlogging.info(f\"Model saved to {ckpt_path}.\")\n",
        "\n"
      ]
    },
    {
      "cell_type": "code",
      "execution_count": null,
      "metadata": {
        "colab": {
          "base_uri": "https://localhost:8080/",
          "height": 17
        },
        "id": "ePSOz5lRMqIa",
        "outputId": "053f65c0-d48b-41aa-d754-da17cd4577c6"
      },
      "outputs": [
        {
          "data": {
            "application/javascript": "\n    async function download(id, filename, size) {\n      if (!google.colab.kernel.accessAllowed) {\n        return;\n      }\n      const div = document.createElement('div');\n      const label = document.createElement('label');\n      label.textContent = `Downloading \"${filename}\": `;\n      div.appendChild(label);\n      const progress = document.createElement('progress');\n      progress.max = size;\n      div.appendChild(progress);\n      document.body.appendChild(div);\n\n      const buffers = [];\n      let downloaded = 0;\n\n      const channel = await google.colab.kernel.comms.open(id);\n      // Send a message to notify the kernel that we're ready.\n      channel.send({})\n\n      for await (const message of channel.messages) {\n        // Send a message to notify the kernel that we're ready.\n        channel.send({})\n        if (message.buffers) {\n          for (const buffer of message.buffers) {\n            buffers.push(buffer);\n            downloaded += buffer.byteLength;\n            progress.value = downloaded;\n          }\n        }\n      }\n      const blob = new Blob(buffers, {type: 'application/binary'});\n      const a = document.createElement('a');\n      a.href = window.URL.createObjectURL(blob);\n      a.download = filename;\n      div.appendChild(a);\n      a.click();\n      div.remove();\n    }\n  ",
            "text/plain": [
              "<IPython.core.display.Javascript object>"
            ]
          },
          "metadata": {},
          "output_type": "display_data"
        },
        {
          "data": {
            "application/javascript": "download(\"download_cba7c0fa-4bf0-49db-9bab-62ec1bf7a977\", \"epoch-5.pt\", 17934618)",
            "text/plain": [
              "<IPython.core.display.Javascript object>"
            ]
          },
          "metadata": {},
          "output_type": "display_data"
        }
      ],
      "source": [
        "import google.colab\n",
        "from google.colab import files\n",
        "files.download('/content/model/epoch-5.pt')"
      ]
    },
    {
      "cell_type": "code",
      "execution_count": null,
      "metadata": {
        "id": "8zaIGq-0Wv9C"
      },
      "outputs": [],
      "source": [
        "def test(rank, args):\n",
        "    is_distributed = False\n",
        "\n",
        "    torch.cuda.set_device(rank)\n",
        "\n",
        "    if args.load_ckpt_name is not None:\n",
        "        ckpt_path = get_checkpoint(args.model_dir, args.load_ckpt_name)\n",
        "\n",
        "    assert ckpt_path is not None, 'No checkpoint found.'\n",
        "    checkpoint = torch.load(ckpt_path, map_location='cpu')\n",
        "\n",
        "    subcategory_dict = checkpoint['subcategory_dict']\n",
        "    category_dict = checkpoint['category_dict']\n",
        "    word_dict = checkpoint['word_dict']\n",
        "\n",
        "    dummy_embedding_matrix = np.zeros((len(word_dict) + 1, args.word_embedding_dim))\n",
        "    model = NRMS(args, dummy_embedding_matrix)\n",
        "    model.load_state_dict(checkpoint['model_state_dict'])\n",
        "    logging.info(f\"Model loaded from {ckpt_path}\")\n",
        "\n",
        "    if args.enable_gpu:\n",
        "        model.cuda(rank)\n",
        "\n",
        "    model.eval()\n",
        "    torch.set_grad_enabled(False)\n",
        "\n",
        "    news, news_index, category_dict, subcategory_dict, word_dict = read_news(\n",
        "        os.path.join(args.train_data_dir, 'news.tsv'), args.test_abstract_dir, args, mode='train')\n",
        "    news_title, news_category, news_subcategory, news_abstract = get_doc_input(\n",
        "        news, news_index, category_dict, subcategory_dict, word_dict, args)\n",
        "    news_combined = np.concatenate([x for x in [news_title, news_category, news_subcategory, news_abstract] if x is not None], axis=-1)\n",
        "\n",
        "    news_dataset = NewsDataset(news_combined)\n",
        "    news_dataloader = DataLoader(news_dataset,\n",
        "                                 batch_size=args.batch_size,\n",
        "                                 num_workers=4)\n",
        "\n",
        "    news_scoring = []\n",
        "    with torch.no_grad():\n",
        "        for input_ids in tqdm(news_dataloader):\n",
        "            input_ids = input_ids.cuda(rank)\n",
        "            news_vec = model.news_encoder(input_ids)\n",
        "            news_vec = news_vec.to(torch.device(\"cpu\")).detach().numpy()\n",
        "            news_scoring.extend(news_vec)\n",
        "\n",
        "    news_scoring = np.array(news_scoring)\n",
        "    logging.info(\"news scoring num: {}\".format(news_scoring.shape[0]))\n",
        "\n",
        "    if rank == 0:\n",
        "        doc_sim = 0\n",
        "        for _ in tqdm(range(1000000)):\n",
        "            i = random.randrange(1, len(news_scoring))\n",
        "            j = random.randrange(1, len(news_scoring))\n",
        "            if i != j:\n",
        "                doc_sim += np.dot(news_scoring[i], news_scoring[j]) / (np.linalg.norm(news_scoring[i]) * np.linalg.norm(news_scoring[j]))\n",
        "        logging.info(f'News doc-sim: {doc_sim / 1000000}')\n",
        "\n",
        "    data_file_path = os.path.join(args.test_data_dir, f'behaviors_{rank}.tsv')\n",
        "\n",
        "    def collate_fn(tuple_list):\n",
        "        log_vecs = torch.FloatTensor([x[0] for x in tuple_list])\n",
        "        # log_mask = torch.FloatTensor([x[1] for x in tuple_list])\n",
        "        news_vecs = [x[2] for x in tuple_list]\n",
        "        labels = [x[3] for x in tuple_list]\n",
        "        return (log_vecs, news_vecs, labels)\n",
        "\n",
        "    dataset = DatasetTest(data_file_path, news_index, news_scoring, args)\n",
        "    dataloader = DataLoader(dataset, batch_size=args.batch_size, collate_fn=collate_fn)\n",
        "\n",
        "    AUC = []\n",
        "    MRR = []\n",
        "    nDCG5 = []\n",
        "    nDCG10 = []\n",
        "\n",
        "    def print_metrics(rank, cnt, x):\n",
        "        logging.info(\"[{}] {} samples: {}\".format(rank, cnt, '\\t'.join([\"{:0.2f}\".format(i * 100) for i in x])))\n",
        "\n",
        "    def get_mean(arr):\n",
        "        return [np.array(i).mean() for i in arr]\n",
        "\n",
        "    def get_sum(arr):\n",
        "        return [np.array(i).sum() for i in arr]\n",
        "\n",
        "    local_sample_num = 0\n",
        "\n",
        "    for cnt, (log_vecs, news_vecs, labels) in enumerate(dataloader):\n",
        "        local_sample_num += log_vecs.shape[0]\n",
        "\n",
        "        if args.enable_gpu:\n",
        "            log_vecs = log_vecs.cuda(rank, non_blocking=True)\n",
        "\n",
        "        user_vecs = model.user_encoder(log_vecs).to(torch.device(\"cpu\")).detach().numpy()\n",
        "\n",
        "        for user_vec, news_vec, label in zip(user_vecs, news_vecs, labels):\n",
        "            if label.mean() == 0 or label.mean() == 1:\n",
        "                continue\n",
        "\n",
        "            score = np.dot(news_vec, user_vec)\n",
        "\n",
        "            auc = roc_auc_score(label, score)\n",
        "            mrr = mrr_score(label, score)\n",
        "            ndcg5 = ndcg_score(label, score, k=5)\n",
        "            ndcg10 = ndcg_score(label, score, k=10)\n",
        "\n",
        "            AUC.append(auc)\n",
        "            MRR.append(mrr)\n",
        "            nDCG5.append(ndcg5)\n",
        "            nDCG10.append(ndcg10)\n",
        "\n",
        "        if cnt % args.log_steps == 0:\n",
        "            print_metrics(rank, local_sample_num, get_mean([AUC, MRR, nDCG5, nDCG10]))\n",
        "\n",
        "    logging.info('[{}] local_sample_num: {}'.format(rank, local_sample_num))\n",
        "    if is_distributed:\n",
        "        local_sample_num = torch.tensor(local_sample_num).cuda(rank)\n",
        "        dist.reduce(local_sample_num, dst=0, op=dist.ReduceOp.SUM)\n",
        "        local_metrics_sum = torch.FloatTensor(get_sum([AUC, MRR, nDCG5, nDCG10])).cuda(rank)\n",
        "        dist.reduce(local_metrics_sum, dst=0, op=dist.ReduceOp.SUM)\n",
        "        if rank == 0:\n",
        "            print_metrics('*', local_sample_num, local_metrics_sum / local_sample_num)\n",
        "    else:\n",
        "        print_metrics('*', local_sample_num, get_mean([AUC, MRR, nDCG5, nDCG10]))\n"
      ]
    },
    {
      "cell_type": "markdown",
      "metadata": {
        "id": "P-sZ8O5OWvrp"
      },
      "source": []
    },
    {
      "cell_type": "code",
      "execution_count": null,
      "metadata": {
        "colab": {
          "base_uri": "https://localhost:8080/"
        },
        "id": "um0H4NwW69yY",
        "outputId": "20c2b49c-2c05-403a-a4a1-e6c86db3a8d9"
      },
      "outputs": [
        {
          "name": "stderr",
          "output_type": "stream",
          "text": [
            "INFO:root:Preparing testing data...\n"
          ]
        },
        {
          "name": "stdout",
          "output_type": "stream",
          "text": [
            "[INFO 2025-02-18 14:25:36,690] Preparing testing data...\n",
            "[INFO 2025-02-18 14:25:36,690] Preparing testing data...\n"
          ]
        },
        {
          "name": "stderr",
          "output_type": "stream",
          "text": [
            "73152it [00:00, 1011058.00it/s]\n",
            "INFO:root:Writing files...\n"
          ]
        },
        {
          "name": "stdout",
          "output_type": "stream",
          "text": [
            "[INFO 2025-02-18 14:25:36,777] Writing files...\n",
            "[INFO 2025-02-18 14:25:36,777] Writing files...\n"
          ]
        },
        {
          "name": "stderr",
          "output_type": "stream",
          "text": [
            "INFO:root:73152 testing samples in total.\n"
          ]
        },
        {
          "name": "stdout",
          "output_type": "stream",
          "text": [
            "[INFO 2025-02-18 14:25:36,971] 73152 testing samples in total.\n",
            "[INFO 2025-02-18 14:25:36,971] 73152 testing samples in total.\n"
          ]
        }
      ],
      "source": [
        "args.mode = 'test'\n",
        "args.user_log_mask=True\n",
        "args.batch_size=128\n",
        "args.load_ckpt_name= 'epoch-5.pt'\n",
        "args.prepare=True\n",
        "if 'test' in args.mode:\n",
        "        if args.prepare:\n",
        "            logging.info('Preparing testing data...')\n",
        "            total_sample_num = prepare_testing_data(args.test_data_dir, args.nGPU)\n",
        "        else:\n",
        "            total_sample_num = 0\n",
        "            for i in range(args.nGPU):\n",
        "                data_file_path = os.path.join(args.test_data_dir, f'behaviors_{i}.tsv')\n",
        "                if not os.path.exists(data_file_path):\n",
        "                    logging.error(f'Splited testing data {data_file_path} for GPU {i} does not exist. Please set the parameter --prepare as True and rerun the code.')\n",
        "                    exit()\n",
        "                result = subprocess.getoutput(f'wc -l {data_file_path}')\n",
        "                total_sample_num += int(result.split(' ')[0])\n",
        "            logging.info('Skip testing data preparation.')\n",
        "        logging.info(f'{total_sample_num} testing samples in total.')\n",
        "\n"
      ]
    },
    {
      "cell_type": "markdown",
      "metadata": {
        "id": "soI3jlXBCfD9"
      },
      "source": [
        "# Test\n"
      ]
    },
    {
      "cell_type": "code",
      "execution_count": null,
      "metadata": {
        "colab": {
          "base_uri": "https://localhost:8080/"
        },
        "id": "abHIlnIvCgsI",
        "outputId": "253564d2-6fa9-4ac8-9587-650b8037278a"
      },
      "outputs": [
        {
          "name": "stderr",
          "output_type": "stream",
          "text": [
            "<ipython-input-40-192e98d5a547>:10: FutureWarning: You are using `torch.load` with `weights_only=False` (the current default value), which uses the default pickle module implicitly. It is possible to construct malicious pickle data which will execute arbitrary code during unpickling (See https://github.com/pytorch/pytorch/blob/main/SECURITY.md#untrusted-models for more details). In a future release, the default value for `weights_only` will be flipped to `True`. This limits the functions that could be executed during unpickling. Arbitrary objects will no longer be allowed to be loaded via this mode unless they are explicitly allowlisted by the user via `torch.serialization.add_safe_globals`. We recommend you start setting `weights_only=True` for any use case where you don't have full control of the loaded file. Please open an issue on GitHub for any issues related to this experimental feature.\n",
            "  checkpoint = torch.load(ckpt_path, map_location='cpu')\n",
            "INFO:root:Model loaded from /content/model/epoch-5.pt\n"
          ]
        },
        {
          "name": "stdout",
          "output_type": "stream",
          "text": [
            "[INFO 2025-02-18 14:34:16,715] Model loaded from /content/model/epoch-5.pt\n",
            "[INFO 2025-02-18 14:34:16,715] Model loaded from /content/model/epoch-5.pt\n"
          ]
        },
        {
          "name": "stderr",
          "output_type": "stream",
          "text": [
            "51282it [00:04, 12674.23it/s]\n",
            "100%|██████████| 51282/51282 [00:00<00:00, 172832.50it/s]\n",
            "100%|██████████| 401/401 [00:02<00:00, 192.52it/s]\n",
            "INFO:root:news scoring num: 51283\n"
          ]
        },
        {
          "name": "stdout",
          "output_type": "stream",
          "text": [
            "[INFO 2025-02-18 14:34:24,059] news scoring num: 51283\n",
            "[INFO 2025-02-18 14:34:24,059] news scoring num: 51283\n"
          ]
        },
        {
          "name": "stderr",
          "output_type": "stream",
          "text": [
            "100%|██████████| 1000000/1000000 [00:10<00:00, 98701.88it/s]\n",
            "INFO:root:News doc-sim: 0.09012434340446164\n"
          ]
        },
        {
          "name": "stdout",
          "output_type": "stream",
          "text": [
            "[INFO 2025-02-18 14:34:34,199] News doc-sim: 0.09012434340446164\n",
            "[INFO 2025-02-18 14:34:34,199] News doc-sim: 0.09012434340446164\n"
          ]
        },
        {
          "name": "stderr",
          "output_type": "stream",
          "text": [
            "INFO:root:[0] 128 samples: 64.78\t30.16\t33.72\t39.86\n"
          ]
        },
        {
          "name": "stdout",
          "output_type": "stream",
          "text": [
            "[INFO 2025-02-18 14:34:34,786] [0] 128 samples: 64.78\t30.16\t33.72\t39.86\n",
            "[INFO 2025-02-18 14:34:34,786] [0] 128 samples: 64.78\t30.16\t33.72\t39.86\n"
          ]
        },
        {
          "name": "stderr",
          "output_type": "stream",
          "text": [
            "INFO:root:[0] 12928 samples: 64.21\t30.83\t33.66\t39.80\n"
          ]
        },
        {
          "name": "stdout",
          "output_type": "stream",
          "text": [
            "[INFO 2025-02-18 14:35:37,252] [0] 12928 samples: 64.21\t30.83\t33.66\t39.80\n",
            "[INFO 2025-02-18 14:35:37,252] [0] 12928 samples: 64.21\t30.83\t33.66\t39.80\n"
          ]
        },
        {
          "name": "stderr",
          "output_type": "stream",
          "text": [
            "INFO:root:[0] 25728 samples: 64.33\t31.06\t33.89\t39.92\n"
          ]
        },
        {
          "name": "stdout",
          "output_type": "stream",
          "text": [
            "[INFO 2025-02-18 14:36:39,724] [0] 25728 samples: 64.33\t31.06\t33.89\t39.92\n",
            "[INFO 2025-02-18 14:36:39,724] [0] 25728 samples: 64.33\t31.06\t33.89\t39.92\n"
          ]
        },
        {
          "name": "stderr",
          "output_type": "stream",
          "text": [
            "INFO:root:[0] 38528 samples: 64.31\t30.89\t33.74\t39.79\n"
          ]
        },
        {
          "name": "stdout",
          "output_type": "stream",
          "text": [
            "[INFO 2025-02-18 14:37:42,161] [0] 38528 samples: 64.31\t30.89\t33.74\t39.79\n",
            "[INFO 2025-02-18 14:37:42,161] [0] 38528 samples: 64.31\t30.89\t33.74\t39.79\n"
          ]
        },
        {
          "name": "stderr",
          "output_type": "stream",
          "text": [
            "INFO:root:[0] 51328 samples: 64.23\t30.69\t33.50\t39.60\n"
          ]
        },
        {
          "name": "stdout",
          "output_type": "stream",
          "text": [
            "[INFO 2025-02-18 14:38:44,514] [0] 51328 samples: 64.23\t30.69\t33.50\t39.60\n",
            "[INFO 2025-02-18 14:38:44,514] [0] 51328 samples: 64.23\t30.69\t33.50\t39.60\n"
          ]
        },
        {
          "name": "stderr",
          "output_type": "stream",
          "text": [
            "INFO:root:[0] 64128 samples: 64.22\t30.71\t33.52\t39.62\n"
          ]
        },
        {
          "name": "stdout",
          "output_type": "stream",
          "text": [
            "[INFO 2025-02-18 14:39:46,838] [0] 64128 samples: 64.22\t30.71\t33.52\t39.62\n",
            "[INFO 2025-02-18 14:39:46,838] [0] 64128 samples: 64.22\t30.71\t33.52\t39.62\n"
          ]
        },
        {
          "name": "stderr",
          "output_type": "stream",
          "text": [
            "INFO:root:[0] local_sample_num: 73152\n"
          ]
        },
        {
          "name": "stdout",
          "output_type": "stream",
          "text": [
            "[INFO 2025-02-18 14:40:31,017] [0] local_sample_num: 73152\n",
            "[INFO 2025-02-18 14:40:31,017] [0] local_sample_num: 73152\n"
          ]
        },
        {
          "name": "stderr",
          "output_type": "stream",
          "text": [
            "INFO:root:[*] 73152 samples: 64.22\t30.76\t33.60\t39.67\n"
          ]
        },
        {
          "name": "stdout",
          "output_type": "stream",
          "text": [
            "[INFO 2025-02-18 14:40:31,050] [*] 73152 samples: 64.22\t30.76\t33.60\t39.67\n",
            "[INFO 2025-02-18 14:40:31,050] [*] 73152 samples: 64.22\t30.76\t33.60\t39.67\n"
          ]
        }
      ],
      "source": [
        "test(0, args)"
      ]
    },
    {
      "cell_type": "code",
      "execution_count": null,
      "metadata": {
        "id": "vU3UxmipCje4"
      },
      "outputs": [],
      "source": []
    },
    {
      "cell_type": "markdown",
      "metadata": {
        "id": "LmNFZ_lfY_EU"
      },
      "source": [
        "# OG Version only title\n"
      ]
    },
    {
      "cell_type": "code",
      "execution_count": null,
      "metadata": {
        "colab": {
          "base_uri": "https://localhost:8080/"
        },
        "id": "1FHWoGGRZBke",
        "outputId": "df796849-c128-45ec-debd-869349827e21"
      },
      "outputs": [
        {
          "name": "stderr",
          "output_type": "stream",
          "text": [
            "INFO:root:Training...\n"
          ]
        },
        {
          "name": "stdout",
          "output_type": "stream",
          "text": [
            "[INFO 2025-02-19 16:07:13,177] Training...\n",
            "[INFO 2025-02-19 16:07:13,177] Training...\n"
          ]
        },
        {
          "name": "stderr",
          "output_type": "stream",
          "text": [
            "INFO:root:[0] Ed: 0, train_loss: inf, acc: inf\n"
          ]
        },
        {
          "name": "stdout",
          "output_type": "stream",
          "text": [
            "[INFO 2025-02-19 16:07:13,353] [0] Ed: 0, train_loss: inf, acc: inf\n",
            "[INFO 2025-02-19 16:07:13,353] [0] Ed: 0, train_loss: inf, acc: inf\n"
          ]
        },
        {
          "name": "stderr",
          "output_type": "stream",
          "text": [
            "INFO:root:[0] Ed: 3200, train_loss: 1.59732, acc: 0.28375\n"
          ]
        },
        {
          "name": "stdout",
          "output_type": "stream",
          "text": [
            "[INFO 2025-02-19 16:07:29,700] [0] Ed: 3200, train_loss: 1.59732, acc: 0.28375\n",
            "[INFO 2025-02-19 16:07:29,700] [0] Ed: 3200, train_loss: 1.59732, acc: 0.28375\n"
          ]
        },
        {
          "name": "stderr",
          "output_type": "stream",
          "text": [
            "INFO:root:[0] Ed: 6400, train_loss: 1.56525, acc: 0.30484\n"
          ]
        },
        {
          "name": "stdout",
          "output_type": "stream",
          "text": [
            "[INFO 2025-02-19 16:07:45,056] [0] Ed: 6400, train_loss: 1.56525, acc: 0.30484\n",
            "[INFO 2025-02-19 16:07:45,056] [0] Ed: 6400, train_loss: 1.56525, acc: 0.30484\n"
          ]
        },
        {
          "name": "stderr",
          "output_type": "stream",
          "text": [
            "INFO:root:[0] Ed: 9600, train_loss: 1.55043, acc: 0.31854\n"
          ]
        },
        {
          "name": "stdout",
          "output_type": "stream",
          "text": [
            "[INFO 2025-02-19 16:08:00,283] [0] Ed: 9600, train_loss: 1.55043, acc: 0.31854\n",
            "[INFO 2025-02-19 16:08:00,283] [0] Ed: 9600, train_loss: 1.55043, acc: 0.31854\n"
          ]
        },
        {
          "name": "stderr",
          "output_type": "stream",
          "text": [
            "INFO:root:[0] Ed: 12800, train_loss: 1.53782, acc: 0.32656\n"
          ]
        },
        {
          "name": "stdout",
          "output_type": "stream",
          "text": [
            "[INFO 2025-02-19 16:08:15,429] [0] Ed: 12800, train_loss: 1.53782, acc: 0.32656\n",
            "[INFO 2025-02-19 16:08:15,429] [0] Ed: 12800, train_loss: 1.53782, acc: 0.32656\n"
          ]
        },
        {
          "name": "stderr",
          "output_type": "stream",
          "text": [
            "INFO:root:[0] Ed: 16000, train_loss: 1.52480, acc: 0.33425\n"
          ]
        },
        {
          "name": "stdout",
          "output_type": "stream",
          "text": [
            "[INFO 2025-02-19 16:08:30,639] [0] Ed: 16000, train_loss: 1.52480, acc: 0.33425\n",
            "[INFO 2025-02-19 16:08:30,639] [0] Ed: 16000, train_loss: 1.52480, acc: 0.33425\n"
          ]
        },
        {
          "name": "stderr",
          "output_type": "stream",
          "text": [
            "INFO:root:[0] Ed: 19200, train_loss: 1.51392, acc: 0.34422\n"
          ]
        },
        {
          "name": "stdout",
          "output_type": "stream",
          "text": [
            "[INFO 2025-02-19 16:08:46,170] [0] Ed: 19200, train_loss: 1.51392, acc: 0.34422\n",
            "[INFO 2025-02-19 16:08:46,170] [0] Ed: 19200, train_loss: 1.51392, acc: 0.34422\n"
          ]
        },
        {
          "name": "stderr",
          "output_type": "stream",
          "text": [
            "INFO:root:[0] Ed: 22400, train_loss: 1.50393, acc: 0.35290\n"
          ]
        },
        {
          "name": "stdout",
          "output_type": "stream",
          "text": [
            "[INFO 2025-02-19 16:09:01,554] [0] Ed: 22400, train_loss: 1.50393, acc: 0.35290\n",
            "[INFO 2025-02-19 16:09:01,554] [0] Ed: 22400, train_loss: 1.50393, acc: 0.35290\n"
          ]
        },
        {
          "name": "stderr",
          "output_type": "stream",
          "text": [
            "INFO:root:[0] Ed: 25600, train_loss: 1.49807, acc: 0.35703\n"
          ]
        },
        {
          "name": "stdout",
          "output_type": "stream",
          "text": [
            "[INFO 2025-02-19 16:09:16,497] [0] Ed: 25600, train_loss: 1.49807, acc: 0.35703\n",
            "[INFO 2025-02-19 16:09:16,497] [0] Ed: 25600, train_loss: 1.49807, acc: 0.35703\n"
          ]
        },
        {
          "name": "stderr",
          "output_type": "stream",
          "text": [
            "INFO:root:[0] Ed: 28800, train_loss: 1.48914, acc: 0.36240\n"
          ]
        },
        {
          "name": "stdout",
          "output_type": "stream",
          "text": [
            "[INFO 2025-02-19 16:09:31,671] [0] Ed: 28800, train_loss: 1.48914, acc: 0.36240\n",
            "[INFO 2025-02-19 16:09:31,671] [0] Ed: 28800, train_loss: 1.48914, acc: 0.36240\n"
          ]
        },
        {
          "name": "stderr",
          "output_type": "stream",
          "text": [
            "INFO:root:[0] Ed: 32000, train_loss: 1.48337, acc: 0.36650\n"
          ]
        },
        {
          "name": "stdout",
          "output_type": "stream",
          "text": [
            "[INFO 2025-02-19 16:09:46,915] [0] Ed: 32000, train_loss: 1.48337, acc: 0.36650\n",
            "[INFO 2025-02-19 16:09:46,915] [0] Ed: 32000, train_loss: 1.48337, acc: 0.36650\n"
          ]
        },
        {
          "name": "stderr",
          "output_type": "stream",
          "text": [
            "INFO:root:[0] Ed: 35200, train_loss: 1.47883, acc: 0.36957\n"
          ]
        },
        {
          "name": "stdout",
          "output_type": "stream",
          "text": [
            "[INFO 2025-02-19 16:10:02,447] [0] Ed: 35200, train_loss: 1.47883, acc: 0.36957\n",
            "[INFO 2025-02-19 16:10:02,447] [0] Ed: 35200, train_loss: 1.47883, acc: 0.36957\n"
          ]
        },
        {
          "name": "stderr",
          "output_type": "stream",
          "text": [
            "INFO:root:[0] Ed: 38400, train_loss: 1.47340, acc: 0.37232\n"
          ]
        },
        {
          "name": "stdout",
          "output_type": "stream",
          "text": [
            "[INFO 2025-02-19 16:10:18,241] [0] Ed: 38400, train_loss: 1.47340, acc: 0.37232\n",
            "[INFO 2025-02-19 16:10:18,241] [0] Ed: 38400, train_loss: 1.47340, acc: 0.37232\n"
          ]
        },
        {
          "name": "stderr",
          "output_type": "stream",
          "text": [
            "INFO:root:[0] Ed: 41600, train_loss: 1.46793, acc: 0.37644\n"
          ]
        },
        {
          "name": "stdout",
          "output_type": "stream",
          "text": [
            "[INFO 2025-02-19 16:10:33,612] [0] Ed: 41600, train_loss: 1.46793, acc: 0.37644\n",
            "[INFO 2025-02-19 16:10:33,612] [0] Ed: 41600, train_loss: 1.46793, acc: 0.37644\n"
          ]
        },
        {
          "name": "stderr",
          "output_type": "stream",
          "text": [
            "INFO:root:[0] Ed: 44800, train_loss: 1.46322, acc: 0.37951\n"
          ]
        },
        {
          "name": "stdout",
          "output_type": "stream",
          "text": [
            "[INFO 2025-02-19 16:10:48,869] [0] Ed: 44800, train_loss: 1.46322, acc: 0.37951\n",
            "[INFO 2025-02-19 16:10:48,869] [0] Ed: 44800, train_loss: 1.46322, acc: 0.37951\n"
          ]
        },
        {
          "name": "stderr",
          "output_type": "stream",
          "text": [
            "INFO:root:[0] Ed: 48000, train_loss: 1.46011, acc: 0.38142\n"
          ]
        },
        {
          "name": "stdout",
          "output_type": "stream",
          "text": [
            "[INFO 2025-02-19 16:11:03,948] [0] Ed: 48000, train_loss: 1.46011, acc: 0.38142\n",
            "[INFO 2025-02-19 16:11:03,948] [0] Ed: 48000, train_loss: 1.46011, acc: 0.38142\n"
          ]
        },
        {
          "name": "stderr",
          "output_type": "stream",
          "text": [
            "INFO:root:[0] Ed: 51200, train_loss: 1.45632, acc: 0.38297\n"
          ]
        },
        {
          "name": "stdout",
          "output_type": "stream",
          "text": [
            "[INFO 2025-02-19 16:11:19,793] [0] Ed: 51200, train_loss: 1.45632, acc: 0.38297\n",
            "[INFO 2025-02-19 16:11:19,793] [0] Ed: 51200, train_loss: 1.45632, acc: 0.38297\n"
          ]
        },
        {
          "name": "stderr",
          "output_type": "stream",
          "text": [
            "INFO:root:[0] Ed: 54400, train_loss: 1.45307, acc: 0.38450\n"
          ]
        },
        {
          "name": "stdout",
          "output_type": "stream",
          "text": [
            "[INFO 2025-02-19 16:11:34,733] [0] Ed: 54400, train_loss: 1.45307, acc: 0.38450\n",
            "[INFO 2025-02-19 16:11:34,733] [0] Ed: 54400, train_loss: 1.45307, acc: 0.38450\n"
          ]
        },
        {
          "name": "stderr",
          "output_type": "stream",
          "text": [
            "INFO:root:[0] Ed: 57600, train_loss: 1.44957, acc: 0.38682\n"
          ]
        },
        {
          "name": "stdout",
          "output_type": "stream",
          "text": [
            "[INFO 2025-02-19 16:11:49,849] [0] Ed: 57600, train_loss: 1.44957, acc: 0.38682\n",
            "[INFO 2025-02-19 16:11:49,849] [0] Ed: 57600, train_loss: 1.44957, acc: 0.38682\n"
          ]
        },
        {
          "name": "stderr",
          "output_type": "stream",
          "text": [
            "INFO:root:[0] Ed: 60800, train_loss: 1.44668, acc: 0.38877\n"
          ]
        },
        {
          "name": "stdout",
          "output_type": "stream",
          "text": [
            "[INFO 2025-02-19 16:12:04,997] [0] Ed: 60800, train_loss: 1.44668, acc: 0.38877\n",
            "[INFO 2025-02-19 16:12:04,997] [0] Ed: 60800, train_loss: 1.44668, acc: 0.38877\n"
          ]
        },
        {
          "name": "stderr",
          "output_type": "stream",
          "text": [
            "INFO:root:[0] Ed: 64000, train_loss: 1.44335, acc: 0.39083\n"
          ]
        },
        {
          "name": "stdout",
          "output_type": "stream",
          "text": [
            "[INFO 2025-02-19 16:12:19,990] [0] Ed: 64000, train_loss: 1.44335, acc: 0.39083\n",
            "[INFO 2025-02-19 16:12:19,990] [0] Ed: 64000, train_loss: 1.44335, acc: 0.39083\n"
          ]
        },
        {
          "name": "stderr",
          "output_type": "stream",
          "text": [
            "INFO:root:[0] Ed: 67200, train_loss: 1.44048, acc: 0.39310\n"
          ]
        },
        {
          "name": "stdout",
          "output_type": "stream",
          "text": [
            "[INFO 2025-02-19 16:12:35,793] [0] Ed: 67200, train_loss: 1.44048, acc: 0.39310\n",
            "[INFO 2025-02-19 16:12:35,793] [0] Ed: 67200, train_loss: 1.44048, acc: 0.39310\n"
          ]
        },
        {
          "name": "stderr",
          "output_type": "stream",
          "text": [
            "INFO:root:[0] Ed: 70400, train_loss: 1.43761, acc: 0.39466\n"
          ]
        },
        {
          "name": "stdout",
          "output_type": "stream",
          "text": [
            "[INFO 2025-02-19 16:12:50,842] [0] Ed: 70400, train_loss: 1.43761, acc: 0.39466\n",
            "[INFO 2025-02-19 16:12:50,842] [0] Ed: 70400, train_loss: 1.43761, acc: 0.39466\n"
          ]
        },
        {
          "name": "stderr",
          "output_type": "stream",
          "text": [
            "INFO:root:[0] Ed: 73600, train_loss: 1.43565, acc: 0.39601\n"
          ]
        },
        {
          "name": "stdout",
          "output_type": "stream",
          "text": [
            "[INFO 2025-02-19 16:13:05,779] [0] Ed: 73600, train_loss: 1.43565, acc: 0.39601\n",
            "[INFO 2025-02-19 16:13:05,779] [0] Ed: 73600, train_loss: 1.43565, acc: 0.39601\n"
          ]
        },
        {
          "name": "stderr",
          "output_type": "stream",
          "text": [
            "INFO:root:[0] Ed: 76800, train_loss: 1.43299, acc: 0.39745\n"
          ]
        },
        {
          "name": "stdout",
          "output_type": "stream",
          "text": [
            "[INFO 2025-02-19 16:13:20,773] [0] Ed: 76800, train_loss: 1.43299, acc: 0.39745\n",
            "[INFO 2025-02-19 16:13:20,773] [0] Ed: 76800, train_loss: 1.43299, acc: 0.39745\n"
          ]
        },
        {
          "name": "stderr",
          "output_type": "stream",
          "text": [
            "INFO:root:[0] Ed: 80000, train_loss: 1.43119, acc: 0.39849\n"
          ]
        },
        {
          "name": "stdout",
          "output_type": "stream",
          "text": [
            "[INFO 2025-02-19 16:13:35,691] [0] Ed: 80000, train_loss: 1.43119, acc: 0.39849\n",
            "[INFO 2025-02-19 16:13:35,691] [0] Ed: 80000, train_loss: 1.43119, acc: 0.39849\n"
          ]
        },
        {
          "name": "stderr",
          "output_type": "stream",
          "text": [
            "INFO:root:[0] Ed: 83200, train_loss: 1.42873, acc: 0.40011\n"
          ]
        },
        {
          "name": "stdout",
          "output_type": "stream",
          "text": [
            "[INFO 2025-02-19 16:13:51,180] [0] Ed: 83200, train_loss: 1.42873, acc: 0.40011\n",
            "[INFO 2025-02-19 16:13:51,180] [0] Ed: 83200, train_loss: 1.42873, acc: 0.40011\n"
          ]
        },
        {
          "name": "stderr",
          "output_type": "stream",
          "text": [
            "INFO:root:[0] Ed: 86400, train_loss: 1.42655, acc: 0.40128\n"
          ]
        },
        {
          "name": "stdout",
          "output_type": "stream",
          "text": [
            "[INFO 2025-02-19 16:14:06,454] [0] Ed: 86400, train_loss: 1.42655, acc: 0.40128\n",
            "[INFO 2025-02-19 16:14:06,454] [0] Ed: 86400, train_loss: 1.42655, acc: 0.40128\n"
          ]
        },
        {
          "name": "stderr",
          "output_type": "stream",
          "text": [
            "INFO:root:[0] Ed: 89600, train_loss: 1.42401, acc: 0.40246\n"
          ]
        },
        {
          "name": "stdout",
          "output_type": "stream",
          "text": [
            "[INFO 2025-02-19 16:14:21,402] [0] Ed: 89600, train_loss: 1.42401, acc: 0.40246\n",
            "[INFO 2025-02-19 16:14:21,402] [0] Ed: 89600, train_loss: 1.42401, acc: 0.40246\n"
          ]
        },
        {
          "name": "stderr",
          "output_type": "stream",
          "text": [
            "INFO:root:[0] Ed: 92800, train_loss: 1.42276, acc: 0.40324\n"
          ]
        },
        {
          "name": "stdout",
          "output_type": "stream",
          "text": [
            "[INFO 2025-02-19 16:14:36,354] [0] Ed: 92800, train_loss: 1.42276, acc: 0.40324\n",
            "[INFO 2025-02-19 16:14:36,354] [0] Ed: 92800, train_loss: 1.42276, acc: 0.40324\n"
          ]
        },
        {
          "name": "stderr",
          "output_type": "stream",
          "text": [
            "INFO:root:[0] Ed: 96000, train_loss: 1.42100, acc: 0.40448\n"
          ]
        },
        {
          "name": "stdout",
          "output_type": "stream",
          "text": [
            "[INFO 2025-02-19 16:14:51,320] [0] Ed: 96000, train_loss: 1.42100, acc: 0.40448\n",
            "[INFO 2025-02-19 16:14:51,320] [0] Ed: 96000, train_loss: 1.42100, acc: 0.40448\n"
          ]
        },
        {
          "name": "stderr",
          "output_type": "stream",
          "text": [
            "INFO:root:[0] Ed: 99200, train_loss: 1.41971, acc: 0.40479\n"
          ]
        },
        {
          "name": "stdout",
          "output_type": "stream",
          "text": [
            "[INFO 2025-02-19 16:15:06,522] [0] Ed: 99200, train_loss: 1.41971, acc: 0.40479\n",
            "[INFO 2025-02-19 16:15:06,522] [0] Ed: 99200, train_loss: 1.41971, acc: 0.40479\n"
          ]
        },
        {
          "name": "stderr",
          "output_type": "stream",
          "text": [
            "INFO:root:[0] Ed: 102400, train_loss: 1.41728, acc: 0.40588\n"
          ]
        },
        {
          "name": "stdout",
          "output_type": "stream",
          "text": [
            "[INFO 2025-02-19 16:15:22,007] [0] Ed: 102400, train_loss: 1.41728, acc: 0.40588\n",
            "[INFO 2025-02-19 16:15:22,007] [0] Ed: 102400, train_loss: 1.41728, acc: 0.40588\n"
          ]
        },
        {
          "name": "stderr",
          "output_type": "stream",
          "text": [
            "INFO:root:[0] Ed: 105600, train_loss: 1.41519, acc: 0.40714\n"
          ]
        },
        {
          "name": "stdout",
          "output_type": "stream",
          "text": [
            "[INFO 2025-02-19 16:15:36,914] [0] Ed: 105600, train_loss: 1.41519, acc: 0.40714\n",
            "[INFO 2025-02-19 16:15:36,914] [0] Ed: 105600, train_loss: 1.41519, acc: 0.40714\n"
          ]
        },
        {
          "name": "stderr",
          "output_type": "stream",
          "text": [
            "INFO:root:[0] Ed: 108800, train_loss: 1.41406, acc: 0.40763\n"
          ]
        },
        {
          "name": "stdout",
          "output_type": "stream",
          "text": [
            "[INFO 2025-02-19 16:15:51,870] [0] Ed: 108800, train_loss: 1.41406, acc: 0.40763\n",
            "[INFO 2025-02-19 16:15:51,870] [0] Ed: 108800, train_loss: 1.41406, acc: 0.40763\n"
          ]
        },
        {
          "name": "stderr",
          "output_type": "stream",
          "text": [
            "INFO:root:[0] Ed: 112000, train_loss: 1.41269, acc: 0.40848\n"
          ]
        },
        {
          "name": "stdout",
          "output_type": "stream",
          "text": [
            "[INFO 2025-02-19 16:16:06,774] [0] Ed: 112000, train_loss: 1.41269, acc: 0.40848\n",
            "[INFO 2025-02-19 16:16:06,774] [0] Ed: 112000, train_loss: 1.41269, acc: 0.40848\n"
          ]
        },
        {
          "name": "stderr",
          "output_type": "stream",
          "text": [
            "INFO:root:[0] Ed: 115200, train_loss: 1.41144, acc: 0.40910\n"
          ]
        },
        {
          "name": "stdout",
          "output_type": "stream",
          "text": [
            "[INFO 2025-02-19 16:16:21,851] [0] Ed: 115200, train_loss: 1.41144, acc: 0.40910\n",
            "[INFO 2025-02-19 16:16:21,851] [0] Ed: 115200, train_loss: 1.41144, acc: 0.40910\n"
          ]
        },
        {
          "name": "stderr",
          "output_type": "stream",
          "text": [
            "INFO:root:[0] Ed: 118400, train_loss: 1.40970, acc: 0.40985\n"
          ]
        },
        {
          "name": "stdout",
          "output_type": "stream",
          "text": [
            "[INFO 2025-02-19 16:16:37,475] [0] Ed: 118400, train_loss: 1.40970, acc: 0.40985\n",
            "[INFO 2025-02-19 16:16:37,475] [0] Ed: 118400, train_loss: 1.40970, acc: 0.40985\n"
          ]
        },
        {
          "name": "stderr",
          "output_type": "stream",
          "text": [
            "INFO:root:[0] Ed: 121600, train_loss: 1.40874, acc: 0.41052\n"
          ]
        },
        {
          "name": "stdout",
          "output_type": "stream",
          "text": [
            "[INFO 2025-02-19 16:16:52,415] [0] Ed: 121600, train_loss: 1.40874, acc: 0.41052\n",
            "[INFO 2025-02-19 16:16:52,415] [0] Ed: 121600, train_loss: 1.40874, acc: 0.41052\n"
          ]
        },
        {
          "name": "stderr",
          "output_type": "stream",
          "text": [
            "INFO:root:[0] Ed: 124800, train_loss: 1.40738, acc: 0.41122\n"
          ]
        },
        {
          "name": "stdout",
          "output_type": "stream",
          "text": [
            "[INFO 2025-02-19 16:17:07,329] [0] Ed: 124800, train_loss: 1.40738, acc: 0.41122\n",
            "[INFO 2025-02-19 16:17:07,329] [0] Ed: 124800, train_loss: 1.40738, acc: 0.41122\n"
          ]
        },
        {
          "name": "stderr",
          "output_type": "stream",
          "text": [
            "INFO:root:[0] Ed: 128000, train_loss: 1.40671, acc: 0.41168\n"
          ]
        },
        {
          "name": "stdout",
          "output_type": "stream",
          "text": [
            "[INFO 2025-02-19 16:17:22,325] [0] Ed: 128000, train_loss: 1.40671, acc: 0.41168\n",
            "[INFO 2025-02-19 16:17:22,325] [0] Ed: 128000, train_loss: 1.40671, acc: 0.41168\n"
          ]
        },
        {
          "name": "stderr",
          "output_type": "stream",
          "text": [
            "INFO:root:[0] Ed: 131200, train_loss: 1.40541, acc: 0.41244\n"
          ]
        },
        {
          "name": "stdout",
          "output_type": "stream",
          "text": [
            "[INFO 2025-02-19 16:17:37,201] [0] Ed: 131200, train_loss: 1.40541, acc: 0.41244\n",
            "[INFO 2025-02-19 16:17:37,201] [0] Ed: 131200, train_loss: 1.40541, acc: 0.41244\n"
          ]
        },
        {
          "name": "stderr",
          "output_type": "stream",
          "text": [
            "INFO:root:[0] Ed: 134400, train_loss: 1.40436, acc: 0.41335\n"
          ]
        },
        {
          "name": "stdout",
          "output_type": "stream",
          "text": [
            "[INFO 2025-02-19 16:17:53,190] [0] Ed: 134400, train_loss: 1.40436, acc: 0.41335\n",
            "[INFO 2025-02-19 16:17:53,190] [0] Ed: 134400, train_loss: 1.40436, acc: 0.41335\n"
          ]
        },
        {
          "name": "stderr",
          "output_type": "stream",
          "text": [
            "INFO:root:[0] Ed: 137600, train_loss: 1.40357, acc: 0.41416\n"
          ]
        },
        {
          "name": "stdout",
          "output_type": "stream",
          "text": [
            "[INFO 2025-02-19 16:18:08,083] [0] Ed: 137600, train_loss: 1.40357, acc: 0.41416\n",
            "[INFO 2025-02-19 16:18:08,083] [0] Ed: 137600, train_loss: 1.40357, acc: 0.41416\n"
          ]
        },
        {
          "name": "stderr",
          "output_type": "stream",
          "text": [
            "INFO:root:[0] Ed: 140800, train_loss: 1.40219, acc: 0.41531\n"
          ]
        },
        {
          "name": "stdout",
          "output_type": "stream",
          "text": [
            "[INFO 2025-02-19 16:18:22,957] [0] Ed: 140800, train_loss: 1.40219, acc: 0.41531\n",
            "[INFO 2025-02-19 16:18:22,957] [0] Ed: 140800, train_loss: 1.40219, acc: 0.41531\n"
          ]
        },
        {
          "name": "stderr",
          "output_type": "stream",
          "text": [
            "INFO:root:[0] Ed: 144000, train_loss: 1.40119, acc: 0.41581\n"
          ]
        },
        {
          "name": "stdout",
          "output_type": "stream",
          "text": [
            "[INFO 2025-02-19 16:18:37,852] [0] Ed: 144000, train_loss: 1.40119, acc: 0.41581\n",
            "[INFO 2025-02-19 16:18:37,852] [0] Ed: 144000, train_loss: 1.40119, acc: 0.41581\n"
          ]
        },
        {
          "name": "stderr",
          "output_type": "stream",
          "text": [
            "INFO:root:[0] Ed: 147200, train_loss: 1.40004, acc: 0.41674\n"
          ]
        },
        {
          "name": "stdout",
          "output_type": "stream",
          "text": [
            "[INFO 2025-02-19 16:18:52,801] [0] Ed: 147200, train_loss: 1.40004, acc: 0.41674\n",
            "[INFO 2025-02-19 16:18:52,801] [0] Ed: 147200, train_loss: 1.40004, acc: 0.41674\n"
          ]
        },
        {
          "name": "stderr",
          "output_type": "stream",
          "text": [
            "INFO:root:[0] Ed: 150400, train_loss: 1.39881, acc: 0.41746\n"
          ]
        },
        {
          "name": "stdout",
          "output_type": "stream",
          "text": [
            "[INFO 2025-02-19 16:19:08,326] [0] Ed: 150400, train_loss: 1.39881, acc: 0.41746\n",
            "[INFO 2025-02-19 16:19:08,326] [0] Ed: 150400, train_loss: 1.39881, acc: 0.41746\n"
          ]
        },
        {
          "name": "stderr",
          "output_type": "stream",
          "text": [
            "INFO:root:[0] Ed: 153600, train_loss: 1.39755, acc: 0.41818\n"
          ]
        },
        {
          "name": "stdout",
          "output_type": "stream",
          "text": [
            "[INFO 2025-02-19 16:19:23,651] [0] Ed: 153600, train_loss: 1.39755, acc: 0.41818\n",
            "[INFO 2025-02-19 16:19:23,651] [0] Ed: 153600, train_loss: 1.39755, acc: 0.41818\n"
          ]
        },
        {
          "name": "stderr",
          "output_type": "stream",
          "text": [
            "INFO:root:[0] Ed: 156800, train_loss: 1.39660, acc: 0.41883\n"
          ]
        },
        {
          "name": "stdout",
          "output_type": "stream",
          "text": [
            "[INFO 2025-02-19 16:19:38,627] [0] Ed: 156800, train_loss: 1.39660, acc: 0.41883\n",
            "[INFO 2025-02-19 16:19:38,627] [0] Ed: 156800, train_loss: 1.39660, acc: 0.41883\n"
          ]
        },
        {
          "name": "stderr",
          "output_type": "stream",
          "text": [
            "INFO:root:[0] Ed: 160000, train_loss: 1.39550, acc: 0.41951\n"
          ]
        },
        {
          "name": "stdout",
          "output_type": "stream",
          "text": [
            "[INFO 2025-02-19 16:19:53,681] [0] Ed: 160000, train_loss: 1.39550, acc: 0.41951\n",
            "[INFO 2025-02-19 16:19:53,681] [0] Ed: 160000, train_loss: 1.39550, acc: 0.41951\n"
          ]
        },
        {
          "name": "stderr",
          "output_type": "stream",
          "text": [
            "INFO:root:[0] Ed: 163200, train_loss: 1.39451, acc: 0.42006\n"
          ]
        },
        {
          "name": "stdout",
          "output_type": "stream",
          "text": [
            "[INFO 2025-02-19 16:20:08,654] [0] Ed: 163200, train_loss: 1.39451, acc: 0.42006\n",
            "[INFO 2025-02-19 16:20:08,654] [0] Ed: 163200, train_loss: 1.39451, acc: 0.42006\n"
          ]
        },
        {
          "name": "stderr",
          "output_type": "stream",
          "text": [
            "INFO:root:[0] Ed: 166400, train_loss: 1.39372, acc: 0.42049\n"
          ]
        },
        {
          "name": "stdout",
          "output_type": "stream",
          "text": [
            "[INFO 2025-02-19 16:20:23,999] [0] Ed: 166400, train_loss: 1.39372, acc: 0.42049\n",
            "[INFO 2025-02-19 16:20:23,999] [0] Ed: 166400, train_loss: 1.39372, acc: 0.42049\n"
          ]
        },
        {
          "name": "stderr",
          "output_type": "stream",
          "text": [
            "INFO:root:[0] Ed: 169600, train_loss: 1.39275, acc: 0.42117\n"
          ]
        },
        {
          "name": "stdout",
          "output_type": "stream",
          "text": [
            "[INFO 2025-02-19 16:20:39,326] [0] Ed: 169600, train_loss: 1.39275, acc: 0.42117\n",
            "[INFO 2025-02-19 16:20:39,326] [0] Ed: 169600, train_loss: 1.39275, acc: 0.42117\n"
          ]
        },
        {
          "name": "stderr",
          "output_type": "stream",
          "text": [
            "INFO:root:[0] Ed: 172800, train_loss: 1.39170, acc: 0.42193\n"
          ]
        },
        {
          "name": "stdout",
          "output_type": "stream",
          "text": [
            "[INFO 2025-02-19 16:20:54,298] [0] Ed: 172800, train_loss: 1.39170, acc: 0.42193\n",
            "[INFO 2025-02-19 16:20:54,298] [0] Ed: 172800, train_loss: 1.39170, acc: 0.42193\n"
          ]
        },
        {
          "name": "stderr",
          "output_type": "stream",
          "text": [
            "INFO:root:[0] Ed: 176000, train_loss: 1.39080, acc: 0.42258\n"
          ]
        },
        {
          "name": "stdout",
          "output_type": "stream",
          "text": [
            "[INFO 2025-02-19 16:21:09,227] [0] Ed: 176000, train_loss: 1.39080, acc: 0.42258\n",
            "[INFO 2025-02-19 16:21:09,227] [0] Ed: 176000, train_loss: 1.39080, acc: 0.42258\n"
          ]
        },
        {
          "name": "stderr",
          "output_type": "stream",
          "text": [
            "INFO:root:[0] Ed: 179200, train_loss: 1.38981, acc: 0.42311\n"
          ]
        },
        {
          "name": "stdout",
          "output_type": "stream",
          "text": [
            "[INFO 2025-02-19 16:21:24,157] [0] Ed: 179200, train_loss: 1.38981, acc: 0.42311\n",
            "[INFO 2025-02-19 16:21:24,157] [0] Ed: 179200, train_loss: 1.38981, acc: 0.42311\n"
          ]
        },
        {
          "name": "stderr",
          "output_type": "stream",
          "text": [
            "INFO:root:[0] Ed: 182400, train_loss: 1.38909, acc: 0.42368\n"
          ]
        },
        {
          "name": "stdout",
          "output_type": "stream",
          "text": [
            "[INFO 2025-02-19 16:21:39,062] [0] Ed: 182400, train_loss: 1.38909, acc: 0.42368\n",
            "[INFO 2025-02-19 16:21:39,062] [0] Ed: 182400, train_loss: 1.38909, acc: 0.42368\n"
          ]
        },
        {
          "name": "stderr",
          "output_type": "stream",
          "text": [
            "INFO:root:[0] Ed: 185600, train_loss: 1.38801, acc: 0.42419\n"
          ]
        },
        {
          "name": "stdout",
          "output_type": "stream",
          "text": [
            "[INFO 2025-02-19 16:21:54,831] [0] Ed: 185600, train_loss: 1.38801, acc: 0.42419\n",
            "[INFO 2025-02-19 16:21:54,831] [0] Ed: 185600, train_loss: 1.38801, acc: 0.42419\n"
          ]
        },
        {
          "name": "stderr",
          "output_type": "stream",
          "text": [
            "INFO:root:[0] Ed: 188800, train_loss: 1.38722, acc: 0.42451\n"
          ]
        },
        {
          "name": "stdout",
          "output_type": "stream",
          "text": [
            "[INFO 2025-02-19 16:22:09,775] [0] Ed: 188800, train_loss: 1.38722, acc: 0.42451\n",
            "[INFO 2025-02-19 16:22:09,775] [0] Ed: 188800, train_loss: 1.38722, acc: 0.42451\n"
          ]
        },
        {
          "name": "stderr",
          "output_type": "stream",
          "text": [
            "INFO:root:[0] Ed: 192000, train_loss: 1.38664, acc: 0.42467\n"
          ]
        },
        {
          "name": "stdout",
          "output_type": "stream",
          "text": [
            "[INFO 2025-02-19 16:22:24,767] [0] Ed: 192000, train_loss: 1.38664, acc: 0.42467\n",
            "[INFO 2025-02-19 16:22:24,767] [0] Ed: 192000, train_loss: 1.38664, acc: 0.42467\n"
          ]
        },
        {
          "name": "stderr",
          "output_type": "stream",
          "text": [
            "INFO:root:[0] Ed: 195200, train_loss: 1.38585, acc: 0.42514\n"
          ]
        },
        {
          "name": "stdout",
          "output_type": "stream",
          "text": [
            "[INFO 2025-02-19 16:22:39,708] [0] Ed: 195200, train_loss: 1.38585, acc: 0.42514\n",
            "[INFO 2025-02-19 16:22:39,708] [0] Ed: 195200, train_loss: 1.38585, acc: 0.42514\n"
          ]
        },
        {
          "name": "stderr",
          "output_type": "stream",
          "text": [
            "INFO:root:[0] Ed: 198400, train_loss: 1.38519, acc: 0.42570\n"
          ]
        },
        {
          "name": "stdout",
          "output_type": "stream",
          "text": [
            "[INFO 2025-02-19 16:22:54,548] [0] Ed: 198400, train_loss: 1.38519, acc: 0.42570\n",
            "[INFO 2025-02-19 16:22:54,548] [0] Ed: 198400, train_loss: 1.38519, acc: 0.42570\n"
          ]
        },
        {
          "name": "stderr",
          "output_type": "stream",
          "text": [
            "INFO:root:[0] Ed: 201600, train_loss: 1.38434, acc: 0.42606\n"
          ]
        },
        {
          "name": "stdout",
          "output_type": "stream",
          "text": [
            "[INFO 2025-02-19 16:23:09,948] [0] Ed: 201600, train_loss: 1.38434, acc: 0.42606\n",
            "[INFO 2025-02-19 16:23:09,948] [0] Ed: 201600, train_loss: 1.38434, acc: 0.42606\n"
          ]
        },
        {
          "name": "stderr",
          "output_type": "stream",
          "text": [
            "INFO:root:[0] Ed: 204800, train_loss: 1.38386, acc: 0.42633\n"
          ]
        },
        {
          "name": "stdout",
          "output_type": "stream",
          "text": [
            "[INFO 2025-02-19 16:23:25,180] [0] Ed: 204800, train_loss: 1.38386, acc: 0.42633\n",
            "[INFO 2025-02-19 16:23:25,180] [0] Ed: 204800, train_loss: 1.38386, acc: 0.42633\n"
          ]
        },
        {
          "name": "stderr",
          "output_type": "stream",
          "text": [
            "INFO:root:[0] Ed: 208000, train_loss: 1.38342, acc: 0.42664\n"
          ]
        },
        {
          "name": "stdout",
          "output_type": "stream",
          "text": [
            "[INFO 2025-02-19 16:23:40,372] [0] Ed: 208000, train_loss: 1.38342, acc: 0.42664\n",
            "[INFO 2025-02-19 16:23:40,372] [0] Ed: 208000, train_loss: 1.38342, acc: 0.42664\n"
          ]
        },
        {
          "name": "stderr",
          "output_type": "stream",
          "text": [
            "INFO:root:[0] Ed: 211200, train_loss: 1.38282, acc: 0.42708\n"
          ]
        },
        {
          "name": "stdout",
          "output_type": "stream",
          "text": [
            "[INFO 2025-02-19 16:23:55,343] [0] Ed: 211200, train_loss: 1.38282, acc: 0.42708\n",
            "[INFO 2025-02-19 16:23:55,343] [0] Ed: 211200, train_loss: 1.38282, acc: 0.42708\n"
          ]
        },
        {
          "name": "stderr",
          "output_type": "stream",
          "text": [
            "INFO:root:[0] Ed: 214400, train_loss: 1.38221, acc: 0.42752\n"
          ]
        },
        {
          "name": "stdout",
          "output_type": "stream",
          "text": [
            "[INFO 2025-02-19 16:24:10,197] [0] Ed: 214400, train_loss: 1.38221, acc: 0.42752\n",
            "[INFO 2025-02-19 16:24:10,197] [0] Ed: 214400, train_loss: 1.38221, acc: 0.42752\n"
          ]
        },
        {
          "name": "stderr",
          "output_type": "stream",
          "text": [
            "INFO:root:[0] Ed: 217600, train_loss: 1.38164, acc: 0.42773\n"
          ]
        },
        {
          "name": "stdout",
          "output_type": "stream",
          "text": [
            "[INFO 2025-02-19 16:24:25,531] [0] Ed: 217600, train_loss: 1.38164, acc: 0.42773\n",
            "[INFO 2025-02-19 16:24:25,531] [0] Ed: 217600, train_loss: 1.38164, acc: 0.42773\n"
          ]
        },
        {
          "name": "stderr",
          "output_type": "stream",
          "text": [
            "INFO:root:[0] Ed: 220800, train_loss: 1.38085, acc: 0.42814\n"
          ]
        },
        {
          "name": "stdout",
          "output_type": "stream",
          "text": [
            "[INFO 2025-02-19 16:24:40,716] [0] Ed: 220800, train_loss: 1.38085, acc: 0.42814\n",
            "[INFO 2025-02-19 16:24:40,716] [0] Ed: 220800, train_loss: 1.38085, acc: 0.42814\n"
          ]
        },
        {
          "name": "stderr",
          "output_type": "stream",
          "text": [
            "INFO:root:[0] Ed: 224000, train_loss: 1.38003, acc: 0.42856\n"
          ]
        },
        {
          "name": "stdout",
          "output_type": "stream",
          "text": [
            "[INFO 2025-02-19 16:24:55,761] [0] Ed: 224000, train_loss: 1.38003, acc: 0.42856\n",
            "[INFO 2025-02-19 16:24:55,761] [0] Ed: 224000, train_loss: 1.38003, acc: 0.42856\n"
          ]
        },
        {
          "name": "stderr",
          "output_type": "stream",
          "text": [
            "INFO:root:[0] Ed: 227200, train_loss: 1.37925, acc: 0.42907\n"
          ]
        },
        {
          "name": "stdout",
          "output_type": "stream",
          "text": [
            "[INFO 2025-02-19 16:25:10,668] [0] Ed: 227200, train_loss: 1.37925, acc: 0.42907\n",
            "[INFO 2025-02-19 16:25:10,668] [0] Ed: 227200, train_loss: 1.37925, acc: 0.42907\n"
          ]
        },
        {
          "name": "stderr",
          "output_type": "stream",
          "text": [
            "INFO:root:[0] Ed: 230400, train_loss: 1.37837, acc: 0.42953\n"
          ]
        },
        {
          "name": "stdout",
          "output_type": "stream",
          "text": [
            "[INFO 2025-02-19 16:25:25,653] [0] Ed: 230400, train_loss: 1.37837, acc: 0.42953\n",
            "[INFO 2025-02-19 16:25:25,653] [0] Ed: 230400, train_loss: 1.37837, acc: 0.42953\n"
          ]
        },
        {
          "name": "stderr",
          "output_type": "stream",
          "text": [
            "INFO:root:[0] Ed: 233600, train_loss: 1.37742, acc: 0.43009\n"
          ]
        },
        {
          "name": "stdout",
          "output_type": "stream",
          "text": [
            "[INFO 2025-02-19 16:25:40,755] [0] Ed: 233600, train_loss: 1.37742, acc: 0.43009\n",
            "[INFO 2025-02-19 16:25:40,755] [0] Ed: 233600, train_loss: 1.37742, acc: 0.43009\n"
          ]
        },
        {
          "name": "stderr",
          "output_type": "stream",
          "text": [
            "INFO:root:Training finish.\n"
          ]
        },
        {
          "name": "stdout",
          "output_type": "stream",
          "text": [
            "[INFO 2025-02-19 16:25:53,542] Training finish.\n",
            "[INFO 2025-02-19 16:25:53,542] Training finish.\n"
          ]
        },
        {
          "name": "stderr",
          "output_type": "stream",
          "text": [
            "INFO:root:Model saved to /content/model/epoch-1.pt.\n"
          ]
        },
        {
          "name": "stdout",
          "output_type": "stream",
          "text": [
            "[INFO 2025-02-19 16:25:53,609] Model saved to /content/model/epoch-1.pt.\n",
            "[INFO 2025-02-19 16:25:53,609] Model saved to /content/model/epoch-1.pt.\n"
          ]
        },
        {
          "name": "stderr",
          "output_type": "stream",
          "text": [
            "INFO:root:[0] Ed: 0, train_loss: inf, acc: inf\n"
          ]
        },
        {
          "name": "stdout",
          "output_type": "stream",
          "text": [
            "[INFO 2025-02-19 16:25:53,837] [0] Ed: 0, train_loss: inf, acc: inf\n",
            "[INFO 2025-02-19 16:25:53,837] [0] Ed: 0, train_loss: inf, acc: inf\n"
          ]
        },
        {
          "name": "stderr",
          "output_type": "stream",
          "text": [
            "INFO:root:[0] Ed: 3200, train_loss: 1.34824, acc: 0.46125\n"
          ]
        },
        {
          "name": "stdout",
          "output_type": "stream",
          "text": [
            "[INFO 2025-02-19 16:26:09,310] [0] Ed: 3200, train_loss: 1.34824, acc: 0.46125\n",
            "[INFO 2025-02-19 16:26:09,310] [0] Ed: 3200, train_loss: 1.34824, acc: 0.46125\n"
          ]
        },
        {
          "name": "stderr",
          "output_type": "stream",
          "text": [
            "INFO:root:[0] Ed: 6400, train_loss: 1.33333, acc: 0.46203\n"
          ]
        },
        {
          "name": "stdout",
          "output_type": "stream",
          "text": [
            "[INFO 2025-02-19 16:26:24,298] [0] Ed: 6400, train_loss: 1.33333, acc: 0.46203\n",
            "[INFO 2025-02-19 16:26:24,298] [0] Ed: 6400, train_loss: 1.33333, acc: 0.46203\n"
          ]
        },
        {
          "name": "stderr",
          "output_type": "stream",
          "text": [
            "INFO:root:[0] Ed: 9600, train_loss: 1.33269, acc: 0.45896\n"
          ]
        },
        {
          "name": "stdout",
          "output_type": "stream",
          "text": [
            "[INFO 2025-02-19 16:26:39,183] [0] Ed: 9600, train_loss: 1.33269, acc: 0.45896\n",
            "[INFO 2025-02-19 16:26:39,183] [0] Ed: 9600, train_loss: 1.33269, acc: 0.45896\n"
          ]
        },
        {
          "name": "stderr",
          "output_type": "stream",
          "text": [
            "INFO:root:[0] Ed: 12800, train_loss: 1.32964, acc: 0.46094\n"
          ]
        },
        {
          "name": "stdout",
          "output_type": "stream",
          "text": [
            "[INFO 2025-02-19 16:26:54,165] [0] Ed: 12800, train_loss: 1.32964, acc: 0.46094\n",
            "[INFO 2025-02-19 16:26:54,165] [0] Ed: 12800, train_loss: 1.32964, acc: 0.46094\n"
          ]
        },
        {
          "name": "stderr",
          "output_type": "stream",
          "text": [
            "INFO:root:[0] Ed: 16000, train_loss: 1.33154, acc: 0.45819\n"
          ]
        },
        {
          "name": "stdout",
          "output_type": "stream",
          "text": [
            "[INFO 2025-02-19 16:27:09,304] [0] Ed: 16000, train_loss: 1.33154, acc: 0.45819\n",
            "[INFO 2025-02-19 16:27:09,304] [0] Ed: 16000, train_loss: 1.33154, acc: 0.45819\n"
          ]
        },
        {
          "name": "stderr",
          "output_type": "stream",
          "text": [
            "INFO:root:[0] Ed: 19200, train_loss: 1.33051, acc: 0.45661\n"
          ]
        },
        {
          "name": "stdout",
          "output_type": "stream",
          "text": [
            "[INFO 2025-02-19 16:27:24,989] [0] Ed: 19200, train_loss: 1.33051, acc: 0.45661\n",
            "[INFO 2025-02-19 16:27:24,989] [0] Ed: 19200, train_loss: 1.33051, acc: 0.45661\n"
          ]
        },
        {
          "name": "stderr",
          "output_type": "stream",
          "text": [
            "INFO:root:[0] Ed: 22400, train_loss: 1.32930, acc: 0.45790\n"
          ]
        },
        {
          "name": "stdout",
          "output_type": "stream",
          "text": [
            "[INFO 2025-02-19 16:27:39,925] [0] Ed: 22400, train_loss: 1.32930, acc: 0.45790\n",
            "[INFO 2025-02-19 16:27:39,925] [0] Ed: 22400, train_loss: 1.32930, acc: 0.45790\n"
          ]
        },
        {
          "name": "stderr",
          "output_type": "stream",
          "text": [
            "INFO:root:[0] Ed: 25600, train_loss: 1.32882, acc: 0.45895\n"
          ]
        },
        {
          "name": "stdout",
          "output_type": "stream",
          "text": [
            "[INFO 2025-02-19 16:27:54,993] [0] Ed: 25600, train_loss: 1.32882, acc: 0.45895\n",
            "[INFO 2025-02-19 16:27:54,993] [0] Ed: 25600, train_loss: 1.32882, acc: 0.45895\n"
          ]
        },
        {
          "name": "stderr",
          "output_type": "stream",
          "text": [
            "INFO:root:[0] Ed: 28800, train_loss: 1.32776, acc: 0.46035\n"
          ]
        },
        {
          "name": "stdout",
          "output_type": "stream",
          "text": [
            "[INFO 2025-02-19 16:28:09,998] [0] Ed: 28800, train_loss: 1.32776, acc: 0.46035\n",
            "[INFO 2025-02-19 16:28:09,998] [0] Ed: 28800, train_loss: 1.32776, acc: 0.46035\n"
          ]
        },
        {
          "name": "stderr",
          "output_type": "stream",
          "text": [
            "INFO:root:[0] Ed: 32000, train_loss: 1.32698, acc: 0.46097\n"
          ]
        },
        {
          "name": "stdout",
          "output_type": "stream",
          "text": [
            "[INFO 2025-02-19 16:28:25,198] [0] Ed: 32000, train_loss: 1.32698, acc: 0.46097\n",
            "[INFO 2025-02-19 16:28:25,198] [0] Ed: 32000, train_loss: 1.32698, acc: 0.46097\n"
          ]
        },
        {
          "name": "stderr",
          "output_type": "stream",
          "text": [
            "INFO:root:[0] Ed: 35200, train_loss: 1.32796, acc: 0.45986\n"
          ]
        },
        {
          "name": "stdout",
          "output_type": "stream",
          "text": [
            "[INFO 2025-02-19 16:28:40,895] [0] Ed: 35200, train_loss: 1.32796, acc: 0.45986\n",
            "[INFO 2025-02-19 16:28:40,895] [0] Ed: 35200, train_loss: 1.32796, acc: 0.45986\n"
          ]
        },
        {
          "name": "stderr",
          "output_type": "stream",
          "text": [
            "INFO:root:[0] Ed: 38400, train_loss: 1.32706, acc: 0.45922\n"
          ]
        },
        {
          "name": "stdout",
          "output_type": "stream",
          "text": [
            "[INFO 2025-02-19 16:28:55,762] [0] Ed: 38400, train_loss: 1.32706, acc: 0.45922\n",
            "[INFO 2025-02-19 16:28:55,762] [0] Ed: 38400, train_loss: 1.32706, acc: 0.45922\n"
          ]
        },
        {
          "name": "stderr",
          "output_type": "stream",
          "text": [
            "INFO:root:[0] Ed: 41600, train_loss: 1.32452, acc: 0.46077\n"
          ]
        },
        {
          "name": "stdout",
          "output_type": "stream",
          "text": [
            "[INFO 2025-02-19 16:29:10,891] [0] Ed: 41600, train_loss: 1.32452, acc: 0.46077\n",
            "[INFO 2025-02-19 16:29:10,891] [0] Ed: 41600, train_loss: 1.32452, acc: 0.46077\n"
          ]
        },
        {
          "name": "stderr",
          "output_type": "stream",
          "text": [
            "INFO:root:[0] Ed: 44800, train_loss: 1.32372, acc: 0.46065\n"
          ]
        },
        {
          "name": "stdout",
          "output_type": "stream",
          "text": [
            "[INFO 2025-02-19 16:29:25,866] [0] Ed: 44800, train_loss: 1.32372, acc: 0.46065\n",
            "[INFO 2025-02-19 16:29:25,866] [0] Ed: 44800, train_loss: 1.32372, acc: 0.46065\n"
          ]
        },
        {
          "name": "stderr",
          "output_type": "stream",
          "text": [
            "INFO:root:[0] Ed: 48000, train_loss: 1.32377, acc: 0.46046\n"
          ]
        },
        {
          "name": "stdout",
          "output_type": "stream",
          "text": [
            "[INFO 2025-02-19 16:29:40,743] [0] Ed: 48000, train_loss: 1.32377, acc: 0.46046\n",
            "[INFO 2025-02-19 16:29:40,743] [0] Ed: 48000, train_loss: 1.32377, acc: 0.46046\n"
          ]
        },
        {
          "name": "stderr",
          "output_type": "stream",
          "text": [
            "INFO:root:[0] Ed: 51200, train_loss: 1.32247, acc: 0.46129\n"
          ]
        },
        {
          "name": "stdout",
          "output_type": "stream",
          "text": [
            "[INFO 2025-02-19 16:29:56,717] [0] Ed: 51200, train_loss: 1.32247, acc: 0.46129\n",
            "[INFO 2025-02-19 16:29:56,717] [0] Ed: 51200, train_loss: 1.32247, acc: 0.46129\n"
          ]
        },
        {
          "name": "stderr",
          "output_type": "stream",
          "text": [
            "INFO:root:[0] Ed: 54400, train_loss: 1.32143, acc: 0.46199\n"
          ]
        },
        {
          "name": "stdout",
          "output_type": "stream",
          "text": [
            "[INFO 2025-02-19 16:30:11,914] [0] Ed: 54400, train_loss: 1.32143, acc: 0.46199\n",
            "[INFO 2025-02-19 16:30:11,914] [0] Ed: 54400, train_loss: 1.32143, acc: 0.46199\n"
          ]
        },
        {
          "name": "stderr",
          "output_type": "stream",
          "text": [
            "INFO:root:[0] Ed: 57600, train_loss: 1.32072, acc: 0.46313\n"
          ]
        },
        {
          "name": "stdout",
          "output_type": "stream",
          "text": [
            "[INFO 2025-02-19 16:30:27,186] [0] Ed: 57600, train_loss: 1.32072, acc: 0.46313\n",
            "[INFO 2025-02-19 16:30:27,186] [0] Ed: 57600, train_loss: 1.32072, acc: 0.46313\n"
          ]
        },
        {
          "name": "stderr",
          "output_type": "stream",
          "text": [
            "INFO:root:[0] Ed: 60800, train_loss: 1.32036, acc: 0.46326\n"
          ]
        },
        {
          "name": "stdout",
          "output_type": "stream",
          "text": [
            "[INFO 2025-02-19 16:30:42,449] [0] Ed: 60800, train_loss: 1.32036, acc: 0.46326\n",
            "[INFO 2025-02-19 16:30:42,449] [0] Ed: 60800, train_loss: 1.32036, acc: 0.46326\n"
          ]
        },
        {
          "name": "stderr",
          "output_type": "stream",
          "text": [
            "INFO:root:[0] Ed: 64000, train_loss: 1.31943, acc: 0.46422\n"
          ]
        },
        {
          "name": "stdout",
          "output_type": "stream",
          "text": [
            "[INFO 2025-02-19 16:30:57,782] [0] Ed: 64000, train_loss: 1.31943, acc: 0.46422\n",
            "[INFO 2025-02-19 16:30:57,782] [0] Ed: 64000, train_loss: 1.31943, acc: 0.46422\n"
          ]
        },
        {
          "name": "stderr",
          "output_type": "stream",
          "text": [
            "INFO:root:[0] Ed: 67200, train_loss: 1.31850, acc: 0.46503\n"
          ]
        },
        {
          "name": "stdout",
          "output_type": "stream",
          "text": [
            "[INFO 2025-02-19 16:31:13,338] [0] Ed: 67200, train_loss: 1.31850, acc: 0.46503\n",
            "[INFO 2025-02-19 16:31:13,338] [0] Ed: 67200, train_loss: 1.31850, acc: 0.46503\n"
          ]
        },
        {
          "name": "stderr",
          "output_type": "stream",
          "text": [
            "INFO:root:[0] Ed: 70400, train_loss: 1.31756, acc: 0.46547\n"
          ]
        },
        {
          "name": "stdout",
          "output_type": "stream",
          "text": [
            "[INFO 2025-02-19 16:31:28,653] [0] Ed: 70400, train_loss: 1.31756, acc: 0.46547\n",
            "[INFO 2025-02-19 16:31:28,653] [0] Ed: 70400, train_loss: 1.31756, acc: 0.46547\n"
          ]
        },
        {
          "name": "stderr",
          "output_type": "stream",
          "text": [
            "INFO:root:[0] Ed: 73600, train_loss: 1.31731, acc: 0.46538\n"
          ]
        },
        {
          "name": "stdout",
          "output_type": "stream",
          "text": [
            "[INFO 2025-02-19 16:31:43,537] [0] Ed: 73600, train_loss: 1.31731, acc: 0.46538\n",
            "[INFO 2025-02-19 16:31:43,537] [0] Ed: 73600, train_loss: 1.31731, acc: 0.46538\n"
          ]
        },
        {
          "name": "stderr",
          "output_type": "stream",
          "text": [
            "INFO:root:[0] Ed: 76800, train_loss: 1.31585, acc: 0.46600\n"
          ]
        },
        {
          "name": "stdout",
          "output_type": "stream",
          "text": [
            "[INFO 2025-02-19 16:31:58,531] [0] Ed: 76800, train_loss: 1.31585, acc: 0.46600\n",
            "[INFO 2025-02-19 16:31:58,531] [0] Ed: 76800, train_loss: 1.31585, acc: 0.46600\n"
          ]
        },
        {
          "name": "stderr",
          "output_type": "stream",
          "text": [
            "INFO:root:[0] Ed: 80000, train_loss: 1.31584, acc: 0.46576\n"
          ]
        },
        {
          "name": "stdout",
          "output_type": "stream",
          "text": [
            "[INFO 2025-02-19 16:32:13,737] [0] Ed: 80000, train_loss: 1.31584, acc: 0.46576\n",
            "[INFO 2025-02-19 16:32:13,737] [0] Ed: 80000, train_loss: 1.31584, acc: 0.46576\n"
          ]
        },
        {
          "name": "stderr",
          "output_type": "stream",
          "text": [
            "INFO:root:[0] Ed: 83200, train_loss: 1.31477, acc: 0.46641\n"
          ]
        },
        {
          "name": "stdout",
          "output_type": "stream",
          "text": [
            "[INFO 2025-02-19 16:32:29,548] [0] Ed: 83200, train_loss: 1.31477, acc: 0.46641\n",
            "[INFO 2025-02-19 16:32:29,548] [0] Ed: 83200, train_loss: 1.31477, acc: 0.46641\n"
          ]
        },
        {
          "name": "stderr",
          "output_type": "stream",
          "text": [
            "INFO:root:[0] Ed: 86400, train_loss: 1.31410, acc: 0.46637\n"
          ]
        },
        {
          "name": "stdout",
          "output_type": "stream",
          "text": [
            "[INFO 2025-02-19 16:32:44,534] [0] Ed: 86400, train_loss: 1.31410, acc: 0.46637\n",
            "[INFO 2025-02-19 16:32:44,534] [0] Ed: 86400, train_loss: 1.31410, acc: 0.46637\n"
          ]
        },
        {
          "name": "stderr",
          "output_type": "stream",
          "text": [
            "INFO:root:[0] Ed: 89600, train_loss: 1.31329, acc: 0.46698\n"
          ]
        },
        {
          "name": "stdout",
          "output_type": "stream",
          "text": [
            "[INFO 2025-02-19 16:32:59,559] [0] Ed: 89600, train_loss: 1.31329, acc: 0.46698\n",
            "[INFO 2025-02-19 16:32:59,559] [0] Ed: 89600, train_loss: 1.31329, acc: 0.46698\n"
          ]
        },
        {
          "name": "stderr",
          "output_type": "stream",
          "text": [
            "INFO:root:[0] Ed: 92800, train_loss: 1.31360, acc: 0.46669\n"
          ]
        },
        {
          "name": "stdout",
          "output_type": "stream",
          "text": [
            "[INFO 2025-02-19 16:33:14,538] [0] Ed: 92800, train_loss: 1.31360, acc: 0.46669\n",
            "[INFO 2025-02-19 16:33:14,538] [0] Ed: 92800, train_loss: 1.31360, acc: 0.46669\n"
          ]
        },
        {
          "name": "stderr",
          "output_type": "stream",
          "text": [
            "INFO:root:[0] Ed: 96000, train_loss: 1.31288, acc: 0.46733\n"
          ]
        },
        {
          "name": "stdout",
          "output_type": "stream",
          "text": [
            "[INFO 2025-02-19 16:33:29,603] [0] Ed: 96000, train_loss: 1.31288, acc: 0.46733\n",
            "[INFO 2025-02-19 16:33:29,603] [0] Ed: 96000, train_loss: 1.31288, acc: 0.46733\n"
          ]
        },
        {
          "name": "stderr",
          "output_type": "stream",
          "text": [
            "INFO:root:[0] Ed: 99200, train_loss: 1.31283, acc: 0.46728\n"
          ]
        },
        {
          "name": "stdout",
          "output_type": "stream",
          "text": [
            "[INFO 2025-02-19 16:33:45,279] [0] Ed: 99200, train_loss: 1.31283, acc: 0.46728\n",
            "[INFO 2025-02-19 16:33:45,279] [0] Ed: 99200, train_loss: 1.31283, acc: 0.46728\n"
          ]
        },
        {
          "name": "stderr",
          "output_type": "stream",
          "text": [
            "INFO:root:[0] Ed: 102400, train_loss: 1.31168, acc: 0.46782\n"
          ]
        },
        {
          "name": "stdout",
          "output_type": "stream",
          "text": [
            "[INFO 2025-02-19 16:34:00,319] [0] Ed: 102400, train_loss: 1.31168, acc: 0.46782\n",
            "[INFO 2025-02-19 16:34:00,319] [0] Ed: 102400, train_loss: 1.31168, acc: 0.46782\n"
          ]
        },
        {
          "name": "stderr",
          "output_type": "stream",
          "text": [
            "INFO:root:[0] Ed: 105600, train_loss: 1.31041, acc: 0.46847\n"
          ]
        },
        {
          "name": "stdout",
          "output_type": "stream",
          "text": [
            "[INFO 2025-02-19 16:34:15,326] [0] Ed: 105600, train_loss: 1.31041, acc: 0.46847\n",
            "[INFO 2025-02-19 16:34:15,326] [0] Ed: 105600, train_loss: 1.31041, acc: 0.46847\n"
          ]
        },
        {
          "name": "stderr",
          "output_type": "stream",
          "text": [
            "INFO:root:[0] Ed: 108800, train_loss: 1.31035, acc: 0.46846\n"
          ]
        },
        {
          "name": "stdout",
          "output_type": "stream",
          "text": [
            "[INFO 2025-02-19 16:34:30,347] [0] Ed: 108800, train_loss: 1.31035, acc: 0.46846\n",
            "[INFO 2025-02-19 16:34:30,347] [0] Ed: 108800, train_loss: 1.31035, acc: 0.46846\n"
          ]
        },
        {
          "name": "stderr",
          "output_type": "stream",
          "text": [
            "INFO:root:[0] Ed: 112000, train_loss: 1.31011, acc: 0.46854\n"
          ]
        },
        {
          "name": "stdout",
          "output_type": "stream",
          "text": [
            "[INFO 2025-02-19 16:34:45,259] [0] Ed: 112000, train_loss: 1.31011, acc: 0.46854\n",
            "[INFO 2025-02-19 16:34:45,259] [0] Ed: 112000, train_loss: 1.31011, acc: 0.46854\n"
          ]
        },
        {
          "name": "stderr",
          "output_type": "stream",
          "text": [
            "INFO:root:[0] Ed: 115200, train_loss: 1.30979, acc: 0.46841\n"
          ]
        },
        {
          "name": "stdout",
          "output_type": "stream",
          "text": [
            "[INFO 2025-02-19 16:35:01,333] [0] Ed: 115200, train_loss: 1.30979, acc: 0.46841\n",
            "[INFO 2025-02-19 16:35:01,333] [0] Ed: 115200, train_loss: 1.30979, acc: 0.46841\n"
          ]
        },
        {
          "name": "stderr",
          "output_type": "stream",
          "text": [
            "INFO:root:[0] Ed: 118400, train_loss: 1.30890, acc: 0.46910\n"
          ]
        },
        {
          "name": "stdout",
          "output_type": "stream",
          "text": [
            "[INFO 2025-02-19 16:35:16,362] [0] Ed: 118400, train_loss: 1.30890, acc: 0.46910\n",
            "[INFO 2025-02-19 16:35:16,362] [0] Ed: 118400, train_loss: 1.30890, acc: 0.46910\n"
          ]
        },
        {
          "name": "stderr",
          "output_type": "stream",
          "text": [
            "INFO:root:[0] Ed: 121600, train_loss: 1.30876, acc: 0.46911\n"
          ]
        },
        {
          "name": "stdout",
          "output_type": "stream",
          "text": [
            "[INFO 2025-02-19 16:35:31,379] [0] Ed: 121600, train_loss: 1.30876, acc: 0.46911\n",
            "[INFO 2025-02-19 16:35:31,379] [0] Ed: 121600, train_loss: 1.30876, acc: 0.46911\n"
          ]
        },
        {
          "name": "stderr",
          "output_type": "stream",
          "text": [
            "INFO:root:[0] Ed: 124800, train_loss: 1.30852, acc: 0.46893\n"
          ]
        },
        {
          "name": "stdout",
          "output_type": "stream",
          "text": [
            "[INFO 2025-02-19 16:35:46,385] [0] Ed: 124800, train_loss: 1.30852, acc: 0.46893\n",
            "[INFO 2025-02-19 16:35:46,385] [0] Ed: 124800, train_loss: 1.30852, acc: 0.46893\n"
          ]
        },
        {
          "name": "stderr",
          "output_type": "stream",
          "text": [
            "INFO:root:[0] Ed: 128000, train_loss: 1.30882, acc: 0.46886\n"
          ]
        },
        {
          "name": "stdout",
          "output_type": "stream",
          "text": [
            "[INFO 2025-02-19 16:36:01,393] [0] Ed: 128000, train_loss: 1.30882, acc: 0.46886\n",
            "[INFO 2025-02-19 16:36:01,393] [0] Ed: 128000, train_loss: 1.30882, acc: 0.46886\n"
          ]
        },
        {
          "name": "stderr",
          "output_type": "stream",
          "text": [
            "INFO:root:[0] Ed: 131200, train_loss: 1.30839, acc: 0.46913\n"
          ]
        },
        {
          "name": "stdout",
          "output_type": "stream",
          "text": [
            "[INFO 2025-02-19 16:36:17,153] [0] Ed: 131200, train_loss: 1.30839, acc: 0.46913\n",
            "[INFO 2025-02-19 16:36:17,153] [0] Ed: 131200, train_loss: 1.30839, acc: 0.46913\n"
          ]
        },
        {
          "name": "stderr",
          "output_type": "stream",
          "text": [
            "INFO:root:[0] Ed: 134400, train_loss: 1.30816, acc: 0.46931\n"
          ]
        },
        {
          "name": "stdout",
          "output_type": "stream",
          "text": [
            "[INFO 2025-02-19 16:36:32,096] [0] Ed: 134400, train_loss: 1.30816, acc: 0.46931\n",
            "[INFO 2025-02-19 16:36:32,096] [0] Ed: 134400, train_loss: 1.30816, acc: 0.46931\n"
          ]
        },
        {
          "name": "stderr",
          "output_type": "stream",
          "text": [
            "INFO:root:[0] Ed: 137600, train_loss: 1.30828, acc: 0.46933\n"
          ]
        },
        {
          "name": "stdout",
          "output_type": "stream",
          "text": [
            "[INFO 2025-02-19 16:36:46,964] [0] Ed: 137600, train_loss: 1.30828, acc: 0.46933\n",
            "[INFO 2025-02-19 16:36:46,964] [0] Ed: 137600, train_loss: 1.30828, acc: 0.46933\n"
          ]
        },
        {
          "name": "stderr",
          "output_type": "stream",
          "text": [
            "INFO:root:[0] Ed: 140800, train_loss: 1.30769, acc: 0.46975\n"
          ]
        },
        {
          "name": "stdout",
          "output_type": "stream",
          "text": [
            "[INFO 2025-02-19 16:37:01,992] [0] Ed: 140800, train_loss: 1.30769, acc: 0.46975\n",
            "[INFO 2025-02-19 16:37:01,992] [0] Ed: 140800, train_loss: 1.30769, acc: 0.46975\n"
          ]
        },
        {
          "name": "stderr",
          "output_type": "stream",
          "text": [
            "INFO:root:[0] Ed: 144000, train_loss: 1.30734, acc: 0.46972\n"
          ]
        },
        {
          "name": "stdout",
          "output_type": "stream",
          "text": [
            "[INFO 2025-02-19 16:37:17,002] [0] Ed: 144000, train_loss: 1.30734, acc: 0.46972\n",
            "[INFO 2025-02-19 16:37:17,002] [0] Ed: 144000, train_loss: 1.30734, acc: 0.46972\n"
          ]
        },
        {
          "name": "stderr",
          "output_type": "stream",
          "text": [
            "INFO:root:[0] Ed: 147200, train_loss: 1.30705, acc: 0.46980\n"
          ]
        },
        {
          "name": "stdout",
          "output_type": "stream",
          "text": [
            "[INFO 2025-02-19 16:37:32,752] [0] Ed: 147200, train_loss: 1.30705, acc: 0.46980\n",
            "[INFO 2025-02-19 16:37:32,752] [0] Ed: 147200, train_loss: 1.30705, acc: 0.46980\n"
          ]
        },
        {
          "name": "stderr",
          "output_type": "stream",
          "text": [
            "INFO:root:[0] Ed: 150400, train_loss: 1.30647, acc: 0.46997\n"
          ]
        },
        {
          "name": "stdout",
          "output_type": "stream",
          "text": [
            "[INFO 2025-02-19 16:37:47,782] [0] Ed: 150400, train_loss: 1.30647, acc: 0.46997\n",
            "[INFO 2025-02-19 16:37:47,782] [0] Ed: 150400, train_loss: 1.30647, acc: 0.46997\n"
          ]
        },
        {
          "name": "stderr",
          "output_type": "stream",
          "text": [
            "INFO:root:[0] Ed: 153600, train_loss: 1.30598, acc: 0.47010\n"
          ]
        },
        {
          "name": "stdout",
          "output_type": "stream",
          "text": [
            "[INFO 2025-02-19 16:38:02,824] [0] Ed: 153600, train_loss: 1.30598, acc: 0.47010\n",
            "[INFO 2025-02-19 16:38:02,824] [0] Ed: 153600, train_loss: 1.30598, acc: 0.47010\n"
          ]
        },
        {
          "name": "stderr",
          "output_type": "stream",
          "text": [
            "INFO:root:[0] Ed: 156800, train_loss: 1.30543, acc: 0.47050\n"
          ]
        },
        {
          "name": "stdout",
          "output_type": "stream",
          "text": [
            "[INFO 2025-02-19 16:38:17,905] [0] Ed: 156800, train_loss: 1.30543, acc: 0.47050\n",
            "[INFO 2025-02-19 16:38:17,905] [0] Ed: 156800, train_loss: 1.30543, acc: 0.47050\n"
          ]
        },
        {
          "name": "stderr",
          "output_type": "stream",
          "text": [
            "INFO:root:[0] Ed: 160000, train_loss: 1.30510, acc: 0.47083\n"
          ]
        },
        {
          "name": "stdout",
          "output_type": "stream",
          "text": [
            "[INFO 2025-02-19 16:38:32,905] [0] Ed: 160000, train_loss: 1.30510, acc: 0.47083\n",
            "[INFO 2025-02-19 16:38:32,905] [0] Ed: 160000, train_loss: 1.30510, acc: 0.47083\n"
          ]
        },
        {
          "name": "stderr",
          "output_type": "stream",
          "text": [
            "INFO:root:[0] Ed: 163200, train_loss: 1.30480, acc: 0.47094\n"
          ]
        },
        {
          "name": "stdout",
          "output_type": "stream",
          "text": [
            "[INFO 2025-02-19 16:38:48,682] [0] Ed: 163200, train_loss: 1.30480, acc: 0.47094\n",
            "[INFO 2025-02-19 16:38:48,682] [0] Ed: 163200, train_loss: 1.30480, acc: 0.47094\n"
          ]
        },
        {
          "name": "stderr",
          "output_type": "stream",
          "text": [
            "INFO:root:[0] Ed: 166400, train_loss: 1.30484, acc: 0.47082\n"
          ]
        },
        {
          "name": "stdout",
          "output_type": "stream",
          "text": [
            "[INFO 2025-02-19 16:39:03,694] [0] Ed: 166400, train_loss: 1.30484, acc: 0.47082\n",
            "[INFO 2025-02-19 16:39:03,694] [0] Ed: 166400, train_loss: 1.30484, acc: 0.47082\n"
          ]
        },
        {
          "name": "stderr",
          "output_type": "stream",
          "text": [
            "INFO:root:[0] Ed: 169600, train_loss: 1.30467, acc: 0.47104\n"
          ]
        },
        {
          "name": "stdout",
          "output_type": "stream",
          "text": [
            "[INFO 2025-02-19 16:39:18,641] [0] Ed: 169600, train_loss: 1.30467, acc: 0.47104\n",
            "[INFO 2025-02-19 16:39:18,641] [0] Ed: 169600, train_loss: 1.30467, acc: 0.47104\n"
          ]
        },
        {
          "name": "stderr",
          "output_type": "stream",
          "text": [
            "INFO:root:[0] Ed: 172800, train_loss: 1.30413, acc: 0.47123\n"
          ]
        },
        {
          "name": "stdout",
          "output_type": "stream",
          "text": [
            "[INFO 2025-02-19 16:39:33,583] [0] Ed: 172800, train_loss: 1.30413, acc: 0.47123\n",
            "[INFO 2025-02-19 16:39:33,583] [0] Ed: 172800, train_loss: 1.30413, acc: 0.47123\n"
          ]
        },
        {
          "name": "stderr",
          "output_type": "stream",
          "text": [
            "INFO:root:[0] Ed: 176000, train_loss: 1.30390, acc: 0.47132\n"
          ]
        },
        {
          "name": "stdout",
          "output_type": "stream",
          "text": [
            "[INFO 2025-02-19 16:39:48,382] [0] Ed: 176000, train_loss: 1.30390, acc: 0.47132\n",
            "[INFO 2025-02-19 16:39:48,382] [0] Ed: 176000, train_loss: 1.30390, acc: 0.47132\n"
          ]
        },
        {
          "name": "stderr",
          "output_type": "stream",
          "text": [
            "INFO:root:[0] Ed: 179200, train_loss: 1.30346, acc: 0.47162\n"
          ]
        },
        {
          "name": "stdout",
          "output_type": "stream",
          "text": [
            "[INFO 2025-02-19 16:40:03,749] [0] Ed: 179200, train_loss: 1.30346, acc: 0.47162\n",
            "[INFO 2025-02-19 16:40:03,749] [0] Ed: 179200, train_loss: 1.30346, acc: 0.47162\n"
          ]
        },
        {
          "name": "stderr",
          "output_type": "stream",
          "text": [
            "INFO:root:[0] Ed: 182400, train_loss: 1.30331, acc: 0.47177\n"
          ]
        },
        {
          "name": "stdout",
          "output_type": "stream",
          "text": [
            "[INFO 2025-02-19 16:40:18,900] [0] Ed: 182400, train_loss: 1.30331, acc: 0.47177\n",
            "[INFO 2025-02-19 16:40:18,900] [0] Ed: 182400, train_loss: 1.30331, acc: 0.47177\n"
          ]
        },
        {
          "name": "stderr",
          "output_type": "stream",
          "text": [
            "INFO:root:[0] Ed: 185600, train_loss: 1.30285, acc: 0.47199\n"
          ]
        },
        {
          "name": "stdout",
          "output_type": "stream",
          "text": [
            "[INFO 2025-02-19 16:40:33,875] [0] Ed: 185600, train_loss: 1.30285, acc: 0.47199\n",
            "[INFO 2025-02-19 16:40:33,875] [0] Ed: 185600, train_loss: 1.30285, acc: 0.47199\n"
          ]
        },
        {
          "name": "stderr",
          "output_type": "stream",
          "text": [
            "INFO:root:[0] Ed: 188800, train_loss: 1.30258, acc: 0.47228\n"
          ]
        },
        {
          "name": "stdout",
          "output_type": "stream",
          "text": [
            "[INFO 2025-02-19 16:40:48,966] [0] Ed: 188800, train_loss: 1.30258, acc: 0.47228\n",
            "[INFO 2025-02-19 16:40:48,966] [0] Ed: 188800, train_loss: 1.30258, acc: 0.47228\n"
          ]
        },
        {
          "name": "stderr",
          "output_type": "stream",
          "text": [
            "INFO:root:[0] Ed: 192000, train_loss: 1.30259, acc: 0.47222\n"
          ]
        },
        {
          "name": "stdout",
          "output_type": "stream",
          "text": [
            "[INFO 2025-02-19 16:41:03,869] [0] Ed: 192000, train_loss: 1.30259, acc: 0.47222\n",
            "[INFO 2025-02-19 16:41:03,869] [0] Ed: 192000, train_loss: 1.30259, acc: 0.47222\n"
          ]
        },
        {
          "name": "stderr",
          "output_type": "stream",
          "text": [
            "INFO:root:[0] Ed: 195200, train_loss: 1.30231, acc: 0.47248\n"
          ]
        },
        {
          "name": "stdout",
          "output_type": "stream",
          "text": [
            "[INFO 2025-02-19 16:41:19,004] [0] Ed: 195200, train_loss: 1.30231, acc: 0.47248\n",
            "[INFO 2025-02-19 16:41:19,004] [0] Ed: 195200, train_loss: 1.30231, acc: 0.47248\n"
          ]
        },
        {
          "name": "stderr",
          "output_type": "stream",
          "text": [
            "INFO:root:[0] Ed: 198400, train_loss: 1.30219, acc: 0.47272\n"
          ]
        },
        {
          "name": "stdout",
          "output_type": "stream",
          "text": [
            "[INFO 2025-02-19 16:41:34,392] [0] Ed: 198400, train_loss: 1.30219, acc: 0.47272\n",
            "[INFO 2025-02-19 16:41:34,392] [0] Ed: 198400, train_loss: 1.30219, acc: 0.47272\n"
          ]
        },
        {
          "name": "stderr",
          "output_type": "stream",
          "text": [
            "INFO:root:[0] Ed: 201600, train_loss: 1.30191, acc: 0.47276\n"
          ]
        },
        {
          "name": "stdout",
          "output_type": "stream",
          "text": [
            "[INFO 2025-02-19 16:41:49,218] [0] Ed: 201600, train_loss: 1.30191, acc: 0.47276\n",
            "[INFO 2025-02-19 16:41:49,218] [0] Ed: 201600, train_loss: 1.30191, acc: 0.47276\n"
          ]
        },
        {
          "name": "stderr",
          "output_type": "stream",
          "text": [
            "INFO:root:[0] Ed: 204800, train_loss: 1.30191, acc: 0.47269\n"
          ]
        },
        {
          "name": "stdout",
          "output_type": "stream",
          "text": [
            "[INFO 2025-02-19 16:42:04,054] [0] Ed: 204800, train_loss: 1.30191, acc: 0.47269\n",
            "[INFO 2025-02-19 16:42:04,054] [0] Ed: 204800, train_loss: 1.30191, acc: 0.47269\n"
          ]
        },
        {
          "name": "stderr",
          "output_type": "stream",
          "text": [
            "INFO:root:[0] Ed: 208000, train_loss: 1.30187, acc: 0.47276\n"
          ]
        },
        {
          "name": "stdout",
          "output_type": "stream",
          "text": [
            "[INFO 2025-02-19 16:42:18,940] [0] Ed: 208000, train_loss: 1.30187, acc: 0.47276\n",
            "[INFO 2025-02-19 16:42:18,940] [0] Ed: 208000, train_loss: 1.30187, acc: 0.47276\n"
          ]
        },
        {
          "name": "stderr",
          "output_type": "stream",
          "text": [
            "INFO:root:[0] Ed: 211200, train_loss: 1.30174, acc: 0.47285\n"
          ]
        },
        {
          "name": "stdout",
          "output_type": "stream",
          "text": [
            "[INFO 2025-02-19 16:42:33,872] [0] Ed: 211200, train_loss: 1.30174, acc: 0.47285\n",
            "[INFO 2025-02-19 16:42:33,872] [0] Ed: 211200, train_loss: 1.30174, acc: 0.47285\n"
          ]
        },
        {
          "name": "stderr",
          "output_type": "stream",
          "text": [
            "INFO:root:[0] Ed: 214400, train_loss: 1.30160, acc: 0.47288\n"
          ]
        },
        {
          "name": "stdout",
          "output_type": "stream",
          "text": [
            "[INFO 2025-02-19 16:42:49,473] [0] Ed: 214400, train_loss: 1.30160, acc: 0.47288\n",
            "[INFO 2025-02-19 16:42:49,473] [0] Ed: 214400, train_loss: 1.30160, acc: 0.47288\n"
          ]
        },
        {
          "name": "stderr",
          "output_type": "stream",
          "text": [
            "INFO:root:[0] Ed: 217600, train_loss: 1.30130, acc: 0.47294\n"
          ]
        },
        {
          "name": "stdout",
          "output_type": "stream",
          "text": [
            "[INFO 2025-02-19 16:43:04,355] [0] Ed: 217600, train_loss: 1.30130, acc: 0.47294\n",
            "[INFO 2025-02-19 16:43:04,355] [0] Ed: 217600, train_loss: 1.30130, acc: 0.47294\n"
          ]
        },
        {
          "name": "stderr",
          "output_type": "stream",
          "text": [
            "INFO:root:[0] Ed: 220800, train_loss: 1.30095, acc: 0.47308\n"
          ]
        },
        {
          "name": "stdout",
          "output_type": "stream",
          "text": [
            "[INFO 2025-02-19 16:43:19,303] [0] Ed: 220800, train_loss: 1.30095, acc: 0.47308\n",
            "[INFO 2025-02-19 16:43:19,303] [0] Ed: 220800, train_loss: 1.30095, acc: 0.47308\n"
          ]
        },
        {
          "name": "stderr",
          "output_type": "stream",
          "text": [
            "INFO:root:[0] Ed: 224000, train_loss: 1.30053, acc: 0.47326\n"
          ]
        },
        {
          "name": "stdout",
          "output_type": "stream",
          "text": [
            "[INFO 2025-02-19 16:43:34,302] [0] Ed: 224000, train_loss: 1.30053, acc: 0.47326\n",
            "[INFO 2025-02-19 16:43:34,302] [0] Ed: 224000, train_loss: 1.30053, acc: 0.47326\n"
          ]
        },
        {
          "name": "stderr",
          "output_type": "stream",
          "text": [
            "INFO:root:[0] Ed: 227200, train_loss: 1.30009, acc: 0.47350\n"
          ]
        },
        {
          "name": "stdout",
          "output_type": "stream",
          "text": [
            "[INFO 2025-02-19 16:43:49,262] [0] Ed: 227200, train_loss: 1.30009, acc: 0.47350\n",
            "[INFO 2025-02-19 16:43:49,262] [0] Ed: 227200, train_loss: 1.30009, acc: 0.47350\n"
          ]
        },
        {
          "name": "stderr",
          "output_type": "stream",
          "text": [
            "INFO:root:[0] Ed: 230400, train_loss: 1.29959, acc: 0.47361\n"
          ]
        },
        {
          "name": "stdout",
          "output_type": "stream",
          "text": [
            "[INFO 2025-02-19 16:44:04,806] [0] Ed: 230400, train_loss: 1.29959, acc: 0.47361\n",
            "[INFO 2025-02-19 16:44:04,806] [0] Ed: 230400, train_loss: 1.29959, acc: 0.47361\n"
          ]
        },
        {
          "name": "stderr",
          "output_type": "stream",
          "text": [
            "INFO:root:[0] Ed: 233600, train_loss: 1.29898, acc: 0.47399\n"
          ]
        },
        {
          "name": "stdout",
          "output_type": "stream",
          "text": [
            "[INFO 2025-02-19 16:44:19,881] [0] Ed: 233600, train_loss: 1.29898, acc: 0.47399\n",
            "[INFO 2025-02-19 16:44:19,881] [0] Ed: 233600, train_loss: 1.29898, acc: 0.47399\n"
          ]
        },
        {
          "name": "stderr",
          "output_type": "stream",
          "text": [
            "INFO:root:Training finish.\n"
          ]
        },
        {
          "name": "stdout",
          "output_type": "stream",
          "text": [
            "[INFO 2025-02-19 16:44:32,632] Training finish.\n",
            "[INFO 2025-02-19 16:44:32,632] Training finish.\n"
          ]
        },
        {
          "name": "stderr",
          "output_type": "stream",
          "text": [
            "INFO:root:Model saved to /content/model/epoch-2.pt.\n"
          ]
        },
        {
          "name": "stdout",
          "output_type": "stream",
          "text": [
            "[INFO 2025-02-19 16:44:32,675] Model saved to /content/model/epoch-2.pt.\n",
            "[INFO 2025-02-19 16:44:32,675] Model saved to /content/model/epoch-2.pt.\n"
          ]
        },
        {
          "name": "stderr",
          "output_type": "stream",
          "text": [
            "INFO:root:[0] Ed: 0, train_loss: inf, acc: inf\n"
          ]
        },
        {
          "name": "stdout",
          "output_type": "stream",
          "text": [
            "[INFO 2025-02-19 16:44:32,844] [0] Ed: 0, train_loss: inf, acc: inf\n",
            "[INFO 2025-02-19 16:44:32,844] [0] Ed: 0, train_loss: inf, acc: inf\n"
          ]
        },
        {
          "name": "stderr",
          "output_type": "stream",
          "text": [
            "INFO:root:[0] Ed: 3200, train_loss: 1.30297, acc: 0.48562\n"
          ]
        },
        {
          "name": "stdout",
          "output_type": "stream",
          "text": [
            "[INFO 2025-02-19 16:44:47,708] [0] Ed: 3200, train_loss: 1.30297, acc: 0.48562\n",
            "[INFO 2025-02-19 16:44:47,708] [0] Ed: 3200, train_loss: 1.30297, acc: 0.48562\n"
          ]
        },
        {
          "name": "stderr",
          "output_type": "stream",
          "text": [
            "INFO:root:[0] Ed: 6400, train_loss: 1.28626, acc: 0.48781\n"
          ]
        },
        {
          "name": "stdout",
          "output_type": "stream",
          "text": [
            "[INFO 2025-02-19 16:45:02,669] [0] Ed: 6400, train_loss: 1.28626, acc: 0.48781\n",
            "[INFO 2025-02-19 16:45:02,669] [0] Ed: 6400, train_loss: 1.28626, acc: 0.48781\n"
          ]
        },
        {
          "name": "stderr",
          "output_type": "stream",
          "text": [
            "INFO:root:[0] Ed: 9600, train_loss: 1.28647, acc: 0.48615\n"
          ]
        },
        {
          "name": "stdout",
          "output_type": "stream",
          "text": [
            "[INFO 2025-02-19 16:45:17,617] [0] Ed: 9600, train_loss: 1.28647, acc: 0.48615\n",
            "[INFO 2025-02-19 16:45:17,617] [0] Ed: 9600, train_loss: 1.28647, acc: 0.48615\n"
          ]
        },
        {
          "name": "stderr",
          "output_type": "stream",
          "text": [
            "INFO:root:[0] Ed: 12800, train_loss: 1.28315, acc: 0.48844\n"
          ]
        },
        {
          "name": "stdout",
          "output_type": "stream",
          "text": [
            "[INFO 2025-02-19 16:45:33,211] [0] Ed: 12800, train_loss: 1.28315, acc: 0.48844\n",
            "[INFO 2025-02-19 16:45:33,211] [0] Ed: 12800, train_loss: 1.28315, acc: 0.48844\n"
          ]
        },
        {
          "name": "stderr",
          "output_type": "stream",
          "text": [
            "INFO:root:[0] Ed: 16000, train_loss: 1.28569, acc: 0.48425\n"
          ]
        },
        {
          "name": "stdout",
          "output_type": "stream",
          "text": [
            "[INFO 2025-02-19 16:45:48,468] [0] Ed: 16000, train_loss: 1.28569, acc: 0.48425\n",
            "[INFO 2025-02-19 16:45:48,468] [0] Ed: 16000, train_loss: 1.28569, acc: 0.48425\n"
          ]
        },
        {
          "name": "stderr",
          "output_type": "stream",
          "text": [
            "INFO:root:[0] Ed: 19200, train_loss: 1.28506, acc: 0.48448\n"
          ]
        },
        {
          "name": "stdout",
          "output_type": "stream",
          "text": [
            "[INFO 2025-02-19 16:46:03,414] [0] Ed: 19200, train_loss: 1.28506, acc: 0.48448\n",
            "[INFO 2025-02-19 16:46:03,414] [0] Ed: 19200, train_loss: 1.28506, acc: 0.48448\n"
          ]
        },
        {
          "name": "stderr",
          "output_type": "stream",
          "text": [
            "INFO:root:[0] Ed: 22400, train_loss: 1.28443, acc: 0.48460\n"
          ]
        },
        {
          "name": "stdout",
          "output_type": "stream",
          "text": [
            "[INFO 2025-02-19 16:46:18,297] [0] Ed: 22400, train_loss: 1.28443, acc: 0.48460\n",
            "[INFO 2025-02-19 16:46:18,297] [0] Ed: 22400, train_loss: 1.28443, acc: 0.48460\n"
          ]
        },
        {
          "name": "stderr",
          "output_type": "stream",
          "text": [
            "INFO:root:[0] Ed: 25600, train_loss: 1.28250, acc: 0.48590\n"
          ]
        },
        {
          "name": "stdout",
          "output_type": "stream",
          "text": [
            "[INFO 2025-02-19 16:46:33,436] [0] Ed: 25600, train_loss: 1.28250, acc: 0.48590\n",
            "[INFO 2025-02-19 16:46:33,436] [0] Ed: 25600, train_loss: 1.28250, acc: 0.48590\n"
          ]
        },
        {
          "name": "stderr",
          "output_type": "stream",
          "text": [
            "INFO:root:[0] Ed: 28800, train_loss: 1.28214, acc: 0.48601\n"
          ]
        },
        {
          "name": "stdout",
          "output_type": "stream",
          "text": [
            "[INFO 2025-02-19 16:46:48,674] [0] Ed: 28800, train_loss: 1.28214, acc: 0.48601\n",
            "[INFO 2025-02-19 16:46:48,674] [0] Ed: 28800, train_loss: 1.28214, acc: 0.48601\n"
          ]
        },
        {
          "name": "stderr",
          "output_type": "stream",
          "text": [
            "INFO:root:[0] Ed: 32000, train_loss: 1.28156, acc: 0.48503\n"
          ]
        },
        {
          "name": "stdout",
          "output_type": "stream",
          "text": [
            "[INFO 2025-02-19 16:47:03,961] [0] Ed: 32000, train_loss: 1.28156, acc: 0.48503\n",
            "[INFO 2025-02-19 16:47:03,961] [0] Ed: 32000, train_loss: 1.28156, acc: 0.48503\n"
          ]
        },
        {
          "name": "stderr",
          "output_type": "stream",
          "text": [
            "INFO:root:[0] Ed: 35200, train_loss: 1.28321, acc: 0.48327\n"
          ]
        },
        {
          "name": "stdout",
          "output_type": "stream",
          "text": [
            "[INFO 2025-02-19 16:47:18,777] [0] Ed: 35200, train_loss: 1.28321, acc: 0.48327\n",
            "[INFO 2025-02-19 16:47:18,777] [0] Ed: 35200, train_loss: 1.28321, acc: 0.48327\n"
          ]
        },
        {
          "name": "stderr",
          "output_type": "stream",
          "text": [
            "INFO:root:[0] Ed: 38400, train_loss: 1.28229, acc: 0.48346\n"
          ]
        },
        {
          "name": "stdout",
          "output_type": "stream",
          "text": [
            "[INFO 2025-02-19 16:47:33,712] [0] Ed: 38400, train_loss: 1.28229, acc: 0.48346\n",
            "[INFO 2025-02-19 16:47:33,712] [0] Ed: 38400, train_loss: 1.28229, acc: 0.48346\n"
          ]
        },
        {
          "name": "stderr",
          "output_type": "stream",
          "text": [
            "INFO:root:[0] Ed: 41600, train_loss: 1.28020, acc: 0.48495\n"
          ]
        },
        {
          "name": "stdout",
          "output_type": "stream",
          "text": [
            "[INFO 2025-02-19 16:47:48,572] [0] Ed: 41600, train_loss: 1.28020, acc: 0.48495\n",
            "[INFO 2025-02-19 16:47:48,572] [0] Ed: 41600, train_loss: 1.28020, acc: 0.48495\n"
          ]
        },
        {
          "name": "stderr",
          "output_type": "stream",
          "text": [
            "INFO:root:[0] Ed: 44800, train_loss: 1.27932, acc: 0.48487\n"
          ]
        },
        {
          "name": "stdout",
          "output_type": "stream",
          "text": [
            "[INFO 2025-02-19 16:48:03,510] [0] Ed: 44800, train_loss: 1.27932, acc: 0.48487\n",
            "[INFO 2025-02-19 16:48:03,510] [0] Ed: 44800, train_loss: 1.27932, acc: 0.48487\n"
          ]
        },
        {
          "name": "stderr",
          "output_type": "stream",
          "text": [
            "INFO:root:[0] Ed: 48000, train_loss: 1.27910, acc: 0.48479\n"
          ]
        },
        {
          "name": "stdout",
          "output_type": "stream",
          "text": [
            "[INFO 2025-02-19 16:48:19,090] [0] Ed: 48000, train_loss: 1.27910, acc: 0.48479\n",
            "[INFO 2025-02-19 16:48:19,090] [0] Ed: 48000, train_loss: 1.27910, acc: 0.48479\n"
          ]
        },
        {
          "name": "stderr",
          "output_type": "stream",
          "text": [
            "INFO:root:[0] Ed: 51200, train_loss: 1.27821, acc: 0.48547\n"
          ]
        },
        {
          "name": "stdout",
          "output_type": "stream",
          "text": [
            "[INFO 2025-02-19 16:48:33,985] [0] Ed: 51200, train_loss: 1.27821, acc: 0.48547\n",
            "[INFO 2025-02-19 16:48:33,985] [0] Ed: 51200, train_loss: 1.27821, acc: 0.48547\n"
          ]
        },
        {
          "name": "stderr",
          "output_type": "stream",
          "text": [
            "INFO:root:[0] Ed: 54400, train_loss: 1.27721, acc: 0.48649\n"
          ]
        },
        {
          "name": "stdout",
          "output_type": "stream",
          "text": [
            "[INFO 2025-02-19 16:48:48,829] [0] Ed: 54400, train_loss: 1.27721, acc: 0.48649\n",
            "[INFO 2025-02-19 16:48:48,829] [0] Ed: 54400, train_loss: 1.27721, acc: 0.48649\n"
          ]
        },
        {
          "name": "stderr",
          "output_type": "stream",
          "text": [
            "INFO:root:[0] Ed: 57600, train_loss: 1.27669, acc: 0.48712\n"
          ]
        },
        {
          "name": "stdout",
          "output_type": "stream",
          "text": [
            "[INFO 2025-02-19 16:49:03,763] [0] Ed: 57600, train_loss: 1.27669, acc: 0.48712\n",
            "[INFO 2025-02-19 16:49:03,763] [0] Ed: 57600, train_loss: 1.27669, acc: 0.48712\n"
          ]
        },
        {
          "name": "stderr",
          "output_type": "stream",
          "text": [
            "INFO:root:[0] Ed: 60800, train_loss: 1.27688, acc: 0.48692\n"
          ]
        },
        {
          "name": "stdout",
          "output_type": "stream",
          "text": [
            "[INFO 2025-02-19 16:49:18,637] [0] Ed: 60800, train_loss: 1.27688, acc: 0.48692\n",
            "[INFO 2025-02-19 16:49:18,637] [0] Ed: 60800, train_loss: 1.27688, acc: 0.48692\n"
          ]
        },
        {
          "name": "stderr",
          "output_type": "stream",
          "text": [
            "INFO:root:[0] Ed: 64000, train_loss: 1.27581, acc: 0.48766\n"
          ]
        },
        {
          "name": "stdout",
          "output_type": "stream",
          "text": [
            "[INFO 2025-02-19 16:49:34,116] [0] Ed: 64000, train_loss: 1.27581, acc: 0.48766\n",
            "[INFO 2025-02-19 16:49:34,116] [0] Ed: 64000, train_loss: 1.27581, acc: 0.48766\n"
          ]
        },
        {
          "name": "stderr",
          "output_type": "stream",
          "text": [
            "INFO:root:[0] Ed: 67200, train_loss: 1.27512, acc: 0.48844\n"
          ]
        },
        {
          "name": "stdout",
          "output_type": "stream",
          "text": [
            "[INFO 2025-02-19 16:49:49,161] [0] Ed: 67200, train_loss: 1.27512, acc: 0.48844\n",
            "[INFO 2025-02-19 16:49:49,161] [0] Ed: 67200, train_loss: 1.27512, acc: 0.48844\n"
          ]
        },
        {
          "name": "stderr",
          "output_type": "stream",
          "text": [
            "INFO:root:[0] Ed: 70400, train_loss: 1.27434, acc: 0.48869\n"
          ]
        },
        {
          "name": "stdout",
          "output_type": "stream",
          "text": [
            "[INFO 2025-02-19 16:50:04,042] [0] Ed: 70400, train_loss: 1.27434, acc: 0.48869\n",
            "[INFO 2025-02-19 16:50:04,042] [0] Ed: 70400, train_loss: 1.27434, acc: 0.48869\n"
          ]
        },
        {
          "name": "stderr",
          "output_type": "stream",
          "text": [
            "INFO:root:[0] Ed: 73600, train_loss: 1.27468, acc: 0.48817\n"
          ]
        },
        {
          "name": "stdout",
          "output_type": "stream",
          "text": [
            "[INFO 2025-02-19 16:50:18,954] [0] Ed: 73600, train_loss: 1.27468, acc: 0.48817\n",
            "[INFO 2025-02-19 16:50:18,954] [0] Ed: 73600, train_loss: 1.27468, acc: 0.48817\n"
          ]
        },
        {
          "name": "stderr",
          "output_type": "stream",
          "text": [
            "INFO:root:[0] Ed: 76800, train_loss: 1.27374, acc: 0.48865\n"
          ]
        },
        {
          "name": "stdout",
          "output_type": "stream",
          "text": [
            "[INFO 2025-02-19 16:50:33,997] [0] Ed: 76800, train_loss: 1.27374, acc: 0.48865\n",
            "[INFO 2025-02-19 16:50:33,997] [0] Ed: 76800, train_loss: 1.27374, acc: 0.48865\n"
          ]
        },
        {
          "name": "stderr",
          "output_type": "stream",
          "text": [
            "INFO:root:[0] Ed: 80000, train_loss: 1.27402, acc: 0.48830\n"
          ]
        },
        {
          "name": "stdout",
          "output_type": "stream",
          "text": [
            "[INFO 2025-02-19 16:50:49,275] [0] Ed: 80000, train_loss: 1.27402, acc: 0.48830\n",
            "[INFO 2025-02-19 16:50:49,275] [0] Ed: 80000, train_loss: 1.27402, acc: 0.48830\n"
          ]
        },
        {
          "name": "stderr",
          "output_type": "stream",
          "text": [
            "INFO:root:[0] Ed: 83200, train_loss: 1.27328, acc: 0.48897\n"
          ]
        },
        {
          "name": "stdout",
          "output_type": "stream",
          "text": [
            "[INFO 2025-02-19 16:51:04,783] [0] Ed: 83200, train_loss: 1.27328, acc: 0.48897\n",
            "[INFO 2025-02-19 16:51:04,783] [0] Ed: 83200, train_loss: 1.27328, acc: 0.48897\n"
          ]
        },
        {
          "name": "stderr",
          "output_type": "stream",
          "text": [
            "INFO:root:[0] Ed: 86400, train_loss: 1.27237, acc: 0.48931\n"
          ]
        },
        {
          "name": "stdout",
          "output_type": "stream",
          "text": [
            "[INFO 2025-02-19 16:51:19,680] [0] Ed: 86400, train_loss: 1.27237, acc: 0.48931\n",
            "[INFO 2025-02-19 16:51:19,680] [0] Ed: 86400, train_loss: 1.27237, acc: 0.48931\n"
          ]
        },
        {
          "name": "stderr",
          "output_type": "stream",
          "text": [
            "INFO:root:[0] Ed: 89600, train_loss: 1.27128, acc: 0.49009\n"
          ]
        },
        {
          "name": "stdout",
          "output_type": "stream",
          "text": [
            "[INFO 2025-02-19 16:51:34,556] [0] Ed: 89600, train_loss: 1.27128, acc: 0.49009\n",
            "[INFO 2025-02-19 16:51:34,556] [0] Ed: 89600, train_loss: 1.27128, acc: 0.49009\n"
          ]
        },
        {
          "name": "stderr",
          "output_type": "stream",
          "text": [
            "INFO:root:[0] Ed: 92800, train_loss: 1.27150, acc: 0.48982\n"
          ]
        },
        {
          "name": "stdout",
          "output_type": "stream",
          "text": [
            "[INFO 2025-02-19 16:51:49,475] [0] Ed: 92800, train_loss: 1.27150, acc: 0.48982\n",
            "[INFO 2025-02-19 16:51:49,475] [0] Ed: 92800, train_loss: 1.27150, acc: 0.48982\n"
          ]
        },
        {
          "name": "stderr",
          "output_type": "stream",
          "text": [
            "INFO:root:[0] Ed: 96000, train_loss: 1.27111, acc: 0.48991\n"
          ]
        },
        {
          "name": "stdout",
          "output_type": "stream",
          "text": [
            "[INFO 2025-02-19 16:52:05,112] [0] Ed: 96000, train_loss: 1.27111, acc: 0.48991\n",
            "[INFO 2025-02-19 16:52:05,112] [0] Ed: 96000, train_loss: 1.27111, acc: 0.48991\n"
          ]
        },
        {
          "name": "stderr",
          "output_type": "stream",
          "text": [
            "INFO:root:[0] Ed: 99200, train_loss: 1.27096, acc: 0.48993\n"
          ]
        },
        {
          "name": "stdout",
          "output_type": "stream",
          "text": [
            "[INFO 2025-02-19 16:52:21,098] [0] Ed: 99200, train_loss: 1.27096, acc: 0.48993\n",
            "[INFO 2025-02-19 16:52:21,098] [0] Ed: 99200, train_loss: 1.27096, acc: 0.48993\n"
          ]
        },
        {
          "name": "stderr",
          "output_type": "stream",
          "text": [
            "INFO:root:[0] Ed: 102400, train_loss: 1.26982, acc: 0.49026\n"
          ]
        },
        {
          "name": "stdout",
          "output_type": "stream",
          "text": [
            "[INFO 2025-02-19 16:52:36,502] [0] Ed: 102400, train_loss: 1.26982, acc: 0.49026\n",
            "[INFO 2025-02-19 16:52:36,502] [0] Ed: 102400, train_loss: 1.26982, acc: 0.49026\n"
          ]
        },
        {
          "name": "stderr",
          "output_type": "stream",
          "text": [
            "INFO:root:[0] Ed: 105600, train_loss: 1.26851, acc: 0.49095\n"
          ]
        },
        {
          "name": "stdout",
          "output_type": "stream",
          "text": [
            "[INFO 2025-02-19 16:52:51,792] [0] Ed: 105600, train_loss: 1.26851, acc: 0.49095\n",
            "[INFO 2025-02-19 16:52:51,792] [0] Ed: 105600, train_loss: 1.26851, acc: 0.49095\n"
          ]
        },
        {
          "name": "stderr",
          "output_type": "stream",
          "text": [
            "INFO:root:[0] Ed: 108800, train_loss: 1.26859, acc: 0.49091\n"
          ]
        },
        {
          "name": "stdout",
          "output_type": "stream",
          "text": [
            "[INFO 2025-02-19 16:53:07,023] [0] Ed: 108800, train_loss: 1.26859, acc: 0.49091\n",
            "[INFO 2025-02-19 16:53:07,023] [0] Ed: 108800, train_loss: 1.26859, acc: 0.49091\n"
          ]
        },
        {
          "name": "stderr",
          "output_type": "stream",
          "text": [
            "INFO:root:[0] Ed: 112000, train_loss: 1.26864, acc: 0.49071\n"
          ]
        },
        {
          "name": "stdout",
          "output_type": "stream",
          "text": [
            "[INFO 2025-02-19 16:53:22,960] [0] Ed: 112000, train_loss: 1.26864, acc: 0.49071\n",
            "[INFO 2025-02-19 16:53:22,960] [0] Ed: 112000, train_loss: 1.26864, acc: 0.49071\n"
          ]
        },
        {
          "name": "stderr",
          "output_type": "stream",
          "text": [
            "INFO:root:[0] Ed: 115200, train_loss: 1.26825, acc: 0.49052\n"
          ]
        },
        {
          "name": "stdout",
          "output_type": "stream",
          "text": [
            "[INFO 2025-02-19 16:53:38,519] [0] Ed: 115200, train_loss: 1.26825, acc: 0.49052\n",
            "[INFO 2025-02-19 16:53:38,519] [0] Ed: 115200, train_loss: 1.26825, acc: 0.49052\n"
          ]
        },
        {
          "name": "stderr",
          "output_type": "stream",
          "text": [
            "INFO:root:[0] Ed: 118400, train_loss: 1.26711, acc: 0.49101\n"
          ]
        },
        {
          "name": "stdout",
          "output_type": "stream",
          "text": [
            "[INFO 2025-02-19 16:53:53,682] [0] Ed: 118400, train_loss: 1.26711, acc: 0.49101\n",
            "[INFO 2025-02-19 16:53:53,682] [0] Ed: 118400, train_loss: 1.26711, acc: 0.49101\n"
          ]
        },
        {
          "name": "stderr",
          "output_type": "stream",
          "text": [
            "INFO:root:[0] Ed: 121600, train_loss: 1.26695, acc: 0.49109\n"
          ]
        },
        {
          "name": "stdout",
          "output_type": "stream",
          "text": [
            "[INFO 2025-02-19 16:54:08,808] [0] Ed: 121600, train_loss: 1.26695, acc: 0.49109\n",
            "[INFO 2025-02-19 16:54:08,808] [0] Ed: 121600, train_loss: 1.26695, acc: 0.49109\n"
          ]
        },
        {
          "name": "stderr",
          "output_type": "stream",
          "text": [
            "INFO:root:[0] Ed: 124800, train_loss: 1.26687, acc: 0.49111\n"
          ]
        },
        {
          "name": "stdout",
          "output_type": "stream",
          "text": [
            "[INFO 2025-02-19 16:54:23,930] [0] Ed: 124800, train_loss: 1.26687, acc: 0.49111\n",
            "[INFO 2025-02-19 16:54:23,930] [0] Ed: 124800, train_loss: 1.26687, acc: 0.49111\n"
          ]
        },
        {
          "name": "stderr",
          "output_type": "stream",
          "text": [
            "INFO:root:[0] Ed: 128000, train_loss: 1.26729, acc: 0.49098\n"
          ]
        },
        {
          "name": "stdout",
          "output_type": "stream",
          "text": [
            "[INFO 2025-02-19 16:54:39,887] [0] Ed: 128000, train_loss: 1.26729, acc: 0.49098\n",
            "[INFO 2025-02-19 16:54:39,887] [0] Ed: 128000, train_loss: 1.26729, acc: 0.49098\n"
          ]
        },
        {
          "name": "stderr",
          "output_type": "stream",
          "text": [
            "INFO:root:[0] Ed: 131200, train_loss: 1.26690, acc: 0.49113\n"
          ]
        },
        {
          "name": "stdout",
          "output_type": "stream",
          "text": [
            "[INFO 2025-02-19 16:54:55,061] [0] Ed: 131200, train_loss: 1.26690, acc: 0.49113\n",
            "[INFO 2025-02-19 16:54:55,061] [0] Ed: 131200, train_loss: 1.26690, acc: 0.49113\n"
          ]
        },
        {
          "name": "stderr",
          "output_type": "stream",
          "text": [
            "INFO:root:[0] Ed: 134400, train_loss: 1.26695, acc: 0.49087\n"
          ]
        },
        {
          "name": "stdout",
          "output_type": "stream",
          "text": [
            "[INFO 2025-02-19 16:55:10,235] [0] Ed: 134400, train_loss: 1.26695, acc: 0.49087\n",
            "[INFO 2025-02-19 16:55:10,235] [0] Ed: 134400, train_loss: 1.26695, acc: 0.49087\n"
          ]
        },
        {
          "name": "stderr",
          "output_type": "stream",
          "text": [
            "INFO:root:[0] Ed: 137600, train_loss: 1.26701, acc: 0.49086\n"
          ]
        },
        {
          "name": "stdout",
          "output_type": "stream",
          "text": [
            "[INFO 2025-02-19 16:55:25,275] [0] Ed: 137600, train_loss: 1.26701, acc: 0.49086\n",
            "[INFO 2025-02-19 16:55:25,275] [0] Ed: 137600, train_loss: 1.26701, acc: 0.49086\n"
          ]
        },
        {
          "name": "stderr",
          "output_type": "stream",
          "text": [
            "INFO:root:[0] Ed: 140800, train_loss: 1.26657, acc: 0.49140\n"
          ]
        },
        {
          "name": "stdout",
          "output_type": "stream",
          "text": [
            "[INFO 2025-02-19 16:55:40,680] [0] Ed: 140800, train_loss: 1.26657, acc: 0.49140\n",
            "[INFO 2025-02-19 16:55:40,680] [0] Ed: 140800, train_loss: 1.26657, acc: 0.49140\n"
          ]
        },
        {
          "name": "stderr",
          "output_type": "stream",
          "text": [
            "INFO:root:[0] Ed: 144000, train_loss: 1.26633, acc: 0.49120\n"
          ]
        },
        {
          "name": "stdout",
          "output_type": "stream",
          "text": [
            "[INFO 2025-02-19 16:55:56,399] [0] Ed: 144000, train_loss: 1.26633, acc: 0.49120\n",
            "[INFO 2025-02-19 16:55:56,399] [0] Ed: 144000, train_loss: 1.26633, acc: 0.49120\n"
          ]
        },
        {
          "name": "stderr",
          "output_type": "stream",
          "text": [
            "INFO:root:[0] Ed: 147200, train_loss: 1.26605, acc: 0.49135\n"
          ]
        },
        {
          "name": "stdout",
          "output_type": "stream",
          "text": [
            "[INFO 2025-02-19 16:56:11,581] [0] Ed: 147200, train_loss: 1.26605, acc: 0.49135\n",
            "[INFO 2025-02-19 16:56:11,581] [0] Ed: 147200, train_loss: 1.26605, acc: 0.49135\n"
          ]
        },
        {
          "name": "stderr",
          "output_type": "stream",
          "text": [
            "INFO:root:[0] Ed: 150400, train_loss: 1.26549, acc: 0.49150\n"
          ]
        },
        {
          "name": "stdout",
          "output_type": "stream",
          "text": [
            "[INFO 2025-02-19 16:56:26,641] [0] Ed: 150400, train_loss: 1.26549, acc: 0.49150\n",
            "[INFO 2025-02-19 16:56:26,641] [0] Ed: 150400, train_loss: 1.26549, acc: 0.49150\n"
          ]
        },
        {
          "name": "stderr",
          "output_type": "stream",
          "text": [
            "INFO:root:[0] Ed: 153600, train_loss: 1.26506, acc: 0.49158\n"
          ]
        },
        {
          "name": "stdout",
          "output_type": "stream",
          "text": [
            "[INFO 2025-02-19 16:56:41,619] [0] Ed: 153600, train_loss: 1.26506, acc: 0.49158\n",
            "[INFO 2025-02-19 16:56:41,619] [0] Ed: 153600, train_loss: 1.26506, acc: 0.49158\n"
          ]
        },
        {
          "name": "stderr",
          "output_type": "stream",
          "text": [
            "INFO:root:[0] Ed: 156800, train_loss: 1.26458, acc: 0.49180\n"
          ]
        },
        {
          "name": "stdout",
          "output_type": "stream",
          "text": [
            "[INFO 2025-02-19 16:56:56,805] [0] Ed: 156800, train_loss: 1.26458, acc: 0.49180\n",
            "[INFO 2025-02-19 16:56:56,805] [0] Ed: 156800, train_loss: 1.26458, acc: 0.49180\n"
          ]
        },
        {
          "name": "stderr",
          "output_type": "stream",
          "text": [
            "INFO:root:[0] Ed: 160000, train_loss: 1.26417, acc: 0.49222\n"
          ]
        },
        {
          "name": "stdout",
          "output_type": "stream",
          "text": [
            "[INFO 2025-02-19 16:57:12,824] [0] Ed: 160000, train_loss: 1.26417, acc: 0.49222\n",
            "[INFO 2025-02-19 16:57:12,824] [0] Ed: 160000, train_loss: 1.26417, acc: 0.49222\n"
          ]
        },
        {
          "name": "stderr",
          "output_type": "stream",
          "text": [
            "INFO:root:[0] Ed: 163200, train_loss: 1.26406, acc: 0.49224\n"
          ]
        },
        {
          "name": "stdout",
          "output_type": "stream",
          "text": [
            "[INFO 2025-02-19 16:57:28,384] [0] Ed: 163200, train_loss: 1.26406, acc: 0.49224\n",
            "[INFO 2025-02-19 16:57:28,384] [0] Ed: 163200, train_loss: 1.26406, acc: 0.49224\n"
          ]
        },
        {
          "name": "stderr",
          "output_type": "stream",
          "text": [
            "INFO:root:[0] Ed: 166400, train_loss: 1.26425, acc: 0.49208\n"
          ]
        },
        {
          "name": "stdout",
          "output_type": "stream",
          "text": [
            "[INFO 2025-02-19 16:57:43,805] [0] Ed: 166400, train_loss: 1.26425, acc: 0.49208\n",
            "[INFO 2025-02-19 16:57:43,805] [0] Ed: 166400, train_loss: 1.26425, acc: 0.49208\n"
          ]
        },
        {
          "name": "stderr",
          "output_type": "stream",
          "text": [
            "INFO:root:[0] Ed: 169600, train_loss: 1.26431, acc: 0.49228\n"
          ]
        },
        {
          "name": "stdout",
          "output_type": "stream",
          "text": [
            "[INFO 2025-02-19 16:57:59,364] [0] Ed: 169600, train_loss: 1.26431, acc: 0.49228\n",
            "[INFO 2025-02-19 16:57:59,364] [0] Ed: 169600, train_loss: 1.26431, acc: 0.49228\n"
          ]
        },
        {
          "name": "stderr",
          "output_type": "stream",
          "text": [
            "INFO:root:[0] Ed: 172800, train_loss: 1.26397, acc: 0.49239\n"
          ]
        },
        {
          "name": "stdout",
          "output_type": "stream",
          "text": [
            "[INFO 2025-02-19 16:58:15,868] [0] Ed: 172800, train_loss: 1.26397, acc: 0.49239\n",
            "[INFO 2025-02-19 16:58:15,868] [0] Ed: 172800, train_loss: 1.26397, acc: 0.49239\n"
          ]
        },
        {
          "name": "stderr",
          "output_type": "stream",
          "text": [
            "INFO:root:[0] Ed: 176000, train_loss: 1.26374, acc: 0.49251\n"
          ]
        },
        {
          "name": "stdout",
          "output_type": "stream",
          "text": [
            "[INFO 2025-02-19 16:58:31,296] [0] Ed: 176000, train_loss: 1.26374, acc: 0.49251\n",
            "[INFO 2025-02-19 16:58:31,296] [0] Ed: 176000, train_loss: 1.26374, acc: 0.49251\n"
          ]
        },
        {
          "name": "stderr",
          "output_type": "stream",
          "text": [
            "INFO:root:[0] Ed: 179200, train_loss: 1.26344, acc: 0.49260\n"
          ]
        },
        {
          "name": "stdout",
          "output_type": "stream",
          "text": [
            "[INFO 2025-02-19 16:58:46,544] [0] Ed: 179200, train_loss: 1.26344, acc: 0.49260\n",
            "[INFO 2025-02-19 16:58:46,544] [0] Ed: 179200, train_loss: 1.26344, acc: 0.49260\n"
          ]
        },
        {
          "name": "stderr",
          "output_type": "stream",
          "text": [
            "INFO:root:[0] Ed: 182400, train_loss: 1.26334, acc: 0.49270\n"
          ]
        },
        {
          "name": "stdout",
          "output_type": "stream",
          "text": [
            "[INFO 2025-02-19 16:59:01,924] [0] Ed: 182400, train_loss: 1.26334, acc: 0.49270\n",
            "[INFO 2025-02-19 16:59:01,924] [0] Ed: 182400, train_loss: 1.26334, acc: 0.49270\n"
          ]
        },
        {
          "name": "stderr",
          "output_type": "stream",
          "text": [
            "INFO:root:[0] Ed: 185600, train_loss: 1.26289, acc: 0.49289\n"
          ]
        },
        {
          "name": "stdout",
          "output_type": "stream",
          "text": [
            "[INFO 2025-02-19 16:59:17,575] [0] Ed: 185600, train_loss: 1.26289, acc: 0.49289\n",
            "[INFO 2025-02-19 16:59:17,575] [0] Ed: 185600, train_loss: 1.26289, acc: 0.49289\n"
          ]
        },
        {
          "name": "stderr",
          "output_type": "stream",
          "text": [
            "INFO:root:[0] Ed: 188800, train_loss: 1.26263, acc: 0.49307\n"
          ]
        },
        {
          "name": "stdout",
          "output_type": "stream",
          "text": [
            "[INFO 2025-02-19 16:59:32,759] [0] Ed: 188800, train_loss: 1.26263, acc: 0.49307\n",
            "[INFO 2025-02-19 16:59:32,759] [0] Ed: 188800, train_loss: 1.26263, acc: 0.49307\n"
          ]
        },
        {
          "name": "stderr",
          "output_type": "stream",
          "text": [
            "INFO:root:[0] Ed: 192000, train_loss: 1.26268, acc: 0.49304\n"
          ]
        },
        {
          "name": "stdout",
          "output_type": "stream",
          "text": [
            "[INFO 2025-02-19 16:59:47,657] [0] Ed: 192000, train_loss: 1.26268, acc: 0.49304\n",
            "[INFO 2025-02-19 16:59:47,657] [0] Ed: 192000, train_loss: 1.26268, acc: 0.49304\n"
          ]
        },
        {
          "name": "stderr",
          "output_type": "stream",
          "text": [
            "INFO:root:[0] Ed: 195200, train_loss: 1.26246, acc: 0.49318\n"
          ]
        },
        {
          "name": "stdout",
          "output_type": "stream",
          "text": [
            "[INFO 2025-02-19 17:00:02,581] [0] Ed: 195200, train_loss: 1.26246, acc: 0.49318\n",
            "[INFO 2025-02-19 17:00:02,581] [0] Ed: 195200, train_loss: 1.26246, acc: 0.49318\n"
          ]
        },
        {
          "name": "stderr",
          "output_type": "stream",
          "text": [
            "INFO:root:[0] Ed: 198400, train_loss: 1.26239, acc: 0.49323\n"
          ]
        },
        {
          "name": "stdout",
          "output_type": "stream",
          "text": [
            "[INFO 2025-02-19 17:00:17,532] [0] Ed: 198400, train_loss: 1.26239, acc: 0.49323\n",
            "[INFO 2025-02-19 17:00:17,532] [0] Ed: 198400, train_loss: 1.26239, acc: 0.49323\n"
          ]
        },
        {
          "name": "stderr",
          "output_type": "stream",
          "text": [
            "INFO:root:[0] Ed: 201600, train_loss: 1.26211, acc: 0.49333\n"
          ]
        },
        {
          "name": "stdout",
          "output_type": "stream",
          "text": [
            "[INFO 2025-02-19 17:00:33,195] [0] Ed: 201600, train_loss: 1.26211, acc: 0.49333\n",
            "[INFO 2025-02-19 17:00:33,195] [0] Ed: 201600, train_loss: 1.26211, acc: 0.49333\n"
          ]
        },
        {
          "name": "stderr",
          "output_type": "stream",
          "text": [
            "INFO:root:[0] Ed: 204800, train_loss: 1.26221, acc: 0.49328\n"
          ]
        },
        {
          "name": "stdout",
          "output_type": "stream",
          "text": [
            "[INFO 2025-02-19 17:00:48,713] [0] Ed: 204800, train_loss: 1.26221, acc: 0.49328\n",
            "[INFO 2025-02-19 17:00:48,713] [0] Ed: 204800, train_loss: 1.26221, acc: 0.49328\n"
          ]
        },
        {
          "name": "stderr",
          "output_type": "stream",
          "text": [
            "INFO:root:[0] Ed: 208000, train_loss: 1.26232, acc: 0.49324\n"
          ]
        },
        {
          "name": "stdout",
          "output_type": "stream",
          "text": [
            "[INFO 2025-02-19 17:01:04,210] [0] Ed: 208000, train_loss: 1.26232, acc: 0.49324\n",
            "[INFO 2025-02-19 17:01:04,210] [0] Ed: 208000, train_loss: 1.26232, acc: 0.49324\n"
          ]
        },
        {
          "name": "stderr",
          "output_type": "stream",
          "text": [
            "INFO:root:[0] Ed: 211200, train_loss: 1.26228, acc: 0.49316\n"
          ]
        },
        {
          "name": "stdout",
          "output_type": "stream",
          "text": [
            "[INFO 2025-02-19 17:01:19,581] [0] Ed: 211200, train_loss: 1.26228, acc: 0.49316\n",
            "[INFO 2025-02-19 17:01:19,581] [0] Ed: 211200, train_loss: 1.26228, acc: 0.49316\n"
          ]
        },
        {
          "name": "stderr",
          "output_type": "stream",
          "text": [
            "INFO:root:[0] Ed: 214400, train_loss: 1.26219, acc: 0.49319\n"
          ]
        },
        {
          "name": "stdout",
          "output_type": "stream",
          "text": [
            "[INFO 2025-02-19 17:01:35,356] [0] Ed: 214400, train_loss: 1.26219, acc: 0.49319\n",
            "[INFO 2025-02-19 17:01:35,356] [0] Ed: 214400, train_loss: 1.26219, acc: 0.49319\n"
          ]
        },
        {
          "name": "stderr",
          "output_type": "stream",
          "text": [
            "INFO:root:[0] Ed: 217600, train_loss: 1.26200, acc: 0.49303\n"
          ]
        },
        {
          "name": "stdout",
          "output_type": "stream",
          "text": [
            "[INFO 2025-02-19 17:01:51,452] [0] Ed: 217600, train_loss: 1.26200, acc: 0.49303\n",
            "[INFO 2025-02-19 17:01:51,452] [0] Ed: 217600, train_loss: 1.26200, acc: 0.49303\n"
          ]
        },
        {
          "name": "stderr",
          "output_type": "stream",
          "text": [
            "INFO:root:[0] Ed: 220800, train_loss: 1.26179, acc: 0.49301\n"
          ]
        },
        {
          "name": "stdout",
          "output_type": "stream",
          "text": [
            "[INFO 2025-02-19 17:02:06,896] [0] Ed: 220800, train_loss: 1.26179, acc: 0.49301\n",
            "[INFO 2025-02-19 17:02:06,896] [0] Ed: 220800, train_loss: 1.26179, acc: 0.49301\n"
          ]
        },
        {
          "name": "stderr",
          "output_type": "stream",
          "text": [
            "INFO:root:[0] Ed: 224000, train_loss: 1.26132, acc: 0.49322\n"
          ]
        },
        {
          "name": "stdout",
          "output_type": "stream",
          "text": [
            "[INFO 2025-02-19 17:02:22,385] [0] Ed: 224000, train_loss: 1.26132, acc: 0.49322\n",
            "[INFO 2025-02-19 17:02:22,385] [0] Ed: 224000, train_loss: 1.26132, acc: 0.49322\n"
          ]
        },
        {
          "name": "stderr",
          "output_type": "stream",
          "text": [
            "INFO:root:[0] Ed: 227200, train_loss: 1.26100, acc: 0.49339\n"
          ]
        },
        {
          "name": "stdout",
          "output_type": "stream",
          "text": [
            "[INFO 2025-02-19 17:02:37,716] [0] Ed: 227200, train_loss: 1.26100, acc: 0.49339\n",
            "[INFO 2025-02-19 17:02:37,716] [0] Ed: 227200, train_loss: 1.26100, acc: 0.49339\n"
          ]
        },
        {
          "name": "stderr",
          "output_type": "stream",
          "text": [
            "INFO:root:[0] Ed: 230400, train_loss: 1.26060, acc: 0.49352\n"
          ]
        },
        {
          "name": "stdout",
          "output_type": "stream",
          "text": [
            "[INFO 2025-02-19 17:02:53,455] [0] Ed: 230400, train_loss: 1.26060, acc: 0.49352\n",
            "[INFO 2025-02-19 17:02:53,455] [0] Ed: 230400, train_loss: 1.26060, acc: 0.49352\n"
          ]
        },
        {
          "name": "stderr",
          "output_type": "stream",
          "text": [
            "INFO:root:[0] Ed: 233600, train_loss: 1.26016, acc: 0.49368\n"
          ]
        },
        {
          "name": "stdout",
          "output_type": "stream",
          "text": [
            "[INFO 2025-02-19 17:03:08,710] [0] Ed: 233600, train_loss: 1.26016, acc: 0.49368\n",
            "[INFO 2025-02-19 17:03:08,710] [0] Ed: 233600, train_loss: 1.26016, acc: 0.49368\n"
          ]
        },
        {
          "name": "stderr",
          "output_type": "stream",
          "text": [
            "INFO:root:Training finish.\n"
          ]
        },
        {
          "name": "stdout",
          "output_type": "stream",
          "text": [
            "[INFO 2025-02-19 17:03:21,699] Training finish.\n",
            "[INFO 2025-02-19 17:03:21,699] Training finish.\n"
          ]
        },
        {
          "name": "stderr",
          "output_type": "stream",
          "text": [
            "INFO:root:Model saved to /content/model/epoch-3.pt.\n"
          ]
        },
        {
          "name": "stdout",
          "output_type": "stream",
          "text": [
            "[INFO 2025-02-19 17:03:21,745] Model saved to /content/model/epoch-3.pt.\n",
            "[INFO 2025-02-19 17:03:21,745] Model saved to /content/model/epoch-3.pt.\n"
          ]
        },
        {
          "name": "stderr",
          "output_type": "stream",
          "text": [
            "INFO:root:[0] Ed: 0, train_loss: inf, acc: inf\n"
          ]
        },
        {
          "name": "stdout",
          "output_type": "stream",
          "text": [
            "[INFO 2025-02-19 17:03:21,909] [0] Ed: 0, train_loss: inf, acc: inf\n",
            "[INFO 2025-02-19 17:03:21,909] [0] Ed: 0, train_loss: inf, acc: inf\n"
          ]
        },
        {
          "name": "stderr",
          "output_type": "stream",
          "text": [
            "INFO:root:[0] Ed: 3200, train_loss: 1.26644, acc: 0.50313\n"
          ]
        },
        {
          "name": "stdout",
          "output_type": "stream",
          "text": [
            "[INFO 2025-02-19 17:03:36,959] [0] Ed: 3200, train_loss: 1.26644, acc: 0.50313\n",
            "[INFO 2025-02-19 17:03:36,959] [0] Ed: 3200, train_loss: 1.26644, acc: 0.50313\n"
          ]
        },
        {
          "name": "stderr",
          "output_type": "stream",
          "text": [
            "INFO:root:[0] Ed: 6400, train_loss: 1.24762, acc: 0.50516\n"
          ]
        },
        {
          "name": "stdout",
          "output_type": "stream",
          "text": [
            "[INFO 2025-02-19 17:03:51,951] [0] Ed: 6400, train_loss: 1.24762, acc: 0.50516\n",
            "[INFO 2025-02-19 17:03:51,951] [0] Ed: 6400, train_loss: 1.24762, acc: 0.50516\n"
          ]
        },
        {
          "name": "stderr",
          "output_type": "stream",
          "text": [
            "INFO:root:[0] Ed: 9600, train_loss: 1.24751, acc: 0.50458\n"
          ]
        },
        {
          "name": "stdout",
          "output_type": "stream",
          "text": [
            "[INFO 2025-02-19 17:04:07,163] [0] Ed: 9600, train_loss: 1.24751, acc: 0.50458\n",
            "[INFO 2025-02-19 17:04:07,163] [0] Ed: 9600, train_loss: 1.24751, acc: 0.50458\n"
          ]
        },
        {
          "name": "stderr",
          "output_type": "stream",
          "text": [
            "INFO:root:[0] Ed: 12800, train_loss: 1.24455, acc: 0.50648\n"
          ]
        },
        {
          "name": "stdout",
          "output_type": "stream",
          "text": [
            "[INFO 2025-02-19 17:04:23,017] [0] Ed: 12800, train_loss: 1.24455, acc: 0.50648\n",
            "[INFO 2025-02-19 17:04:23,017] [0] Ed: 12800, train_loss: 1.24455, acc: 0.50648\n"
          ]
        },
        {
          "name": "stderr",
          "output_type": "stream",
          "text": [
            "INFO:root:[0] Ed: 16000, train_loss: 1.24895, acc: 0.50144\n"
          ]
        },
        {
          "name": "stdout",
          "output_type": "stream",
          "text": [
            "[INFO 2025-02-19 17:04:38,101] [0] Ed: 16000, train_loss: 1.24895, acc: 0.50144\n",
            "[INFO 2025-02-19 17:04:38,101] [0] Ed: 16000, train_loss: 1.24895, acc: 0.50144\n"
          ]
        },
        {
          "name": "stderr",
          "output_type": "stream",
          "text": [
            "INFO:root:[0] Ed: 19200, train_loss: 1.24942, acc: 0.49906\n"
          ]
        },
        {
          "name": "stdout",
          "output_type": "stream",
          "text": [
            "[INFO 2025-02-19 17:04:52,984] [0] Ed: 19200, train_loss: 1.24942, acc: 0.49906\n",
            "[INFO 2025-02-19 17:04:52,984] [0] Ed: 19200, train_loss: 1.24942, acc: 0.49906\n"
          ]
        },
        {
          "name": "stderr",
          "output_type": "stream",
          "text": [
            "INFO:root:[0] Ed: 22400, train_loss: 1.24793, acc: 0.49897\n"
          ]
        },
        {
          "name": "stdout",
          "output_type": "stream",
          "text": [
            "[INFO 2025-02-19 17:05:07,949] [0] Ed: 22400, train_loss: 1.24793, acc: 0.49897\n",
            "[INFO 2025-02-19 17:05:07,949] [0] Ed: 22400, train_loss: 1.24793, acc: 0.49897\n"
          ]
        },
        {
          "name": "stderr",
          "output_type": "stream",
          "text": [
            "INFO:root:[0] Ed: 25600, train_loss: 1.24553, acc: 0.50102\n"
          ]
        },
        {
          "name": "stdout",
          "output_type": "stream",
          "text": [
            "[INFO 2025-02-19 17:05:22,884] [0] Ed: 25600, train_loss: 1.24553, acc: 0.50102\n",
            "[INFO 2025-02-19 17:05:22,884] [0] Ed: 25600, train_loss: 1.24553, acc: 0.50102\n"
          ]
        },
        {
          "name": "stderr",
          "output_type": "stream",
          "text": [
            "INFO:root:[0] Ed: 28800, train_loss: 1.24538, acc: 0.50181\n"
          ]
        },
        {
          "name": "stdout",
          "output_type": "stream",
          "text": [
            "[INFO 2025-02-19 17:05:38,501] [0] Ed: 28800, train_loss: 1.24538, acc: 0.50181\n",
            "[INFO 2025-02-19 17:05:38,501] [0] Ed: 28800, train_loss: 1.24538, acc: 0.50181\n"
          ]
        },
        {
          "name": "stderr",
          "output_type": "stream",
          "text": [
            "INFO:root:[0] Ed: 32000, train_loss: 1.24612, acc: 0.50084\n"
          ]
        },
        {
          "name": "stdout",
          "output_type": "stream",
          "text": [
            "[INFO 2025-02-19 17:05:53,700] [0] Ed: 32000, train_loss: 1.24612, acc: 0.50084\n",
            "[INFO 2025-02-19 17:05:53,700] [0] Ed: 32000, train_loss: 1.24612, acc: 0.50084\n"
          ]
        },
        {
          "name": "stderr",
          "output_type": "stream",
          "text": [
            "INFO:root:[0] Ed: 35200, train_loss: 1.24773, acc: 0.50014\n"
          ]
        },
        {
          "name": "stdout",
          "output_type": "stream",
          "text": [
            "[INFO 2025-02-19 17:06:08,686] [0] Ed: 35200, train_loss: 1.24773, acc: 0.50014\n",
            "[INFO 2025-02-19 17:06:08,686] [0] Ed: 35200, train_loss: 1.24773, acc: 0.50014\n"
          ]
        },
        {
          "name": "stderr",
          "output_type": "stream",
          "text": [
            "INFO:root:[0] Ed: 38400, train_loss: 1.24617, acc: 0.50104\n"
          ]
        },
        {
          "name": "stdout",
          "output_type": "stream",
          "text": [
            "[INFO 2025-02-19 17:06:23,811] [0] Ed: 38400, train_loss: 1.24617, acc: 0.50104\n",
            "[INFO 2025-02-19 17:06:23,811] [0] Ed: 38400, train_loss: 1.24617, acc: 0.50104\n"
          ]
        },
        {
          "name": "stderr",
          "output_type": "stream",
          "text": [
            "INFO:root:[0] Ed: 41600, train_loss: 1.24382, acc: 0.50221\n"
          ]
        },
        {
          "name": "stdout",
          "output_type": "stream",
          "text": [
            "[INFO 2025-02-19 17:06:38,799] [0] Ed: 41600, train_loss: 1.24382, acc: 0.50221\n",
            "[INFO 2025-02-19 17:06:38,799] [0] Ed: 41600, train_loss: 1.24382, acc: 0.50221\n"
          ]
        },
        {
          "name": "stderr",
          "output_type": "stream",
          "text": [
            "INFO:root:[0] Ed: 44800, train_loss: 1.24292, acc: 0.50259\n"
          ]
        },
        {
          "name": "stdout",
          "output_type": "stream",
          "text": [
            "[INFO 2025-02-19 17:06:54,343] [0] Ed: 44800, train_loss: 1.24292, acc: 0.50259\n",
            "[INFO 2025-02-19 17:06:54,343] [0] Ed: 44800, train_loss: 1.24292, acc: 0.50259\n"
          ]
        },
        {
          "name": "stderr",
          "output_type": "stream",
          "text": [
            "INFO:root:[0] Ed: 48000, train_loss: 1.24238, acc: 0.50233\n"
          ]
        },
        {
          "name": "stdout",
          "output_type": "stream",
          "text": [
            "[INFO 2025-02-19 17:07:09,461] [0] Ed: 48000, train_loss: 1.24238, acc: 0.50233\n",
            "[INFO 2025-02-19 17:07:09,461] [0] Ed: 48000, train_loss: 1.24238, acc: 0.50233\n"
          ]
        },
        {
          "name": "stderr",
          "output_type": "stream",
          "text": [
            "INFO:root:[0] Ed: 51200, train_loss: 1.24184, acc: 0.50264\n"
          ]
        },
        {
          "name": "stdout",
          "output_type": "stream",
          "text": [
            "[INFO 2025-02-19 17:07:24,527] [0] Ed: 51200, train_loss: 1.24184, acc: 0.50264\n",
            "[INFO 2025-02-19 17:07:24,527] [0] Ed: 51200, train_loss: 1.24184, acc: 0.50264\n"
          ]
        },
        {
          "name": "stderr",
          "output_type": "stream",
          "text": [
            "INFO:root:[0] Ed: 54400, train_loss: 1.24123, acc: 0.50301\n"
          ]
        },
        {
          "name": "stdout",
          "output_type": "stream",
          "text": [
            "[INFO 2025-02-19 17:07:39,757] [0] Ed: 54400, train_loss: 1.24123, acc: 0.50301\n",
            "[INFO 2025-02-19 17:07:39,757] [0] Ed: 54400, train_loss: 1.24123, acc: 0.50301\n"
          ]
        },
        {
          "name": "stderr",
          "output_type": "stream",
          "text": [
            "INFO:root:[0] Ed: 57600, train_loss: 1.24106, acc: 0.50314\n"
          ]
        },
        {
          "name": "stdout",
          "output_type": "stream",
          "text": [
            "[INFO 2025-02-19 17:07:55,114] [0] Ed: 57600, train_loss: 1.24106, acc: 0.50314\n",
            "[INFO 2025-02-19 17:07:55,114] [0] Ed: 57600, train_loss: 1.24106, acc: 0.50314\n"
          ]
        },
        {
          "name": "stderr",
          "output_type": "stream",
          "text": [
            "INFO:root:[0] Ed: 60800, train_loss: 1.24124, acc: 0.50265\n"
          ]
        },
        {
          "name": "stdout",
          "output_type": "stream",
          "text": [
            "[INFO 2025-02-19 17:08:11,114] [0] Ed: 60800, train_loss: 1.24124, acc: 0.50265\n",
            "[INFO 2025-02-19 17:08:11,114] [0] Ed: 60800, train_loss: 1.24124, acc: 0.50265\n"
          ]
        },
        {
          "name": "stderr",
          "output_type": "stream",
          "text": [
            "INFO:root:[0] Ed: 64000, train_loss: 1.24027, acc: 0.50298\n"
          ]
        },
        {
          "name": "stdout",
          "output_type": "stream",
          "text": [
            "[INFO 2025-02-19 17:08:26,379] [0] Ed: 64000, train_loss: 1.24027, acc: 0.50298\n",
            "[INFO 2025-02-19 17:08:26,379] [0] Ed: 64000, train_loss: 1.24027, acc: 0.50298\n"
          ]
        },
        {
          "name": "stderr",
          "output_type": "stream",
          "text": [
            "INFO:root:[0] Ed: 67200, train_loss: 1.23957, acc: 0.50339\n"
          ]
        },
        {
          "name": "stdout",
          "output_type": "stream",
          "text": [
            "[INFO 2025-02-19 17:08:41,593] [0] Ed: 67200, train_loss: 1.23957, acc: 0.50339\n",
            "[INFO 2025-02-19 17:08:41,593] [0] Ed: 67200, train_loss: 1.23957, acc: 0.50339\n"
          ]
        },
        {
          "name": "stderr",
          "output_type": "stream",
          "text": [
            "INFO:root:[0] Ed: 70400, train_loss: 1.23880, acc: 0.50361\n"
          ]
        },
        {
          "name": "stdout",
          "output_type": "stream",
          "text": [
            "[INFO 2025-02-19 17:08:56,810] [0] Ed: 70400, train_loss: 1.23880, acc: 0.50361\n",
            "[INFO 2025-02-19 17:08:56,810] [0] Ed: 70400, train_loss: 1.23880, acc: 0.50361\n"
          ]
        },
        {
          "name": "stderr",
          "output_type": "stream",
          "text": [
            "INFO:root:[0] Ed: 73600, train_loss: 1.23942, acc: 0.50306\n"
          ]
        },
        {
          "name": "stdout",
          "output_type": "stream",
          "text": [
            "[INFO 2025-02-19 17:09:12,255] [0] Ed: 73600, train_loss: 1.23942, acc: 0.50306\n",
            "[INFO 2025-02-19 17:09:12,255] [0] Ed: 73600, train_loss: 1.23942, acc: 0.50306\n"
          ]
        },
        {
          "name": "stderr",
          "output_type": "stream",
          "text": [
            "INFO:root:[0] Ed: 76800, train_loss: 1.23848, acc: 0.50357\n"
          ]
        },
        {
          "name": "stdout",
          "output_type": "stream",
          "text": [
            "[INFO 2025-02-19 17:09:27,795] [0] Ed: 76800, train_loss: 1.23848, acc: 0.50357\n",
            "[INFO 2025-02-19 17:09:27,795] [0] Ed: 76800, train_loss: 1.23848, acc: 0.50357\n"
          ]
        },
        {
          "name": "stderr",
          "output_type": "stream",
          "text": [
            "INFO:root:[0] Ed: 80000, train_loss: 1.23902, acc: 0.50335\n"
          ]
        },
        {
          "name": "stdout",
          "output_type": "stream",
          "text": [
            "[INFO 2025-02-19 17:09:43,060] [0] Ed: 80000, train_loss: 1.23902, acc: 0.50335\n",
            "[INFO 2025-02-19 17:09:43,060] [0] Ed: 80000, train_loss: 1.23902, acc: 0.50335\n"
          ]
        },
        {
          "name": "stderr",
          "output_type": "stream",
          "text": [
            "INFO:root:[0] Ed: 83200, train_loss: 1.23830, acc: 0.50399\n"
          ]
        },
        {
          "name": "stdout",
          "output_type": "stream",
          "text": [
            "[INFO 2025-02-19 17:09:58,024] [0] Ed: 83200, train_loss: 1.23830, acc: 0.50399\n",
            "[INFO 2025-02-19 17:09:58,024] [0] Ed: 83200, train_loss: 1.23830, acc: 0.50399\n"
          ]
        },
        {
          "name": "stderr",
          "output_type": "stream",
          "text": [
            "INFO:root:[0] Ed: 86400, train_loss: 1.23731, acc: 0.50448\n"
          ]
        },
        {
          "name": "stdout",
          "output_type": "stream",
          "text": [
            "[INFO 2025-02-19 17:10:12,842] [0] Ed: 86400, train_loss: 1.23731, acc: 0.50448\n",
            "[INFO 2025-02-19 17:10:12,842] [0] Ed: 86400, train_loss: 1.23731, acc: 0.50448\n"
          ]
        },
        {
          "name": "stderr",
          "output_type": "stream",
          "text": [
            "INFO:root:[0] Ed: 89600, train_loss: 1.23602, acc: 0.50525\n"
          ]
        },
        {
          "name": "stdout",
          "output_type": "stream",
          "text": [
            "[INFO 2025-02-19 17:10:28,033] [0] Ed: 89600, train_loss: 1.23602, acc: 0.50525\n",
            "[INFO 2025-02-19 17:10:28,033] [0] Ed: 89600, train_loss: 1.23602, acc: 0.50525\n"
          ]
        },
        {
          "name": "stderr",
          "output_type": "stream",
          "text": [
            "INFO:root:[0] Ed: 92800, train_loss: 1.23652, acc: 0.50494\n"
          ]
        },
        {
          "name": "stdout",
          "output_type": "stream",
          "text": [
            "[INFO 2025-02-19 17:10:43,497] [0] Ed: 92800, train_loss: 1.23652, acc: 0.50494\n",
            "[INFO 2025-02-19 17:10:43,497] [0] Ed: 92800, train_loss: 1.23652, acc: 0.50494\n"
          ]
        },
        {
          "name": "stderr",
          "output_type": "stream",
          "text": [
            "INFO:root:[0] Ed: 96000, train_loss: 1.23615, acc: 0.50517\n"
          ]
        },
        {
          "name": "stdout",
          "output_type": "stream",
          "text": [
            "[INFO 2025-02-19 17:10:58,467] [0] Ed: 96000, train_loss: 1.23615, acc: 0.50517\n",
            "[INFO 2025-02-19 17:10:58,467] [0] Ed: 96000, train_loss: 1.23615, acc: 0.50517\n"
          ]
        },
        {
          "name": "stderr",
          "output_type": "stream",
          "text": [
            "INFO:root:[0] Ed: 99200, train_loss: 1.23594, acc: 0.50529\n"
          ]
        },
        {
          "name": "stdout",
          "output_type": "stream",
          "text": [
            "[INFO 2025-02-19 17:11:13,331] [0] Ed: 99200, train_loss: 1.23594, acc: 0.50529\n",
            "[INFO 2025-02-19 17:11:13,331] [0] Ed: 99200, train_loss: 1.23594, acc: 0.50529\n"
          ]
        },
        {
          "name": "stderr",
          "output_type": "stream",
          "text": [
            "INFO:root:[0] Ed: 102400, train_loss: 1.23477, acc: 0.50557\n"
          ]
        },
        {
          "name": "stdout",
          "output_type": "stream",
          "text": [
            "[INFO 2025-02-19 17:11:28,330] [0] Ed: 102400, train_loss: 1.23477, acc: 0.50557\n",
            "[INFO 2025-02-19 17:11:28,330] [0] Ed: 102400, train_loss: 1.23477, acc: 0.50557\n"
          ]
        },
        {
          "name": "stderr",
          "output_type": "stream",
          "text": [
            "INFO:root:[0] Ed: 105600, train_loss: 1.23377, acc: 0.50599\n"
          ]
        },
        {
          "name": "stdout",
          "output_type": "stream",
          "text": [
            "[INFO 2025-02-19 17:11:43,242] [0] Ed: 105600, train_loss: 1.23377, acc: 0.50599\n",
            "[INFO 2025-02-19 17:11:43,242] [0] Ed: 105600, train_loss: 1.23377, acc: 0.50599\n"
          ]
        },
        {
          "name": "stderr",
          "output_type": "stream",
          "text": [
            "INFO:root:[0] Ed: 108800, train_loss: 1.23373, acc: 0.50599\n"
          ]
        },
        {
          "name": "stdout",
          "output_type": "stream",
          "text": [
            "[INFO 2025-02-19 17:11:58,935] [0] Ed: 108800, train_loss: 1.23373, acc: 0.50599\n",
            "[INFO 2025-02-19 17:11:58,935] [0] Ed: 108800, train_loss: 1.23373, acc: 0.50599\n"
          ]
        },
        {
          "name": "stderr",
          "output_type": "stream",
          "text": [
            "INFO:root:[0] Ed: 112000, train_loss: 1.23371, acc: 0.50621\n"
          ]
        },
        {
          "name": "stdout",
          "output_type": "stream",
          "text": [
            "[INFO 2025-02-19 17:12:14,010] [0] Ed: 112000, train_loss: 1.23371, acc: 0.50621\n",
            "[INFO 2025-02-19 17:12:14,010] [0] Ed: 112000, train_loss: 1.23371, acc: 0.50621\n"
          ]
        },
        {
          "name": "stderr",
          "output_type": "stream",
          "text": [
            "INFO:root:[0] Ed: 115200, train_loss: 1.23334, acc: 0.50626\n"
          ]
        },
        {
          "name": "stdout",
          "output_type": "stream",
          "text": [
            "[INFO 2025-02-19 17:12:29,014] [0] Ed: 115200, train_loss: 1.23334, acc: 0.50626\n",
            "[INFO 2025-02-19 17:12:29,014] [0] Ed: 115200, train_loss: 1.23334, acc: 0.50626\n"
          ]
        },
        {
          "name": "stderr",
          "output_type": "stream",
          "text": [
            "INFO:root:[0] Ed: 118400, train_loss: 1.23214, acc: 0.50676\n"
          ]
        },
        {
          "name": "stdout",
          "output_type": "stream",
          "text": [
            "[INFO 2025-02-19 17:12:44,007] [0] Ed: 118400, train_loss: 1.23214, acc: 0.50676\n",
            "[INFO 2025-02-19 17:12:44,007] [0] Ed: 118400, train_loss: 1.23214, acc: 0.50676\n"
          ]
        },
        {
          "name": "stderr",
          "output_type": "stream",
          "text": [
            "INFO:root:[0] Ed: 121600, train_loss: 1.23187, acc: 0.50687\n"
          ]
        },
        {
          "name": "stdout",
          "output_type": "stream",
          "text": [
            "[INFO 2025-02-19 17:12:59,232] [0] Ed: 121600, train_loss: 1.23187, acc: 0.50687\n",
            "[INFO 2025-02-19 17:12:59,232] [0] Ed: 121600, train_loss: 1.23187, acc: 0.50687\n"
          ]
        },
        {
          "name": "stderr",
          "output_type": "stream",
          "text": [
            "INFO:root:[0] Ed: 124800, train_loss: 1.23180, acc: 0.50693\n"
          ]
        },
        {
          "name": "stdout",
          "output_type": "stream",
          "text": [
            "[INFO 2025-02-19 17:13:15,117] [0] Ed: 124800, train_loss: 1.23180, acc: 0.50693\n",
            "[INFO 2025-02-19 17:13:15,117] [0] Ed: 124800, train_loss: 1.23180, acc: 0.50693\n"
          ]
        },
        {
          "name": "stderr",
          "output_type": "stream",
          "text": [
            "INFO:root:[0] Ed: 128000, train_loss: 1.23215, acc: 0.50689\n"
          ]
        },
        {
          "name": "stdout",
          "output_type": "stream",
          "text": [
            "[INFO 2025-02-19 17:13:30,090] [0] Ed: 128000, train_loss: 1.23215, acc: 0.50689\n",
            "[INFO 2025-02-19 17:13:30,090] [0] Ed: 128000, train_loss: 1.23215, acc: 0.50689\n"
          ]
        },
        {
          "name": "stderr",
          "output_type": "stream",
          "text": [
            "INFO:root:[0] Ed: 131200, train_loss: 1.23171, acc: 0.50727\n"
          ]
        },
        {
          "name": "stdout",
          "output_type": "stream",
          "text": [
            "[INFO 2025-02-19 17:13:44,955] [0] Ed: 131200, train_loss: 1.23171, acc: 0.50727\n",
            "[INFO 2025-02-19 17:13:44,955] [0] Ed: 131200, train_loss: 1.23171, acc: 0.50727\n"
          ]
        },
        {
          "name": "stderr",
          "output_type": "stream",
          "text": [
            "INFO:root:[0] Ed: 134400, train_loss: 1.23182, acc: 0.50716\n"
          ]
        },
        {
          "name": "stdout",
          "output_type": "stream",
          "text": [
            "[INFO 2025-02-19 17:14:00,026] [0] Ed: 134400, train_loss: 1.23182, acc: 0.50716\n",
            "[INFO 2025-02-19 17:14:00,026] [0] Ed: 134400, train_loss: 1.23182, acc: 0.50716\n"
          ]
        },
        {
          "name": "stderr",
          "output_type": "stream",
          "text": [
            "INFO:root:[0] Ed: 137600, train_loss: 1.23173, acc: 0.50734\n"
          ]
        },
        {
          "name": "stdout",
          "output_type": "stream",
          "text": [
            "[INFO 2025-02-19 17:14:14,984] [0] Ed: 137600, train_loss: 1.23173, acc: 0.50734\n",
            "[INFO 2025-02-19 17:14:14,984] [0] Ed: 137600, train_loss: 1.23173, acc: 0.50734\n"
          ]
        },
        {
          "name": "stderr",
          "output_type": "stream",
          "text": [
            "INFO:root:[0] Ed: 140800, train_loss: 1.23120, acc: 0.50763\n"
          ]
        },
        {
          "name": "stdout",
          "output_type": "stream",
          "text": [
            "[INFO 2025-02-19 17:14:30,646] [0] Ed: 140800, train_loss: 1.23120, acc: 0.50763\n",
            "[INFO 2025-02-19 17:14:30,646] [0] Ed: 140800, train_loss: 1.23120, acc: 0.50763\n"
          ]
        },
        {
          "name": "stderr",
          "output_type": "stream",
          "text": [
            "INFO:root:[0] Ed: 144000, train_loss: 1.23106, acc: 0.50770\n"
          ]
        },
        {
          "name": "stdout",
          "output_type": "stream",
          "text": [
            "[INFO 2025-02-19 17:14:45,585] [0] Ed: 144000, train_loss: 1.23106, acc: 0.50770\n",
            "[INFO 2025-02-19 17:14:45,585] [0] Ed: 144000, train_loss: 1.23106, acc: 0.50770\n"
          ]
        },
        {
          "name": "stderr",
          "output_type": "stream",
          "text": [
            "INFO:root:[0] Ed: 147200, train_loss: 1.23076, acc: 0.50793\n"
          ]
        },
        {
          "name": "stdout",
          "output_type": "stream",
          "text": [
            "[INFO 2025-02-19 17:15:00,487] [0] Ed: 147200, train_loss: 1.23076, acc: 0.50793\n",
            "[INFO 2025-02-19 17:15:00,487] [0] Ed: 147200, train_loss: 1.23076, acc: 0.50793\n"
          ]
        },
        {
          "name": "stderr",
          "output_type": "stream",
          "text": [
            "INFO:root:[0] Ed: 150400, train_loss: 1.23010, acc: 0.50830\n"
          ]
        },
        {
          "name": "stdout",
          "output_type": "stream",
          "text": [
            "[INFO 2025-02-19 17:15:15,364] [0] Ed: 150400, train_loss: 1.23010, acc: 0.50830\n",
            "[INFO 2025-02-19 17:15:15,364] [0] Ed: 150400, train_loss: 1.23010, acc: 0.50830\n"
          ]
        },
        {
          "name": "stderr",
          "output_type": "stream",
          "text": [
            "INFO:root:[0] Ed: 153600, train_loss: 1.22971, acc: 0.50840\n"
          ]
        },
        {
          "name": "stdout",
          "output_type": "stream",
          "text": [
            "[INFO 2025-02-19 17:15:30,549] [0] Ed: 153600, train_loss: 1.22971, acc: 0.50840\n",
            "[INFO 2025-02-19 17:15:30,549] [0] Ed: 153600, train_loss: 1.22971, acc: 0.50840\n"
          ]
        },
        {
          "name": "stderr",
          "output_type": "stream",
          "text": [
            "INFO:root:[0] Ed: 156800, train_loss: 1.22921, acc: 0.50844\n"
          ]
        },
        {
          "name": "stdout",
          "output_type": "stream",
          "text": [
            "[INFO 2025-02-19 17:15:45,819] [0] Ed: 156800, train_loss: 1.22921, acc: 0.50844\n",
            "[INFO 2025-02-19 17:15:45,819] [0] Ed: 156800, train_loss: 1.22921, acc: 0.50844\n"
          ]
        },
        {
          "name": "stderr",
          "output_type": "stream",
          "text": [
            "INFO:root:[0] Ed: 160000, train_loss: 1.22872, acc: 0.50892\n"
          ]
        },
        {
          "name": "stdout",
          "output_type": "stream",
          "text": [
            "[INFO 2025-02-19 17:16:01,035] [0] Ed: 160000, train_loss: 1.22872, acc: 0.50892\n",
            "[INFO 2025-02-19 17:16:01,035] [0] Ed: 160000, train_loss: 1.22872, acc: 0.50892\n"
          ]
        },
        {
          "name": "stderr",
          "output_type": "stream",
          "text": [
            "INFO:root:[0] Ed: 163200, train_loss: 1.22856, acc: 0.50893\n"
          ]
        },
        {
          "name": "stdout",
          "output_type": "stream",
          "text": [
            "[INFO 2025-02-19 17:16:16,181] [0] Ed: 163200, train_loss: 1.22856, acc: 0.50893\n",
            "[INFO 2025-02-19 17:16:16,181] [0] Ed: 163200, train_loss: 1.22856, acc: 0.50893\n"
          ]
        },
        {
          "name": "stderr",
          "output_type": "stream",
          "text": [
            "INFO:root:[0] Ed: 166400, train_loss: 1.22870, acc: 0.50873\n"
          ]
        },
        {
          "name": "stdout",
          "output_type": "stream",
          "text": [
            "[INFO 2025-02-19 17:16:31,101] [0] Ed: 166400, train_loss: 1.22870, acc: 0.50873\n",
            "[INFO 2025-02-19 17:16:31,101] [0] Ed: 166400, train_loss: 1.22870, acc: 0.50873\n"
          ]
        },
        {
          "name": "stderr",
          "output_type": "stream",
          "text": [
            "INFO:root:[0] Ed: 169600, train_loss: 1.22892, acc: 0.50857\n"
          ]
        },
        {
          "name": "stdout",
          "output_type": "stream",
          "text": [
            "[INFO 2025-02-19 17:16:46,105] [0] Ed: 169600, train_loss: 1.22892, acc: 0.50857\n",
            "[INFO 2025-02-19 17:16:46,105] [0] Ed: 169600, train_loss: 1.22892, acc: 0.50857\n"
          ]
        },
        {
          "name": "stderr",
          "output_type": "stream",
          "text": [
            "INFO:root:[0] Ed: 172800, train_loss: 1.22835, acc: 0.50891\n"
          ]
        },
        {
          "name": "stdout",
          "output_type": "stream",
          "text": [
            "[INFO 2025-02-19 17:17:01,678] [0] Ed: 172800, train_loss: 1.22835, acc: 0.50891\n",
            "[INFO 2025-02-19 17:17:01,678] [0] Ed: 172800, train_loss: 1.22835, acc: 0.50891\n"
          ]
        },
        {
          "name": "stderr",
          "output_type": "stream",
          "text": [
            "INFO:root:[0] Ed: 176000, train_loss: 1.22819, acc: 0.50915\n"
          ]
        },
        {
          "name": "stdout",
          "output_type": "stream",
          "text": [
            "[INFO 2025-02-19 17:17:16,927] [0] Ed: 176000, train_loss: 1.22819, acc: 0.50915\n",
            "[INFO 2025-02-19 17:17:16,927] [0] Ed: 176000, train_loss: 1.22819, acc: 0.50915\n"
          ]
        },
        {
          "name": "stderr",
          "output_type": "stream",
          "text": [
            "INFO:root:[0] Ed: 179200, train_loss: 1.22792, acc: 0.50942\n"
          ]
        },
        {
          "name": "stdout",
          "output_type": "stream",
          "text": [
            "[INFO 2025-02-19 17:17:31,842] [0] Ed: 179200, train_loss: 1.22792, acc: 0.50942\n",
            "[INFO 2025-02-19 17:17:31,842] [0] Ed: 179200, train_loss: 1.22792, acc: 0.50942\n"
          ]
        },
        {
          "name": "stderr",
          "output_type": "stream",
          "text": [
            "INFO:root:[0] Ed: 182400, train_loss: 1.22794, acc: 0.50950\n"
          ]
        },
        {
          "name": "stdout",
          "output_type": "stream",
          "text": [
            "[INFO 2025-02-19 17:17:46,670] [0] Ed: 182400, train_loss: 1.22794, acc: 0.50950\n",
            "[INFO 2025-02-19 17:17:46,670] [0] Ed: 182400, train_loss: 1.22794, acc: 0.50950\n"
          ]
        },
        {
          "name": "stderr",
          "output_type": "stream",
          "text": [
            "INFO:root:[0] Ed: 185600, train_loss: 1.22770, acc: 0.50947\n"
          ]
        },
        {
          "name": "stdout",
          "output_type": "stream",
          "text": [
            "[INFO 2025-02-19 17:18:01,566] [0] Ed: 185600, train_loss: 1.22770, acc: 0.50947\n",
            "[INFO 2025-02-19 17:18:01,566] [0] Ed: 185600, train_loss: 1.22770, acc: 0.50947\n"
          ]
        },
        {
          "name": "stderr",
          "output_type": "stream",
          "text": [
            "INFO:root:[0] Ed: 188800, train_loss: 1.22738, acc: 0.50977\n"
          ]
        },
        {
          "name": "stdout",
          "output_type": "stream",
          "text": [
            "[INFO 2025-02-19 17:18:16,529] [0] Ed: 188800, train_loss: 1.22738, acc: 0.50977\n",
            "[INFO 2025-02-19 17:18:16,529] [0] Ed: 188800, train_loss: 1.22738, acc: 0.50977\n"
          ]
        },
        {
          "name": "stderr",
          "output_type": "stream",
          "text": [
            "INFO:root:[0] Ed: 192000, train_loss: 1.22758, acc: 0.50964\n"
          ]
        },
        {
          "name": "stdout",
          "output_type": "stream",
          "text": [
            "[INFO 2025-02-19 17:18:32,093] [0] Ed: 192000, train_loss: 1.22758, acc: 0.50964\n",
            "[INFO 2025-02-19 17:18:32,093] [0] Ed: 192000, train_loss: 1.22758, acc: 0.50964\n"
          ]
        },
        {
          "name": "stderr",
          "output_type": "stream",
          "text": [
            "INFO:root:[0] Ed: 195200, train_loss: 1.22746, acc: 0.50989\n"
          ]
        },
        {
          "name": "stdout",
          "output_type": "stream",
          "text": [
            "[INFO 2025-02-19 17:18:47,001] [0] Ed: 195200, train_loss: 1.22746, acc: 0.50989\n",
            "[INFO 2025-02-19 17:18:47,001] [0] Ed: 195200, train_loss: 1.22746, acc: 0.50989\n"
          ]
        },
        {
          "name": "stderr",
          "output_type": "stream",
          "text": [
            "INFO:root:[0] Ed: 198400, train_loss: 1.22747, acc: 0.50992\n"
          ]
        },
        {
          "name": "stdout",
          "output_type": "stream",
          "text": [
            "[INFO 2025-02-19 17:19:01,874] [0] Ed: 198400, train_loss: 1.22747, acc: 0.50992\n",
            "[INFO 2025-02-19 17:19:01,874] [0] Ed: 198400, train_loss: 1.22747, acc: 0.50992\n"
          ]
        },
        {
          "name": "stderr",
          "output_type": "stream",
          "text": [
            "INFO:root:[0] Ed: 201600, train_loss: 1.22720, acc: 0.51000\n"
          ]
        },
        {
          "name": "stdout",
          "output_type": "stream",
          "text": [
            "[INFO 2025-02-19 17:19:16,738] [0] Ed: 201600, train_loss: 1.22720, acc: 0.51000\n",
            "[INFO 2025-02-19 17:19:16,738] [0] Ed: 201600, train_loss: 1.22720, acc: 0.51000\n"
          ]
        },
        {
          "name": "stderr",
          "output_type": "stream",
          "text": [
            "INFO:root:[0] Ed: 204800, train_loss: 1.22720, acc: 0.51000\n"
          ]
        },
        {
          "name": "stdout",
          "output_type": "stream",
          "text": [
            "[INFO 2025-02-19 17:19:31,642] [0] Ed: 204800, train_loss: 1.22720, acc: 0.51000\n",
            "[INFO 2025-02-19 17:19:31,642] [0] Ed: 204800, train_loss: 1.22720, acc: 0.51000\n"
          ]
        },
        {
          "name": "stderr",
          "output_type": "stream",
          "text": [
            "INFO:root:[0] Ed: 208000, train_loss: 1.22743, acc: 0.50994\n"
          ]
        },
        {
          "name": "stdout",
          "output_type": "stream",
          "text": [
            "[INFO 2025-02-19 17:19:47,221] [0] Ed: 208000, train_loss: 1.22743, acc: 0.50994\n",
            "[INFO 2025-02-19 17:19:47,221] [0] Ed: 208000, train_loss: 1.22743, acc: 0.50994\n"
          ]
        },
        {
          "name": "stderr",
          "output_type": "stream",
          "text": [
            "INFO:root:[0] Ed: 211200, train_loss: 1.22744, acc: 0.50997\n"
          ]
        },
        {
          "name": "stdout",
          "output_type": "stream",
          "text": [
            "[INFO 2025-02-19 17:20:02,169] [0] Ed: 211200, train_loss: 1.22744, acc: 0.50997\n",
            "[INFO 2025-02-19 17:20:02,169] [0] Ed: 211200, train_loss: 1.22744, acc: 0.50997\n"
          ]
        },
        {
          "name": "stderr",
          "output_type": "stream",
          "text": [
            "INFO:root:[0] Ed: 214400, train_loss: 1.22732, acc: 0.50990\n"
          ]
        },
        {
          "name": "stdout",
          "output_type": "stream",
          "text": [
            "[INFO 2025-02-19 17:20:16,994] [0] Ed: 214400, train_loss: 1.22732, acc: 0.50990\n",
            "[INFO 2025-02-19 17:20:16,994] [0] Ed: 214400, train_loss: 1.22732, acc: 0.50990\n"
          ]
        },
        {
          "name": "stderr",
          "output_type": "stream",
          "text": [
            "INFO:root:[0] Ed: 217600, train_loss: 1.22713, acc: 0.50991\n"
          ]
        },
        {
          "name": "stdout",
          "output_type": "stream",
          "text": [
            "[INFO 2025-02-19 17:20:31,940] [0] Ed: 217600, train_loss: 1.22713, acc: 0.50991\n",
            "[INFO 2025-02-19 17:20:31,940] [0] Ed: 217600, train_loss: 1.22713, acc: 0.50991\n"
          ]
        },
        {
          "name": "stderr",
          "output_type": "stream",
          "text": [
            "INFO:root:[0] Ed: 220800, train_loss: 1.22686, acc: 0.50998\n"
          ]
        },
        {
          "name": "stdout",
          "output_type": "stream",
          "text": [
            "[INFO 2025-02-19 17:20:46,768] [0] Ed: 220800, train_loss: 1.22686, acc: 0.50998\n",
            "[INFO 2025-02-19 17:20:46,768] [0] Ed: 220800, train_loss: 1.22686, acc: 0.50998\n"
          ]
        },
        {
          "name": "stderr",
          "output_type": "stream",
          "text": [
            "INFO:root:[0] Ed: 224000, train_loss: 1.22650, acc: 0.51019\n"
          ]
        },
        {
          "name": "stdout",
          "output_type": "stream",
          "text": [
            "[INFO 2025-02-19 17:21:02,092] [0] Ed: 224000, train_loss: 1.22650, acc: 0.51019\n",
            "[INFO 2025-02-19 17:21:02,092] [0] Ed: 224000, train_loss: 1.22650, acc: 0.51019\n"
          ]
        },
        {
          "name": "stderr",
          "output_type": "stream",
          "text": [
            "INFO:root:[0] Ed: 227200, train_loss: 1.22620, acc: 0.51029\n"
          ]
        },
        {
          "name": "stdout",
          "output_type": "stream",
          "text": [
            "[INFO 2025-02-19 17:21:17,550] [0] Ed: 227200, train_loss: 1.22620, acc: 0.51029\n",
            "[INFO 2025-02-19 17:21:17,550] [0] Ed: 227200, train_loss: 1.22620, acc: 0.51029\n"
          ]
        },
        {
          "name": "stderr",
          "output_type": "stream",
          "text": [
            "INFO:root:[0] Ed: 230400, train_loss: 1.22585, acc: 0.51039\n"
          ]
        },
        {
          "name": "stdout",
          "output_type": "stream",
          "text": [
            "[INFO 2025-02-19 17:21:32,500] [0] Ed: 230400, train_loss: 1.22585, acc: 0.51039\n",
            "[INFO 2025-02-19 17:21:32,500] [0] Ed: 230400, train_loss: 1.22585, acc: 0.51039\n"
          ]
        },
        {
          "name": "stderr",
          "output_type": "stream",
          "text": [
            "INFO:root:[0] Ed: 233600, train_loss: 1.22538, acc: 0.51052\n"
          ]
        },
        {
          "name": "stdout",
          "output_type": "stream",
          "text": [
            "[INFO 2025-02-19 17:21:47,387] [0] Ed: 233600, train_loss: 1.22538, acc: 0.51052\n",
            "[INFO 2025-02-19 17:21:47,387] [0] Ed: 233600, train_loss: 1.22538, acc: 0.51052\n"
          ]
        },
        {
          "name": "stderr",
          "output_type": "stream",
          "text": [
            "INFO:root:Training finish.\n"
          ]
        },
        {
          "name": "stdout",
          "output_type": "stream",
          "text": [
            "[INFO 2025-02-19 17:22:00,200] Training finish.\n",
            "[INFO 2025-02-19 17:22:00,200] Training finish.\n"
          ]
        },
        {
          "name": "stderr",
          "output_type": "stream",
          "text": [
            "INFO:root:Model saved to /content/model/epoch-4.pt.\n"
          ]
        },
        {
          "name": "stdout",
          "output_type": "stream",
          "text": [
            "[INFO 2025-02-19 17:22:00,247] Model saved to /content/model/epoch-4.pt.\n",
            "[INFO 2025-02-19 17:22:00,247] Model saved to /content/model/epoch-4.pt.\n"
          ]
        },
        {
          "name": "stderr",
          "output_type": "stream",
          "text": [
            "INFO:root:[0] Ed: 0, train_loss: inf, acc: inf\n"
          ]
        },
        {
          "name": "stdout",
          "output_type": "stream",
          "text": [
            "[INFO 2025-02-19 17:22:00,425] [0] Ed: 0, train_loss: inf, acc: inf\n",
            "[INFO 2025-02-19 17:22:00,425] [0] Ed: 0, train_loss: inf, acc: inf\n"
          ]
        },
        {
          "name": "stderr",
          "output_type": "stream",
          "text": [
            "INFO:root:[0] Ed: 3200, train_loss: 1.23119, acc: 0.52812\n"
          ]
        },
        {
          "name": "stdout",
          "output_type": "stream",
          "text": [
            "[INFO 2025-02-19 17:22:15,312] [0] Ed: 3200, train_loss: 1.23119, acc: 0.52812\n",
            "[INFO 2025-02-19 17:22:15,312] [0] Ed: 3200, train_loss: 1.23119, acc: 0.52812\n"
          ]
        },
        {
          "name": "stderr",
          "output_type": "stream",
          "text": [
            "INFO:root:[0] Ed: 6400, train_loss: 1.21153, acc: 0.52531\n"
          ]
        },
        {
          "name": "stdout",
          "output_type": "stream",
          "text": [
            "[INFO 2025-02-19 17:22:30,750] [0] Ed: 6400, train_loss: 1.21153, acc: 0.52531\n",
            "[INFO 2025-02-19 17:22:30,750] [0] Ed: 6400, train_loss: 1.21153, acc: 0.52531\n"
          ]
        },
        {
          "name": "stderr",
          "output_type": "stream",
          "text": [
            "INFO:root:[0] Ed: 9600, train_loss: 1.21444, acc: 0.52219\n"
          ]
        },
        {
          "name": "stdout",
          "output_type": "stream",
          "text": [
            "[INFO 2025-02-19 17:22:45,914] [0] Ed: 9600, train_loss: 1.21444, acc: 0.52219\n",
            "[INFO 2025-02-19 17:22:45,914] [0] Ed: 9600, train_loss: 1.21444, acc: 0.52219\n"
          ]
        },
        {
          "name": "stderr",
          "output_type": "stream",
          "text": [
            "INFO:root:[0] Ed: 12800, train_loss: 1.21100, acc: 0.52508\n"
          ]
        },
        {
          "name": "stdout",
          "output_type": "stream",
          "text": [
            "[INFO 2025-02-19 17:23:00,863] [0] Ed: 12800, train_loss: 1.21100, acc: 0.52508\n",
            "[INFO 2025-02-19 17:23:00,863] [0] Ed: 12800, train_loss: 1.21100, acc: 0.52508\n"
          ]
        },
        {
          "name": "stderr",
          "output_type": "stream",
          "text": [
            "INFO:root:[0] Ed: 16000, train_loss: 1.21595, acc: 0.51988\n"
          ]
        },
        {
          "name": "stdout",
          "output_type": "stream",
          "text": [
            "[INFO 2025-02-19 17:23:15,835] [0] Ed: 16000, train_loss: 1.21595, acc: 0.51988\n",
            "[INFO 2025-02-19 17:23:15,835] [0] Ed: 16000, train_loss: 1.21595, acc: 0.51988\n"
          ]
        },
        {
          "name": "stderr",
          "output_type": "stream",
          "text": [
            "INFO:root:[0] Ed: 19200, train_loss: 1.21589, acc: 0.51854\n"
          ]
        },
        {
          "name": "stdout",
          "output_type": "stream",
          "text": [
            "[INFO 2025-02-19 17:23:30,800] [0] Ed: 19200, train_loss: 1.21589, acc: 0.51854\n",
            "[INFO 2025-02-19 17:23:30,800] [0] Ed: 19200, train_loss: 1.21589, acc: 0.51854\n"
          ]
        },
        {
          "name": "stderr",
          "output_type": "stream",
          "text": [
            "INFO:root:[0] Ed: 22400, train_loss: 1.21387, acc: 0.51929\n"
          ]
        },
        {
          "name": "stdout",
          "output_type": "stream",
          "text": [
            "[INFO 2025-02-19 17:23:45,901] [0] Ed: 22400, train_loss: 1.21387, acc: 0.51929\n",
            "[INFO 2025-02-19 17:23:45,901] [0] Ed: 22400, train_loss: 1.21387, acc: 0.51929\n"
          ]
        },
        {
          "name": "stderr",
          "output_type": "stream",
          "text": [
            "INFO:root:[0] Ed: 25600, train_loss: 1.21050, acc: 0.52121\n"
          ]
        },
        {
          "name": "stdout",
          "output_type": "stream",
          "text": [
            "[INFO 2025-02-19 17:24:01,408] [0] Ed: 25600, train_loss: 1.21050, acc: 0.52121\n",
            "[INFO 2025-02-19 17:24:01,408] [0] Ed: 25600, train_loss: 1.21050, acc: 0.52121\n"
          ]
        },
        {
          "name": "stderr",
          "output_type": "stream",
          "text": [
            "INFO:root:[0] Ed: 28800, train_loss: 1.21128, acc: 0.52028\n"
          ]
        },
        {
          "name": "stdout",
          "output_type": "stream",
          "text": [
            "[INFO 2025-02-19 17:24:16,306] [0] Ed: 28800, train_loss: 1.21128, acc: 0.52028\n",
            "[INFO 2025-02-19 17:24:16,306] [0] Ed: 28800, train_loss: 1.21128, acc: 0.52028\n"
          ]
        },
        {
          "name": "stderr",
          "output_type": "stream",
          "text": [
            "INFO:root:[0] Ed: 32000, train_loss: 1.21166, acc: 0.52003\n"
          ]
        },
        {
          "name": "stdout",
          "output_type": "stream",
          "text": [
            "[INFO 2025-02-19 17:24:31,253] [0] Ed: 32000, train_loss: 1.21166, acc: 0.52003\n",
            "[INFO 2025-02-19 17:24:31,253] [0] Ed: 32000, train_loss: 1.21166, acc: 0.52003\n"
          ]
        },
        {
          "name": "stderr",
          "output_type": "stream",
          "text": [
            "INFO:root:[0] Ed: 35200, train_loss: 1.21381, acc: 0.51778\n"
          ]
        },
        {
          "name": "stdout",
          "output_type": "stream",
          "text": [
            "[INFO 2025-02-19 17:24:46,097] [0] Ed: 35200, train_loss: 1.21381, acc: 0.51778\n",
            "[INFO 2025-02-19 17:24:46,097] [0] Ed: 35200, train_loss: 1.21381, acc: 0.51778\n"
          ]
        },
        {
          "name": "stderr",
          "output_type": "stream",
          "text": [
            "INFO:root:[0] Ed: 38400, train_loss: 1.21253, acc: 0.51766\n"
          ]
        },
        {
          "name": "stdout",
          "output_type": "stream",
          "text": [
            "[INFO 2025-02-19 17:25:00,994] [0] Ed: 38400, train_loss: 1.21253, acc: 0.51766\n",
            "[INFO 2025-02-19 17:25:00,994] [0] Ed: 38400, train_loss: 1.21253, acc: 0.51766\n"
          ]
        },
        {
          "name": "stderr",
          "output_type": "stream",
          "text": [
            "INFO:root:[0] Ed: 41600, train_loss: 1.21048, acc: 0.51820\n"
          ]
        },
        {
          "name": "stdout",
          "output_type": "stream",
          "text": [
            "[INFO 2025-02-19 17:25:16,636] [0] Ed: 41600, train_loss: 1.21048, acc: 0.51820\n",
            "[INFO 2025-02-19 17:25:16,636] [0] Ed: 41600, train_loss: 1.21048, acc: 0.51820\n"
          ]
        },
        {
          "name": "stderr",
          "output_type": "stream",
          "text": [
            "INFO:root:[0] Ed: 44800, train_loss: 1.21021, acc: 0.51839\n"
          ]
        },
        {
          "name": "stdout",
          "output_type": "stream",
          "text": [
            "[INFO 2025-02-19 17:25:31,596] [0] Ed: 44800, train_loss: 1.21021, acc: 0.51839\n",
            "[INFO 2025-02-19 17:25:31,596] [0] Ed: 44800, train_loss: 1.21021, acc: 0.51839\n"
          ]
        },
        {
          "name": "stderr",
          "output_type": "stream",
          "text": [
            "INFO:root:[0] Ed: 48000, train_loss: 1.21024, acc: 0.51871\n"
          ]
        },
        {
          "name": "stdout",
          "output_type": "stream",
          "text": [
            "[INFO 2025-02-19 17:25:46,588] [0] Ed: 48000, train_loss: 1.21024, acc: 0.51871\n",
            "[INFO 2025-02-19 17:25:46,588] [0] Ed: 48000, train_loss: 1.21024, acc: 0.51871\n"
          ]
        },
        {
          "name": "stderr",
          "output_type": "stream",
          "text": [
            "INFO:root:[0] Ed: 51200, train_loss: 1.20972, acc: 0.51861\n"
          ]
        },
        {
          "name": "stdout",
          "output_type": "stream",
          "text": [
            "[INFO 2025-02-19 17:26:01,478] [0] Ed: 51200, train_loss: 1.20972, acc: 0.51861\n",
            "[INFO 2025-02-19 17:26:01,478] [0] Ed: 51200, train_loss: 1.20972, acc: 0.51861\n"
          ]
        },
        {
          "name": "stderr",
          "output_type": "stream",
          "text": [
            "INFO:root:[0] Ed: 54400, train_loss: 1.20943, acc: 0.51877\n"
          ]
        },
        {
          "name": "stdout",
          "output_type": "stream",
          "text": [
            "[INFO 2025-02-19 17:26:16,361] [0] Ed: 54400, train_loss: 1.20943, acc: 0.51877\n",
            "[INFO 2025-02-19 17:26:16,361] [0] Ed: 54400, train_loss: 1.20943, acc: 0.51877\n"
          ]
        },
        {
          "name": "stderr",
          "output_type": "stream",
          "text": [
            "INFO:root:[0] Ed: 57600, train_loss: 1.20900, acc: 0.51932\n"
          ]
        },
        {
          "name": "stdout",
          "output_type": "stream",
          "text": [
            "[INFO 2025-02-19 17:26:31,986] [0] Ed: 57600, train_loss: 1.20900, acc: 0.51932\n",
            "[INFO 2025-02-19 17:26:31,986] [0] Ed: 57600, train_loss: 1.20900, acc: 0.51932\n"
          ]
        },
        {
          "name": "stderr",
          "output_type": "stream",
          "text": [
            "INFO:root:[0] Ed: 60800, train_loss: 1.20897, acc: 0.51936\n"
          ]
        },
        {
          "name": "stdout",
          "output_type": "stream",
          "text": [
            "[INFO 2025-02-19 17:26:47,081] [0] Ed: 60800, train_loss: 1.20897, acc: 0.51936\n",
            "[INFO 2025-02-19 17:26:47,081] [0] Ed: 60800, train_loss: 1.20897, acc: 0.51936\n"
          ]
        },
        {
          "name": "stderr",
          "output_type": "stream",
          "text": [
            "INFO:root:[0] Ed: 64000, train_loss: 1.20804, acc: 0.52006\n"
          ]
        },
        {
          "name": "stdout",
          "output_type": "stream",
          "text": [
            "[INFO 2025-02-19 17:27:02,390] [0] Ed: 64000, train_loss: 1.20804, acc: 0.52006\n",
            "[INFO 2025-02-19 17:27:02,390] [0] Ed: 64000, train_loss: 1.20804, acc: 0.52006\n"
          ]
        },
        {
          "name": "stderr",
          "output_type": "stream",
          "text": [
            "INFO:root:[0] Ed: 67200, train_loss: 1.20742, acc: 0.52040\n"
          ]
        },
        {
          "name": "stdout",
          "output_type": "stream",
          "text": [
            "[INFO 2025-02-19 17:27:17,405] [0] Ed: 67200, train_loss: 1.20742, acc: 0.52040\n",
            "[INFO 2025-02-19 17:27:17,405] [0] Ed: 67200, train_loss: 1.20742, acc: 0.52040\n"
          ]
        },
        {
          "name": "stderr",
          "output_type": "stream",
          "text": [
            "INFO:root:[0] Ed: 70400, train_loss: 1.20670, acc: 0.52050\n"
          ]
        },
        {
          "name": "stdout",
          "output_type": "stream",
          "text": [
            "[INFO 2025-02-19 17:27:32,459] [0] Ed: 70400, train_loss: 1.20670, acc: 0.52050\n",
            "[INFO 2025-02-19 17:27:32,459] [0] Ed: 70400, train_loss: 1.20670, acc: 0.52050\n"
          ]
        },
        {
          "name": "stderr",
          "output_type": "stream",
          "text": [
            "INFO:root:[0] Ed: 73600, train_loss: 1.20752, acc: 0.52004\n"
          ]
        },
        {
          "name": "stdout",
          "output_type": "stream",
          "text": [
            "[INFO 2025-02-19 17:27:48,119] [0] Ed: 73600, train_loss: 1.20752, acc: 0.52004\n",
            "[INFO 2025-02-19 17:27:48,119] [0] Ed: 73600, train_loss: 1.20752, acc: 0.52004\n"
          ]
        },
        {
          "name": "stderr",
          "output_type": "stream",
          "text": [
            "INFO:root:[0] Ed: 76800, train_loss: 1.20669, acc: 0.52053\n"
          ]
        },
        {
          "name": "stdout",
          "output_type": "stream",
          "text": [
            "[INFO 2025-02-19 17:28:03,113] [0] Ed: 76800, train_loss: 1.20669, acc: 0.52053\n",
            "[INFO 2025-02-19 17:28:03,113] [0] Ed: 76800, train_loss: 1.20669, acc: 0.52053\n"
          ]
        },
        {
          "name": "stderr",
          "output_type": "stream",
          "text": [
            "INFO:root:[0] Ed: 80000, train_loss: 1.20699, acc: 0.52046\n"
          ]
        },
        {
          "name": "stdout",
          "output_type": "stream",
          "text": [
            "[INFO 2025-02-19 17:28:18,022] [0] Ed: 80000, train_loss: 1.20699, acc: 0.52046\n",
            "[INFO 2025-02-19 17:28:18,022] [0] Ed: 80000, train_loss: 1.20699, acc: 0.52046\n"
          ]
        },
        {
          "name": "stderr",
          "output_type": "stream",
          "text": [
            "INFO:root:[0] Ed: 83200, train_loss: 1.20622, acc: 0.52067\n"
          ]
        },
        {
          "name": "stdout",
          "output_type": "stream",
          "text": [
            "[INFO 2025-02-19 17:28:32,938] [0] Ed: 83200, train_loss: 1.20622, acc: 0.52067\n",
            "[INFO 2025-02-19 17:28:32,938] [0] Ed: 83200, train_loss: 1.20622, acc: 0.52067\n"
          ]
        },
        {
          "name": "stderr",
          "output_type": "stream",
          "text": [
            "INFO:root:[0] Ed: 86400, train_loss: 1.20532, acc: 0.52095\n"
          ]
        },
        {
          "name": "stdout",
          "output_type": "stream",
          "text": [
            "[INFO 2025-02-19 17:28:47,852] [0] Ed: 86400, train_loss: 1.20532, acc: 0.52095\n",
            "[INFO 2025-02-19 17:28:47,852] [0] Ed: 86400, train_loss: 1.20532, acc: 0.52095\n"
          ]
        },
        {
          "name": "stderr",
          "output_type": "stream",
          "text": [
            "INFO:root:[0] Ed: 89600, train_loss: 1.20433, acc: 0.52166\n"
          ]
        },
        {
          "name": "stdout",
          "output_type": "stream",
          "text": [
            "[INFO 2025-02-19 17:29:03,245] [0] Ed: 89600, train_loss: 1.20433, acc: 0.52166\n",
            "[INFO 2025-02-19 17:29:03,245] [0] Ed: 89600, train_loss: 1.20433, acc: 0.52166\n"
          ]
        },
        {
          "name": "stderr",
          "output_type": "stream",
          "text": [
            "INFO:root:[0] Ed: 92800, train_loss: 1.20446, acc: 0.52143\n"
          ]
        },
        {
          "name": "stdout",
          "output_type": "stream",
          "text": [
            "[INFO 2025-02-19 17:29:18,482] [0] Ed: 92800, train_loss: 1.20446, acc: 0.52143\n",
            "[INFO 2025-02-19 17:29:18,482] [0] Ed: 92800, train_loss: 1.20446, acc: 0.52143\n"
          ]
        },
        {
          "name": "stderr",
          "output_type": "stream",
          "text": [
            "INFO:root:[0] Ed: 96000, train_loss: 1.20418, acc: 0.52138\n"
          ]
        },
        {
          "name": "stdout",
          "output_type": "stream",
          "text": [
            "[INFO 2025-02-19 17:29:33,513] [0] Ed: 96000, train_loss: 1.20418, acc: 0.52138\n",
            "[INFO 2025-02-19 17:29:33,513] [0] Ed: 96000, train_loss: 1.20418, acc: 0.52138\n"
          ]
        },
        {
          "name": "stderr",
          "output_type": "stream",
          "text": [
            "INFO:root:[0] Ed: 99200, train_loss: 1.20422, acc: 0.52124\n"
          ]
        },
        {
          "name": "stdout",
          "output_type": "stream",
          "text": [
            "[INFO 2025-02-19 17:29:48,373] [0] Ed: 99200, train_loss: 1.20422, acc: 0.52124\n",
            "[INFO 2025-02-19 17:29:48,373] [0] Ed: 99200, train_loss: 1.20422, acc: 0.52124\n"
          ]
        },
        {
          "name": "stderr",
          "output_type": "stream",
          "text": [
            "INFO:root:[0] Ed: 102400, train_loss: 1.20318, acc: 0.52143\n"
          ]
        },
        {
          "name": "stdout",
          "output_type": "stream",
          "text": [
            "[INFO 2025-02-19 17:30:03,454] [0] Ed: 102400, train_loss: 1.20318, acc: 0.52143\n",
            "[INFO 2025-02-19 17:30:03,454] [0] Ed: 102400, train_loss: 1.20318, acc: 0.52143\n"
          ]
        },
        {
          "name": "stderr",
          "output_type": "stream",
          "text": [
            "INFO:root:[0] Ed: 105600, train_loss: 1.20185, acc: 0.52197\n"
          ]
        },
        {
          "name": "stdout",
          "output_type": "stream",
          "text": [
            "[INFO 2025-02-19 17:30:19,020] [0] Ed: 105600, train_loss: 1.20185, acc: 0.52197\n",
            "[INFO 2025-02-19 17:30:19,020] [0] Ed: 105600, train_loss: 1.20185, acc: 0.52197\n"
          ]
        },
        {
          "name": "stderr",
          "output_type": "stream",
          "text": [
            "INFO:root:[0] Ed: 108800, train_loss: 1.20179, acc: 0.52204\n"
          ]
        },
        {
          "name": "stdout",
          "output_type": "stream",
          "text": [
            "[INFO 2025-02-19 17:30:34,448] [0] Ed: 108800, train_loss: 1.20179, acc: 0.52204\n",
            "[INFO 2025-02-19 17:30:34,448] [0] Ed: 108800, train_loss: 1.20179, acc: 0.52204\n"
          ]
        },
        {
          "name": "stderr",
          "output_type": "stream",
          "text": [
            "INFO:root:[0] Ed: 112000, train_loss: 1.20210, acc: 0.52198\n"
          ]
        },
        {
          "name": "stdout",
          "output_type": "stream",
          "text": [
            "[INFO 2025-02-19 17:30:49,315] [0] Ed: 112000, train_loss: 1.20210, acc: 0.52198\n",
            "[INFO 2025-02-19 17:30:49,315] [0] Ed: 112000, train_loss: 1.20210, acc: 0.52198\n"
          ]
        },
        {
          "name": "stderr",
          "output_type": "stream",
          "text": [
            "INFO:root:[0] Ed: 115200, train_loss: 1.20155, acc: 0.52215\n"
          ]
        },
        {
          "name": "stdout",
          "output_type": "stream",
          "text": [
            "[INFO 2025-02-19 17:31:04,245] [0] Ed: 115200, train_loss: 1.20155, acc: 0.52215\n",
            "[INFO 2025-02-19 17:31:04,245] [0] Ed: 115200, train_loss: 1.20155, acc: 0.52215\n"
          ]
        },
        {
          "name": "stderr",
          "output_type": "stream",
          "text": [
            "INFO:root:[0] Ed: 118400, train_loss: 1.20034, acc: 0.52242\n"
          ]
        },
        {
          "name": "stdout",
          "output_type": "stream",
          "text": [
            "[INFO 2025-02-19 17:31:19,189] [0] Ed: 118400, train_loss: 1.20034, acc: 0.52242\n",
            "[INFO 2025-02-19 17:31:19,189] [0] Ed: 118400, train_loss: 1.20034, acc: 0.52242\n"
          ]
        },
        {
          "name": "stderr",
          "output_type": "stream",
          "text": [
            "INFO:root:[0] Ed: 121600, train_loss: 1.20005, acc: 0.52266\n"
          ]
        },
        {
          "name": "stdout",
          "output_type": "stream",
          "text": [
            "[INFO 2025-02-19 17:31:34,417] [0] Ed: 121600, train_loss: 1.20005, acc: 0.52266\n",
            "[INFO 2025-02-19 17:31:34,417] [0] Ed: 121600, train_loss: 1.20005, acc: 0.52266\n"
          ]
        },
        {
          "name": "stderr",
          "output_type": "stream",
          "text": [
            "INFO:root:[0] Ed: 124800, train_loss: 1.19994, acc: 0.52264\n"
          ]
        },
        {
          "name": "stdout",
          "output_type": "stream",
          "text": [
            "[INFO 2025-02-19 17:31:49,830] [0] Ed: 124800, train_loss: 1.19994, acc: 0.52264\n",
            "[INFO 2025-02-19 17:31:49,830] [0] Ed: 124800, train_loss: 1.19994, acc: 0.52264\n"
          ]
        },
        {
          "name": "stderr",
          "output_type": "stream",
          "text": [
            "INFO:root:[0] Ed: 128000, train_loss: 1.20014, acc: 0.52255\n"
          ]
        },
        {
          "name": "stdout",
          "output_type": "stream",
          "text": [
            "[INFO 2025-02-19 17:32:04,732] [0] Ed: 128000, train_loss: 1.20014, acc: 0.52255\n",
            "[INFO 2025-02-19 17:32:04,732] [0] Ed: 128000, train_loss: 1.20014, acc: 0.52255\n"
          ]
        },
        {
          "name": "stderr",
          "output_type": "stream",
          "text": [
            "INFO:root:[0] Ed: 131200, train_loss: 1.19971, acc: 0.52267\n"
          ]
        },
        {
          "name": "stdout",
          "output_type": "stream",
          "text": [
            "[INFO 2025-02-19 17:32:19,813] [0] Ed: 131200, train_loss: 1.19971, acc: 0.52267\n",
            "[INFO 2025-02-19 17:32:19,813] [0] Ed: 131200, train_loss: 1.19971, acc: 0.52267\n"
          ]
        },
        {
          "name": "stderr",
          "output_type": "stream",
          "text": [
            "INFO:root:[0] Ed: 134400, train_loss: 1.19967, acc: 0.52262\n"
          ]
        },
        {
          "name": "stdout",
          "output_type": "stream",
          "text": [
            "[INFO 2025-02-19 17:32:34,760] [0] Ed: 134400, train_loss: 1.19967, acc: 0.52262\n",
            "[INFO 2025-02-19 17:32:34,760] [0] Ed: 134400, train_loss: 1.19967, acc: 0.52262\n"
          ]
        },
        {
          "name": "stderr",
          "output_type": "stream",
          "text": [
            "INFO:root:[0] Ed: 137600, train_loss: 1.19961, acc: 0.52282\n"
          ]
        },
        {
          "name": "stdout",
          "output_type": "stream",
          "text": [
            "[INFO 2025-02-19 17:32:50,070] [0] Ed: 137600, train_loss: 1.19961, acc: 0.52282\n",
            "[INFO 2025-02-19 17:32:50,070] [0] Ed: 137600, train_loss: 1.19961, acc: 0.52282\n"
          ]
        },
        {
          "name": "stderr",
          "output_type": "stream",
          "text": [
            "INFO:root:[0] Ed: 140800, train_loss: 1.19877, acc: 0.52331\n"
          ]
        },
        {
          "name": "stdout",
          "output_type": "stream",
          "text": [
            "[INFO 2025-02-19 17:33:05,612] [0] Ed: 140800, train_loss: 1.19877, acc: 0.52331\n",
            "[INFO 2025-02-19 17:33:05,612] [0] Ed: 140800, train_loss: 1.19877, acc: 0.52331\n"
          ]
        },
        {
          "name": "stderr",
          "output_type": "stream",
          "text": [
            "INFO:root:[0] Ed: 144000, train_loss: 1.19858, acc: 0.52335\n"
          ]
        },
        {
          "name": "stdout",
          "output_type": "stream",
          "text": [
            "[INFO 2025-02-19 17:33:20,585] [0] Ed: 144000, train_loss: 1.19858, acc: 0.52335\n",
            "[INFO 2025-02-19 17:33:20,585] [0] Ed: 144000, train_loss: 1.19858, acc: 0.52335\n"
          ]
        },
        {
          "name": "stderr",
          "output_type": "stream",
          "text": [
            "INFO:root:[0] Ed: 147200, train_loss: 1.19827, acc: 0.52345\n"
          ]
        },
        {
          "name": "stdout",
          "output_type": "stream",
          "text": [
            "[INFO 2025-02-19 17:33:35,606] [0] Ed: 147200, train_loss: 1.19827, acc: 0.52345\n",
            "[INFO 2025-02-19 17:33:35,606] [0] Ed: 147200, train_loss: 1.19827, acc: 0.52345\n"
          ]
        },
        {
          "name": "stderr",
          "output_type": "stream",
          "text": [
            "INFO:root:[0] Ed: 150400, train_loss: 1.19764, acc: 0.52366\n"
          ]
        },
        {
          "name": "stdout",
          "output_type": "stream",
          "text": [
            "[INFO 2025-02-19 17:33:50,451] [0] Ed: 150400, train_loss: 1.19764, acc: 0.52366\n",
            "[INFO 2025-02-19 17:33:50,451] [0] Ed: 150400, train_loss: 1.19764, acc: 0.52366\n"
          ]
        },
        {
          "name": "stderr",
          "output_type": "stream",
          "text": [
            "INFO:root:[0] Ed: 153600, train_loss: 1.19736, acc: 0.52381\n"
          ]
        },
        {
          "name": "stdout",
          "output_type": "stream",
          "text": [
            "[INFO 2025-02-19 17:34:05,302] [0] Ed: 153600, train_loss: 1.19736, acc: 0.52381\n",
            "[INFO 2025-02-19 17:34:05,302] [0] Ed: 153600, train_loss: 1.19736, acc: 0.52381\n"
          ]
        },
        {
          "name": "stderr",
          "output_type": "stream",
          "text": [
            "INFO:root:[0] Ed: 156800, train_loss: 1.19708, acc: 0.52379\n"
          ]
        },
        {
          "name": "stdout",
          "output_type": "stream",
          "text": [
            "[INFO 2025-02-19 17:34:20,878] [0] Ed: 156800, train_loss: 1.19708, acc: 0.52379\n",
            "[INFO 2025-02-19 17:34:20,878] [0] Ed: 156800, train_loss: 1.19708, acc: 0.52379\n"
          ]
        },
        {
          "name": "stderr",
          "output_type": "stream",
          "text": [
            "INFO:root:[0] Ed: 160000, train_loss: 1.19659, acc: 0.52409\n"
          ]
        },
        {
          "name": "stdout",
          "output_type": "stream",
          "text": [
            "[INFO 2025-02-19 17:34:35,646] [0] Ed: 160000, train_loss: 1.19659, acc: 0.52409\n",
            "[INFO 2025-02-19 17:34:35,646] [0] Ed: 160000, train_loss: 1.19659, acc: 0.52409\n"
          ]
        },
        {
          "name": "stderr",
          "output_type": "stream",
          "text": [
            "INFO:root:[0] Ed: 163200, train_loss: 1.19631, acc: 0.52410\n"
          ]
        },
        {
          "name": "stdout",
          "output_type": "stream",
          "text": [
            "[INFO 2025-02-19 17:34:50,436] [0] Ed: 163200, train_loss: 1.19631, acc: 0.52410\n",
            "[INFO 2025-02-19 17:34:50,436] [0] Ed: 163200, train_loss: 1.19631, acc: 0.52410\n"
          ]
        },
        {
          "name": "stderr",
          "output_type": "stream",
          "text": [
            "INFO:root:[0] Ed: 166400, train_loss: 1.19659, acc: 0.52394\n"
          ]
        },
        {
          "name": "stdout",
          "output_type": "stream",
          "text": [
            "[INFO 2025-02-19 17:35:05,262] [0] Ed: 166400, train_loss: 1.19659, acc: 0.52394\n",
            "[INFO 2025-02-19 17:35:05,262] [0] Ed: 166400, train_loss: 1.19659, acc: 0.52394\n"
          ]
        },
        {
          "name": "stderr",
          "output_type": "stream",
          "text": [
            "INFO:root:[0] Ed: 169600, train_loss: 1.19681, acc: 0.52393\n"
          ]
        },
        {
          "name": "stdout",
          "output_type": "stream",
          "text": [
            "[INFO 2025-02-19 17:35:20,031] [0] Ed: 169600, train_loss: 1.19681, acc: 0.52393\n",
            "[INFO 2025-02-19 17:35:20,031] [0] Ed: 169600, train_loss: 1.19681, acc: 0.52393\n"
          ]
        },
        {
          "name": "stderr",
          "output_type": "stream",
          "text": [
            "INFO:root:[0] Ed: 172800, train_loss: 1.19641, acc: 0.52409\n"
          ]
        },
        {
          "name": "stdout",
          "output_type": "stream",
          "text": [
            "[INFO 2025-02-19 17:35:35,345] [0] Ed: 172800, train_loss: 1.19641, acc: 0.52409\n",
            "[INFO 2025-02-19 17:35:35,345] [0] Ed: 172800, train_loss: 1.19641, acc: 0.52409\n"
          ]
        },
        {
          "name": "stderr",
          "output_type": "stream",
          "text": [
            "INFO:root:[0] Ed: 176000, train_loss: 1.19613, acc: 0.52413\n"
          ]
        },
        {
          "name": "stdout",
          "output_type": "stream",
          "text": [
            "[INFO 2025-02-19 17:35:50,531] [0] Ed: 176000, train_loss: 1.19613, acc: 0.52413\n",
            "[INFO 2025-02-19 17:35:50,531] [0] Ed: 176000, train_loss: 1.19613, acc: 0.52413\n"
          ]
        },
        {
          "name": "stderr",
          "output_type": "stream",
          "text": [
            "INFO:root:[0] Ed: 179200, train_loss: 1.19574, acc: 0.52436\n"
          ]
        },
        {
          "name": "stdout",
          "output_type": "stream",
          "text": [
            "[INFO 2025-02-19 17:36:05,348] [0] Ed: 179200, train_loss: 1.19574, acc: 0.52436\n",
            "[INFO 2025-02-19 17:36:05,348] [0] Ed: 179200, train_loss: 1.19574, acc: 0.52436\n"
          ]
        },
        {
          "name": "stderr",
          "output_type": "stream",
          "text": [
            "INFO:root:[0] Ed: 182400, train_loss: 1.19577, acc: 0.52441\n"
          ]
        },
        {
          "name": "stdout",
          "output_type": "stream",
          "text": [
            "[INFO 2025-02-19 17:36:20,125] [0] Ed: 182400, train_loss: 1.19577, acc: 0.52441\n",
            "[INFO 2025-02-19 17:36:20,125] [0] Ed: 182400, train_loss: 1.19577, acc: 0.52441\n"
          ]
        },
        {
          "name": "stderr",
          "output_type": "stream",
          "text": [
            "INFO:root:[0] Ed: 185600, train_loss: 1.19548, acc: 0.52448\n"
          ]
        },
        {
          "name": "stdout",
          "output_type": "stream",
          "text": [
            "[INFO 2025-02-19 17:36:34,968] [0] Ed: 185600, train_loss: 1.19548, acc: 0.52448\n",
            "[INFO 2025-02-19 17:36:34,968] [0] Ed: 185600, train_loss: 1.19548, acc: 0.52448\n"
          ]
        },
        {
          "name": "stderr",
          "output_type": "stream",
          "text": [
            "INFO:root:[0] Ed: 188800, train_loss: 1.19515, acc: 0.52479\n"
          ]
        },
        {
          "name": "stdout",
          "output_type": "stream",
          "text": [
            "[INFO 2025-02-19 17:36:49,711] [0] Ed: 188800, train_loss: 1.19515, acc: 0.52479\n",
            "[INFO 2025-02-19 17:36:49,711] [0] Ed: 188800, train_loss: 1.19515, acc: 0.52479\n"
          ]
        },
        {
          "name": "stderr",
          "output_type": "stream",
          "text": [
            "INFO:root:[0] Ed: 192000, train_loss: 1.19539, acc: 0.52469\n"
          ]
        },
        {
          "name": "stdout",
          "output_type": "stream",
          "text": [
            "[INFO 2025-02-19 17:37:05,285] [0] Ed: 192000, train_loss: 1.19539, acc: 0.52469\n",
            "[INFO 2025-02-19 17:37:05,285] [0] Ed: 192000, train_loss: 1.19539, acc: 0.52469\n"
          ]
        },
        {
          "name": "stderr",
          "output_type": "stream",
          "text": [
            "INFO:root:[0] Ed: 195200, train_loss: 1.19517, acc: 0.52490\n"
          ]
        },
        {
          "name": "stdout",
          "output_type": "stream",
          "text": [
            "[INFO 2025-02-19 17:37:20,174] [0] Ed: 195200, train_loss: 1.19517, acc: 0.52490\n",
            "[INFO 2025-02-19 17:37:20,174] [0] Ed: 195200, train_loss: 1.19517, acc: 0.52490\n"
          ]
        },
        {
          "name": "stderr",
          "output_type": "stream",
          "text": [
            "INFO:root:[0] Ed: 198400, train_loss: 1.19523, acc: 0.52504\n"
          ]
        },
        {
          "name": "stdout",
          "output_type": "stream",
          "text": [
            "[INFO 2025-02-19 17:37:35,158] [0] Ed: 198400, train_loss: 1.19523, acc: 0.52504\n",
            "[INFO 2025-02-19 17:37:35,158] [0] Ed: 198400, train_loss: 1.19523, acc: 0.52504\n"
          ]
        },
        {
          "name": "stderr",
          "output_type": "stream",
          "text": [
            "INFO:root:[0] Ed: 201600, train_loss: 1.19501, acc: 0.52514\n"
          ]
        },
        {
          "name": "stdout",
          "output_type": "stream",
          "text": [
            "[INFO 2025-02-19 17:37:50,106] [0] Ed: 201600, train_loss: 1.19501, acc: 0.52514\n",
            "[INFO 2025-02-19 17:37:50,106] [0] Ed: 201600, train_loss: 1.19501, acc: 0.52514\n"
          ]
        },
        {
          "name": "stderr",
          "output_type": "stream",
          "text": [
            "INFO:root:[0] Ed: 204800, train_loss: 1.19505, acc: 0.52506\n"
          ]
        },
        {
          "name": "stdout",
          "output_type": "stream",
          "text": [
            "[INFO 2025-02-19 17:38:04,964] [0] Ed: 204800, train_loss: 1.19505, acc: 0.52506\n",
            "[INFO 2025-02-19 17:38:04,964] [0] Ed: 204800, train_loss: 1.19505, acc: 0.52506\n"
          ]
        },
        {
          "name": "stderr",
          "output_type": "stream",
          "text": [
            "INFO:root:[0] Ed: 208000, train_loss: 1.19526, acc: 0.52498\n"
          ]
        },
        {
          "name": "stdout",
          "output_type": "stream",
          "text": [
            "[INFO 2025-02-19 17:38:20,271] [0] Ed: 208000, train_loss: 1.19526, acc: 0.52498\n",
            "[INFO 2025-02-19 17:38:20,271] [0] Ed: 208000, train_loss: 1.19526, acc: 0.52498\n"
          ]
        },
        {
          "name": "stderr",
          "output_type": "stream",
          "text": [
            "INFO:root:[0] Ed: 211200, train_loss: 1.19539, acc: 0.52479\n"
          ]
        },
        {
          "name": "stdout",
          "output_type": "stream",
          "text": [
            "[INFO 2025-02-19 17:38:35,580] [0] Ed: 211200, train_loss: 1.19539, acc: 0.52479\n",
            "[INFO 2025-02-19 17:38:35,580] [0] Ed: 211200, train_loss: 1.19539, acc: 0.52479\n"
          ]
        },
        {
          "name": "stderr",
          "output_type": "stream",
          "text": [
            "INFO:root:[0] Ed: 214400, train_loss: 1.19528, acc: 0.52485\n"
          ]
        },
        {
          "name": "stdout",
          "output_type": "stream",
          "text": [
            "[INFO 2025-02-19 17:38:50,577] [0] Ed: 214400, train_loss: 1.19528, acc: 0.52485\n",
            "[INFO 2025-02-19 17:38:50,577] [0] Ed: 214400, train_loss: 1.19528, acc: 0.52485\n"
          ]
        },
        {
          "name": "stderr",
          "output_type": "stream",
          "text": [
            "INFO:root:[0] Ed: 217600, train_loss: 1.19504, acc: 0.52481\n"
          ]
        },
        {
          "name": "stdout",
          "output_type": "stream",
          "text": [
            "[INFO 2025-02-19 17:39:05,395] [0] Ed: 217600, train_loss: 1.19504, acc: 0.52481\n",
            "[INFO 2025-02-19 17:39:05,395] [0] Ed: 217600, train_loss: 1.19504, acc: 0.52481\n"
          ]
        },
        {
          "name": "stderr",
          "output_type": "stream",
          "text": [
            "INFO:root:[0] Ed: 220800, train_loss: 1.19470, acc: 0.52487\n"
          ]
        },
        {
          "name": "stdout",
          "output_type": "stream",
          "text": [
            "[INFO 2025-02-19 17:39:20,239] [0] Ed: 220800, train_loss: 1.19470, acc: 0.52487\n",
            "[INFO 2025-02-19 17:39:20,239] [0] Ed: 220800, train_loss: 1.19470, acc: 0.52487\n"
          ]
        },
        {
          "name": "stderr",
          "output_type": "stream",
          "text": [
            "INFO:root:[0] Ed: 224000, train_loss: 1.19426, acc: 0.52503\n"
          ]
        },
        {
          "name": "stdout",
          "output_type": "stream",
          "text": [
            "[INFO 2025-02-19 17:39:35,868] [0] Ed: 224000, train_loss: 1.19426, acc: 0.52503\n",
            "[INFO 2025-02-19 17:39:35,868] [0] Ed: 224000, train_loss: 1.19426, acc: 0.52503\n"
          ]
        },
        {
          "name": "stderr",
          "output_type": "stream",
          "text": [
            "INFO:root:[0] Ed: 227200, train_loss: 1.19396, acc: 0.52522\n"
          ]
        },
        {
          "name": "stdout",
          "output_type": "stream",
          "text": [
            "[INFO 2025-02-19 17:39:51,400] [0] Ed: 227200, train_loss: 1.19396, acc: 0.52522\n",
            "[INFO 2025-02-19 17:39:51,400] [0] Ed: 227200, train_loss: 1.19396, acc: 0.52522\n"
          ]
        },
        {
          "name": "stderr",
          "output_type": "stream",
          "text": [
            "INFO:root:[0] Ed: 230400, train_loss: 1.19371, acc: 0.52532\n"
          ]
        },
        {
          "name": "stdout",
          "output_type": "stream",
          "text": [
            "[INFO 2025-02-19 17:40:06,285] [0] Ed: 230400, train_loss: 1.19371, acc: 0.52532\n",
            "[INFO 2025-02-19 17:40:06,285] [0] Ed: 230400, train_loss: 1.19371, acc: 0.52532\n"
          ]
        },
        {
          "name": "stderr",
          "output_type": "stream",
          "text": [
            "INFO:root:[0] Ed: 233600, train_loss: 1.19323, acc: 0.52553\n"
          ]
        },
        {
          "name": "stdout",
          "output_type": "stream",
          "text": [
            "[INFO 2025-02-19 17:40:21,087] [0] Ed: 233600, train_loss: 1.19323, acc: 0.52553\n",
            "[INFO 2025-02-19 17:40:21,087] [0] Ed: 233600, train_loss: 1.19323, acc: 0.52553\n"
          ]
        },
        {
          "name": "stderr",
          "output_type": "stream",
          "text": [
            "INFO:root:Training finish.\n"
          ]
        },
        {
          "name": "stdout",
          "output_type": "stream",
          "text": [
            "[INFO 2025-02-19 17:40:33,786] Training finish.\n",
            "[INFO 2025-02-19 17:40:33,786] Training finish.\n"
          ]
        },
        {
          "name": "stderr",
          "output_type": "stream",
          "text": [
            "INFO:root:Model saved to /content/model/epoch-5.pt.\n"
          ]
        },
        {
          "name": "stdout",
          "output_type": "stream",
          "text": [
            "[INFO 2025-02-19 17:40:33,831] Model saved to /content/model/epoch-5.pt.\n",
            "[INFO 2025-02-19 17:40:33,831] Model saved to /content/model/epoch-5.pt.\n"
          ]
        }
      ],
      "source": [
        "import torch.optim as optim\n",
        "news_combined = np.concatenate([x for x in [news_title] if x is not None], axis=-1)\n",
        "\n",
        "model = NRMS(args, embedding_matrix)\n",
        "if args.enable_gpu:\n",
        "    model = model.cuda(0)\n",
        "is_distributed = False\n",
        "if args.load_ckpt_name is not None:\n",
        "\tckpt_path = get_checkpoint(args.model_dir, args.load_ckpt_name)\n",
        "\tcheckpoint = torch.load(ckpt_path, map_location='cpu')\n",
        "\tmodel.load_state_dict(checkpoint['model_state_dict'])\n",
        "\tlogging.info(f\"Model loaded from {ckpt_path}.\")\n",
        "\n",
        "optimizer = optim.Adam(model.parameters(), lr=args.lr)\n",
        "\n",
        "if args.enable_gpu:\n",
        "\tmodel = model.cuda(rank)\n",
        "\n",
        "if is_distributed:\n",
        "\tmodel = torch.nn.parallel.DistributedDataParallel(model, device_ids=[rank])\n",
        "\n",
        "data_file_path = os.path.join(args.train_data_dir, f'behaviors_np{args.npratio}_{rank}.tsv')\n",
        "\n",
        "dataset = DatasetTrain(data_file_path, news_index, news_combined, args)\n",
        "dataloader = DataLoader(dataset, batch_size=args.batch_size)\n",
        "\n",
        "logging.info('Training...')\n",
        "for ep in range(args.start_epoch, args.epochs):\n",
        "\tloss = 0.0\n",
        "\taccuary = 0.0\n",
        "\tfor cnt, (log_ids, input_ids, targets) in enumerate(dataloader):\n",
        "\t\tif args.enable_gpu:\n",
        "\t\t\tlog_ids = log_ids.cuda(rank, non_blocking=True)\n",
        "\t\t\t# log_mask = log_mask.cuda(rank, non_blocking=True)\n",
        "\t\t\tinput_ids = input_ids.cuda(rank, non_blocking=True)\n",
        "\t\t\ttargets = targets.cuda(rank, non_blocking=True)\n",
        "\n",
        "\n",
        "\t\tbz_loss, y_hat = model(log_ids, input_ids, targets)\n",
        "\t\tloss += bz_loss.data.float()\n",
        "\t\taccuary += acc(targets, y_hat)\n",
        "\t\toptimizer.zero_grad()\n",
        "\t\tbz_loss.backward()\n",
        "\t\toptimizer.step()\n",
        "\n",
        "\t\tif cnt % args.log_steps == 0:\n",
        "\t\t\tlogging.info(\n",
        "\t\t\t\t'[{}] Ed: {}, train_loss: {:.5f}, acc: {:.5f}'.format(\n",
        "\t\t\t\t\trank, cnt * args.batch_size, loss.data / cnt, accuary / cnt)\n",
        "\t\t\t)\n",
        "\n",
        "\t\tif rank == 0 and cnt != 0 and cnt % args.save_steps == 0:\n",
        "\t\t\tckpt_path = os.path.join(args.model_dir, f'epoch-{ep+1}-{cnt}.pt')\n",
        "\t\t\ttorch.save(\n",
        "\t\t\t\t{\n",
        "\t\t\t\t\t'model_state_dict':\n",
        "\t\t\t\t\t\t{'.'.join(k.split('.')[1:]): v for k, v in model.state_dict().items()}\n",
        "\t\t\t\t\t\tif is_distributed else model.state_dict(),\n",
        "\t\t\t\t\t'category_dict': category_dict,\n",
        "\t\t\t\t\t'word_dict': word_dict,\n",
        "\t\t\t\t\t'subcategory_dict': subcategory_dict\n",
        "\t\t\t\t}, ckpt_path)\n",
        "\t\t\tlogging.info(f\"Model saved to {ckpt_path}.\")\n",
        "\n",
        "\tlogging.info('Training finish.')\n",
        "\n",
        "\tif rank == 0:\n",
        "\t\tckpt_path = os.path.join(args.model_dir, f'epoch-{ep+1}.pt')\n",
        "\t\ttorch.save(\n",
        "\t\t\t{\n",
        "\t\t\t\t'model_state_dict':\n",
        "\t\t\t\t\t{'.'.join(k.split('.')[1:]): v for k, v in model.state_dict().items()}\n",
        "\t\t\t\t\tif is_distributed else model.state_dict(),\n",
        "\t\t\t\t'category_dict': category_dict,\n",
        "\t\t\t\t'subcategory_dict': subcategory_dict,\n",
        "\t\t\t\t'word_dict': word_dict,\n",
        "\t\t\t}, ckpt_path)\n",
        "\t\tlogging.info(f\"Model saved to {ckpt_path}.\")\n",
        "\n"
      ]
    },
    {
      "cell_type": "code",
      "execution_count": null,
      "metadata": {
        "id": "vnEfHAuUZONo"
      },
      "outputs": [],
      "source": [
        "def test(rank, args):\n",
        "    is_distributed = False\n",
        "\n",
        "    torch.cuda.set_device(rank)\n",
        "\n",
        "    if args.load_ckpt_name is not None:\n",
        "        ckpt_path = get_checkpoint(args.model_dir, args.load_ckpt_name)\n",
        "\n",
        "    assert ckpt_path is not None, 'No checkpoint found.'\n",
        "    checkpoint = torch.load(ckpt_path, map_location='cpu')\n",
        "\n",
        "    subcategory_dict = checkpoint['subcategory_dict']\n",
        "    category_dict = checkpoint['category_dict']\n",
        "    word_dict = checkpoint['word_dict']\n",
        "\n",
        "    dummy_embedding_matrix = np.zeros((len(word_dict) + 1, args.word_embedding_dim))\n",
        "    model = NRMS(args, dummy_embedding_matrix)\n",
        "    model.load_state_dict(checkpoint['model_state_dict'])\n",
        "    logging.info(f\"Model loaded from {ckpt_path}\")\n",
        "\n",
        "    if args.enable_gpu:\n",
        "        model.cuda(rank)\n",
        "\n",
        "    model.eval()\n",
        "    torch.set_grad_enabled(False)\n",
        "\n",
        "    news, news_index, category_dict, subcategory_dict, word_dict = read_news(\n",
        "        os.path.join(args.train_data_dir, 'news.tsv'), args.test_abstract_dir, args, mode='train')\n",
        "    news_title, news_category, news_subcategory, news_abstract = get_doc_input(\n",
        "        news, news_index, category_dict, subcategory_dict, word_dict, args)\n",
        "    news_combined = np.concatenate([x for x in [news_title] if x is not None], axis=-1)\n",
        "\n",
        "    news_dataset = NewsDataset(news_combined)\n",
        "    news_dataloader = DataLoader(news_dataset,\n",
        "                                 batch_size=args.batch_size,\n",
        "                                 num_workers=4)\n",
        "\n",
        "    news_scoring = []\n",
        "    with torch.no_grad():\n",
        "        for input_ids in tqdm(news_dataloader):\n",
        "            input_ids = input_ids.cuda(rank)\n",
        "            news_vec = model.news_encoder(input_ids)\n",
        "            news_vec = news_vec.to(torch.device(\"cpu\")).detach().numpy()\n",
        "            news_scoring.extend(news_vec)\n",
        "\n",
        "    news_scoring = np.array(news_scoring)\n",
        "    logging.info(\"news scoring num: {}\".format(news_scoring.shape[0]))\n",
        "\n",
        "    if rank == 0:\n",
        "        doc_sim = 0\n",
        "        for _ in tqdm(range(1000000)):\n",
        "            i = random.randrange(1, len(news_scoring))\n",
        "            j = random.randrange(1, len(news_scoring))\n",
        "            if i != j:\n",
        "                doc_sim += np.dot(news_scoring[i], news_scoring[j]) / (np.linalg.norm(news_scoring[i]) * np.linalg.norm(news_scoring[j]))\n",
        "        logging.info(f'News doc-sim: {doc_sim / 1000000}')\n",
        "\n",
        "    data_file_path = os.path.join(args.test_data_dir, f'behaviors_{rank}.tsv')\n",
        "\n",
        "    def collate_fn(tuple_list):\n",
        "        log_vecs = torch.FloatTensor([x[0] for x in tuple_list])\n",
        "        # log_mask = torch.FloatTensor([x[1] for x in tuple_list])\n",
        "        news_vecs = [x[1] for x in tuple_list]\n",
        "        labels = [x[2] for x in tuple_list]\n",
        "        return (log_vecs, news_vecs, labels)\n",
        "\n",
        "    dataset = DatasetTest(data_file_path, news_index, news_scoring, args)\n",
        "    dataloader = DataLoader(dataset, batch_size=args.batch_size, collate_fn=collate_fn)\n",
        "\n",
        "    AUC = []\n",
        "    MRR = []\n",
        "    nDCG5 = []\n",
        "    nDCG10 = []\n",
        "\n",
        "    def print_metrics(rank, cnt, x):\n",
        "        logging.info(\"[{}] {} samples: {}\".format(rank, cnt, '\\t'.join([\"{:0.2f}\".format(i * 100) for i in x])))\n",
        "\n",
        "    def get_mean(arr):\n",
        "        return [np.array(i).mean() for i in arr]\n",
        "\n",
        "    def get_sum(arr):\n",
        "        return [np.array(i).sum() for i in arr]\n",
        "\n",
        "    local_sample_num = 0\n",
        "\n",
        "    for cnt, (log_vecs, news_vecs, labels) in enumerate(dataloader):\n",
        "        local_sample_num += log_vecs.shape[0]\n",
        "\n",
        "        if args.enable_gpu:\n",
        "            log_vecs = log_vecs.cuda(rank, non_blocking=True)\n",
        "\n",
        "        user_vecs = model.user_encoder(log_vecs).to(torch.device(\"cpu\")).detach().numpy()\n",
        "\n",
        "        for user_vec, news_vec, label in zip(user_vecs, news_vecs, labels):\n",
        "            if label.mean() == 0 or label.mean() == 1:\n",
        "                continue\n",
        "\n",
        "            score = np.dot(news_vec, user_vec)\n",
        "\n",
        "            auc = roc_auc_score(label, score)\n",
        "            mrr = mrr_score(label, score)\n",
        "            ndcg5 = ndcg_score(label, score, k=5)\n",
        "            ndcg10 = ndcg_score(label, score, k=10)\n",
        "\n",
        "            AUC.append(auc)\n",
        "            MRR.append(mrr)\n",
        "            nDCG5.append(ndcg5)\n",
        "            nDCG10.append(ndcg10)\n",
        "\n",
        "        if cnt % args.log_steps == 0:\n",
        "            print_metrics(rank, local_sample_num, get_mean([AUC, MRR, nDCG5, nDCG10]))\n",
        "\n",
        "    logging.info('[{}] local_sample_num: {}'.format(rank, local_sample_num))\n",
        "    if is_distributed:\n",
        "        local_sample_num = torch.tensor(local_sample_num).cuda(rank)\n",
        "        dist.reduce(local_sample_num, dst=0, op=dist.ReduceOp.SUM)\n",
        "        local_metrics_sum = torch.FloatTensor(get_sum([AUC, MRR, nDCG5, nDCG10])).cuda(rank)\n",
        "        dist.reduce(local_metrics_sum, dst=0, op=dist.ReduceOp.SUM)\n",
        "        if rank == 0:\n",
        "            print_metrics('*', local_sample_num, local_metrics_sum / local_sample_num)\n",
        "    else:\n",
        "        print_metrics('*', local_sample_num, get_mean([AUC, MRR, nDCG5, nDCG10]))\n"
      ]
    },
    {
      "cell_type": "code",
      "execution_count": null,
      "metadata": {
        "colab": {
          "base_uri": "https://localhost:8080/"
        },
        "id": "uvyl4jTjg9ca",
        "outputId": "c06f9168-c60d-43c1-ea0b-97a36b2c3dca"
      },
      "outputs": [
        {
          "name": "stderr",
          "output_type": "stream",
          "text": [
            "INFO:root:Preparing testing data...\n"
          ]
        },
        {
          "name": "stdout",
          "output_type": "stream",
          "text": [
            "[INFO 2025-02-19 17:40:34,938] Preparing testing data...\n",
            "[INFO 2025-02-19 17:40:34,938] Preparing testing data...\n"
          ]
        },
        {
          "name": "stderr",
          "output_type": "stream",
          "text": [
            "73152it [00:04, 15900.24it/s]\n",
            "INFO:root:Writing files...\n"
          ]
        },
        {
          "name": "stdout",
          "output_type": "stream",
          "text": [
            "[INFO 2025-02-19 17:40:39,870] Writing files...\n",
            "[INFO 2025-02-19 17:40:39,870] Writing files...\n"
          ]
        },
        {
          "name": "stderr",
          "output_type": "stream",
          "text": [
            "INFO:root:73152 testing samples in total.\n"
          ]
        },
        {
          "name": "stdout",
          "output_type": "stream",
          "text": [
            "[INFO 2025-02-19 17:40:45,042] 73152 testing samples in total.\n",
            "[INFO 2025-02-19 17:40:45,042] 73152 testing samples in total.\n"
          ]
        }
      ],
      "source": [
        "args.mode = 'test'\n",
        "args.user_log_mask=True\n",
        "args.batch_size=128\n",
        "args.load_ckpt_name= 'epoch-5.pt'\n",
        "args.prepare=True\n",
        "if 'test' in args.mode:\n",
        "        if args.prepare:\n",
        "            logging.info('Preparing testing data...')\n",
        "            total_sample_num = prepare_testing_data(args.test_data_dir, args.nGPU)\n",
        "        else:\n",
        "            total_sample_num = 0\n",
        "            for i in range(args.nGPU):\n",
        "                data_file_path = os.path.join(args.test_data_dir, f'behaviors_{i}.tsv')\n",
        "                if not os.path.exists(data_file_path):\n",
        "                    logging.error(f'Splited testing data {data_file_path} for GPU {i} does not exist. Please set the parameter --prepare as True and rerun the code.')\n",
        "                    exit()\n",
        "                result = subprocess.getoutput(f'wc -l {data_file_path}')\n",
        "                total_sample_num += int(result.split(' ')[0])\n",
        "            logging.info('Skip testing data preparation.')\n",
        "        logging.info(f'{total_sample_num} testing samples in total.')\n",
        "\n"
      ]
    },
    {
      "cell_type": "code",
      "execution_count": null,
      "metadata": {
        "colab": {
          "base_uri": "https://localhost:8080/"
        },
        "id": "cUQSere6hAKy",
        "outputId": "d133ef9e-e58a-4ff7-c3e2-12e43e1ba608"
      },
      "outputs": [
        {
          "name": "stderr",
          "output_type": "stream",
          "text": [
            "<ipython-input-36-344a7e7e98c1>:10: FutureWarning: You are using `torch.load` with `weights_only=False` (the current default value), which uses the default pickle module implicitly. It is possible to construct malicious pickle data which will execute arbitrary code during unpickling (See https://github.com/pytorch/pytorch/blob/main/SECURITY.md#untrusted-models for more details). In a future release, the default value for `weights_only` will be flipped to `True`. This limits the functions that could be executed during unpickling. Arbitrary objects will no longer be allowed to be loaded via this mode unless they are explicitly allowlisted by the user via `torch.serialization.add_safe_globals`. We recommend you start setting `weights_only=True` for any use case where you don't have full control of the loaded file. Please open an issue on GitHub for any issues related to this experimental feature.\n",
            "  checkpoint = torch.load(ckpt_path, map_location='cpu')\n",
            "INFO:root:Model loaded from /content/model/epoch-5.pt\n"
          ]
        },
        {
          "name": "stdout",
          "output_type": "stream",
          "text": [
            "[INFO 2025-02-19 17:43:09,698] Model loaded from /content/model/epoch-5.pt\n",
            "[INFO 2025-02-19 17:43:09,698] Model loaded from /content/model/epoch-5.pt\n"
          ]
        },
        {
          "name": "stderr",
          "output_type": "stream",
          "text": [
            "51282it [00:04, 12052.85it/s]\n",
            "100%|██████████| 51282/51282 [00:00<00:00, 187115.04it/s]\n",
            "/usr/local/lib/python3.11/dist-packages/torch/utils/data/dataloader.py:617: UserWarning: This DataLoader will create 4 worker processes in total. Our suggested max number of worker in current system is 2, which is smaller than what this DataLoader is going to create. Please be aware that excessive worker creation might get DataLoader running slow or even freeze, lower the worker number to avoid potential slowness/freeze if necessary.\n",
            "  warnings.warn(\n",
            "100%|██████████| 401/401 [00:01<00:00, 313.05it/s]\n",
            "INFO:root:news scoring num: 51283\n"
          ]
        },
        {
          "name": "stdout",
          "output_type": "stream",
          "text": [
            "[INFO 2025-02-19 17:43:15,751] news scoring num: 51283\n",
            "[INFO 2025-02-19 17:43:15,751] news scoring num: 51283\n"
          ]
        },
        {
          "name": "stderr",
          "output_type": "stream",
          "text": [
            "100%|██████████| 1000000/1000000 [00:10<00:00, 97864.41it/s]\n",
            "INFO:root:News doc-sim: 0.05019143021884577\n"
          ]
        },
        {
          "name": "stdout",
          "output_type": "stream",
          "text": [
            "[INFO 2025-02-19 17:43:25,975] News doc-sim: 0.05019143021884577\n",
            "[INFO 2025-02-19 17:43:25,975] News doc-sim: 0.05019143021884577\n"
          ]
        },
        {
          "name": "stderr",
          "output_type": "stream",
          "text": [
            "INFO:root:[0] 128 samples: 65.98\t31.36\t34.26\t40.93\n"
          ]
        },
        {
          "name": "stdout",
          "output_type": "stream",
          "text": [
            "[INFO 2025-02-19 17:43:26,536] [0] 128 samples: 65.98\t31.36\t34.26\t40.93\n",
            "[INFO 2025-02-19 17:43:26,536] [0] 128 samples: 65.98\t31.36\t34.26\t40.93\n"
          ]
        },
        {
          "name": "stderr",
          "output_type": "stream",
          "text": [
            "INFO:root:[0] 12928 samples: 64.16\t30.57\t33.30\t39.53\n"
          ]
        },
        {
          "name": "stdout",
          "output_type": "stream",
          "text": [
            "[INFO 2025-02-19 17:44:32,354] [0] 12928 samples: 64.16\t30.57\t33.30\t39.53\n",
            "[INFO 2025-02-19 17:44:32,354] [0] 12928 samples: 64.16\t30.57\t33.30\t39.53\n"
          ]
        },
        {
          "name": "stderr",
          "output_type": "stream",
          "text": [
            "INFO:root:[0] 25728 samples: 64.29\t30.83\t33.59\t39.75\n"
          ]
        },
        {
          "name": "stdout",
          "output_type": "stream",
          "text": [
            "[INFO 2025-02-19 17:45:39,188] [0] 25728 samples: 64.29\t30.83\t33.59\t39.75\n",
            "[INFO 2025-02-19 17:45:39,188] [0] 25728 samples: 64.29\t30.83\t33.59\t39.75\n"
          ]
        },
        {
          "name": "stderr",
          "output_type": "stream",
          "text": [
            "INFO:root:[0] 38528 samples: 64.24\t30.72\t33.50\t39.67\n"
          ]
        },
        {
          "name": "stdout",
          "output_type": "stream",
          "text": [
            "[INFO 2025-02-19 17:46:44,761] [0] 38528 samples: 64.24\t30.72\t33.50\t39.67\n",
            "[INFO 2025-02-19 17:46:44,761] [0] 38528 samples: 64.24\t30.72\t33.50\t39.67\n"
          ]
        },
        {
          "name": "stderr",
          "output_type": "stream",
          "text": [
            "INFO:root:[0] 51328 samples: 64.15\t30.49\t33.26\t39.43\n"
          ]
        },
        {
          "name": "stdout",
          "output_type": "stream",
          "text": [
            "[INFO 2025-02-19 17:47:50,154] [0] 51328 samples: 64.15\t30.49\t33.26\t39.43\n",
            "[INFO 2025-02-19 17:47:50,154] [0] 51328 samples: 64.15\t30.49\t33.26\t39.43\n"
          ]
        },
        {
          "name": "stderr",
          "output_type": "stream",
          "text": [
            "INFO:root:[0] 64128 samples: 64.11\t30.54\t33.30\t39.48\n"
          ]
        },
        {
          "name": "stdout",
          "output_type": "stream",
          "text": [
            "[INFO 2025-02-19 17:48:55,845] [0] 64128 samples: 64.11\t30.54\t33.30\t39.48\n",
            "[INFO 2025-02-19 17:48:55,845] [0] 64128 samples: 64.11\t30.54\t33.30\t39.48\n"
          ]
        },
        {
          "name": "stderr",
          "output_type": "stream",
          "text": [
            "INFO:root:[0] local_sample_num: 73152\n"
          ]
        },
        {
          "name": "stdout",
          "output_type": "stream",
          "text": [
            "[INFO 2025-02-19 17:49:42,951] [0] local_sample_num: 73152\n",
            "[INFO 2025-02-19 17:49:42,951] [0] local_sample_num: 73152\n"
          ]
        },
        {
          "name": "stderr",
          "output_type": "stream",
          "text": [
            "INFO:root:[*] 73152 samples: 64.10\t30.59\t33.36\t39.52\n"
          ]
        },
        {
          "name": "stdout",
          "output_type": "stream",
          "text": [
            "[INFO 2025-02-19 17:49:43,011] [*] 73152 samples: 64.10\t30.59\t33.36\t39.52\n",
            "[INFO 2025-02-19 17:49:43,011] [*] 73152 samples: 64.10\t30.59\t33.36\t39.52\n"
          ]
        }
      ],
      "source": [
        "test(0, args)"
      ]
    },
    {
      "cell_type": "code",
      "execution_count": null,
      "metadata": {
        "id": "2g9euVCuhBrP"
      },
      "outputs": [],
      "source": []
    }
  ],
  "metadata": {
    "accelerator": "GPU",
    "colab": {
      "gpuType": "T4",
      "provenance": []
    },
    "kernelspec": {
      "display_name": "Python 3",
      "name": "python3"
    },
    "language_info": {
      "codemirror_mode": {
        "name": "ipython",
        "version": 3
      },
      "file_extension": ".py",
      "mimetype": "text/x-python",
      "name": "python",
      "nbconvert_exporter": "python",
      "pygments_lexer": "ipython3",
      "version": "3.12.2"
    }
  },
  "nbformat": 4,
  "nbformat_minor": 0
}
