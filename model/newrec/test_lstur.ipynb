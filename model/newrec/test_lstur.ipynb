{
  "cells": [
    {
      "cell_type": "code",
      "execution_count": null,
      "metadata": {
        "colab": {
          "base_uri": "https://localhost:8080/"
        },
        "id": "Jb2bDxXnL4Ot",
        "outputId": "894855b4-66be-4494-bfd2-812627aaf84f"
      },
      "outputs": [
        {
          "name": "stdout",
          "output_type": "stream",
          "text": [
            "Mounted at /content/drive\n"
          ]
        }
      ],
      "source": [
        "from google.colab import drive\n",
        "drive.mount('/content/drive')"
      ]
    },
    {
      "cell_type": "code",
      "execution_count": null,
      "metadata": {
        "id": "E7i79ErILbl8"
      },
      "outputs": [],
      "source": [
        "import pandas as pd\n",
        "from tqdm import tqdm\n",
        "from nltk.tokenize import word_tokenize\n",
        "from collections import Counter\n",
        "import numpy as np\n",
        "import random\n",
        "import logging\n",
        "import os\n",
        "import torch.optim as optim\n",
        "import torch.distributed as dist\n",
        "from torch.utils.data import DataLoader\n",
        "from pathlib import Path\n",
        "\n"
      ]
    },
    {
      "cell_type": "code",
      "execution_count": null,
      "metadata": {
        "id": "WxUXYhf2MjaM"
      },
      "outputs": [],
      "source": [
        "from dataclasses import dataclass\n",
        "from typing import Optional\n",
        "\n",
        "@dataclass\n",
        "class Args:\n",
        "    nGPU: int = 1\n",
        "    seed: int = 0\n",
        "    prepare: bool = True\n",
        "    mode: str = \"train\"\n",
        "    train_data_dir: str = \"/content/drive/MyDrive/Colab Notebooks/NewsRecommendation/data/MINDsmall_train\"\n",
        "    test_data_dir: str = \"/content/drive/MyDrive/Colab Notebooks/NewsRecommendation/data/MINDsmall_dev\"\n",
        "    train_abstract_dir: str = '/content/genAbs0.json'\n",
        "    # \"/content/drive/MyDrive/Colab Notebooks/NewsRecommendation/data/train_gen_abs.json\"\n",
        "    test_abstract_dir: str = '/content/genAbs0.json'\n",
        "    # \"/content/drive/MyDrive/Colab Notebooks/NewsRecommendation/data/Dev_gen_abs.json\"\n",
        "    model_dir: str = '/content/drive/MyDrive/Colab Notebooks/NewsRecommendation/LSTUR model'\n",
        "    batch_size: int = 32\n",
        "    npratio: int = 4\n",
        "    enable_gpu: bool = True\n",
        "    filter_num: int = 3\n",
        "    log_steps: int = 100\n",
        "    epochs: int = 5\n",
        "    lr: float = 0.0003\n",
        "    num_words_title: int = 20\n",
        "    num_words_abstract: int = 50\n",
        "    user_log_length: int = 50\n",
        "    word_embedding_dim: int = 300\n",
        "    glove_embedding_path: str = '/content/drive/MyDrive/Colab Notebooks/NewsRecommendation/data/glove.840B.300d.txt'\n",
        "    freeze_embedding: bool = False\n",
        "    news_dim: int = 400\n",
        "    news_query_vector_dim: int = 200\n",
        "    user_query_vector_dim: int = 200\n",
        "    num_attention_heads: int = 15\n",
        "    user_log_mask: bool = False\n",
        "    dropout_probability = 0.2\n",
        "    save_steps: int = 10000\n",
        "    start_epoch: int = 0\n",
        "    load_ckpt_name: Optional[str] = None\n",
        "    use_category: bool = True\n",
        "    use_subcategory: bool = True\n",
        "    use_abstract: bool = True\n",
        "    use_custom_abstract: bool = True\n",
        "    category_emb_dim: int = 100\n",
        "    num_filters = 300\n",
        "    window_size = 3\n",
        "    long_short_term_method = 'ini'\n",
        "    masking_probability = 0.5\n",
        "    num_users = 1 + 50000\n",
        "    num_categories = 1 + 274\n",
        "\n",
        "def parse_args():\n",
        "  return Args()\n"
      ]
    },
    {
      "cell_type": "markdown",
      "metadata": {
        "id": "s_SLKbAZpKFK"
      },
      "source": [
        "**Dataset.py**"
      ]
    },
    {
      "cell_type": "code",
      "execution_count": null,
      "metadata": {
        "id": "pqMrlk2u-Hiv"
      },
      "outputs": [],
      "source": [
        "                                                                                                                                                                                                                                                                                                              from torch.utils.data import IterableDataset, Dataset\n",
        "                                                                                                                                                                                                                                                                                                              import numpy as np\n",
        "                                                                                                                                                                                                                                                                                                              import random\n",
        "                                                                                                                                                                                                                                                                                                              import json\n",
        "\n",
        "\n",
        "                                                                                                                                                                                                                                                                                                              class DatasetTrain(IterableDataset):\n",
        "                                                                                                                                                                                                                                                                                                                  def __init__(self, filename, news_index, news_combined, user2id_path, args):\n",
        "                                                                                                                                                                                                                                                                                                                      super(DatasetTrain).__init__()\n",
        "                                                                                                                                                                                                                                                                                                                      self.filename = filename\n",
        "                                                                                                                                                                                                                                                                                                                      self.news_index = news_index  # Maps news ID -> index\n",
        "                                                                                                                                                                                                                                                                                                                      self.news_combined = news_combined  # News feature matrix\n",
        "                                                                                                                                                                                                                                                                                                                      self.args = args\n",
        "\n",
        "                                                                                                                                                                                                                                                                                                                      # Load user2id mapping from file\n",
        "                                                                                                                                                                                                                                                                                                                      with open(user2id_path, \"r\") as f:\n",
        "                                                                                                                                                                                                                                                                                                                          self.user2id = json.load(f)\n",
        "\n",
        "                                                                                                                                                                                                                                                                                                                  def trans_to_nindex(self, nids):\n",
        "                                                                                                                                                                                                                                                                                                                      return [self.news_index[i] if i in self.news_index else 0 for i in nids]\n",
        "\n",
        "                                                                                                                                                                                                                                                                                                                  def pad_to_fix_len(self, x, fix_length, padding_front=True, padding_value=0):\n",
        "                                                                                                                                                                                                                                                                                                                      if padding_front:\n",
        "                                                                                                                                                                                                                                                                                                                          pad_x = [padding_value] * (fix_length - len(x)) + x[-fix_length:]\n",
        "                                                                                                                                                                                                                                                                                                                          mask = [0] * (fix_length - len(x)) + [1] * min(fix_length, len(x))\n",
        "                                                                                                                                                                                                                                                                                                                      else:\n",
        "                                                                                                                                                                                                                                                                                                                          pad_x = x[-fix_length:] + [padding_value] * (fix_length - len(x))\n",
        "                                                                                                                                                                                                                                                                                                                          mask = [1] * min(fix_length, len(x)) + [0] * (fix_length - len(x))\n",
        "                                                                                                                                                                                                                                                                                                                      return pad_x, np.array(mask, dtype='float32')\n",
        "\n",
        "                                                                                                                                                                                                                                                                                                                  def line_mapper(self, line):\n",
        "                                                                                                                                                                                                                                                                                                                      line = line.strip().split(\"\\t\")\n",
        "\n",
        "                                                                                                                                                                                                                                                                                                                      user_id = line[0]  # First column is user ID\n",
        "                                                                                                                                                                                                                                                                                                                      click_docs = line[3].split()  # Clicked news IDs\n",
        "                                                                                                                                                                                                                                                                                                                      sess_pos = line[4].split()  # Positive candidate news IDs\n",
        "                                                                                                                                                                                                                                                                                                                      sess_neg = line[5].split()  # Negative candidate news IDs\n",
        "\n",
        "                                                                                                                                                                                                                                                                                                                      # Convert user ID to index, default to \"unk\" if missing\n",
        "                                                                                                                                                                                                                                                                                                                      user_index = self.user2id.get(user_id, self.user2id[\"unk\"])\n",
        "\n",
        "                                                                                                                                                                                                                                                                                                                      # Convert clicked news IDs to indices print(f\"user shape: {user.shape}\")\n",
        "\n",
        "                                                                                                                                                                                                                                                                                                                      clicked_news = self.trans_to_nindex(click_docs)\n",
        "                                                                                                                                                                                                                                                                                                                      clicked_news_length = len(clicked_news)\n",
        "\n",
        "\n",
        "                                                                                                                                                                                                                                                                                                                      # Pad clicked news to fixed length\n",
        "                                                                                                                                                                                                                                                                                                                      clicked_docs, _ = self.pad_to_fix_len(clicked_news, self.args.user_log_length)\n",
        "                                                                                                                                                                                                                                                                                                                      clicked_news_feature = self.news_combined[clicked_docs]\n",
        "\n",
        "                                                                                                                                                                                                                                                                                                                      # Sample candidate news (positive + negative)\n",
        "                                                                                                                                                                                                                                                                                                                      pos = self.trans_to_nindex(sess_pos)\n",
        "                                                                                                                                                                                                                                                                                                                      neg = self.trans_to_nindex(sess_neg)\n",
        "                                                                                                                                                                                                                                                                                                                      label = random.randint(0, self.args.npratio)\n",
        "                                                                                                                                                                                                                                                                                                                      sample_news = neg[:label] + pos + neg[label:]\n",
        "                                                                                                                                                                                                                                                                                                                      # sample_news, _ = self.pad_to_fix_len(self.trans_to_nindex(sample_news), self.args.user_log_length)\n",
        "\n",
        "                                                                                                                                                                                                                                                                                                                      candidate_news_feature = self.news_combined[sample_news]\n",
        "\n",
        "                                                                                                                                                                                                                                                                                                                      return user_index, clicked_news_length, candidate_news_feature, clicked_news_feature, label\n",
        "\n",
        "                                                                                                                                                                                                                                                                                                                  def __iter__(self):\n",
        "                                                                                                                                                                                                                                                                                                                      file_iter = open(self.filename)\n",
        "                                                                                                                                                                                                                                                                                                                      return map(self.line_mapper, file_iter)\n",
        "\n",
        "\n",
        "                                                                                                                                                                                                                                                                                                              class DatasetTest(DatasetTrain):\n",
        "                                                                                                                                                                                                                                                                                                                  def __init__(self, filename, news_index, news_scoring, user2id_path, args):\n",
        "                                                                                                                                                                                                                                                                                                                      super(DatasetTrain).__init__()\n",
        "                                                                                                                                                                                                                                                                                                                      self.filename = filename\n",
        "                                                                                                                                                                                                                                                                                                                      self.news_index = news_index\n",
        "                                                                                                                                                                                                                                                                                                                      self.news_scoring = news_scoring\n",
        "                                                                                                                                                                                                                                                                                                                      self.args = args\n",
        "\n",
        "                                                                                                                                                                                                                                                                                                                      # Load user2id mapping from file\n",
        "                                                                                                                                                                                                                                                                                                                      with open(user2id_path, \"r\") as f:\n",
        "                                                                                                                                                                                                                                                                                                                          self.user2id = json.load(f)\n",
        "\n",
        "                                                                                                                                                                                                                                                                                                                  def line_mapper(self, line):\n",
        "                                                                                                                                                                                                                                                                                                                      line = line.strip().split(\"\\t\")\n",
        "\n",
        "                                                                                                                                                                                                                                                                                                                      user_id = line[0]\n",
        "                                                                                                                                                                                                                                                                                                                      click_docs = line[3].split()\n",
        "\n",
        "                                                                                                                                                                                                                                                                                                                      user_index = self.user2id.get(user_id, self.user2id[\"unk\"])\n",
        "\n",
        "                                                                                                                                                                                                                                                                                                                      clicked_news = self.trans_to_nindex(click_docs)\n",
        "                                                                                                                                                                                                                                                                                                                      clicked_news_length = len(clicked_news)\n",
        "\n",
        "                                                                                                                                                                                                                                                                                                                      clicked_docs, _ = self.pad_to_fix_len(clicked_news, self.args.user_log_length)\n",
        "                                                                                                                                                                                                                                                                                                                      clicked_news_indices = self.trans_to_nindex(click_docs)  # Convert news IDs to indices\n",
        "                                                                                                                                                                                                                                                                                                                      clicked_news_feature = self.news_scoring[clicked_docs]\n",
        "\n",
        "\n",
        "\n",
        "                                                                                                                                                                                                                                                                                                                      candidate_news = self.trans_to_nindex([i.split('-')[0] for i in line[4].split()])\n",
        "                                                                                                                                                                                                                                                                                                                      label = np.array([int(i.split('-')[1]) for i in line[4].split()])\n",
        "                                                                                                                                                                                                                                                                                                                      candidate_news_feature  = self.news_scoring[candidate_news]\n",
        "\n",
        "                                                                                                                                                                                                                                                                                                                      return user_index, clicked_news_length, candidate_news_feature, clicked_news_feature, label\n",
        "                                                                                                                                                                                                                                                                                                                  def __iter__(self):\n",
        "                                                                                                                                                                                                                                                                                                                      file_iter = open(self.filename)\n",
        "                                                                                                                                                                                                                                                                                                                      return map(self.line_mapper, file_iter)\n",
        "\n",
        "\n",
        "                                                                                                                                                                                                                                                                                                              class NewsDataset(Dataset):\n",
        "                                                                                                                                                                                                                                                                                                                  def __init__(self, data):\n",
        "                                                                                                                                                                                                                                                                                                                      self.data = data\n",
        "\n",
        "                                                                                                                                                                                                                                                                                                                  def __getitem__(self, idx):\n",
        "                                                                                                                                                                                                                                                                                                                      return self.data[idx]\n",
        "\n",
        "                                                                                                                                                                                                                                                                                                                  def __len__(self):\n",
        "                                                                                                                                                                                                                                                                                                                      return self.data.shape[0]\n"
      ]
    },
    {
      "cell_type": "markdown",
      "metadata": {
        "id": "J1IjisEE-LHb"
      },
      "source": [
        "**Metric.py**"
      ]
    },
    {
      "cell_type": "code",
      "execution_count": null,
      "metadata": {
        "id": "ppd8qdG1-Nr3"
      },
      "outputs": [],
      "source": [
        "from sklearn.metrics import roc_auc_score\n",
        "import numpy as np\n",
        "\n",
        "\n",
        "def dcg_score(y_true, y_score, k=10):\n",
        "    order = np.argsort(y_score)[::-1]\n",
        "    y_true = np.take(y_true, order[:k])\n",
        "    gains = 2**y_true - 1\n",
        "    discounts = np.log2(np.arange(len(y_true)) + 2)\n",
        "    return np.sum(gains / discounts)\n",
        "\n",
        "\n",
        "def ndcg_score(y_true, y_score, k=10):\n",
        "    best = dcg_score(y_true, y_true, k)\n",
        "    actual = dcg_score(y_true, y_score, k)\n",
        "    return actual / best\n",
        "\n",
        "\n",
        "def mrr_score(y_true, y_score):\n",
        "    order = np.argsort(y_score)[::-1]\n",
        "    y_true = np.take(y_true, order)\n",
        "    rr_score = y_true / (np.arange(len(y_true)) + 1)\n",
        "    return np.sum(rr_score) / np.sum(y_true)\n",
        "\n",
        "\n",
        "def ctr_score(y_true, y_score, k=1):\n",
        "    order = np.argsort(y_score)[::-1]\n",
        "    y_true = np.take(y_true, order[:k])\n",
        "    return np.mean(y_true)\n",
        "\n",
        "def acc(y_true, y_hat):\n",
        "    y_hat = torch.argmax(y_hat, dim=-1)\n",
        "    tot = y_true.shape[0]\n",
        "    hit = torch.sum(y_true == y_hat)\n",
        "    return hit.data.float() * 1.0 / tot\n",
        "\n"
      ]
    },
    {
      "cell_type": "markdown",
      "metadata": {
        "id": "D1ZeoY8x-5Ds"
      },
      "source": [
        "**Ultis.py**"
      ]
    },
    {
      "cell_type": "code",
      "execution_count": null,
      "metadata": {
        "id": "Dfr-ri4E-s3M"
      },
      "outputs": [],
      "source": [
        "import logging\n",
        "import argparse\n",
        "import sys\n",
        "\n",
        "def setuplogger():\n",
        "    root = logging.getLogger()\n",
        "    root.setLevel(logging.INFO)\n",
        "    handler = logging.StreamHandler(sys.stdout)\n",
        "    handler.setLevel(logging.INFO)\n",
        "    formatter = logging.Formatter(\"[%(levelname)s %(asctime)s] %(message)s\")\n",
        "    handler.setFormatter(formatter)\n",
        "    root.addHandler(handler)\n",
        "\n",
        "\n",
        "def dump_args(args):\n",
        "    for arg in dir(args):\n",
        "        if not arg.startswith(\"_\"):\n",
        "            logging.info(f\"args[{arg}]={getattr(args, arg)}\")\n",
        "\n",
        "def load_matrix(embedding_file_path, word_dict, word_embedding_dim):\n",
        "    embedding_matrix = np.zeros(shape=(len(word_dict) + 1, word_embedding_dim))\n",
        "    have_word = []\n",
        "    if embedding_file_path is not None:\n",
        "        with open(embedding_file_path, 'rb') as f:\n",
        "            while True:\n",
        "                line = f.readline()\n",
        "                if len(line) == 0:\n",
        "                    break\n",
        "                line = line.split()\n",
        "                word = line[0].decode()\n",
        "                if word in word_dict:\n",
        "                    index = word_dict[word]\n",
        "                    tp = [float(x) for x in line[1:]]\n",
        "                    embedding_matrix[index] = np.array(tp)\n",
        "                    have_word.append(word)\n",
        "    return embedding_matrix, have_word\n",
        "\n",
        "\n",
        "def get_checkpoint(directory, ckpt_name):\n",
        "    ckpt_path = os.path.join(directory, ckpt_name)\n",
        "    if os.path.exists(ckpt_path):\n",
        "        return ckpt_path\n",
        "    else:\n",
        "        return None\n"
      ]
    },
    {
      "cell_type": "markdown",
      "metadata": {
        "id": "pqNlsklUAi48"
      },
      "source": [
        "**preprocess.py**"
      ]
    },
    {
      "cell_type": "code",
      "execution_count": null,
      "metadata": {
        "id": "_Ja_pvD0AYwg"
      },
      "outputs": [],
      "source": [
        "from collections import Counter\n",
        "from tqdm import tqdm\n",
        "import numpy as np\n",
        "from nltk.tokenize import word_tokenize\n",
        "import json\n",
        "\n",
        "\n",
        "def update_dict(dict, key, value=None):\n",
        "    if key not in dict:\n",
        "        if value is None:\n",
        "            dict[key] = len(dict) + 1\n",
        "        else:\n",
        "            dict[key] = value\n",
        "\n",
        "\n",
        "def read_custom_abstract(news_file, custom_abstract_dict):\n",
        "    news = {}\n",
        "    news_index = {}\n",
        "    category_dict = {}\n",
        "    subcategory_dict = {}\n",
        "    word_cnt = {}\n",
        "\n",
        "    with open(news_file, 'r', encoding='utf-8') as f:\n",
        "        for line in f:\n",
        "            splited = line.strip('\\n').split('\\t')\n",
        "            doc_id, category, subcategory, title, abstract, url, entity_title, entity_abstract = splited\n",
        "            if doc_id in custom_abstract_dict:\n",
        "                abstract = custom_abstract_dict[doc_id]\n",
        "            news[doc_id] = [title.split(' '), category, subcategory, abstract.split(' ')]\n",
        "            news_index[doc_id] = len(news_index) + 1\n",
        "            for word in title.split(' '):\n",
        "                if word not in word_cnt:\n",
        "                    word_cnt[word] = 0\n",
        "                word_cnt[word] += 1\n",
        "            for word in abstract.split(' '):\n",
        "                if word not in word_cnt:\n",
        "                    word_cnt[word] = 0\n",
        "                word_cnt[word] += 1\n",
        "            if category not in category_dict:\n",
        "                category_dict[category] = len(category_dict) + 1\n",
        "            if subcategory not in subcategory_dict:\n",
        "                subcategory_dict[subcategory] = len(subcategory_dict) + 1\n",
        "\n",
        "    return news, news_index, category_dict, subcategory_dict, word_cnt\n",
        "\n",
        "def read_news(news_path, abstract_path, args, mode='train'):\n",
        "    news = {}\n",
        "    category_dict = {}\n",
        "    subcategory_dict = {}\n",
        "    news_index = {}\n",
        "    word_cnt = Counter()\n",
        "    if args.use_custom_abstract:\n",
        "      with open(abstract_path, 'r') as f:\n",
        "          abs = json.load(f)\n",
        "    with open(news_path, 'r', encoding='utf-8') as f:\n",
        "        for line in tqdm(f):\n",
        "            splited = line.strip('\\n').split('\\t')\n",
        "            doc_id, category, subcategory, title, abstract, url, _, _ = splited\n",
        "            update_dict(news_index, doc_id)\n",
        "\n",
        "            title = title.lower()\n",
        "            title = word_tokenize(title, language='english', preserve_line=True)\n",
        "\n",
        "            update_dict(news, doc_id, [title, category, subcategory, abs[doc_id] if doc_id in abs else abstract])\n",
        "            if mode == 'train':\n",
        "                if args.use_category:\n",
        "                    update_dict(category_dict, category)\n",
        "                if args.use_subcategory:\n",
        "                    update_dict(subcategory_dict, subcategory)\n",
        "                word_cnt.update(title)\n",
        "\n",
        "    if mode == 'train':\n",
        "        word = [k for k, v in word_cnt.items() if v > args.filter_num]\n",
        "        word_dict = {k: v for k, v in zip(word, range(1, len(word) + 1))}\n",
        "        return news, news_index, category_dict, subcategory_dict, word_dict\n",
        "    elif mode == 'test':\n",
        "        return news, news_index\n",
        "    else:\n",
        "        assert False, 'Wrong mode!'\n",
        "\n",
        "\n",
        "def get_doc_input(news, news_index, category_dict, subcategory_dict, word_dict, args):\n",
        "    news_num = len(news) + 1\n",
        "    news_title = np.zeros((news_num, args.num_words_title), dtype='int32')\n",
        "    news_category = np.zeros((news_num, 1), dtype='int32') if args.use_category else None\n",
        "    news_subcategory = np.zeros((news_num, 1), dtype='int32') if args.use_subcategory else None\n",
        "    news_abstract = np.zeros((news_num, args.num_words_abstract), dtype='int32') if args.use_abstract else None\n",
        "\n",
        "    for key in tqdm(news):\n",
        "        title, category, subcategory, abstract = news[key]\n",
        "        doc_index = news_index[key]\n",
        "\n",
        "        for word_id in range(min(args.num_words_title, len(title))):\n",
        "            if title[word_id] in word_dict:\n",
        "                news_title[doc_index, word_id] = word_dict[title[word_id]]\n",
        "\n",
        "        if args.use_category:\n",
        "            news_category[doc_index, 0] = category_dict[category] if category in category_dict else 0\n",
        "        if args.use_subcategory:\n",
        "            news_subcategory[doc_index, 0] = subcategory_dict[subcategory] if subcategory in subcategory_dict else 0\n",
        "        if args.use_abstract:\n",
        "            for word_id in range(min(args.num_words_abstract, len(abstract))):\n",
        "                if abstract[word_id] in word_dict:\n",
        "                    news_abstract[doc_index, word_id] = word_dict[abstract[word_id]]\n",
        "\n",
        "    return news_title, news_category, news_subcategory, news_abstract"
      ]
    },
    {
      "cell_type": "code",
      "execution_count": null,
      "metadata": {
        "id": "MambLdtFlSxi"
      },
      "outputs": [],
      "source": []
    },
    {
      "cell_type": "code",
      "execution_count": null,
      "metadata": {
        "id": "zXd8SNmIm34q"
      },
      "outputs": [],
      "source": []
    },
    {
      "cell_type": "markdown",
      "metadata": {
        "id": "xu43E3_6AqAA"
      },
      "source": [
        "**prepare_data.py**"
      ]
    },
    {
      "cell_type": "code",
      "execution_count": null,
      "metadata": {
        "id": "5Qzn9-0kAuFF"
      },
      "outputs": [],
      "source": [
        "import os\n",
        "from tqdm import tqdm\n",
        "import random\n",
        "import logging\n",
        "\n",
        "\n",
        "def get_sample(all_elements, num_sample):\n",
        "    if num_sample > len(all_elements):\n",
        "        return random.sample(all_elements * (num_sample // len(all_elements) + 1), num_sample)\n",
        "    else:\n",
        "        return random.sample(all_elements, num_sample)\n",
        "\n",
        "\n",
        "def prepare_training_data(train_data_dir, nGPU, npratio, seed):\n",
        "    random.seed(seed)\n",
        "    behaviors = []\n",
        "\n",
        "    behavior_file_path = os.path.join(train_data_dir, 'behaviors.tsv')\n",
        "    with open(behavior_file_path, 'r', encoding='utf-8') as f:\n",
        "        for line in tqdm(f):\n",
        "            iid, uid, time, history, imp = line.strip().split('\\t')\n",
        "            impressions = [x.split('-') for x in imp.split(' ')]\n",
        "            pos, neg = [], []\n",
        "            for news_ID, label in impressions:\n",
        "                if label == '0':\n",
        "                    neg.append(news_ID)\n",
        "                elif label == '1':\n",
        "                    pos.append(news_ID)\n",
        "            if len(pos) == 0 or len(neg) == 0:\n",
        "                continue\n",
        "            for pos_id in pos:\n",
        "                neg_candidate = get_sample(neg, npratio)\n",
        "                neg_str = ' '.join(neg_candidate)\n",
        "                new_line = '\\t'.join([iid, uid, time, history, pos_id, neg_str]) + '\\n'\n",
        "                behaviors.append(new_line)\n",
        "\n",
        "    random.shuffle(behaviors)\n",
        "\n",
        "    behaviors_per_file = [[] for _ in range(nGPU)]\n",
        "    for i, line in enumerate(behaviors):\n",
        "        behaviors_per_file[i % nGPU].append(line)\n",
        "\n",
        "    logging.info('Writing files...')\n",
        "    for i in range(nGPU):\n",
        "        processed_file_path = os.path.join(train_data_dir, f'behaviors_np{npratio}_{i}.tsv')\n",
        "        with open(processed_file_path, 'w') as f:\n",
        "            f.writelines(behaviors_per_file[i])\n",
        "\n",
        "    return len(behaviors)\n",
        "\n",
        "\n",
        "def prepare_testing_data(test_data_dir, nGPU):\n",
        "    behaviors = [[] for _ in range(nGPU)]\n",
        "\n",
        "    behavior_file_path = os.path.join(test_data_dir, 'behaviors.tsv')\n",
        "    with open(behavior_file_path, 'r', encoding='utf-8') as f:\n",
        "        for i, line in enumerate(tqdm(f)):\n",
        "            behaviors[i % nGPU].append(line)\n",
        "\n",
        "    logging.info('Writing files...')\n",
        "    for i in range(nGPU):\n",
        "        processed_file_path = os.path.join(test_data_dir, f'behaviors_{i}.tsv')\n",
        "        with open(processed_file_path, 'w') as f:\n",
        "            f.writelines(behaviors[i])\n",
        "\n",
        "    return sum([len(x) for x in behaviors])\n"
      ]
    },
    {
      "cell_type": "code",
      "execution_count": null,
      "metadata": {
        "id": "VGYXTH1pMIBO"
      },
      "outputs": [],
      "source": [
        "def train(rank, args):\n",
        "\n",
        "    is_distributed = False\n",
        "    torch.cuda.set_device(rank)\n",
        "\n",
        "\n",
        "    news, news_index, category_dict, subcategory_dict, word_dict = read_news(\n",
        "        os.path.join(args.train_data_dir, 'news.tsv'), args.train_abstract_dir, args, mode='train')\n",
        "\n",
        "    news_title, news_category, news_subcategory, news_abstract = get_doc_input(\n",
        "        news, news_index, category_dict, subcategory_dict, word_dict, args)\n",
        "    news_combined = np.concatenate([x for x in [news_title, news_category, news_subcategory, news_abstract] if x is not None], axis=-1)\n",
        "\n",
        "    if rank == 0:\n",
        "        logging.info('Initializing word embedding matrix...')\n",
        "\n",
        "    embedding_matrix, have_word = load_matrix(args.glove_embedding_path,\n",
        "                                                    word_dict,\n",
        "                                                    args.word_embedding_dim)\n",
        "    if rank == 0:\n",
        "        logging.info(f'Word dict length: {len(word_dict)}')\n",
        "        logging.info(f'Have words: {len(have_word)}')\n",
        "        logging.info(f'Missing rate: {(len(word_dict) - len(have_word)) / len(word_dict)}')\n",
        "\n",
        "    model = Model(args, embedding_matrix, len(category_dict), len(subcategory_dict))\n",
        "\n",
        "    if args.load_ckpt_name is not None:\n",
        "        ckpt_path = get_checkpoint(args.model_dir, args.load_ckpt_name)\n",
        "        checkpoint = torch.load(ckpt_path, map_location='cpu')\n",
        "        model.load_state_dict(checkpoint['model_state_dict'])\n",
        "        logging.info(f\"Model loaded from {ckpt_path}.\")\n",
        "\n",
        "    optimizer = optim.Adam(model.parameters(), lr=args.lr)\n",
        "\n",
        "    if args.enable_gpu:\n",
        "        model = model.cuda(rank)\n",
        "\n",
        "    if is_distributed:\n",
        "        model = torch.nn.parallel.DistributedDataParallel(model, device_ids=[rank])\n",
        "\n",
        "    # if rank == 0:\n",
        "    #     print(model)\n",
        "    #     for name, param in model.named_parameters():\n",
        "    #         print(name, param.requires_grad)\n",
        "\n",
        "    data_file_path = os.path.join(args.train_data_dir, f'behaviors_np{args.npratio}_{rank}.tsv')\n",
        "\n",
        "    dataset = DatasetTrain(data_file_path, news_index, news_combined, args)\n",
        "    dataloader = DataLoader(dataset, batch_size=args.batch_size)\n",
        "\n",
        "    logging.info('Training...')\n",
        "    for ep in range(args.start_epoch, args.epochs):\n",
        "        loss = 0.0\n",
        "        accuary = 0.0\n",
        "        for cnt, (log_ids, log_mask, input_ids, targets) in enumerate(dataloader):\n",
        "            if args.enable_gpu:\n",
        "                log_ids = log_ids.cuda(rank, non_blocking=True)\n",
        "                log_mask = log_mask.cuda(rank, non_blocking=True)\n",
        "                input_ids = input_ids.cuda(rank, non_blocking=True)\n",
        "                targets = targets.cuda(rank, non_blocking=True)\n",
        "\n",
        "            bz_loss, y_hat = model(log_ids, log_mask, input_ids, targets)\n",
        "            loss += bz_loss.data.float()\n",
        "            accuary += acc(targets, y_hat)\n",
        "            optimizer.zero_grad()\n",
        "            bz_loss.backward()\n",
        "            optimizer.step()\n",
        "\n",
        "            if cnt % args.log_steps == 0:\n",
        "                logging.info(\n",
        "                    '[{}] Ed: {}, train_loss: {:.5f}, acc: {:.5f}'.format(\n",
        "                        rank, cnt * args.batch_size, loss.data / cnt, accuary / cnt)\n",
        "                )\n",
        "\n",
        "            if rank == 0 and     cnt != 0 and cnt % args.save_steps == 0:\n",
        "                ckpt_path = os.path.join(args.model_dir, f'epoch-{ep+1}-{cnt}.pt')\n",
        "                torch.save(\n",
        "                    {\n",
        "                        'model_state_dict':\n",
        "                            {'.'.join(k.split('.')[1:]): v for k, v in model.state_dict().items()}\n",
        "                            if is_distributed else model.state_dict(),\n",
        "                        'category_dict': category_dict,\n",
        "                        'word_dict': word_dict,\n",
        "                        'subcategory_dict': subcategory_dict\n",
        "                    }, ckpt_path)\n",
        "                logging.info(f\"Model saved to {ckpt_path}.\")\n",
        "\n",
        "        logging.info('Training finish.')\n",
        "\n",
        "        if rank == 0:\n",
        "            ckpt_path = os.path.join(args.model_dir, f'epoch-{ep+1}.pt')\n",
        "            torch.save(\n",
        "                {\n",
        "                    'model_state_dict':\n",
        "                        {'.'.join(k.split('.')[1:]): v for k, v in model.state_dict().items()}\n",
        "                        if is_distributed else model.state_dict(),\n",
        "                    'category_dict': category_dict,\n",
        "                    'subcategory_dict': subcategory_dict,\n",
        "                    'word_dict': word_dict,\n",
        "                }, ckpt_path)\n",
        "            logging.info(f\"Model saved to {ckpt_path}.\")\n",
        "\n"
      ]
    },
    {
      "cell_type": "code",
      "execution_count": null,
      "metadata": {
        "colab": {
          "base_uri": "https://localhost:8080/"
        },
        "id": "WgkOVqFzS6Uv",
        "outputId": "bfba88e9-a8c2-43a9-e1b8-683c7470fddd"
      },
      "outputs": [
        {
          "name": "stderr",
          "output_type": "stream",
          "text": [
            "INFO:root:args[batch_size]=32\n"
          ]
        },
        {
          "name": "stdout",
          "output_type": "stream",
          "text": [
            "[INFO 2025-03-03 08:59:55,655] args[batch_size]=32\n"
          ]
        },
        {
          "name": "stderr",
          "output_type": "stream",
          "text": [
            "INFO:root:args[category_emb_dim]=100\n"
          ]
        },
        {
          "name": "stdout",
          "output_type": "stream",
          "text": [
            "[INFO 2025-03-03 08:59:55,657] args[category_emb_dim]=100\n"
          ]
        },
        {
          "name": "stderr",
          "output_type": "stream",
          "text": [
            "INFO:root:args[dropout_probability]=0.2\n"
          ]
        },
        {
          "name": "stdout",
          "output_type": "stream",
          "text": [
            "[INFO 2025-03-03 08:59:55,658] args[dropout_probability]=0.2\n"
          ]
        },
        {
          "name": "stderr",
          "output_type": "stream",
          "text": [
            "INFO:root:args[enable_gpu]=True\n"
          ]
        },
        {
          "name": "stdout",
          "output_type": "stream",
          "text": [
            "[INFO 2025-03-03 08:59:55,660] args[enable_gpu]=True\n"
          ]
        },
        {
          "name": "stderr",
          "output_type": "stream",
          "text": [
            "INFO:root:args[epochs]=5\n"
          ]
        },
        {
          "name": "stdout",
          "output_type": "stream",
          "text": [
            "[INFO 2025-03-03 08:59:55,662] args[epochs]=5\n"
          ]
        },
        {
          "name": "stderr",
          "output_type": "stream",
          "text": [
            "INFO:root:args[filter_num]=3\n"
          ]
        },
        {
          "name": "stdout",
          "output_type": "stream",
          "text": [
            "[INFO 2025-03-03 08:59:55,663] args[filter_num]=3\n"
          ]
        },
        {
          "name": "stderr",
          "output_type": "stream",
          "text": [
            "INFO:root:args[freeze_embedding]=False\n"
          ]
        },
        {
          "name": "stdout",
          "output_type": "stream",
          "text": [
            "[INFO 2025-03-03 08:59:55,664] args[freeze_embedding]=False\n"
          ]
        },
        {
          "name": "stderr",
          "output_type": "stream",
          "text": [
            "INFO:root:args[glove_embedding_path]=/content/drive/MyDrive/Colab Notebooks/NewsRecommendation/data/glove.840B.300d.txt\n"
          ]
        },
        {
          "name": "stdout",
          "output_type": "stream",
          "text": [
            "[INFO 2025-03-03 08:59:55,665] args[glove_embedding_path]=/content/drive/MyDrive/Colab Notebooks/NewsRecommendation/data/glove.840B.300d.txt\n"
          ]
        },
        {
          "name": "stderr",
          "output_type": "stream",
          "text": [
            "INFO:root:args[load_ckpt_name]=None\n"
          ]
        },
        {
          "name": "stdout",
          "output_type": "stream",
          "text": [
            "[INFO 2025-03-03 08:59:55,669] args[load_ckpt_name]=None\n"
          ]
        },
        {
          "name": "stderr",
          "output_type": "stream",
          "text": [
            "INFO:root:args[log_steps]=100\n"
          ]
        },
        {
          "name": "stdout",
          "output_type": "stream",
          "text": [
            "[INFO 2025-03-03 08:59:55,670] args[log_steps]=100\n"
          ]
        },
        {
          "name": "stderr",
          "output_type": "stream",
          "text": [
            "INFO:root:args[long_short_term_method]=ini\n"
          ]
        },
        {
          "name": "stdout",
          "output_type": "stream",
          "text": [
            "[INFO 2025-03-03 08:59:55,671] args[long_short_term_method]=ini\n"
          ]
        },
        {
          "name": "stderr",
          "output_type": "stream",
          "text": [
            "INFO:root:args[lr]=0.0003\n"
          ]
        },
        {
          "name": "stdout",
          "output_type": "stream",
          "text": [
            "[INFO 2025-03-03 08:59:55,672] args[lr]=0.0003\n"
          ]
        },
        {
          "name": "stderr",
          "output_type": "stream",
          "text": [
            "INFO:root:args[masking_probability]=0.5\n"
          ]
        },
        {
          "name": "stdout",
          "output_type": "stream",
          "text": [
            "[INFO 2025-03-03 08:59:55,673] args[masking_probability]=0.5\n"
          ]
        },
        {
          "name": "stderr",
          "output_type": "stream",
          "text": [
            "INFO:root:args[mode]=train\n"
          ]
        },
        {
          "name": "stdout",
          "output_type": "stream",
          "text": [
            "[INFO 2025-03-03 08:59:55,673] args[mode]=train\n"
          ]
        },
        {
          "name": "stderr",
          "output_type": "stream",
          "text": [
            "INFO:root:args[model_dir]=/content/drive/MyDrive/Colab Notebooks/NewsRecommendation/LSTUR model\n"
          ]
        },
        {
          "name": "stdout",
          "output_type": "stream",
          "text": [
            "[INFO 2025-03-03 08:59:55,675] args[model_dir]=/content/drive/MyDrive/Colab Notebooks/NewsRecommendation/LSTUR model\n"
          ]
        },
        {
          "name": "stderr",
          "output_type": "stream",
          "text": [
            "INFO:root:args[nGPU]=1\n"
          ]
        },
        {
          "name": "stdout",
          "output_type": "stream",
          "text": [
            "[INFO 2025-03-03 08:59:55,677] args[nGPU]=1\n"
          ]
        },
        {
          "name": "stderr",
          "output_type": "stream",
          "text": [
            "INFO:root:args[news_dim]=400\n"
          ]
        },
        {
          "name": "stdout",
          "output_type": "stream",
          "text": [
            "[INFO 2025-03-03 08:59:55,678] args[news_dim]=400\n"
          ]
        },
        {
          "name": "stderr",
          "output_type": "stream",
          "text": [
            "INFO:root:args[news_query_vector_dim]=200\n"
          ]
        },
        {
          "name": "stdout",
          "output_type": "stream",
          "text": [
            "[INFO 2025-03-03 08:59:55,678] args[news_query_vector_dim]=200\n"
          ]
        },
        {
          "name": "stderr",
          "output_type": "stream",
          "text": [
            "INFO:root:args[npratio]=4\n"
          ]
        },
        {
          "name": "stdout",
          "output_type": "stream",
          "text": [
            "[INFO 2025-03-03 08:59:55,680] args[npratio]=4\n"
          ]
        },
        {
          "name": "stderr",
          "output_type": "stream",
          "text": [
            "INFO:root:args[num_attention_heads]=15\n"
          ]
        },
        {
          "name": "stdout",
          "output_type": "stream",
          "text": [
            "[INFO 2025-03-03 08:59:55,682] args[num_attention_heads]=15\n"
          ]
        },
        {
          "name": "stderr",
          "output_type": "stream",
          "text": [
            "INFO:root:args[num_categories]=275\n"
          ]
        },
        {
          "name": "stdout",
          "output_type": "stream",
          "text": [
            "[INFO 2025-03-03 08:59:55,683] args[num_categories]=275\n"
          ]
        },
        {
          "name": "stderr",
          "output_type": "stream",
          "text": [
            "INFO:root:args[num_filters]=300\n"
          ]
        },
        {
          "name": "stdout",
          "output_type": "stream",
          "text": [
            "[INFO 2025-03-03 08:59:55,683] args[num_filters]=300\n"
          ]
        },
        {
          "name": "stderr",
          "output_type": "stream",
          "text": [
            "INFO:root:args[num_users]=50001\n"
          ]
        },
        {
          "name": "stdout",
          "output_type": "stream",
          "text": [
            "[INFO 2025-03-03 08:59:55,686] args[num_users]=50001\n"
          ]
        },
        {
          "name": "stderr",
          "output_type": "stream",
          "text": [
            "INFO:root:args[num_words_abstract]=50\n"
          ]
        },
        {
          "name": "stdout",
          "output_type": "stream",
          "text": [
            "[INFO 2025-03-03 08:59:55,687] args[num_words_abstract]=50\n"
          ]
        },
        {
          "name": "stderr",
          "output_type": "stream",
          "text": [
            "INFO:root:args[num_words_title]=20\n"
          ]
        },
        {
          "name": "stdout",
          "output_type": "stream",
          "text": [
            "[INFO 2025-03-03 08:59:55,687] args[num_words_title]=20\n"
          ]
        },
        {
          "name": "stderr",
          "output_type": "stream",
          "text": [
            "INFO:root:args[prepare]=True\n"
          ]
        },
        {
          "name": "stdout",
          "output_type": "stream",
          "text": [
            "[INFO 2025-03-03 08:59:55,690] args[prepare]=True\n"
          ]
        },
        {
          "name": "stderr",
          "output_type": "stream",
          "text": [
            "INFO:root:args[save_steps]=10000\n"
          ]
        },
        {
          "name": "stdout",
          "output_type": "stream",
          "text": [
            "[INFO 2025-03-03 08:59:55,690] args[save_steps]=10000\n"
          ]
        },
        {
          "name": "stderr",
          "output_type": "stream",
          "text": [
            "INFO:root:args[seed]=0\n"
          ]
        },
        {
          "name": "stdout",
          "output_type": "stream",
          "text": [
            "[INFO 2025-03-03 08:59:55,691] args[seed]=0\n"
          ]
        },
        {
          "name": "stderr",
          "output_type": "stream",
          "text": [
            "INFO:root:args[start_epoch]=0\n"
          ]
        },
        {
          "name": "stdout",
          "output_type": "stream",
          "text": [
            "[INFO 2025-03-03 08:59:55,692] args[start_epoch]=0\n"
          ]
        },
        {
          "name": "stderr",
          "output_type": "stream",
          "text": [
            "INFO:root:args[test_abstract_dir]=/content/genAbs0.json\n"
          ]
        },
        {
          "name": "stdout",
          "output_type": "stream",
          "text": [
            "[INFO 2025-03-03 08:59:55,694] args[test_abstract_dir]=/content/genAbs0.json\n"
          ]
        },
        {
          "name": "stderr",
          "output_type": "stream",
          "text": [
            "INFO:root:args[test_data_dir]=/content/drive/MyDrive/Colab Notebooks/NewsRecommendation/data/MINDsmall_dev\n"
          ]
        },
        {
          "name": "stdout",
          "output_type": "stream",
          "text": [
            "[INFO 2025-03-03 08:59:55,695] args[test_data_dir]=/content/drive/MyDrive/Colab Notebooks/NewsRecommendation/data/MINDsmall_dev\n"
          ]
        },
        {
          "name": "stderr",
          "output_type": "stream",
          "text": [
            "INFO:root:args[train_abstract_dir]=/content/genAbs0.json\n"
          ]
        },
        {
          "name": "stdout",
          "output_type": "stream",
          "text": [
            "[INFO 2025-03-03 08:59:55,695] args[train_abstract_dir]=/content/genAbs0.json\n"
          ]
        },
        {
          "name": "stderr",
          "output_type": "stream",
          "text": [
            "INFO:root:args[train_data_dir]=/content/drive/MyDrive/Colab Notebooks/NewsRecommendation/data/MINDsmall_train\n"
          ]
        },
        {
          "name": "stdout",
          "output_type": "stream",
          "text": [
            "[INFO 2025-03-03 08:59:55,697] args[train_data_dir]=/content/drive/MyDrive/Colab Notebooks/NewsRecommendation/data/MINDsmall_train\n"
          ]
        },
        {
          "name": "stderr",
          "output_type": "stream",
          "text": [
            "INFO:root:args[use_abstract]=True\n"
          ]
        },
        {
          "name": "stdout",
          "output_type": "stream",
          "text": [
            "[INFO 2025-03-03 08:59:55,698] args[use_abstract]=True\n"
          ]
        },
        {
          "name": "stderr",
          "output_type": "stream",
          "text": [
            "INFO:root:args[use_category]=True\n"
          ]
        },
        {
          "name": "stdout",
          "output_type": "stream",
          "text": [
            "[INFO 2025-03-03 08:59:55,700] args[use_category]=True\n"
          ]
        },
        {
          "name": "stderr",
          "output_type": "stream",
          "text": [
            "INFO:root:args[use_custom_abstract]=True\n"
          ]
        },
        {
          "name": "stdout",
          "output_type": "stream",
          "text": [
            "[INFO 2025-03-03 08:59:55,701] args[use_custom_abstract]=True\n"
          ]
        },
        {
          "name": "stderr",
          "output_type": "stream",
          "text": [
            "INFO:root:args[use_subcategory]=True\n"
          ]
        },
        {
          "name": "stdout",
          "output_type": "stream",
          "text": [
            "[INFO 2025-03-03 08:59:55,702] args[use_subcategory]=True\n"
          ]
        },
        {
          "name": "stderr",
          "output_type": "stream",
          "text": [
            "INFO:root:args[user_log_length]=50\n"
          ]
        },
        {
          "name": "stdout",
          "output_type": "stream",
          "text": [
            "[INFO 2025-03-03 08:59:55,704] args[user_log_length]=50\n"
          ]
        },
        {
          "name": "stderr",
          "output_type": "stream",
          "text": [
            "INFO:root:args[user_log_mask]=False\n"
          ]
        },
        {
          "name": "stdout",
          "output_type": "stream",
          "text": [
            "[INFO 2025-03-03 08:59:55,705] args[user_log_mask]=False\n"
          ]
        },
        {
          "name": "stderr",
          "output_type": "stream",
          "text": [
            "INFO:root:args[user_query_vector_dim]=200\n"
          ]
        },
        {
          "name": "stdout",
          "output_type": "stream",
          "text": [
            "[INFO 2025-03-03 08:59:55,708] args[user_query_vector_dim]=200\n"
          ]
        },
        {
          "name": "stderr",
          "output_type": "stream",
          "text": [
            "INFO:root:args[window_size]=3\n"
          ]
        },
        {
          "name": "stdout",
          "output_type": "stream",
          "text": [
            "[INFO 2025-03-03 08:59:55,708] args[window_size]=3\n"
          ]
        },
        {
          "name": "stderr",
          "output_type": "stream",
          "text": [
            "INFO:root:args[word_embedding_dim]=300\n"
          ]
        },
        {
          "name": "stdout",
          "output_type": "stream",
          "text": [
            "[INFO 2025-03-03 08:59:55,711] args[word_embedding_dim]=300\n"
          ]
        }
      ],
      "source": [
        "\n",
        "    import subprocess\n",
        "    setuplogger()\n",
        "    args = parse_args()\n",
        "    dump_args(args)\n",
        "    random.seed(args.seed)\n",
        "\n",
        "\n",
        "\n"
      ]
    },
    {
      "cell_type": "code",
      "execution_count": null,
      "metadata": {
        "id": "5694OJnDLmEV"
      },
      "outputs": [],
      "source": []
    },
    {
      "cell_type": "markdown",
      "metadata": {
        "id": "VkoY3tHH6in5"
      },
      "source": [
        "# **NRMS**"
      ]
    },
    {
      "cell_type": "code",
      "execution_count": null,
      "metadata": {
        "id": "KXeVVGPl6sgG"
      },
      "outputs": [],
      "source": [
        "import torch\n",
        "import torch.nn as nn\n",
        "class DotProductClickPredictor(torch.nn.Module):\n",
        "    def __init__(self):\n",
        "        super(DotProductClickPredictor, self).__init__()\n",
        "\n",
        "    def forward(self, candidate_news_vector, user_vector):\n",
        "        \"\"\"\n",
        "        Args:\n",
        "            candidate_news_vector: batch_size, candidate_size, X\n",
        "            user_vector: batch_size, X\n",
        "        Returns:\n",
        "            (shape): batch_size\n",
        "        \"\"\"\n",
        "        # batch_size, candidate_size\n",
        "        probability = torch.bmm(candidate_news_vector,\n",
        "                                user_vector.unsqueeze(dim=-1)).squeeze(dim=-1)\n",
        "        return probability\n",
        "class AdditiveAttention(torch.nn.Module):\n",
        "    \"\"\"\n",
        "    A general additive attention module.\n",
        "    Originally for NAML.\n",
        "    \"\"\"\n",
        "    def __init__(self,\n",
        "                 query_vector_dim,\n",
        "                 candidate_vector_dim,\n",
        "                 writer=None,\n",
        "                 tag=None,\n",
        "                 names=None):\n",
        "        super(AdditiveAttention, self).__init__()\n",
        "        self.linear = nn.Linear(candidate_vector_dim, query_vector_dim)\n",
        "        self.attention_query_vector = nn.Parameter(\n",
        "            torch.empty(query_vector_dim).uniform_(-0.1, 0.1))\n",
        "        # For tensorboard\n",
        "        self.writer = writer\n",
        "        self.tag = tag\n",
        "        self.names = names\n",
        "        self.local_step = 1\n",
        "\n",
        "    def forward(self, candidate_vector):\n",
        "        \"\"\"\n",
        "        Args:\n",
        "            candidate_vector: batch_size, candidate_size, candidate_vector_dim\n",
        "        Returns:\n",
        "            (shape) batch_size, candidate_vector_dim\n",
        "        \"\"\"\n",
        "        # batch_size, candidate_size, query_vector_dim\n",
        "        temp = torch.tanh(self.linear(candidate_vector))\n",
        "        # batch_size, candidate_size\n",
        "        candidate_weights = F.softmax(torch.matmul(\n",
        "            temp, self.attention_query_vector),\n",
        "                                      dim=1)\n",
        "        if self.writer is not None:\n",
        "            assert candidate_weights.size(1) == len(self.names)\n",
        "            if self.local_step % 10 == 0:\n",
        "                self.writer.add_scalars(\n",
        "                    self.tag, {\n",
        "                        x: y\n",
        "                        for x, y in zip(self.names,\n",
        "                                        candidate_weights.mean(dim=0))\n",
        "                    }, self.local_step)\n",
        "            self.local_step += 1\n",
        "        # batch_size, candidate_vector_dim\n",
        "        target = torch.bmm(candidate_weights.unsqueeze(dim=1),\n",
        "                           candidate_vector).squeeze(dim=1)\n",
        "        return target\n",
        "\n",
        "class ScaledDotProductAttention(nn.Module):\n",
        "    def __init__(self, d_k):\n",
        "        super(ScaledDotProductAttention, self).__init__()\n",
        "        self.d_k = d_k\n",
        "\n",
        "    def forward(self, Q, K, V, attn_mask=None):\n",
        "        scores = torch.matmul(Q, K.transpose(-1, -2)) / np.sqrt(self.d_k)\n",
        "        scores = torch.exp(scores)\n",
        "        if attn_mask is not None:\n",
        "            scores = scores * attn_mask\n",
        "        attn = scores / (torch.sum(scores, dim=-1, keepdim=True) + 1e-8)\n",
        "\n",
        "        context = torch.matmul(attn, V)\n",
        "        return context, attn\n",
        "\n",
        "\n",
        "\n",
        "class MultiHeadSelfAttention(nn.Module):\n",
        "    def __init__(self, d_model, num_attention_heads):\n",
        "        super(MultiHeadSelfAttention, self).__init__()\n",
        "        self.d_model = d_model\n",
        "        self.num_attention_heads = num_attention_heads\n",
        "        assert d_model % num_attention_heads == 0\n",
        "        self.d_k = d_model // num_attention_heads\n",
        "        self.d_v = d_model // num_attention_heads\n",
        "\n",
        "        self.W_Q = nn.Linear(d_model, d_model)\n",
        "        self.W_K = nn.Linear(d_model, d_model)\n",
        "        self.W_V = nn.Linear(d_model, d_model)\n",
        "\n",
        "        self._initialize_weights()\n",
        "\n",
        "    def _initialize_weights(self):\n",
        "        for m in self.modules():\n",
        "            if isinstance(m, nn.Linear):\n",
        "                nn.init.xavier_uniform_(m.weight, gain=1)\n",
        "\n",
        "    def forward(self, Q, K=None, V=None, length=None):\n",
        "        if K is None:\n",
        "            K = Q\n",
        "        if V is None:\n",
        "            V = Q\n",
        "        batch_size = Q.size(0)\n",
        "\n",
        "        q_s = self.W_Q(Q).view(batch_size, -1, self.num_attention_heads,\n",
        "                               self.d_k).transpose(1, 2)\n",
        "        k_s = self.W_K(K).view(batch_size, -1, self.num_attention_heads,\n",
        "                               self.d_k).transpose(1, 2)\n",
        "        v_s = self.W_V(V).view(batch_size, -1, self.num_attention_heads,\n",
        "                               self.d_v).transpose(1, 2)\n",
        "\n",
        "        if length is not None:\n",
        "            maxlen = Q.size(1)\n",
        "            attn_mask = torch.arange(maxlen).expand(\n",
        "                batch_size, maxlen) < length.view(-1, 1)\n",
        "            attn_mask = attn_mask.unsqueeze(1).expand(batch_size, maxlen,\n",
        "                                                      maxlen)\n",
        "            attn_mask = attn_mask.unsqueeze(1).repeat(1,\n",
        "                                                      self.num_attention_heads,\n",
        "                                                      1, 1)\n",
        "        else:\n",
        "            attn_mask = None\n",
        "\n",
        "        context, attn = ScaledDotProductAttention(self.d_k)(q_s, k_s, v_s,\n",
        "                                                            attn_mask)\n",
        "        context = context.transpose(1, 2).contiguous().view(\n",
        "            batch_size, -1, self.num_attention_heads * self.d_v)\n",
        "        return context"
      ]
    },
    {
      "cell_type": "code",
      "execution_count": null,
      "metadata": {
        "id": "l3W3JjCZ6k1a"
      },
      "outputs": [],
      "source": [
        "import torch\n",
        "import torch.nn as nn\n",
        "import torch.nn.functional as F\n",
        "from torch.nn.utils.rnn import pack_padded_sequence\n",
        "\n",
        "device = torch.device(\"cuda:0\" if torch.cuda.is_available() else \"cpu\")\n",
        "\n",
        "class NewsEncoder(torch.nn.Module):\n",
        "    def __init__(self, config, word_embedding):\n",
        "        super(NewsEncoder, self).__init__()\n",
        "        self.config = config\n",
        "        self.word_embedding = word_embedding\n",
        "        self.category_embedding = nn.Embedding(config.num_categories,\n",
        "                                               config.num_filters,\n",
        "                                               padding_idx=0)\n",
        "        assert config.window_size >= 1 and config.window_size % 2 == 1\n",
        "\n",
        "        self.title_CNN = nn.Conv2d(\n",
        "            1,\n",
        "            config.num_filters,\n",
        "            (config.window_size, config.word_embedding_dim),\n",
        "            padding=(int((config.window_size - 1) / 2), 0))\n",
        "        self.title_attention = AdditiveAttention(config.news_query_vector_dim,\n",
        "                                                 config.num_filters)\n",
        "\n",
        "    def forward(self, news):\n",
        "        \"\"\"\n",
        "        Args:\n",
        "            news:\n",
        "                {\n",
        "                    \"category\": batch_size,\n",
        "                    \"subcategory\": batch_size,\n",
        "                    \"title\": batch_size * num_words_title\n",
        "                }\n",
        "        Returns:\n",
        "            (shape) batch_size, num_filters * 3\n",
        "        \"\"\"\n",
        "        #extract title, cat, subcat\n",
        "        start = self.config.num_words_title\n",
        "        title = torch.narrow(news, -1, 0, start).long()\n",
        "        title_vector = F.dropout(self.word_embedding(title.to(device)),\n",
        "                                 p=self.config.dropout_probability,\n",
        "                                 training=self.training)\n",
        "        convoluted_title_vector = self.title_CNN(title_vector.unsqueeze(dim=1)).squeeze(dim=3)\n",
        "        activated_title_vector = F.dropout(F.relu(convoluted_title_vector),\n",
        "                                           p=self.config.dropout_probability,\n",
        "                                           training=self.training)\n",
        "        weighted_title_vector = self.title_attention(activated_title_vector.transpose(1, 2))\n",
        "\n",
        "        if self.config.use_category:\n",
        "            category = torch.narrow(news, -1, start, 1).squeeze(dim=-1).long()\n",
        "            category_vector = self.category_embedding(category.to(device))\n",
        "            start +=1\n",
        "        if self.config.use_subcategory:\n",
        "            subcategory = torch.narrow(news, -1, start, 1).squeeze(dim=-1).long()\n",
        "            subcategory_vector = self.category_embedding(subcategory.to(device))\n",
        "            start += 1\n",
        "        news_vector = torch.cat(\n",
        "            [weighted_title_vector, category_vector, subcategory_vector],\n",
        "            dim=1)\n",
        "\n",
        "        return news_vector\n",
        "\n",
        "class UserEncoder(torch.nn.Module):\n",
        "    def __init__(self, config):\n",
        "        super(UserEncoder, self).__init__()\n",
        "        self.config = config\n",
        "        assert int(config.num_filters * 1.5) == config.num_filters * 1.5\n",
        "        self.gru = nn.GRU(\n",
        "            config.num_filters * 3,\n",
        "            config.num_filters * 3 if config.long_short_term_method == 'ini'\n",
        "            else int(config.num_filters * 1.5))\n",
        "\n",
        "    def forward(self, user, clicked_news_length, clicked_news_vector):\n",
        "        \"\"\"\n",
        "        Args:\n",
        "            user:\n",
        "                ini: batch_size, num_filters * 3\n",
        "                con: batch_size, num_filters * 1.5\n",
        "            clicked_news_length: batch_size,\n",
        "            clicked_news_vector: batch_size, num_clicked_news_a_user, num_filters * 3\n",
        "        Returns:\n",
        "            (shape) batch_size, num_filters * 3\n",
        "        \"\"\"\n",
        "        clicked_news_length = clicked_news_length.cpu().type(torch.int64)\n",
        "        clicked_news_length = torch.clamp(clicked_news_length, max=clicked_news_vector.shape[1])\n",
        "\n",
        "        clicked_news_length[clicked_news_length == 0] = 1\n",
        "        # 1, batch_size, num_filters * 3\n",
        "        if self.config.long_short_term_method == 'ini':\n",
        "            packed_clicked_news_vector = pack_padded_sequence(\n",
        "                clicked_news_vector,\n",
        "                clicked_news_length,\n",
        "                batch_first=True,\n",
        "                enforce_sorted=False)\n",
        "            _, last_hidden = self.gru(packed_clicked_news_vector,\n",
        "                                      user.unsqueeze(dim=0))\n",
        "            return last_hidden.squeeze(dim=0)\n",
        "        else:\n",
        "            packed_clicked_news_vector = pack_padded_sequence(\n",
        "                clicked_news_vector,\n",
        "                clicked_news_length,\n",
        "                batch_first=True,\n",
        "                enforce_sorted=False)\n",
        "            _, last_hidden = self.gru(packed_clicked_news_vector)\n",
        "            return torch.cat((last_hidden.squeeze(dim=0), user), dim=1)\n",
        "\n",
        "class LSTUR(torch.nn.Module):\n",
        "    \"\"\"\n",
        "    LSTUR network.\n",
        "    Input 1 + K candidate news and a list of user clicked news, produce the click probability.\n",
        "    \"\"\"\n",
        "    def __init__(self, config, embedding_matrix):\n",
        "        \"\"\"\n",
        "        # ini\n",
        "        user embedding: num_filters * 3\n",
        "        news encoder: num_filters * 3\n",
        "        GRU:\n",
        "        input: num_filters * 3\n",
        "        hidden: num_filters * 3\n",
        "\n",
        "        # con\n",
        "        user embedding: num_filter * 1.5\n",
        "        news encoder: num_filters * 3\n",
        "        GRU:\n",
        "        input: num_fitlers * 3\n",
        "        hidden: num_filter * 1.5\n",
        "        \"\"\"\n",
        "        super(LSTUR, self).__init__()\n",
        "        self.config = config\n",
        "        word_embedding = torch.from_numpy(embedding_matrix).float()\n",
        "        pretrained_word_embedding = nn.Embedding.from_pretrained(word_embedding,\n",
        "                                                      freeze=args.freeze_embedding,\n",
        "                                                      padding_idx=0)\n",
        "        self.news_encoder = NewsEncoder(config, pretrained_word_embedding)\n",
        "        self.user_encoder = UserEncoder(config)\n",
        "        self.click_predictor = DotProductClickPredictor()\n",
        "        assert int(config.num_filters * 1.5) == config.num_filters * 1.5\n",
        "        self.user_embedding = nn.Embedding(\n",
        "            config.num_users,\n",
        "            config.num_filters * 3 if config.long_short_term_method == 'ini'\n",
        "            else int(config.num_filters * 1.5),\n",
        "            padding_idx=0)\n",
        "        self.loss_fn = nn.CrossEntropyLoss()\n",
        "\n",
        "    def forward(self, user, clicked_news_length, candidate_news, clicked_news, label):\n",
        "        \"\"\"\n",
        "        Args:\n",
        "            user: batch_size,\n",
        "            clicked_news_length: batch_size,\n",
        "            candidate_news:\n",
        "                [\n",
        "                    {\n",
        "                        \"category\": batch_size,\n",
        "                        \"subcategory\": batch_size,\n",
        "                        \"title\": batch_size * num_words_title\n",
        "                    } * (1 + K)\n",
        "                ]\n",
        "            clicked_news:\n",
        "                [\n",
        "                    {\n",
        "                        \"category\": batch_size,\n",
        "                        \"subcategory\": batch_size,\n",
        "                        \"title\": batch_size * num_words_title\n",
        "                    } * num_clicked_news_a_user\n",
        "                ]\n",
        "        Returns:\n",
        "            click_probability: batch_size\n",
        "        \"\"\"\n",
        "        # batch_size, 1 + K, num_filters * 3\n",
        "        candidate_news_vector = torch.stack(\n",
        "            [self.news_encoder(x) for x in candidate_news])\n",
        "        # ini: batch_size, num_filters * 3\n",
        "        # con: batch_size, num_filters * 1.5\n",
        "        # TODO what if not drop\n",
        "        user = F.dropout2d(self.user_embedding(\n",
        "            user.to(device)).unsqueeze(dim=0),\n",
        "                           p=self.config.masking_probability,\n",
        "                           training=self.training).squeeze(dim=0)\n",
        "        # batch_size, num_clicked_news_a_user, num_filters * 3\n",
        "        clicked_news_vector = torch.stack(\n",
        "            [self.news_encoder(x) for x in clicked_news])\n",
        "        # batch_size, num_filters * 3\n",
        "        user_vector = self.user_encoder(user, clicked_news_length,\n",
        "                                        clicked_news_vector)\n",
        "        # batch_size, 1 + K\n",
        "        click_probability = self.click_predictor(candidate_news_vector,\n",
        "                                                 user_vector)\n",
        "        loss = self.loss_fn(click_probability, label)\n",
        "        return loss, click_probability\n",
        "\n",
        "    def get_news_vector(self, news):\n",
        "        # batch_size, num_filters * 3\n",
        "        return self.news_encoder(news)\n",
        "\n",
        "    def get_user_vector(self, user, clicked_news_length, clicked_news_vector):\n",
        "        \"\"\"\n",
        "        Args:\n",
        "            user: batch_size\n",
        "            clicked_news_length: batch_size\n",
        "            clicked_news_vector: batch_size, num_clicked_news_a_user, num_filters * 3\n",
        "        Returns:\n",
        "            (shape) batch_size, num_filters * 3\n",
        "        \"\"\"\n",
        "        # ini: batch_size, num_filters * 3\n",
        "        # con: batch_size, num_filters * 1.5\n",
        "        user = self.user_embedding(user.to(device))\n",
        "        # batch_size, num_filters * 3\n",
        "        return self.user_encoder(user, clicked_news_length,\n",
        "                                 clicked_news_vector)\n",
        "\n",
        "    def get_prediction(self, news_vector, user_vector):\n",
        "        \"\"\"\n",
        "        Args:\n",
        "            news_vector: candidate_size, word_embedding_dim\n",
        "            user_vector: word_embedding_dim\n",
        "        Returns:\n",
        "            click_probability: candidate_size\n",
        "        \"\"\"\n",
        "        # candidate_size\n",
        "        return self.click_predictor(\n",
        "            news_vector.unsqueeze(dim=0),\n",
        "            user_vector.unsqueeze(dim=0)).squeeze(dim=0)"
      ]
    },
    {
      "cell_type": "code",
      "execution_count": null,
      "metadata": {
        "id": "OZngQdLK9Xfa"
      },
      "outputs": [],
      "source": [
        "args.mode = 'train'"
      ]
    },
    {
      "cell_type": "code",
      "execution_count": null,
      "metadata": {
        "colab": {
          "base_uri": "https://localhost:8080/"
        },
        "id": "3Ms-iPzD63S-",
        "outputId": "764cc84a-5f63-48d4-87ab-e74d092b3aaf"
      },
      "outputs": [
        {
          "name": "stderr",
          "output_type": "stream",
          "text": [
            "INFO:root:Preparing training data...\n"
          ]
        },
        {
          "name": "stdout",
          "output_type": "stream",
          "text": [
            "[INFO 2025-02-27 14:26:46,636] Preparing training data...\n"
          ]
        },
        {
          "name": "stderr",
          "output_type": "stream",
          "text": [
            "156965it [00:03, 45324.45it/s]\n",
            "INFO:root:Writing files...\n"
          ]
        },
        {
          "name": "stdout",
          "output_type": "stream",
          "text": [
            "[INFO 2025-02-27 14:26:51,185] Writing files...\n"
          ]
        },
        {
          "name": "stderr",
          "output_type": "stream",
          "text": [
            "INFO:root:236344 training samples, 7385 batches in total.\n"
          ]
        },
        {
          "name": "stdout",
          "output_type": "stream",
          "text": [
            "[INFO 2025-02-27 14:26:54,035] 236344 training samples, 7385 batches in total.\n"
          ]
        }
      ],
      "source": [
        "if 'train' in args.mode:\n",
        "    if args.prepare:\n",
        "        logging.info('Preparing training data...')\n",
        "        total_sample_num = prepare_training_data(args.train_data_dir, args.nGPU, args.npratio, args.seed)\n",
        "    else:\n",
        "        total_sample_num = 0\n",
        "        for i in range(args.nGPU):\n",
        "            data_file_path = os.path.join(args.train_data_dir, f'behaviors_np{args.npratio}_{i}.tsv')\n",
        "            print(data_file_path)\n",
        "            if not os.path.exists(data_file_path):\n",
        "                logging.error(f'Splited training data {data_file_path} for GPU {i} does not exist. Please set the parameter --prepare as True and rerun the code.')\n",
        "                exit()\n",
        "            result = subprocess.getoutput(f'wc -l {data_file_path}')\n",
        "            total_sample_num += int(result.split(' ')[0])\n",
        "        logging.info('Skip training data preparation.')\n",
        "    logging.info(f'{total_sample_num} training samples, {total_sample_num // args.batch_size // args.nGPU} batches in total.')\n",
        "\n"
      ]
    },
    {
      "cell_type": "code",
      "execution_count": null,
      "metadata": {
        "colab": {
          "base_uri": "https://localhost:8080/"
        },
        "id": "PkN5S63TSwi4",
        "outputId": "e9357e56-b25e-41be-a262-b1f1409f7c4b"
      },
      "outputs": [
        {
          "name": "stderr",
          "output_type": "stream",
          "text": [
            "51282it [00:05, 10057.30it/s]\n",
            "100%|██████████| 51282/51282 [00:00<00:00, 191133.35it/s]\n",
            "INFO:root:Initializing word embedding matrix...\n"
          ]
        },
        {
          "name": "stdout",
          "output_type": "stream",
          "text": [
            "[INFO 2025-02-27 14:28:00,897] Initializing word embedding matrix...\n"
          ]
        },
        {
          "name": "stderr",
          "output_type": "stream",
          "text": [
            "INFO:root:Word dict length: 12519\n"
          ]
        },
        {
          "name": "stdout",
          "output_type": "stream",
          "text": [
            "[INFO 2025-02-27 14:29:32,785] Word dict length: 12519\n"
          ]
        },
        {
          "name": "stderr",
          "output_type": "stream",
          "text": [
            "INFO:root:Have words: 11960\n"
          ]
        },
        {
          "name": "stdout",
          "output_type": "stream",
          "text": [
            "[INFO 2025-02-27 14:29:32,786] Have words: 11960\n"
          ]
        },
        {
          "name": "stderr",
          "output_type": "stream",
          "text": [
            "INFO:root:Missing rate: 0.0446521287642783\n"
          ]
        },
        {
          "name": "stdout",
          "output_type": "stream",
          "text": [
            "[INFO 2025-02-27 14:29:32,787] Missing rate: 0.0446521287642783\n"
          ]
        }
      ],
      "source": [
        "rank = 0\n",
        "news, news_index, category_dict, subcategory_dict, word_dict = read_news(\n",
        "\t\tos.path.join(args.train_data_dir, 'news.tsv'), args.train_abstract_dir, args, mode='train')\n",
        "\n",
        "news_title, news_category, news_subcategory, news_abstract = get_doc_input(\n",
        "    news, news_index, category_dict, subcategory_dict, word_dict, args)\n",
        "news_combined = np.concatenate([x for x in [news_title, news_category, news_subcategory] if x is not None], axis=-1)\n",
        "\n",
        "if rank == 0:\n",
        "    logging.info('Initializing word embedding matrix...')\n",
        "\n",
        "embedding_matrix, have_word = load_matrix(args.glove_embedding_path,\n",
        "                                                word_dict,\n",
        "                                                args.word_embedding_dim)\n",
        "if rank == 0:\n",
        "    logging.info(f'Word dict length: {len(word_dict)}')\n",
        "    logging.info(f'Have words: {len(have_word)}')\n",
        "    logging.info(f'Missing rate: {(len(word_dict) - len(have_word)) / len(word_dict)}')"
      ]
    },
    {
      "cell_type": "code",
      "execution_count": null,
      "metadata": {
        "colab": {
          "base_uri": "https://localhost:8080/"
        },
        "id": "qt4Qsf_r9RA_",
        "outputId": "a6c62594-2eb0-4007-9383-6fda22477aa8"
      },
      "outputs": [
        {
          "name": "stderr",
          "output_type": "stream",
          "text": [
            "INFO:root:Training...\n"
          ]
        },
        {
          "name": "stdout",
          "output_type": "stream",
          "text": [
            "[INFO 2025-02-27 14:29:37,832] Training...\n"
          ]
        },
        {
          "name": "stderr",
          "output_type": "stream",
          "text": [
            "/usr/local/lib/python3.11/dist-packages/torch/nn/functional.py:1545: UserWarning: dropout2d: Received a 3D input to dropout2d and assuming that channel-wise 1D dropout behavior is desired - input is interpreted as shape (N, C, L), where C is the channel dim. This behavior will change in a future release to interpret the input as one without a batch dimension, i.e. shape (C, H, W). To maintain the 1D channel-wise dropout behavior, please switch to using dropout1d instead.\n",
            "  warnings.warn(\n",
            "INFO:root:[0] Ed: 0, train_loss: inf, acc: inf\n"
          ]
        },
        {
          "name": "stdout",
          "output_type": "stream",
          "text": [
            "[INFO 2025-02-27 14:29:39,471] [0] Ed: 0, train_loss: inf, acc: inf\n"
          ]
        },
        {
          "name": "stderr",
          "output_type": "stream",
          "text": [
            "INFO:root:[0] Ed: 3200, train_loss: 6.71425, acc: 0.25031\n"
          ]
        },
        {
          "name": "stdout",
          "output_type": "stream",
          "text": [
            "[INFO 2025-02-27 14:29:50,504] [0] Ed: 3200, train_loss: 6.71425, acc: 0.25031\n"
          ]
        },
        {
          "name": "stderr",
          "output_type": "stream",
          "text": [
            "INFO:root:[0] Ed: 6400, train_loss: 6.29955, acc: 0.25187\n"
          ]
        },
        {
          "name": "stdout",
          "output_type": "stream",
          "text": [
            "[INFO 2025-02-27 14:30:01,543] [0] Ed: 6400, train_loss: 6.29955, acc: 0.25187\n"
          ]
        },
        {
          "name": "stderr",
          "output_type": "stream",
          "text": [
            "INFO:root:[0] Ed: 9600, train_loss: 6.05799, acc: 0.25740\n"
          ]
        },
        {
          "name": "stdout",
          "output_type": "stream",
          "text": [
            "[INFO 2025-02-27 14:30:12,565] [0] Ed: 9600, train_loss: 6.05799, acc: 0.25740\n"
          ]
        },
        {
          "name": "stderr",
          "output_type": "stream",
          "text": [
            "INFO:root:[0] Ed: 12800, train_loss: 5.78803, acc: 0.25992\n"
          ]
        },
        {
          "name": "stdout",
          "output_type": "stream",
          "text": [
            "[INFO 2025-02-27 14:30:23,608] [0] Ed: 12800, train_loss: 5.78803, acc: 0.25992\n"
          ]
        },
        {
          "name": "stderr",
          "output_type": "stream",
          "text": [
            "INFO:root:[0] Ed: 16000, train_loss: 5.57674, acc: 0.26269\n"
          ]
        },
        {
          "name": "stdout",
          "output_type": "stream",
          "text": [
            "[INFO 2025-02-27 14:30:34,623] [0] Ed: 16000, train_loss: 5.57674, acc: 0.26269\n"
          ]
        },
        {
          "name": "stderr",
          "output_type": "stream",
          "text": [
            "INFO:root:[0] Ed: 19200, train_loss: 5.32837, acc: 0.26630\n"
          ]
        },
        {
          "name": "stdout",
          "output_type": "stream",
          "text": [
            "[INFO 2025-02-27 14:30:45,683] [0] Ed: 19200, train_loss: 5.32837, acc: 0.26630\n"
          ]
        },
        {
          "name": "stderr",
          "output_type": "stream",
          "text": [
            "INFO:root:[0] Ed: 22400, train_loss: 5.08878, acc: 0.26942\n"
          ]
        },
        {
          "name": "stdout",
          "output_type": "stream",
          "text": [
            "[INFO 2025-02-27 14:30:56,727] [0] Ed: 22400, train_loss: 5.08878, acc: 0.26942\n"
          ]
        },
        {
          "name": "stderr",
          "output_type": "stream",
          "text": [
            "INFO:root:[0] Ed: 25600, train_loss: 4.87446, acc: 0.27246\n"
          ]
        },
        {
          "name": "stdout",
          "output_type": "stream",
          "text": [
            "[INFO 2025-02-27 14:31:07,771] [0] Ed: 25600, train_loss: 4.87446, acc: 0.27246\n"
          ]
        },
        {
          "name": "stderr",
          "output_type": "stream",
          "text": [
            "INFO:root:[0] Ed: 28800, train_loss: 4.67855, acc: 0.27451\n"
          ]
        },
        {
          "name": "stdout",
          "output_type": "stream",
          "text": [
            "[INFO 2025-02-27 14:31:18,795] [0] Ed: 28800, train_loss: 4.67855, acc: 0.27451\n"
          ]
        },
        {
          "name": "stderr",
          "output_type": "stream",
          "text": [
            "INFO:root:[0] Ed: 32000, train_loss: 4.51674, acc: 0.27697\n"
          ]
        },
        {
          "name": "stdout",
          "output_type": "stream",
          "text": [
            "[INFO 2025-02-27 14:31:29,728] [0] Ed: 32000, train_loss: 4.51674, acc: 0.27697\n"
          ]
        },
        {
          "name": "stderr",
          "output_type": "stream",
          "text": [
            "INFO:root:[0] Ed: 35200, train_loss: 4.37696, acc: 0.27878\n"
          ]
        },
        {
          "name": "stdout",
          "output_type": "stream",
          "text": [
            "[INFO 2025-02-27 14:31:40,674] [0] Ed: 35200, train_loss: 4.37696, acc: 0.27878\n"
          ]
        },
        {
          "name": "stderr",
          "output_type": "stream",
          "text": [
            "INFO:root:[0] Ed: 38400, train_loss: 4.25099, acc: 0.28128\n"
          ]
        },
        {
          "name": "stdout",
          "output_type": "stream",
          "text": [
            "[INFO 2025-02-27 14:31:51,616] [0] Ed: 38400, train_loss: 4.25099, acc: 0.28128\n"
          ]
        },
        {
          "name": "stderr",
          "output_type": "stream",
          "text": [
            "INFO:root:[0] Ed: 41600, train_loss: 4.14697, acc: 0.28212\n"
          ]
        },
        {
          "name": "stdout",
          "output_type": "stream",
          "text": [
            "[INFO 2025-02-27 14:32:02,577] [0] Ed: 41600, train_loss: 4.14697, acc: 0.28212\n"
          ]
        },
        {
          "name": "stderr",
          "output_type": "stream",
          "text": [
            "INFO:root:[0] Ed: 44800, train_loss: 4.05125, acc: 0.28366\n"
          ]
        },
        {
          "name": "stdout",
          "output_type": "stream",
          "text": [
            "[INFO 2025-02-27 14:32:13,522] [0] Ed: 44800, train_loss: 4.05125, acc: 0.28366\n"
          ]
        },
        {
          "name": "stderr",
          "output_type": "stream",
          "text": [
            "INFO:root:[0] Ed: 48000, train_loss: 3.96082, acc: 0.28527\n"
          ]
        },
        {
          "name": "stdout",
          "output_type": "stream",
          "text": [
            "[INFO 2025-02-27 14:32:24,472] [0] Ed: 48000, train_loss: 3.96082, acc: 0.28527\n"
          ]
        },
        {
          "name": "stderr",
          "output_type": "stream",
          "text": [
            "INFO:root:[0] Ed: 51200, train_loss: 3.87234, acc: 0.28762\n"
          ]
        },
        {
          "name": "stdout",
          "output_type": "stream",
          "text": [
            "[INFO 2025-02-27 14:32:35,426] [0] Ed: 51200, train_loss: 3.87234, acc: 0.28762\n"
          ]
        },
        {
          "name": "stderr",
          "output_type": "stream",
          "text": [
            "INFO:root:[0] Ed: 54400, train_loss: 3.80022, acc: 0.28991\n"
          ]
        },
        {
          "name": "stdout",
          "output_type": "stream",
          "text": [
            "[INFO 2025-02-27 14:32:46,679] [0] Ed: 54400, train_loss: 3.80022, acc: 0.28991\n"
          ]
        },
        {
          "name": "stderr",
          "output_type": "stream",
          "text": [
            "INFO:root:[0] Ed: 57600, train_loss: 3.73102, acc: 0.29193\n"
          ]
        },
        {
          "name": "stdout",
          "output_type": "stream",
          "text": [
            "[INFO 2025-02-27 14:32:57,669] [0] Ed: 57600, train_loss: 3.73102, acc: 0.29193\n"
          ]
        },
        {
          "name": "stderr",
          "output_type": "stream",
          "text": [
            "INFO:root:[0] Ed: 60800, train_loss: 3.67012, acc: 0.29225\n"
          ]
        },
        {
          "name": "stdout",
          "output_type": "stream",
          "text": [
            "[INFO 2025-02-27 14:33:08,571] [0] Ed: 60800, train_loss: 3.67012, acc: 0.29225\n"
          ]
        },
        {
          "name": "stderr",
          "output_type": "stream",
          "text": [
            "INFO:root:[0] Ed: 64000, train_loss: 3.60761, acc: 0.29369\n"
          ]
        },
        {
          "name": "stdout",
          "output_type": "stream",
          "text": [
            "[INFO 2025-02-27 14:33:19,445] [0] Ed: 64000, train_loss: 3.60761, acc: 0.29369\n"
          ]
        },
        {
          "name": "stderr",
          "output_type": "stream",
          "text": [
            "INFO:root:[0] Ed: 67200, train_loss: 3.54786, acc: 0.29586\n"
          ]
        },
        {
          "name": "stdout",
          "output_type": "stream",
          "text": [
            "[INFO 2025-02-27 14:33:30,360] [0] Ed: 67200, train_loss: 3.54786, acc: 0.29586\n"
          ]
        },
        {
          "name": "stderr",
          "output_type": "stream",
          "text": [
            "INFO:root:[0] Ed: 70400, train_loss: 3.49425, acc: 0.29697\n"
          ]
        },
        {
          "name": "stdout",
          "output_type": "stream",
          "text": [
            "[INFO 2025-02-27 14:33:41,274] [0] Ed: 70400, train_loss: 3.49425, acc: 0.29697\n"
          ]
        },
        {
          "name": "stderr",
          "output_type": "stream",
          "text": [
            "INFO:root:[0] Ed: 73600, train_loss: 3.44590, acc: 0.29810\n"
          ]
        },
        {
          "name": "stdout",
          "output_type": "stream",
          "text": [
            "[INFO 2025-02-27 14:33:52,207] [0] Ed: 73600, train_loss: 3.44590, acc: 0.29810\n"
          ]
        },
        {
          "name": "stderr",
          "output_type": "stream",
          "text": [
            "INFO:root:[0] Ed: 76800, train_loss: 3.39785, acc: 0.29954\n"
          ]
        },
        {
          "name": "stdout",
          "output_type": "stream",
          "text": [
            "[INFO 2025-02-27 14:34:03,069] [0] Ed: 76800, train_loss: 3.39785, acc: 0.29954\n"
          ]
        },
        {
          "name": "stderr",
          "output_type": "stream",
          "text": [
            "INFO:root:[0] Ed: 80000, train_loss: 3.35868, acc: 0.30034\n"
          ]
        },
        {
          "name": "stdout",
          "output_type": "stream",
          "text": [
            "[INFO 2025-02-27 14:34:13,983] [0] Ed: 80000, train_loss: 3.35868, acc: 0.30034\n"
          ]
        },
        {
          "name": "stderr",
          "output_type": "stream",
          "text": [
            "INFO:root:[0] Ed: 83200, train_loss: 3.31536, acc: 0.30166\n"
          ]
        },
        {
          "name": "stdout",
          "output_type": "stream",
          "text": [
            "[INFO 2025-02-27 14:34:24,947] [0] Ed: 83200, train_loss: 3.31536, acc: 0.30166\n"
          ]
        },
        {
          "name": "stderr",
          "output_type": "stream",
          "text": [
            "INFO:root:[0] Ed: 86400, train_loss: 3.27755, acc: 0.30352\n"
          ]
        },
        {
          "name": "stdout",
          "output_type": "stream",
          "text": [
            "[INFO 2025-02-27 14:34:35,818] [0] Ed: 86400, train_loss: 3.27755, acc: 0.30352\n"
          ]
        },
        {
          "name": "stderr",
          "output_type": "stream",
          "text": [
            "INFO:root:[0] Ed: 89600, train_loss: 3.24799, acc: 0.30463\n"
          ]
        },
        {
          "name": "stdout",
          "output_type": "stream",
          "text": [
            "[INFO 2025-02-27 14:34:46,728] [0] Ed: 89600, train_loss: 3.24799, acc: 0.30463\n"
          ]
        },
        {
          "name": "stderr",
          "output_type": "stream",
          "text": [
            "INFO:root:[0] Ed: 92800, train_loss: 3.21677, acc: 0.30568\n"
          ]
        },
        {
          "name": "stdout",
          "output_type": "stream",
          "text": [
            "[INFO 2025-02-27 14:34:57,628] [0] Ed: 92800, train_loss: 3.21677, acc: 0.30568\n"
          ]
        },
        {
          "name": "stderr",
          "output_type": "stream",
          "text": [
            "INFO:root:[0] Ed: 96000, train_loss: 3.19067, acc: 0.30623\n"
          ]
        },
        {
          "name": "stdout",
          "output_type": "stream",
          "text": [
            "[INFO 2025-02-27 14:35:08,569] [0] Ed: 96000, train_loss: 3.19067, acc: 0.30623\n"
          ]
        },
        {
          "name": "stderr",
          "output_type": "stream",
          "text": [
            "INFO:root:[0] Ed: 99200, train_loss: 3.16494, acc: 0.30711\n"
          ]
        },
        {
          "name": "stdout",
          "output_type": "stream",
          "text": [
            "[INFO 2025-02-27 14:35:19,486] [0] Ed: 99200, train_loss: 3.16494, acc: 0.30711\n"
          ]
        },
        {
          "name": "stderr",
          "output_type": "stream",
          "text": [
            "INFO:root:[0] Ed: 102400, train_loss: 3.13631, acc: 0.30851\n"
          ]
        },
        {
          "name": "stdout",
          "output_type": "stream",
          "text": [
            "[INFO 2025-02-27 14:35:30,418] [0] Ed: 102400, train_loss: 3.13631, acc: 0.30851\n"
          ]
        },
        {
          "name": "stderr",
          "output_type": "stream",
          "text": [
            "INFO:root:[0] Ed: 105600, train_loss: 3.11069, acc: 0.30987\n"
          ]
        },
        {
          "name": "stdout",
          "output_type": "stream",
          "text": [
            "[INFO 2025-02-27 14:35:41,313] [0] Ed: 105600, train_loss: 3.11069, acc: 0.30987\n"
          ]
        },
        {
          "name": "stderr",
          "output_type": "stream",
          "text": [
            "INFO:root:[0] Ed: 108800, train_loss: 3.08862, acc: 0.31028\n"
          ]
        },
        {
          "name": "stdout",
          "output_type": "stream",
          "text": [
            "[INFO 2025-02-27 14:35:52,311] [0] Ed: 108800, train_loss: 3.08862, acc: 0.31028\n"
          ]
        },
        {
          "name": "stderr",
          "output_type": "stream",
          "text": [
            "INFO:root:[0] Ed: 112000, train_loss: 3.06599, acc: 0.31134\n"
          ]
        },
        {
          "name": "stdout",
          "output_type": "stream",
          "text": [
            "[INFO 2025-02-27 14:36:03,234] [0] Ed: 112000, train_loss: 3.06599, acc: 0.31134\n"
          ]
        },
        {
          "name": "stderr",
          "output_type": "stream",
          "text": [
            "INFO:root:[0] Ed: 115200, train_loss: 3.04373, acc: 0.31219\n"
          ]
        },
        {
          "name": "stdout",
          "output_type": "stream",
          "text": [
            "[INFO 2025-02-27 14:36:14,136] [0] Ed: 115200, train_loss: 3.04373, acc: 0.31219\n"
          ]
        },
        {
          "name": "stderr",
          "output_type": "stream",
          "text": [
            "INFO:root:[0] Ed: 118400, train_loss: 3.02331, acc: 0.31316\n"
          ]
        },
        {
          "name": "stdout",
          "output_type": "stream",
          "text": [
            "[INFO 2025-02-27 14:36:25,100] [0] Ed: 118400, train_loss: 3.02331, acc: 0.31316\n"
          ]
        },
        {
          "name": "stderr",
          "output_type": "stream",
          "text": [
            "INFO:root:[0] Ed: 121600, train_loss: 3.00473, acc: 0.31403\n"
          ]
        },
        {
          "name": "stdout",
          "output_type": "stream",
          "text": [
            "[INFO 2025-02-27 14:36:36,049] [0] Ed: 121600, train_loss: 3.00473, acc: 0.31403\n"
          ]
        },
        {
          "name": "stderr",
          "output_type": "stream",
          "text": [
            "INFO:root:[0] Ed: 124800, train_loss: 2.98616, acc: 0.31512\n"
          ]
        },
        {
          "name": "stdout",
          "output_type": "stream",
          "text": [
            "[INFO 2025-02-27 14:36:47,174] [0] Ed: 124800, train_loss: 2.98616, acc: 0.31512\n"
          ]
        },
        {
          "name": "stderr",
          "output_type": "stream",
          "text": [
            "INFO:root:[0] Ed: 128000, train_loss: 2.96940, acc: 0.31563\n"
          ]
        },
        {
          "name": "stdout",
          "output_type": "stream",
          "text": [
            "[INFO 2025-02-27 14:36:58,102] [0] Ed: 128000, train_loss: 2.96940, acc: 0.31563\n"
          ]
        },
        {
          "name": "stderr",
          "output_type": "stream",
          "text": [
            "INFO:root:[0] Ed: 131200, train_loss: 2.95239, acc: 0.31636\n"
          ]
        },
        {
          "name": "stdout",
          "output_type": "stream",
          "text": [
            "[INFO 2025-02-27 14:37:09,036] [0] Ed: 131200, train_loss: 2.95239, acc: 0.31636\n"
          ]
        },
        {
          "name": "stderr",
          "output_type": "stream",
          "text": [
            "INFO:root:[0] Ed: 134400, train_loss: 2.93699, acc: 0.31700\n"
          ]
        },
        {
          "name": "stdout",
          "output_type": "stream",
          "text": [
            "[INFO 2025-02-27 14:37:19,942] [0] Ed: 134400, train_loss: 2.93699, acc: 0.31700\n"
          ]
        },
        {
          "name": "stderr",
          "output_type": "stream",
          "text": [
            "INFO:root:[0] Ed: 137600, train_loss: 2.92243, acc: 0.31799\n"
          ]
        },
        {
          "name": "stdout",
          "output_type": "stream",
          "text": [
            "[INFO 2025-02-27 14:37:30,890] [0] Ed: 137600, train_loss: 2.92243, acc: 0.31799\n"
          ]
        },
        {
          "name": "stderr",
          "output_type": "stream",
          "text": [
            "INFO:root:[0] Ed: 140800, train_loss: 2.90642, acc: 0.31881\n"
          ]
        },
        {
          "name": "stdout",
          "output_type": "stream",
          "text": [
            "[INFO 2025-02-27 14:37:41,790] [0] Ed: 140800, train_loss: 2.90642, acc: 0.31881\n"
          ]
        },
        {
          "name": "stderr",
          "output_type": "stream",
          "text": [
            "INFO:root:[0] Ed: 144000, train_loss: 2.89044, acc: 0.31955\n"
          ]
        },
        {
          "name": "stdout",
          "output_type": "stream",
          "text": [
            "[INFO 2025-02-27 14:37:52,710] [0] Ed: 144000, train_loss: 2.89044, acc: 0.31955\n"
          ]
        },
        {
          "name": "stderr",
          "output_type": "stream",
          "text": [
            "INFO:root:[0] Ed: 147200, train_loss: 2.87661, acc: 0.32024\n"
          ]
        },
        {
          "name": "stdout",
          "output_type": "stream",
          "text": [
            "[INFO 2025-02-27 14:38:03,600] [0] Ed: 147200, train_loss: 2.87661, acc: 0.32024\n"
          ]
        },
        {
          "name": "stderr",
          "output_type": "stream",
          "text": [
            "INFO:root:[0] Ed: 150400, train_loss: 2.86494, acc: 0.32083\n"
          ]
        },
        {
          "name": "stdout",
          "output_type": "stream",
          "text": [
            "[INFO 2025-02-27 14:38:14,547] [0] Ed: 150400, train_loss: 2.86494, acc: 0.32083\n"
          ]
        },
        {
          "name": "stderr",
          "output_type": "stream",
          "text": [
            "INFO:root:[0] Ed: 153600, train_loss: 2.85229, acc: 0.32128\n"
          ]
        },
        {
          "name": "stdout",
          "output_type": "stream",
          "text": [
            "[INFO 2025-02-27 14:38:25,441] [0] Ed: 153600, train_loss: 2.85229, acc: 0.32128\n"
          ]
        },
        {
          "name": "stderr",
          "output_type": "stream",
          "text": [
            "INFO:root:[0] Ed: 156800, train_loss: 2.83856, acc: 0.32191\n"
          ]
        },
        {
          "name": "stdout",
          "output_type": "stream",
          "text": [
            "[INFO 2025-02-27 14:38:36,336] [0] Ed: 156800, train_loss: 2.83856, acc: 0.32191\n"
          ]
        },
        {
          "name": "stderr",
          "output_type": "stream",
          "text": [
            "INFO:root:[0] Ed: 160000, train_loss: 2.82611, acc: 0.32245\n"
          ]
        },
        {
          "name": "stdout",
          "output_type": "stream",
          "text": [
            "[INFO 2025-02-27 14:38:47,278] [0] Ed: 160000, train_loss: 2.82611, acc: 0.32245\n"
          ]
        },
        {
          "name": "stderr",
          "output_type": "stream",
          "text": [
            "INFO:root:[0] Ed: 163200, train_loss: 2.81388, acc: 0.32305\n"
          ]
        },
        {
          "name": "stdout",
          "output_type": "stream",
          "text": [
            "[INFO 2025-02-27 14:38:58,227] [0] Ed: 163200, train_loss: 2.81388, acc: 0.32305\n"
          ]
        },
        {
          "name": "stderr",
          "output_type": "stream",
          "text": [
            "INFO:root:[0] Ed: 166400, train_loss: 2.80476, acc: 0.32342\n"
          ]
        },
        {
          "name": "stdout",
          "output_type": "stream",
          "text": [
            "[INFO 2025-02-27 14:39:09,116] [0] Ed: 166400, train_loss: 2.80476, acc: 0.32342\n"
          ]
        },
        {
          "name": "stderr",
          "output_type": "stream",
          "text": [
            "INFO:root:[0] Ed: 169600, train_loss: 2.79504, acc: 0.32386\n"
          ]
        },
        {
          "name": "stdout",
          "output_type": "stream",
          "text": [
            "[INFO 2025-02-27 14:39:20,052] [0] Ed: 169600, train_loss: 2.79504, acc: 0.32386\n"
          ]
        },
        {
          "name": "stderr",
          "output_type": "stream",
          "text": [
            "INFO:root:[0] Ed: 172800, train_loss: 2.78534, acc: 0.32428\n"
          ]
        },
        {
          "name": "stdout",
          "output_type": "stream",
          "text": [
            "[INFO 2025-02-27 14:39:31,011] [0] Ed: 172800, train_loss: 2.78534, acc: 0.32428\n"
          ]
        },
        {
          "name": "stderr",
          "output_type": "stream",
          "text": [
            "INFO:root:[0] Ed: 176000, train_loss: 2.77449, acc: 0.32500\n"
          ]
        },
        {
          "name": "stdout",
          "output_type": "stream",
          "text": [
            "[INFO 2025-02-27 14:39:41,876] [0] Ed: 176000, train_loss: 2.77449, acc: 0.32500\n"
          ]
        },
        {
          "name": "stderr",
          "output_type": "stream",
          "text": [
            "INFO:root:[0] Ed: 179200, train_loss: 2.76404, acc: 0.32551\n"
          ]
        },
        {
          "name": "stdout",
          "output_type": "stream",
          "text": [
            "[INFO 2025-02-27 14:39:52,879] [0] Ed: 179200, train_loss: 2.76404, acc: 0.32551\n"
          ]
        },
        {
          "name": "stderr",
          "output_type": "stream",
          "text": [
            "INFO:root:[0] Ed: 182400, train_loss: 2.75301, acc: 0.32634\n"
          ]
        },
        {
          "name": "stdout",
          "output_type": "stream",
          "text": [
            "[INFO 2025-02-27 14:40:03,807] [0] Ed: 182400, train_loss: 2.75301, acc: 0.32634\n"
          ]
        },
        {
          "name": "stderr",
          "output_type": "stream",
          "text": [
            "INFO:root:[0] Ed: 185600, train_loss: 2.74231, acc: 0.32697\n"
          ]
        },
        {
          "name": "stdout",
          "output_type": "stream",
          "text": [
            "[INFO 2025-02-27 14:40:14,718] [0] Ed: 185600, train_loss: 2.74231, acc: 0.32697\n"
          ]
        },
        {
          "name": "stderr",
          "output_type": "stream",
          "text": [
            "INFO:root:[0] Ed: 188800, train_loss: 2.73118, acc: 0.32781\n"
          ]
        },
        {
          "name": "stdout",
          "output_type": "stream",
          "text": [
            "[INFO 2025-02-27 14:40:25,718] [0] Ed: 188800, train_loss: 2.73118, acc: 0.32781\n"
          ]
        },
        {
          "name": "stderr",
          "output_type": "stream",
          "text": [
            "INFO:root:[0] Ed: 192000, train_loss: 2.72218, acc: 0.32809\n"
          ]
        },
        {
          "name": "stdout",
          "output_type": "stream",
          "text": [
            "[INFO 2025-02-27 14:40:36,706] [0] Ed: 192000, train_loss: 2.72218, acc: 0.32809\n"
          ]
        },
        {
          "name": "stderr",
          "output_type": "stream",
          "text": [
            "INFO:root:[0] Ed: 195200, train_loss: 2.71246, acc: 0.32852\n"
          ]
        },
        {
          "name": "stdout",
          "output_type": "stream",
          "text": [
            "[INFO 2025-02-27 14:40:47,931] [0] Ed: 195200, train_loss: 2.71246, acc: 0.32852\n"
          ]
        },
        {
          "name": "stderr",
          "output_type": "stream",
          "text": [
            "INFO:root:[0] Ed: 198400, train_loss: 2.70352, acc: 0.32882\n"
          ]
        },
        {
          "name": "stdout",
          "output_type": "stream",
          "text": [
            "[INFO 2025-02-27 14:40:58,914] [0] Ed: 198400, train_loss: 2.70352, acc: 0.32882\n"
          ]
        },
        {
          "name": "stderr",
          "output_type": "stream",
          "text": [
            "INFO:root:[0] Ed: 201600, train_loss: 2.69425, acc: 0.32921\n"
          ]
        },
        {
          "name": "stdout",
          "output_type": "stream",
          "text": [
            "[INFO 2025-02-27 14:41:09,947] [0] Ed: 201600, train_loss: 2.69425, acc: 0.32921\n"
          ]
        },
        {
          "name": "stderr",
          "output_type": "stream",
          "text": [
            "INFO:root:[0] Ed: 204800, train_loss: 2.68600, acc: 0.32970\n"
          ]
        },
        {
          "name": "stdout",
          "output_type": "stream",
          "text": [
            "[INFO 2025-02-27 14:41:20,929] [0] Ed: 204800, train_loss: 2.68600, acc: 0.32970\n"
          ]
        },
        {
          "name": "stderr",
          "output_type": "stream",
          "text": [
            "INFO:root:[0] Ed: 208000, train_loss: 2.67658, acc: 0.33013\n"
          ]
        },
        {
          "name": "stdout",
          "output_type": "stream",
          "text": [
            "[INFO 2025-02-27 14:41:31,924] [0] Ed: 208000, train_loss: 2.67658, acc: 0.33013\n"
          ]
        },
        {
          "name": "stderr",
          "output_type": "stream",
          "text": [
            "INFO:root:[0] Ed: 211200, train_loss: 2.66772, acc: 0.33040\n"
          ]
        },
        {
          "name": "stdout",
          "output_type": "stream",
          "text": [
            "[INFO 2025-02-27 14:41:42,851] [0] Ed: 211200, train_loss: 2.66772, acc: 0.33040\n"
          ]
        },
        {
          "name": "stderr",
          "output_type": "stream",
          "text": [
            "INFO:root:[0] Ed: 214400, train_loss: 2.65952, acc: 0.33089\n"
          ]
        },
        {
          "name": "stdout",
          "output_type": "stream",
          "text": [
            "[INFO 2025-02-27 14:41:53,818] [0] Ed: 214400, train_loss: 2.65952, acc: 0.33089\n"
          ]
        },
        {
          "name": "stderr",
          "output_type": "stream",
          "text": [
            "INFO:root:[0] Ed: 217600, train_loss: 2.65110, acc: 0.33124\n"
          ]
        },
        {
          "name": "stdout",
          "output_type": "stream",
          "text": [
            "[INFO 2025-02-27 14:42:04,784] [0] Ed: 217600, train_loss: 2.65110, acc: 0.33124\n"
          ]
        },
        {
          "name": "stderr",
          "output_type": "stream",
          "text": [
            "INFO:root:[0] Ed: 220800, train_loss: 2.64297, acc: 0.33180\n"
          ]
        },
        {
          "name": "stdout",
          "output_type": "stream",
          "text": [
            "[INFO 2025-02-27 14:42:15,712] [0] Ed: 220800, train_loss: 2.64297, acc: 0.33180\n"
          ]
        },
        {
          "name": "stderr",
          "output_type": "stream",
          "text": [
            "INFO:root:[0] Ed: 224000, train_loss: 2.63518, acc: 0.33220\n"
          ]
        },
        {
          "name": "stdout",
          "output_type": "stream",
          "text": [
            "[INFO 2025-02-27 14:42:26,603] [0] Ed: 224000, train_loss: 2.63518, acc: 0.33220\n"
          ]
        },
        {
          "name": "stderr",
          "output_type": "stream",
          "text": [
            "INFO:root:[0] Ed: 227200, train_loss: 2.62725, acc: 0.33262\n"
          ]
        },
        {
          "name": "stdout",
          "output_type": "stream",
          "text": [
            "[INFO 2025-02-27 14:42:37,558] [0] Ed: 227200, train_loss: 2.62725, acc: 0.33262\n"
          ]
        },
        {
          "name": "stderr",
          "output_type": "stream",
          "text": [
            "INFO:root:[0] Ed: 230400, train_loss: 2.61891, acc: 0.33309\n"
          ]
        },
        {
          "name": "stdout",
          "output_type": "stream",
          "text": [
            "[INFO 2025-02-27 14:42:48,423] [0] Ed: 230400, train_loss: 2.61891, acc: 0.33309\n"
          ]
        },
        {
          "name": "stderr",
          "output_type": "stream",
          "text": [
            "INFO:root:[0] Ed: 233600, train_loss: 2.61138, acc: 0.33369\n"
          ]
        },
        {
          "name": "stdout",
          "output_type": "stream",
          "text": [
            "[INFO 2025-02-27 14:42:59,301] [0] Ed: 233600, train_loss: 2.61138, acc: 0.33369\n"
          ]
        },
        {
          "name": "stderr",
          "output_type": "stream",
          "text": [
            "INFO:root:Training finish.\n"
          ]
        },
        {
          "name": "stdout",
          "output_type": "stream",
          "text": [
            "[INFO 2025-02-27 14:43:08,518] Training finish.\n"
          ]
        },
        {
          "name": "stderr",
          "output_type": "stream",
          "text": [
            "INFO:root:Model saved to /content/model/epoch-1.pt.\n"
          ]
        },
        {
          "name": "stdout",
          "output_type": "stream",
          "text": [
            "[INFO 2025-02-27 14:43:08,934] Model saved to /content/model/epoch-1.pt.\n"
          ]
        },
        {
          "name": "stderr",
          "output_type": "stream",
          "text": [
            "INFO:root:[0] Ed: 0, train_loss: inf, acc: inf\n"
          ]
        },
        {
          "name": "stdout",
          "output_type": "stream",
          "text": [
            "[INFO 2025-02-27 14:43:09,073] [0] Ed: 0, train_loss: inf, acc: inf\n"
          ]
        },
        {
          "name": "stderr",
          "output_type": "stream",
          "text": [
            "INFO:root:[0] Ed: 3200, train_loss: 2.00506, acc: 0.35781\n"
          ]
        },
        {
          "name": "stdout",
          "output_type": "stream",
          "text": [
            "[INFO 2025-02-27 14:43:19,982] [0] Ed: 3200, train_loss: 2.00506, acc: 0.35781\n"
          ]
        },
        {
          "name": "stderr",
          "output_type": "stream",
          "text": [
            "INFO:root:[0] Ed: 6400, train_loss: 1.98687, acc: 0.36141\n"
          ]
        },
        {
          "name": "stdout",
          "output_type": "stream",
          "text": [
            "[INFO 2025-02-27 14:43:30,940] [0] Ed: 6400, train_loss: 1.98687, acc: 0.36141\n"
          ]
        },
        {
          "name": "stderr",
          "output_type": "stream",
          "text": [
            "INFO:root:[0] Ed: 9600, train_loss: 2.01743, acc: 0.36021\n"
          ]
        },
        {
          "name": "stdout",
          "output_type": "stream",
          "text": [
            "[INFO 2025-02-27 14:43:41,844] [0] Ed: 9600, train_loss: 2.01743, acc: 0.36021\n"
          ]
        },
        {
          "name": "stderr",
          "output_type": "stream",
          "text": [
            "INFO:root:[0] Ed: 12800, train_loss: 2.01405, acc: 0.35875\n"
          ]
        },
        {
          "name": "stdout",
          "output_type": "stream",
          "text": [
            "[INFO 2025-02-27 14:43:52,777] [0] Ed: 12800, train_loss: 2.01405, acc: 0.35875\n"
          ]
        },
        {
          "name": "stderr",
          "output_type": "stream",
          "text": [
            "INFO:root:[0] Ed: 16000, train_loss: 2.01834, acc: 0.35963\n"
          ]
        },
        {
          "name": "stdout",
          "output_type": "stream",
          "text": [
            "[INFO 2025-02-27 14:44:03,703] [0] Ed: 16000, train_loss: 2.01834, acc: 0.35963\n"
          ]
        },
        {
          "name": "stderr",
          "output_type": "stream",
          "text": [
            "INFO:root:[0] Ed: 19200, train_loss: 2.00968, acc: 0.36182\n"
          ]
        },
        {
          "name": "stdout",
          "output_type": "stream",
          "text": [
            "[INFO 2025-02-27 14:44:14,676] [0] Ed: 19200, train_loss: 2.00968, acc: 0.36182\n"
          ]
        },
        {
          "name": "stderr",
          "output_type": "stream",
          "text": [
            "INFO:root:[0] Ed: 22400, train_loss: 1.99527, acc: 0.36330\n"
          ]
        },
        {
          "name": "stdout",
          "output_type": "stream",
          "text": [
            "[INFO 2025-02-27 14:44:25,691] [0] Ed: 22400, train_loss: 1.99527, acc: 0.36330\n"
          ]
        },
        {
          "name": "stderr",
          "output_type": "stream",
          "text": [
            "INFO:root:[0] Ed: 25600, train_loss: 1.99016, acc: 0.36250\n"
          ]
        },
        {
          "name": "stdout",
          "output_type": "stream",
          "text": [
            "[INFO 2025-02-27 14:44:36,656] [0] Ed: 25600, train_loss: 1.99016, acc: 0.36250\n"
          ]
        },
        {
          "name": "stderr",
          "output_type": "stream",
          "text": [
            "INFO:root:[0] Ed: 28800, train_loss: 1.98183, acc: 0.36326\n"
          ]
        },
        {
          "name": "stdout",
          "output_type": "stream",
          "text": [
            "[INFO 2025-02-27 14:44:47,627] [0] Ed: 28800, train_loss: 1.98183, acc: 0.36326\n"
          ]
        },
        {
          "name": "stderr",
          "output_type": "stream",
          "text": [
            "INFO:root:[0] Ed: 32000, train_loss: 1.98063, acc: 0.36366\n"
          ]
        },
        {
          "name": "stdout",
          "output_type": "stream",
          "text": [
            "[INFO 2025-02-27 14:44:58,788] [0] Ed: 32000, train_loss: 1.98063, acc: 0.36366\n"
          ]
        },
        {
          "name": "stderr",
          "output_type": "stream",
          "text": [
            "INFO:root:[0] Ed: 35200, train_loss: 1.97932, acc: 0.36264\n"
          ]
        },
        {
          "name": "stdout",
          "output_type": "stream",
          "text": [
            "[INFO 2025-02-27 14:45:09,710] [0] Ed: 35200, train_loss: 1.97932, acc: 0.36264\n"
          ]
        },
        {
          "name": "stderr",
          "output_type": "stream",
          "text": [
            "INFO:root:[0] Ed: 38400, train_loss: 1.97394, acc: 0.36276\n"
          ]
        },
        {
          "name": "stdout",
          "output_type": "stream",
          "text": [
            "[INFO 2025-02-27 14:45:20,646] [0] Ed: 38400, train_loss: 1.97394, acc: 0.36276\n"
          ]
        },
        {
          "name": "stderr",
          "output_type": "stream",
          "text": [
            "INFO:root:[0] Ed: 41600, train_loss: 1.97310, acc: 0.36329\n"
          ]
        },
        {
          "name": "stdout",
          "output_type": "stream",
          "text": [
            "[INFO 2025-02-27 14:45:31,584] [0] Ed: 41600, train_loss: 1.97310, acc: 0.36329\n"
          ]
        },
        {
          "name": "stderr",
          "output_type": "stream",
          "text": [
            "INFO:root:[0] Ed: 44800, train_loss: 1.97163, acc: 0.36431\n"
          ]
        },
        {
          "name": "stdout",
          "output_type": "stream",
          "text": [
            "[INFO 2025-02-27 14:45:42,512] [0] Ed: 44800, train_loss: 1.97163, acc: 0.36431\n"
          ]
        },
        {
          "name": "stderr",
          "output_type": "stream",
          "text": [
            "INFO:root:[0] Ed: 48000, train_loss: 1.96785, acc: 0.36427\n"
          ]
        },
        {
          "name": "stdout",
          "output_type": "stream",
          "text": [
            "[INFO 2025-02-27 14:45:53,462] [0] Ed: 48000, train_loss: 1.96785, acc: 0.36427\n"
          ]
        },
        {
          "name": "stderr",
          "output_type": "stream",
          "text": [
            "INFO:root:[0] Ed: 51200, train_loss: 1.96170, acc: 0.36445\n"
          ]
        },
        {
          "name": "stdout",
          "output_type": "stream",
          "text": [
            "[INFO 2025-02-27 14:46:04,412] [0] Ed: 51200, train_loss: 1.96170, acc: 0.36445\n"
          ]
        },
        {
          "name": "stderr",
          "output_type": "stream",
          "text": [
            "INFO:root:[0] Ed: 54400, train_loss: 1.95567, acc: 0.36599\n"
          ]
        },
        {
          "name": "stdout",
          "output_type": "stream",
          "text": [
            "[INFO 2025-02-27 14:46:15,376] [0] Ed: 54400, train_loss: 1.95567, acc: 0.36599\n"
          ]
        },
        {
          "name": "stderr",
          "output_type": "stream",
          "text": [
            "INFO:root:[0] Ed: 57600, train_loss: 1.95053, acc: 0.36712\n"
          ]
        },
        {
          "name": "stdout",
          "output_type": "stream",
          "text": [
            "[INFO 2025-02-27 14:46:26,289] [0] Ed: 57600, train_loss: 1.95053, acc: 0.36712\n"
          ]
        },
        {
          "name": "stderr",
          "output_type": "stream",
          "text": [
            "INFO:root:[0] Ed: 60800, train_loss: 1.94690, acc: 0.36727\n"
          ]
        },
        {
          "name": "stdout",
          "output_type": "stream",
          "text": [
            "[INFO 2025-02-27 14:46:37,235] [0] Ed: 60800, train_loss: 1.94690, acc: 0.36727\n"
          ]
        },
        {
          "name": "stderr",
          "output_type": "stream",
          "text": [
            "INFO:root:[0] Ed: 64000, train_loss: 1.94007, acc: 0.36777\n"
          ]
        },
        {
          "name": "stdout",
          "output_type": "stream",
          "text": [
            "[INFO 2025-02-27 14:46:48,173] [0] Ed: 64000, train_loss: 1.94007, acc: 0.36777\n"
          ]
        },
        {
          "name": "stderr",
          "output_type": "stream",
          "text": [
            "INFO:root:[0] Ed: 67200, train_loss: 1.93623, acc: 0.36908\n"
          ]
        },
        {
          "name": "stdout",
          "output_type": "stream",
          "text": [
            "[INFO 2025-02-27 14:46:59,162] [0] Ed: 67200, train_loss: 1.93623, acc: 0.36908\n"
          ]
        },
        {
          "name": "stderr",
          "output_type": "stream",
          "text": [
            "INFO:root:[0] Ed: 70400, train_loss: 1.93232, acc: 0.36905\n"
          ]
        },
        {
          "name": "stdout",
          "output_type": "stream",
          "text": [
            "[INFO 2025-02-27 14:47:10,067] [0] Ed: 70400, train_loss: 1.93232, acc: 0.36905\n"
          ]
        },
        {
          "name": "stderr",
          "output_type": "stream",
          "text": [
            "INFO:root:[0] Ed: 73600, train_loss: 1.92779, acc: 0.36931\n"
          ]
        },
        {
          "name": "stdout",
          "output_type": "stream",
          "text": [
            "[INFO 2025-02-27 14:47:20,930] [0] Ed: 73600, train_loss: 1.92779, acc: 0.36931\n"
          ]
        },
        {
          "name": "stderr",
          "output_type": "stream",
          "text": [
            "INFO:root:[0] Ed: 76800, train_loss: 1.92254, acc: 0.37007\n"
          ]
        },
        {
          "name": "stdout",
          "output_type": "stream",
          "text": [
            "[INFO 2025-02-27 14:47:31,832] [0] Ed: 76800, train_loss: 1.92254, acc: 0.37007\n"
          ]
        },
        {
          "name": "stderr",
          "output_type": "stream",
          "text": [
            "INFO:root:[0] Ed: 80000, train_loss: 1.91663, acc: 0.37032\n"
          ]
        },
        {
          "name": "stdout",
          "output_type": "stream",
          "text": [
            "[INFO 2025-02-27 14:47:42,751] [0] Ed: 80000, train_loss: 1.91663, acc: 0.37032\n"
          ]
        },
        {
          "name": "stderr",
          "output_type": "stream",
          "text": [
            "INFO:root:[0] Ed: 83200, train_loss: 1.90980, acc: 0.37050\n"
          ]
        },
        {
          "name": "stdout",
          "output_type": "stream",
          "text": [
            "[INFO 2025-02-27 14:47:53,739] [0] Ed: 83200, train_loss: 1.90980, acc: 0.37050\n"
          ]
        },
        {
          "name": "stderr",
          "output_type": "stream",
          "text": [
            "INFO:root:[0] Ed: 86400, train_loss: 1.90587, acc: 0.37112\n"
          ]
        },
        {
          "name": "stdout",
          "output_type": "stream",
          "text": [
            "[INFO 2025-02-27 14:48:04,678] [0] Ed: 86400, train_loss: 1.90587, acc: 0.37112\n"
          ]
        },
        {
          "name": "stderr",
          "output_type": "stream",
          "text": [
            "INFO:root:[0] Ed: 89600, train_loss: 1.90167, acc: 0.37135\n"
          ]
        },
        {
          "name": "stdout",
          "output_type": "stream",
          "text": [
            "[INFO 2025-02-27 14:48:15,609] [0] Ed: 89600, train_loss: 1.90167, acc: 0.37135\n"
          ]
        },
        {
          "name": "stderr",
          "output_type": "stream",
          "text": [
            "INFO:root:[0] Ed: 92800, train_loss: 1.89481, acc: 0.37163\n"
          ]
        },
        {
          "name": "stdout",
          "output_type": "stream",
          "text": [
            "[INFO 2025-02-27 14:48:26,517] [0] Ed: 92800, train_loss: 1.89481, acc: 0.37163\n"
          ]
        },
        {
          "name": "stderr",
          "output_type": "stream",
          "text": [
            "INFO:root:[0] Ed: 96000, train_loss: 1.89140, acc: 0.37192\n"
          ]
        },
        {
          "name": "stdout",
          "output_type": "stream",
          "text": [
            "[INFO 2025-02-27 14:48:37,455] [0] Ed: 96000, train_loss: 1.89140, acc: 0.37192\n"
          ]
        },
        {
          "name": "stderr",
          "output_type": "stream",
          "text": [
            "INFO:root:[0] Ed: 99200, train_loss: 1.88571, acc: 0.37178\n"
          ]
        },
        {
          "name": "stdout",
          "output_type": "stream",
          "text": [
            "[INFO 2025-02-27 14:48:48,415] [0] Ed: 99200, train_loss: 1.88571, acc: 0.37178\n"
          ]
        },
        {
          "name": "stderr",
          "output_type": "stream",
          "text": [
            "INFO:root:[0] Ed: 102400, train_loss: 1.88048, acc: 0.37215\n"
          ]
        },
        {
          "name": "stdout",
          "output_type": "stream",
          "text": [
            "[INFO 2025-02-27 14:48:59,646] [0] Ed: 102400, train_loss: 1.88048, acc: 0.37215\n"
          ]
        },
        {
          "name": "stderr",
          "output_type": "stream",
          "text": [
            "INFO:root:[0] Ed: 105600, train_loss: 1.87507, acc: 0.37260\n"
          ]
        },
        {
          "name": "stdout",
          "output_type": "stream",
          "text": [
            "[INFO 2025-02-27 14:49:10,654] [0] Ed: 105600, train_loss: 1.87507, acc: 0.37260\n"
          ]
        },
        {
          "name": "stderr",
          "output_type": "stream",
          "text": [
            "INFO:root:[0] Ed: 108800, train_loss: 1.86953, acc: 0.37255\n"
          ]
        },
        {
          "name": "stdout",
          "output_type": "stream",
          "text": [
            "[INFO 2025-02-27 14:49:21,651] [0] Ed: 108800, train_loss: 1.86953, acc: 0.37255\n"
          ]
        },
        {
          "name": "stderr",
          "output_type": "stream",
          "text": [
            "INFO:root:[0] Ed: 112000, train_loss: 1.86339, acc: 0.37305\n"
          ]
        },
        {
          "name": "stdout",
          "output_type": "stream",
          "text": [
            "[INFO 2025-02-27 14:49:32,626] [0] Ed: 112000, train_loss: 1.86339, acc: 0.37305\n"
          ]
        },
        {
          "name": "stderr",
          "output_type": "stream",
          "text": [
            "INFO:root:[0] Ed: 115200, train_loss: 1.85801, acc: 0.37333\n"
          ]
        },
        {
          "name": "stdout",
          "output_type": "stream",
          "text": [
            "[INFO 2025-02-27 14:49:43,483] [0] Ed: 115200, train_loss: 1.85801, acc: 0.37333\n"
          ]
        },
        {
          "name": "stderr",
          "output_type": "stream",
          "text": [
            "INFO:root:[0] Ed: 118400, train_loss: 1.85249, acc: 0.37385\n"
          ]
        },
        {
          "name": "stdout",
          "output_type": "stream",
          "text": [
            "[INFO 2025-02-27 14:49:54,451] [0] Ed: 118400, train_loss: 1.85249, acc: 0.37385\n"
          ]
        },
        {
          "name": "stderr",
          "output_type": "stream",
          "text": [
            "INFO:root:[0] Ed: 121600, train_loss: 1.84770, acc: 0.37419\n"
          ]
        },
        {
          "name": "stdout",
          "output_type": "stream",
          "text": [
            "[INFO 2025-02-27 14:50:05,425] [0] Ed: 121600, train_loss: 1.84770, acc: 0.37419\n"
          ]
        },
        {
          "name": "stderr",
          "output_type": "stream",
          "text": [
            "INFO:root:[0] Ed: 124800, train_loss: 1.84263, acc: 0.37468\n"
          ]
        },
        {
          "name": "stdout",
          "output_type": "stream",
          "text": [
            "[INFO 2025-02-27 14:50:16,390] [0] Ed: 124800, train_loss: 1.84263, acc: 0.37468\n"
          ]
        },
        {
          "name": "stderr",
          "output_type": "stream",
          "text": [
            "INFO:root:[0] Ed: 128000, train_loss: 1.83806, acc: 0.37471\n"
          ]
        },
        {
          "name": "stdout",
          "output_type": "stream",
          "text": [
            "[INFO 2025-02-27 14:50:27,304] [0] Ed: 128000, train_loss: 1.83806, acc: 0.37471\n"
          ]
        },
        {
          "name": "stderr",
          "output_type": "stream",
          "text": [
            "INFO:root:[0] Ed: 131200, train_loss: 1.83337, acc: 0.37504\n"
          ]
        },
        {
          "name": "stdout",
          "output_type": "stream",
          "text": [
            "[INFO 2025-02-27 14:50:38,241] [0] Ed: 131200, train_loss: 1.83337, acc: 0.37504\n"
          ]
        },
        {
          "name": "stderr",
          "output_type": "stream",
          "text": [
            "INFO:root:[0] Ed: 134400, train_loss: 1.82842, acc: 0.37533\n"
          ]
        },
        {
          "name": "stdout",
          "output_type": "stream",
          "text": [
            "[INFO 2025-02-27 14:50:49,203] [0] Ed: 134400, train_loss: 1.82842, acc: 0.37533\n"
          ]
        },
        {
          "name": "stderr",
          "output_type": "stream",
          "text": [
            "INFO:root:[0] Ed: 137600, train_loss: 1.82337, acc: 0.37600\n"
          ]
        },
        {
          "name": "stdout",
          "output_type": "stream",
          "text": [
            "[INFO 2025-02-27 14:51:00,163] [0] Ed: 137600, train_loss: 1.82337, acc: 0.37600\n"
          ]
        },
        {
          "name": "stderr",
          "output_type": "stream",
          "text": [
            "INFO:root:[0] Ed: 140800, train_loss: 1.81879, acc: 0.37633\n"
          ]
        },
        {
          "name": "stdout",
          "output_type": "stream",
          "text": [
            "[INFO 2025-02-27 14:51:11,043] [0] Ed: 140800, train_loss: 1.81879, acc: 0.37633\n"
          ]
        },
        {
          "name": "stderr",
          "output_type": "stream",
          "text": [
            "INFO:root:[0] Ed: 144000, train_loss: 1.81345, acc: 0.37677\n"
          ]
        },
        {
          "name": "stdout",
          "output_type": "stream",
          "text": [
            "[INFO 2025-02-27 14:51:21,921] [0] Ed: 144000, train_loss: 1.81345, acc: 0.37677\n"
          ]
        },
        {
          "name": "stderr",
          "output_type": "stream",
          "text": [
            "INFO:root:[0] Ed: 147200, train_loss: 1.80902, acc: 0.37713\n"
          ]
        },
        {
          "name": "stdout",
          "output_type": "stream",
          "text": [
            "[INFO 2025-02-27 14:51:32,813] [0] Ed: 147200, train_loss: 1.80902, acc: 0.37713\n"
          ]
        },
        {
          "name": "stderr",
          "output_type": "stream",
          "text": [
            "INFO:root:[0] Ed: 150400, train_loss: 1.80461, acc: 0.37733\n"
          ]
        },
        {
          "name": "stdout",
          "output_type": "stream",
          "text": [
            "[INFO 2025-02-27 14:51:43,778] [0] Ed: 150400, train_loss: 1.80461, acc: 0.37733\n"
          ]
        },
        {
          "name": "stderr",
          "output_type": "stream",
          "text": [
            "INFO:root:[0] Ed: 153600, train_loss: 1.79960, acc: 0.37783\n"
          ]
        },
        {
          "name": "stdout",
          "output_type": "stream",
          "text": [
            "[INFO 2025-02-27 14:51:54,713] [0] Ed: 153600, train_loss: 1.79960, acc: 0.37783\n"
          ]
        },
        {
          "name": "stderr",
          "output_type": "stream",
          "text": [
            "INFO:root:[0] Ed: 156800, train_loss: 1.79551, acc: 0.37821\n"
          ]
        },
        {
          "name": "stdout",
          "output_type": "stream",
          "text": [
            "[INFO 2025-02-27 14:52:05,696] [0] Ed: 156800, train_loss: 1.79551, acc: 0.37821\n"
          ]
        },
        {
          "name": "stderr",
          "output_type": "stream",
          "text": [
            "INFO:root:[0] Ed: 160000, train_loss: 1.79094, acc: 0.37874\n"
          ]
        },
        {
          "name": "stdout",
          "output_type": "stream",
          "text": [
            "[INFO 2025-02-27 14:52:16,661] [0] Ed: 160000, train_loss: 1.79094, acc: 0.37874\n"
          ]
        },
        {
          "name": "stderr",
          "output_type": "stream",
          "text": [
            "INFO:root:[0] Ed: 163200, train_loss: 1.78748, acc: 0.37884\n"
          ]
        },
        {
          "name": "stdout",
          "output_type": "stream",
          "text": [
            "[INFO 2025-02-27 14:52:27,638] [0] Ed: 163200, train_loss: 1.78748, acc: 0.37884\n"
          ]
        },
        {
          "name": "stderr",
          "output_type": "stream",
          "text": [
            "INFO:root:[0] Ed: 166400, train_loss: 1.78396, acc: 0.37879\n"
          ]
        },
        {
          "name": "stdout",
          "output_type": "stream",
          "text": [
            "[INFO 2025-02-27 14:52:38,587] [0] Ed: 166400, train_loss: 1.78396, acc: 0.37879\n"
          ]
        },
        {
          "name": "stderr",
          "output_type": "stream",
          "text": [
            "INFO:root:[0] Ed: 169600, train_loss: 1.78031, acc: 0.37886\n"
          ]
        },
        {
          "name": "stdout",
          "output_type": "stream",
          "text": [
            "[INFO 2025-02-27 14:52:49,526] [0] Ed: 169600, train_loss: 1.78031, acc: 0.37886\n"
          ]
        },
        {
          "name": "stderr",
          "output_type": "stream",
          "text": [
            "INFO:root:[0] Ed: 172800, train_loss: 1.77652, acc: 0.37907\n"
          ]
        },
        {
          "name": "stdout",
          "output_type": "stream",
          "text": [
            "[INFO 2025-02-27 14:53:00,740] [0] Ed: 172800, train_loss: 1.77652, acc: 0.37907\n"
          ]
        },
        {
          "name": "stderr",
          "output_type": "stream",
          "text": [
            "INFO:root:[0] Ed: 176000, train_loss: 1.77277, acc: 0.37949\n"
          ]
        },
        {
          "name": "stdout",
          "output_type": "stream",
          "text": [
            "[INFO 2025-02-27 14:53:11,660] [0] Ed: 176000, train_loss: 1.77277, acc: 0.37949\n"
          ]
        },
        {
          "name": "stderr",
          "output_type": "stream",
          "text": [
            "INFO:root:[0] Ed: 179200, train_loss: 1.76826, acc: 0.37985\n"
          ]
        },
        {
          "name": "stdout",
          "output_type": "stream",
          "text": [
            "[INFO 2025-02-27 14:53:22,600] [0] Ed: 179200, train_loss: 1.76826, acc: 0.37985\n"
          ]
        },
        {
          "name": "stderr",
          "output_type": "stream",
          "text": [
            "INFO:root:[0] Ed: 182400, train_loss: 1.76517, acc: 0.37999\n"
          ]
        },
        {
          "name": "stdout",
          "output_type": "stream",
          "text": [
            "[INFO 2025-02-27 14:53:33,553] [0] Ed: 182400, train_loss: 1.76517, acc: 0.37999\n"
          ]
        },
        {
          "name": "stderr",
          "output_type": "stream",
          "text": [
            "INFO:root:[0] Ed: 185600, train_loss: 1.76100, acc: 0.38044\n"
          ]
        },
        {
          "name": "stdout",
          "output_type": "stream",
          "text": [
            "[INFO 2025-02-27 14:53:44,524] [0] Ed: 185600, train_loss: 1.76100, acc: 0.38044\n"
          ]
        },
        {
          "name": "stderr",
          "output_type": "stream",
          "text": [
            "INFO:root:[0] Ed: 188800, train_loss: 1.75722, acc: 0.38074\n"
          ]
        },
        {
          "name": "stdout",
          "output_type": "stream",
          "text": [
            "[INFO 2025-02-27 14:53:55,508] [0] Ed: 188800, train_loss: 1.75722, acc: 0.38074\n"
          ]
        },
        {
          "name": "stderr",
          "output_type": "stream",
          "text": [
            "INFO:root:[0] Ed: 192000, train_loss: 1.75367, acc: 0.38075\n"
          ]
        },
        {
          "name": "stdout",
          "output_type": "stream",
          "text": [
            "[INFO 2025-02-27 14:54:06,477] [0] Ed: 192000, train_loss: 1.75367, acc: 0.38075\n"
          ]
        },
        {
          "name": "stderr",
          "output_type": "stream",
          "text": [
            "INFO:root:[0] Ed: 195200, train_loss: 1.75079, acc: 0.38082\n"
          ]
        },
        {
          "name": "stdout",
          "output_type": "stream",
          "text": [
            "[INFO 2025-02-27 14:54:17,434] [0] Ed: 195200, train_loss: 1.75079, acc: 0.38082\n"
          ]
        },
        {
          "name": "stderr",
          "output_type": "stream",
          "text": [
            "INFO:root:[0] Ed: 198400, train_loss: 1.74738, acc: 0.38086\n"
          ]
        },
        {
          "name": "stdout",
          "output_type": "stream",
          "text": [
            "[INFO 2025-02-27 14:54:28,384] [0] Ed: 198400, train_loss: 1.74738, acc: 0.38086\n"
          ]
        },
        {
          "name": "stderr",
          "output_type": "stream",
          "text": [
            "INFO:root:[0] Ed: 201600, train_loss: 1.74396, acc: 0.38105\n"
          ]
        },
        {
          "name": "stdout",
          "output_type": "stream",
          "text": [
            "[INFO 2025-02-27 14:54:39,372] [0] Ed: 201600, train_loss: 1.74396, acc: 0.38105\n"
          ]
        },
        {
          "name": "stderr",
          "output_type": "stream",
          "text": [
            "INFO:root:[0] Ed: 204800, train_loss: 1.74099, acc: 0.38116\n"
          ]
        },
        {
          "name": "stdout",
          "output_type": "stream",
          "text": [
            "[INFO 2025-02-27 14:54:50,299] [0] Ed: 204800, train_loss: 1.74099, acc: 0.38116\n"
          ]
        },
        {
          "name": "stderr",
          "output_type": "stream",
          "text": [
            "INFO:root:[0] Ed: 208000, train_loss: 1.73854, acc: 0.38126\n"
          ]
        },
        {
          "name": "stdout",
          "output_type": "stream",
          "text": [
            "[INFO 2025-02-27 14:55:01,254] [0] Ed: 208000, train_loss: 1.73854, acc: 0.38126\n"
          ]
        },
        {
          "name": "stderr",
          "output_type": "stream",
          "text": [
            "INFO:root:[0] Ed: 211200, train_loss: 1.73577, acc: 0.38123\n"
          ]
        },
        {
          "name": "stdout",
          "output_type": "stream",
          "text": [
            "[INFO 2025-02-27 14:55:12,226] [0] Ed: 211200, train_loss: 1.73577, acc: 0.38123\n"
          ]
        },
        {
          "name": "stderr",
          "output_type": "stream",
          "text": [
            "INFO:root:[0] Ed: 214400, train_loss: 1.73342, acc: 0.38132\n"
          ]
        },
        {
          "name": "stdout",
          "output_type": "stream",
          "text": [
            "[INFO 2025-02-27 14:55:23,133] [0] Ed: 214400, train_loss: 1.73342, acc: 0.38132\n"
          ]
        },
        {
          "name": "stderr",
          "output_type": "stream",
          "text": [
            "INFO:root:[0] Ed: 217600, train_loss: 1.73101, acc: 0.38140\n"
          ]
        },
        {
          "name": "stdout",
          "output_type": "stream",
          "text": [
            "[INFO 2025-02-27 14:55:34,085] [0] Ed: 217600, train_loss: 1.73101, acc: 0.38140\n"
          ]
        },
        {
          "name": "stderr",
          "output_type": "stream",
          "text": [
            "INFO:root:[0] Ed: 220800, train_loss: 1.72807, acc: 0.38176\n"
          ]
        },
        {
          "name": "stdout",
          "output_type": "stream",
          "text": [
            "[INFO 2025-02-27 14:55:45,101] [0] Ed: 220800, train_loss: 1.72807, acc: 0.38176\n"
          ]
        },
        {
          "name": "stderr",
          "output_type": "stream",
          "text": [
            "INFO:root:[0] Ed: 224000, train_loss: 1.72526, acc: 0.38194\n"
          ]
        },
        {
          "name": "stdout",
          "output_type": "stream",
          "text": [
            "[INFO 2025-02-27 14:55:56,064] [0] Ed: 224000, train_loss: 1.72526, acc: 0.38194\n"
          ]
        },
        {
          "name": "stderr",
          "output_type": "stream",
          "text": [
            "INFO:root:[0] Ed: 227200, train_loss: 1.72222, acc: 0.38215\n"
          ]
        },
        {
          "name": "stdout",
          "output_type": "stream",
          "text": [
            "[INFO 2025-02-27 14:56:07,029] [0] Ed: 227200, train_loss: 1.72222, acc: 0.38215\n"
          ]
        },
        {
          "name": "stderr",
          "output_type": "stream",
          "text": [
            "INFO:root:[0] Ed: 230400, train_loss: 1.71890, acc: 0.38251\n"
          ]
        },
        {
          "name": "stdout",
          "output_type": "stream",
          "text": [
            "[INFO 2025-02-27 14:56:17,973] [0] Ed: 230400, train_loss: 1.71890, acc: 0.38251\n"
          ]
        },
        {
          "name": "stderr",
          "output_type": "stream",
          "text": [
            "INFO:root:[0] Ed: 233600, train_loss: 1.71566, acc: 0.38289\n"
          ]
        },
        {
          "name": "stdout",
          "output_type": "stream",
          "text": [
            "[INFO 2025-02-27 14:56:28,896] [0] Ed: 233600, train_loss: 1.71566, acc: 0.38289\n"
          ]
        },
        {
          "name": "stderr",
          "output_type": "stream",
          "text": [
            "INFO:root:Training finish.\n"
          ]
        },
        {
          "name": "stdout",
          "output_type": "stream",
          "text": [
            "[INFO 2025-02-27 14:56:38,133] Training finish.\n"
          ]
        },
        {
          "name": "stderr",
          "output_type": "stream",
          "text": [
            "INFO:root:Model saved to /content/model/epoch-2.pt.\n"
          ]
        },
        {
          "name": "stdout",
          "output_type": "stream",
          "text": [
            "[INFO 2025-02-27 14:56:38,532] Model saved to /content/model/epoch-2.pt.\n"
          ]
        },
        {
          "name": "stderr",
          "output_type": "stream",
          "text": [
            "INFO:root:[0] Ed: 0, train_loss: inf, acc: inf\n"
          ]
        },
        {
          "name": "stdout",
          "output_type": "stream",
          "text": [
            "[INFO 2025-02-27 14:56:38,671] [0] Ed: 0, train_loss: inf, acc: inf\n"
          ]
        },
        {
          "name": "stderr",
          "output_type": "stream",
          "text": [
            "INFO:root:[0] Ed: 3200, train_loss: 1.53367, acc: 0.39375\n"
          ]
        },
        {
          "name": "stdout",
          "output_type": "stream",
          "text": [
            "[INFO 2025-02-27 14:56:49,564] [0] Ed: 3200, train_loss: 1.53367, acc: 0.39375\n"
          ]
        },
        {
          "name": "stderr",
          "output_type": "stream",
          "text": [
            "INFO:root:[0] Ed: 6400, train_loss: 1.52000, acc: 0.39828\n"
          ]
        },
        {
          "name": "stdout",
          "output_type": "stream",
          "text": [
            "[INFO 2025-02-27 14:57:00,770] [0] Ed: 6400, train_loss: 1.52000, acc: 0.39828\n"
          ]
        },
        {
          "name": "stderr",
          "output_type": "stream",
          "text": [
            "INFO:root:[0] Ed: 9600, train_loss: 1.51527, acc: 0.39427\n"
          ]
        },
        {
          "name": "stdout",
          "output_type": "stream",
          "text": [
            "[INFO 2025-02-27 14:57:11,670] [0] Ed: 9600, train_loss: 1.51527, acc: 0.39427\n"
          ]
        },
        {
          "name": "stderr",
          "output_type": "stream",
          "text": [
            "INFO:root:[0] Ed: 12800, train_loss: 1.51738, acc: 0.39602\n"
          ]
        },
        {
          "name": "stdout",
          "output_type": "stream",
          "text": [
            "[INFO 2025-02-27 14:57:22,545] [0] Ed: 12800, train_loss: 1.51738, acc: 0.39602\n"
          ]
        },
        {
          "name": "stderr",
          "output_type": "stream",
          "text": [
            "INFO:root:[0] Ed: 16000, train_loss: 1.51924, acc: 0.39331\n"
          ]
        },
        {
          "name": "stdout",
          "output_type": "stream",
          "text": [
            "[INFO 2025-02-27 14:57:33,482] [0] Ed: 16000, train_loss: 1.51924, acc: 0.39331\n"
          ]
        },
        {
          "name": "stderr",
          "output_type": "stream",
          "text": [
            "INFO:root:[0] Ed: 19200, train_loss: 1.51827, acc: 0.39552\n"
          ]
        },
        {
          "name": "stdout",
          "output_type": "stream",
          "text": [
            "[INFO 2025-02-27 14:57:44,387] [0] Ed: 19200, train_loss: 1.51827, acc: 0.39552\n"
          ]
        },
        {
          "name": "stderr",
          "output_type": "stream",
          "text": [
            "INFO:root:[0] Ed: 22400, train_loss: 1.51442, acc: 0.39585\n"
          ]
        },
        {
          "name": "stdout",
          "output_type": "stream",
          "text": [
            "[INFO 2025-02-27 14:57:55,288] [0] Ed: 22400, train_loss: 1.51442, acc: 0.39585\n"
          ]
        },
        {
          "name": "stderr",
          "output_type": "stream",
          "text": [
            "INFO:root:[0] Ed: 25600, train_loss: 1.51499, acc: 0.39562\n"
          ]
        },
        {
          "name": "stdout",
          "output_type": "stream",
          "text": [
            "[INFO 2025-02-27 14:58:06,217] [0] Ed: 25600, train_loss: 1.51499, acc: 0.39562\n"
          ]
        },
        {
          "name": "stderr",
          "output_type": "stream",
          "text": [
            "INFO:root:[0] Ed: 28800, train_loss: 1.51133, acc: 0.39535\n"
          ]
        },
        {
          "name": "stdout",
          "output_type": "stream",
          "text": [
            "[INFO 2025-02-27 14:58:17,167] [0] Ed: 28800, train_loss: 1.51133, acc: 0.39535\n"
          ]
        },
        {
          "name": "stderr",
          "output_type": "stream",
          "text": [
            "INFO:root:[0] Ed: 32000, train_loss: 1.51018, acc: 0.39484\n"
          ]
        },
        {
          "name": "stdout",
          "output_type": "stream",
          "text": [
            "[INFO 2025-02-27 14:58:28,093] [0] Ed: 32000, train_loss: 1.51018, acc: 0.39484\n"
          ]
        },
        {
          "name": "stderr",
          "output_type": "stream",
          "text": [
            "INFO:root:[0] Ed: 35200, train_loss: 1.51252, acc: 0.39378\n"
          ]
        },
        {
          "name": "stdout",
          "output_type": "stream",
          "text": [
            "[INFO 2025-02-27 14:58:39,023] [0] Ed: 35200, train_loss: 1.51252, acc: 0.39378\n"
          ]
        },
        {
          "name": "stderr",
          "output_type": "stream",
          "text": [
            "INFO:root:[0] Ed: 38400, train_loss: 1.51034, acc: 0.39372\n"
          ]
        },
        {
          "name": "stdout",
          "output_type": "stream",
          "text": [
            "[INFO 2025-02-27 14:58:49,921] [0] Ed: 38400, train_loss: 1.51034, acc: 0.39372\n"
          ]
        },
        {
          "name": "stderr",
          "output_type": "stream",
          "text": [
            "INFO:root:[0] Ed: 41600, train_loss: 1.50873, acc: 0.39526\n"
          ]
        },
        {
          "name": "stdout",
          "output_type": "stream",
          "text": [
            "[INFO 2025-02-27 14:59:00,850] [0] Ed: 41600, train_loss: 1.50873, acc: 0.39526\n"
          ]
        },
        {
          "name": "stderr",
          "output_type": "stream",
          "text": [
            "INFO:root:[0] Ed: 44800, train_loss: 1.50942, acc: 0.39531\n"
          ]
        },
        {
          "name": "stdout",
          "output_type": "stream",
          "text": [
            "[INFO 2025-02-27 14:59:11,762] [0] Ed: 44800, train_loss: 1.50942, acc: 0.39531\n"
          ]
        },
        {
          "name": "stderr",
          "output_type": "stream",
          "text": [
            "INFO:root:[0] Ed: 48000, train_loss: 1.51042, acc: 0.39500\n"
          ]
        },
        {
          "name": "stdout",
          "output_type": "stream",
          "text": [
            "[INFO 2025-02-27 14:59:22,654] [0] Ed: 48000, train_loss: 1.51042, acc: 0.39500\n"
          ]
        },
        {
          "name": "stderr",
          "output_type": "stream",
          "text": [
            "INFO:root:[0] Ed: 51200, train_loss: 1.50979, acc: 0.39529\n"
          ]
        },
        {
          "name": "stdout",
          "output_type": "stream",
          "text": [
            "[INFO 2025-02-27 14:59:33,556] [0] Ed: 51200, train_loss: 1.50979, acc: 0.39529\n"
          ]
        },
        {
          "name": "stderr",
          "output_type": "stream",
          "text": [
            "INFO:root:[0] Ed: 54400, train_loss: 1.50785, acc: 0.39706\n"
          ]
        },
        {
          "name": "stdout",
          "output_type": "stream",
          "text": [
            "[INFO 2025-02-27 14:59:44,481] [0] Ed: 54400, train_loss: 1.50785, acc: 0.39706\n"
          ]
        },
        {
          "name": "stderr",
          "output_type": "stream",
          "text": [
            "INFO:root:[0] Ed: 57600, train_loss: 1.50760, acc: 0.39771\n"
          ]
        },
        {
          "name": "stdout",
          "output_type": "stream",
          "text": [
            "[INFO 2025-02-27 14:59:55,375] [0] Ed: 57600, train_loss: 1.50760, acc: 0.39771\n"
          ]
        },
        {
          "name": "stderr",
          "output_type": "stream",
          "text": [
            "INFO:root:[0] Ed: 60800, train_loss: 1.50697, acc: 0.39758\n"
          ]
        },
        {
          "name": "stdout",
          "output_type": "stream",
          "text": [
            "[INFO 2025-02-27 15:00:06,278] [0] Ed: 60800, train_loss: 1.50697, acc: 0.39758\n"
          ]
        },
        {
          "name": "stderr",
          "output_type": "stream",
          "text": [
            "INFO:root:[0] Ed: 64000, train_loss: 1.50555, acc: 0.39794\n"
          ]
        },
        {
          "name": "stdout",
          "output_type": "stream",
          "text": [
            "[INFO 2025-02-27 15:00:17,212] [0] Ed: 64000, train_loss: 1.50555, acc: 0.39794\n"
          ]
        },
        {
          "name": "stderr",
          "output_type": "stream",
          "text": [
            "INFO:root:[0] Ed: 67200, train_loss: 1.50537, acc: 0.39915\n"
          ]
        },
        {
          "name": "stdout",
          "output_type": "stream",
          "text": [
            "[INFO 2025-02-27 15:00:28,112] [0] Ed: 67200, train_loss: 1.50537, acc: 0.39915\n"
          ]
        },
        {
          "name": "stderr",
          "output_type": "stream",
          "text": [
            "INFO:root:[0] Ed: 70400, train_loss: 1.50551, acc: 0.39879\n"
          ]
        },
        {
          "name": "stdout",
          "output_type": "stream",
          "text": [
            "[INFO 2025-02-27 15:00:39,004] [0] Ed: 70400, train_loss: 1.50551, acc: 0.39879\n"
          ]
        },
        {
          "name": "stderr",
          "output_type": "stream",
          "text": [
            "INFO:root:[0] Ed: 73600, train_loss: 1.50620, acc: 0.39883\n"
          ]
        },
        {
          "name": "stdout",
          "output_type": "stream",
          "text": [
            "[INFO 2025-02-27 15:00:49,903] [0] Ed: 73600, train_loss: 1.50620, acc: 0.39883\n"
          ]
        },
        {
          "name": "stderr",
          "output_type": "stream",
          "text": [
            "INFO:root:[0] Ed: 76800, train_loss: 1.50583, acc: 0.39887\n"
          ]
        },
        {
          "name": "stdout",
          "output_type": "stream",
          "text": [
            "[INFO 2025-02-27 15:01:00,834] [0] Ed: 76800, train_loss: 1.50583, acc: 0.39887\n"
          ]
        },
        {
          "name": "stderr",
          "output_type": "stream",
          "text": [
            "INFO:root:[0] Ed: 80000, train_loss: 1.50511, acc: 0.39936\n"
          ]
        },
        {
          "name": "stdout",
          "output_type": "stream",
          "text": [
            "[INFO 2025-02-27 15:01:12,010] [0] Ed: 80000, train_loss: 1.50511, acc: 0.39936\n"
          ]
        },
        {
          "name": "stderr",
          "output_type": "stream",
          "text": [
            "INFO:root:[0] Ed: 83200, train_loss: 1.50468, acc: 0.39936\n"
          ]
        },
        {
          "name": "stdout",
          "output_type": "stream",
          "text": [
            "[INFO 2025-02-27 15:01:22,954] [0] Ed: 83200, train_loss: 1.50468, acc: 0.39936\n"
          ]
        },
        {
          "name": "stderr",
          "output_type": "stream",
          "text": [
            "INFO:root:[0] Ed: 86400, train_loss: 1.50407, acc: 0.40000\n"
          ]
        },
        {
          "name": "stdout",
          "output_type": "stream",
          "text": [
            "[INFO 2025-02-27 15:01:33,881] [0] Ed: 86400, train_loss: 1.50407, acc: 0.40000\n"
          ]
        },
        {
          "name": "stderr",
          "output_type": "stream",
          "text": [
            "INFO:root:[0] Ed: 89600, train_loss: 1.50310, acc: 0.40049\n"
          ]
        },
        {
          "name": "stdout",
          "output_type": "stream",
          "text": [
            "[INFO 2025-02-27 15:01:44,751] [0] Ed: 89600, train_loss: 1.50310, acc: 0.40049\n"
          ]
        },
        {
          "name": "stderr",
          "output_type": "stream",
          "text": [
            "INFO:root:[0] Ed: 92800, train_loss: 1.50280, acc: 0.40047\n"
          ]
        },
        {
          "name": "stdout",
          "output_type": "stream",
          "text": [
            "[INFO 2025-02-27 15:01:55,688] [0] Ed: 92800, train_loss: 1.50280, acc: 0.40047\n"
          ]
        },
        {
          "name": "stderr",
          "output_type": "stream",
          "text": [
            "INFO:root:[0] Ed: 96000, train_loss: 1.50280, acc: 0.40039\n"
          ]
        },
        {
          "name": "stdout",
          "output_type": "stream",
          "text": [
            "[INFO 2025-02-27 15:02:06,591] [0] Ed: 96000, train_loss: 1.50280, acc: 0.40039\n"
          ]
        },
        {
          "name": "stderr",
          "output_type": "stream",
          "text": [
            "INFO:root:[0] Ed: 99200, train_loss: 1.50326, acc: 0.40037\n"
          ]
        },
        {
          "name": "stdout",
          "output_type": "stream",
          "text": [
            "[INFO 2025-02-27 15:02:17,527] [0] Ed: 99200, train_loss: 1.50326, acc: 0.40037\n"
          ]
        },
        {
          "name": "stderr",
          "output_type": "stream",
          "text": [
            "INFO:root:[0] Ed: 102400, train_loss: 1.50279, acc: 0.40041\n"
          ]
        },
        {
          "name": "stdout",
          "output_type": "stream",
          "text": [
            "[INFO 2025-02-27 15:02:28,453] [0] Ed: 102400, train_loss: 1.50279, acc: 0.40041\n"
          ]
        },
        {
          "name": "stderr",
          "output_type": "stream",
          "text": [
            "INFO:root:[0] Ed: 105600, train_loss: 1.50270, acc: 0.40076\n"
          ]
        },
        {
          "name": "stdout",
          "output_type": "stream",
          "text": [
            "[INFO 2025-02-27 15:02:39,341] [0] Ed: 105600, train_loss: 1.50270, acc: 0.40076\n"
          ]
        },
        {
          "name": "stderr",
          "output_type": "stream",
          "text": [
            "INFO:root:[0] Ed: 108800, train_loss: 1.50286, acc: 0.40102\n"
          ]
        },
        {
          "name": "stdout",
          "output_type": "stream",
          "text": [
            "[INFO 2025-02-27 15:02:50,248] [0] Ed: 108800, train_loss: 1.50286, acc: 0.40102\n"
          ]
        },
        {
          "name": "stderr",
          "output_type": "stream",
          "text": [
            "INFO:root:[0] Ed: 112000, train_loss: 1.50241, acc: 0.40127\n"
          ]
        },
        {
          "name": "stdout",
          "output_type": "stream",
          "text": [
            "[INFO 2025-02-27 15:03:01,117] [0] Ed: 112000, train_loss: 1.50241, acc: 0.40127\n"
          ]
        },
        {
          "name": "stderr",
          "output_type": "stream",
          "text": [
            "INFO:root:[0] Ed: 115200, train_loss: 1.50323, acc: 0.40142\n"
          ]
        },
        {
          "name": "stdout",
          "output_type": "stream",
          "text": [
            "[INFO 2025-02-27 15:03:11,981] [0] Ed: 115200, train_loss: 1.50323, acc: 0.40142\n"
          ]
        },
        {
          "name": "stderr",
          "output_type": "stream",
          "text": [
            "INFO:root:[0] Ed: 118400, train_loss: 1.50295, acc: 0.40162\n"
          ]
        },
        {
          "name": "stdout",
          "output_type": "stream",
          "text": [
            "[INFO 2025-02-27 15:03:22,883] [0] Ed: 118400, train_loss: 1.50295, acc: 0.40162\n"
          ]
        },
        {
          "name": "stderr",
          "output_type": "stream",
          "text": [
            "INFO:root:[0] Ed: 121600, train_loss: 1.50306, acc: 0.40167\n"
          ]
        },
        {
          "name": "stdout",
          "output_type": "stream",
          "text": [
            "[INFO 2025-02-27 15:03:33,791] [0] Ed: 121600, train_loss: 1.50306, acc: 0.40167\n"
          ]
        },
        {
          "name": "stderr",
          "output_type": "stream",
          "text": [
            "INFO:root:[0] Ed: 124800, train_loss: 1.50252, acc: 0.40204\n"
          ]
        },
        {
          "name": "stdout",
          "output_type": "stream",
          "text": [
            "[INFO 2025-02-27 15:03:44,701] [0] Ed: 124800, train_loss: 1.50252, acc: 0.40204\n"
          ]
        },
        {
          "name": "stderr",
          "output_type": "stream",
          "text": [
            "INFO:root:[0] Ed: 128000, train_loss: 1.50260, acc: 0.40215\n"
          ]
        },
        {
          "name": "stdout",
          "output_type": "stream",
          "text": [
            "[INFO 2025-02-27 15:03:55,612] [0] Ed: 128000, train_loss: 1.50260, acc: 0.40215\n"
          ]
        },
        {
          "name": "stderr",
          "output_type": "stream",
          "text": [
            "INFO:root:[0] Ed: 131200, train_loss: 1.50229, acc: 0.40238\n"
          ]
        },
        {
          "name": "stdout",
          "output_type": "stream",
          "text": [
            "[INFO 2025-02-27 15:04:06,541] [0] Ed: 131200, train_loss: 1.50229, acc: 0.40238\n"
          ]
        },
        {
          "name": "stderr",
          "output_type": "stream",
          "text": [
            "INFO:root:[0] Ed: 134400, train_loss: 1.50207, acc: 0.40228\n"
          ]
        },
        {
          "name": "stdout",
          "output_type": "stream",
          "text": [
            "[INFO 2025-02-27 15:04:17,454] [0] Ed: 134400, train_loss: 1.50207, acc: 0.40228\n"
          ]
        },
        {
          "name": "stderr",
          "output_type": "stream",
          "text": [
            "INFO:root:[0] Ed: 137600, train_loss: 1.50181, acc: 0.40258\n"
          ]
        },
        {
          "name": "stdout",
          "output_type": "stream",
          "text": [
            "[INFO 2025-02-27 15:04:28,400] [0] Ed: 137600, train_loss: 1.50181, acc: 0.40258\n"
          ]
        },
        {
          "name": "stderr",
          "output_type": "stream",
          "text": [
            "INFO:root:[0] Ed: 140800, train_loss: 1.50137, acc: 0.40266\n"
          ]
        },
        {
          "name": "stdout",
          "output_type": "stream",
          "text": [
            "[INFO 2025-02-27 15:04:39,303] [0] Ed: 140800, train_loss: 1.50137, acc: 0.40266\n"
          ]
        },
        {
          "name": "stderr",
          "output_type": "stream",
          "text": [
            "INFO:root:[0] Ed: 144000, train_loss: 1.50146, acc: 0.40264\n"
          ]
        },
        {
          "name": "stdout",
          "output_type": "stream",
          "text": [
            "[INFO 2025-02-27 15:04:50,265] [0] Ed: 144000, train_loss: 1.50146, acc: 0.40264\n"
          ]
        },
        {
          "name": "stderr",
          "output_type": "stream",
          "text": [
            "INFO:root:[0] Ed: 147200, train_loss: 1.50071, acc: 0.40281\n"
          ]
        },
        {
          "name": "stdout",
          "output_type": "stream",
          "text": [
            "[INFO 2025-02-27 15:05:01,169] [0] Ed: 147200, train_loss: 1.50071, acc: 0.40281\n"
          ]
        },
        {
          "name": "stderr",
          "output_type": "stream",
          "text": [
            "INFO:root:[0] Ed: 150400, train_loss: 1.50001, acc: 0.40259\n"
          ]
        },
        {
          "name": "stdout",
          "output_type": "stream",
          "text": [
            "[INFO 2025-02-27 15:05:12,052] [0] Ed: 150400, train_loss: 1.50001, acc: 0.40259\n"
          ]
        },
        {
          "name": "stderr",
          "output_type": "stream",
          "text": [
            "INFO:root:[0] Ed: 153600, train_loss: 1.50011, acc: 0.40236\n"
          ]
        },
        {
          "name": "stdout",
          "output_type": "stream",
          "text": [
            "[INFO 2025-02-27 15:05:23,226] [0] Ed: 153600, train_loss: 1.50011, acc: 0.40236\n"
          ]
        },
        {
          "name": "stderr",
          "output_type": "stream",
          "text": [
            "INFO:root:[0] Ed: 156800, train_loss: 1.49922, acc: 0.40281\n"
          ]
        },
        {
          "name": "stdout",
          "output_type": "stream",
          "text": [
            "[INFO 2025-02-27 15:05:34,185] [0] Ed: 156800, train_loss: 1.49922, acc: 0.40281\n"
          ]
        },
        {
          "name": "stderr",
          "output_type": "stream",
          "text": [
            "INFO:root:[0] Ed: 160000, train_loss: 1.49855, acc: 0.40306\n"
          ]
        },
        {
          "name": "stdout",
          "output_type": "stream",
          "text": [
            "[INFO 2025-02-27 15:05:45,057] [0] Ed: 160000, train_loss: 1.49855, acc: 0.40306\n"
          ]
        },
        {
          "name": "stderr",
          "output_type": "stream",
          "text": [
            "INFO:root:[0] Ed: 163200, train_loss: 1.49803, acc: 0.40316\n"
          ]
        },
        {
          "name": "stdout",
          "output_type": "stream",
          "text": [
            "[INFO 2025-02-27 15:05:55,932] [0] Ed: 163200, train_loss: 1.49803, acc: 0.40316\n"
          ]
        },
        {
          "name": "stderr",
          "output_type": "stream",
          "text": [
            "INFO:root:[0] Ed: 166400, train_loss: 1.49764, acc: 0.40318\n"
          ]
        },
        {
          "name": "stdout",
          "output_type": "stream",
          "text": [
            "[INFO 2025-02-27 15:06:06,879] [0] Ed: 166400, train_loss: 1.49764, acc: 0.40318\n"
          ]
        },
        {
          "name": "stderr",
          "output_type": "stream",
          "text": [
            "INFO:root:[0] Ed: 169600, train_loss: 1.49802, acc: 0.40295\n"
          ]
        },
        {
          "name": "stdout",
          "output_type": "stream",
          "text": [
            "[INFO 2025-02-27 15:06:17,833] [0] Ed: 169600, train_loss: 1.49802, acc: 0.40295\n"
          ]
        },
        {
          "name": "stderr",
          "output_type": "stream",
          "text": [
            "INFO:root:[0] Ed: 172800, train_loss: 1.49734, acc: 0.40308\n"
          ]
        },
        {
          "name": "stdout",
          "output_type": "stream",
          "text": [
            "[INFO 2025-02-27 15:06:28,784] [0] Ed: 172800, train_loss: 1.49734, acc: 0.40308\n"
          ]
        },
        {
          "name": "stderr",
          "output_type": "stream",
          "text": [
            "INFO:root:[0] Ed: 176000, train_loss: 1.49685, acc: 0.40331\n"
          ]
        },
        {
          "name": "stdout",
          "output_type": "stream",
          "text": [
            "[INFO 2025-02-27 15:06:39,720] [0] Ed: 176000, train_loss: 1.49685, acc: 0.40331\n"
          ]
        },
        {
          "name": "stderr",
          "output_type": "stream",
          "text": [
            "INFO:root:[0] Ed: 179200, train_loss: 1.49601, acc: 0.40352\n"
          ]
        },
        {
          "name": "stdout",
          "output_type": "stream",
          "text": [
            "[INFO 2025-02-27 15:06:50,602] [0] Ed: 179200, train_loss: 1.49601, acc: 0.40352\n"
          ]
        },
        {
          "name": "stderr",
          "output_type": "stream",
          "text": [
            "INFO:root:[0] Ed: 182400, train_loss: 1.49609, acc: 0.40362\n"
          ]
        },
        {
          "name": "stdout",
          "output_type": "stream",
          "text": [
            "[INFO 2025-02-27 15:07:01,501] [0] Ed: 182400, train_loss: 1.49609, acc: 0.40362\n"
          ]
        },
        {
          "name": "stderr",
          "output_type": "stream",
          "text": [
            "INFO:root:[0] Ed: 185600, train_loss: 1.49513, acc: 0.40384\n"
          ]
        },
        {
          "name": "stdout",
          "output_type": "stream",
          "text": [
            "[INFO 2025-02-27 15:07:12,342] [0] Ed: 185600, train_loss: 1.49513, acc: 0.40384\n"
          ]
        },
        {
          "name": "stderr",
          "output_type": "stream",
          "text": [
            "INFO:root:[0] Ed: 188800, train_loss: 1.49472, acc: 0.40406\n"
          ]
        },
        {
          "name": "stdout",
          "output_type": "stream",
          "text": [
            "[INFO 2025-02-27 15:07:23,191] [0] Ed: 188800, train_loss: 1.49472, acc: 0.40406\n"
          ]
        },
        {
          "name": "stderr",
          "output_type": "stream",
          "text": [
            "INFO:root:[0] Ed: 192000, train_loss: 1.49425, acc: 0.40385\n"
          ]
        },
        {
          "name": "stdout",
          "output_type": "stream",
          "text": [
            "[INFO 2025-02-27 15:07:34,056] [0] Ed: 192000, train_loss: 1.49425, acc: 0.40385\n"
          ]
        },
        {
          "name": "stderr",
          "output_type": "stream",
          "text": [
            "INFO:root:[0] Ed: 195200, train_loss: 1.49407, acc: 0.40384\n"
          ]
        },
        {
          "name": "stdout",
          "output_type": "stream",
          "text": [
            "[INFO 2025-02-27 15:07:44,926] [0] Ed: 195200, train_loss: 1.49407, acc: 0.40384\n"
          ]
        },
        {
          "name": "stderr",
          "output_type": "stream",
          "text": [
            "INFO:root:[0] Ed: 198400, train_loss: 1.49392, acc: 0.40395\n"
          ]
        },
        {
          "name": "stdout",
          "output_type": "stream",
          "text": [
            "[INFO 2025-02-27 15:07:55,817] [0] Ed: 198400, train_loss: 1.49392, acc: 0.40395\n"
          ]
        },
        {
          "name": "stderr",
          "output_type": "stream",
          "text": [
            "INFO:root:[0] Ed: 201600, train_loss: 1.49331, acc: 0.40399\n"
          ]
        },
        {
          "name": "stdout",
          "output_type": "stream",
          "text": [
            "[INFO 2025-02-27 15:08:06,748] [0] Ed: 201600, train_loss: 1.49331, acc: 0.40399\n"
          ]
        },
        {
          "name": "stderr",
          "output_type": "stream",
          "text": [
            "INFO:root:[0] Ed: 204800, train_loss: 1.49333, acc: 0.40399\n"
          ]
        },
        {
          "name": "stdout",
          "output_type": "stream",
          "text": [
            "[INFO 2025-02-27 15:08:17,654] [0] Ed: 204800, train_loss: 1.49333, acc: 0.40399\n"
          ]
        },
        {
          "name": "stderr",
          "output_type": "stream",
          "text": [
            "INFO:root:[0] Ed: 208000, train_loss: 1.49316, acc: 0.40413\n"
          ]
        },
        {
          "name": "stdout",
          "output_type": "stream",
          "text": [
            "[INFO 2025-02-27 15:08:28,569] [0] Ed: 208000, train_loss: 1.49316, acc: 0.40413\n"
          ]
        },
        {
          "name": "stderr",
          "output_type": "stream",
          "text": [
            "INFO:root:[0] Ed: 211200, train_loss: 1.49285, acc: 0.40411\n"
          ]
        },
        {
          "name": "stdout",
          "output_type": "stream",
          "text": [
            "[INFO 2025-02-27 15:08:39,625] [0] Ed: 211200, train_loss: 1.49285, acc: 0.40411\n"
          ]
        },
        {
          "name": "stderr",
          "output_type": "stream",
          "text": [
            "INFO:root:[0] Ed: 214400, train_loss: 1.49241, acc: 0.40415\n"
          ]
        },
        {
          "name": "stdout",
          "output_type": "stream",
          "text": [
            "[INFO 2025-02-27 15:08:50,685] [0] Ed: 214400, train_loss: 1.49241, acc: 0.40415\n"
          ]
        },
        {
          "name": "stderr",
          "output_type": "stream",
          "text": [
            "INFO:root:[0] Ed: 217600, train_loss: 1.49179, acc: 0.40411\n"
          ]
        },
        {
          "name": "stdout",
          "output_type": "stream",
          "text": [
            "[INFO 2025-02-27 15:09:01,705] [0] Ed: 217600, train_loss: 1.49179, acc: 0.40411\n"
          ]
        },
        {
          "name": "stderr",
          "output_type": "stream",
          "text": [
            "INFO:root:[0] Ed: 220800, train_loss: 1.49113, acc: 0.40428\n"
          ]
        },
        {
          "name": "stdout",
          "output_type": "stream",
          "text": [
            "[INFO 2025-02-27 15:09:12,776] [0] Ed: 220800, train_loss: 1.49113, acc: 0.40428\n"
          ]
        },
        {
          "name": "stderr",
          "output_type": "stream",
          "text": [
            "INFO:root:[0] Ed: 224000, train_loss: 1.49052, acc: 0.40454\n"
          ]
        },
        {
          "name": "stdout",
          "output_type": "stream",
          "text": [
            "[INFO 2025-02-27 15:09:24,088] [0] Ed: 224000, train_loss: 1.49052, acc: 0.40454\n"
          ]
        },
        {
          "name": "stderr",
          "output_type": "stream",
          "text": [
            "INFO:root:[0] Ed: 227200, train_loss: 1.48997, acc: 0.40481\n"
          ]
        },
        {
          "name": "stdout",
          "output_type": "stream",
          "text": [
            "[INFO 2025-02-27 15:09:35,212] [0] Ed: 227200, train_loss: 1.48997, acc: 0.40481\n"
          ]
        },
        {
          "name": "stderr",
          "output_type": "stream",
          "text": [
            "INFO:root:[0] Ed: 230400, train_loss: 1.48933, acc: 0.40503\n"
          ]
        },
        {
          "name": "stdout",
          "output_type": "stream",
          "text": [
            "[INFO 2025-02-27 15:09:46,316] [0] Ed: 230400, train_loss: 1.48933, acc: 0.40503\n"
          ]
        },
        {
          "name": "stderr",
          "output_type": "stream",
          "text": [
            "INFO:root:[0] Ed: 233600, train_loss: 1.48859, acc: 0.40533\n"
          ]
        },
        {
          "name": "stdout",
          "output_type": "stream",
          "text": [
            "[INFO 2025-02-27 15:09:57,397] [0] Ed: 233600, train_loss: 1.48859, acc: 0.40533\n"
          ]
        },
        {
          "name": "stderr",
          "output_type": "stream",
          "text": [
            "INFO:root:Training finish.\n"
          ]
        },
        {
          "name": "stdout",
          "output_type": "stream",
          "text": [
            "[INFO 2025-02-27 15:10:06,828] Training finish.\n"
          ]
        },
        {
          "name": "stderr",
          "output_type": "stream",
          "text": [
            "INFO:root:Model saved to /content/model/epoch-3.pt.\n"
          ]
        },
        {
          "name": "stdout",
          "output_type": "stream",
          "text": [
            "[INFO 2025-02-27 15:10:07,227] Model saved to /content/model/epoch-3.pt.\n"
          ]
        },
        {
          "name": "stderr",
          "output_type": "stream",
          "text": [
            "INFO:root:[0] Ed: 0, train_loss: inf, acc: inf\n"
          ]
        },
        {
          "name": "stdout",
          "output_type": "stream",
          "text": [
            "[INFO 2025-02-27 15:10:07,368] [0] Ed: 0, train_loss: inf, acc: inf\n"
          ]
        },
        {
          "name": "stderr",
          "output_type": "stream",
          "text": [
            "INFO:root:[0] Ed: 3200, train_loss: 1.47047, acc: 0.40219\n"
          ]
        },
        {
          "name": "stdout",
          "output_type": "stream",
          "text": [
            "[INFO 2025-02-27 15:10:18,378] [0] Ed: 3200, train_loss: 1.47047, acc: 0.40219\n"
          ]
        },
        {
          "name": "stderr",
          "output_type": "stream",
          "text": [
            "INFO:root:[0] Ed: 6400, train_loss: 1.44993, acc: 0.40750\n"
          ]
        },
        {
          "name": "stdout",
          "output_type": "stream",
          "text": [
            "[INFO 2025-02-27 15:10:29,419] [0] Ed: 6400, train_loss: 1.44993, acc: 0.40750\n"
          ]
        },
        {
          "name": "stderr",
          "output_type": "stream",
          "text": [
            "INFO:root:[0] Ed: 9600, train_loss: 1.45369, acc: 0.40531\n"
          ]
        },
        {
          "name": "stdout",
          "output_type": "stream",
          "text": [
            "[INFO 2025-02-27 15:10:40,483] [0] Ed: 9600, train_loss: 1.45369, acc: 0.40531\n"
          ]
        },
        {
          "name": "stderr",
          "output_type": "stream",
          "text": [
            "INFO:root:[0] Ed: 12800, train_loss: 1.44761, acc: 0.40766\n"
          ]
        },
        {
          "name": "stdout",
          "output_type": "stream",
          "text": [
            "[INFO 2025-02-27 15:10:51,508] [0] Ed: 12800, train_loss: 1.44761, acc: 0.40766\n"
          ]
        },
        {
          "name": "stderr",
          "output_type": "stream",
          "text": [
            "INFO:root:[0] Ed: 16000, train_loss: 1.45247, acc: 0.40744\n"
          ]
        },
        {
          "name": "stdout",
          "output_type": "stream",
          "text": [
            "[INFO 2025-02-27 15:11:02,582] [0] Ed: 16000, train_loss: 1.45247, acc: 0.40744\n"
          ]
        },
        {
          "name": "stderr",
          "output_type": "stream",
          "text": [
            "INFO:root:[0] Ed: 19200, train_loss: 1.45447, acc: 0.40776\n"
          ]
        },
        {
          "name": "stdout",
          "output_type": "stream",
          "text": [
            "[INFO 2025-02-27 15:11:13,588] [0] Ed: 19200, train_loss: 1.45447, acc: 0.40776\n"
          ]
        },
        {
          "name": "stderr",
          "output_type": "stream",
          "text": [
            "INFO:root:[0] Ed: 22400, train_loss: 1.45554, acc: 0.41049\n"
          ]
        },
        {
          "name": "stdout",
          "output_type": "stream",
          "text": [
            "[INFO 2025-02-27 15:11:24,506] [0] Ed: 22400, train_loss: 1.45554, acc: 0.41049\n"
          ]
        },
        {
          "name": "stderr",
          "output_type": "stream",
          "text": [
            "INFO:root:[0] Ed: 25600, train_loss: 1.45707, acc: 0.41016\n"
          ]
        },
        {
          "name": "stdout",
          "output_type": "stream",
          "text": [
            "[INFO 2025-02-27 15:11:35,447] [0] Ed: 25600, train_loss: 1.45707, acc: 0.41016\n"
          ]
        },
        {
          "name": "stderr",
          "output_type": "stream",
          "text": [
            "INFO:root:[0] Ed: 28800, train_loss: 1.45605, acc: 0.41003\n"
          ]
        },
        {
          "name": "stdout",
          "output_type": "stream",
          "text": [
            "[INFO 2025-02-27 15:11:46,344] [0] Ed: 28800, train_loss: 1.45605, acc: 0.41003\n"
          ]
        },
        {
          "name": "stderr",
          "output_type": "stream",
          "text": [
            "INFO:root:[0] Ed: 32000, train_loss: 1.45611, acc: 0.40966\n"
          ]
        },
        {
          "name": "stdout",
          "output_type": "stream",
          "text": [
            "[INFO 2025-02-27 15:11:57,249] [0] Ed: 32000, train_loss: 1.45611, acc: 0.40966\n"
          ]
        },
        {
          "name": "stderr",
          "output_type": "stream",
          "text": [
            "INFO:root:[0] Ed: 35200, train_loss: 1.45890, acc: 0.40813\n"
          ]
        },
        {
          "name": "stdout",
          "output_type": "stream",
          "text": [
            "[INFO 2025-02-27 15:12:08,153] [0] Ed: 35200, train_loss: 1.45890, acc: 0.40813\n"
          ]
        },
        {
          "name": "stderr",
          "output_type": "stream",
          "text": [
            "INFO:root:[0] Ed: 38400, train_loss: 1.45864, acc: 0.40859\n"
          ]
        },
        {
          "name": "stdout",
          "output_type": "stream",
          "text": [
            "[INFO 2025-02-27 15:12:19,096] [0] Ed: 38400, train_loss: 1.45864, acc: 0.40859\n"
          ]
        },
        {
          "name": "stderr",
          "output_type": "stream",
          "text": [
            "INFO:root:[0] Ed: 41600, train_loss: 1.45889, acc: 0.40954\n"
          ]
        },
        {
          "name": "stdout",
          "output_type": "stream",
          "text": [
            "[INFO 2025-02-27 15:12:30,073] [0] Ed: 41600, train_loss: 1.45889, acc: 0.40954\n"
          ]
        },
        {
          "name": "stderr",
          "output_type": "stream",
          "text": [
            "INFO:root:[0] Ed: 44800, train_loss: 1.46125, acc: 0.40940\n"
          ]
        },
        {
          "name": "stdout",
          "output_type": "stream",
          "text": [
            "[INFO 2025-02-27 15:12:41,039] [0] Ed: 44800, train_loss: 1.46125, acc: 0.40940\n"
          ]
        },
        {
          "name": "stderr",
          "output_type": "stream",
          "text": [
            "INFO:root:[0] Ed: 48000, train_loss: 1.46310, acc: 0.40840\n"
          ]
        },
        {
          "name": "stdout",
          "output_type": "stream",
          "text": [
            "[INFO 2025-02-27 15:12:51,903] [0] Ed: 48000, train_loss: 1.46310, acc: 0.40840\n"
          ]
        },
        {
          "name": "stderr",
          "output_type": "stream",
          "text": [
            "INFO:root:[0] Ed: 51200, train_loss: 1.46198, acc: 0.40809\n"
          ]
        },
        {
          "name": "stdout",
          "output_type": "stream",
          "text": [
            "[INFO 2025-02-27 15:13:02,776] [0] Ed: 51200, train_loss: 1.46198, acc: 0.40809\n"
          ]
        },
        {
          "name": "stderr",
          "output_type": "stream",
          "text": [
            "INFO:root:[0] Ed: 54400, train_loss: 1.46039, acc: 0.40936\n"
          ]
        },
        {
          "name": "stdout",
          "output_type": "stream",
          "text": [
            "[INFO 2025-02-27 15:13:13,625] [0] Ed: 54400, train_loss: 1.46039, acc: 0.40936\n"
          ]
        },
        {
          "name": "stderr",
          "output_type": "stream",
          "text": [
            "INFO:root:[0] Ed: 57600, train_loss: 1.46029, acc: 0.41010\n"
          ]
        },
        {
          "name": "stdout",
          "output_type": "stream",
          "text": [
            "[INFO 2025-02-27 15:13:24,518] [0] Ed: 57600, train_loss: 1.46029, acc: 0.41010\n"
          ]
        },
        {
          "name": "stderr",
          "output_type": "stream",
          "text": [
            "INFO:root:[0] Ed: 60800, train_loss: 1.46057, acc: 0.41028\n"
          ]
        },
        {
          "name": "stdout",
          "output_type": "stream",
          "text": [
            "[INFO 2025-02-27 15:13:35,656] [0] Ed: 60800, train_loss: 1.46057, acc: 0.41028\n"
          ]
        },
        {
          "name": "stderr",
          "output_type": "stream",
          "text": [
            "INFO:root:[0] Ed: 64000, train_loss: 1.45989, acc: 0.41014\n"
          ]
        },
        {
          "name": "stdout",
          "output_type": "stream",
          "text": [
            "[INFO 2025-02-27 15:13:46,586] [0] Ed: 64000, train_loss: 1.45989, acc: 0.41014\n"
          ]
        },
        {
          "name": "stderr",
          "output_type": "stream",
          "text": [
            "INFO:root:[0] Ed: 67200, train_loss: 1.45861, acc: 0.41104\n"
          ]
        },
        {
          "name": "stdout",
          "output_type": "stream",
          "text": [
            "[INFO 2025-02-27 15:13:57,486] [0] Ed: 67200, train_loss: 1.45861, acc: 0.41104\n"
          ]
        },
        {
          "name": "stderr",
          "output_type": "stream",
          "text": [
            "INFO:root:[0] Ed: 70400, train_loss: 1.45870, acc: 0.41104\n"
          ]
        },
        {
          "name": "stdout",
          "output_type": "stream",
          "text": [
            "[INFO 2025-02-27 15:14:08,398] [0] Ed: 70400, train_loss: 1.45870, acc: 0.41104\n"
          ]
        },
        {
          "name": "stderr",
          "output_type": "stream",
          "text": [
            "INFO:root:[0] Ed: 73600, train_loss: 1.45779, acc: 0.41121\n"
          ]
        },
        {
          "name": "stdout",
          "output_type": "stream",
          "text": [
            "[INFO 2025-02-27 15:14:19,267] [0] Ed: 73600, train_loss: 1.45779, acc: 0.41121\n"
          ]
        },
        {
          "name": "stderr",
          "output_type": "stream",
          "text": [
            "INFO:root:[0] Ed: 76800, train_loss: 1.45707, acc: 0.41178\n"
          ]
        },
        {
          "name": "stdout",
          "output_type": "stream",
          "text": [
            "[INFO 2025-02-27 15:14:30,176] [0] Ed: 76800, train_loss: 1.45707, acc: 0.41178\n"
          ]
        },
        {
          "name": "stderr",
          "output_type": "stream",
          "text": [
            "INFO:root:[0] Ed: 80000, train_loss: 1.45648, acc: 0.41200\n"
          ]
        },
        {
          "name": "stdout",
          "output_type": "stream",
          "text": [
            "[INFO 2025-02-27 15:14:41,163] [0] Ed: 80000, train_loss: 1.45648, acc: 0.41200\n"
          ]
        },
        {
          "name": "stderr",
          "output_type": "stream",
          "text": [
            "INFO:root:[0] Ed: 83200, train_loss: 1.45531, acc: 0.41281\n"
          ]
        },
        {
          "name": "stdout",
          "output_type": "stream",
          "text": [
            "[INFO 2025-02-27 15:14:52,206] [0] Ed: 83200, train_loss: 1.45531, acc: 0.41281\n"
          ]
        },
        {
          "name": "stderr",
          "output_type": "stream",
          "text": [
            "INFO:root:[0] Ed: 86400, train_loss: 1.45356, acc: 0.41373\n"
          ]
        },
        {
          "name": "stdout",
          "output_type": "stream",
          "text": [
            "[INFO 2025-02-27 15:15:03,231] [0] Ed: 86400, train_loss: 1.45356, acc: 0.41373\n"
          ]
        },
        {
          "name": "stderr",
          "output_type": "stream",
          "text": [
            "INFO:root:[0] Ed: 89600, train_loss: 1.45340, acc: 0.41379\n"
          ]
        },
        {
          "name": "stdout",
          "output_type": "stream",
          "text": [
            "[INFO 2025-02-27 15:15:14,256] [0] Ed: 89600, train_loss: 1.45340, acc: 0.41379\n"
          ]
        },
        {
          "name": "stderr",
          "output_type": "stream",
          "text": [
            "INFO:root:[0] Ed: 92800, train_loss: 1.45370, acc: 0.41373\n"
          ]
        },
        {
          "name": "stdout",
          "output_type": "stream",
          "text": [
            "[INFO 2025-02-27 15:15:25,242] [0] Ed: 92800, train_loss: 1.45370, acc: 0.41373\n"
          ]
        },
        {
          "name": "stderr",
          "output_type": "stream",
          "text": [
            "INFO:root:[0] Ed: 96000, train_loss: 1.45442, acc: 0.41341\n"
          ]
        },
        {
          "name": "stdout",
          "output_type": "stream",
          "text": [
            "[INFO 2025-02-27 15:15:36,256] [0] Ed: 96000, train_loss: 1.45442, acc: 0.41341\n"
          ]
        },
        {
          "name": "stderr",
          "output_type": "stream",
          "text": [
            "INFO:root:[0] Ed: 99200, train_loss: 1.45408, acc: 0.41331\n"
          ]
        },
        {
          "name": "stdout",
          "output_type": "stream",
          "text": [
            "[INFO 2025-02-27 15:15:47,315] [0] Ed: 99200, train_loss: 1.45408, acc: 0.41331\n"
          ]
        },
        {
          "name": "stderr",
          "output_type": "stream",
          "text": [
            "INFO:root:[0] Ed: 102400, train_loss: 1.45387, acc: 0.41346\n"
          ]
        },
        {
          "name": "stdout",
          "output_type": "stream",
          "text": [
            "[INFO 2025-02-27 15:15:58,370] [0] Ed: 102400, train_loss: 1.45387, acc: 0.41346\n"
          ]
        },
        {
          "name": "stderr",
          "output_type": "stream",
          "text": [
            "INFO:root:[0] Ed: 105600, train_loss: 1.45304, acc: 0.41386\n"
          ]
        },
        {
          "name": "stdout",
          "output_type": "stream",
          "text": [
            "[INFO 2025-02-27 15:16:09,388] [0] Ed: 105600, train_loss: 1.45304, acc: 0.41386\n"
          ]
        },
        {
          "name": "stderr",
          "output_type": "stream",
          "text": [
            "INFO:root:[0] Ed: 108800, train_loss: 1.45262, acc: 0.41409\n"
          ]
        },
        {
          "name": "stdout",
          "output_type": "stream",
          "text": [
            "[INFO 2025-02-27 15:16:20,457] [0] Ed: 108800, train_loss: 1.45262, acc: 0.41409\n"
          ]
        },
        {
          "name": "stderr",
          "output_type": "stream",
          "text": [
            "INFO:root:[0] Ed: 112000, train_loss: 1.45202, acc: 0.41401\n"
          ]
        },
        {
          "name": "stdout",
          "output_type": "stream",
          "text": [
            "[INFO 2025-02-27 15:16:31,506] [0] Ed: 112000, train_loss: 1.45202, acc: 0.41401\n"
          ]
        },
        {
          "name": "stderr",
          "output_type": "stream",
          "text": [
            "INFO:root:[0] Ed: 115200, train_loss: 1.45197, acc: 0.41418\n"
          ]
        },
        {
          "name": "stdout",
          "output_type": "stream",
          "text": [
            "[INFO 2025-02-27 15:16:42,564] [0] Ed: 115200, train_loss: 1.45197, acc: 0.41418\n"
          ]
        },
        {
          "name": "stderr",
          "output_type": "stream",
          "text": [
            "INFO:root:[0] Ed: 118400, train_loss: 1.45069, acc: 0.41450\n"
          ]
        },
        {
          "name": "stdout",
          "output_type": "stream",
          "text": [
            "[INFO 2025-02-27 15:16:53,584] [0] Ed: 118400, train_loss: 1.45069, acc: 0.41450\n"
          ]
        },
        {
          "name": "stderr",
          "output_type": "stream",
          "text": [
            "INFO:root:[0] Ed: 121600, train_loss: 1.45056, acc: 0.41441\n"
          ]
        },
        {
          "name": "stdout",
          "output_type": "stream",
          "text": [
            "[INFO 2025-02-27 15:17:04,661] [0] Ed: 121600, train_loss: 1.45056, acc: 0.41441\n"
          ]
        },
        {
          "name": "stderr",
          "output_type": "stream",
          "text": [
            "INFO:root:[0] Ed: 124800, train_loss: 1.45047, acc: 0.41489\n"
          ]
        },
        {
          "name": "stdout",
          "output_type": "stream",
          "text": [
            "[INFO 2025-02-27 15:17:15,600] [0] Ed: 124800, train_loss: 1.45047, acc: 0.41489\n"
          ]
        },
        {
          "name": "stderr",
          "output_type": "stream",
          "text": [
            "INFO:root:[0] Ed: 128000, train_loss: 1.45052, acc: 0.41512\n"
          ]
        },
        {
          "name": "stdout",
          "output_type": "stream",
          "text": [
            "[INFO 2025-02-27 15:17:26,527] [0] Ed: 128000, train_loss: 1.45052, acc: 0.41512\n"
          ]
        },
        {
          "name": "stderr",
          "output_type": "stream",
          "text": [
            "INFO:root:[0] Ed: 131200, train_loss: 1.45120, acc: 0.41502\n"
          ]
        },
        {
          "name": "stdout",
          "output_type": "stream",
          "text": [
            "[INFO 2025-02-27 15:17:37,497] [0] Ed: 131200, train_loss: 1.45120, acc: 0.41502\n"
          ]
        },
        {
          "name": "stderr",
          "output_type": "stream",
          "text": [
            "INFO:root:[0] Ed: 134400, train_loss: 1.45140, acc: 0.41474\n"
          ]
        },
        {
          "name": "stdout",
          "output_type": "stream",
          "text": [
            "[INFO 2025-02-27 15:17:48,718] [0] Ed: 134400, train_loss: 1.45140, acc: 0.41474\n"
          ]
        },
        {
          "name": "stderr",
          "output_type": "stream",
          "text": [
            "INFO:root:[0] Ed: 137600, train_loss: 1.45102, acc: 0.41499\n"
          ]
        },
        {
          "name": "stdout",
          "output_type": "stream",
          "text": [
            "[INFO 2025-02-27 15:17:59,649] [0] Ed: 137600, train_loss: 1.45102, acc: 0.41499\n"
          ]
        },
        {
          "name": "stderr",
          "output_type": "stream",
          "text": [
            "INFO:root:[0] Ed: 140800, train_loss: 1.45034, acc: 0.41529\n"
          ]
        },
        {
          "name": "stdout",
          "output_type": "stream",
          "text": [
            "[INFO 2025-02-27 15:18:10,570] [0] Ed: 140800, train_loss: 1.45034, acc: 0.41529\n"
          ]
        },
        {
          "name": "stderr",
          "output_type": "stream",
          "text": [
            "INFO:root:[0] Ed: 144000, train_loss: 1.45015, acc: 0.41499\n"
          ]
        },
        {
          "name": "stdout",
          "output_type": "stream",
          "text": [
            "[INFO 2025-02-27 15:18:21,508] [0] Ed: 144000, train_loss: 1.45015, acc: 0.41499\n"
          ]
        },
        {
          "name": "stderr",
          "output_type": "stream",
          "text": [
            "INFO:root:[0] Ed: 147200, train_loss: 1.44986, acc: 0.41522\n"
          ]
        },
        {
          "name": "stdout",
          "output_type": "stream",
          "text": [
            "[INFO 2025-02-27 15:18:32,440] [0] Ed: 147200, train_loss: 1.44986, acc: 0.41522\n"
          ]
        },
        {
          "name": "stderr",
          "output_type": "stream",
          "text": [
            "INFO:root:[0] Ed: 150400, train_loss: 1.44934, acc: 0.41518\n"
          ]
        },
        {
          "name": "stdout",
          "output_type": "stream",
          "text": [
            "[INFO 2025-02-27 15:18:43,398] [0] Ed: 150400, train_loss: 1.44934, acc: 0.41518\n"
          ]
        },
        {
          "name": "stderr",
          "output_type": "stream",
          "text": [
            "INFO:root:[0] Ed: 153600, train_loss: 1.44905, acc: 0.41512\n"
          ]
        },
        {
          "name": "stdout",
          "output_type": "stream",
          "text": [
            "[INFO 2025-02-27 15:18:54,312] [0] Ed: 153600, train_loss: 1.44905, acc: 0.41512\n"
          ]
        },
        {
          "name": "stderr",
          "output_type": "stream",
          "text": [
            "INFO:root:[0] Ed: 156800, train_loss: 1.44865, acc: 0.41520\n"
          ]
        },
        {
          "name": "stdout",
          "output_type": "stream",
          "text": [
            "[INFO 2025-02-27 15:19:05,245] [0] Ed: 156800, train_loss: 1.44865, acc: 0.41520\n"
          ]
        },
        {
          "name": "stderr",
          "output_type": "stream",
          "text": [
            "INFO:root:[0] Ed: 160000, train_loss: 1.44812, acc: 0.41526\n"
          ]
        },
        {
          "name": "stdout",
          "output_type": "stream",
          "text": [
            "[INFO 2025-02-27 15:19:16,159] [0] Ed: 160000, train_loss: 1.44812, acc: 0.41526\n"
          ]
        },
        {
          "name": "stderr",
          "output_type": "stream",
          "text": [
            "INFO:root:[0] Ed: 163200, train_loss: 1.44792, acc: 0.41539\n"
          ]
        },
        {
          "name": "stdout",
          "output_type": "stream",
          "text": [
            "[INFO 2025-02-27 15:19:27,069] [0] Ed: 163200, train_loss: 1.44792, acc: 0.41539\n"
          ]
        },
        {
          "name": "stderr",
          "output_type": "stream",
          "text": [
            "INFO:root:[0] Ed: 166400, train_loss: 1.44784, acc: 0.41528\n"
          ]
        },
        {
          "name": "stdout",
          "output_type": "stream",
          "text": [
            "[INFO 2025-02-27 15:19:37,994] [0] Ed: 166400, train_loss: 1.44784, acc: 0.41528\n"
          ]
        },
        {
          "name": "stderr",
          "output_type": "stream",
          "text": [
            "INFO:root:[0] Ed: 169600, train_loss: 1.44794, acc: 0.41521\n"
          ]
        },
        {
          "name": "stdout",
          "output_type": "stream",
          "text": [
            "[INFO 2025-02-27 15:19:48,941] [0] Ed: 169600, train_loss: 1.44794, acc: 0.41521\n"
          ]
        },
        {
          "name": "stderr",
          "output_type": "stream",
          "text": [
            "INFO:root:[0] Ed: 172800, train_loss: 1.44750, acc: 0.41531\n"
          ]
        },
        {
          "name": "stdout",
          "output_type": "stream",
          "text": [
            "[INFO 2025-02-27 15:19:59,822] [0] Ed: 172800, train_loss: 1.44750, acc: 0.41531\n"
          ]
        },
        {
          "name": "stderr",
          "output_type": "stream",
          "text": [
            "INFO:root:[0] Ed: 176000, train_loss: 1.44739, acc: 0.41539\n"
          ]
        },
        {
          "name": "stdout",
          "output_type": "stream",
          "text": [
            "[INFO 2025-02-27 15:20:10,669] [0] Ed: 176000, train_loss: 1.44739, acc: 0.41539\n"
          ]
        },
        {
          "name": "stderr",
          "output_type": "stream",
          "text": [
            "INFO:root:[0] Ed: 179200, train_loss: 1.44691, acc: 0.41550\n"
          ]
        },
        {
          "name": "stdout",
          "output_type": "stream",
          "text": [
            "[INFO 2025-02-27 15:20:21,516] [0] Ed: 179200, train_loss: 1.44691, acc: 0.41550\n"
          ]
        },
        {
          "name": "stderr",
          "output_type": "stream",
          "text": [
            "INFO:root:[0] Ed: 182400, train_loss: 1.44702, acc: 0.41559\n"
          ]
        },
        {
          "name": "stdout",
          "output_type": "stream",
          "text": [
            "[INFO 2025-02-27 15:20:32,443] [0] Ed: 182400, train_loss: 1.44702, acc: 0.41559\n"
          ]
        },
        {
          "name": "stderr",
          "output_type": "stream",
          "text": [
            "INFO:root:[0] Ed: 185600, train_loss: 1.44659, acc: 0.41575\n"
          ]
        },
        {
          "name": "stdout",
          "output_type": "stream",
          "text": [
            "[INFO 2025-02-27 15:20:43,347] [0] Ed: 185600, train_loss: 1.44659, acc: 0.41575\n"
          ]
        },
        {
          "name": "stderr",
          "output_type": "stream",
          "text": [
            "INFO:root:[0] Ed: 188800, train_loss: 1.44642, acc: 0.41594\n"
          ]
        },
        {
          "name": "stdout",
          "output_type": "stream",
          "text": [
            "[INFO 2025-02-27 15:20:54,207] [0] Ed: 188800, train_loss: 1.44642, acc: 0.41594\n"
          ]
        },
        {
          "name": "stderr",
          "output_type": "stream",
          "text": [
            "INFO:root:[0] Ed: 192000, train_loss: 1.44618, acc: 0.41591\n"
          ]
        },
        {
          "name": "stdout",
          "output_type": "stream",
          "text": [
            "[INFO 2025-02-27 15:21:05,115] [0] Ed: 192000, train_loss: 1.44618, acc: 0.41591\n"
          ]
        },
        {
          "name": "stderr",
          "output_type": "stream",
          "text": [
            "INFO:root:[0] Ed: 195200, train_loss: 1.44572, acc: 0.41603\n"
          ]
        },
        {
          "name": "stdout",
          "output_type": "stream",
          "text": [
            "[INFO 2025-02-27 15:21:15,998] [0] Ed: 195200, train_loss: 1.44572, acc: 0.41603\n"
          ]
        },
        {
          "name": "stderr",
          "output_type": "stream",
          "text": [
            "INFO:root:[0] Ed: 198400, train_loss: 1.44581, acc: 0.41587\n"
          ]
        },
        {
          "name": "stdout",
          "output_type": "stream",
          "text": [
            "[INFO 2025-02-27 15:21:26,882] [0] Ed: 198400, train_loss: 1.44581, acc: 0.41587\n"
          ]
        },
        {
          "name": "stderr",
          "output_type": "stream",
          "text": [
            "INFO:root:[0] Ed: 201600, train_loss: 1.44546, acc: 0.41585\n"
          ]
        },
        {
          "name": "stdout",
          "output_type": "stream",
          "text": [
            "[INFO 2025-02-27 15:21:37,776] [0] Ed: 201600, train_loss: 1.44546, acc: 0.41585\n"
          ]
        },
        {
          "name": "stderr",
          "output_type": "stream",
          "text": [
            "INFO:root:[0] Ed: 204800, train_loss: 1.44555, acc: 0.41585\n"
          ]
        },
        {
          "name": "stdout",
          "output_type": "stream",
          "text": [
            "[INFO 2025-02-27 15:21:48,708] [0] Ed: 204800, train_loss: 1.44555, acc: 0.41585\n"
          ]
        },
        {
          "name": "stderr",
          "output_type": "stream",
          "text": [
            "INFO:root:[0] Ed: 208000, train_loss: 1.44598, acc: 0.41585\n"
          ]
        },
        {
          "name": "stdout",
          "output_type": "stream",
          "text": [
            "[INFO 2025-02-27 15:21:59,859] [0] Ed: 208000, train_loss: 1.44598, acc: 0.41585\n"
          ]
        },
        {
          "name": "stderr",
          "output_type": "stream",
          "text": [
            "INFO:root:[0] Ed: 211200, train_loss: 1.44617, acc: 0.41565\n"
          ]
        },
        {
          "name": "stdout",
          "output_type": "stream",
          "text": [
            "[INFO 2025-02-27 15:22:10,747] [0] Ed: 211200, train_loss: 1.44617, acc: 0.41565\n"
          ]
        },
        {
          "name": "stderr",
          "output_type": "stream",
          "text": [
            "INFO:root:[0] Ed: 214400, train_loss: 1.44592, acc: 0.41562\n"
          ]
        },
        {
          "name": "stdout",
          "output_type": "stream",
          "text": [
            "[INFO 2025-02-27 15:22:21,670] [0] Ed: 214400, train_loss: 1.44592, acc: 0.41562\n"
          ]
        },
        {
          "name": "stderr",
          "output_type": "stream",
          "text": [
            "INFO:root:[0] Ed: 217600, train_loss: 1.44594, acc: 0.41553\n"
          ]
        },
        {
          "name": "stdout",
          "output_type": "stream",
          "text": [
            "[INFO 2025-02-27 15:22:32,589] [0] Ed: 217600, train_loss: 1.44594, acc: 0.41553\n"
          ]
        },
        {
          "name": "stderr",
          "output_type": "stream",
          "text": [
            "INFO:root:[0] Ed: 220800, train_loss: 1.44553, acc: 0.41567\n"
          ]
        },
        {
          "name": "stdout",
          "output_type": "stream",
          "text": [
            "[INFO 2025-02-27 15:22:43,444] [0] Ed: 220800, train_loss: 1.44553, acc: 0.41567\n"
          ]
        },
        {
          "name": "stderr",
          "output_type": "stream",
          "text": [
            "INFO:root:[0] Ed: 224000, train_loss: 1.44551, acc: 0.41578\n"
          ]
        },
        {
          "name": "stdout",
          "output_type": "stream",
          "text": [
            "[INFO 2025-02-27 15:22:54,370] [0] Ed: 224000, train_loss: 1.44551, acc: 0.41578\n"
          ]
        },
        {
          "name": "stderr",
          "output_type": "stream",
          "text": [
            "INFO:root:[0] Ed: 227200, train_loss: 1.44519, acc: 0.41582\n"
          ]
        },
        {
          "name": "stdout",
          "output_type": "stream",
          "text": [
            "[INFO 2025-02-27 15:23:05,354] [0] Ed: 227200, train_loss: 1.44519, acc: 0.41582\n"
          ]
        },
        {
          "name": "stderr",
          "output_type": "stream",
          "text": [
            "INFO:root:[0] Ed: 230400, train_loss: 1.44496, acc: 0.41594\n"
          ]
        },
        {
          "name": "stdout",
          "output_type": "stream",
          "text": [
            "[INFO 2025-02-27 15:23:16,218] [0] Ed: 230400, train_loss: 1.44496, acc: 0.41594\n"
          ]
        },
        {
          "name": "stderr",
          "output_type": "stream",
          "text": [
            "INFO:root:[0] Ed: 233600, train_loss: 1.44486, acc: 0.41613\n"
          ]
        },
        {
          "name": "stdout",
          "output_type": "stream",
          "text": [
            "[INFO 2025-02-27 15:23:27,073] [0] Ed: 233600, train_loss: 1.44486, acc: 0.41613\n"
          ]
        },
        {
          "name": "stderr",
          "output_type": "stream",
          "text": [
            "INFO:root:Training finish.\n"
          ]
        },
        {
          "name": "stdout",
          "output_type": "stream",
          "text": [
            "[INFO 2025-02-27 15:23:36,363] Training finish.\n"
          ]
        },
        {
          "name": "stderr",
          "output_type": "stream",
          "text": [
            "INFO:root:Model saved to /content/model/epoch-4.pt.\n"
          ]
        },
        {
          "name": "stdout",
          "output_type": "stream",
          "text": [
            "[INFO 2025-02-27 15:23:36,760] Model saved to /content/model/epoch-4.pt.\n"
          ]
        },
        {
          "name": "stderr",
          "output_type": "stream",
          "text": [
            "INFO:root:[0] Ed: 0, train_loss: inf, acc: inf\n"
          ]
        },
        {
          "name": "stdout",
          "output_type": "stream",
          "text": [
            "[INFO 2025-02-27 15:23:36,900] [0] Ed: 0, train_loss: inf, acc: inf\n"
          ]
        },
        {
          "name": "stderr",
          "output_type": "stream",
          "text": [
            "INFO:root:[0] Ed: 3200, train_loss: 1.46296, acc: 0.41250\n"
          ]
        },
        {
          "name": "stdout",
          "output_type": "stream",
          "text": [
            "[INFO 2025-02-27 15:23:47,841] [0] Ed: 3200, train_loss: 1.46296, acc: 0.41250\n"
          ]
        },
        {
          "name": "stderr",
          "output_type": "stream",
          "text": [
            "INFO:root:[0] Ed: 6400, train_loss: 1.44296, acc: 0.41328\n"
          ]
        },
        {
          "name": "stdout",
          "output_type": "stream",
          "text": [
            "[INFO 2025-02-27 15:23:58,782] [0] Ed: 6400, train_loss: 1.44296, acc: 0.41328\n"
          ]
        },
        {
          "name": "stderr",
          "output_type": "stream",
          "text": [
            "INFO:root:[0] Ed: 9600, train_loss: 1.44591, acc: 0.41438\n"
          ]
        },
        {
          "name": "stdout",
          "output_type": "stream",
          "text": [
            "[INFO 2025-02-27 15:24:09,691] [0] Ed: 9600, train_loss: 1.44591, acc: 0.41438\n"
          ]
        },
        {
          "name": "stderr",
          "output_type": "stream",
          "text": [
            "INFO:root:[0] Ed: 12800, train_loss: 1.44059, acc: 0.41750\n"
          ]
        },
        {
          "name": "stdout",
          "output_type": "stream",
          "text": [
            "[INFO 2025-02-27 15:24:20,623] [0] Ed: 12800, train_loss: 1.44059, acc: 0.41750\n"
          ]
        },
        {
          "name": "stderr",
          "output_type": "stream",
          "text": [
            "INFO:root:[0] Ed: 16000, train_loss: 1.44511, acc: 0.41500\n"
          ]
        },
        {
          "name": "stdout",
          "output_type": "stream",
          "text": [
            "[INFO 2025-02-27 15:24:31,561] [0] Ed: 16000, train_loss: 1.44511, acc: 0.41500\n"
          ]
        },
        {
          "name": "stderr",
          "output_type": "stream",
          "text": [
            "INFO:root:[0] Ed: 19200, train_loss: 1.44415, acc: 0.41547\n"
          ]
        },
        {
          "name": "stdout",
          "output_type": "stream",
          "text": [
            "[INFO 2025-02-27 15:24:42,469] [0] Ed: 19200, train_loss: 1.44415, acc: 0.41547\n"
          ]
        },
        {
          "name": "stderr",
          "output_type": "stream",
          "text": [
            "INFO:root:[0] Ed: 22400, train_loss: 1.44294, acc: 0.41759\n"
          ]
        },
        {
          "name": "stdout",
          "output_type": "stream",
          "text": [
            "[INFO 2025-02-27 15:24:53,403] [0] Ed: 22400, train_loss: 1.44294, acc: 0.41759\n"
          ]
        },
        {
          "name": "stderr",
          "output_type": "stream",
          "text": [
            "INFO:root:[0] Ed: 25600, train_loss: 1.44363, acc: 0.41672\n"
          ]
        },
        {
          "name": "stdout",
          "output_type": "stream",
          "text": [
            "[INFO 2025-02-27 15:25:04,309] [0] Ed: 25600, train_loss: 1.44363, acc: 0.41672\n"
          ]
        },
        {
          "name": "stderr",
          "output_type": "stream",
          "text": [
            "INFO:root:[0] Ed: 28800, train_loss: 1.44210, acc: 0.41733\n"
          ]
        },
        {
          "name": "stdout",
          "output_type": "stream",
          "text": [
            "[INFO 2025-02-27 15:25:15,214] [0] Ed: 28800, train_loss: 1.44210, acc: 0.41733\n"
          ]
        },
        {
          "name": "stderr",
          "output_type": "stream",
          "text": [
            "INFO:root:[0] Ed: 32000, train_loss: 1.44094, acc: 0.41769\n"
          ]
        },
        {
          "name": "stdout",
          "output_type": "stream",
          "text": [
            "[INFO 2025-02-27 15:25:26,115] [0] Ed: 32000, train_loss: 1.44094, acc: 0.41769\n"
          ]
        },
        {
          "name": "stderr",
          "output_type": "stream",
          "text": [
            "INFO:root:[0] Ed: 35200, train_loss: 1.44351, acc: 0.41685\n"
          ]
        },
        {
          "name": "stdout",
          "output_type": "stream",
          "text": [
            "[INFO 2025-02-27 15:25:37,068] [0] Ed: 35200, train_loss: 1.44351, acc: 0.41685\n"
          ]
        },
        {
          "name": "stderr",
          "output_type": "stream",
          "text": [
            "INFO:root:[0] Ed: 38400, train_loss: 1.44100, acc: 0.41706\n"
          ]
        },
        {
          "name": "stdout",
          "output_type": "stream",
          "text": [
            "[INFO 2025-02-27 15:25:48,051] [0] Ed: 38400, train_loss: 1.44100, acc: 0.41706\n"
          ]
        },
        {
          "name": "stderr",
          "output_type": "stream",
          "text": [
            "INFO:root:[0] Ed: 41600, train_loss: 1.44245, acc: 0.41760\n"
          ]
        },
        {
          "name": "stdout",
          "output_type": "stream",
          "text": [
            "[INFO 2025-02-27 15:25:59,173] [0] Ed: 41600, train_loss: 1.44245, acc: 0.41760\n"
          ]
        },
        {
          "name": "stderr",
          "output_type": "stream",
          "text": [
            "INFO:root:[0] Ed: 44800, train_loss: 1.44135, acc: 0.41781\n"
          ]
        },
        {
          "name": "stdout",
          "output_type": "stream",
          "text": [
            "[INFO 2025-02-27 15:26:10,075] [0] Ed: 44800, train_loss: 1.44135, acc: 0.41781\n"
          ]
        },
        {
          "name": "stderr",
          "output_type": "stream",
          "text": [
            "INFO:root:[0] Ed: 48000, train_loss: 1.44242, acc: 0.41723\n"
          ]
        },
        {
          "name": "stdout",
          "output_type": "stream",
          "text": [
            "[INFO 2025-02-27 15:26:20,987] [0] Ed: 48000, train_loss: 1.44242, acc: 0.41723\n"
          ]
        },
        {
          "name": "stderr",
          "output_type": "stream",
          "text": [
            "INFO:root:[0] Ed: 51200, train_loss: 1.44181, acc: 0.41699\n"
          ]
        },
        {
          "name": "stdout",
          "output_type": "stream",
          "text": [
            "[INFO 2025-02-27 15:26:31,944] [0] Ed: 51200, train_loss: 1.44181, acc: 0.41699\n"
          ]
        },
        {
          "name": "stderr",
          "output_type": "stream",
          "text": [
            "INFO:root:[0] Ed: 54400, train_loss: 1.43982, acc: 0.41778\n"
          ]
        },
        {
          "name": "stdout",
          "output_type": "stream",
          "text": [
            "[INFO 2025-02-27 15:26:42,841] [0] Ed: 54400, train_loss: 1.43982, acc: 0.41778\n"
          ]
        },
        {
          "name": "stderr",
          "output_type": "stream",
          "text": [
            "INFO:root:[0] Ed: 57600, train_loss: 1.44051, acc: 0.41819\n"
          ]
        },
        {
          "name": "stdout",
          "output_type": "stream",
          "text": [
            "[INFO 2025-02-27 15:26:53,796] [0] Ed: 57600, train_loss: 1.44051, acc: 0.41819\n"
          ]
        },
        {
          "name": "stderr",
          "output_type": "stream",
          "text": [
            "INFO:root:[0] Ed: 60800, train_loss: 1.43973, acc: 0.41826\n"
          ]
        },
        {
          "name": "stdout",
          "output_type": "stream",
          "text": [
            "[INFO 2025-02-27 15:27:04,648] [0] Ed: 60800, train_loss: 1.43973, acc: 0.41826\n"
          ]
        },
        {
          "name": "stderr",
          "output_type": "stream",
          "text": [
            "INFO:root:[0] Ed: 64000, train_loss: 1.43947, acc: 0.41802\n"
          ]
        },
        {
          "name": "stdout",
          "output_type": "stream",
          "text": [
            "[INFO 2025-02-27 15:27:15,546] [0] Ed: 64000, train_loss: 1.43947, acc: 0.41802\n"
          ]
        },
        {
          "name": "stderr",
          "output_type": "stream",
          "text": [
            "INFO:root:[0] Ed: 67200, train_loss: 1.43979, acc: 0.41856\n"
          ]
        },
        {
          "name": "stdout",
          "output_type": "stream",
          "text": [
            "[INFO 2025-02-27 15:27:26,485] [0] Ed: 67200, train_loss: 1.43979, acc: 0.41856\n"
          ]
        },
        {
          "name": "stderr",
          "output_type": "stream",
          "text": [
            "INFO:root:[0] Ed: 70400, train_loss: 1.44018, acc: 0.41841\n"
          ]
        },
        {
          "name": "stdout",
          "output_type": "stream",
          "text": [
            "[INFO 2025-02-27 15:27:37,436] [0] Ed: 70400, train_loss: 1.44018, acc: 0.41841\n"
          ]
        },
        {
          "name": "stderr",
          "output_type": "stream",
          "text": [
            "INFO:root:[0] Ed: 73600, train_loss: 1.44018, acc: 0.41827\n"
          ]
        },
        {
          "name": "stdout",
          "output_type": "stream",
          "text": [
            "[INFO 2025-02-27 15:27:48,394] [0] Ed: 73600, train_loss: 1.44018, acc: 0.41827\n"
          ]
        },
        {
          "name": "stderr",
          "output_type": "stream",
          "text": [
            "INFO:root:[0] Ed: 76800, train_loss: 1.43983, acc: 0.41862\n"
          ]
        },
        {
          "name": "stdout",
          "output_type": "stream",
          "text": [
            "[INFO 2025-02-27 15:27:59,287] [0] Ed: 76800, train_loss: 1.43983, acc: 0.41862\n"
          ]
        },
        {
          "name": "stderr",
          "output_type": "stream",
          "text": [
            "INFO:root:[0] Ed: 80000, train_loss: 1.43951, acc: 0.41911\n"
          ]
        },
        {
          "name": "stdout",
          "output_type": "stream",
          "text": [
            "[INFO 2025-02-27 15:28:10,235] [0] Ed: 80000, train_loss: 1.43951, acc: 0.41911\n"
          ]
        },
        {
          "name": "stderr",
          "output_type": "stream",
          "text": [
            "INFO:root:[0] Ed: 83200, train_loss: 1.43935, acc: 0.41950\n"
          ]
        },
        {
          "name": "stdout",
          "output_type": "stream",
          "text": [
            "[INFO 2025-02-27 15:28:21,141] [0] Ed: 83200, train_loss: 1.43935, acc: 0.41950\n"
          ]
        },
        {
          "name": "stderr",
          "output_type": "stream",
          "text": [
            "INFO:root:[0] Ed: 86400, train_loss: 1.43849, acc: 0.42007\n"
          ]
        },
        {
          "name": "stdout",
          "output_type": "stream",
          "text": [
            "[INFO 2025-02-27 15:28:32,168] [0] Ed: 86400, train_loss: 1.43849, acc: 0.42007\n"
          ]
        },
        {
          "name": "stderr",
          "output_type": "stream",
          "text": [
            "INFO:root:[0] Ed: 89600, train_loss: 1.43790, acc: 0.42056\n"
          ]
        },
        {
          "name": "stdout",
          "output_type": "stream",
          "text": [
            "[INFO 2025-02-27 15:28:43,189] [0] Ed: 89600, train_loss: 1.43790, acc: 0.42056\n"
          ]
        },
        {
          "name": "stderr",
          "output_type": "stream",
          "text": [
            "INFO:root:[0] Ed: 92800, train_loss: 1.43732, acc: 0.42087\n"
          ]
        },
        {
          "name": "stdout",
          "output_type": "stream",
          "text": [
            "[INFO 2025-02-27 15:28:54,102] [0] Ed: 92800, train_loss: 1.43732, acc: 0.42087\n"
          ]
        },
        {
          "name": "stderr",
          "output_type": "stream",
          "text": [
            "INFO:root:[0] Ed: 96000, train_loss: 1.43834, acc: 0.42083\n"
          ]
        },
        {
          "name": "stdout",
          "output_type": "stream",
          "text": [
            "[INFO 2025-02-27 15:29:05,002] [0] Ed: 96000, train_loss: 1.43834, acc: 0.42083\n"
          ]
        },
        {
          "name": "stderr",
          "output_type": "stream",
          "text": [
            "INFO:root:[0] Ed: 99200, train_loss: 1.43823, acc: 0.42076\n"
          ]
        },
        {
          "name": "stdout",
          "output_type": "stream",
          "text": [
            "[INFO 2025-02-27 15:29:15,937] [0] Ed: 99200, train_loss: 1.43823, acc: 0.42076\n"
          ]
        },
        {
          "name": "stderr",
          "output_type": "stream",
          "text": [
            "INFO:root:[0] Ed: 102400, train_loss: 1.43838, acc: 0.42060\n"
          ]
        },
        {
          "name": "stdout",
          "output_type": "stream",
          "text": [
            "[INFO 2025-02-27 15:29:26,869] [0] Ed: 102400, train_loss: 1.43838, acc: 0.42060\n"
          ]
        },
        {
          "name": "stderr",
          "output_type": "stream",
          "text": [
            "INFO:root:[0] Ed: 105600, train_loss: 1.43797, acc: 0.42111\n"
          ]
        },
        {
          "name": "stdout",
          "output_type": "stream",
          "text": [
            "[INFO 2025-02-27 15:29:37,777] [0] Ed: 105600, train_loss: 1.43797, acc: 0.42111\n"
          ]
        },
        {
          "name": "stderr",
          "output_type": "stream",
          "text": [
            "INFO:root:[0] Ed: 108800, train_loss: 1.43850, acc: 0.42085\n"
          ]
        },
        {
          "name": "stdout",
          "output_type": "stream",
          "text": [
            "[INFO 2025-02-27 15:29:48,734] [0] Ed: 108800, train_loss: 1.43850, acc: 0.42085\n"
          ]
        },
        {
          "name": "stderr",
          "output_type": "stream",
          "text": [
            "INFO:root:[0] Ed: 112000, train_loss: 1.43830, acc: 0.42071\n"
          ]
        },
        {
          "name": "stdout",
          "output_type": "stream",
          "text": [
            "[INFO 2025-02-27 15:29:59,646] [0] Ed: 112000, train_loss: 1.43830, acc: 0.42071\n"
          ]
        },
        {
          "name": "stderr",
          "output_type": "stream",
          "text": [
            "INFO:root:[0] Ed: 115200, train_loss: 1.43813, acc: 0.42078\n"
          ]
        },
        {
          "name": "stdout",
          "output_type": "stream",
          "text": [
            "[INFO 2025-02-27 15:30:10,838] [0] Ed: 115200, train_loss: 1.43813, acc: 0.42078\n"
          ]
        },
        {
          "name": "stderr",
          "output_type": "stream",
          "text": [
            "INFO:root:[0] Ed: 118400, train_loss: 1.43694, acc: 0.42102\n"
          ]
        },
        {
          "name": "stdout",
          "output_type": "stream",
          "text": [
            "[INFO 2025-02-27 15:30:21,725] [0] Ed: 118400, train_loss: 1.43694, acc: 0.42102\n"
          ]
        },
        {
          "name": "stderr",
          "output_type": "stream",
          "text": [
            "INFO:root:[0] Ed: 121600, train_loss: 1.43701, acc: 0.42090\n"
          ]
        },
        {
          "name": "stdout",
          "output_type": "stream",
          "text": [
            "[INFO 2025-02-27 15:30:32,647] [0] Ed: 121600, train_loss: 1.43701, acc: 0.42090\n"
          ]
        },
        {
          "name": "stderr",
          "output_type": "stream",
          "text": [
            "INFO:root:[0] Ed: 124800, train_loss: 1.43668, acc: 0.42098\n"
          ]
        },
        {
          "name": "stdout",
          "output_type": "stream",
          "text": [
            "[INFO 2025-02-27 15:30:43,548] [0] Ed: 124800, train_loss: 1.43668, acc: 0.42098\n"
          ]
        },
        {
          "name": "stderr",
          "output_type": "stream",
          "text": [
            "INFO:root:[0] Ed: 128000, train_loss: 1.43712, acc: 0.42092\n"
          ]
        },
        {
          "name": "stdout",
          "output_type": "stream",
          "text": [
            "[INFO 2025-02-27 15:30:54,455] [0] Ed: 128000, train_loss: 1.43712, acc: 0.42092\n"
          ]
        },
        {
          "name": "stderr",
          "output_type": "stream",
          "text": [
            "INFO:root:[0] Ed: 131200, train_loss: 1.43704, acc: 0.42083\n"
          ]
        },
        {
          "name": "stdout",
          "output_type": "stream",
          "text": [
            "[INFO 2025-02-27 15:31:05,360] [0] Ed: 131200, train_loss: 1.43704, acc: 0.42083\n"
          ]
        },
        {
          "name": "stderr",
          "output_type": "stream",
          "text": [
            "INFO:root:[0] Ed: 134400, train_loss: 1.43644, acc: 0.42075\n"
          ]
        },
        {
          "name": "stdout",
          "output_type": "stream",
          "text": [
            "[INFO 2025-02-27 15:31:16,286] [0] Ed: 134400, train_loss: 1.43644, acc: 0.42075\n"
          ]
        },
        {
          "name": "stderr",
          "output_type": "stream",
          "text": [
            "INFO:root:[0] Ed: 137600, train_loss: 1.43642, acc: 0.42104\n"
          ]
        },
        {
          "name": "stdout",
          "output_type": "stream",
          "text": [
            "[INFO 2025-02-27 15:31:27,195] [0] Ed: 137600, train_loss: 1.43642, acc: 0.42104\n"
          ]
        },
        {
          "name": "stderr",
          "output_type": "stream",
          "text": [
            "INFO:root:[0] Ed: 140800, train_loss: 1.43600, acc: 0.42143\n"
          ]
        },
        {
          "name": "stdout",
          "output_type": "stream",
          "text": [
            "[INFO 2025-02-27 15:31:38,141] [0] Ed: 140800, train_loss: 1.43600, acc: 0.42143\n"
          ]
        },
        {
          "name": "stderr",
          "output_type": "stream",
          "text": [
            "INFO:root:[0] Ed: 144000, train_loss: 1.43596, acc: 0.42143\n"
          ]
        },
        {
          "name": "stdout",
          "output_type": "stream",
          "text": [
            "[INFO 2025-02-27 15:31:49,029] [0] Ed: 144000, train_loss: 1.43596, acc: 0.42143\n"
          ]
        },
        {
          "name": "stderr",
          "output_type": "stream",
          "text": [
            "INFO:root:[0] Ed: 147200, train_loss: 1.43585, acc: 0.42173\n"
          ]
        },
        {
          "name": "stdout",
          "output_type": "stream",
          "text": [
            "[INFO 2025-02-27 15:31:59,901] [0] Ed: 147200, train_loss: 1.43585, acc: 0.42173\n"
          ]
        },
        {
          "name": "stderr",
          "output_type": "stream",
          "text": [
            "INFO:root:[0] Ed: 150400, train_loss: 1.43523, acc: 0.42169\n"
          ]
        },
        {
          "name": "stdout",
          "output_type": "stream",
          "text": [
            "[INFO 2025-02-27 15:32:10,807] [0] Ed: 150400, train_loss: 1.43523, acc: 0.42169\n"
          ]
        },
        {
          "name": "stderr",
          "output_type": "stream",
          "text": [
            "INFO:root:[0] Ed: 153600, train_loss: 1.43504, acc: 0.42169\n"
          ]
        },
        {
          "name": "stdout",
          "output_type": "stream",
          "text": [
            "[INFO 2025-02-27 15:32:21,768] [0] Ed: 153600, train_loss: 1.43504, acc: 0.42169\n"
          ]
        },
        {
          "name": "stderr",
          "output_type": "stream",
          "text": [
            "INFO:root:[0] Ed: 156800, train_loss: 1.43485, acc: 0.42177\n"
          ]
        },
        {
          "name": "stdout",
          "output_type": "stream",
          "text": [
            "[INFO 2025-02-27 15:32:32,729] [0] Ed: 156800, train_loss: 1.43485, acc: 0.42177\n"
          ]
        },
        {
          "name": "stderr",
          "output_type": "stream",
          "text": [
            "INFO:root:[0] Ed: 160000, train_loss: 1.43464, acc: 0.42184\n"
          ]
        },
        {
          "name": "stdout",
          "output_type": "stream",
          "text": [
            "[INFO 2025-02-27 15:32:43,703] [0] Ed: 160000, train_loss: 1.43464, acc: 0.42184\n"
          ]
        },
        {
          "name": "stderr",
          "output_type": "stream",
          "text": [
            "INFO:root:[0] Ed: 163200, train_loss: 1.43453, acc: 0.42195\n"
          ]
        },
        {
          "name": "stdout",
          "output_type": "stream",
          "text": [
            "[INFO 2025-02-27 15:32:54,678] [0] Ed: 163200, train_loss: 1.43453, acc: 0.42195\n"
          ]
        },
        {
          "name": "stderr",
          "output_type": "stream",
          "text": [
            "INFO:root:[0] Ed: 166400, train_loss: 1.43452, acc: 0.42185\n"
          ]
        },
        {
          "name": "stdout",
          "output_type": "stream",
          "text": [
            "[INFO 2025-02-27 15:33:05,627] [0] Ed: 166400, train_loss: 1.43452, acc: 0.42185\n"
          ]
        },
        {
          "name": "stderr",
          "output_type": "stream",
          "text": [
            "INFO:root:[0] Ed: 169600, train_loss: 1.43488, acc: 0.42179\n"
          ]
        },
        {
          "name": "stdout",
          "output_type": "stream",
          "text": [
            "[INFO 2025-02-27 15:33:16,524] [0] Ed: 169600, train_loss: 1.43488, acc: 0.42179\n"
          ]
        },
        {
          "name": "stderr",
          "output_type": "stream",
          "text": [
            "INFO:root:[0] Ed: 172800, train_loss: 1.43456, acc: 0.42178\n"
          ]
        },
        {
          "name": "stdout",
          "output_type": "stream",
          "text": [
            "[INFO 2025-02-27 15:33:27,488] [0] Ed: 172800, train_loss: 1.43456, acc: 0.42178\n"
          ]
        },
        {
          "name": "stderr",
          "output_type": "stream",
          "text": [
            "INFO:root:[0] Ed: 176000, train_loss: 1.43420, acc: 0.42194\n"
          ]
        },
        {
          "name": "stdout",
          "output_type": "stream",
          "text": [
            "[INFO 2025-02-27 15:33:38,470] [0] Ed: 176000, train_loss: 1.43420, acc: 0.42194\n"
          ]
        },
        {
          "name": "stderr",
          "output_type": "stream",
          "text": [
            "INFO:root:[0] Ed: 179200, train_loss: 1.43326, acc: 0.42215\n"
          ]
        },
        {
          "name": "stdout",
          "output_type": "stream",
          "text": [
            "[INFO 2025-02-27 15:33:49,462] [0] Ed: 179200, train_loss: 1.43326, acc: 0.42215\n"
          ]
        },
        {
          "name": "stderr",
          "output_type": "stream",
          "text": [
            "INFO:root:[0] Ed: 182400, train_loss: 1.43336, acc: 0.42224\n"
          ]
        },
        {
          "name": "stdout",
          "output_type": "stream",
          "text": [
            "[INFO 2025-02-27 15:34:00,422] [0] Ed: 182400, train_loss: 1.43336, acc: 0.42224\n"
          ]
        },
        {
          "name": "stderr",
          "output_type": "stream",
          "text": [
            "INFO:root:[0] Ed: 185600, train_loss: 1.43314, acc: 0.42238\n"
          ]
        },
        {
          "name": "stdout",
          "output_type": "stream",
          "text": [
            "[INFO 2025-02-27 15:34:11,594] [0] Ed: 185600, train_loss: 1.43314, acc: 0.42238\n"
          ]
        },
        {
          "name": "stderr",
          "output_type": "stream",
          "text": [
            "INFO:root:[0] Ed: 188800, train_loss: 1.43325, acc: 0.42242\n"
          ]
        },
        {
          "name": "stdout",
          "output_type": "stream",
          "text": [
            "[INFO 2025-02-27 15:34:22,513] [0] Ed: 188800, train_loss: 1.43325, acc: 0.42242\n"
          ]
        },
        {
          "name": "stderr",
          "output_type": "stream",
          "text": [
            "INFO:root:[0] Ed: 192000, train_loss: 1.43357, acc: 0.42236\n"
          ]
        },
        {
          "name": "stdout",
          "output_type": "stream",
          "text": [
            "[INFO 2025-02-27 15:34:33,440] [0] Ed: 192000, train_loss: 1.43357, acc: 0.42236\n"
          ]
        },
        {
          "name": "stderr",
          "output_type": "stream",
          "text": [
            "INFO:root:[0] Ed: 195200, train_loss: 1.43346, acc: 0.42243\n"
          ]
        },
        {
          "name": "stdout",
          "output_type": "stream",
          "text": [
            "[INFO 2025-02-27 15:34:44,413] [0] Ed: 195200, train_loss: 1.43346, acc: 0.42243\n"
          ]
        },
        {
          "name": "stderr",
          "output_type": "stream",
          "text": [
            "INFO:root:[0] Ed: 198400, train_loss: 1.43361, acc: 0.42245\n"
          ]
        },
        {
          "name": "stdout",
          "output_type": "stream",
          "text": [
            "[INFO 2025-02-27 15:34:55,279] [0] Ed: 198400, train_loss: 1.43361, acc: 0.42245\n"
          ]
        },
        {
          "name": "stderr",
          "output_type": "stream",
          "text": [
            "INFO:root:[0] Ed: 201600, train_loss: 1.43355, acc: 0.42250\n"
          ]
        },
        {
          "name": "stdout",
          "output_type": "stream",
          "text": [
            "[INFO 2025-02-27 15:35:06,168] [0] Ed: 201600, train_loss: 1.43355, acc: 0.42250\n"
          ]
        },
        {
          "name": "stderr",
          "output_type": "stream",
          "text": [
            "INFO:root:[0] Ed: 204800, train_loss: 1.43364, acc: 0.42245\n"
          ]
        },
        {
          "name": "stdout",
          "output_type": "stream",
          "text": [
            "[INFO 2025-02-27 15:35:17,080] [0] Ed: 204800, train_loss: 1.43364, acc: 0.42245\n"
          ]
        },
        {
          "name": "stderr",
          "output_type": "stream",
          "text": [
            "INFO:root:[0] Ed: 208000, train_loss: 1.43398, acc: 0.42253\n"
          ]
        },
        {
          "name": "stdout",
          "output_type": "stream",
          "text": [
            "[INFO 2025-02-27 15:35:27,992] [0] Ed: 208000, train_loss: 1.43398, acc: 0.42253\n"
          ]
        },
        {
          "name": "stderr",
          "output_type": "stream",
          "text": [
            "INFO:root:[0] Ed: 211200, train_loss: 1.43410, acc: 0.42233\n"
          ]
        },
        {
          "name": "stdout",
          "output_type": "stream",
          "text": [
            "[INFO 2025-02-27 15:35:38,894] [0] Ed: 211200, train_loss: 1.43410, acc: 0.42233\n"
          ]
        },
        {
          "name": "stderr",
          "output_type": "stream",
          "text": [
            "INFO:root:[0] Ed: 214400, train_loss: 1.43511, acc: 0.42217\n"
          ]
        },
        {
          "name": "stdout",
          "output_type": "stream",
          "text": [
            "[INFO 2025-02-27 15:35:49,830] [0] Ed: 214400, train_loss: 1.43511, acc: 0.42217\n"
          ]
        },
        {
          "name": "stderr",
          "output_type": "stream",
          "text": [
            "INFO:root:[0] Ed: 217600, train_loss: 1.43521, acc: 0.42209\n"
          ]
        },
        {
          "name": "stdout",
          "output_type": "stream",
          "text": [
            "[INFO 2025-02-27 15:36:00,759] [0] Ed: 217600, train_loss: 1.43521, acc: 0.42209\n"
          ]
        },
        {
          "name": "stderr",
          "output_type": "stream",
          "text": [
            "INFO:root:[0] Ed: 220800, train_loss: 1.43498, acc: 0.42220\n"
          ]
        },
        {
          "name": "stdout",
          "output_type": "stream",
          "text": [
            "[INFO 2025-02-27 15:36:11,697] [0] Ed: 220800, train_loss: 1.43498, acc: 0.42220\n"
          ]
        },
        {
          "name": "stderr",
          "output_type": "stream",
          "text": [
            "INFO:root:[0] Ed: 224000, train_loss: 1.43483, acc: 0.42233\n"
          ]
        },
        {
          "name": "stdout",
          "output_type": "stream",
          "text": [
            "[INFO 2025-02-27 15:36:22,601] [0] Ed: 224000, train_loss: 1.43483, acc: 0.42233\n"
          ]
        },
        {
          "name": "stderr",
          "output_type": "stream",
          "text": [
            "INFO:root:[0] Ed: 227200, train_loss: 1.43445, acc: 0.42238\n"
          ]
        },
        {
          "name": "stdout",
          "output_type": "stream",
          "text": [
            "[INFO 2025-02-27 15:36:33,550] [0] Ed: 227200, train_loss: 1.43445, acc: 0.42238\n"
          ]
        },
        {
          "name": "stderr",
          "output_type": "stream",
          "text": [
            "INFO:root:[0] Ed: 230400, train_loss: 1.43370, acc: 0.42259\n"
          ]
        },
        {
          "name": "stdout",
          "output_type": "stream",
          "text": [
            "[INFO 2025-02-27 15:36:44,449] [0] Ed: 230400, train_loss: 1.43370, acc: 0.42259\n"
          ]
        },
        {
          "name": "stderr",
          "output_type": "stream",
          "text": [
            "INFO:root:[0] Ed: 233600, train_loss: 1.43334, acc: 0.42274\n"
          ]
        },
        {
          "name": "stdout",
          "output_type": "stream",
          "text": [
            "[INFO 2025-02-27 15:36:55,375] [0] Ed: 233600, train_loss: 1.43334, acc: 0.42274\n"
          ]
        },
        {
          "name": "stderr",
          "output_type": "stream",
          "text": [
            "INFO:root:Training finish.\n"
          ]
        },
        {
          "name": "stdout",
          "output_type": "stream",
          "text": [
            "[INFO 2025-02-27 15:37:04,635] Training finish.\n"
          ]
        },
        {
          "name": "stderr",
          "output_type": "stream",
          "text": [
            "INFO:root:Model saved to /content/model/epoch-5.pt.\n"
          ]
        },
        {
          "name": "stdout",
          "output_type": "stream",
          "text": [
            "[INFO 2025-02-27 15:37:05,030] Model saved to /content/model/epoch-5.pt.\n"
          ]
        }
      ],
      "source": [
        "import torch.optim as optim\n",
        "\n",
        "model = LSTUR(args, embedding_matrix)\n",
        "is_distributed = False\n",
        "'''\n",
        "if args.load_ckpt_name is not None:\n",
        "\tckpt_path = get_checkpoint(args.model_dir, args.load_ckpt_name)\n",
        "\tcheckpoint = torch.load(ckpt_path, map_location='cpu')\n",
        "\tmodel.load_state_dict(checkpoint['model_state_dict'])\n",
        "\tlogging.info(f\"Model loaded from {ckpt_path}.\")\n",
        "'''\n",
        "optimizer = optim.Adam(model.parameters(), lr=args.lr)\n",
        "\n",
        "if args.enable_gpu:\n",
        "\tmodel = model.cuda(rank)\n",
        "\n",
        "if is_distributed:\n",
        "\tmodel = torch.nn.parallel.DistributedDataParallel(model, device_ids=[rank])\n",
        "\n",
        "data_file_path = os.path.join(args.train_data_dir, f'behaviors_np{args.npratio}_{rank}.tsv')\n",
        "\n",
        "dataset = DatasetTrain(data_file_path, news_index, news_combined, \"/content/user2id.json\", args)\n",
        "\n",
        "dataloader = DataLoader(dataset, batch_size=args.batch_size)\n",
        "\n",
        "logging.info('Training...')\n",
        "for ep in range(args.start_epoch, args.epochs):\n",
        "\tloss = 0.0\n",
        "\taccuary = 0.0\n",
        "\tfor cnt, (user_index, clicked_news_length, candidate_news_feature, clicked_news_feature, label) in enumerate(dataloader):\n",
        "\t\tif args.enable_gpu:\n",
        "\t\t\tuser_index = user_index.cuda(rank, non_blocking=True)\n",
        "\t\t\tclicked_news_length = clicked_news_length.cuda(rank, non_blocking=True)\n",
        "\t\t\tcandidate_news_feature = candidate_news_feature.cuda(rank, non_blocking=True)\n",
        "\t\t\tclicked_news_feature = clicked_news_feature.cuda(rank, non_blocking=True)\n",
        "\t\t\tlabel = label.cuda(rank, non_blocking=True)\n",
        "\n",
        "\t\tbz_loss, y_hat = model(user_index, clicked_news_length, candidate_news_feature, clicked_news_feature, label)\n",
        "\t\tloss += bz_loss.data.float()\n",
        "\t\taccuary += acc(label, y_hat)\n",
        "\t\toptimizer.zero_grad()\n",
        "\t\tbz_loss.backward()\n",
        "\t\toptimizer.step()\n",
        "\n",
        "\t\tif cnt % args.log_steps == 0:\n",
        "\t\t\tlogging.info(\n",
        "\t\t\t\t'[{}] Ed: {}, train_loss: {:.5f}, acc: {:.5f}'.format(\n",
        "\t\t\t\t\trank, cnt * args.batch_size, loss.data / cnt, accuary / cnt)\n",
        "\t\t\t)\n",
        "\n",
        "\t\tif rank == 0 and cnt != 0 and cnt % args.save_steps == 0:\n",
        "\t\t\tckpt_path = os.path.join(args.model_dir, f'epoch-{ep+1}-{cnt}.pt')\n",
        "\t\t\ttorch.save(\n",
        "\t\t\t\t{\n",
        "\t\t\t\t\t'model_state_dict':\n",
        "\t\t\t\t\t\t{'.'.join(k.split('.')[1:]): v for k, v in model.state_dict().items()}\n",
        "\t\t\t\t\t\tif is_distributed else model.state_dict(),\n",
        "\t\t\t\t\t'category_dict': category_dict,\n",
        "\t\t\t\t\t'word_dict': word_dict,\n",
        "\t\t\t\t\t'subcategory_dict': subcategory_dict\n",
        "\t\t\t\t}, ckpt_path)\n",
        "\t\t\tlogging.info(f\"Model saved to {ckpt_path}.\")\n",
        "\n",
        "\tlogging.info('Training finish.')\n",
        "\n",
        "\tif rank == 0:\n",
        "\t\tckpt_path = os.path.join(args.model_dir, f'epoch-{ep+1}.pt')\n",
        "\t\ttorch.save(\n",
        "\t\t\t{\n",
        "\t\t\t\t'model_state_dict':\n",
        "\t\t\t\t\t{'.'.join(k.split('.')[1:]): v for k, v in model.state_dict().items()}\n",
        "\t\t\t\t\tif is_distributed else model.state_dict(),\n",
        "\t\t\t\t'category_dict': category_dict,\n",
        "\t\t\t\t'subcategory_dict': subcategory_dict,\n",
        "\t\t\t\t'word_dict': word_dict,\n",
        "\t\t\t}, ckpt_path)\n",
        "\t\tlogging.info(f\"Model saved to {ckpt_path}.\")\n",
        "\n"
      ]
    },
    {
      "cell_type": "code",
      "execution_count": null,
      "metadata": {
        "colab": {
          "base_uri": "https://localhost:8080/"
        },
        "id": "um0H4NwW69yY",
        "outputId": "99ca0122-34c3-4a57-8be3-2d8bbd07f5ab"
      },
      "outputs": [
        {
          "name": "stderr",
          "output_type": "stream",
          "text": [
            "INFO:root:Preparing testing data...\n"
          ]
        },
        {
          "name": "stdout",
          "output_type": "stream",
          "text": [
            "[INFO 2025-03-03 09:00:03,938] Preparing testing data...\n"
          ]
        },
        {
          "name": "stderr",
          "output_type": "stream",
          "text": [
            "73152it [00:01, 42465.48it/s]\n",
            "INFO:root:Writing files...\n"
          ]
        },
        {
          "name": "stdout",
          "output_type": "stream",
          "text": [
            "[INFO 2025-03-03 09:00:06,477] Writing files...\n"
          ]
        },
        {
          "name": "stderr",
          "output_type": "stream",
          "text": [
            "INFO:root:73152 testing samples in total.\n"
          ]
        },
        {
          "name": "stdout",
          "output_type": "stream",
          "text": [
            "[INFO 2025-03-03 09:00:08,292] 73152 testing samples in total.\n"
          ]
        }
      ],
      "source": [
        "args.mode = 'test'\n",
        "args.user_log_mask=True\n",
        "args.batch_size=128\n",
        "args.load_ckpt_name= 'epoch-5.pt'\n",
        "args.prepare=True\n",
        "if 'test' in args.mode:\n",
        "        if args.prepare:\n",
        "            logging.info('Preparing testing data...')\n",
        "            total_sample_num = prepare_testing_data(args.test_data_dir, args.nGPU)\n",
        "        else:\n",
        "            total_sample_num = 0\n",
        "            for i in range(args.nGPU):\n",
        "                data_file_path = os.path.join(args.test_data_dir, f'behaviors_{i}.tsv')\n",
        "                if not os.path.exists(data_file_path):\n",
        "                    logging.error(f'Splited testing data {data_file_path} for GPU {i} does not exist. Please set the parameter --prepare as True and rerun the code.')\n",
        "                    exit()\n",
        "                result = subprocess.getoutput(f'wc -l {data_file_path}')\n",
        "                total_sample_num += int(result.split(' ')[0])\n",
        "            logging.info('Skip testing data preparation.')\n",
        "        logging.info(f'{total_sample_num} testing samples in total.')\n",
        "\n"
      ]
    },
    {
      "cell_type": "markdown",
      "metadata": {
        "id": "soI3jlXBCfD9"
      },
      "source": [
        "# Test\n"
      ]
    },
    {
      "cell_type": "code",
      "execution_count": null,
      "metadata": {
        "colab": {
          "base_uri": "https://localhost:8080/"
        },
        "id": "NwrlOsheqzoE",
        "outputId": "66e68d41-2690-4611-d5f8-6cdc862e724f"
      },
      "outputs": [
        {
          "name": "stderr",
          "output_type": "stream",
          "text": [
            "<ipython-input-19-838dfa1f5ac2>:9: FutureWarning: You are using `torch.load` with `weights_only=False` (the current default value), which uses the default pickle module implicitly. It is possible to construct malicious pickle data which will execute arbitrary code during unpickling (See https://github.com/pytorch/pytorch/blob/main/SECURITY.md#untrusted-models for more details). In a future release, the default value for `weights_only` will be flipped to `True`. This limits the functions that could be executed during unpickling. Arbitrary objects will no longer be allowed to be loaded via this mode unless they are explicitly allowlisted by the user via `torch.serialization.add_safe_globals`. We recommend you start setting `weights_only=True` for any use case where you don't have full control of the loaded file. Please open an issue on GitHub for any issues related to this experimental feature.\n",
            "  checkpoint = torch.load(ckpt_path, map_location='cpu')\n",
            "INFO:root:Model loaded from /content/drive/MyDrive/Colab Notebooks/NewsRecommendation/LSTUR model/epoch-5.pt\n"
          ]
        },
        {
          "name": "stdout",
          "output_type": "stream",
          "text": [
            "[INFO 2025-03-03 09:04:02,942] Model loaded from /content/drive/MyDrive/Colab Notebooks/NewsRecommendation/LSTUR model/epoch-5.pt\n"
          ]
        },
        {
          "name": "stderr",
          "output_type": "stream",
          "text": [
            "42416it [00:03, 10638.65it/s]\n",
            "100%|██████████| 42416/42416 [00:00<00:00, 113063.11it/s]\n",
            "/usr/local/lib/python3.11/dist-packages/torch/utils/data/dataloader.py:617: UserWarning: This DataLoader will create 4 worker processes in total. Our suggested max number of worker in current system is 2, which is smaller than what this DataLoader is going to create. Please be aware that excessive worker creation might get DataLoader running slow or even freeze, lower the worker number to avoid potential slowness/freeze if necessary.\n",
            "  warnings.warn(\n",
            "100%|██████████| 332/332 [00:02<00:00, 137.45it/s]\n",
            "INFO:root:news scoring num: 42417\n"
          ]
        },
        {
          "name": "stdout",
          "output_type": "stream",
          "text": [
            "[INFO 2025-03-03 09:04:10,200] news scoring num: 42417\n"
          ]
        },
        {
          "name": "stderr",
          "output_type": "stream",
          "text": [
            "100%|██████████| 1000000/1000000 [00:09<00:00, 110477.04it/s]\n",
            "INFO:root:News doc-sim: 0.48951068924601376\n"
          ]
        },
        {
          "name": "stdout",
          "output_type": "stream",
          "text": [
            "[INFO 2025-03-03 09:04:19,258] News doc-sim: 0.48951068924601376\n"
          ]
        }
      ],
      "source": [
        "  rank = 0\n",
        "  is_distributed = False\n",
        "\n",
        "  if args.enable_gpu:\n",
        "      torch.cuda.set_device(rank)\n",
        "\n",
        "  ckpt_path = get_checkpoint(args.model_dir, args.load_ckpt_name)\n",
        "  assert ckpt_path is not None, 'No checkpoint found.'\n",
        "  checkpoint = torch.load(ckpt_path, map_location='cpu')\n",
        "\n",
        "  category_dict = checkpoint['category_dict']\n",
        "  subcategory_dict = checkpoint['subcategory_dict']\n",
        "  word_dict = checkpoint['word_dict']\n",
        "\n",
        "  dummy_embedding_matrix = np.zeros((len(word_dict) + 1, args.word_embedding_dim))\n",
        "  model = LSTUR(args, dummy_embedding_matrix)\n",
        "  model.load_state_dict(checkpoint['model_state_dict'])\n",
        "  logging.info(f\"Model loaded from {ckpt_path}\")\n",
        "\n",
        "  if args.enable_gpu:\n",
        "      model.cuda(rank)\n",
        "\n",
        "  model.eval()\n",
        "  torch.set_grad_enabled(False)\n",
        "\n",
        "  news, news_index, category_dict, subcategory_dict, word_dict = read_news(\n",
        "  os.path.join(args.test_data_dir, 'news.tsv'), args.train_abstract_dir, args, mode='train')\n",
        "\n",
        "  news_title, news_category, news_subcategory, news_abstract = get_doc_input(\n",
        "      news, news_index, category_dict, subcategory_dict, word_dict, args)\n",
        "\n",
        "  news_combined = np.concatenate([x for x in [news_title, news_category, news_subcategory] if x is not None], axis=-1)\n",
        "\n",
        "  news_dataset = NewsDataset(news_combined)\n",
        "  news_dataloader = DataLoader(news_dataset,\n",
        "                                batch_size=args.batch_size,\n",
        "                                num_workers=4)\n",
        "\n",
        "  news_scoring = []\n",
        "  with torch.no_grad():\n",
        "      for input_ids in tqdm(news_dataloader):\n",
        "          input_ids = input_ids.cuda(rank)\n",
        "          news_vec = model.news_encoder(input_ids)\n",
        "          news_vec = news_vec.to(torch.device(\"cpu\")).detach().numpy()\n",
        "          news_scoring.extend(news_vec)\n",
        "\n",
        "  news_scoring = np.array(news_scoring)\n",
        "  logging.info(\"news scoring num: {}\".format(news_scoring.shape[0]))\n",
        "\n",
        "  if rank == 0:\n",
        "      doc_sim = 0\n",
        "      for _ in tqdm(range(1000000)):\n",
        "          i = random.randrange(1, len(news_scoring))\n",
        "          j = random.randrange(1, len(news_scoring))\n",
        "          if i != j:\n",
        "              doc_sim += np.dot(news_scoring[i], news_scoring[j]) / (np.linalg.norm(news_scoring[i]) * np.linalg.norm(news_scoring[j]))\n",
        "      logging.info(f'News doc-sim: {doc_sim / 1000000}')\n"
      ]
    },
    {
      "cell_type": "code",
      "execution_count": null,
      "metadata": {
        "colab": {
          "base_uri": "https://localhost:8080/"
        },
        "id": "dSlVohlQri26",
        "outputId": "ca6e620e-3497-40de-e513-aa45f30cce4b"
      },
      "outputs": [
        {
          "name": "stderr",
          "output_type": "stream",
          "text": [
            "INFO:root:Testing...\n"
          ]
        },
        {
          "name": "stdout",
          "output_type": "stream",
          "text": [
            "[INFO 2025-03-03 09:04:34,005] Testing...\n"
          ]
        },
        {
          "name": "stderr",
          "output_type": "stream",
          "text": [
            "INFO:root:[0] 128 samples: 56.19\t26.62\t31.12\t35.99\n"
          ]
        },
        {
          "name": "stdout",
          "output_type": "stream",
          "text": [
            "[INFO 2025-03-03 09:04:36,455] [0] 128 samples: 56.19\t26.62\t31.12\t35.99\n"
          ]
        },
        {
          "name": "stderr",
          "output_type": "stream",
          "text": [
            "INFO:root:[0] 12928 samples: 53.82\t23.70\t24.92\t31.00\n"
          ]
        },
        {
          "name": "stdout",
          "output_type": "stream",
          "text": [
            "[INFO 2025-03-03 09:07:07,337] [0] 12928 samples: 53.82\t23.70\t24.92\t31.00\n"
          ]
        },
        {
          "name": "stderr",
          "output_type": "stream",
          "text": [
            "INFO:root:[0] 25728 samples: 53.87\t23.94\t25.08\t31.21\n"
          ]
        },
        {
          "name": "stdout",
          "output_type": "stream",
          "text": [
            "[INFO 2025-03-03 09:09:36,783] [0] 25728 samples: 53.87\t23.94\t25.08\t31.21\n"
          ]
        },
        {
          "name": "stderr",
          "output_type": "stream",
          "text": [
            "INFO:root:[0] 38528 samples: 53.72\t23.69\t24.78\t30.97\n"
          ]
        },
        {
          "name": "stdout",
          "output_type": "stream",
          "text": [
            "[INFO 2025-03-03 09:12:09,163] [0] 38528 samples: 53.72\t23.69\t24.78\t30.97\n"
          ]
        },
        {
          "name": "stderr",
          "output_type": "stream",
          "text": [
            "INFO:root:[0] 51328 samples: 53.50\t23.55\t24.58\t30.79\n"
          ]
        },
        {
          "name": "stdout",
          "output_type": "stream",
          "text": [
            "[INFO 2025-03-03 09:14:40,252] [0] 51328 samples: 53.50\t23.55\t24.58\t30.79\n"
          ]
        },
        {
          "name": "stderr",
          "output_type": "stream",
          "text": [
            "INFO:root:[0] 64128 samples: 53.58\t23.62\t24.66\t30.88\n"
          ]
        },
        {
          "name": "stdout",
          "output_type": "stream",
          "text": [
            "[INFO 2025-03-03 09:17:10,341] [0] 64128 samples: 53.58\t23.62\t24.66\t30.88\n"
          ]
        },
        {
          "name": "stderr",
          "output_type": "stream",
          "text": [
            "INFO:root:Final Test Results: AUC: 0.53589\n"
          ]
        },
        {
          "name": "stdout",
          "output_type": "stream",
          "text": [
            "[INFO 2025-03-03 09:18:55,006] Final Test Results: AUC: 0.53589\n"
          ]
        }
      ],
      "source": [
        "def collate_fn(tuple_list):\n",
        "  user_index = torch.tensor([x[0] for x in tuple_list])\n",
        "  clicked_news_length = torch.tensor([x[1] for x in tuple_list])\n",
        "  # Inspect candidate news feature sizes\n",
        "  candidate_news_feature = ([x[2] for x in tuple_list])\n",
        "  clicked_news_feature = torch.FloatTensor([x[3] for x in tuple_list])\n",
        "  label = [x[4] for x in tuple_list]\n",
        "  return (user_index, clicked_news_length, candidate_news_feature, clicked_news_feature, label)\n",
        "\n",
        "data_file_path = os.path.join(args.test_data_dir, f'behaviors_{rank}.tsv')\n",
        "dataset = DatasetTest(data_file_path, news_index, news_scoring, '/content/user2id.json', args)\n",
        "dataloader = DataLoader(dataset, batch_size=args.batch_size, collate_fn=collate_fn)\n",
        "\n",
        "AUC, MRR, nDCG5, nDCG10 = [], [], [], []\n",
        "def print_metrics(rank, cnt, x):\n",
        "        logging.info(\"[{}] {} samples: {}\".format(rank, cnt, '\\t'.join([\"{:0.2f}\".format(i * 100) for i in x])))\n",
        "\n",
        "def get_mean(arr):\n",
        "    return [np.array(i).mean() for i in arr]\n",
        "\n",
        "def get_sum(arr):\n",
        "    return [np.array(i).sum() for i in arr]\n",
        "\n",
        "local_sample_num = 0\n",
        "logging.info(\"Testing...\")\n",
        "for cnt, (user_index, clicked_news_length, candidate_news_feature, clicked_news_feature, label) in enumerate(dataloader):\n",
        "    local_sample_num += clicked_news_feature.shape[0]\n",
        "    if args.enable_gpu:\n",
        "        user_index = user_index.cuda(rank, non_blocking=True)\n",
        "        clicked_news_length = clicked_news_length.cuda(rank, non_blocking=True)\n",
        "        # candidate_news_feature = candidate_news_feature.cuda(rank, non_blocking=True)\n",
        "        clicked_news_feature = clicked_news_feature.cuda(rank, non_blocking=True)\n",
        "        # label = label.cuda(rank, non_blocking=True)\n",
        "        # pass\n",
        "    clicked_news_vector = torch.stack(\n",
        "            [model.news_encoder(x) for x in clicked_news_feature])\n",
        "    user_vecs = model.get_user_vector(user_index, clicked_news_length, clicked_news_vector).cpu().detach().numpy()\n",
        "\n",
        "\n",
        "   # Encode candidate news\n",
        "    candidate_news_vecs = [\n",
        "    model.news_encoder(torch.tensor(news_feat, dtype=torch.float32).to(device)).cpu().detach().numpy()\n",
        "    for news_feat in candidate_news_feature\n",
        "]\n",
        "\n",
        "\n",
        "    for user_vec, news_vec, label in zip(user_vecs, candidate_news_feature, label):\n",
        "        if np.mean(label) == 0 or np.mean(label) == 1:\n",
        "            continue\n",
        "\n",
        "        score = np.dot(news_vec, user_vec)\n",
        "        # print(\"Scores:\", score[:10])  # Print first 10 scores\n",
        "        # print(\"Labels:\", label[:10])  # Print first 10 labels\n",
        "        AUC.append(roc_auc_score(label, score))\n",
        "        MRR.append(mrr_score(label, score))\n",
        "        nDCG5.append(ndcg_score(label, score, k=5))\n",
        "        nDCG10.append(ndcg_score(label, score, k=10))\n",
        "\n",
        "    if cnt % args.log_steps == 0:\n",
        "        print_metrics(rank, local_sample_num, get_mean([AUC, MRR, nDCG5, nDCG10]))\n",
        "\n",
        "logging.info(f\"Final Test Results: AUC: {np.mean(AUC):.5f}\")"
      ]
    }
  ],
  "metadata": {
    "accelerator": "GPU",
    "colab": {
      "gpuType": "T4",
      "provenance": []
    },
    "kernelspec": {
      "display_name": "Python 3",
      "name": "python3"
    },
    "language_info": {
      "codemirror_mode": {
        "name": "ipython",
        "version": 3
      },
      "file_extension": ".py",
      "mimetype": "text/x-python",
      "name": "python",
      "nbconvert_exporter": "python",
      "pygments_lexer": "ipython3",
      "version": "3.12.2"
    }
  },
  "nbformat": 4,
  "nbformat_minor": 0
}
