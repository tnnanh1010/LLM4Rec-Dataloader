{
  "cells": [
    {
      "cell_type": "code",
      "execution_count": null,
      "metadata": {
        "colab": {
          "base_uri": "https://localhost:8080/"
        },
        "id": "Jb2bDxXnL4Ot",
        "outputId": "16a5aef8-338a-4eb9-e6f1-bd6d1505b757"
      },
      "outputs": [
        {
          "name": "stdout",
          "output_type": "stream",
          "text": [
            "Mounted at /content/drive\n"
          ]
        }
      ],
      "source": [
        "from google.colab import drive\n",
        "drive.mount('/content/drive')"
      ]
    },
    {
      "cell_type": "code",
      "execution_count": null,
      "metadata": {
        "id": "E7i79ErILbl8"
      },
      "outputs": [],
      "source": [
        "import pandas as pd\n",
        "from tqdm import tqdm\n",
        "from nltk.tokenize import word_tokenize\n",
        "from collections import Counter\n",
        "import numpy as np\n",
        "import random\n",
        "import logging\n",
        "import os\n",
        "import torch.optim as optim\n",
        "import torch.distributed as dist\n",
        "from torch.utils.data import DataLoader\n",
        "from pathlib import Path\n",
        "\n"
      ]
    },
    {
      "cell_type": "code",
      "execution_count": null,
      "metadata": {
        "id": "WxUXYhf2MjaM"
      },
      "outputs": [],
      "source": [
        "from dataclasses import dataclass\n",
        "from typing import Optional\n",
        "\n",
        "@dataclass\n",
        "class Args:\n",
        "    nGPU: int = 1\n",
        "    seed: int = 0\n",
        "    prepare: bool = True\n",
        "    mode: str = \"train\"\n",
        "    train_data_dir: str = \"/content/drive/MyDrive/Colab Notebooks/NewsRecommendation/data/MINDsmall_train\"\n",
        "    test_data_dir: str = \"/content/drive/MyDrive/Colab Notebooks/NewsRecommendation/data/MINDsmall_dev\"\n",
        "    train_abstract_dir: str = '/content/genAbs0.json'\n",
        "    # \"/content/drive/MyDrive/Colab Notebooks/NewsRecommendation/data/train_gen_abs.json\"\n",
        "    test_abstract_dir: str = '/content/genAbs0.json'\n",
        "    # \"/content/drive/MyDrive/Colab Notebooks/NewsRecommendation/data/Dev_gen_abs.json\"\n",
        "    model_dir: str = '/content/model'\n",
        "    batch_size: int = 32\n",
        "    npratio: int = 4\n",
        "    enable_gpu: bool = True\n",
        "    filter_num: int = 3\n",
        "    log_steps: int = 100\n",
        "    epochs: int = 5\n",
        "    lr: float = 0.0003\n",
        "    num_words_title: int = 20\n",
        "    num_words_abstract: int = 50\n",
        "    user_log_length: int = 50\n",
        "    word_embedding_dim: int = 300\n",
        "    glove_embedding_path: str = '/content/drive/MyDrive/Colab Notebooks/NewsRecommendation/data/glove.840B.300d.txt'\n",
        "    freeze_embedding: bool = False\n",
        "    news_dim: int = 400\n",
        "    news_query_vector_dim: int = 200\n",
        "    user_query_vector_dim: int = 200\n",
        "    num_attention_heads: int = 20\n",
        "    user_log_mask: bool = True # Changed to True to handle user history correctly\n",
        "    drop_rate: float = 0.2\n",
        "    save_steps: int = 10000\n",
        "    start_epoch: int = 0\n",
        "    load_ckpt_name: Optional[str] = None\n",
        "    use_category: bool = True\n",
        "    use_subcategory: bool = True\n",
        "    use_abstract: bool = True\n",
        "    use_custom_abstract: bool = True\n",
        "    category_emb_dim: int = 100\n",
        "\n",
        "def parse_args():\n",
        "  return Args()\n"
      ]
    },
    {
      "cell_type": "markdown",
      "metadata": {
        "id": "s_SLKbAZpKFK"
      },
      "source": [
        "**Dataset.py**"
      ]
    },
    {
      "cell_type": "code",
      "execution_count": null,
      "metadata": {
        "id": "pqMrlk2u-Hiv"
      },
      "outputs": [],
      "source": [
        "from torch.utils.data import IterableDataset, Dataset\n",
        "import numpy as np\n",
        "import random\n",
        "\n",
        "\n",
        "class DatasetTrain(IterableDataset):\n",
        "    def __init__(self, filename, news_index, news_combined, args):\n",
        "        super(DatasetTrain).__init__()\n",
        "        self.filename = filename\n",
        "        self.news_index = news_index\n",
        "        self.news_combined = news_combined\n",
        "        self.args = args\n",
        "\n",
        "    def trans_to_nindex(self, nids):\n",
        "        return [self.news_index[i] if i in self.news_index else 0 for i in nids]\n",
        "\n",
        "    def pad_to_fix_len(self, x, fix_length, padding_front=True, padding_value=0):\n",
        "        if padding_front:\n",
        "            pad_x = [padding_value] * (fix_length - len(x)) + x[-fix_length:]\n",
        "            mask = [0] * (fix_length - len(x)) + [1] * min(fix_length, len(x))\n",
        "        else:\n",
        "            pad_x = x[-fix_length:] + [padding_value] * (fix_length - len(x))\n",
        "            mask = [1] * min(fix_length, len(x)) + [0] * (fix_length - len(x))\n",
        "        return pad_x, np.array(mask, dtype='float32')\n",
        "\n",
        "    def line_mapper(self, line):\n",
        "        line = line.strip().split('\\t')\n",
        "        click_docs = line[3].split()\n",
        "        sess_pos = line[4].split()\n",
        "        sess_neg = line[5].split()\n",
        "\n",
        "        click_docs, log_mask = self.pad_to_fix_len(self.trans_to_nindex(click_docs), self.args.user_log_length)\n",
        "        user_feature = self.news_combined[click_docs]\n",
        "\n",
        "        pos = self.trans_to_nindex(sess_pos)\n",
        "        neg = self.trans_to_nindex(sess_neg)\n",
        "\n",
        "        label = random.randint(0, self.args.npratio)\n",
        "        sample_news = neg[:label] + pos + neg[label:]\n",
        "        news_feature = self.news_combined[sample_news]\n",
        "\n",
        "        return user_feature, log_mask, news_feature, label\n",
        "\n",
        "    def __iter__(self):\n",
        "        file_iter = open(self.filename)\n",
        "        return map(self.line_mapper, file_iter)\n",
        "\n",
        "\n",
        "class DatasetTest(DatasetTrain):\n",
        "    def __init__(self, filename, news_index, news_scoring, args):\n",
        "        super(DatasetTrain).__init__()\n",
        "        self.filename = filename\n",
        "        self.news_index = news_index\n",
        "        self.news_scoring = news_scoring\n",
        "        self.args = args\n",
        "\n",
        "    def line_mapper(self, line):\n",
        "        line = line.strip().split('\\t')\n",
        "        click_docs = line[3].split()\n",
        "        click_docs, log_mask = self.pad_to_fix_len(self.trans_to_nindex(click_docs), self.args.user_log_length)\n",
        "        user_feature = self.news_scoring[click_docs]\n",
        "\n",
        "        candidate_news = self.trans_to_nindex([i.split('-')[0] for i in line[4].split()])\n",
        "        labels = np.array([int(i.split('-')[1]) for i in line[4].split()])\n",
        "        news_feature = self.news_scoring[candidate_news]\n",
        "\n",
        "        return user_feature, log_mask, news_feature, labels\n",
        "\n",
        "    def __iter__(self):\n",
        "        file_iter = open(self.filename)\n",
        "        return map(self.line_mapper, file_iter)\n",
        "\n",
        "\n",
        "class NewsDataset(Dataset):\n",
        "    def __init__(self, data):\n",
        "        self.data = data\n",
        "\n",
        "    def __getitem__(self, idx):\n",
        "        return self.data[idx]\n",
        "\n",
        "    def __len__(self):\n",
        "        return self.data.shape[0]\n"
      ]
    },
    {
      "cell_type": "markdown",
      "metadata": {
        "id": "J1IjisEE-LHb"
      },
      "source": [
        "**Metric.py**"
      ]
    },
    {
      "cell_type": "code",
      "execution_count": null,
      "metadata": {
        "id": "ppd8qdG1-Nr3"
      },
      "outputs": [],
      "source": [
        "from sklearn.metrics import roc_auc_score\n",
        "import numpy as np\n",
        "\n",
        "\n",
        "def dcg_score(y_true, y_score, k=10):\n",
        "    order = np.argsort(y_score)[::-1]\n",
        "    y_true = np.take(y_true, order[:k])\n",
        "    gains = 2**y_true - 1\n",
        "    discounts = np.log2(np.arange(len(y_true)) + 2)\n",
        "    return np.sum(gains / discounts)\n",
        "\n",
        "\n",
        "def ndcg_score(y_true, y_score, k=10):\n",
        "    best = dcg_score(y_true, y_true, k)\n",
        "    actual = dcg_score(y_true, y_score, k)\n",
        "    return actual / best\n",
        "\n",
        "\n",
        "def mrr_score(y_true, y_score):\n",
        "    order = np.argsort(y_score)[::-1]\n",
        "    y_true = np.take(y_true, order)\n",
        "    rr_score = y_true / (np.arange(len(y_true)) + 1)\n",
        "    return np.sum(rr_score) / np.sum(y_true)\n",
        "\n",
        "\n",
        "def ctr_score(y_true, y_score, k=1):\n",
        "    order = np.argsort(y_score)[::-1]\n",
        "    y_true = np.take(y_true, order[:k])\n",
        "    return np.mean(y_true)\n",
        "\n",
        "def acc(y_true, y_hat):\n",
        "    y_hat = torch.argmax(y_hat, dim=-1)\n",
        "    tot = y_true.shape[0]\n",
        "    hit = torch.sum(y_true == y_hat)\n",
        "    return hit.data.float() * 1.0 / tot\n",
        "\n"
      ]
    },
    {
      "cell_type": "markdown",
      "metadata": {
        "id": "D1ZeoY8x-5Ds"
      },
      "source": [
        "**Ultis.py**"
      ]
    },
    {
      "cell_type": "code",
      "execution_count": null,
      "metadata": {
        "id": "Dfr-ri4E-s3M"
      },
      "outputs": [],
      "source": [
        "import logging\n",
        "import argparse\n",
        "import sys\n",
        "\n",
        "def setuplogger():\n",
        "    root = logging.getLogger()\n",
        "    root.setLevel(logging.INFO)\n",
        "    handler = logging.StreamHandler(sys.stdout)\n",
        "    handler.setLevel(logging.INFO)\n",
        "    formatter = logging.Formatter(\"[%(levelname)s %(asctime)s] %(message)s\")\n",
        "    handler.setFormatter(formatter)\n",
        "    root.addHandler(handler)\n",
        "\n",
        "\n",
        "def dump_args(args):\n",
        "    for arg in dir(args):\n",
        "        if not arg.startswith(\"_\"):\n",
        "            logging.info(f\"args[{arg}]={getattr(args, arg)}\")\n",
        "\n",
        "def load_matrix(embedding_file_path, word_dict, word_embedding_dim):\n",
        "    embedding_matrix = np.zeros(shape=(len(word_dict) + 1, word_embedding_dim))\n",
        "    have_word = []\n",
        "    if embedding_file_path is not None:\n",
        "        with open(embedding_file_path, 'rb') as f:\n",
        "            while True:\n",
        "                line = f.readline()\n",
        "                if len(line) == 0:\n",
        "                    break\n",
        "                line = line.split()\n",
        "                word = line[0].decode()\n",
        "                if word in word_dict:\n",
        "                    index = word_dict[word]\n",
        "                    tp = [float(x) for x in line[1:]]\n",
        "                    embedding_matrix[index] = np.array(tp)\n",
        "                    have_word.append(word)\n",
        "    return embedding_matrix, have_word\n",
        "\n",
        "\n",
        "def get_checkpoint(directory, ckpt_name):\n",
        "    ckpt_path = os.path.join(directory, ckpt_name)\n",
        "    if os.path.exists(ckpt_path):\n",
        "        return ckpt_path\n",
        "    else:\n",
        "        return None\n"
      ]
    },
    {
      "cell_type": "markdown",
      "metadata": {
        "id": "BvlabjELAPTD"
      },
      "source": [
        "**Model_ultis.py**"
      ]
    },
    {
      "cell_type": "code",
      "execution_count": null,
      "metadata": {
        "id": "XW3eigdb-7qN"
      },
      "outputs": [],
      "source": [
        "from torch import nn\n",
        "class AttentionPooling(nn.Module):\n",
        "    def __init__(self, emb_size, hidden_size):\n",
        "        super(AttentionPooling, self).__init__()\n",
        "        self.att_fc1 = nn.Linear(emb_size, hidden_size)\n",
        "        self.att_fc2 = nn.Linear(hidden_size, 1)\n",
        "\n",
        "    def forward(self, x, attn_mask=None):\n",
        "        \"\"\"\n",
        "        Args:\n",
        "            x: batch_size, candidate_size, emb_dim\n",
        "            attn_mask: batch_size, candidate_size\n",
        "        Returns:\n",
        "            (shape) batch_size, emb_dim\n",
        "        \"\"\"\n",
        "        e = self.att_fc1(x)\n",
        "        e = nn.Tanh()(e)\n",
        "        alpha = self.att_fc2(e)\n",
        "        alpha = torch.exp(alpha)\n",
        "\n",
        "        if attn_mask is not None:\n",
        "            alpha = alpha * attn_mask.unsqueeze(2)\n",
        "\n",
        "        alpha = alpha / (torch.sum(alpha, dim=1, keepdim=True) + 1e-8)\n",
        "        x = torch.bmm(x.permute(0, 2, 1), alpha).squeeze(dim=-1)\n",
        "        return x\n"
      ]
    },
    {
      "cell_type": "markdown",
      "metadata": {
        "id": "oiNcPBElAV2B"
      },
      "source": [
        "# NAML.py"
      ]
    },
    {
      "cell_type": "code",
      "execution_count": null,
      "metadata": {
        "id": "eD9GNW8tAYTb"
      },
      "outputs": [],
      "source": [
        "import torch\n",
        "from torch import nn\n",
        "import torch.nn.functional as F\n",
        "\n",
        "\n",
        "class NewsEncoder(nn.Module):\n",
        "    def __init__(self, args, embedding_matrix, num_category, num_subcategory):\n",
        "        super(NewsEncoder, self).__init__()\n",
        "        self.embedding_matrix = embedding_matrix\n",
        "        self.drop_rate = args.drop_rate\n",
        "        self.num_words_title = args.num_words_title\n",
        "        self.use_category = args.use_category\n",
        "        self.use_subcategory = args.use_subcategory\n",
        "        self.use_abstract = args.use_abstract\n",
        "        self.num_words_abstract = args.num_words_abstract\n",
        "        if args.use_category:\n",
        "            self.category_emb = nn.Embedding(num_category + 1, args.category_emb_dim, padding_idx=0)\n",
        "            self.category_dense = nn.Linear(args.category_emb_dim, args.news_dim)\n",
        "        if args.use_subcategory:\n",
        "            self.subcategory_emb = nn.Embedding(num_subcategory + 1, args.category_emb_dim, padding_idx=0)\n",
        "            self.subcategory_dense = nn.Linear(args.category_emb_dim, args.news_dim)\n",
        "        if args.use_category or args.use_subcategory:\n",
        "            self.final_attn = AttentionPooling(args.news_dim, args.news_query_vector_dim)\n",
        "        self.cnn = nn.Conv1d(\n",
        "            in_channels=args.word_embedding_dim,\n",
        "            out_channels=args.news_dim,\n",
        "            kernel_size=3,\n",
        "            padding=1\n",
        "        )\n",
        "        self.attn = AttentionPooling(args.news_dim, args.news_query_vector_dim)\n",
        "\n",
        "        if args.use_abstract:\n",
        "            self.abstract_cnn = nn.Conv1d(\n",
        "                in_channels=args.word_embedding_dim,\n",
        "                out_channels=args.news_dim,\n",
        "                kernel_size=3,\n",
        "                padding=1\n",
        "            )\n",
        "            self.abstract_attn = AttentionPooling(args.news_dim, args.news_query_vector_dim)\n",
        "\n",
        "\n",
        "    def forward(self, x, mask=None):\n",
        "        '''\n",
        "            x: batch_size, word_num\n",
        "            mask: batch_size, word_num\n",
        "        '''\n",
        "        title = torch.narrow(x, -1, 0, self.num_words_title).long()\n",
        "        word_vecs = F.dropout(self.embedding_matrix(title),\n",
        "                              p=self.drop_rate,\n",
        "                              training=self.training)\n",
        "        context_word_vecs = self.cnn(word_vecs.transpose(1, 2)).transpose(1, 2)\n",
        "        title_vecs = self.attn(context_word_vecs, mask)\n",
        "        all_vecs = [title_vecs]\n",
        "\n",
        "        start = self.num_words_title\n",
        "        if self.use_category:\n",
        "            category = torch.narrow(x, -1, start, 1).squeeze(dim=-1).long()\n",
        "            category_vecs = self.category_dense(self.category_emb(category))\n",
        "            all_vecs.append(category_vecs)\n",
        "            start += 1\n",
        "        if self.use_subcategory:\n",
        "            subcategory = torch.narrow(x, -1, start, 1).squeeze(dim=-1).long()\n",
        "            subcategory_vecs = self.subcategory_dense(self.subcategory_emb(subcategory))\n",
        "            all_vecs.append(subcategory_vecs)\n",
        "\n",
        "        if self.use_abstract:\n",
        "            abstract = torch.narrow(x, -1, start, self.num_words_abstract).long()\n",
        "            abstract_word_vecs = F.dropout(self.embedding_matrix(abstract),\n",
        "                                           p=self.drop_rate,\n",
        "                                           training=self.training)\n",
        "            abstract_context_word_vecs = self.abstract_cnn(abstract_word_vecs.transpose(1, 2)).transpose(1, 2)\n",
        "            abstract_vecs = self.abstract_attn(abstract_context_word_vecs, mask)\n",
        "            all_vecs.append(abstract_vecs)\n",
        "\n",
        "        if len(all_vecs) == 1:\n",
        "            news_vecs = all_vecs[0]\n",
        "        else:\n",
        "            all_vecs = torch.stack(all_vecs, dim=1)\n",
        "            news_vecs = self.final_attn(all_vecs)\n",
        "        return news_vecs\n",
        "\n",
        "class UserEncoder(nn.Module):\n",
        "    def __init__(self, args):\n",
        "        super(UserEncoder, self).__init__()\n",
        "        self.args = args\n",
        "        self.attn = AttentionPooling(args.news_dim, args.user_query_vector_dim)\n",
        "        self.pad_doc = nn.Parameter(torch.empty(1, args.news_dim).uniform_(-1, 1)).type(torch.FloatTensor)\n",
        "\n",
        "    def forward(self, news_vecs, log_mask=None):\n",
        "        '''\n",
        "            news_vecs: batch_size, history_num, news_dim\n",
        "            log_mask: batch_size, history_num\n",
        "        '''\n",
        "        bz = news_vecs.shape[0]\n",
        "        if self.args.user_log_mask:\n",
        "            user_vec = self.attn(news_vecs, log_mask)\n",
        "        else:\n",
        "            padding_doc = self.pad_doc.unsqueeze(dim=0).expand(bz, self.args.user_log_length, -1)\n",
        "            news_vecs = news_vecs * log_mask.unsqueeze(dim=-1) + padding_doc * (1 - log_mask.unsqueeze(dim=-1))\n",
        "            user_vec = self.attn(news_vecs)\n",
        "        return user_vec\n",
        "\n",
        "\n",
        "class Model(torch.nn.Module):\n",
        "    def __init__(self, args, embedding_matrix, num_category, num_subcategory, **kwargs):\n",
        "        super(Model, self).__init__()\n",
        "        self.args = args\n",
        "        pretrained_word_embedding = torch.from_numpy(embedding_matrix).float()\n",
        "        word_embedding = nn.Embedding.from_pretrained(pretrained_word_embedding,\n",
        "                                                      freeze=args.freeze_embedding,\n",
        "                                                      padding_idx=0)\n",
        "\n",
        "        self.news_encoder = NewsEncoder(args, word_embedding, num_category, num_subcategory)\n",
        "        self.user_encoder = UserEncoder(args)\n",
        "        self.loss_fn = nn.CrossEntropyLoss()\n",
        "\n",
        "    def forward(self, history, history_mask, candidate, label):\n",
        "        '''\n",
        "            history: batch_size, history_length, num_word_title\n",
        "            history_mask: batch_size, history_length\n",
        "            candidate: batch_size, 1+K, num_word_title\n",
        "            label: batch_size, 1+K\n",
        "        '''\n",
        "        num_words = history.shape[-1]\n",
        "        candidate_news = candidate.reshape(-1, num_words)\n",
        "        print(\"Candidate News Shape Before Encoding:\", candidate_news.shape)  # Expected: (batch_size × 5, num_words_title)\n",
        "        print(\"Encoded Candidate News Shape:\", self.news_encoder(candidate_news).shape)  # What is the actual output?\n",
        "\n",
        "        candidate_news_vecs = self.news_encoder(candidate_news).reshape(-1, 1 + self.args.npratio, self.args.news_dim)\n",
        "\n",
        "        history_news = history.reshape(-1, num_words)\n",
        "        history_news_vecs = self.news_encoder(history_news).reshape(-1, self.args.user_log_length, self.args.news_dim)\n",
        "\n",
        "        user_vec = self.user_encoder(history_news_vecs, history_mask)\n",
        "        score = torch.bmm(candidate_news_vecs, user_vec.unsqueeze(dim=-1)).squeeze(dim=-1)\n",
        "        loss = self.loss_fn(score, label)\n",
        "        return loss, score\n"
      ]
    },
    {
      "cell_type": "markdown",
      "metadata": {
        "id": "pqNlsklUAi48"
      },
      "source": [
        "**preprocess.py**"
      ]
    },
    {
      "cell_type": "code",
      "execution_count": null,
      "metadata": {
        "id": "_Ja_pvD0AYwg"
      },
      "outputs": [],
      "source": [
        "from collections import Counter\n",
        "from tqdm import tqdm\n",
        "import numpy as np\n",
        "from nltk.tokenize import word_tokenize\n",
        "import json\n",
        "\n",
        "\n",
        "def update_dict(dict, key, value=None):\n",
        "    if key not in dict:\n",
        "        if value is None:\n",
        "            dict[key] = len(dict) + 1\n",
        "        else:\n",
        "            dict[key] = value\n",
        "\n",
        "\n",
        "def read_custom_abstract(news_file, custom_abstract_dict):\n",
        "    news = {}\n",
        "    news_index = {}\n",
        "    category_dict = {}\n",
        "    subcategory_dict = {}\n",
        "    word_cnt = {}\n",
        "\n",
        "    with open(news_file, 'r', encoding='utf-8') as f:\n",
        "        for line in f:\n",
        "            splited = line.strip('\\n').split('\\t')\n",
        "            doc_id, category, subcategory, title, abstract, url, entity_title, entity_abstract = splited\n",
        "            if doc_id in custom_abstract_dict:\n",
        "                abstract = custom_abstract_dict[doc_id]\n",
        "            news[doc_id] = [title.split(' '), category, subcategory, abstract.split(' ')]\n",
        "            news_index[doc_id] = len(news_index) + 1\n",
        "            for word in title.split(' '):\n",
        "                if word not in word_cnt:\n",
        "                    word_cnt[word] = 0\n",
        "                word_cnt[word] += 1\n",
        "            for word in abstract.split(' '):\n",
        "                if word not in word_cnt:\n",
        "                    word_cnt[word] = 0\n",
        "                word_cnt[word] += 1\n",
        "            if category not in category_dict:\n",
        "                category_dict[category] = len(category_dict) + 1\n",
        "            if subcategory not in subcategory_dict:\n",
        "                subcategory_dict[subcategory] = len(subcategory_dict) + 1\n",
        "\n",
        "    return news, news_index, category_dict, subcategory_dict, word_cnt\n",
        "\n",
        "def read_news(news_path, abstract_path, args, mode='train'):\n",
        "    news = {}\n",
        "    category_dict = {}\n",
        "    subcategory_dict = {}\n",
        "    news_index = {}\n",
        "    word_cnt = Counter()\n",
        "    if args.use_custom_abstract:\n",
        "      with open(abstract_path, 'r') as f:\n",
        "          abs = json.load(f)\n",
        "    with open(news_path, 'r', encoding='utf-8') as f:\n",
        "        for line in tqdm(f):\n",
        "            splited = line.strip('\\n').split('\\t')\n",
        "            doc_id, category, subcategory, title, abstract, url, _, _ = splited\n",
        "            update_dict(news_index, doc_id)\n",
        "\n",
        "            title = title.lower()\n",
        "            title = word_tokenize(title, language='english', preserve_line=True)\n",
        "\n",
        "            update_dict(news, doc_id, [title, category, subcategory, abs[doc_id] if doc_id in abs else abstract])\n",
        "            if mode == 'train':\n",
        "                if args.use_category:\n",
        "                    update_dict(category_dict, category)\n",
        "                if args.use_subcategory:\n",
        "                    update_dict(subcategory_dict, subcategory)\n",
        "                word_cnt.update(title)\n",
        "\n",
        "    if mode == 'train':\n",
        "        word = [k for k, v in word_cnt.items() if v > args.filter_num]\n",
        "        word_dict = {k: v for k, v in zip(word, range(1, len(word) + 1))}\n",
        "        return news, news_index, category_dict, subcategory_dict, word_dict\n",
        "    elif mode == 'test':\n",
        "        return news, news_index\n",
        "    else:\n",
        "        assert False, 'Wrong mode!'\n",
        "\n",
        "\n",
        "def get_doc_input(news, news_index, category_dict, subcategory_dict, word_dict, args):\n",
        "    news_num = len(news) + 1\n",
        "    news_title = np.zeros((news_num, args.num_words_title), dtype='int32')\n",
        "    news_category = np.zeros((news_num, 1), dtype='int32') if args.use_category else None\n",
        "    news_subcategory = np.zeros((news_num, 1), dtype='int32') if args.use_subcategory else None\n",
        "    news_abstract = np.zeros((news_num, args.num_words_abstract), dtype='int32') if args.use_abstract else None\n",
        "\n",
        "    for key in tqdm(news):\n",
        "        title, category, subcategory, abstract = news[key]\n",
        "        doc_index = news_index[key]\n",
        "\n",
        "        for word_id in range(min(args.num_words_title, len(title))):\n",
        "            if title[word_id] in word_dict:\n",
        "                news_title[doc_index, word_id] = word_dict[title[word_id]]\n",
        "\n",
        "        if args.use_category:\n",
        "            news_category[doc_index, 0] = category_dict[category] if category in category_dict else 0\n",
        "        if args.use_subcategory:\n",
        "            news_subcategory[doc_index, 0] = subcategory_dict[subcategory] if subcategory in subcategory_dict else 0\n",
        "        if args.use_abstract:\n",
        "            for word_id in range(min(args.num_words_abstract, len(abstract))):\n",
        "                if abstract[word_id] in word_dict:\n",
        "                    news_abstract[doc_index, word_id] = word_dict[abstract[word_id]]\n",
        "\n",
        "    return news_title, news_category, news_subcategory, news_abstract"
      ]
    },
    {
      "cell_type": "code",
      "execution_count": null,
      "metadata": {
        "id": "MambLdtFlSxi"
      },
      "outputs": [],
      "source": []
    },
    {
      "cell_type": "code",
      "execution_count": null,
      "metadata": {
        "id": "zXd8SNmIm34q"
      },
      "outputs": [],
      "source": []
    },
    {
      "cell_type": "markdown",
      "metadata": {
        "id": "xu43E3_6AqAA"
      },
      "source": [
        "**prepare_data.py**"
      ]
    },
    {
      "cell_type": "code",
      "execution_count": null,
      "metadata": {
        "id": "5Qzn9-0kAuFF"
      },
      "outputs": [],
      "source": [
        "import os\n",
        "from tqdm import tqdm\n",
        "import random\n",
        "import logging\n",
        "\n",
        "\n",
        "def get_sample(all_elements, num_sample):\n",
        "    if num_sample > len(all_elements):\n",
        "        return random.sample(all_elements * (num_sample // len(all_elements) + 1), num_sample)\n",
        "    else:\n",
        "        return random.sample(all_elements, num_sample)\n",
        "\n",
        "\n",
        "def prepare_training_data(train_data_dir, nGPU, npratio, seed):\n",
        "    random.seed(seed)\n",
        "    behaviors = []\n",
        "\n",
        "    behavior_file_path = os.path.join(train_data_dir, 'behaviors.tsv')\n",
        "    with open(behavior_file_path, 'r', encoding='utf-8') as f:\n",
        "        for line in tqdm(f):\n",
        "            iid, uid, time, history, imp = line.strip().split('\\t')\n",
        "            impressions = [x.split('-') for x in imp.split(' ')]\n",
        "            pos, neg = [], []\n",
        "            for news_ID, label in impressions:\n",
        "                if label == '0':\n",
        "                    neg.append(news_ID)\n",
        "                elif label == '1':\n",
        "                    pos.append(news_ID)\n",
        "            if len(pos) == 0 or len(neg) == 0:\n",
        "                continue\n",
        "            for pos_id in pos:\n",
        "                neg_candidate = get_sample(neg, npratio)\n",
        "                neg_str = ' '.join(neg_candidate)\n",
        "                new_line = '\\t'.join([iid, uid, time, history, pos_id, neg_str]) + '\\n'\n",
        "                behaviors.append(new_line)\n",
        "\n",
        "    random.shuffle(behaviors)\n",
        "\n",
        "    behaviors_per_file = [[] for _ in range(nGPU)]\n",
        "    for i, line in enumerate(behaviors):\n",
        "        behaviors_per_file[i % nGPU].append(line)\n",
        "\n",
        "    logging.info('Writing files...')\n",
        "    for i in range(nGPU):\n",
        "        processed_file_path = os.path.join(train_data_dir, f'behaviors_np{npratio}_{i}.tsv')\n",
        "        with open(processed_file_path, 'w') as f:\n",
        "            f.writelines(behaviors_per_file[i])\n",
        "\n",
        "    return len(behaviors)\n",
        "\n",
        "\n",
        "def prepare_testing_data(test_data_dir, nGPU):\n",
        "    behaviors = [[] for _ in range(nGPU)]\n",
        "\n",
        "    behavior_file_path = os.path.join(test_data_dir, 'behaviors.tsv')\n",
        "    with open(behavior_file_path, 'r', encoding='utf-8') as f:\n",
        "        for i, line in enumerate(tqdm(f)):\n",
        "            behaviors[i % nGPU].append(line)\n",
        "\n",
        "    logging.info('Writing files...')\n",
        "    for i in range(nGPU):\n",
        "        processed_file_path = os.path.join(test_data_dir, f'behaviors_{i}.tsv')\n",
        "        with open(processed_file_path, 'w') as f:\n",
        "            f.writelines(behaviors[i])\n",
        "\n",
        "    return sum([len(x) for x in behaviors])\n"
      ]
    },
    {
      "cell_type": "code",
      "execution_count": null,
      "metadata": {
        "id": "VGYXTH1pMIBO"
      },
      "outputs": [],
      "source": [
        "def train(rank, args):\n",
        "\n",
        "    is_distributed = False\n",
        "    torch.cuda.set_device(rank)\n",
        "\n",
        "\n",
        "    news, news_index, category_dict, subcategory_dict, word_dict = read_news(\n",
        "        os.path.join(args.train_data_dir, 'news.tsv'), args.train_abstract_dir, args, mode='train')\n",
        "\n",
        "    news_title, news_category, news_subcategory, news_abstract = get_doc_input(\n",
        "        news, news_index, category_dict, subcategory_dict, word_dict, args)\n",
        "    news_combined = np.concatenate([x for x in [news_title, news_category, news_subcategory, news_abstract] if x is not None], axis=-1)\n",
        "\n",
        "    if rank == 0:\n",
        "        logging.info('Initializing word embedding matrix...')\n",
        "\n",
        "    embedding_matrix, have_word = load_matrix(args.glove_embedding_path,\n",
        "                                                    word_dict,\n",
        "                                                    args.word_embedding_dim)\n",
        "    if rank == 0:\n",
        "        logging.info(f'Word dict length: {len(word_dict)}')\n",
        "        logging.info(f'Have words: {len(have_word)}')\n",
        "        logging.info(f'Missing rate: {(len(word_dict) - len(have_word)) / len(word_dict)}')\n",
        "\n",
        "    model = Model(args, embedding_matrix, len(category_dict), len(subcategory_dict))\n",
        "\n",
        "    if args.load_ckpt_name is not None:\n",
        "        ckpt_path = get_checkpoint(args.model_dir, args.load_ckpt_name)\n",
        "        checkpoint = torch.load(ckpt_path, map_location='cpu')\n",
        "        model.load_state_dict(checkpoint['model_state_dict'])\n",
        "        logging.info(f\"Model loaded from {ckpt_path}.\")\n",
        "\n",
        "    optimizer = optim.Adam(model.parameters(), lr=args.lr)\n",
        "\n",
        "    if args.enable_gpu:\n",
        "        model = model.cuda(rank)\n",
        "\n",
        "    if is_distributed:\n",
        "        model = torch.nn.parallel.DistributedDataParallel(model, device_ids=[rank])\n",
        "\n",
        "    # if rank == 0:\n",
        "    #     print(model)\n",
        "    #     for name, param in model.named_parameters():\n",
        "    #         print(name, param.requires_grad)\n",
        "\n",
        "    data_file_path = os.path.join(args.train_data_dir, f'behaviors_np{args.npratio}_{rank}.tsv')\n",
        "\n",
        "    dataset = DatasetTrain(data_file_path, news_index, news_combined, args)\n",
        "    dataloader = DataLoader(dataset, batch_size=args.batch_size)\n",
        "\n",
        "    logging.info('Training...')\n",
        "    for ep in range(args.start_epoch, args.epochs):\n",
        "        loss = 0.0\n",
        "        accuary = 0.0\n",
        "        for cnt, (log_ids, log_mask, input_ids, targets) in enumerate(dataloader):\n",
        "            if args.enable_gpu:\n",
        "                log_ids = log_ids.cuda(rank, non_blocking=True)\n",
        "                log_mask = log_mask.cuda(rank, non_blocking=True)\n",
        "                input_ids = input_ids.cuda(rank, non_blocking=True)\n",
        "                targets = targets.cuda(rank, non_blocking=True)\n",
        "\n",
        "            bz_loss, y_hat = model(log_ids, log_mask, input_ids, targets)\n",
        "            loss += bz_loss.data.float()\n",
        "            accuary += acc(targets, y_hat)\n",
        "            optimizer.zero_grad()\n",
        "            bz_loss.backward()\n",
        "            optimizer.step()\n",
        "\n",
        "            if cnt % args.log_steps == 0:\n",
        "                logging.info(\n",
        "                    '[{}] Ed: {}, train_loss: {:.5f}, acc: {:.5f}'.format(\n",
        "                        rank, cnt * args.batch_size, loss.data / cnt, accuary / cnt)\n",
        "                )\n",
        "\n",
        "            if rank == 0 and     cnt != 0 and cnt % args.save_steps == 0:\n",
        "                ckpt_path = os.path.join(args.model_dir, f'epoch-{ep+1}-{cnt}.pt')\n",
        "                torch.save(\n",
        "                    {\n",
        "                        'model_state_dict':\n",
        "                            {'.'.join(k.split('.')[1:]): v for k, v in model.state_dict().items()}\n",
        "                            if is_distributed else model.state_dict(),\n",
        "                        'category_dict': category_dict,\n",
        "                        'word_dict': word_dict,\n",
        "                        'subcategory_dict': subcategory_dict\n",
        "                    }, ckpt_path)\n",
        "                logging.info(f\"Model saved to {ckpt_path}.\")\n",
        "\n",
        "        logging.info('Training finish.')\n",
        "\n",
        "        if rank == 0:\n",
        "            ckpt_path = os.path.join(args.model_dir, f'epoch-{ep+1}.pt')\n",
        "            torch.save(\n",
        "                {\n",
        "                    'model_state_dict':\n",
        "                        {'.'.join(k.split('.')[1:]): v for k, v in model.state_dict().items()}\n",
        "                        if is_distributed else model.state_dict(),\n",
        "                    'category_dict': category_dict,\n",
        "                    'subcategory_dict': subcategory_dict,\n",
        "                    'word_dict': word_dict,\n",
        "                }, ckpt_path)\n",
        "            logging.info(f\"Model saved to {ckpt_path}.\")\n",
        "\n"
      ]
    },
    {
      "cell_type": "code",
      "execution_count": null,
      "metadata": {
        "colab": {
          "base_uri": "https://localhost:8080/"
        },
        "id": "WgkOVqFzS6Uv",
        "outputId": "d53bda0c-e9f4-4cd0-9555-c5a25a63a140"
      },
      "outputs": [
        {
          "name": "stderr",
          "output_type": "stream",
          "text": [
            "INFO:root:args[batch_size]=32\n"
          ]
        },
        {
          "name": "stdout",
          "output_type": "stream",
          "text": [
            "[INFO 2025-02-17 09:34:24,006] args[batch_size]=32\n",
            "[INFO 2025-02-17 09:34:24,006] args[batch_size]=32\n"
          ]
        },
        {
          "name": "stderr",
          "output_type": "stream",
          "text": [
            "INFO:root:args[category_emb_dim]=100\n"
          ]
        },
        {
          "name": "stdout",
          "output_type": "stream",
          "text": [
            "[INFO 2025-02-17 09:34:24,011] args[category_emb_dim]=100\n",
            "[INFO 2025-02-17 09:34:24,011] args[category_emb_dim]=100\n"
          ]
        },
        {
          "name": "stderr",
          "output_type": "stream",
          "text": [
            "INFO:root:args[drop_rate]=0.2\n"
          ]
        },
        {
          "name": "stdout",
          "output_type": "stream",
          "text": [
            "[INFO 2025-02-17 09:34:24,015] args[drop_rate]=0.2\n",
            "[INFO 2025-02-17 09:34:24,015] args[drop_rate]=0.2\n"
          ]
        },
        {
          "name": "stderr",
          "output_type": "stream",
          "text": [
            "INFO:root:args[enable_gpu]=True\n"
          ]
        },
        {
          "name": "stdout",
          "output_type": "stream",
          "text": [
            "[INFO 2025-02-17 09:34:24,019] args[enable_gpu]=True\n",
            "[INFO 2025-02-17 09:34:24,019] args[enable_gpu]=True\n"
          ]
        },
        {
          "name": "stderr",
          "output_type": "stream",
          "text": [
            "INFO:root:args[epochs]=5\n"
          ]
        },
        {
          "name": "stdout",
          "output_type": "stream",
          "text": [
            "[INFO 2025-02-17 09:34:24,022] args[epochs]=5\n",
            "[INFO 2025-02-17 09:34:24,022] args[epochs]=5\n"
          ]
        },
        {
          "name": "stderr",
          "output_type": "stream",
          "text": [
            "INFO:root:args[filter_num]=3\n"
          ]
        },
        {
          "name": "stdout",
          "output_type": "stream",
          "text": [
            "[INFO 2025-02-17 09:34:24,026] args[filter_num]=3\n",
            "[INFO 2025-02-17 09:34:24,026] args[filter_num]=3\n"
          ]
        },
        {
          "name": "stderr",
          "output_type": "stream",
          "text": [
            "INFO:root:args[freeze_embedding]=False\n"
          ]
        },
        {
          "name": "stdout",
          "output_type": "stream",
          "text": [
            "[INFO 2025-02-17 09:34:24,030] args[freeze_embedding]=False\n",
            "[INFO 2025-02-17 09:34:24,030] args[freeze_embedding]=False\n"
          ]
        },
        {
          "name": "stderr",
          "output_type": "stream",
          "text": [
            "INFO:root:args[glove_embedding_path]=/content/drive/MyDrive/Colab Notebooks/NewsRecommendation/data/glove.840B.300d.txt\n"
          ]
        },
        {
          "name": "stdout",
          "output_type": "stream",
          "text": [
            "[INFO 2025-02-17 09:34:24,034] args[glove_embedding_path]=/content/drive/MyDrive/Colab Notebooks/NewsRecommendation/data/glove.840B.300d.txt\n",
            "[INFO 2025-02-17 09:34:24,034] args[glove_embedding_path]=/content/drive/MyDrive/Colab Notebooks/NewsRecommendation/data/glove.840B.300d.txt\n"
          ]
        },
        {
          "name": "stderr",
          "output_type": "stream",
          "text": [
            "INFO:root:args[load_ckpt_name]=None\n"
          ]
        },
        {
          "name": "stdout",
          "output_type": "stream",
          "text": [
            "[INFO 2025-02-17 09:34:24,037] args[load_ckpt_name]=None\n",
            "[INFO 2025-02-17 09:34:24,037] args[load_ckpt_name]=None\n"
          ]
        },
        {
          "name": "stderr",
          "output_type": "stream",
          "text": [
            "INFO:root:args[log_steps]=100\n"
          ]
        },
        {
          "name": "stdout",
          "output_type": "stream",
          "text": [
            "[INFO 2025-02-17 09:34:24,041] args[log_steps]=100\n",
            "[INFO 2025-02-17 09:34:24,041] args[log_steps]=100\n"
          ]
        },
        {
          "name": "stderr",
          "output_type": "stream",
          "text": [
            "INFO:root:args[lr]=0.0003\n"
          ]
        },
        {
          "name": "stdout",
          "output_type": "stream",
          "text": [
            "[INFO 2025-02-17 09:34:24,044] args[lr]=0.0003\n",
            "[INFO 2025-02-17 09:34:24,044] args[lr]=0.0003\n"
          ]
        },
        {
          "name": "stderr",
          "output_type": "stream",
          "text": [
            "INFO:root:args[mode]=train\n"
          ]
        },
        {
          "name": "stdout",
          "output_type": "stream",
          "text": [
            "[INFO 2025-02-17 09:34:24,047] args[mode]=train\n",
            "[INFO 2025-02-17 09:34:24,047] args[mode]=train\n"
          ]
        },
        {
          "name": "stderr",
          "output_type": "stream",
          "text": [
            "INFO:root:args[model_dir]=/content/model\n"
          ]
        },
        {
          "name": "stdout",
          "output_type": "stream",
          "text": [
            "[INFO 2025-02-17 09:34:24,050] args[model_dir]=/content/model\n",
            "[INFO 2025-02-17 09:34:24,050] args[model_dir]=/content/model\n"
          ]
        },
        {
          "name": "stderr",
          "output_type": "stream",
          "text": [
            "INFO:root:args[nGPU]=1\n"
          ]
        },
        {
          "name": "stdout",
          "output_type": "stream",
          "text": [
            "[INFO 2025-02-17 09:34:24,053] args[nGPU]=1\n",
            "[INFO 2025-02-17 09:34:24,053] args[nGPU]=1\n"
          ]
        },
        {
          "name": "stderr",
          "output_type": "stream",
          "text": [
            "INFO:root:args[news_dim]=400\n"
          ]
        },
        {
          "name": "stdout",
          "output_type": "stream",
          "text": [
            "[INFO 2025-02-17 09:34:24,056] args[news_dim]=400\n",
            "[INFO 2025-02-17 09:34:24,056] args[news_dim]=400\n"
          ]
        },
        {
          "name": "stderr",
          "output_type": "stream",
          "text": [
            "INFO:root:args[news_query_vector_dim]=200\n"
          ]
        },
        {
          "name": "stdout",
          "output_type": "stream",
          "text": [
            "[INFO 2025-02-17 09:34:24,059] args[news_query_vector_dim]=200\n",
            "[INFO 2025-02-17 09:34:24,059] args[news_query_vector_dim]=200\n"
          ]
        },
        {
          "name": "stderr",
          "output_type": "stream",
          "text": [
            "INFO:root:args[npratio]=4\n"
          ]
        },
        {
          "name": "stdout",
          "output_type": "stream",
          "text": [
            "[INFO 2025-02-17 09:34:24,063] args[npratio]=4\n",
            "[INFO 2025-02-17 09:34:24,063] args[npratio]=4\n"
          ]
        },
        {
          "name": "stderr",
          "output_type": "stream",
          "text": [
            "INFO:root:args[num_attention_heads]=20\n"
          ]
        },
        {
          "name": "stdout",
          "output_type": "stream",
          "text": [
            "[INFO 2025-02-17 09:34:24,066] args[num_attention_heads]=20\n",
            "[INFO 2025-02-17 09:34:24,066] args[num_attention_heads]=20\n"
          ]
        },
        {
          "name": "stderr",
          "output_type": "stream",
          "text": [
            "INFO:root:args[num_words_abstract]=50\n"
          ]
        },
        {
          "name": "stdout",
          "output_type": "stream",
          "text": [
            "[INFO 2025-02-17 09:34:24,069] args[num_words_abstract]=50\n",
            "[INFO 2025-02-17 09:34:24,069] args[num_words_abstract]=50\n"
          ]
        },
        {
          "name": "stderr",
          "output_type": "stream",
          "text": [
            "INFO:root:args[num_words_title]=20\n"
          ]
        },
        {
          "name": "stdout",
          "output_type": "stream",
          "text": [
            "[INFO 2025-02-17 09:34:24,073] args[num_words_title]=20\n",
            "[INFO 2025-02-17 09:34:24,073] args[num_words_title]=20\n"
          ]
        },
        {
          "name": "stderr",
          "output_type": "stream",
          "text": [
            "INFO:root:args[prepare]=True\n"
          ]
        },
        {
          "name": "stdout",
          "output_type": "stream",
          "text": [
            "[INFO 2025-02-17 09:34:24,076] args[prepare]=True\n",
            "[INFO 2025-02-17 09:34:24,076] args[prepare]=True\n"
          ]
        },
        {
          "name": "stderr",
          "output_type": "stream",
          "text": [
            "INFO:root:args[save_steps]=10000\n"
          ]
        },
        {
          "name": "stdout",
          "output_type": "stream",
          "text": [
            "[INFO 2025-02-17 09:34:24,079] args[save_steps]=10000\n",
            "[INFO 2025-02-17 09:34:24,079] args[save_steps]=10000\n"
          ]
        },
        {
          "name": "stderr",
          "output_type": "stream",
          "text": [
            "INFO:root:args[seed]=0\n"
          ]
        },
        {
          "name": "stdout",
          "output_type": "stream",
          "text": [
            "[INFO 2025-02-17 09:34:24,082] args[seed]=0\n",
            "[INFO 2025-02-17 09:34:24,082] args[seed]=0\n"
          ]
        },
        {
          "name": "stderr",
          "output_type": "stream",
          "text": [
            "INFO:root:args[start_epoch]=0\n"
          ]
        },
        {
          "name": "stdout",
          "output_type": "stream",
          "text": [
            "[INFO 2025-02-17 09:34:24,102] args[start_epoch]=0\n",
            "[INFO 2025-02-17 09:34:24,102] args[start_epoch]=0\n"
          ]
        },
        {
          "name": "stderr",
          "output_type": "stream",
          "text": [
            "INFO:root:args[test_abstract_dir]=/content/genAbs0.json\n"
          ]
        },
        {
          "name": "stdout",
          "output_type": "stream",
          "text": [
            "[INFO 2025-02-17 09:34:24,104] args[test_abstract_dir]=/content/genAbs0.json\n",
            "[INFO 2025-02-17 09:34:24,104] args[test_abstract_dir]=/content/genAbs0.json\n"
          ]
        },
        {
          "name": "stderr",
          "output_type": "stream",
          "text": [
            "INFO:root:args[test_data_dir]=/content/drive/MyDrive/Colab Notebooks/NewsRecommendation/data/MINDsmall_dev\n"
          ]
        },
        {
          "name": "stdout",
          "output_type": "stream",
          "text": [
            "[INFO 2025-02-17 09:34:24,106] args[test_data_dir]=/content/drive/MyDrive/Colab Notebooks/NewsRecommendation/data/MINDsmall_dev\n",
            "[INFO 2025-02-17 09:34:24,106] args[test_data_dir]=/content/drive/MyDrive/Colab Notebooks/NewsRecommendation/data/MINDsmall_dev\n"
          ]
        },
        {
          "name": "stderr",
          "output_type": "stream",
          "text": [
            "INFO:root:args[train_abstract_dir]=/content/genAbs0.json\n"
          ]
        },
        {
          "name": "stdout",
          "output_type": "stream",
          "text": [
            "[INFO 2025-02-17 09:34:24,109] args[train_abstract_dir]=/content/genAbs0.json\n",
            "[INFO 2025-02-17 09:34:24,109] args[train_abstract_dir]=/content/genAbs0.json\n"
          ]
        },
        {
          "name": "stderr",
          "output_type": "stream",
          "text": [
            "INFO:root:args[train_data_dir]=/content/drive/MyDrive/Colab Notebooks/NewsRecommendation/data/MINDsmall_train\n"
          ]
        },
        {
          "name": "stdout",
          "output_type": "stream",
          "text": [
            "[INFO 2025-02-17 09:34:24,114] args[train_data_dir]=/content/drive/MyDrive/Colab Notebooks/NewsRecommendation/data/MINDsmall_train\n",
            "[INFO 2025-02-17 09:34:24,114] args[train_data_dir]=/content/drive/MyDrive/Colab Notebooks/NewsRecommendation/data/MINDsmall_train\n"
          ]
        },
        {
          "name": "stderr",
          "output_type": "stream",
          "text": [
            "INFO:root:args[use_abstract]=True\n"
          ]
        },
        {
          "name": "stdout",
          "output_type": "stream",
          "text": [
            "[INFO 2025-02-17 09:34:24,117] args[use_abstract]=True\n",
            "[INFO 2025-02-17 09:34:24,117] args[use_abstract]=True\n"
          ]
        },
        {
          "name": "stderr",
          "output_type": "stream",
          "text": [
            "INFO:root:args[use_category]=True\n"
          ]
        },
        {
          "name": "stdout",
          "output_type": "stream",
          "text": [
            "[INFO 2025-02-17 09:34:24,120] args[use_category]=True\n",
            "[INFO 2025-02-17 09:34:24,120] args[use_category]=True\n"
          ]
        },
        {
          "name": "stderr",
          "output_type": "stream",
          "text": [
            "INFO:root:args[use_custom_abstract]=True\n"
          ]
        },
        {
          "name": "stdout",
          "output_type": "stream",
          "text": [
            "[INFO 2025-02-17 09:34:24,123] args[use_custom_abstract]=True\n",
            "[INFO 2025-02-17 09:34:24,123] args[use_custom_abstract]=True\n"
          ]
        },
        {
          "name": "stderr",
          "output_type": "stream",
          "text": [
            "INFO:root:args[use_subcategory]=True\n"
          ]
        },
        {
          "name": "stdout",
          "output_type": "stream",
          "text": [
            "[INFO 2025-02-17 09:34:24,126] args[use_subcategory]=True\n",
            "[INFO 2025-02-17 09:34:24,126] args[use_subcategory]=True\n"
          ]
        },
        {
          "name": "stderr",
          "output_type": "stream",
          "text": [
            "INFO:root:args[user_log_length]=50\n"
          ]
        },
        {
          "name": "stdout",
          "output_type": "stream",
          "text": [
            "[INFO 2025-02-17 09:34:24,129] args[user_log_length]=50\n",
            "[INFO 2025-02-17 09:34:24,129] args[user_log_length]=50\n"
          ]
        },
        {
          "name": "stderr",
          "output_type": "stream",
          "text": [
            "INFO:root:args[user_log_mask]=True\n"
          ]
        },
        {
          "name": "stdout",
          "output_type": "stream",
          "text": [
            "[INFO 2025-02-17 09:34:24,132] args[user_log_mask]=True\n",
            "[INFO 2025-02-17 09:34:24,132] args[user_log_mask]=True\n"
          ]
        },
        {
          "name": "stderr",
          "output_type": "stream",
          "text": [
            "INFO:root:args[user_query_vector_dim]=200\n"
          ]
        },
        {
          "name": "stdout",
          "output_type": "stream",
          "text": [
            "[INFO 2025-02-17 09:34:24,136] args[user_query_vector_dim]=200\n",
            "[INFO 2025-02-17 09:34:24,136] args[user_query_vector_dim]=200\n"
          ]
        },
        {
          "name": "stderr",
          "output_type": "stream",
          "text": [
            "INFO:root:args[word_embedding_dim]=300\n"
          ]
        },
        {
          "name": "stdout",
          "output_type": "stream",
          "text": [
            "[INFO 2025-02-17 09:34:24,139] args[word_embedding_dim]=300\n",
            "[INFO 2025-02-17 09:34:24,139] args[word_embedding_dim]=300\n"
          ]
        }
      ],
      "source": [
        "\n",
        "    import subprocess\n",
        "    setuplogger()\n",
        "    args = parse_args()\n",
        "    dump_args(args)\n",
        "    random.seed(args.seed)\n",
        "    torch.manual_seed(args.seed)\n",
        "\n",
        "    Path(args.model_dir).mkdir(parents=True, exist_ok=True)\n",
        "\n",
        "\n"
      ]
    },
    {
      "cell_type": "code",
      "execution_count": null,
      "metadata": {
        "colab": {
          "base_uri": "https://localhost:8080/"
        },
        "id": "Lq_Df-xiThtr",
        "outputId": "cb423881-26b7-4eba-9e6d-e74e34db3afb"
      },
      "outputs": [
        {
          "name": "stderr",
          "output_type": "stream",
          "text": [
            "INFO:root:Preparing training data...\n"
          ]
        },
        {
          "name": "stdout",
          "output_type": "stream",
          "text": [
            "[INFO 2025-02-16 03:27:30,102] Preparing training data...\n",
            "[INFO 2025-02-16 03:27:30,102] Preparing training data...\n"
          ]
        },
        {
          "name": "stderr",
          "output_type": "stream",
          "text": [
            "156965it [00:03, 42875.46it/s]\n",
            "INFO:root:Writing files...\n"
          ]
        },
        {
          "name": "stdout",
          "output_type": "stream",
          "text": [
            "[INFO 2025-02-16 03:27:34,691] Writing files...\n",
            "[INFO 2025-02-16 03:27:34,691] Writing files...\n"
          ]
        },
        {
          "name": "stderr",
          "output_type": "stream",
          "text": [
            "INFO:root:236344 training samples, 7385 batches in total.\n"
          ]
        },
        {
          "name": "stdout",
          "output_type": "stream",
          "text": [
            "[INFO 2025-02-16 03:27:38,591] 236344 training samples, 7385 batches in total.\n",
            "[INFO 2025-02-16 03:27:38,591] 236344 training samples, 7385 batches in total.\n"
          ]
        }
      ],
      "source": [
        "if 'train' in args.mode:\n",
        "    if args.prepare:\n",
        "        logging.info('Preparing training data...')\n",
        "        total_sample_num = prepare_training_data(args.train_data_dir, args.nGPU, args.npratio, args.seed)\n",
        "    else:\n",
        "        total_sample_num = 0\n",
        "        for i in range(args.nGPU):\n",
        "            data_file_path = os.path.join(args.train_data_dir, f'behaviors_np{args.npratio}_{i}.tsv')\n",
        "            print(data_file_path)\n",
        "            if not os.path.exists(data_file_path):\n",
        "                logging.error(f'Splited training data {data_file_path} for GPU {i} does not exist. Please set the parameter --prepare as True and rerun the code.')\n",
        "                exit()\n",
        "            result = subprocess.getoutput(f'wc -l {data_file_path}')\n",
        "            total_sample_num += int(result.split(' ')[0])\n",
        "        logging.info('Skip training data preparation.')\n",
        "    logging.info(f'{total_sample_num} training samples, {total_sample_num // args.batch_size // args.nGPU} batches in total.')\n",
        "\n",
        "    # train(0, args)"
      ]
    },
    {
      "cell_type": "code",
      "execution_count": null,
      "metadata": {
        "id": "gjF-rqsSIGKY"
      },
      "outputs": [],
      "source": []
    },
    {
      "cell_type": "code",
      "execution_count": null,
      "metadata": {
        "colab": {
          "base_uri": "https://localhost:8080/"
        },
        "id": "fZV7B7l4mftc",
        "outputId": "de06ef4b-f4da-48a5-8c4a-878c0fb99322"
      },
      "outputs": [
        {
          "name": "stderr",
          "output_type": "stream",
          "text": [
            "51282it [00:04, 10649.21it/s]\n",
            "100%|██████████| 51282/51282 [00:00<00:00, 188261.30it/s]\n",
            "INFO:root:Initializing word embedding matrix...\n"
          ]
        },
        {
          "name": "stdout",
          "output_type": "stream",
          "text": [
            "[INFO 2025-02-16 03:28:40,419] Initializing word embedding matrix...\n",
            "[INFO 2025-02-16 03:28:40,419] Initializing word embedding matrix...\n"
          ]
        },
        {
          "name": "stderr",
          "output_type": "stream",
          "text": [
            "INFO:root:Word dict length: 12519\n"
          ]
        },
        {
          "name": "stdout",
          "output_type": "stream",
          "text": [
            "[INFO 2025-02-16 03:30:25,414] Word dict length: 12519\n",
            "[INFO 2025-02-16 03:30:25,414] Word dict length: 12519\n"
          ]
        },
        {
          "name": "stderr",
          "output_type": "stream",
          "text": [
            "INFO:root:Have words: 11960\n"
          ]
        },
        {
          "name": "stdout",
          "output_type": "stream",
          "text": [
            "[INFO 2025-02-16 03:30:25,417] Have words: 11960\n",
            "[INFO 2025-02-16 03:30:25,417] Have words: 11960\n"
          ]
        },
        {
          "name": "stderr",
          "output_type": "stream",
          "text": [
            "INFO:root:Missing rate: 0.0446521287642783\n"
          ]
        },
        {
          "name": "stdout",
          "output_type": "stream",
          "text": [
            "[INFO 2025-02-16 03:30:25,420] Missing rate: 0.0446521287642783\n",
            "[INFO 2025-02-16 03:30:25,420] Missing rate: 0.0446521287642783\n"
          ]
        },
        {
          "name": "stderr",
          "output_type": "stream",
          "text": [
            "INFO:root:Training...\n"
          ]
        },
        {
          "name": "stdout",
          "output_type": "stream",
          "text": [
            "[INFO 2025-02-16 03:30:30,495] Training...\n",
            "[INFO 2025-02-16 03:30:30,495] Training...\n"
          ]
        },
        {
          "name": "stderr",
          "output_type": "stream",
          "text": [
            "INFO:root:[0] Ed: 0, train_loss: inf, acc: inf\n"
          ]
        },
        {
          "name": "stdout",
          "output_type": "stream",
          "text": [
            "[INFO 2025-02-16 03:30:32,192] [0] Ed: 0, train_loss: inf, acc: inf\n",
            "[INFO 2025-02-16 03:30:32,192] [0] Ed: 0, train_loss: inf, acc: inf\n"
          ]
        },
        {
          "name": "stderr",
          "output_type": "stream",
          "text": [
            "INFO:root:[0] Ed: 3200, train_loss: 1.59442, acc: 0.34406\n"
          ]
        },
        {
          "name": "stdout",
          "output_type": "stream",
          "text": [
            "[INFO 2025-02-16 03:30:37,460] [0] Ed: 3200, train_loss: 1.59442, acc: 0.34406\n",
            "[INFO 2025-02-16 03:30:37,460] [0] Ed: 3200, train_loss: 1.59442, acc: 0.34406\n"
          ]
        },
        {
          "name": "stderr",
          "output_type": "stream",
          "text": [
            "INFO:root:[0] Ed: 6400, train_loss: 1.54301, acc: 0.36000\n"
          ]
        },
        {
          "name": "stdout",
          "output_type": "stream",
          "text": [
            "[INFO 2025-02-16 03:30:42,753] [0] Ed: 6400, train_loss: 1.54301, acc: 0.36000\n",
            "[INFO 2025-02-16 03:30:42,753] [0] Ed: 6400, train_loss: 1.54301, acc: 0.36000\n"
          ]
        },
        {
          "name": "stderr",
          "output_type": "stream",
          "text": [
            "INFO:root:[0] Ed: 9600, train_loss: 1.52254, acc: 0.36792\n"
          ]
        },
        {
          "name": "stdout",
          "output_type": "stream",
          "text": [
            "[INFO 2025-02-16 03:30:48,065] [0] Ed: 9600, train_loss: 1.52254, acc: 0.36792\n",
            "[INFO 2025-02-16 03:30:48,065] [0] Ed: 9600, train_loss: 1.52254, acc: 0.36792\n"
          ]
        },
        {
          "name": "stderr",
          "output_type": "stream",
          "text": [
            "INFO:root:[0] Ed: 12800, train_loss: 1.50752, acc: 0.37383\n"
          ]
        },
        {
          "name": "stdout",
          "output_type": "stream",
          "text": [
            "[INFO 2025-02-16 03:30:53,397] [0] Ed: 12800, train_loss: 1.50752, acc: 0.37383\n",
            "[INFO 2025-02-16 03:30:53,397] [0] Ed: 12800, train_loss: 1.50752, acc: 0.37383\n"
          ]
        },
        {
          "name": "stderr",
          "output_type": "stream",
          "text": [
            "INFO:root:[0] Ed: 16000, train_loss: 1.49704, acc: 0.37756\n"
          ]
        },
        {
          "name": "stdout",
          "output_type": "stream",
          "text": [
            "[INFO 2025-02-16 03:30:58,743] [0] Ed: 16000, train_loss: 1.49704, acc: 0.37756\n",
            "[INFO 2025-02-16 03:30:58,743] [0] Ed: 16000, train_loss: 1.49704, acc: 0.37756\n"
          ]
        },
        {
          "name": "stderr",
          "output_type": "stream",
          "text": [
            "INFO:root:[0] Ed: 19200, train_loss: 1.48991, acc: 0.38307\n"
          ]
        },
        {
          "name": "stdout",
          "output_type": "stream",
          "text": [
            "[INFO 2025-02-16 03:31:04,098] [0] Ed: 19200, train_loss: 1.48991, acc: 0.38307\n",
            "[INFO 2025-02-16 03:31:04,098] [0] Ed: 19200, train_loss: 1.48991, acc: 0.38307\n"
          ]
        },
        {
          "name": "stderr",
          "output_type": "stream",
          "text": [
            "INFO:root:[0] Ed: 22400, train_loss: 1.48348, acc: 0.38567\n"
          ]
        },
        {
          "name": "stdout",
          "output_type": "stream",
          "text": [
            "[INFO 2025-02-16 03:31:09,480] [0] Ed: 22400, train_loss: 1.48348, acc: 0.38567\n",
            "[INFO 2025-02-16 03:31:09,480] [0] Ed: 22400, train_loss: 1.48348, acc: 0.38567\n"
          ]
        },
        {
          "name": "stderr",
          "output_type": "stream",
          "text": [
            "INFO:root:[0] Ed: 25600, train_loss: 1.47890, acc: 0.38746\n"
          ]
        },
        {
          "name": "stdout",
          "output_type": "stream",
          "text": [
            "[INFO 2025-02-16 03:31:14,885] [0] Ed: 25600, train_loss: 1.47890, acc: 0.38746\n",
            "[INFO 2025-02-16 03:31:14,885] [0] Ed: 25600, train_loss: 1.47890, acc: 0.38746\n"
          ]
        },
        {
          "name": "stderr",
          "output_type": "stream",
          "text": [
            "INFO:root:[0] Ed: 28800, train_loss: 1.47336, acc: 0.39115\n"
          ]
        },
        {
          "name": "stdout",
          "output_type": "stream",
          "text": [
            "[INFO 2025-02-16 03:31:20,309] [0] Ed: 28800, train_loss: 1.47336, acc: 0.39115\n",
            "[INFO 2025-02-16 03:31:20,309] [0] Ed: 28800, train_loss: 1.47336, acc: 0.39115\n"
          ]
        },
        {
          "name": "stderr",
          "output_type": "stream",
          "text": [
            "INFO:root:[0] Ed: 32000, train_loss: 1.46945, acc: 0.39391\n"
          ]
        },
        {
          "name": "stdout",
          "output_type": "stream",
          "text": [
            "[INFO 2025-02-16 03:31:25,759] [0] Ed: 32000, train_loss: 1.46945, acc: 0.39391\n",
            "[INFO 2025-02-16 03:31:25,759] [0] Ed: 32000, train_loss: 1.46945, acc: 0.39391\n"
          ]
        },
        {
          "name": "stderr",
          "output_type": "stream",
          "text": [
            "INFO:root:[0] Ed: 35200, train_loss: 1.46685, acc: 0.39520\n"
          ]
        },
        {
          "name": "stdout",
          "output_type": "stream",
          "text": [
            "[INFO 2025-02-16 03:31:31,226] [0] Ed: 35200, train_loss: 1.46685, acc: 0.39520\n",
            "[INFO 2025-02-16 03:31:31,226] [0] Ed: 35200, train_loss: 1.46685, acc: 0.39520\n"
          ]
        },
        {
          "name": "stderr",
          "output_type": "stream",
          "text": [
            "INFO:root:[0] Ed: 38400, train_loss: 1.46260, acc: 0.39758\n"
          ]
        },
        {
          "name": "stdout",
          "output_type": "stream",
          "text": [
            "[INFO 2025-02-16 03:31:36,709] [0] Ed: 38400, train_loss: 1.46260, acc: 0.39758\n",
            "[INFO 2025-02-16 03:31:36,709] [0] Ed: 38400, train_loss: 1.46260, acc: 0.39758\n"
          ]
        },
        {
          "name": "stderr",
          "output_type": "stream",
          "text": [
            "INFO:root:[0] Ed: 41600, train_loss: 1.45769, acc: 0.40135\n"
          ]
        },
        {
          "name": "stdout",
          "output_type": "stream",
          "text": [
            "[INFO 2025-02-16 03:31:42,212] [0] Ed: 41600, train_loss: 1.45769, acc: 0.40135\n",
            "[INFO 2025-02-16 03:31:42,212] [0] Ed: 41600, train_loss: 1.45769, acc: 0.40135\n"
          ]
        },
        {
          "name": "stderr",
          "output_type": "stream",
          "text": [
            "INFO:root:[0] Ed: 44800, train_loss: 1.45385, acc: 0.40362\n"
          ]
        },
        {
          "name": "stdout",
          "output_type": "stream",
          "text": [
            "[INFO 2025-02-16 03:31:47,722] [0] Ed: 44800, train_loss: 1.45385, acc: 0.40362\n",
            "[INFO 2025-02-16 03:31:47,722] [0] Ed: 44800, train_loss: 1.45385, acc: 0.40362\n"
          ]
        },
        {
          "name": "stderr",
          "output_type": "stream",
          "text": [
            "INFO:root:[0] Ed: 48000, train_loss: 1.45139, acc: 0.40475\n"
          ]
        },
        {
          "name": "stdout",
          "output_type": "stream",
          "text": [
            "[INFO 2025-02-16 03:31:53,259] [0] Ed: 48000, train_loss: 1.45139, acc: 0.40475\n",
            "[INFO 2025-02-16 03:31:53,259] [0] Ed: 48000, train_loss: 1.45139, acc: 0.40475\n"
          ]
        },
        {
          "name": "stderr",
          "output_type": "stream",
          "text": [
            "INFO:root:[0] Ed: 51200, train_loss: 1.44807, acc: 0.40559\n"
          ]
        },
        {
          "name": "stdout",
          "output_type": "stream",
          "text": [
            "[INFO 2025-02-16 03:31:58,806] [0] Ed: 51200, train_loss: 1.44807, acc: 0.40559\n",
            "[INFO 2025-02-16 03:31:58,806] [0] Ed: 51200, train_loss: 1.44807, acc: 0.40559\n"
          ]
        },
        {
          "name": "stderr",
          "output_type": "stream",
          "text": [
            "INFO:root:[0] Ed: 54400, train_loss: 1.44555, acc: 0.40706\n"
          ]
        },
        {
          "name": "stdout",
          "output_type": "stream",
          "text": [
            "[INFO 2025-02-16 03:32:04,384] [0] Ed: 54400, train_loss: 1.44555, acc: 0.40706\n",
            "[INFO 2025-02-16 03:32:04,384] [0] Ed: 54400, train_loss: 1.44555, acc: 0.40706\n"
          ]
        },
        {
          "name": "stderr",
          "output_type": "stream",
          "text": [
            "INFO:root:[0] Ed: 57600, train_loss: 1.44311, acc: 0.40821\n"
          ]
        },
        {
          "name": "stdout",
          "output_type": "stream",
          "text": [
            "[INFO 2025-02-16 03:32:09,983] [0] Ed: 57600, train_loss: 1.44311, acc: 0.40821\n",
            "[INFO 2025-02-16 03:32:09,983] [0] Ed: 57600, train_loss: 1.44311, acc: 0.40821\n"
          ]
        },
        {
          "name": "stderr",
          "output_type": "stream",
          "text": [
            "INFO:root:[0] Ed: 60800, train_loss: 1.44105, acc: 0.40870\n"
          ]
        },
        {
          "name": "stdout",
          "output_type": "stream",
          "text": [
            "[INFO 2025-02-16 03:32:15,595] [0] Ed: 60800, train_loss: 1.44105, acc: 0.40870\n",
            "[INFO 2025-02-16 03:32:15,595] [0] Ed: 60800, train_loss: 1.44105, acc: 0.40870\n"
          ]
        },
        {
          "name": "stderr",
          "output_type": "stream",
          "text": [
            "INFO:root:[0] Ed: 64000, train_loss: 1.43818, acc: 0.41036\n"
          ]
        },
        {
          "name": "stdout",
          "output_type": "stream",
          "text": [
            "[INFO 2025-02-16 03:32:21,206] [0] Ed: 64000, train_loss: 1.43818, acc: 0.41036\n",
            "[INFO 2025-02-16 03:32:21,206] [0] Ed: 64000, train_loss: 1.43818, acc: 0.41036\n"
          ]
        },
        {
          "name": "stderr",
          "output_type": "stream",
          "text": [
            "INFO:root:[0] Ed: 67200, train_loss: 1.43571, acc: 0.41249\n"
          ]
        },
        {
          "name": "stdout",
          "output_type": "stream",
          "text": [
            "[INFO 2025-02-16 03:32:26,800] [0] Ed: 67200, train_loss: 1.43571, acc: 0.41249\n",
            "[INFO 2025-02-16 03:32:26,800] [0] Ed: 67200, train_loss: 1.43571, acc: 0.41249\n"
          ]
        },
        {
          "name": "stderr",
          "output_type": "stream",
          "text": [
            "INFO:root:[0] Ed: 70400, train_loss: 1.43327, acc: 0.41364\n"
          ]
        },
        {
          "name": "stdout",
          "output_type": "stream",
          "text": [
            "[INFO 2025-02-16 03:32:32,374] [0] Ed: 70400, train_loss: 1.43327, acc: 0.41364\n",
            "[INFO 2025-02-16 03:32:32,374] [0] Ed: 70400, train_loss: 1.43327, acc: 0.41364\n"
          ]
        },
        {
          "name": "stderr",
          "output_type": "stream",
          "text": [
            "INFO:root:[0] Ed: 73600, train_loss: 1.43077, acc: 0.41519\n"
          ]
        },
        {
          "name": "stdout",
          "output_type": "stream",
          "text": [
            "[INFO 2025-02-16 03:32:37,939] [0] Ed: 73600, train_loss: 1.43077, acc: 0.41519\n",
            "[INFO 2025-02-16 03:32:37,939] [0] Ed: 73600, train_loss: 1.43077, acc: 0.41519\n"
          ]
        },
        {
          "name": "stderr",
          "output_type": "stream",
          "text": [
            "INFO:root:[0] Ed: 76800, train_loss: 1.42844, acc: 0.41676\n"
          ]
        },
        {
          "name": "stdout",
          "output_type": "stream",
          "text": [
            "[INFO 2025-02-16 03:32:43,484] [0] Ed: 76800, train_loss: 1.42844, acc: 0.41676\n",
            "[INFO 2025-02-16 03:32:43,484] [0] Ed: 76800, train_loss: 1.42844, acc: 0.41676\n"
          ]
        },
        {
          "name": "stderr",
          "output_type": "stream",
          "text": [
            "INFO:root:[0] Ed: 80000, train_loss: 1.42725, acc: 0.41721\n"
          ]
        },
        {
          "name": "stdout",
          "output_type": "stream",
          "text": [
            "[INFO 2025-02-16 03:32:49,023] [0] Ed: 80000, train_loss: 1.42725, acc: 0.41721\n",
            "[INFO 2025-02-16 03:32:49,023] [0] Ed: 80000, train_loss: 1.42725, acc: 0.41721\n"
          ]
        },
        {
          "name": "stderr",
          "output_type": "stream",
          "text": [
            "INFO:root:[0] Ed: 83200, train_loss: 1.42484, acc: 0.41813\n"
          ]
        },
        {
          "name": "stdout",
          "output_type": "stream",
          "text": [
            "[INFO 2025-02-16 03:32:54,558] [0] Ed: 83200, train_loss: 1.42484, acc: 0.41813\n",
            "[INFO 2025-02-16 03:32:54,558] [0] Ed: 83200, train_loss: 1.42484, acc: 0.41813\n"
          ]
        },
        {
          "name": "stderr",
          "output_type": "stream",
          "text": [
            "INFO:root:[0] Ed: 86400, train_loss: 1.42287, acc: 0.41929\n"
          ]
        },
        {
          "name": "stdout",
          "output_type": "stream",
          "text": [
            "[INFO 2025-02-16 03:33:00,089] [0] Ed: 86400, train_loss: 1.42287, acc: 0.41929\n",
            "[INFO 2025-02-16 03:33:00,089] [0] Ed: 86400, train_loss: 1.42287, acc: 0.41929\n"
          ]
        },
        {
          "name": "stderr",
          "output_type": "stream",
          "text": [
            "INFO:root:[0] Ed: 89600, train_loss: 1.42044, acc: 0.42073\n"
          ]
        },
        {
          "name": "stdout",
          "output_type": "stream",
          "text": [
            "[INFO 2025-02-16 03:33:05,621] [0] Ed: 89600, train_loss: 1.42044, acc: 0.42073\n",
            "[INFO 2025-02-16 03:33:05,621] [0] Ed: 89600, train_loss: 1.42044, acc: 0.42073\n"
          ]
        },
        {
          "name": "stderr",
          "output_type": "stream",
          "text": [
            "INFO:root:[0] Ed: 92800, train_loss: 1.41934, acc: 0.42089\n"
          ]
        },
        {
          "name": "stdout",
          "output_type": "stream",
          "text": [
            "[INFO 2025-02-16 03:33:11,155] [0] Ed: 92800, train_loss: 1.41934, acc: 0.42089\n",
            "[INFO 2025-02-16 03:33:11,155] [0] Ed: 92800, train_loss: 1.41934, acc: 0.42089\n"
          ]
        },
        {
          "name": "stderr",
          "output_type": "stream",
          "text": [
            "INFO:root:[0] Ed: 96000, train_loss: 1.41810, acc: 0.42156\n"
          ]
        },
        {
          "name": "stdout",
          "output_type": "stream",
          "text": [
            "[INFO 2025-02-16 03:33:16,690] [0] Ed: 96000, train_loss: 1.41810, acc: 0.42156\n",
            "[INFO 2025-02-16 03:33:16,690] [0] Ed: 96000, train_loss: 1.41810, acc: 0.42156\n"
          ]
        },
        {
          "name": "stderr",
          "output_type": "stream",
          "text": [
            "INFO:root:[0] Ed: 99200, train_loss: 1.41696, acc: 0.42185\n"
          ]
        },
        {
          "name": "stdout",
          "output_type": "stream",
          "text": [
            "[INFO 2025-02-16 03:33:22,232] [0] Ed: 99200, train_loss: 1.41696, acc: 0.42185\n",
            "[INFO 2025-02-16 03:33:22,232] [0] Ed: 99200, train_loss: 1.41696, acc: 0.42185\n"
          ]
        },
        {
          "name": "stderr",
          "output_type": "stream",
          "text": [
            "INFO:root:[0] Ed: 102400, train_loss: 1.41502, acc: 0.42266\n"
          ]
        },
        {
          "name": "stdout",
          "output_type": "stream",
          "text": [
            "[INFO 2025-02-16 03:33:27,782] [0] Ed: 102400, train_loss: 1.41502, acc: 0.42266\n",
            "[INFO 2025-02-16 03:33:27,782] [0] Ed: 102400, train_loss: 1.41502, acc: 0.42266\n"
          ]
        },
        {
          "name": "stderr",
          "output_type": "stream",
          "text": [
            "INFO:root:[0] Ed: 105600, train_loss: 1.41320, acc: 0.42360\n"
          ]
        },
        {
          "name": "stdout",
          "output_type": "stream",
          "text": [
            "[INFO 2025-02-16 03:33:33,334] [0] Ed: 105600, train_loss: 1.41320, acc: 0.42360\n",
            "[INFO 2025-02-16 03:33:33,334] [0] Ed: 105600, train_loss: 1.41320, acc: 0.42360\n"
          ]
        },
        {
          "name": "stderr",
          "output_type": "stream",
          "text": [
            "INFO:root:[0] Ed: 108800, train_loss: 1.41204, acc: 0.42419\n"
          ]
        },
        {
          "name": "stdout",
          "output_type": "stream",
          "text": [
            "[INFO 2025-02-16 03:33:38,892] [0] Ed: 108800, train_loss: 1.41204, acc: 0.42419\n",
            "[INFO 2025-02-16 03:33:38,892] [0] Ed: 108800, train_loss: 1.41204, acc: 0.42419\n"
          ]
        },
        {
          "name": "stderr",
          "output_type": "stream",
          "text": [
            "INFO:root:[0] Ed: 112000, train_loss: 1.41094, acc: 0.42465\n"
          ]
        },
        {
          "name": "stdout",
          "output_type": "stream",
          "text": [
            "[INFO 2025-02-16 03:33:44,443] [0] Ed: 112000, train_loss: 1.41094, acc: 0.42465\n",
            "[INFO 2025-02-16 03:33:44,443] [0] Ed: 112000, train_loss: 1.41094, acc: 0.42465\n"
          ]
        },
        {
          "name": "stderr",
          "output_type": "stream",
          "text": [
            "INFO:root:[0] Ed: 115200, train_loss: 1.40977, acc: 0.42524\n"
          ]
        },
        {
          "name": "stdout",
          "output_type": "stream",
          "text": [
            "[INFO 2025-02-16 03:33:50,003] [0] Ed: 115200, train_loss: 1.40977, acc: 0.42524\n",
            "[INFO 2025-02-16 03:33:50,003] [0] Ed: 115200, train_loss: 1.40977, acc: 0.42524\n"
          ]
        },
        {
          "name": "stderr",
          "output_type": "stream",
          "text": [
            "INFO:root:[0] Ed: 118400, train_loss: 1.40834, acc: 0.42606\n"
          ]
        },
        {
          "name": "stdout",
          "output_type": "stream",
          "text": [
            "[INFO 2025-02-16 03:33:55,567] [0] Ed: 118400, train_loss: 1.40834, acc: 0.42606\n",
            "[INFO 2025-02-16 03:33:55,567] [0] Ed: 118400, train_loss: 1.40834, acc: 0.42606\n"
          ]
        },
        {
          "name": "stderr",
          "output_type": "stream",
          "text": [
            "INFO:root:[0] Ed: 121600, train_loss: 1.40742, acc: 0.42648\n"
          ]
        },
        {
          "name": "stdout",
          "output_type": "stream",
          "text": [
            "[INFO 2025-02-16 03:34:01,134] [0] Ed: 121600, train_loss: 1.40742, acc: 0.42648\n",
            "[INFO 2025-02-16 03:34:01,134] [0] Ed: 121600, train_loss: 1.40742, acc: 0.42648\n"
          ]
        },
        {
          "name": "stderr",
          "output_type": "stream",
          "text": [
            "INFO:root:[0] Ed: 124800, train_loss: 1.40610, acc: 0.42693\n"
          ]
        },
        {
          "name": "stdout",
          "output_type": "stream",
          "text": [
            "[INFO 2025-02-16 03:34:06,696] [0] Ed: 124800, train_loss: 1.40610, acc: 0.42693\n",
            "[INFO 2025-02-16 03:34:06,696] [0] Ed: 124800, train_loss: 1.40610, acc: 0.42693\n"
          ]
        },
        {
          "name": "stderr",
          "output_type": "stream",
          "text": [
            "INFO:root:[0] Ed: 128000, train_loss: 1.40531, acc: 0.42744\n"
          ]
        },
        {
          "name": "stdout",
          "output_type": "stream",
          "text": [
            "[INFO 2025-02-16 03:34:12,256] [0] Ed: 128000, train_loss: 1.40531, acc: 0.42744\n",
            "[INFO 2025-02-16 03:34:12,256] [0] Ed: 128000, train_loss: 1.40531, acc: 0.42744\n"
          ]
        },
        {
          "name": "stderr",
          "output_type": "stream",
          "text": [
            "INFO:root:[0] Ed: 131200, train_loss: 1.40402, acc: 0.42836\n"
          ]
        },
        {
          "name": "stdout",
          "output_type": "stream",
          "text": [
            "[INFO 2025-02-16 03:34:17,821] [0] Ed: 131200, train_loss: 1.40402, acc: 0.42836\n",
            "[INFO 2025-02-16 03:34:17,821] [0] Ed: 131200, train_loss: 1.40402, acc: 0.42836\n"
          ]
        },
        {
          "name": "stderr",
          "output_type": "stream",
          "text": [
            "INFO:root:[0] Ed: 134400, train_loss: 1.40309, acc: 0.42870\n"
          ]
        },
        {
          "name": "stdout",
          "output_type": "stream",
          "text": [
            "[INFO 2025-02-16 03:34:23,375] [0] Ed: 134400, train_loss: 1.40309, acc: 0.42870\n",
            "[INFO 2025-02-16 03:34:23,375] [0] Ed: 134400, train_loss: 1.40309, acc: 0.42870\n"
          ]
        },
        {
          "name": "stderr",
          "output_type": "stream",
          "text": [
            "INFO:root:[0] Ed: 137600, train_loss: 1.40253, acc: 0.42900\n"
          ]
        },
        {
          "name": "stdout",
          "output_type": "stream",
          "text": [
            "[INFO 2025-02-16 03:34:28,940] [0] Ed: 137600, train_loss: 1.40253, acc: 0.42900\n",
            "[INFO 2025-02-16 03:34:28,940] [0] Ed: 137600, train_loss: 1.40253, acc: 0.42900\n"
          ]
        },
        {
          "name": "stderr",
          "output_type": "stream",
          "text": [
            "INFO:root:[0] Ed: 140800, train_loss: 1.40144, acc: 0.42951\n"
          ]
        },
        {
          "name": "stdout",
          "output_type": "stream",
          "text": [
            "[INFO 2025-02-16 03:34:34,499] [0] Ed: 140800, train_loss: 1.40144, acc: 0.42951\n",
            "[INFO 2025-02-16 03:34:34,499] [0] Ed: 140800, train_loss: 1.40144, acc: 0.42951\n"
          ]
        },
        {
          "name": "stderr",
          "output_type": "stream",
          "text": [
            "INFO:root:[0] Ed: 144000, train_loss: 1.40049, acc: 0.42955\n"
          ]
        },
        {
          "name": "stdout",
          "output_type": "stream",
          "text": [
            "[INFO 2025-02-16 03:34:40,053] [0] Ed: 144000, train_loss: 1.40049, acc: 0.42955\n",
            "[INFO 2025-02-16 03:34:40,053] [0] Ed: 144000, train_loss: 1.40049, acc: 0.42955\n"
          ]
        },
        {
          "name": "stderr",
          "output_type": "stream",
          "text": [
            "INFO:root:[0] Ed: 147200, train_loss: 1.39913, acc: 0.43024\n"
          ]
        },
        {
          "name": "stdout",
          "output_type": "stream",
          "text": [
            "[INFO 2025-02-16 03:34:45,605] [0] Ed: 147200, train_loss: 1.39913, acc: 0.43024\n",
            "[INFO 2025-02-16 03:34:45,605] [0] Ed: 147200, train_loss: 1.39913, acc: 0.43024\n"
          ]
        },
        {
          "name": "stderr",
          "output_type": "stream",
          "text": [
            "INFO:root:[0] Ed: 150400, train_loss: 1.39807, acc: 0.43062\n"
          ]
        },
        {
          "name": "stdout",
          "output_type": "stream",
          "text": [
            "[INFO 2025-02-16 03:34:51,154] [0] Ed: 150400, train_loss: 1.39807, acc: 0.43062\n",
            "[INFO 2025-02-16 03:34:51,154] [0] Ed: 150400, train_loss: 1.39807, acc: 0.43062\n"
          ]
        },
        {
          "name": "stderr",
          "output_type": "stream",
          "text": [
            "INFO:root:[0] Ed: 153600, train_loss: 1.39680, acc: 0.43106\n"
          ]
        },
        {
          "name": "stdout",
          "output_type": "stream",
          "text": [
            "[INFO 2025-02-16 03:34:56,703] [0] Ed: 153600, train_loss: 1.39680, acc: 0.43106\n",
            "[INFO 2025-02-16 03:34:56,703] [0] Ed: 153600, train_loss: 1.39680, acc: 0.43106\n"
          ]
        },
        {
          "name": "stderr",
          "output_type": "stream",
          "text": [
            "INFO:root:[0] Ed: 156800, train_loss: 1.39587, acc: 0.43149\n"
          ]
        },
        {
          "name": "stdout",
          "output_type": "stream",
          "text": [
            "[INFO 2025-02-16 03:35:02,249] [0] Ed: 156800, train_loss: 1.39587, acc: 0.43149\n",
            "[INFO 2025-02-16 03:35:02,249] [0] Ed: 156800, train_loss: 1.39587, acc: 0.43149\n"
          ]
        },
        {
          "name": "stderr",
          "output_type": "stream",
          "text": [
            "INFO:root:[0] Ed: 160000, train_loss: 1.39473, acc: 0.43200\n"
          ]
        },
        {
          "name": "stdout",
          "output_type": "stream",
          "text": [
            "[INFO 2025-02-16 03:35:07,789] [0] Ed: 160000, train_loss: 1.39473, acc: 0.43200\n",
            "[INFO 2025-02-16 03:35:07,789] [0] Ed: 160000, train_loss: 1.39473, acc: 0.43200\n"
          ]
        },
        {
          "name": "stderr",
          "output_type": "stream",
          "text": [
            "INFO:root:[0] Ed: 163200, train_loss: 1.39399, acc: 0.43244\n"
          ]
        },
        {
          "name": "stdout",
          "output_type": "stream",
          "text": [
            "[INFO 2025-02-16 03:35:13,333] [0] Ed: 163200, train_loss: 1.39399, acc: 0.43244\n",
            "[INFO 2025-02-16 03:35:13,333] [0] Ed: 163200, train_loss: 1.39399, acc: 0.43244\n"
          ]
        },
        {
          "name": "stderr",
          "output_type": "stream",
          "text": [
            "INFO:root:[0] Ed: 166400, train_loss: 1.39319, acc: 0.43288\n"
          ]
        },
        {
          "name": "stdout",
          "output_type": "stream",
          "text": [
            "[INFO 2025-02-16 03:35:18,879] [0] Ed: 166400, train_loss: 1.39319, acc: 0.43288\n",
            "[INFO 2025-02-16 03:35:18,879] [0] Ed: 166400, train_loss: 1.39319, acc: 0.43288\n"
          ]
        },
        {
          "name": "stderr",
          "output_type": "stream",
          "text": [
            "INFO:root:[0] Ed: 169600, train_loss: 1.39251, acc: 0.43339\n"
          ]
        },
        {
          "name": "stdout",
          "output_type": "stream",
          "text": [
            "[INFO 2025-02-16 03:35:24,422] [0] Ed: 169600, train_loss: 1.39251, acc: 0.43339\n",
            "[INFO 2025-02-16 03:35:24,422] [0] Ed: 169600, train_loss: 1.39251, acc: 0.43339\n"
          ]
        },
        {
          "name": "stderr",
          "output_type": "stream",
          "text": [
            "INFO:root:[0] Ed: 172800, train_loss: 1.39168, acc: 0.43388\n"
          ]
        },
        {
          "name": "stdout",
          "output_type": "stream",
          "text": [
            "[INFO 2025-02-16 03:35:29,969] [0] Ed: 172800, train_loss: 1.39168, acc: 0.43388\n",
            "[INFO 2025-02-16 03:35:29,969] [0] Ed: 172800, train_loss: 1.39168, acc: 0.43388\n"
          ]
        },
        {
          "name": "stderr",
          "output_type": "stream",
          "text": [
            "INFO:root:[0] Ed: 176000, train_loss: 1.39078, acc: 0.43445\n"
          ]
        },
        {
          "name": "stdout",
          "output_type": "stream",
          "text": [
            "[INFO 2025-02-16 03:35:35,518] [0] Ed: 176000, train_loss: 1.39078, acc: 0.43445\n",
            "[INFO 2025-02-16 03:35:35,518] [0] Ed: 176000, train_loss: 1.39078, acc: 0.43445\n"
          ]
        },
        {
          "name": "stderr",
          "output_type": "stream",
          "text": [
            "INFO:root:[0] Ed: 179200, train_loss: 1.38999, acc: 0.43480\n"
          ]
        },
        {
          "name": "stdout",
          "output_type": "stream",
          "text": [
            "[INFO 2025-02-16 03:35:41,068] [0] Ed: 179200, train_loss: 1.38999, acc: 0.43480\n",
            "[INFO 2025-02-16 03:35:41,068] [0] Ed: 179200, train_loss: 1.38999, acc: 0.43480\n"
          ]
        },
        {
          "name": "stderr",
          "output_type": "stream",
          "text": [
            "INFO:root:[0] Ed: 182400, train_loss: 1.38938, acc: 0.43518\n"
          ]
        },
        {
          "name": "stdout",
          "output_type": "stream",
          "text": [
            "[INFO 2025-02-16 03:35:46,610] [0] Ed: 182400, train_loss: 1.38938, acc: 0.43518\n",
            "[INFO 2025-02-16 03:35:46,610] [0] Ed: 182400, train_loss: 1.38938, acc: 0.43518\n"
          ]
        },
        {
          "name": "stderr",
          "output_type": "stream",
          "text": [
            "INFO:root:[0] Ed: 185600, train_loss: 1.38852, acc: 0.43554\n"
          ]
        },
        {
          "name": "stdout",
          "output_type": "stream",
          "text": [
            "[INFO 2025-02-16 03:35:52,160] [0] Ed: 185600, train_loss: 1.38852, acc: 0.43554\n",
            "[INFO 2025-02-16 03:35:52,160] [0] Ed: 185600, train_loss: 1.38852, acc: 0.43554\n"
          ]
        },
        {
          "name": "stderr",
          "output_type": "stream",
          "text": [
            "INFO:root:[0] Ed: 188800, train_loss: 1.38783, acc: 0.43579\n"
          ]
        },
        {
          "name": "stdout",
          "output_type": "stream",
          "text": [
            "[INFO 2025-02-16 03:35:57,707] [0] Ed: 188800, train_loss: 1.38783, acc: 0.43579\n",
            "[INFO 2025-02-16 03:35:57,707] [0] Ed: 188800, train_loss: 1.38783, acc: 0.43579\n"
          ]
        },
        {
          "name": "stderr",
          "output_type": "stream",
          "text": [
            "INFO:root:[0] Ed: 192000, train_loss: 1.38741, acc: 0.43595\n"
          ]
        },
        {
          "name": "stdout",
          "output_type": "stream",
          "text": [
            "[INFO 2025-02-16 03:36:03,246] [0] Ed: 192000, train_loss: 1.38741, acc: 0.43595\n",
            "[INFO 2025-02-16 03:36:03,246] [0] Ed: 192000, train_loss: 1.38741, acc: 0.43595\n"
          ]
        },
        {
          "name": "stderr",
          "output_type": "stream",
          "text": [
            "INFO:root:[0] Ed: 195200, train_loss: 1.38659, acc: 0.43626\n"
          ]
        },
        {
          "name": "stdout",
          "output_type": "stream",
          "text": [
            "[INFO 2025-02-16 03:36:08,791] [0] Ed: 195200, train_loss: 1.38659, acc: 0.43626\n",
            "[INFO 2025-02-16 03:36:08,791] [0] Ed: 195200, train_loss: 1.38659, acc: 0.43626\n"
          ]
        },
        {
          "name": "stderr",
          "output_type": "stream",
          "text": [
            "INFO:root:[0] Ed: 198400, train_loss: 1.38608, acc: 0.43661\n"
          ]
        },
        {
          "name": "stdout",
          "output_type": "stream",
          "text": [
            "[INFO 2025-02-16 03:36:14,335] [0] Ed: 198400, train_loss: 1.38608, acc: 0.43661\n",
            "[INFO 2025-02-16 03:36:14,335] [0] Ed: 198400, train_loss: 1.38608, acc: 0.43661\n"
          ]
        },
        {
          "name": "stderr",
          "output_type": "stream",
          "text": [
            "INFO:root:[0] Ed: 201600, train_loss: 1.38531, acc: 0.43701\n"
          ]
        },
        {
          "name": "stdout",
          "output_type": "stream",
          "text": [
            "[INFO 2025-02-16 03:36:19,882] [0] Ed: 201600, train_loss: 1.38531, acc: 0.43701\n",
            "[INFO 2025-02-16 03:36:19,882] [0] Ed: 201600, train_loss: 1.38531, acc: 0.43701\n"
          ]
        },
        {
          "name": "stderr",
          "output_type": "stream",
          "text": [
            "INFO:root:[0] Ed: 204800, train_loss: 1.38493, acc: 0.43723\n"
          ]
        },
        {
          "name": "stdout",
          "output_type": "stream",
          "text": [
            "[INFO 2025-02-16 03:36:25,424] [0] Ed: 204800, train_loss: 1.38493, acc: 0.43723\n",
            "[INFO 2025-02-16 03:36:25,424] [0] Ed: 204800, train_loss: 1.38493, acc: 0.43723\n"
          ]
        },
        {
          "name": "stderr",
          "output_type": "stream",
          "text": [
            "INFO:root:[0] Ed: 208000, train_loss: 1.38442, acc: 0.43750\n"
          ]
        },
        {
          "name": "stdout",
          "output_type": "stream",
          "text": [
            "[INFO 2025-02-16 03:36:30,968] [0] Ed: 208000, train_loss: 1.38442, acc: 0.43750\n",
            "[INFO 2025-02-16 03:36:30,968] [0] Ed: 208000, train_loss: 1.38442, acc: 0.43750\n"
          ]
        },
        {
          "name": "stderr",
          "output_type": "stream",
          "text": [
            "INFO:root:[0] Ed: 211200, train_loss: 1.38393, acc: 0.43763\n"
          ]
        },
        {
          "name": "stdout",
          "output_type": "stream",
          "text": [
            "[INFO 2025-02-16 03:36:36,510] [0] Ed: 211200, train_loss: 1.38393, acc: 0.43763\n",
            "[INFO 2025-02-16 03:36:36,510] [0] Ed: 211200, train_loss: 1.38393, acc: 0.43763\n"
          ]
        },
        {
          "name": "stderr",
          "output_type": "stream",
          "text": [
            "INFO:root:[0] Ed: 214400, train_loss: 1.38338, acc: 0.43793\n"
          ]
        },
        {
          "name": "stdout",
          "output_type": "stream",
          "text": [
            "[INFO 2025-02-16 03:36:42,060] [0] Ed: 214400, train_loss: 1.38338, acc: 0.43793\n",
            "[INFO 2025-02-16 03:36:42,060] [0] Ed: 214400, train_loss: 1.38338, acc: 0.43793\n"
          ]
        },
        {
          "name": "stderr",
          "output_type": "stream",
          "text": [
            "INFO:root:[0] Ed: 217600, train_loss: 1.38292, acc: 0.43809\n"
          ]
        },
        {
          "name": "stdout",
          "output_type": "stream",
          "text": [
            "[INFO 2025-02-16 03:36:47,603] [0] Ed: 217600, train_loss: 1.38292, acc: 0.43809\n",
            "[INFO 2025-02-16 03:36:47,603] [0] Ed: 217600, train_loss: 1.38292, acc: 0.43809\n"
          ]
        },
        {
          "name": "stderr",
          "output_type": "stream",
          "text": [
            "INFO:root:[0] Ed: 220800, train_loss: 1.38218, acc: 0.43840\n"
          ]
        },
        {
          "name": "stdout",
          "output_type": "stream",
          "text": [
            "[INFO 2025-02-16 03:36:53,145] [0] Ed: 220800, train_loss: 1.38218, acc: 0.43840\n",
            "[INFO 2025-02-16 03:36:53,145] [0] Ed: 220800, train_loss: 1.38218, acc: 0.43840\n"
          ]
        },
        {
          "name": "stderr",
          "output_type": "stream",
          "text": [
            "INFO:root:[0] Ed: 224000, train_loss: 1.38144, acc: 0.43873\n"
          ]
        },
        {
          "name": "stdout",
          "output_type": "stream",
          "text": [
            "[INFO 2025-02-16 03:36:58,689] [0] Ed: 224000, train_loss: 1.38144, acc: 0.43873\n",
            "[INFO 2025-02-16 03:36:58,689] [0] Ed: 224000, train_loss: 1.38144, acc: 0.43873\n"
          ]
        },
        {
          "name": "stderr",
          "output_type": "stream",
          "text": [
            "INFO:root:[0] Ed: 227200, train_loss: 1.38070, acc: 0.43923\n"
          ]
        },
        {
          "name": "stdout",
          "output_type": "stream",
          "text": [
            "[INFO 2025-02-16 03:37:04,233] [0] Ed: 227200, train_loss: 1.38070, acc: 0.43923\n",
            "[INFO 2025-02-16 03:37:04,233] [0] Ed: 227200, train_loss: 1.38070, acc: 0.43923\n"
          ]
        },
        {
          "name": "stderr",
          "output_type": "stream",
          "text": [
            "INFO:root:[0] Ed: 230400, train_loss: 1.38004, acc: 0.43943\n"
          ]
        },
        {
          "name": "stdout",
          "output_type": "stream",
          "text": [
            "[INFO 2025-02-16 03:37:09,782] [0] Ed: 230400, train_loss: 1.38004, acc: 0.43943\n",
            "[INFO 2025-02-16 03:37:09,782] [0] Ed: 230400, train_loss: 1.38004, acc: 0.43943\n"
          ]
        },
        {
          "name": "stderr",
          "output_type": "stream",
          "text": [
            "INFO:root:[0] Ed: 233600, train_loss: 1.37901, acc: 0.43997\n"
          ]
        },
        {
          "name": "stdout",
          "output_type": "stream",
          "text": [
            "[INFO 2025-02-16 03:37:15,328] [0] Ed: 233600, train_loss: 1.37901, acc: 0.43997\n",
            "[INFO 2025-02-16 03:37:15,328] [0] Ed: 233600, train_loss: 1.37901, acc: 0.43997\n"
          ]
        },
        {
          "name": "stderr",
          "output_type": "stream",
          "text": [
            "INFO:root:Training finish.\n"
          ]
        },
        {
          "name": "stdout",
          "output_type": "stream",
          "text": [
            "[INFO 2025-02-16 03:37:19,944] Training finish.\n",
            "[INFO 2025-02-16 03:37:19,944] Training finish.\n"
          ]
        },
        {
          "name": "stderr",
          "output_type": "stream",
          "text": [
            "INFO:root:Model saved to /content/model/epoch-1.pt.\n"
          ]
        },
        {
          "name": "stdout",
          "output_type": "stream",
          "text": [
            "[INFO 2025-02-16 03:37:20,072] Model saved to /content/model/epoch-1.pt.\n",
            "[INFO 2025-02-16 03:37:20,072] Model saved to /content/model/epoch-1.pt.\n"
          ]
        },
        {
          "name": "stderr",
          "output_type": "stream",
          "text": [
            "INFO:root:[0] Ed: 0, train_loss: inf, acc: inf\n"
          ]
        },
        {
          "name": "stdout",
          "output_type": "stream",
          "text": [
            "[INFO 2025-02-16 03:37:20,142] [0] Ed: 0, train_loss: inf, acc: inf\n",
            "[INFO 2025-02-16 03:37:20,142] [0] Ed: 0, train_loss: inf, acc: inf\n"
          ]
        },
        {
          "name": "stderr",
          "output_type": "stream",
          "text": [
            "INFO:root:[0] Ed: 3200, train_loss: 1.36175, acc: 0.45969\n"
          ]
        },
        {
          "name": "stdout",
          "output_type": "stream",
          "text": [
            "[INFO 2025-02-16 03:37:25,690] [0] Ed: 3200, train_loss: 1.36175, acc: 0.45969\n",
            "[INFO 2025-02-16 03:37:25,690] [0] Ed: 3200, train_loss: 1.36175, acc: 0.45969\n"
          ]
        },
        {
          "name": "stderr",
          "output_type": "stream",
          "text": [
            "INFO:root:[0] Ed: 6400, train_loss: 1.34318, acc: 0.46047\n"
          ]
        },
        {
          "name": "stdout",
          "output_type": "stream",
          "text": [
            "[INFO 2025-02-16 03:37:31,247] [0] Ed: 6400, train_loss: 1.34318, acc: 0.46047\n",
            "[INFO 2025-02-16 03:37:31,247] [0] Ed: 6400, train_loss: 1.34318, acc: 0.46047\n"
          ]
        },
        {
          "name": "stderr",
          "output_type": "stream",
          "text": [
            "INFO:root:[0] Ed: 9600, train_loss: 1.33769, acc: 0.46104\n"
          ]
        },
        {
          "name": "stdout",
          "output_type": "stream",
          "text": [
            "[INFO 2025-02-16 03:37:36,797] [0] Ed: 9600, train_loss: 1.33769, acc: 0.46104\n",
            "[INFO 2025-02-16 03:37:36,797] [0] Ed: 9600, train_loss: 1.33769, acc: 0.46104\n"
          ]
        },
        {
          "name": "stderr",
          "output_type": "stream",
          "text": [
            "INFO:root:[0] Ed: 12800, train_loss: 1.33106, acc: 0.46531\n"
          ]
        },
        {
          "name": "stdout",
          "output_type": "stream",
          "text": [
            "[INFO 2025-02-16 03:37:42,351] [0] Ed: 12800, train_loss: 1.33106, acc: 0.46531\n",
            "[INFO 2025-02-16 03:37:42,351] [0] Ed: 12800, train_loss: 1.33106, acc: 0.46531\n"
          ]
        },
        {
          "name": "stderr",
          "output_type": "stream",
          "text": [
            "INFO:root:[0] Ed: 16000, train_loss: 1.33406, acc: 0.46225\n"
          ]
        },
        {
          "name": "stdout",
          "output_type": "stream",
          "text": [
            "[INFO 2025-02-16 03:37:47,905] [0] Ed: 16000, train_loss: 1.33406, acc: 0.46225\n",
            "[INFO 2025-02-16 03:37:47,905] [0] Ed: 16000, train_loss: 1.33406, acc: 0.46225\n"
          ]
        },
        {
          "name": "stderr",
          "output_type": "stream",
          "text": [
            "INFO:root:[0] Ed: 19200, train_loss: 1.33395, acc: 0.46068\n"
          ]
        },
        {
          "name": "stdout",
          "output_type": "stream",
          "text": [
            "[INFO 2025-02-16 03:37:53,460] [0] Ed: 19200, train_loss: 1.33395, acc: 0.46068\n",
            "[INFO 2025-02-16 03:37:53,460] [0] Ed: 19200, train_loss: 1.33395, acc: 0.46068\n"
          ]
        },
        {
          "name": "stderr",
          "output_type": "stream",
          "text": [
            "INFO:root:[0] Ed: 22400, train_loss: 1.33248, acc: 0.46138\n"
          ]
        },
        {
          "name": "stdout",
          "output_type": "stream",
          "text": [
            "[INFO 2025-02-16 03:37:59,016] [0] Ed: 22400, train_loss: 1.33248, acc: 0.46138\n",
            "[INFO 2025-02-16 03:37:59,016] [0] Ed: 22400, train_loss: 1.33248, acc: 0.46138\n"
          ]
        },
        {
          "name": "stderr",
          "output_type": "stream",
          "text": [
            "INFO:root:[0] Ed: 25600, train_loss: 1.33211, acc: 0.46203\n"
          ]
        },
        {
          "name": "stdout",
          "output_type": "stream",
          "text": [
            "[INFO 2025-02-16 03:38:04,574] [0] Ed: 25600, train_loss: 1.33211, acc: 0.46203\n",
            "[INFO 2025-02-16 03:38:04,574] [0] Ed: 25600, train_loss: 1.33211, acc: 0.46203\n"
          ]
        },
        {
          "name": "stderr",
          "output_type": "stream",
          "text": [
            "INFO:root:[0] Ed: 28800, train_loss: 1.33232, acc: 0.46194\n"
          ]
        },
        {
          "name": "stdout",
          "output_type": "stream",
          "text": [
            "[INFO 2025-02-16 03:38:10,122] [0] Ed: 28800, train_loss: 1.33232, acc: 0.46194\n",
            "[INFO 2025-02-16 03:38:10,122] [0] Ed: 28800, train_loss: 1.33232, acc: 0.46194\n"
          ]
        },
        {
          "name": "stderr",
          "output_type": "stream",
          "text": [
            "INFO:root:[0] Ed: 32000, train_loss: 1.33233, acc: 0.46150\n"
          ]
        },
        {
          "name": "stdout",
          "output_type": "stream",
          "text": [
            "[INFO 2025-02-16 03:38:15,683] [0] Ed: 32000, train_loss: 1.33233, acc: 0.46150\n",
            "[INFO 2025-02-16 03:38:15,683] [0] Ed: 32000, train_loss: 1.33233, acc: 0.46150\n"
          ]
        },
        {
          "name": "stderr",
          "output_type": "stream",
          "text": [
            "INFO:root:[0] Ed: 35200, train_loss: 1.33361, acc: 0.46060\n"
          ]
        },
        {
          "name": "stdout",
          "output_type": "stream",
          "text": [
            "[INFO 2025-02-16 03:38:21,243] [0] Ed: 35200, train_loss: 1.33361, acc: 0.46060\n",
            "[INFO 2025-02-16 03:38:21,243] [0] Ed: 35200, train_loss: 1.33361, acc: 0.46060\n"
          ]
        },
        {
          "name": "stderr",
          "output_type": "stream",
          "text": [
            "INFO:root:[0] Ed: 38400, train_loss: 1.33304, acc: 0.46063\n"
          ]
        },
        {
          "name": "stdout",
          "output_type": "stream",
          "text": [
            "[INFO 2025-02-16 03:38:26,797] [0] Ed: 38400, train_loss: 1.33304, acc: 0.46063\n",
            "[INFO 2025-02-16 03:38:26,797] [0] Ed: 38400, train_loss: 1.33304, acc: 0.46063\n"
          ]
        },
        {
          "name": "stderr",
          "output_type": "stream",
          "text": [
            "INFO:root:[0] Ed: 41600, train_loss: 1.33040, acc: 0.46238\n"
          ]
        },
        {
          "name": "stdout",
          "output_type": "stream",
          "text": [
            "[INFO 2025-02-16 03:38:32,353] [0] Ed: 41600, train_loss: 1.33040, acc: 0.46238\n",
            "[INFO 2025-02-16 03:38:32,353] [0] Ed: 41600, train_loss: 1.33040, acc: 0.46238\n"
          ]
        },
        {
          "name": "stderr",
          "output_type": "stream",
          "text": [
            "INFO:root:[0] Ed: 44800, train_loss: 1.32968, acc: 0.46306\n"
          ]
        },
        {
          "name": "stdout",
          "output_type": "stream",
          "text": [
            "[INFO 2025-02-16 03:38:37,912] [0] Ed: 44800, train_loss: 1.32968, acc: 0.46306\n",
            "[INFO 2025-02-16 03:38:37,912] [0] Ed: 44800, train_loss: 1.32968, acc: 0.46306\n"
          ]
        },
        {
          "name": "stderr",
          "output_type": "stream",
          "text": [
            "INFO:root:[0] Ed: 48000, train_loss: 1.32990, acc: 0.46319\n"
          ]
        },
        {
          "name": "stdout",
          "output_type": "stream",
          "text": [
            "[INFO 2025-02-16 03:38:43,465] [0] Ed: 48000, train_loss: 1.32990, acc: 0.46319\n",
            "[INFO 2025-02-16 03:38:43,465] [0] Ed: 48000, train_loss: 1.32990, acc: 0.46319\n"
          ]
        },
        {
          "name": "stderr",
          "output_type": "stream",
          "text": [
            "INFO:root:[0] Ed: 51200, train_loss: 1.32895, acc: 0.46355\n"
          ]
        },
        {
          "name": "stdout",
          "output_type": "stream",
          "text": [
            "[INFO 2025-02-16 03:38:49,022] [0] Ed: 51200, train_loss: 1.32895, acc: 0.46355\n",
            "[INFO 2025-02-16 03:38:49,022] [0] Ed: 51200, train_loss: 1.32895, acc: 0.46355\n"
          ]
        },
        {
          "name": "stderr",
          "output_type": "stream",
          "text": [
            "INFO:root:[0] Ed: 54400, train_loss: 1.32819, acc: 0.46426\n"
          ]
        },
        {
          "name": "stdout",
          "output_type": "stream",
          "text": [
            "[INFO 2025-02-16 03:38:54,575] [0] Ed: 54400, train_loss: 1.32819, acc: 0.46426\n",
            "[INFO 2025-02-16 03:38:54,575] [0] Ed: 54400, train_loss: 1.32819, acc: 0.46426\n"
          ]
        },
        {
          "name": "stderr",
          "output_type": "stream",
          "text": [
            "INFO:root:[0] Ed: 57600, train_loss: 1.32766, acc: 0.46443\n"
          ]
        },
        {
          "name": "stdout",
          "output_type": "stream",
          "text": [
            "[INFO 2025-02-16 03:39:00,124] [0] Ed: 57600, train_loss: 1.32766, acc: 0.46443\n",
            "[INFO 2025-02-16 03:39:00,124] [0] Ed: 57600, train_loss: 1.32766, acc: 0.46443\n"
          ]
        },
        {
          "name": "stderr",
          "output_type": "stream",
          "text": [
            "INFO:root:[0] Ed: 60800, train_loss: 1.32749, acc: 0.46428\n"
          ]
        },
        {
          "name": "stdout",
          "output_type": "stream",
          "text": [
            "[INFO 2025-02-16 03:39:05,669] [0] Ed: 60800, train_loss: 1.32749, acc: 0.46428\n",
            "[INFO 2025-02-16 03:39:05,669] [0] Ed: 60800, train_loss: 1.32749, acc: 0.46428\n"
          ]
        },
        {
          "name": "stderr",
          "output_type": "stream",
          "text": [
            "INFO:root:[0] Ed: 64000, train_loss: 1.32653, acc: 0.46480\n"
          ]
        },
        {
          "name": "stdout",
          "output_type": "stream",
          "text": [
            "[INFO 2025-02-16 03:39:11,214] [0] Ed: 64000, train_loss: 1.32653, acc: 0.46480\n",
            "[INFO 2025-02-16 03:39:11,214] [0] Ed: 64000, train_loss: 1.32653, acc: 0.46480\n"
          ]
        },
        {
          "name": "stderr",
          "output_type": "stream",
          "text": [
            "INFO:root:[0] Ed: 67200, train_loss: 1.32592, acc: 0.46585\n"
          ]
        },
        {
          "name": "stdout",
          "output_type": "stream",
          "text": [
            "[INFO 2025-02-16 03:39:16,763] [0] Ed: 67200, train_loss: 1.32592, acc: 0.46585\n",
            "[INFO 2025-02-16 03:39:16,763] [0] Ed: 67200, train_loss: 1.32592, acc: 0.46585\n"
          ]
        },
        {
          "name": "stderr",
          "output_type": "stream",
          "text": [
            "INFO:root:[0] Ed: 70400, train_loss: 1.32495, acc: 0.46639\n"
          ]
        },
        {
          "name": "stdout",
          "output_type": "stream",
          "text": [
            "[INFO 2025-02-16 03:39:22,299] [0] Ed: 70400, train_loss: 1.32495, acc: 0.46639\n",
            "[INFO 2025-02-16 03:39:22,299] [0] Ed: 70400, train_loss: 1.32495, acc: 0.46639\n"
          ]
        },
        {
          "name": "stderr",
          "output_type": "stream",
          "text": [
            "INFO:root:[0] Ed: 73600, train_loss: 1.32428, acc: 0.46606\n"
          ]
        },
        {
          "name": "stdout",
          "output_type": "stream",
          "text": [
            "[INFO 2025-02-16 03:39:27,845] [0] Ed: 73600, train_loss: 1.32428, acc: 0.46606\n",
            "[INFO 2025-02-16 03:39:27,845] [0] Ed: 73600, train_loss: 1.32428, acc: 0.46606\n"
          ]
        },
        {
          "name": "stderr",
          "output_type": "stream",
          "text": [
            "INFO:root:[0] Ed: 76800, train_loss: 1.32319, acc: 0.46664\n"
          ]
        },
        {
          "name": "stdout",
          "output_type": "stream",
          "text": [
            "[INFO 2025-02-16 03:39:33,390] [0] Ed: 76800, train_loss: 1.32319, acc: 0.46664\n",
            "[INFO 2025-02-16 03:39:33,390] [0] Ed: 76800, train_loss: 1.32319, acc: 0.46664\n"
          ]
        },
        {
          "name": "stderr",
          "output_type": "stream",
          "text": [
            "INFO:root:[0] Ed: 80000, train_loss: 1.32326, acc: 0.46685\n"
          ]
        },
        {
          "name": "stdout",
          "output_type": "stream",
          "text": [
            "[INFO 2025-02-16 03:39:38,933] [0] Ed: 80000, train_loss: 1.32326, acc: 0.46685\n",
            "[INFO 2025-02-16 03:39:38,933] [0] Ed: 80000, train_loss: 1.32326, acc: 0.46685\n"
          ]
        },
        {
          "name": "stderr",
          "output_type": "stream",
          "text": [
            "INFO:root:[0] Ed: 83200, train_loss: 1.32217, acc: 0.46775\n"
          ]
        },
        {
          "name": "stdout",
          "output_type": "stream",
          "text": [
            "[INFO 2025-02-16 03:39:44,475] [0] Ed: 83200, train_loss: 1.32217, acc: 0.46775\n",
            "[INFO 2025-02-16 03:39:44,475] [0] Ed: 83200, train_loss: 1.32217, acc: 0.46775\n"
          ]
        },
        {
          "name": "stderr",
          "output_type": "stream",
          "text": [
            "INFO:root:[0] Ed: 86400, train_loss: 1.32177, acc: 0.46811\n"
          ]
        },
        {
          "name": "stdout",
          "output_type": "stream",
          "text": [
            "[INFO 2025-02-16 03:39:50,018] [0] Ed: 86400, train_loss: 1.32177, acc: 0.46811\n",
            "[INFO 2025-02-16 03:39:50,018] [0] Ed: 86400, train_loss: 1.32177, acc: 0.46811\n"
          ]
        },
        {
          "name": "stderr",
          "output_type": "stream",
          "text": [
            "INFO:root:[0] Ed: 89600, train_loss: 1.32093, acc: 0.46844\n"
          ]
        },
        {
          "name": "stdout",
          "output_type": "stream",
          "text": [
            "[INFO 2025-02-16 03:39:55,559] [0] Ed: 89600, train_loss: 1.32093, acc: 0.46844\n",
            "[INFO 2025-02-16 03:39:55,559] [0] Ed: 89600, train_loss: 1.32093, acc: 0.46844\n"
          ]
        },
        {
          "name": "stderr",
          "output_type": "stream",
          "text": [
            "INFO:root:[0] Ed: 92800, train_loss: 1.32120, acc: 0.46797\n"
          ]
        },
        {
          "name": "stdout",
          "output_type": "stream",
          "text": [
            "[INFO 2025-02-16 03:40:01,103] [0] Ed: 92800, train_loss: 1.32120, acc: 0.46797\n",
            "[INFO 2025-02-16 03:40:01,103] [0] Ed: 92800, train_loss: 1.32120, acc: 0.46797\n"
          ]
        },
        {
          "name": "stderr",
          "output_type": "stream",
          "text": [
            "INFO:root:[0] Ed: 96000, train_loss: 1.32096, acc: 0.46792\n"
          ]
        },
        {
          "name": "stdout",
          "output_type": "stream",
          "text": [
            "[INFO 2025-02-16 03:40:06,659] [0] Ed: 96000, train_loss: 1.32096, acc: 0.46792\n",
            "[INFO 2025-02-16 03:40:06,659] [0] Ed: 96000, train_loss: 1.32096, acc: 0.46792\n"
          ]
        },
        {
          "name": "stderr",
          "output_type": "stream",
          "text": [
            "INFO:root:[0] Ed: 99200, train_loss: 1.32108, acc: 0.46788\n"
          ]
        },
        {
          "name": "stdout",
          "output_type": "stream",
          "text": [
            "[INFO 2025-02-16 03:40:12,206] [0] Ed: 99200, train_loss: 1.32108, acc: 0.46788\n",
            "[INFO 2025-02-16 03:40:12,206] [0] Ed: 99200, train_loss: 1.32108, acc: 0.46788\n"
          ]
        },
        {
          "name": "stderr",
          "output_type": "stream",
          "text": [
            "INFO:root:[0] Ed: 102400, train_loss: 1.32021, acc: 0.46812\n"
          ]
        },
        {
          "name": "stdout",
          "output_type": "stream",
          "text": [
            "[INFO 2025-02-16 03:40:17,755] [0] Ed: 102400, train_loss: 1.32021, acc: 0.46812\n",
            "[INFO 2025-02-16 03:40:17,755] [0] Ed: 102400, train_loss: 1.32021, acc: 0.46812\n"
          ]
        },
        {
          "name": "stderr",
          "output_type": "stream",
          "text": [
            "INFO:root:[0] Ed: 105600, train_loss: 1.31915, acc: 0.46868\n"
          ]
        },
        {
          "name": "stdout",
          "output_type": "stream",
          "text": [
            "[INFO 2025-02-16 03:40:23,306] [0] Ed: 105600, train_loss: 1.31915, acc: 0.46868\n",
            "[INFO 2025-02-16 03:40:23,306] [0] Ed: 105600, train_loss: 1.31915, acc: 0.46868\n"
          ]
        },
        {
          "name": "stderr",
          "output_type": "stream",
          "text": [
            "INFO:root:[0] Ed: 108800, train_loss: 1.31914, acc: 0.46866\n"
          ]
        },
        {
          "name": "stdout",
          "output_type": "stream",
          "text": [
            "[INFO 2025-02-16 03:40:28,852] [0] Ed: 108800, train_loss: 1.31914, acc: 0.46866\n",
            "[INFO 2025-02-16 03:40:28,852] [0] Ed: 108800, train_loss: 1.31914, acc: 0.46866\n"
          ]
        },
        {
          "name": "stderr",
          "output_type": "stream",
          "text": [
            "INFO:root:[0] Ed: 112000, train_loss: 1.31907, acc: 0.46854\n"
          ]
        },
        {
          "name": "stdout",
          "output_type": "stream",
          "text": [
            "[INFO 2025-02-16 03:40:34,394] [0] Ed: 112000, train_loss: 1.31907, acc: 0.46854\n",
            "[INFO 2025-02-16 03:40:34,394] [0] Ed: 112000, train_loss: 1.31907, acc: 0.46854\n"
          ]
        },
        {
          "name": "stderr",
          "output_type": "stream",
          "text": [
            "INFO:root:[0] Ed: 115200, train_loss: 1.31872, acc: 0.46880\n"
          ]
        },
        {
          "name": "stdout",
          "output_type": "stream",
          "text": [
            "[INFO 2025-02-16 03:40:39,939] [0] Ed: 115200, train_loss: 1.31872, acc: 0.46880\n",
            "[INFO 2025-02-16 03:40:39,939] [0] Ed: 115200, train_loss: 1.31872, acc: 0.46880\n"
          ]
        },
        {
          "name": "stderr",
          "output_type": "stream",
          "text": [
            "INFO:root:[0] Ed: 118400, train_loss: 1.31808, acc: 0.46924\n"
          ]
        },
        {
          "name": "stdout",
          "output_type": "stream",
          "text": [
            "[INFO 2025-02-16 03:40:45,490] [0] Ed: 118400, train_loss: 1.31808, acc: 0.46924\n",
            "[INFO 2025-02-16 03:40:45,490] [0] Ed: 118400, train_loss: 1.31808, acc: 0.46924\n"
          ]
        },
        {
          "name": "stderr",
          "output_type": "stream",
          "text": [
            "INFO:root:[0] Ed: 121600, train_loss: 1.31786, acc: 0.46920\n"
          ]
        },
        {
          "name": "stdout",
          "output_type": "stream",
          "text": [
            "[INFO 2025-02-16 03:40:51,046] [0] Ed: 121600, train_loss: 1.31786, acc: 0.46920\n",
            "[INFO 2025-02-16 03:40:51,046] [0] Ed: 121600, train_loss: 1.31786, acc: 0.46920\n"
          ]
        },
        {
          "name": "stderr",
          "output_type": "stream",
          "text": [
            "INFO:root:[0] Ed: 124800, train_loss: 1.31751, acc: 0.46918\n"
          ]
        },
        {
          "name": "stdout",
          "output_type": "stream",
          "text": [
            "[INFO 2025-02-16 03:40:56,598] [0] Ed: 124800, train_loss: 1.31751, acc: 0.46918\n",
            "[INFO 2025-02-16 03:40:56,598] [0] Ed: 124800, train_loss: 1.31751, acc: 0.46918\n"
          ]
        },
        {
          "name": "stderr",
          "output_type": "stream",
          "text": [
            "INFO:root:[0] Ed: 128000, train_loss: 1.31768, acc: 0.46917\n"
          ]
        },
        {
          "name": "stdout",
          "output_type": "stream",
          "text": [
            "[INFO 2025-02-16 03:41:02,145] [0] Ed: 128000, train_loss: 1.31768, acc: 0.46917\n",
            "[INFO 2025-02-16 03:41:02,145] [0] Ed: 128000, train_loss: 1.31768, acc: 0.46917\n"
          ]
        },
        {
          "name": "stderr",
          "output_type": "stream",
          "text": [
            "INFO:root:[0] Ed: 131200, train_loss: 1.31721, acc: 0.46959\n"
          ]
        },
        {
          "name": "stdout",
          "output_type": "stream",
          "text": [
            "[INFO 2025-02-16 03:41:07,702] [0] Ed: 131200, train_loss: 1.31721, acc: 0.46959\n",
            "[INFO 2025-02-16 03:41:07,702] [0] Ed: 131200, train_loss: 1.31721, acc: 0.46959\n"
          ]
        },
        {
          "name": "stderr",
          "output_type": "stream",
          "text": [
            "INFO:root:[0] Ed: 134400, train_loss: 1.31714, acc: 0.46949\n"
          ]
        },
        {
          "name": "stdout",
          "output_type": "stream",
          "text": [
            "[INFO 2025-02-16 03:41:13,248] [0] Ed: 134400, train_loss: 1.31714, acc: 0.46949\n",
            "[INFO 2025-02-16 03:41:13,248] [0] Ed: 134400, train_loss: 1.31714, acc: 0.46949\n"
          ]
        },
        {
          "name": "stderr",
          "output_type": "stream",
          "text": [
            "INFO:root:[0] Ed: 137600, train_loss: 1.31737, acc: 0.46945\n"
          ]
        },
        {
          "name": "stdout",
          "output_type": "stream",
          "text": [
            "[INFO 2025-02-16 03:41:18,806] [0] Ed: 137600, train_loss: 1.31737, acc: 0.46945\n",
            "[INFO 2025-02-16 03:41:18,806] [0] Ed: 137600, train_loss: 1.31737, acc: 0.46945\n"
          ]
        },
        {
          "name": "stderr",
          "output_type": "stream",
          "text": [
            "INFO:root:[0] Ed: 140800, train_loss: 1.31711, acc: 0.46979\n"
          ]
        },
        {
          "name": "stdout",
          "output_type": "stream",
          "text": [
            "[INFO 2025-02-16 03:41:24,354] [0] Ed: 140800, train_loss: 1.31711, acc: 0.46979\n",
            "[INFO 2025-02-16 03:41:24,354] [0] Ed: 140800, train_loss: 1.31711, acc: 0.46979\n"
          ]
        },
        {
          "name": "stderr",
          "output_type": "stream",
          "text": [
            "INFO:root:[0] Ed: 144000, train_loss: 1.31697, acc: 0.46938\n"
          ]
        },
        {
          "name": "stdout",
          "output_type": "stream",
          "text": [
            "[INFO 2025-02-16 03:41:29,901] [0] Ed: 144000, train_loss: 1.31697, acc: 0.46938\n",
            "[INFO 2025-02-16 03:41:29,901] [0] Ed: 144000, train_loss: 1.31697, acc: 0.46938\n"
          ]
        },
        {
          "name": "stderr",
          "output_type": "stream",
          "text": [
            "INFO:root:[0] Ed: 147200, train_loss: 1.31652, acc: 0.46955\n"
          ]
        },
        {
          "name": "stdout",
          "output_type": "stream",
          "text": [
            "[INFO 2025-02-16 03:41:35,446] [0] Ed: 147200, train_loss: 1.31652, acc: 0.46955\n",
            "[INFO 2025-02-16 03:41:35,446] [0] Ed: 147200, train_loss: 1.31652, acc: 0.46955\n"
          ]
        },
        {
          "name": "stderr",
          "output_type": "stream",
          "text": [
            "INFO:root:[0] Ed: 150400, train_loss: 1.31610, acc: 0.46971\n"
          ]
        },
        {
          "name": "stdout",
          "output_type": "stream",
          "text": [
            "[INFO 2025-02-16 03:41:40,992] [0] Ed: 150400, train_loss: 1.31610, acc: 0.46971\n",
            "[INFO 2025-02-16 03:41:40,992] [0] Ed: 150400, train_loss: 1.31610, acc: 0.46971\n"
          ]
        },
        {
          "name": "stderr",
          "output_type": "stream",
          "text": [
            "INFO:root:[0] Ed: 153600, train_loss: 1.31544, acc: 0.46985\n"
          ]
        },
        {
          "name": "stdout",
          "output_type": "stream",
          "text": [
            "[INFO 2025-02-16 03:41:46,535] [0] Ed: 153600, train_loss: 1.31544, acc: 0.46985\n",
            "[INFO 2025-02-16 03:41:46,535] [0] Ed: 153600, train_loss: 1.31544, acc: 0.46985\n"
          ]
        },
        {
          "name": "stderr",
          "output_type": "stream",
          "text": [
            "INFO:root:[0] Ed: 156800, train_loss: 1.31504, acc: 0.46996\n"
          ]
        },
        {
          "name": "stdout",
          "output_type": "stream",
          "text": [
            "[INFO 2025-02-16 03:41:52,078] [0] Ed: 156800, train_loss: 1.31504, acc: 0.46996\n",
            "[INFO 2025-02-16 03:41:52,078] [0] Ed: 156800, train_loss: 1.31504, acc: 0.46996\n"
          ]
        },
        {
          "name": "stderr",
          "output_type": "stream",
          "text": [
            "INFO:root:[0] Ed: 160000, train_loss: 1.31456, acc: 0.47021\n"
          ]
        },
        {
          "name": "stdout",
          "output_type": "stream",
          "text": [
            "[INFO 2025-02-16 03:41:57,618] [0] Ed: 160000, train_loss: 1.31456, acc: 0.47021\n",
            "[INFO 2025-02-16 03:41:57,618] [0] Ed: 160000, train_loss: 1.31456, acc: 0.47021\n"
          ]
        },
        {
          "name": "stderr",
          "output_type": "stream",
          "text": [
            "INFO:root:[0] Ed: 163200, train_loss: 1.31430, acc: 0.47041\n"
          ]
        },
        {
          "name": "stdout",
          "output_type": "stream",
          "text": [
            "[INFO 2025-02-16 03:42:03,158] [0] Ed: 163200, train_loss: 1.31430, acc: 0.47041\n",
            "[INFO 2025-02-16 03:42:03,158] [0] Ed: 163200, train_loss: 1.31430, acc: 0.47041\n"
          ]
        },
        {
          "name": "stderr",
          "output_type": "stream",
          "text": [
            "INFO:root:[0] Ed: 166400, train_loss: 1.31426, acc: 0.47040\n"
          ]
        },
        {
          "name": "stdout",
          "output_type": "stream",
          "text": [
            "[INFO 2025-02-16 03:42:08,704] [0] Ed: 166400, train_loss: 1.31426, acc: 0.47040\n",
            "[INFO 2025-02-16 03:42:08,704] [0] Ed: 166400, train_loss: 1.31426, acc: 0.47040\n"
          ]
        },
        {
          "name": "stderr",
          "output_type": "stream",
          "text": [
            "INFO:root:[0] Ed: 169600, train_loss: 1.31423, acc: 0.47069\n"
          ]
        },
        {
          "name": "stdout",
          "output_type": "stream",
          "text": [
            "[INFO 2025-02-16 03:42:14,251] [0] Ed: 169600, train_loss: 1.31423, acc: 0.47069\n",
            "[INFO 2025-02-16 03:42:14,251] [0] Ed: 169600, train_loss: 1.31423, acc: 0.47069\n"
          ]
        },
        {
          "name": "stderr",
          "output_type": "stream",
          "text": [
            "INFO:root:[0] Ed: 172800, train_loss: 1.31386, acc: 0.47079\n"
          ]
        },
        {
          "name": "stdout",
          "output_type": "stream",
          "text": [
            "[INFO 2025-02-16 03:42:19,798] [0] Ed: 172800, train_loss: 1.31386, acc: 0.47079\n",
            "[INFO 2025-02-16 03:42:19,798] [0] Ed: 172800, train_loss: 1.31386, acc: 0.47079\n"
          ]
        },
        {
          "name": "stderr",
          "output_type": "stream",
          "text": [
            "INFO:root:[0] Ed: 176000, train_loss: 1.31359, acc: 0.47108\n"
          ]
        },
        {
          "name": "stdout",
          "output_type": "stream",
          "text": [
            "[INFO 2025-02-16 03:42:25,344] [0] Ed: 176000, train_loss: 1.31359, acc: 0.47108\n",
            "[INFO 2025-02-16 03:42:25,344] [0] Ed: 176000, train_loss: 1.31359, acc: 0.47108\n"
          ]
        },
        {
          "name": "stderr",
          "output_type": "stream",
          "text": [
            "INFO:root:[0] Ed: 179200, train_loss: 1.31333, acc: 0.47112\n"
          ]
        },
        {
          "name": "stdout",
          "output_type": "stream",
          "text": [
            "[INFO 2025-02-16 03:42:30,892] [0] Ed: 179200, train_loss: 1.31333, acc: 0.47112\n",
            "[INFO 2025-02-16 03:42:30,892] [0] Ed: 179200, train_loss: 1.31333, acc: 0.47112\n"
          ]
        },
        {
          "name": "stderr",
          "output_type": "stream",
          "text": [
            "INFO:root:[0] Ed: 182400, train_loss: 1.31322, acc: 0.47134\n"
          ]
        },
        {
          "name": "stdout",
          "output_type": "stream",
          "text": [
            "[INFO 2025-02-16 03:42:36,436] [0] Ed: 182400, train_loss: 1.31322, acc: 0.47134\n",
            "[INFO 2025-02-16 03:42:36,436] [0] Ed: 182400, train_loss: 1.31322, acc: 0.47134\n"
          ]
        },
        {
          "name": "stderr",
          "output_type": "stream",
          "text": [
            "INFO:root:[0] Ed: 185600, train_loss: 1.31279, acc: 0.47157\n"
          ]
        },
        {
          "name": "stdout",
          "output_type": "stream",
          "text": [
            "[INFO 2025-02-16 03:42:41,993] [0] Ed: 185600, train_loss: 1.31279, acc: 0.47157\n",
            "[INFO 2025-02-16 03:42:41,993] [0] Ed: 185600, train_loss: 1.31279, acc: 0.47157\n"
          ]
        },
        {
          "name": "stderr",
          "output_type": "stream",
          "text": [
            "INFO:root:[0] Ed: 188800, train_loss: 1.31272, acc: 0.47172\n"
          ]
        },
        {
          "name": "stdout",
          "output_type": "stream",
          "text": [
            "[INFO 2025-02-16 03:42:47,540] [0] Ed: 188800, train_loss: 1.31272, acc: 0.47172\n",
            "[INFO 2025-02-16 03:42:47,540] [0] Ed: 188800, train_loss: 1.31272, acc: 0.47172\n"
          ]
        },
        {
          "name": "stderr",
          "output_type": "stream",
          "text": [
            "INFO:root:[0] Ed: 192000, train_loss: 1.31283, acc: 0.47152\n"
          ]
        },
        {
          "name": "stdout",
          "output_type": "stream",
          "text": [
            "[INFO 2025-02-16 03:42:53,086] [0] Ed: 192000, train_loss: 1.31283, acc: 0.47152\n",
            "[INFO 2025-02-16 03:42:53,086] [0] Ed: 192000, train_loss: 1.31283, acc: 0.47152\n"
          ]
        },
        {
          "name": "stderr",
          "output_type": "stream",
          "text": [
            "INFO:root:[0] Ed: 195200, train_loss: 1.31258, acc: 0.47169\n"
          ]
        },
        {
          "name": "stdout",
          "output_type": "stream",
          "text": [
            "[INFO 2025-02-16 03:42:58,635] [0] Ed: 195200, train_loss: 1.31258, acc: 0.47169\n",
            "[INFO 2025-02-16 03:42:58,635] [0] Ed: 195200, train_loss: 1.31258, acc: 0.47169\n"
          ]
        },
        {
          "name": "stderr",
          "output_type": "stream",
          "text": [
            "INFO:root:[0] Ed: 198400, train_loss: 1.31255, acc: 0.47182\n"
          ]
        },
        {
          "name": "stdout",
          "output_type": "stream",
          "text": [
            "[INFO 2025-02-16 03:43:04,182] [0] Ed: 198400, train_loss: 1.31255, acc: 0.47182\n",
            "[INFO 2025-02-16 03:43:04,182] [0] Ed: 198400, train_loss: 1.31255, acc: 0.47182\n"
          ]
        },
        {
          "name": "stderr",
          "output_type": "stream",
          "text": [
            "INFO:root:[0] Ed: 201600, train_loss: 1.31221, acc: 0.47201\n"
          ]
        },
        {
          "name": "stdout",
          "output_type": "stream",
          "text": [
            "[INFO 2025-02-16 03:43:09,731] [0] Ed: 201600, train_loss: 1.31221, acc: 0.47201\n",
            "[INFO 2025-02-16 03:43:09,731] [0] Ed: 201600, train_loss: 1.31221, acc: 0.47201\n"
          ]
        },
        {
          "name": "stderr",
          "output_type": "stream",
          "text": [
            "INFO:root:[0] Ed: 204800, train_loss: 1.31238, acc: 0.47169\n"
          ]
        },
        {
          "name": "stdout",
          "output_type": "stream",
          "text": [
            "[INFO 2025-02-16 03:43:15,278] [0] Ed: 204800, train_loss: 1.31238, acc: 0.47169\n",
            "[INFO 2025-02-16 03:43:15,278] [0] Ed: 204800, train_loss: 1.31238, acc: 0.47169\n"
          ]
        },
        {
          "name": "stderr",
          "output_type": "stream",
          "text": [
            "INFO:root:[0] Ed: 208000, train_loss: 1.31241, acc: 0.47167\n"
          ]
        },
        {
          "name": "stdout",
          "output_type": "stream",
          "text": [
            "[INFO 2025-02-16 03:43:20,827] [0] Ed: 208000, train_loss: 1.31241, acc: 0.47167\n",
            "[INFO 2025-02-16 03:43:20,827] [0] Ed: 208000, train_loss: 1.31241, acc: 0.47167\n"
          ]
        },
        {
          "name": "stderr",
          "output_type": "stream",
          "text": [
            "INFO:root:[0] Ed: 211200, train_loss: 1.31235, acc: 0.47168\n"
          ]
        },
        {
          "name": "stdout",
          "output_type": "stream",
          "text": [
            "[INFO 2025-02-16 03:43:26,380] [0] Ed: 211200, train_loss: 1.31235, acc: 0.47168\n",
            "[INFO 2025-02-16 03:43:26,380] [0] Ed: 211200, train_loss: 1.31235, acc: 0.47168\n"
          ]
        },
        {
          "name": "stderr",
          "output_type": "stream",
          "text": [
            "INFO:root:[0] Ed: 214400, train_loss: 1.31222, acc: 0.47188\n"
          ]
        },
        {
          "name": "stdout",
          "output_type": "stream",
          "text": [
            "[INFO 2025-02-16 03:43:31,934] [0] Ed: 214400, train_loss: 1.31222, acc: 0.47188\n",
            "[INFO 2025-02-16 03:43:31,934] [0] Ed: 214400, train_loss: 1.31222, acc: 0.47188\n"
          ]
        },
        {
          "name": "stderr",
          "output_type": "stream",
          "text": [
            "INFO:root:[0] Ed: 217600, train_loss: 1.31209, acc: 0.47186\n"
          ]
        },
        {
          "name": "stdout",
          "output_type": "stream",
          "text": [
            "[INFO 2025-02-16 03:43:37,485] [0] Ed: 217600, train_loss: 1.31209, acc: 0.47186\n",
            "[INFO 2025-02-16 03:43:37,485] [0] Ed: 217600, train_loss: 1.31209, acc: 0.47186\n"
          ]
        },
        {
          "name": "stderr",
          "output_type": "stream",
          "text": [
            "INFO:root:[0] Ed: 220800, train_loss: 1.31179, acc: 0.47188\n"
          ]
        },
        {
          "name": "stdout",
          "output_type": "stream",
          "text": [
            "[INFO 2025-02-16 03:43:43,031] [0] Ed: 220800, train_loss: 1.31179, acc: 0.47188\n",
            "[INFO 2025-02-16 03:43:43,031] [0] Ed: 220800, train_loss: 1.31179, acc: 0.47188\n"
          ]
        },
        {
          "name": "stderr",
          "output_type": "stream",
          "text": [
            "INFO:root:[0] Ed: 224000, train_loss: 1.31141, acc: 0.47206\n"
          ]
        },
        {
          "name": "stdout",
          "output_type": "stream",
          "text": [
            "[INFO 2025-02-16 03:43:48,583] [0] Ed: 224000, train_loss: 1.31141, acc: 0.47206\n",
            "[INFO 2025-02-16 03:43:48,583] [0] Ed: 224000, train_loss: 1.31141, acc: 0.47206\n"
          ]
        },
        {
          "name": "stderr",
          "output_type": "stream",
          "text": [
            "INFO:root:[0] Ed: 227200, train_loss: 1.31104, acc: 0.47221\n"
          ]
        },
        {
          "name": "stdout",
          "output_type": "stream",
          "text": [
            "[INFO 2025-02-16 03:43:54,127] [0] Ed: 227200, train_loss: 1.31104, acc: 0.47221\n",
            "[INFO 2025-02-16 03:43:54,127] [0] Ed: 227200, train_loss: 1.31104, acc: 0.47221\n"
          ]
        },
        {
          "name": "stderr",
          "output_type": "stream",
          "text": [
            "INFO:root:[0] Ed: 230400, train_loss: 1.31072, acc: 0.47236\n"
          ]
        },
        {
          "name": "stdout",
          "output_type": "stream",
          "text": [
            "[INFO 2025-02-16 03:43:59,671] [0] Ed: 230400, train_loss: 1.31072, acc: 0.47236\n",
            "[INFO 2025-02-16 03:43:59,671] [0] Ed: 230400, train_loss: 1.31072, acc: 0.47236\n"
          ]
        },
        {
          "name": "stderr",
          "output_type": "stream",
          "text": [
            "INFO:root:[0] Ed: 233600, train_loss: 1.30998, acc: 0.47266\n"
          ]
        },
        {
          "name": "stdout",
          "output_type": "stream",
          "text": [
            "[INFO 2025-02-16 03:44:05,219] [0] Ed: 233600, train_loss: 1.30998, acc: 0.47266\n",
            "[INFO 2025-02-16 03:44:05,219] [0] Ed: 233600, train_loss: 1.30998, acc: 0.47266\n"
          ]
        },
        {
          "name": "stderr",
          "output_type": "stream",
          "text": [
            "INFO:root:Training finish.\n"
          ]
        },
        {
          "name": "stdout",
          "output_type": "stream",
          "text": [
            "[INFO 2025-02-16 03:44:09,833] Training finish.\n",
            "[INFO 2025-02-16 03:44:09,833] Training finish.\n"
          ]
        },
        {
          "name": "stderr",
          "output_type": "stream",
          "text": [
            "INFO:root:Model saved to /content/model/epoch-2.pt.\n"
          ]
        },
        {
          "name": "stdout",
          "output_type": "stream",
          "text": [
            "[INFO 2025-02-16 03:44:09,957] Model saved to /content/model/epoch-2.pt.\n",
            "[INFO 2025-02-16 03:44:09,957] Model saved to /content/model/epoch-2.pt.\n"
          ]
        },
        {
          "name": "stderr",
          "output_type": "stream",
          "text": [
            "INFO:root:[0] Ed: 0, train_loss: inf, acc: inf\n"
          ]
        },
        {
          "name": "stdout",
          "output_type": "stream",
          "text": [
            "[INFO 2025-02-16 03:44:10,028] [0] Ed: 0, train_loss: inf, acc: inf\n",
            "[INFO 2025-02-16 03:44:10,028] [0] Ed: 0, train_loss: inf, acc: inf\n"
          ]
        },
        {
          "name": "stderr",
          "output_type": "stream",
          "text": [
            "INFO:root:[0] Ed: 3200, train_loss: 1.32502, acc: 0.47812\n"
          ]
        },
        {
          "name": "stdout",
          "output_type": "stream",
          "text": [
            "[INFO 2025-02-16 03:44:15,579] [0] Ed: 3200, train_loss: 1.32502, acc: 0.47812\n",
            "[INFO 2025-02-16 03:44:15,579] [0] Ed: 3200, train_loss: 1.32502, acc: 0.47812\n"
          ]
        },
        {
          "name": "stderr",
          "output_type": "stream",
          "text": [
            "INFO:root:[0] Ed: 6400, train_loss: 1.30326, acc: 0.48047\n"
          ]
        },
        {
          "name": "stdout",
          "output_type": "stream",
          "text": [
            "[INFO 2025-02-16 03:44:21,132] [0] Ed: 6400, train_loss: 1.30326, acc: 0.48047\n",
            "[INFO 2025-02-16 03:44:21,132] [0] Ed: 6400, train_loss: 1.30326, acc: 0.48047\n"
          ]
        },
        {
          "name": "stderr",
          "output_type": "stream",
          "text": [
            "INFO:root:[0] Ed: 9600, train_loss: 1.30096, acc: 0.48229\n"
          ]
        },
        {
          "name": "stdout",
          "output_type": "stream",
          "text": [
            "[INFO 2025-02-16 03:44:26,686] [0] Ed: 9600, train_loss: 1.30096, acc: 0.48229\n",
            "[INFO 2025-02-16 03:44:26,686] [0] Ed: 9600, train_loss: 1.30096, acc: 0.48229\n"
          ]
        },
        {
          "name": "stderr",
          "output_type": "stream",
          "text": [
            "INFO:root:[0] Ed: 12800, train_loss: 1.29474, acc: 0.48328\n"
          ]
        },
        {
          "name": "stdout",
          "output_type": "stream",
          "text": [
            "[INFO 2025-02-16 03:44:32,238] [0] Ed: 12800, train_loss: 1.29474, acc: 0.48328\n",
            "[INFO 2025-02-16 03:44:32,238] [0] Ed: 12800, train_loss: 1.29474, acc: 0.48328\n"
          ]
        },
        {
          "name": "stderr",
          "output_type": "stream",
          "text": [
            "INFO:root:[0] Ed: 16000, train_loss: 1.29895, acc: 0.47913\n"
          ]
        },
        {
          "name": "stdout",
          "output_type": "stream",
          "text": [
            "[INFO 2025-02-16 03:44:37,797] [0] Ed: 16000, train_loss: 1.29895, acc: 0.47913\n",
            "[INFO 2025-02-16 03:44:37,797] [0] Ed: 16000, train_loss: 1.29895, acc: 0.47913\n"
          ]
        },
        {
          "name": "stderr",
          "output_type": "stream",
          "text": [
            "INFO:root:[0] Ed: 19200, train_loss: 1.29798, acc: 0.47953\n"
          ]
        },
        {
          "name": "stdout",
          "output_type": "stream",
          "text": [
            "[INFO 2025-02-16 03:44:43,354] [0] Ed: 19200, train_loss: 1.29798, acc: 0.47953\n",
            "[INFO 2025-02-16 03:44:43,354] [0] Ed: 19200, train_loss: 1.29798, acc: 0.47953\n"
          ]
        },
        {
          "name": "stderr",
          "output_type": "stream",
          "text": [
            "INFO:root:[0] Ed: 22400, train_loss: 1.29628, acc: 0.47915\n"
          ]
        },
        {
          "name": "stdout",
          "output_type": "stream",
          "text": [
            "[INFO 2025-02-16 03:44:48,913] [0] Ed: 22400, train_loss: 1.29628, acc: 0.47915\n",
            "[INFO 2025-02-16 03:44:48,913] [0] Ed: 22400, train_loss: 1.29628, acc: 0.47915\n"
          ]
        },
        {
          "name": "stderr",
          "output_type": "stream",
          "text": [
            "INFO:root:[0] Ed: 25600, train_loss: 1.29637, acc: 0.47953\n"
          ]
        },
        {
          "name": "stdout",
          "output_type": "stream",
          "text": [
            "[INFO 2025-02-16 03:44:54,468] [0] Ed: 25600, train_loss: 1.29637, acc: 0.47953\n",
            "[INFO 2025-02-16 03:44:54,468] [0] Ed: 25600, train_loss: 1.29637, acc: 0.47953\n"
          ]
        },
        {
          "name": "stderr",
          "output_type": "stream",
          "text": [
            "INFO:root:[0] Ed: 28800, train_loss: 1.29611, acc: 0.48014\n"
          ]
        },
        {
          "name": "stdout",
          "output_type": "stream",
          "text": [
            "[INFO 2025-02-16 03:45:00,020] [0] Ed: 28800, train_loss: 1.29611, acc: 0.48014\n",
            "[INFO 2025-02-16 03:45:00,020] [0] Ed: 28800, train_loss: 1.29611, acc: 0.48014\n"
          ]
        },
        {
          "name": "stderr",
          "output_type": "stream",
          "text": [
            "INFO:root:[0] Ed: 32000, train_loss: 1.29636, acc: 0.47888\n"
          ]
        },
        {
          "name": "stdout",
          "output_type": "stream",
          "text": [
            "[INFO 2025-02-16 03:45:05,579] [0] Ed: 32000, train_loss: 1.29636, acc: 0.47888\n",
            "[INFO 2025-02-16 03:45:05,579] [0] Ed: 32000, train_loss: 1.29636, acc: 0.47888\n"
          ]
        },
        {
          "name": "stderr",
          "output_type": "stream",
          "text": [
            "INFO:root:[0] Ed: 35200, train_loss: 1.29815, acc: 0.47776\n"
          ]
        },
        {
          "name": "stdout",
          "output_type": "stream",
          "text": [
            "[INFO 2025-02-16 03:45:11,128] [0] Ed: 35200, train_loss: 1.29815, acc: 0.47776\n",
            "[INFO 2025-02-16 03:45:11,128] [0] Ed: 35200, train_loss: 1.29815, acc: 0.47776\n"
          ]
        },
        {
          "name": "stderr",
          "output_type": "stream",
          "text": [
            "INFO:root:[0] Ed: 38400, train_loss: 1.29709, acc: 0.47771\n"
          ]
        },
        {
          "name": "stdout",
          "output_type": "stream",
          "text": [
            "[INFO 2025-02-16 03:45:16,678] [0] Ed: 38400, train_loss: 1.29709, acc: 0.47771\n",
            "[INFO 2025-02-16 03:45:16,678] [0] Ed: 38400, train_loss: 1.29709, acc: 0.47771\n"
          ]
        },
        {
          "name": "stderr",
          "output_type": "stream",
          "text": [
            "INFO:root:[0] Ed: 41600, train_loss: 1.29414, acc: 0.47938\n"
          ]
        },
        {
          "name": "stdout",
          "output_type": "stream",
          "text": [
            "[INFO 2025-02-16 03:45:22,223] [0] Ed: 41600, train_loss: 1.29414, acc: 0.47938\n",
            "[INFO 2025-02-16 03:45:22,223] [0] Ed: 41600, train_loss: 1.29414, acc: 0.47938\n"
          ]
        },
        {
          "name": "stderr",
          "output_type": "stream",
          "text": [
            "INFO:root:[0] Ed: 44800, train_loss: 1.29351, acc: 0.47942\n"
          ]
        },
        {
          "name": "stdout",
          "output_type": "stream",
          "text": [
            "[INFO 2025-02-16 03:45:27,777] [0] Ed: 44800, train_loss: 1.29351, acc: 0.47942\n",
            "[INFO 2025-02-16 03:45:27,777] [0] Ed: 44800, train_loss: 1.29351, acc: 0.47942\n"
          ]
        },
        {
          "name": "stderr",
          "output_type": "stream",
          "text": [
            "INFO:root:[0] Ed: 48000, train_loss: 1.29379, acc: 0.47940\n"
          ]
        },
        {
          "name": "stdout",
          "output_type": "stream",
          "text": [
            "[INFO 2025-02-16 03:45:33,320] [0] Ed: 48000, train_loss: 1.29379, acc: 0.47940\n",
            "[INFO 2025-02-16 03:45:33,320] [0] Ed: 48000, train_loss: 1.29379, acc: 0.47940\n"
          ]
        },
        {
          "name": "stderr",
          "output_type": "stream",
          "text": [
            "INFO:root:[0] Ed: 51200, train_loss: 1.29267, acc: 0.47943\n"
          ]
        },
        {
          "name": "stdout",
          "output_type": "stream",
          "text": [
            "[INFO 2025-02-16 03:45:38,862] [0] Ed: 51200, train_loss: 1.29267, acc: 0.47943\n",
            "[INFO 2025-02-16 03:45:38,862] [0] Ed: 51200, train_loss: 1.29267, acc: 0.47943\n"
          ]
        },
        {
          "name": "stderr",
          "output_type": "stream",
          "text": [
            "INFO:root:[0] Ed: 54400, train_loss: 1.29221, acc: 0.47993\n"
          ]
        },
        {
          "name": "stdout",
          "output_type": "stream",
          "text": [
            "[INFO 2025-02-16 03:45:44,410] [0] Ed: 54400, train_loss: 1.29221, acc: 0.47993\n",
            "[INFO 2025-02-16 03:45:44,410] [0] Ed: 54400, train_loss: 1.29221, acc: 0.47993\n"
          ]
        },
        {
          "name": "stderr",
          "output_type": "stream",
          "text": [
            "INFO:root:[0] Ed: 57600, train_loss: 1.29157, acc: 0.48010\n"
          ]
        },
        {
          "name": "stdout",
          "output_type": "stream",
          "text": [
            "[INFO 2025-02-16 03:45:49,957] [0] Ed: 57600, train_loss: 1.29157, acc: 0.48010\n",
            "[INFO 2025-02-16 03:45:49,957] [0] Ed: 57600, train_loss: 1.29157, acc: 0.48010\n"
          ]
        },
        {
          "name": "stderr",
          "output_type": "stream",
          "text": [
            "INFO:root:[0] Ed: 60800, train_loss: 1.29156, acc: 0.48002\n"
          ]
        },
        {
          "name": "stdout",
          "output_type": "stream",
          "text": [
            "[INFO 2025-02-16 03:45:55,494] [0] Ed: 60800, train_loss: 1.29156, acc: 0.48002\n",
            "[INFO 2025-02-16 03:45:55,494] [0] Ed: 60800, train_loss: 1.29156, acc: 0.48002\n"
          ]
        },
        {
          "name": "stderr",
          "output_type": "stream",
          "text": [
            "INFO:root:[0] Ed: 64000, train_loss: 1.29058, acc: 0.48039\n"
          ]
        },
        {
          "name": "stdout",
          "output_type": "stream",
          "text": [
            "[INFO 2025-02-16 03:46:01,043] [0] Ed: 64000, train_loss: 1.29058, acc: 0.48039\n",
            "[INFO 2025-02-16 03:46:01,043] [0] Ed: 64000, train_loss: 1.29058, acc: 0.48039\n"
          ]
        },
        {
          "name": "stderr",
          "output_type": "stream",
          "text": [
            "INFO:root:[0] Ed: 67200, train_loss: 1.28987, acc: 0.48122\n"
          ]
        },
        {
          "name": "stdout",
          "output_type": "stream",
          "text": [
            "[INFO 2025-02-16 03:46:06,589] [0] Ed: 67200, train_loss: 1.28987, acc: 0.48122\n",
            "[INFO 2025-02-16 03:46:06,589] [0] Ed: 67200, train_loss: 1.28987, acc: 0.48122\n"
          ]
        },
        {
          "name": "stderr",
          "output_type": "stream",
          "text": [
            "INFO:root:[0] Ed: 70400, train_loss: 1.28907, acc: 0.48118\n"
          ]
        },
        {
          "name": "stdout",
          "output_type": "stream",
          "text": [
            "[INFO 2025-02-16 03:46:12,133] [0] Ed: 70400, train_loss: 1.28907, acc: 0.48118\n",
            "[INFO 2025-02-16 03:46:12,133] [0] Ed: 70400, train_loss: 1.28907, acc: 0.48118\n"
          ]
        },
        {
          "name": "stderr",
          "output_type": "stream",
          "text": [
            "INFO:root:[0] Ed: 73600, train_loss: 1.28862, acc: 0.48088\n"
          ]
        },
        {
          "name": "stdout",
          "output_type": "stream",
          "text": [
            "[INFO 2025-02-16 03:46:17,675] [0] Ed: 73600, train_loss: 1.28862, acc: 0.48088\n",
            "[INFO 2025-02-16 03:46:17,675] [0] Ed: 73600, train_loss: 1.28862, acc: 0.48088\n"
          ]
        },
        {
          "name": "stderr",
          "output_type": "stream",
          "text": [
            "INFO:root:[0] Ed: 76800, train_loss: 1.28745, acc: 0.48164\n"
          ]
        },
        {
          "name": "stdout",
          "output_type": "stream",
          "text": [
            "[INFO 2025-02-16 03:46:23,216] [0] Ed: 76800, train_loss: 1.28745, acc: 0.48164\n",
            "[INFO 2025-02-16 03:46:23,216] [0] Ed: 76800, train_loss: 1.28745, acc: 0.48164\n"
          ]
        },
        {
          "name": "stderr",
          "output_type": "stream",
          "text": [
            "INFO:root:[0] Ed: 80000, train_loss: 1.28772, acc: 0.48146\n"
          ]
        },
        {
          "name": "stdout",
          "output_type": "stream",
          "text": [
            "[INFO 2025-02-16 03:46:28,767] [0] Ed: 80000, train_loss: 1.28772, acc: 0.48146\n",
            "[INFO 2025-02-16 03:46:28,767] [0] Ed: 80000, train_loss: 1.28772, acc: 0.48146\n"
          ]
        },
        {
          "name": "stderr",
          "output_type": "stream",
          "text": [
            "INFO:root:[0] Ed: 83200, train_loss: 1.28679, acc: 0.48236\n"
          ]
        },
        {
          "name": "stdout",
          "output_type": "stream",
          "text": [
            "[INFO 2025-02-16 03:46:34,315] [0] Ed: 83200, train_loss: 1.28679, acc: 0.48236\n",
            "[INFO 2025-02-16 03:46:34,315] [0] Ed: 83200, train_loss: 1.28679, acc: 0.48236\n"
          ]
        },
        {
          "name": "stderr",
          "output_type": "stream",
          "text": [
            "INFO:root:[0] Ed: 86400, train_loss: 1.28642, acc: 0.48281\n"
          ]
        },
        {
          "name": "stdout",
          "output_type": "stream",
          "text": [
            "[INFO 2025-02-16 03:46:39,865] [0] Ed: 86400, train_loss: 1.28642, acc: 0.48281\n",
            "[INFO 2025-02-16 03:46:39,865] [0] Ed: 86400, train_loss: 1.28642, acc: 0.48281\n"
          ]
        },
        {
          "name": "stderr",
          "output_type": "stream",
          "text": [
            "INFO:root:[0] Ed: 89600, train_loss: 1.28520, acc: 0.48345\n"
          ]
        },
        {
          "name": "stdout",
          "output_type": "stream",
          "text": [
            "[INFO 2025-02-16 03:46:45,408] [0] Ed: 89600, train_loss: 1.28520, acc: 0.48345\n",
            "[INFO 2025-02-16 03:46:45,408] [0] Ed: 89600, train_loss: 1.28520, acc: 0.48345\n"
          ]
        },
        {
          "name": "stderr",
          "output_type": "stream",
          "text": [
            "INFO:root:[0] Ed: 92800, train_loss: 1.28582, acc: 0.48280\n"
          ]
        },
        {
          "name": "stdout",
          "output_type": "stream",
          "text": [
            "[INFO 2025-02-16 03:46:50,954] [0] Ed: 92800, train_loss: 1.28582, acc: 0.48280\n",
            "[INFO 2025-02-16 03:46:50,954] [0] Ed: 92800, train_loss: 1.28582, acc: 0.48280\n"
          ]
        },
        {
          "name": "stderr",
          "output_type": "stream",
          "text": [
            "INFO:root:[0] Ed: 96000, train_loss: 1.28559, acc: 0.48291\n"
          ]
        },
        {
          "name": "stdout",
          "output_type": "stream",
          "text": [
            "[INFO 2025-02-16 03:46:56,500] [0] Ed: 96000, train_loss: 1.28559, acc: 0.48291\n",
            "[INFO 2025-02-16 03:46:56,500] [0] Ed: 96000, train_loss: 1.28559, acc: 0.48291\n"
          ]
        },
        {
          "name": "stderr",
          "output_type": "stream",
          "text": [
            "INFO:root:[0] Ed: 99200, train_loss: 1.28572, acc: 0.48284\n"
          ]
        },
        {
          "name": "stdout",
          "output_type": "stream",
          "text": [
            "[INFO 2025-02-16 03:47:02,046] [0] Ed: 99200, train_loss: 1.28572, acc: 0.48284\n",
            "[INFO 2025-02-16 03:47:02,046] [0] Ed: 99200, train_loss: 1.28572, acc: 0.48284\n"
          ]
        },
        {
          "name": "stderr",
          "output_type": "stream",
          "text": [
            "INFO:root:[0] Ed: 102400, train_loss: 1.28472, acc: 0.48318\n"
          ]
        },
        {
          "name": "stdout",
          "output_type": "stream",
          "text": [
            "[INFO 2025-02-16 03:47:07,594] [0] Ed: 102400, train_loss: 1.28472, acc: 0.48318\n",
            "[INFO 2025-02-16 03:47:07,594] [0] Ed: 102400, train_loss: 1.28472, acc: 0.48318\n"
          ]
        },
        {
          "name": "stderr",
          "output_type": "stream",
          "text": [
            "INFO:root:[0] Ed: 105600, train_loss: 1.28338, acc: 0.48379\n"
          ]
        },
        {
          "name": "stdout",
          "output_type": "stream",
          "text": [
            "[INFO 2025-02-16 03:47:13,142] [0] Ed: 105600, train_loss: 1.28338, acc: 0.48379\n",
            "[INFO 2025-02-16 03:47:13,142] [0] Ed: 105600, train_loss: 1.28338, acc: 0.48379\n"
          ]
        },
        {
          "name": "stderr",
          "output_type": "stream",
          "text": [
            "INFO:root:[0] Ed: 108800, train_loss: 1.28340, acc: 0.48376\n"
          ]
        },
        {
          "name": "stdout",
          "output_type": "stream",
          "text": [
            "[INFO 2025-02-16 03:47:18,685] [0] Ed: 108800, train_loss: 1.28340, acc: 0.48376\n",
            "[INFO 2025-02-16 03:47:18,685] [0] Ed: 108800, train_loss: 1.28340, acc: 0.48376\n"
          ]
        },
        {
          "name": "stderr",
          "output_type": "stream",
          "text": [
            "INFO:root:[0] Ed: 112000, train_loss: 1.28360, acc: 0.48377\n"
          ]
        },
        {
          "name": "stdout",
          "output_type": "stream",
          "text": [
            "[INFO 2025-02-16 03:47:24,224] [0] Ed: 112000, train_loss: 1.28360, acc: 0.48377\n",
            "[INFO 2025-02-16 03:47:24,224] [0] Ed: 112000, train_loss: 1.28360, acc: 0.48377\n"
          ]
        },
        {
          "name": "stderr",
          "output_type": "stream",
          "text": [
            "INFO:root:[0] Ed: 115200, train_loss: 1.28334, acc: 0.48408\n"
          ]
        },
        {
          "name": "stdout",
          "output_type": "stream",
          "text": [
            "[INFO 2025-02-16 03:47:29,768] [0] Ed: 115200, train_loss: 1.28334, acc: 0.48408\n",
            "[INFO 2025-02-16 03:47:29,768] [0] Ed: 115200, train_loss: 1.28334, acc: 0.48408\n"
          ]
        },
        {
          "name": "stderr",
          "output_type": "stream",
          "text": [
            "INFO:root:[0] Ed: 118400, train_loss: 1.28245, acc: 0.48440\n"
          ]
        },
        {
          "name": "stdout",
          "output_type": "stream",
          "text": [
            "[INFO 2025-02-16 03:47:35,307] [0] Ed: 118400, train_loss: 1.28245, acc: 0.48440\n",
            "[INFO 2025-02-16 03:47:35,307] [0] Ed: 118400, train_loss: 1.28245, acc: 0.48440\n"
          ]
        },
        {
          "name": "stderr",
          "output_type": "stream",
          "text": [
            "INFO:root:[0] Ed: 121600, train_loss: 1.28231, acc: 0.48436\n"
          ]
        },
        {
          "name": "stdout",
          "output_type": "stream",
          "text": [
            "[INFO 2025-02-16 03:47:40,854] [0] Ed: 121600, train_loss: 1.28231, acc: 0.48436\n",
            "[INFO 2025-02-16 03:47:40,854] [0] Ed: 121600, train_loss: 1.28231, acc: 0.48436\n"
          ]
        },
        {
          "name": "stderr",
          "output_type": "stream",
          "text": [
            "INFO:root:[0] Ed: 124800, train_loss: 1.28207, acc: 0.48442\n"
          ]
        },
        {
          "name": "stdout",
          "output_type": "stream",
          "text": [
            "[INFO 2025-02-16 03:47:46,396] [0] Ed: 124800, train_loss: 1.28207, acc: 0.48442\n",
            "[INFO 2025-02-16 03:47:46,396] [0] Ed: 124800, train_loss: 1.28207, acc: 0.48442\n"
          ]
        },
        {
          "name": "stderr",
          "output_type": "stream",
          "text": [
            "INFO:root:[0] Ed: 128000, train_loss: 1.28235, acc: 0.48440\n"
          ]
        },
        {
          "name": "stdout",
          "output_type": "stream",
          "text": [
            "[INFO 2025-02-16 03:47:51,936] [0] Ed: 128000, train_loss: 1.28235, acc: 0.48440\n",
            "[INFO 2025-02-16 03:47:51,936] [0] Ed: 128000, train_loss: 1.28235, acc: 0.48440\n"
          ]
        },
        {
          "name": "stderr",
          "output_type": "stream",
          "text": [
            "INFO:root:[0] Ed: 131200, train_loss: 1.28186, acc: 0.48466\n"
          ]
        },
        {
          "name": "stdout",
          "output_type": "stream",
          "text": [
            "[INFO 2025-02-16 03:47:57,493] [0] Ed: 131200, train_loss: 1.28186, acc: 0.48466\n",
            "[INFO 2025-02-16 03:47:57,493] [0] Ed: 131200, train_loss: 1.28186, acc: 0.48466\n"
          ]
        },
        {
          "name": "stderr",
          "output_type": "stream",
          "text": [
            "INFO:root:[0] Ed: 134400, train_loss: 1.28193, acc: 0.48447\n"
          ]
        },
        {
          "name": "stdout",
          "output_type": "stream",
          "text": [
            "[INFO 2025-02-16 03:48:03,036] [0] Ed: 134400, train_loss: 1.28193, acc: 0.48447\n",
            "[INFO 2025-02-16 03:48:03,036] [0] Ed: 134400, train_loss: 1.28193, acc: 0.48447\n"
          ]
        },
        {
          "name": "stderr",
          "output_type": "stream",
          "text": [
            "INFO:root:[0] Ed: 137600, train_loss: 1.28217, acc: 0.48443\n"
          ]
        },
        {
          "name": "stdout",
          "output_type": "stream",
          "text": [
            "[INFO 2025-02-16 03:48:08,592] [0] Ed: 137600, train_loss: 1.28217, acc: 0.48443\n",
            "[INFO 2025-02-16 03:48:08,592] [0] Ed: 137600, train_loss: 1.28217, acc: 0.48443\n"
          ]
        },
        {
          "name": "stderr",
          "output_type": "stream",
          "text": [
            "INFO:root:[0] Ed: 140800, train_loss: 1.28185, acc: 0.48460\n"
          ]
        },
        {
          "name": "stdout",
          "output_type": "stream",
          "text": [
            "[INFO 2025-02-16 03:48:14,133] [0] Ed: 140800, train_loss: 1.28185, acc: 0.48460\n",
            "[INFO 2025-02-16 03:48:14,133] [0] Ed: 140800, train_loss: 1.28185, acc: 0.48460\n"
          ]
        },
        {
          "name": "stderr",
          "output_type": "stream",
          "text": [
            "INFO:root:[0] Ed: 144000, train_loss: 1.28182, acc: 0.48420\n"
          ]
        },
        {
          "name": "stdout",
          "output_type": "stream",
          "text": [
            "[INFO 2025-02-16 03:48:19,683] [0] Ed: 144000, train_loss: 1.28182, acc: 0.48420\n",
            "[INFO 2025-02-16 03:48:19,683] [0] Ed: 144000, train_loss: 1.28182, acc: 0.48420\n"
          ]
        },
        {
          "name": "stderr",
          "output_type": "stream",
          "text": [
            "INFO:root:[0] Ed: 147200, train_loss: 1.28136, acc: 0.48439\n"
          ]
        },
        {
          "name": "stdout",
          "output_type": "stream",
          "text": [
            "[INFO 2025-02-16 03:48:25,230] [0] Ed: 147200, train_loss: 1.28136, acc: 0.48439\n",
            "[INFO 2025-02-16 03:48:25,230] [0] Ed: 147200, train_loss: 1.28136, acc: 0.48439\n"
          ]
        },
        {
          "name": "stderr",
          "output_type": "stream",
          "text": [
            "INFO:root:[0] Ed: 150400, train_loss: 1.28100, acc: 0.48459\n"
          ]
        },
        {
          "name": "stdout",
          "output_type": "stream",
          "text": [
            "[INFO 2025-02-16 03:48:30,779] [0] Ed: 150400, train_loss: 1.28100, acc: 0.48459\n",
            "[INFO 2025-02-16 03:48:30,779] [0] Ed: 150400, train_loss: 1.28100, acc: 0.48459\n"
          ]
        },
        {
          "name": "stderr",
          "output_type": "stream",
          "text": [
            "INFO:root:[0] Ed: 153600, train_loss: 1.28040, acc: 0.48482\n"
          ]
        },
        {
          "name": "stdout",
          "output_type": "stream",
          "text": [
            "[INFO 2025-02-16 03:48:36,332] [0] Ed: 153600, train_loss: 1.28040, acc: 0.48482\n",
            "[INFO 2025-02-16 03:48:36,332] [0] Ed: 153600, train_loss: 1.28040, acc: 0.48482\n"
          ]
        },
        {
          "name": "stderr",
          "output_type": "stream",
          "text": [
            "INFO:root:[0] Ed: 156800, train_loss: 1.28002, acc: 0.48492\n"
          ]
        },
        {
          "name": "stdout",
          "output_type": "stream",
          "text": [
            "[INFO 2025-02-16 03:48:41,879] [0] Ed: 156800, train_loss: 1.28002, acc: 0.48492\n",
            "[INFO 2025-02-16 03:48:41,879] [0] Ed: 156800, train_loss: 1.28002, acc: 0.48492\n"
          ]
        },
        {
          "name": "stderr",
          "output_type": "stream",
          "text": [
            "INFO:root:[0] Ed: 160000, train_loss: 1.27961, acc: 0.48530\n"
          ]
        },
        {
          "name": "stdout",
          "output_type": "stream",
          "text": [
            "[INFO 2025-02-16 03:48:47,431] [0] Ed: 160000, train_loss: 1.27961, acc: 0.48530\n",
            "[INFO 2025-02-16 03:48:47,431] [0] Ed: 160000, train_loss: 1.27961, acc: 0.48530\n"
          ]
        },
        {
          "name": "stderr",
          "output_type": "stream",
          "text": [
            "INFO:root:[0] Ed: 163200, train_loss: 1.27937, acc: 0.48550\n"
          ]
        },
        {
          "name": "stdout",
          "output_type": "stream",
          "text": [
            "[INFO 2025-02-16 03:48:52,980] [0] Ed: 163200, train_loss: 1.27937, acc: 0.48550\n",
            "[INFO 2025-02-16 03:48:52,980] [0] Ed: 163200, train_loss: 1.27937, acc: 0.48550\n"
          ]
        },
        {
          "name": "stderr",
          "output_type": "stream",
          "text": [
            "INFO:root:[0] Ed: 166400, train_loss: 1.27948, acc: 0.48550\n"
          ]
        },
        {
          "name": "stdout",
          "output_type": "stream",
          "text": [
            "[INFO 2025-02-16 03:48:58,524] [0] Ed: 166400, train_loss: 1.27948, acc: 0.48550\n",
            "[INFO 2025-02-16 03:48:58,524] [0] Ed: 166400, train_loss: 1.27948, acc: 0.48550\n"
          ]
        },
        {
          "name": "stderr",
          "output_type": "stream",
          "text": [
            "INFO:root:[0] Ed: 169600, train_loss: 1.27950, acc: 0.48575\n"
          ]
        },
        {
          "name": "stdout",
          "output_type": "stream",
          "text": [
            "[INFO 2025-02-16 03:49:04,076] [0] Ed: 169600, train_loss: 1.27950, acc: 0.48575\n",
            "[INFO 2025-02-16 03:49:04,076] [0] Ed: 169600, train_loss: 1.27950, acc: 0.48575\n"
          ]
        },
        {
          "name": "stderr",
          "output_type": "stream",
          "text": [
            "INFO:root:[0] Ed: 172800, train_loss: 1.27928, acc: 0.48582\n"
          ]
        },
        {
          "name": "stdout",
          "output_type": "stream",
          "text": [
            "[INFO 2025-02-16 03:49:09,624] [0] Ed: 172800, train_loss: 1.27928, acc: 0.48582\n",
            "[INFO 2025-02-16 03:49:09,624] [0] Ed: 172800, train_loss: 1.27928, acc: 0.48582\n"
          ]
        },
        {
          "name": "stderr",
          "output_type": "stream",
          "text": [
            "INFO:root:[0] Ed: 176000, train_loss: 1.27917, acc: 0.48599\n"
          ]
        },
        {
          "name": "stdout",
          "output_type": "stream",
          "text": [
            "[INFO 2025-02-16 03:49:15,170] [0] Ed: 176000, train_loss: 1.27917, acc: 0.48599\n",
            "[INFO 2025-02-16 03:49:15,170] [0] Ed: 176000, train_loss: 1.27917, acc: 0.48599\n"
          ]
        },
        {
          "name": "stderr",
          "output_type": "stream",
          "text": [
            "INFO:root:[0] Ed: 179200, train_loss: 1.27903, acc: 0.48606\n"
          ]
        },
        {
          "name": "stdout",
          "output_type": "stream",
          "text": [
            "[INFO 2025-02-16 03:49:20,721] [0] Ed: 179200, train_loss: 1.27903, acc: 0.48606\n",
            "[INFO 2025-02-16 03:49:20,721] [0] Ed: 179200, train_loss: 1.27903, acc: 0.48606\n"
          ]
        },
        {
          "name": "stderr",
          "output_type": "stream",
          "text": [
            "INFO:root:[0] Ed: 182400, train_loss: 1.27906, acc: 0.48600\n"
          ]
        },
        {
          "name": "stdout",
          "output_type": "stream",
          "text": [
            "[INFO 2025-02-16 03:49:26,278] [0] Ed: 182400, train_loss: 1.27906, acc: 0.48600\n",
            "[INFO 2025-02-16 03:49:26,278] [0] Ed: 182400, train_loss: 1.27906, acc: 0.48600\n"
          ]
        },
        {
          "name": "stderr",
          "output_type": "stream",
          "text": [
            "INFO:root:[0] Ed: 185600, train_loss: 1.27869, acc: 0.48609\n"
          ]
        },
        {
          "name": "stdout",
          "output_type": "stream",
          "text": [
            "[INFO 2025-02-16 03:49:31,835] [0] Ed: 185600, train_loss: 1.27869, acc: 0.48609\n",
            "[INFO 2025-02-16 03:49:31,835] [0] Ed: 185600, train_loss: 1.27869, acc: 0.48609\n"
          ]
        },
        {
          "name": "stderr",
          "output_type": "stream",
          "text": [
            "INFO:root:[0] Ed: 188800, train_loss: 1.27861, acc: 0.48642\n"
          ]
        },
        {
          "name": "stdout",
          "output_type": "stream",
          "text": [
            "[INFO 2025-02-16 03:49:37,387] [0] Ed: 188800, train_loss: 1.27861, acc: 0.48642\n",
            "[INFO 2025-02-16 03:49:37,387] [0] Ed: 188800, train_loss: 1.27861, acc: 0.48642\n"
          ]
        },
        {
          "name": "stderr",
          "output_type": "stream",
          "text": [
            "INFO:root:[0] Ed: 192000, train_loss: 1.27876, acc: 0.48629\n"
          ]
        },
        {
          "name": "stdout",
          "output_type": "stream",
          "text": [
            "[INFO 2025-02-16 03:49:42,943] [0] Ed: 192000, train_loss: 1.27876, acc: 0.48629\n",
            "[INFO 2025-02-16 03:49:42,943] [0] Ed: 192000, train_loss: 1.27876, acc: 0.48629\n"
          ]
        },
        {
          "name": "stderr",
          "output_type": "stream",
          "text": [
            "INFO:root:[0] Ed: 195200, train_loss: 1.27852, acc: 0.48636\n"
          ]
        },
        {
          "name": "stdout",
          "output_type": "stream",
          "text": [
            "[INFO 2025-02-16 03:49:48,498] [0] Ed: 195200, train_loss: 1.27852, acc: 0.48636\n",
            "[INFO 2025-02-16 03:49:48,498] [0] Ed: 195200, train_loss: 1.27852, acc: 0.48636\n"
          ]
        },
        {
          "name": "stderr",
          "output_type": "stream",
          "text": [
            "INFO:root:[0] Ed: 198400, train_loss: 1.27866, acc: 0.48647\n"
          ]
        },
        {
          "name": "stdout",
          "output_type": "stream",
          "text": [
            "[INFO 2025-02-16 03:49:54,064] [0] Ed: 198400, train_loss: 1.27866, acc: 0.48647\n",
            "[INFO 2025-02-16 03:49:54,064] [0] Ed: 198400, train_loss: 1.27866, acc: 0.48647\n"
          ]
        },
        {
          "name": "stderr",
          "output_type": "stream",
          "text": [
            "INFO:root:[0] Ed: 201600, train_loss: 1.27836, acc: 0.48662\n"
          ]
        },
        {
          "name": "stdout",
          "output_type": "stream",
          "text": [
            "[INFO 2025-02-16 03:49:59,622] [0] Ed: 201600, train_loss: 1.27836, acc: 0.48662\n",
            "[INFO 2025-02-16 03:49:59,622] [0] Ed: 201600, train_loss: 1.27836, acc: 0.48662\n"
          ]
        },
        {
          "name": "stderr",
          "output_type": "stream",
          "text": [
            "INFO:root:[0] Ed: 204800, train_loss: 1.27852, acc: 0.48636\n"
          ]
        },
        {
          "name": "stdout",
          "output_type": "stream",
          "text": [
            "[INFO 2025-02-16 03:50:05,182] [0] Ed: 204800, train_loss: 1.27852, acc: 0.48636\n",
            "[INFO 2025-02-16 03:50:05,182] [0] Ed: 204800, train_loss: 1.27852, acc: 0.48636\n"
          ]
        },
        {
          "name": "stderr",
          "output_type": "stream",
          "text": [
            "INFO:root:[0] Ed: 208000, train_loss: 1.27859, acc: 0.48639\n"
          ]
        },
        {
          "name": "stdout",
          "output_type": "stream",
          "text": [
            "[INFO 2025-02-16 03:50:10,740] [0] Ed: 208000, train_loss: 1.27859, acc: 0.48639\n",
            "[INFO 2025-02-16 03:50:10,740] [0] Ed: 208000, train_loss: 1.27859, acc: 0.48639\n"
          ]
        },
        {
          "name": "stderr",
          "output_type": "stream",
          "text": [
            "INFO:root:[0] Ed: 211200, train_loss: 1.27853, acc: 0.48639\n"
          ]
        },
        {
          "name": "stdout",
          "output_type": "stream",
          "text": [
            "[INFO 2025-02-16 03:50:16,294] [0] Ed: 211200, train_loss: 1.27853, acc: 0.48639\n",
            "[INFO 2025-02-16 03:50:16,294] [0] Ed: 211200, train_loss: 1.27853, acc: 0.48639\n"
          ]
        },
        {
          "name": "stderr",
          "output_type": "stream",
          "text": [
            "INFO:root:[0] Ed: 214400, train_loss: 1.27843, acc: 0.48654\n"
          ]
        },
        {
          "name": "stdout",
          "output_type": "stream",
          "text": [
            "[INFO 2025-02-16 03:50:21,852] [0] Ed: 214400, train_loss: 1.27843, acc: 0.48654\n",
            "[INFO 2025-02-16 03:50:21,852] [0] Ed: 214400, train_loss: 1.27843, acc: 0.48654\n"
          ]
        },
        {
          "name": "stderr",
          "output_type": "stream",
          "text": [
            "INFO:root:[0] Ed: 217600, train_loss: 1.27840, acc: 0.48646\n"
          ]
        },
        {
          "name": "stdout",
          "output_type": "stream",
          "text": [
            "[INFO 2025-02-16 03:50:27,405] [0] Ed: 217600, train_loss: 1.27840, acc: 0.48646\n",
            "[INFO 2025-02-16 03:50:27,405] [0] Ed: 217600, train_loss: 1.27840, acc: 0.48646\n"
          ]
        },
        {
          "name": "stderr",
          "output_type": "stream",
          "text": [
            "INFO:root:[0] Ed: 220800, train_loss: 1.27814, acc: 0.48661\n"
          ]
        },
        {
          "name": "stdout",
          "output_type": "stream",
          "text": [
            "[INFO 2025-02-16 03:50:32,960] [0] Ed: 220800, train_loss: 1.27814, acc: 0.48661\n",
            "[INFO 2025-02-16 03:50:32,960] [0] Ed: 220800, train_loss: 1.27814, acc: 0.48661\n"
          ]
        },
        {
          "name": "stderr",
          "output_type": "stream",
          "text": [
            "INFO:root:[0] Ed: 224000, train_loss: 1.27774, acc: 0.48675\n"
          ]
        },
        {
          "name": "stdout",
          "output_type": "stream",
          "text": [
            "[INFO 2025-02-16 03:50:38,508] [0] Ed: 224000, train_loss: 1.27774, acc: 0.48675\n",
            "[INFO 2025-02-16 03:50:38,508] [0] Ed: 224000, train_loss: 1.27774, acc: 0.48675\n"
          ]
        },
        {
          "name": "stderr",
          "output_type": "stream",
          "text": [
            "INFO:root:[0] Ed: 227200, train_loss: 1.27740, acc: 0.48685\n"
          ]
        },
        {
          "name": "stdout",
          "output_type": "stream",
          "text": [
            "[INFO 2025-02-16 03:50:44,054] [0] Ed: 227200, train_loss: 1.27740, acc: 0.48685\n",
            "[INFO 2025-02-16 03:50:44,054] [0] Ed: 227200, train_loss: 1.27740, acc: 0.48685\n"
          ]
        },
        {
          "name": "stderr",
          "output_type": "stream",
          "text": [
            "INFO:root:[0] Ed: 230400, train_loss: 1.27713, acc: 0.48699\n"
          ]
        },
        {
          "name": "stdout",
          "output_type": "stream",
          "text": [
            "[INFO 2025-02-16 03:50:49,598] [0] Ed: 230400, train_loss: 1.27713, acc: 0.48699\n",
            "[INFO 2025-02-16 03:50:49,598] [0] Ed: 230400, train_loss: 1.27713, acc: 0.48699\n"
          ]
        },
        {
          "name": "stderr",
          "output_type": "stream",
          "text": [
            "INFO:root:[0] Ed: 233600, train_loss: 1.27642, acc: 0.48726\n"
          ]
        },
        {
          "name": "stdout",
          "output_type": "stream",
          "text": [
            "[INFO 2025-02-16 03:50:55,147] [0] Ed: 233600, train_loss: 1.27642, acc: 0.48726\n",
            "[INFO 2025-02-16 03:50:55,147] [0] Ed: 233600, train_loss: 1.27642, acc: 0.48726\n"
          ]
        },
        {
          "name": "stderr",
          "output_type": "stream",
          "text": [
            "INFO:root:Training finish.\n"
          ]
        },
        {
          "name": "stdout",
          "output_type": "stream",
          "text": [
            "[INFO 2025-02-16 03:50:59,757] Training finish.\n",
            "[INFO 2025-02-16 03:50:59,757] Training finish.\n"
          ]
        },
        {
          "name": "stderr",
          "output_type": "stream",
          "text": [
            "INFO:root:Model saved to /content/model/epoch-3.pt.\n"
          ]
        },
        {
          "name": "stdout",
          "output_type": "stream",
          "text": [
            "[INFO 2025-02-16 03:50:59,881] Model saved to /content/model/epoch-3.pt.\n",
            "[INFO 2025-02-16 03:50:59,881] Model saved to /content/model/epoch-3.pt.\n"
          ]
        },
        {
          "name": "stderr",
          "output_type": "stream",
          "text": [
            "INFO:root:[0] Ed: 0, train_loss: inf, acc: inf\n"
          ]
        },
        {
          "name": "stdout",
          "output_type": "stream",
          "text": [
            "[INFO 2025-02-16 03:50:59,953] [0] Ed: 0, train_loss: inf, acc: inf\n",
            "[INFO 2025-02-16 03:50:59,953] [0] Ed: 0, train_loss: inf, acc: inf\n"
          ]
        },
        {
          "name": "stderr",
          "output_type": "stream",
          "text": [
            "INFO:root:[0] Ed: 3200, train_loss: 1.28960, acc: 0.50281\n"
          ]
        },
        {
          "name": "stdout",
          "output_type": "stream",
          "text": [
            "[INFO 2025-02-16 03:51:05,493] [0] Ed: 3200, train_loss: 1.28960, acc: 0.50281\n",
            "[INFO 2025-02-16 03:51:05,493] [0] Ed: 3200, train_loss: 1.28960, acc: 0.50281\n"
          ]
        },
        {
          "name": "stderr",
          "output_type": "stream",
          "text": [
            "INFO:root:[0] Ed: 6400, train_loss: 1.27167, acc: 0.49641\n"
          ]
        },
        {
          "name": "stdout",
          "output_type": "stream",
          "text": [
            "[INFO 2025-02-16 03:51:11,033] [0] Ed: 6400, train_loss: 1.27167, acc: 0.49641\n",
            "[INFO 2025-02-16 03:51:11,033] [0] Ed: 6400, train_loss: 1.27167, acc: 0.49641\n"
          ]
        },
        {
          "name": "stderr",
          "output_type": "stream",
          "text": [
            "INFO:root:[0] Ed: 9600, train_loss: 1.26913, acc: 0.49792\n"
          ]
        },
        {
          "name": "stdout",
          "output_type": "stream",
          "text": [
            "[INFO 2025-02-16 03:51:16,576] [0] Ed: 9600, train_loss: 1.26913, acc: 0.49792\n",
            "[INFO 2025-02-16 03:51:16,576] [0] Ed: 9600, train_loss: 1.26913, acc: 0.49792\n"
          ]
        },
        {
          "name": "stderr",
          "output_type": "stream",
          "text": [
            "INFO:root:[0] Ed: 12800, train_loss: 1.26251, acc: 0.49828\n"
          ]
        },
        {
          "name": "stdout",
          "output_type": "stream",
          "text": [
            "[INFO 2025-02-16 03:51:22,120] [0] Ed: 12800, train_loss: 1.26251, acc: 0.49828\n",
            "[INFO 2025-02-16 03:51:22,120] [0] Ed: 12800, train_loss: 1.26251, acc: 0.49828\n"
          ]
        },
        {
          "name": "stderr",
          "output_type": "stream",
          "text": [
            "INFO:root:[0] Ed: 16000, train_loss: 1.26768, acc: 0.49525\n"
          ]
        },
        {
          "name": "stdout",
          "output_type": "stream",
          "text": [
            "[INFO 2025-02-16 03:51:27,668] [0] Ed: 16000, train_loss: 1.26768, acc: 0.49525\n",
            "[INFO 2025-02-16 03:51:27,668] [0] Ed: 16000, train_loss: 1.26768, acc: 0.49525\n"
          ]
        },
        {
          "name": "stderr",
          "output_type": "stream",
          "text": [
            "INFO:root:[0] Ed: 19200, train_loss: 1.26869, acc: 0.49464\n"
          ]
        },
        {
          "name": "stdout",
          "output_type": "stream",
          "text": [
            "[INFO 2025-02-16 03:51:33,213] [0] Ed: 19200, train_loss: 1.26869, acc: 0.49464\n",
            "[INFO 2025-02-16 03:51:33,213] [0] Ed: 19200, train_loss: 1.26869, acc: 0.49464\n"
          ]
        },
        {
          "name": "stderr",
          "output_type": "stream",
          "text": [
            "INFO:root:[0] Ed: 22400, train_loss: 1.26736, acc: 0.49482\n"
          ]
        },
        {
          "name": "stdout",
          "output_type": "stream",
          "text": [
            "[INFO 2025-02-16 03:51:38,758] [0] Ed: 22400, train_loss: 1.26736, acc: 0.49482\n",
            "[INFO 2025-02-16 03:51:38,758] [0] Ed: 22400, train_loss: 1.26736, acc: 0.49482\n"
          ]
        },
        {
          "name": "stderr",
          "output_type": "stream",
          "text": [
            "INFO:root:[0] Ed: 25600, train_loss: 1.26666, acc: 0.49555\n"
          ]
        },
        {
          "name": "stdout",
          "output_type": "stream",
          "text": [
            "[INFO 2025-02-16 03:51:44,305] [0] Ed: 25600, train_loss: 1.26666, acc: 0.49555\n",
            "[INFO 2025-02-16 03:51:44,305] [0] Ed: 25600, train_loss: 1.26666, acc: 0.49555\n"
          ]
        },
        {
          "name": "stderr",
          "output_type": "stream",
          "text": [
            "INFO:root:[0] Ed: 28800, train_loss: 1.26633, acc: 0.49573\n"
          ]
        },
        {
          "name": "stdout",
          "output_type": "stream",
          "text": [
            "[INFO 2025-02-16 03:51:49,849] [0] Ed: 28800, train_loss: 1.26633, acc: 0.49573\n",
            "[INFO 2025-02-16 03:51:49,849] [0] Ed: 28800, train_loss: 1.26633, acc: 0.49573\n"
          ]
        },
        {
          "name": "stderr",
          "output_type": "stream",
          "text": [
            "INFO:root:[0] Ed: 32000, train_loss: 1.26614, acc: 0.49488\n"
          ]
        },
        {
          "name": "stdout",
          "output_type": "stream",
          "text": [
            "[INFO 2025-02-16 03:51:55,394] [0] Ed: 32000, train_loss: 1.26614, acc: 0.49488\n",
            "[INFO 2025-02-16 03:51:55,394] [0] Ed: 32000, train_loss: 1.26614, acc: 0.49488\n"
          ]
        },
        {
          "name": "stderr",
          "output_type": "stream",
          "text": [
            "INFO:root:[0] Ed: 35200, train_loss: 1.26857, acc: 0.49355\n"
          ]
        },
        {
          "name": "stdout",
          "output_type": "stream",
          "text": [
            "[INFO 2025-02-16 03:52:00,939] [0] Ed: 35200, train_loss: 1.26857, acc: 0.49355\n",
            "[INFO 2025-02-16 03:52:00,939] [0] Ed: 35200, train_loss: 1.26857, acc: 0.49355\n"
          ]
        },
        {
          "name": "stderr",
          "output_type": "stream",
          "text": [
            "INFO:root:[0] Ed: 38400, train_loss: 1.26747, acc: 0.49339\n"
          ]
        },
        {
          "name": "stdout",
          "output_type": "stream",
          "text": [
            "[INFO 2025-02-16 03:52:06,484] [0] Ed: 38400, train_loss: 1.26747, acc: 0.49339\n",
            "[INFO 2025-02-16 03:52:06,484] [0] Ed: 38400, train_loss: 1.26747, acc: 0.49339\n"
          ]
        },
        {
          "name": "stderr",
          "output_type": "stream",
          "text": [
            "INFO:root:[0] Ed: 41600, train_loss: 1.26408, acc: 0.49486\n"
          ]
        },
        {
          "name": "stdout",
          "output_type": "stream",
          "text": [
            "[INFO 2025-02-16 03:52:12,023] [0] Ed: 41600, train_loss: 1.26408, acc: 0.49486\n",
            "[INFO 2025-02-16 03:52:12,023] [0] Ed: 41600, train_loss: 1.26408, acc: 0.49486\n"
          ]
        },
        {
          "name": "stderr",
          "output_type": "stream",
          "text": [
            "INFO:root:[0] Ed: 44800, train_loss: 1.26337, acc: 0.49531\n"
          ]
        },
        {
          "name": "stdout",
          "output_type": "stream",
          "text": [
            "[INFO 2025-02-16 03:52:17,568] [0] Ed: 44800, train_loss: 1.26337, acc: 0.49531\n",
            "[INFO 2025-02-16 03:52:17,568] [0] Ed: 44800, train_loss: 1.26337, acc: 0.49531\n"
          ]
        },
        {
          "name": "stderr",
          "output_type": "stream",
          "text": [
            "INFO:root:[0] Ed: 48000, train_loss: 1.26353, acc: 0.49481\n"
          ]
        },
        {
          "name": "stdout",
          "output_type": "stream",
          "text": [
            "[INFO 2025-02-16 03:52:23,108] [0] Ed: 48000, train_loss: 1.26353, acc: 0.49481\n",
            "[INFO 2025-02-16 03:52:23,108] [0] Ed: 48000, train_loss: 1.26353, acc: 0.49481\n"
          ]
        },
        {
          "name": "stderr",
          "output_type": "stream",
          "text": [
            "INFO:root:[0] Ed: 51200, train_loss: 1.26266, acc: 0.49498\n"
          ]
        },
        {
          "name": "stdout",
          "output_type": "stream",
          "text": [
            "[INFO 2025-02-16 03:52:28,657] [0] Ed: 51200, train_loss: 1.26266, acc: 0.49498\n",
            "[INFO 2025-02-16 03:52:28,657] [0] Ed: 51200, train_loss: 1.26266, acc: 0.49498\n"
          ]
        },
        {
          "name": "stderr",
          "output_type": "stream",
          "text": [
            "INFO:root:[0] Ed: 54400, train_loss: 1.26194, acc: 0.49566\n"
          ]
        },
        {
          "name": "stdout",
          "output_type": "stream",
          "text": [
            "[INFO 2025-02-16 03:52:34,209] [0] Ed: 54400, train_loss: 1.26194, acc: 0.49566\n",
            "[INFO 2025-02-16 03:52:34,209] [0] Ed: 54400, train_loss: 1.26194, acc: 0.49566\n"
          ]
        },
        {
          "name": "stderr",
          "output_type": "stream",
          "text": [
            "INFO:root:[0] Ed: 57600, train_loss: 1.26145, acc: 0.49599\n"
          ]
        },
        {
          "name": "stdout",
          "output_type": "stream",
          "text": [
            "[INFO 2025-02-16 03:52:39,765] [0] Ed: 57600, train_loss: 1.26145, acc: 0.49599\n",
            "[INFO 2025-02-16 03:52:39,765] [0] Ed: 57600, train_loss: 1.26145, acc: 0.49599\n"
          ]
        },
        {
          "name": "stderr",
          "output_type": "stream",
          "text": [
            "INFO:root:[0] Ed: 60800, train_loss: 1.26151, acc: 0.49589\n"
          ]
        },
        {
          "name": "stdout",
          "output_type": "stream",
          "text": [
            "[INFO 2025-02-16 03:52:45,316] [0] Ed: 60800, train_loss: 1.26151, acc: 0.49589\n",
            "[INFO 2025-02-16 03:52:45,316] [0] Ed: 60800, train_loss: 1.26151, acc: 0.49589\n"
          ]
        },
        {
          "name": "stderr",
          "output_type": "stream",
          "text": [
            "INFO:root:[0] Ed: 64000, train_loss: 1.26056, acc: 0.49639\n"
          ]
        },
        {
          "name": "stdout",
          "output_type": "stream",
          "text": [
            "[INFO 2025-02-16 03:52:50,878] [0] Ed: 64000, train_loss: 1.26056, acc: 0.49639\n",
            "[INFO 2025-02-16 03:52:50,878] [0] Ed: 64000, train_loss: 1.26056, acc: 0.49639\n"
          ]
        },
        {
          "name": "stderr",
          "output_type": "stream",
          "text": [
            "INFO:root:[0] Ed: 67200, train_loss: 1.25990, acc: 0.49713\n"
          ]
        },
        {
          "name": "stdout",
          "output_type": "stream",
          "text": [
            "[INFO 2025-02-16 03:52:56,437] [0] Ed: 67200, train_loss: 1.25990, acc: 0.49713\n",
            "[INFO 2025-02-16 03:52:56,437] [0] Ed: 67200, train_loss: 1.25990, acc: 0.49713\n"
          ]
        },
        {
          "name": "stderr",
          "output_type": "stream",
          "text": [
            "INFO:root:[0] Ed: 70400, train_loss: 1.25910, acc: 0.49732\n"
          ]
        },
        {
          "name": "stdout",
          "output_type": "stream",
          "text": [
            "[INFO 2025-02-16 03:53:01,991] [0] Ed: 70400, train_loss: 1.25910, acc: 0.49732\n",
            "[INFO 2025-02-16 03:53:01,991] [0] Ed: 70400, train_loss: 1.25910, acc: 0.49732\n"
          ]
        },
        {
          "name": "stderr",
          "output_type": "stream",
          "text": [
            "INFO:root:[0] Ed: 73600, train_loss: 1.25885, acc: 0.49651\n"
          ]
        },
        {
          "name": "stdout",
          "output_type": "stream",
          "text": [
            "[INFO 2025-02-16 03:53:07,544] [0] Ed: 73600, train_loss: 1.25885, acc: 0.49651\n",
            "[INFO 2025-02-16 03:53:07,544] [0] Ed: 73600, train_loss: 1.25885, acc: 0.49651\n"
          ]
        },
        {
          "name": "stderr",
          "output_type": "stream",
          "text": [
            "INFO:root:[0] Ed: 76800, train_loss: 1.25780, acc: 0.49724\n"
          ]
        },
        {
          "name": "stdout",
          "output_type": "stream",
          "text": [
            "[INFO 2025-02-16 03:53:13,089] [0] Ed: 76800, train_loss: 1.25780, acc: 0.49724\n",
            "[INFO 2025-02-16 03:53:13,089] [0] Ed: 76800, train_loss: 1.25780, acc: 0.49724\n"
          ]
        },
        {
          "name": "stderr",
          "output_type": "stream",
          "text": [
            "INFO:root:[0] Ed: 80000, train_loss: 1.25802, acc: 0.49719\n"
          ]
        },
        {
          "name": "stdout",
          "output_type": "stream",
          "text": [
            "[INFO 2025-02-16 03:53:18,640] [0] Ed: 80000, train_loss: 1.25802, acc: 0.49719\n",
            "[INFO 2025-02-16 03:53:18,640] [0] Ed: 80000, train_loss: 1.25802, acc: 0.49719\n"
          ]
        },
        {
          "name": "stderr",
          "output_type": "stream",
          "text": [
            "INFO:root:[0] Ed: 83200, train_loss: 1.25705, acc: 0.49790\n"
          ]
        },
        {
          "name": "stdout",
          "output_type": "stream",
          "text": [
            "[INFO 2025-02-16 03:53:24,185] [0] Ed: 83200, train_loss: 1.25705, acc: 0.49790\n",
            "[INFO 2025-02-16 03:53:24,185] [0] Ed: 83200, train_loss: 1.25705, acc: 0.49790\n"
          ]
        },
        {
          "name": "stderr",
          "output_type": "stream",
          "text": [
            "INFO:root:[0] Ed: 86400, train_loss: 1.25660, acc: 0.49850\n"
          ]
        },
        {
          "name": "stdout",
          "output_type": "stream",
          "text": [
            "[INFO 2025-02-16 03:53:29,734] [0] Ed: 86400, train_loss: 1.25660, acc: 0.49850\n",
            "[INFO 2025-02-16 03:53:29,734] [0] Ed: 86400, train_loss: 1.25660, acc: 0.49850\n"
          ]
        },
        {
          "name": "stderr",
          "output_type": "stream",
          "text": [
            "INFO:root:[0] Ed: 89600, train_loss: 1.25558, acc: 0.49901\n"
          ]
        },
        {
          "name": "stdout",
          "output_type": "stream",
          "text": [
            "[INFO 2025-02-16 03:53:35,282] [0] Ed: 89600, train_loss: 1.25558, acc: 0.49901\n",
            "[INFO 2025-02-16 03:53:35,282] [0] Ed: 89600, train_loss: 1.25558, acc: 0.49901\n"
          ]
        },
        {
          "name": "stderr",
          "output_type": "stream",
          "text": [
            "INFO:root:[0] Ed: 92800, train_loss: 1.25638, acc: 0.49829\n"
          ]
        },
        {
          "name": "stdout",
          "output_type": "stream",
          "text": [
            "[INFO 2025-02-16 03:53:40,829] [0] Ed: 92800, train_loss: 1.25638, acc: 0.49829\n",
            "[INFO 2025-02-16 03:53:40,829] [0] Ed: 92800, train_loss: 1.25638, acc: 0.49829\n"
          ]
        },
        {
          "name": "stderr",
          "output_type": "stream",
          "text": [
            "INFO:root:[0] Ed: 96000, train_loss: 1.25614, acc: 0.49812\n"
          ]
        },
        {
          "name": "stdout",
          "output_type": "stream",
          "text": [
            "[INFO 2025-02-16 03:53:46,376] [0] Ed: 96000, train_loss: 1.25614, acc: 0.49812\n",
            "[INFO 2025-02-16 03:53:46,376] [0] Ed: 96000, train_loss: 1.25614, acc: 0.49812\n"
          ]
        },
        {
          "name": "stderr",
          "output_type": "stream",
          "text": [
            "INFO:root:[0] Ed: 99200, train_loss: 1.25621, acc: 0.49792\n"
          ]
        },
        {
          "name": "stdout",
          "output_type": "stream",
          "text": [
            "[INFO 2025-02-16 03:53:51,924] [0] Ed: 99200, train_loss: 1.25621, acc: 0.49792\n",
            "[INFO 2025-02-16 03:53:51,924] [0] Ed: 99200, train_loss: 1.25621, acc: 0.49792\n"
          ]
        },
        {
          "name": "stderr",
          "output_type": "stream",
          "text": [
            "INFO:root:[0] Ed: 102400, train_loss: 1.25521, acc: 0.49831\n"
          ]
        },
        {
          "name": "stdout",
          "output_type": "stream",
          "text": [
            "[INFO 2025-02-16 03:53:57,468] [0] Ed: 102400, train_loss: 1.25521, acc: 0.49831\n",
            "[INFO 2025-02-16 03:53:57,468] [0] Ed: 102400, train_loss: 1.25521, acc: 0.49831\n"
          ]
        },
        {
          "name": "stderr",
          "output_type": "stream",
          "text": [
            "INFO:root:[0] Ed: 105600, train_loss: 1.25382, acc: 0.49891\n"
          ]
        },
        {
          "name": "stdout",
          "output_type": "stream",
          "text": [
            "[INFO 2025-02-16 03:54:03,017] [0] Ed: 105600, train_loss: 1.25382, acc: 0.49891\n",
            "[INFO 2025-02-16 03:54:03,017] [0] Ed: 105600, train_loss: 1.25382, acc: 0.49891\n"
          ]
        },
        {
          "name": "stderr",
          "output_type": "stream",
          "text": [
            "INFO:root:[0] Ed: 108800, train_loss: 1.25389, acc: 0.49877\n"
          ]
        },
        {
          "name": "stdout",
          "output_type": "stream",
          "text": [
            "[INFO 2025-02-16 03:54:08,563] [0] Ed: 108800, train_loss: 1.25389, acc: 0.49877\n",
            "[INFO 2025-02-16 03:54:08,563] [0] Ed: 108800, train_loss: 1.25389, acc: 0.49877\n"
          ]
        },
        {
          "name": "stderr",
          "output_type": "stream",
          "text": [
            "INFO:root:[0] Ed: 112000, train_loss: 1.25425, acc: 0.49876\n"
          ]
        },
        {
          "name": "stdout",
          "output_type": "stream",
          "text": [
            "[INFO 2025-02-16 03:54:14,104] [0] Ed: 112000, train_loss: 1.25425, acc: 0.49876\n",
            "[INFO 2025-02-16 03:54:14,104] [0] Ed: 112000, train_loss: 1.25425, acc: 0.49876\n"
          ]
        },
        {
          "name": "stderr",
          "output_type": "stream",
          "text": [
            "INFO:root:[0] Ed: 115200, train_loss: 1.25403, acc: 0.49901\n"
          ]
        },
        {
          "name": "stdout",
          "output_type": "stream",
          "text": [
            "[INFO 2025-02-16 03:54:19,652] [0] Ed: 115200, train_loss: 1.25403, acc: 0.49901\n",
            "[INFO 2025-02-16 03:54:19,652] [0] Ed: 115200, train_loss: 1.25403, acc: 0.49901\n"
          ]
        },
        {
          "name": "stderr",
          "output_type": "stream",
          "text": [
            "INFO:root:[0] Ed: 118400, train_loss: 1.25301, acc: 0.49948\n"
          ]
        },
        {
          "name": "stdout",
          "output_type": "stream",
          "text": [
            "[INFO 2025-02-16 03:54:25,198] [0] Ed: 118400, train_loss: 1.25301, acc: 0.49948\n",
            "[INFO 2025-02-16 03:54:25,198] [0] Ed: 118400, train_loss: 1.25301, acc: 0.49948\n"
          ]
        },
        {
          "name": "stderr",
          "output_type": "stream",
          "text": [
            "INFO:root:[0] Ed: 121600, train_loss: 1.25273, acc: 0.49946\n"
          ]
        },
        {
          "name": "stdout",
          "output_type": "stream",
          "text": [
            "[INFO 2025-02-16 03:54:30,747] [0] Ed: 121600, train_loss: 1.25273, acc: 0.49946\n",
            "[INFO 2025-02-16 03:54:30,747] [0] Ed: 121600, train_loss: 1.25273, acc: 0.49946\n"
          ]
        },
        {
          "name": "stderr",
          "output_type": "stream",
          "text": [
            "INFO:root:[0] Ed: 124800, train_loss: 1.25258, acc: 0.49948\n"
          ]
        },
        {
          "name": "stdout",
          "output_type": "stream",
          "text": [
            "[INFO 2025-02-16 03:54:36,294] [0] Ed: 124800, train_loss: 1.25258, acc: 0.49948\n",
            "[INFO 2025-02-16 03:54:36,294] [0] Ed: 124800, train_loss: 1.25258, acc: 0.49948\n"
          ]
        },
        {
          "name": "stderr",
          "output_type": "stream",
          "text": [
            "INFO:root:[0] Ed: 128000, train_loss: 1.25298, acc: 0.49926\n"
          ]
        },
        {
          "name": "stdout",
          "output_type": "stream",
          "text": [
            "[INFO 2025-02-16 03:54:41,845] [0] Ed: 128000, train_loss: 1.25298, acc: 0.49926\n",
            "[INFO 2025-02-16 03:54:41,845] [0] Ed: 128000, train_loss: 1.25298, acc: 0.49926\n"
          ]
        },
        {
          "name": "stderr",
          "output_type": "stream",
          "text": [
            "INFO:root:[0] Ed: 131200, train_loss: 1.25248, acc: 0.49940\n"
          ]
        },
        {
          "name": "stdout",
          "output_type": "stream",
          "text": [
            "[INFO 2025-02-16 03:54:47,407] [0] Ed: 131200, train_loss: 1.25248, acc: 0.49940\n",
            "[INFO 2025-02-16 03:54:47,407] [0] Ed: 131200, train_loss: 1.25248, acc: 0.49940\n"
          ]
        },
        {
          "name": "stderr",
          "output_type": "stream",
          "text": [
            "INFO:root:[0] Ed: 134400, train_loss: 1.25254, acc: 0.49910\n"
          ]
        },
        {
          "name": "stdout",
          "output_type": "stream",
          "text": [
            "[INFO 2025-02-16 03:54:52,967] [0] Ed: 134400, train_loss: 1.25254, acc: 0.49910\n",
            "[INFO 2025-02-16 03:54:52,967] [0] Ed: 134400, train_loss: 1.25254, acc: 0.49910\n"
          ]
        },
        {
          "name": "stderr",
          "output_type": "stream",
          "text": [
            "INFO:root:[0] Ed: 137600, train_loss: 1.25276, acc: 0.49914\n"
          ]
        },
        {
          "name": "stdout",
          "output_type": "stream",
          "text": [
            "[INFO 2025-02-16 03:54:58,531] [0] Ed: 137600, train_loss: 1.25276, acc: 0.49914\n",
            "[INFO 2025-02-16 03:54:58,531] [0] Ed: 137600, train_loss: 1.25276, acc: 0.49914\n"
          ]
        },
        {
          "name": "stderr",
          "output_type": "stream",
          "text": [
            "INFO:root:[0] Ed: 140800, train_loss: 1.25247, acc: 0.49937\n"
          ]
        },
        {
          "name": "stdout",
          "output_type": "stream",
          "text": [
            "[INFO 2025-02-16 03:55:04,085] [0] Ed: 140800, train_loss: 1.25247, acc: 0.49937\n",
            "[INFO 2025-02-16 03:55:04,085] [0] Ed: 140800, train_loss: 1.25247, acc: 0.49937\n"
          ]
        },
        {
          "name": "stderr",
          "output_type": "stream",
          "text": [
            "INFO:root:[0] Ed: 144000, train_loss: 1.25249, acc: 0.49895\n"
          ]
        },
        {
          "name": "stdout",
          "output_type": "stream",
          "text": [
            "[INFO 2025-02-16 03:55:09,636] [0] Ed: 144000, train_loss: 1.25249, acc: 0.49895\n",
            "[INFO 2025-02-16 03:55:09,636] [0] Ed: 144000, train_loss: 1.25249, acc: 0.49895\n"
          ]
        },
        {
          "name": "stderr",
          "output_type": "stream",
          "text": [
            "INFO:root:[0] Ed: 147200, train_loss: 1.25210, acc: 0.49909\n"
          ]
        },
        {
          "name": "stdout",
          "output_type": "stream",
          "text": [
            "[INFO 2025-02-16 03:55:15,194] [0] Ed: 147200, train_loss: 1.25210, acc: 0.49909\n",
            "[INFO 2025-02-16 03:55:15,194] [0] Ed: 147200, train_loss: 1.25210, acc: 0.49909\n"
          ]
        },
        {
          "name": "stderr",
          "output_type": "stream",
          "text": [
            "INFO:root:[0] Ed: 150400, train_loss: 1.25167, acc: 0.49926\n"
          ]
        },
        {
          "name": "stdout",
          "output_type": "stream",
          "text": [
            "[INFO 2025-02-16 03:55:20,752] [0] Ed: 150400, train_loss: 1.25167, acc: 0.49926\n",
            "[INFO 2025-02-16 03:55:20,752] [0] Ed: 150400, train_loss: 1.25167, acc: 0.49926\n"
          ]
        },
        {
          "name": "stderr",
          "output_type": "stream",
          "text": [
            "INFO:root:[0] Ed: 153600, train_loss: 1.25100, acc: 0.49943\n"
          ]
        },
        {
          "name": "stdout",
          "output_type": "stream",
          "text": [
            "[INFO 2025-02-16 03:55:26,310] [0] Ed: 153600, train_loss: 1.25100, acc: 0.49943\n",
            "[INFO 2025-02-16 03:55:26,310] [0] Ed: 153600, train_loss: 1.25100, acc: 0.49943\n"
          ]
        },
        {
          "name": "stderr",
          "output_type": "stream",
          "text": [
            "INFO:root:[0] Ed: 156800, train_loss: 1.25056, acc: 0.49968\n"
          ]
        },
        {
          "name": "stdout",
          "output_type": "stream",
          "text": [
            "[INFO 2025-02-16 03:55:31,863] [0] Ed: 156800, train_loss: 1.25056, acc: 0.49968\n",
            "[INFO 2025-02-16 03:55:31,863] [0] Ed: 156800, train_loss: 1.25056, acc: 0.49968\n"
          ]
        },
        {
          "name": "stderr",
          "output_type": "stream",
          "text": [
            "INFO:root:[0] Ed: 160000, train_loss: 1.25017, acc: 0.49993\n"
          ]
        },
        {
          "name": "stdout",
          "output_type": "stream",
          "text": [
            "[INFO 2025-02-16 03:55:37,414] [0] Ed: 160000, train_loss: 1.25017, acc: 0.49993\n",
            "[INFO 2025-02-16 03:55:37,414] [0] Ed: 160000, train_loss: 1.25017, acc: 0.49993\n"
          ]
        },
        {
          "name": "stderr",
          "output_type": "stream",
          "text": [
            "INFO:root:[0] Ed: 163200, train_loss: 1.24999, acc: 0.49999\n"
          ]
        },
        {
          "name": "stdout",
          "output_type": "stream",
          "text": [
            "[INFO 2025-02-16 03:55:42,964] [0] Ed: 163200, train_loss: 1.24999, acc: 0.49999\n",
            "[INFO 2025-02-16 03:55:42,964] [0] Ed: 163200, train_loss: 1.24999, acc: 0.49999\n"
          ]
        },
        {
          "name": "stderr",
          "output_type": "stream",
          "text": [
            "INFO:root:[0] Ed: 166400, train_loss: 1.25012, acc: 0.49986\n"
          ]
        },
        {
          "name": "stdout",
          "output_type": "stream",
          "text": [
            "[INFO 2025-02-16 03:55:48,517] [0] Ed: 166400, train_loss: 1.25012, acc: 0.49986\n",
            "[INFO 2025-02-16 03:55:48,517] [0] Ed: 166400, train_loss: 1.25012, acc: 0.49986\n"
          ]
        },
        {
          "name": "stderr",
          "output_type": "stream",
          "text": [
            "INFO:root:[0] Ed: 169600, train_loss: 1.25021, acc: 0.49993\n"
          ]
        },
        {
          "name": "stdout",
          "output_type": "stream",
          "text": [
            "[INFO 2025-02-16 03:55:54,066] [0] Ed: 169600, train_loss: 1.25021, acc: 0.49993\n",
            "[INFO 2025-02-16 03:55:54,066] [0] Ed: 169600, train_loss: 1.25021, acc: 0.49993\n"
          ]
        },
        {
          "name": "stderr",
          "output_type": "stream",
          "text": [
            "INFO:root:[0] Ed: 172800, train_loss: 1.25000, acc: 0.50003\n"
          ]
        },
        {
          "name": "stdout",
          "output_type": "stream",
          "text": [
            "[INFO 2025-02-16 03:55:59,616] [0] Ed: 172800, train_loss: 1.25000, acc: 0.50003\n",
            "[INFO 2025-02-16 03:55:59,616] [0] Ed: 172800, train_loss: 1.25000, acc: 0.50003\n"
          ]
        },
        {
          "name": "stderr",
          "output_type": "stream",
          "text": [
            "INFO:root:[0] Ed: 176000, train_loss: 1.24983, acc: 0.50024\n"
          ]
        },
        {
          "name": "stdout",
          "output_type": "stream",
          "text": [
            "[INFO 2025-02-16 03:56:05,165] [0] Ed: 176000, train_loss: 1.24983, acc: 0.50024\n",
            "[INFO 2025-02-16 03:56:05,165] [0] Ed: 176000, train_loss: 1.24983, acc: 0.50024\n"
          ]
        },
        {
          "name": "stderr",
          "output_type": "stream",
          "text": [
            "INFO:root:[0] Ed: 179200, train_loss: 1.24973, acc: 0.50035\n"
          ]
        },
        {
          "name": "stdout",
          "output_type": "stream",
          "text": [
            "[INFO 2025-02-16 03:56:10,716] [0] Ed: 179200, train_loss: 1.24973, acc: 0.50035\n",
            "[INFO 2025-02-16 03:56:10,716] [0] Ed: 179200, train_loss: 1.24973, acc: 0.50035\n"
          ]
        },
        {
          "name": "stderr",
          "output_type": "stream",
          "text": [
            "INFO:root:[0] Ed: 182400, train_loss: 1.24985, acc: 0.50032\n"
          ]
        },
        {
          "name": "stdout",
          "output_type": "stream",
          "text": [
            "[INFO 2025-02-16 03:56:16,265] [0] Ed: 182400, train_loss: 1.24985, acc: 0.50032\n",
            "[INFO 2025-02-16 03:56:16,265] [0] Ed: 182400, train_loss: 1.24985, acc: 0.50032\n"
          ]
        },
        {
          "name": "stderr",
          "output_type": "stream",
          "text": [
            "INFO:root:[0] Ed: 185600, train_loss: 1.24951, acc: 0.50042\n"
          ]
        },
        {
          "name": "stdout",
          "output_type": "stream",
          "text": [
            "[INFO 2025-02-16 03:56:21,813] [0] Ed: 185600, train_loss: 1.24951, acc: 0.50042\n",
            "[INFO 2025-02-16 03:56:21,813] [0] Ed: 185600, train_loss: 1.24951, acc: 0.50042\n"
          ]
        },
        {
          "name": "stderr",
          "output_type": "stream",
          "text": [
            "INFO:root:[0] Ed: 188800, train_loss: 1.24951, acc: 0.50064\n"
          ]
        },
        {
          "name": "stdout",
          "output_type": "stream",
          "text": [
            "[INFO 2025-02-16 03:56:27,361] [0] Ed: 188800, train_loss: 1.24951, acc: 0.50064\n",
            "[INFO 2025-02-16 03:56:27,361] [0] Ed: 188800, train_loss: 1.24951, acc: 0.50064\n"
          ]
        },
        {
          "name": "stderr",
          "output_type": "stream",
          "text": [
            "INFO:root:[0] Ed: 192000, train_loss: 1.24970, acc: 0.50044\n"
          ]
        },
        {
          "name": "stdout",
          "output_type": "stream",
          "text": [
            "[INFO 2025-02-16 03:56:32,899] [0] Ed: 192000, train_loss: 1.24970, acc: 0.50044\n",
            "[INFO 2025-02-16 03:56:32,899] [0] Ed: 192000, train_loss: 1.24970, acc: 0.50044\n"
          ]
        },
        {
          "name": "stderr",
          "output_type": "stream",
          "text": [
            "INFO:root:[0] Ed: 195200, train_loss: 1.24948, acc: 0.50055\n"
          ]
        },
        {
          "name": "stdout",
          "output_type": "stream",
          "text": [
            "[INFO 2025-02-16 03:56:38,444] [0] Ed: 195200, train_loss: 1.24948, acc: 0.50055\n",
            "[INFO 2025-02-16 03:56:38,444] [0] Ed: 195200, train_loss: 1.24948, acc: 0.50055\n"
          ]
        },
        {
          "name": "stderr",
          "output_type": "stream",
          "text": [
            "INFO:root:[0] Ed: 198400, train_loss: 1.24965, acc: 0.50064\n"
          ]
        },
        {
          "name": "stdout",
          "output_type": "stream",
          "text": [
            "[INFO 2025-02-16 03:56:43,991] [0] Ed: 198400, train_loss: 1.24965, acc: 0.50064\n",
            "[INFO 2025-02-16 03:56:43,991] [0] Ed: 198400, train_loss: 1.24965, acc: 0.50064\n"
          ]
        },
        {
          "name": "stderr",
          "output_type": "stream",
          "text": [
            "INFO:root:[0] Ed: 201600, train_loss: 1.24938, acc: 0.50074\n"
          ]
        },
        {
          "name": "stdout",
          "output_type": "stream",
          "text": [
            "[INFO 2025-02-16 03:56:49,530] [0] Ed: 201600, train_loss: 1.24938, acc: 0.50074\n",
            "[INFO 2025-02-16 03:56:49,530] [0] Ed: 201600, train_loss: 1.24938, acc: 0.50074\n"
          ]
        },
        {
          "name": "stderr",
          "output_type": "stream",
          "text": [
            "INFO:root:[0] Ed: 204800, train_loss: 1.24955, acc: 0.50051\n"
          ]
        },
        {
          "name": "stdout",
          "output_type": "stream",
          "text": [
            "[INFO 2025-02-16 03:56:55,067] [0] Ed: 204800, train_loss: 1.24955, acc: 0.50051\n",
            "[INFO 2025-02-16 03:56:55,067] [0] Ed: 204800, train_loss: 1.24955, acc: 0.50051\n"
          ]
        },
        {
          "name": "stderr",
          "output_type": "stream",
          "text": [
            "INFO:root:[0] Ed: 208000, train_loss: 1.24974, acc: 0.50041\n"
          ]
        },
        {
          "name": "stdout",
          "output_type": "stream",
          "text": [
            "[INFO 2025-02-16 03:57:00,604] [0] Ed: 208000, train_loss: 1.24974, acc: 0.50041\n",
            "[INFO 2025-02-16 03:57:00,604] [0] Ed: 208000, train_loss: 1.24974, acc: 0.50041\n"
          ]
        },
        {
          "name": "stderr",
          "output_type": "stream",
          "text": [
            "INFO:root:[0] Ed: 211200, train_loss: 1.24964, acc: 0.50037\n"
          ]
        },
        {
          "name": "stdout",
          "output_type": "stream",
          "text": [
            "[INFO 2025-02-16 03:57:06,147] [0] Ed: 211200, train_loss: 1.24964, acc: 0.50037\n",
            "[INFO 2025-02-16 03:57:06,147] [0] Ed: 211200, train_loss: 1.24964, acc: 0.50037\n"
          ]
        },
        {
          "name": "stderr",
          "output_type": "stream",
          "text": [
            "INFO:root:[0] Ed: 214400, train_loss: 1.24955, acc: 0.50054\n"
          ]
        },
        {
          "name": "stdout",
          "output_type": "stream",
          "text": [
            "[INFO 2025-02-16 03:57:11,703] [0] Ed: 214400, train_loss: 1.24955, acc: 0.50054\n",
            "[INFO 2025-02-16 03:57:11,703] [0] Ed: 214400, train_loss: 1.24955, acc: 0.50054\n"
          ]
        },
        {
          "name": "stderr",
          "output_type": "stream",
          "text": [
            "INFO:root:[0] Ed: 217600, train_loss: 1.24956, acc: 0.50039\n"
          ]
        },
        {
          "name": "stdout",
          "output_type": "stream",
          "text": [
            "[INFO 2025-02-16 03:57:17,256] [0] Ed: 217600, train_loss: 1.24956, acc: 0.50039\n",
            "[INFO 2025-02-16 03:57:17,256] [0] Ed: 217600, train_loss: 1.24956, acc: 0.50039\n"
          ]
        },
        {
          "name": "stderr",
          "output_type": "stream",
          "text": [
            "INFO:root:[0] Ed: 220800, train_loss: 1.24939, acc: 0.50052\n"
          ]
        },
        {
          "name": "stdout",
          "output_type": "stream",
          "text": [
            "[INFO 2025-02-16 03:57:22,809] [0] Ed: 220800, train_loss: 1.24939, acc: 0.50052\n",
            "[INFO 2025-02-16 03:57:22,809] [0] Ed: 220800, train_loss: 1.24939, acc: 0.50052\n"
          ]
        },
        {
          "name": "stderr",
          "output_type": "stream",
          "text": [
            "INFO:root:[0] Ed: 224000, train_loss: 1.24899, acc: 0.50062\n"
          ]
        },
        {
          "name": "stdout",
          "output_type": "stream",
          "text": [
            "[INFO 2025-02-16 03:57:28,362] [0] Ed: 224000, train_loss: 1.24899, acc: 0.50062\n",
            "[INFO 2025-02-16 03:57:28,362] [0] Ed: 224000, train_loss: 1.24899, acc: 0.50062\n"
          ]
        },
        {
          "name": "stderr",
          "output_type": "stream",
          "text": [
            "INFO:root:[0] Ed: 227200, train_loss: 1.24858, acc: 0.50087\n"
          ]
        },
        {
          "name": "stdout",
          "output_type": "stream",
          "text": [
            "[INFO 2025-02-16 03:57:33,917] [0] Ed: 227200, train_loss: 1.24858, acc: 0.50087\n",
            "[INFO 2025-02-16 03:57:33,917] [0] Ed: 227200, train_loss: 1.24858, acc: 0.50087\n"
          ]
        },
        {
          "name": "stderr",
          "output_type": "stream",
          "text": [
            "INFO:root:[0] Ed: 230400, train_loss: 1.24834, acc: 0.50110\n"
          ]
        },
        {
          "name": "stdout",
          "output_type": "stream",
          "text": [
            "[INFO 2025-02-16 03:57:39,469] [0] Ed: 230400, train_loss: 1.24834, acc: 0.50110\n",
            "[INFO 2025-02-16 03:57:39,469] [0] Ed: 230400, train_loss: 1.24834, acc: 0.50110\n"
          ]
        },
        {
          "name": "stderr",
          "output_type": "stream",
          "text": [
            "INFO:root:[0] Ed: 233600, train_loss: 1.24771, acc: 0.50137\n"
          ]
        },
        {
          "name": "stdout",
          "output_type": "stream",
          "text": [
            "[INFO 2025-02-16 03:57:45,018] [0] Ed: 233600, train_loss: 1.24771, acc: 0.50137\n",
            "[INFO 2025-02-16 03:57:45,018] [0] Ed: 233600, train_loss: 1.24771, acc: 0.50137\n"
          ]
        },
        {
          "name": "stderr",
          "output_type": "stream",
          "text": [
            "INFO:root:Training finish.\n"
          ]
        },
        {
          "name": "stdout",
          "output_type": "stream",
          "text": [
            "[INFO 2025-02-16 03:57:49,637] Training finish.\n",
            "[INFO 2025-02-16 03:57:49,637] Training finish.\n"
          ]
        },
        {
          "name": "stderr",
          "output_type": "stream",
          "text": [
            "INFO:root:Model saved to /content/model/epoch-4.pt.\n"
          ]
        },
        {
          "name": "stdout",
          "output_type": "stream",
          "text": [
            "[INFO 2025-02-16 03:57:49,759] Model saved to /content/model/epoch-4.pt.\n",
            "[INFO 2025-02-16 03:57:49,759] Model saved to /content/model/epoch-4.pt.\n"
          ]
        },
        {
          "name": "stderr",
          "output_type": "stream",
          "text": [
            "INFO:root:[0] Ed: 0, train_loss: inf, acc: inf\n"
          ]
        },
        {
          "name": "stdout",
          "output_type": "stream",
          "text": [
            "[INFO 2025-02-16 03:57:49,829] [0] Ed: 0, train_loss: inf, acc: inf\n",
            "[INFO 2025-02-16 03:57:49,829] [0] Ed: 0, train_loss: inf, acc: inf\n"
          ]
        },
        {
          "name": "stderr",
          "output_type": "stream",
          "text": [
            "INFO:root:[0] Ed: 3200, train_loss: 1.26065, acc: 0.51250\n"
          ]
        },
        {
          "name": "stdout",
          "output_type": "stream",
          "text": [
            "[INFO 2025-02-16 03:57:55,382] [0] Ed: 3200, train_loss: 1.26065, acc: 0.51250\n",
            "[INFO 2025-02-16 03:57:55,382] [0] Ed: 3200, train_loss: 1.26065, acc: 0.51250\n"
          ]
        },
        {
          "name": "stderr",
          "output_type": "stream",
          "text": [
            "INFO:root:[0] Ed: 6400, train_loss: 1.24195, acc: 0.50891\n"
          ]
        },
        {
          "name": "stdout",
          "output_type": "stream",
          "text": [
            "[INFO 2025-02-16 03:58:00,932] [0] Ed: 6400, train_loss: 1.24195, acc: 0.50891\n",
            "[INFO 2025-02-16 03:58:00,932] [0] Ed: 6400, train_loss: 1.24195, acc: 0.50891\n"
          ]
        },
        {
          "name": "stderr",
          "output_type": "stream",
          "text": [
            "INFO:root:[0] Ed: 9600, train_loss: 1.24265, acc: 0.50854\n"
          ]
        },
        {
          "name": "stdout",
          "output_type": "stream",
          "text": [
            "[INFO 2025-02-16 03:58:06,481] [0] Ed: 9600, train_loss: 1.24265, acc: 0.50854\n",
            "[INFO 2025-02-16 03:58:06,481] [0] Ed: 9600, train_loss: 1.24265, acc: 0.50854\n"
          ]
        },
        {
          "name": "stderr",
          "output_type": "stream",
          "text": [
            "INFO:root:[0] Ed: 12800, train_loss: 1.23631, acc: 0.51125\n"
          ]
        },
        {
          "name": "stdout",
          "output_type": "stream",
          "text": [
            "[INFO 2025-02-16 03:58:12,034] [0] Ed: 12800, train_loss: 1.23631, acc: 0.51125\n",
            "[INFO 2025-02-16 03:58:12,034] [0] Ed: 12800, train_loss: 1.23631, acc: 0.51125\n"
          ]
        },
        {
          "name": "stderr",
          "output_type": "stream",
          "text": [
            "INFO:root:[0] Ed: 16000, train_loss: 1.24335, acc: 0.50713\n"
          ]
        },
        {
          "name": "stdout",
          "output_type": "stream",
          "text": [
            "[INFO 2025-02-16 03:58:17,585] [0] Ed: 16000, train_loss: 1.24335, acc: 0.50713\n",
            "[INFO 2025-02-16 03:58:17,585] [0] Ed: 16000, train_loss: 1.24335, acc: 0.50713\n"
          ]
        },
        {
          "name": "stderr",
          "output_type": "stream",
          "text": [
            "INFO:root:[0] Ed: 19200, train_loss: 1.24535, acc: 0.50510\n"
          ]
        },
        {
          "name": "stdout",
          "output_type": "stream",
          "text": [
            "[INFO 2025-02-16 03:58:23,130] [0] Ed: 19200, train_loss: 1.24535, acc: 0.50510\n",
            "[INFO 2025-02-16 03:58:23,130] [0] Ed: 19200, train_loss: 1.24535, acc: 0.50510\n"
          ]
        },
        {
          "name": "stderr",
          "output_type": "stream",
          "text": [
            "INFO:root:[0] Ed: 22400, train_loss: 1.24458, acc: 0.50451\n"
          ]
        },
        {
          "name": "stdout",
          "output_type": "stream",
          "text": [
            "[INFO 2025-02-16 03:58:28,682] [0] Ed: 22400, train_loss: 1.24458, acc: 0.50451\n",
            "[INFO 2025-02-16 03:58:28,682] [0] Ed: 22400, train_loss: 1.24458, acc: 0.50451\n"
          ]
        },
        {
          "name": "stderr",
          "output_type": "stream",
          "text": [
            "INFO:root:[0] Ed: 25600, train_loss: 1.24367, acc: 0.50504\n"
          ]
        },
        {
          "name": "stdout",
          "output_type": "stream",
          "text": [
            "[INFO 2025-02-16 03:58:34,230] [0] Ed: 25600, train_loss: 1.24367, acc: 0.50504\n",
            "[INFO 2025-02-16 03:58:34,230] [0] Ed: 25600, train_loss: 1.24367, acc: 0.50504\n"
          ]
        },
        {
          "name": "stderr",
          "output_type": "stream",
          "text": [
            "INFO:root:[0] Ed: 28800, train_loss: 1.24259, acc: 0.50531\n"
          ]
        },
        {
          "name": "stdout",
          "output_type": "stream",
          "text": [
            "[INFO 2025-02-16 03:58:39,783] [0] Ed: 28800, train_loss: 1.24259, acc: 0.50531\n",
            "[INFO 2025-02-16 03:58:39,783] [0] Ed: 28800, train_loss: 1.24259, acc: 0.50531\n"
          ]
        },
        {
          "name": "stderr",
          "output_type": "stream",
          "text": [
            "INFO:root:[0] Ed: 32000, train_loss: 1.24314, acc: 0.50513\n"
          ]
        },
        {
          "name": "stdout",
          "output_type": "stream",
          "text": [
            "[INFO 2025-02-16 03:58:45,339] [0] Ed: 32000, train_loss: 1.24314, acc: 0.50513\n",
            "[INFO 2025-02-16 03:58:45,339] [0] Ed: 32000, train_loss: 1.24314, acc: 0.50513\n"
          ]
        },
        {
          "name": "stderr",
          "output_type": "stream",
          "text": [
            "INFO:root:[0] Ed: 35200, train_loss: 1.24457, acc: 0.50514\n"
          ]
        },
        {
          "name": "stdout",
          "output_type": "stream",
          "text": [
            "[INFO 2025-02-16 03:58:50,888] [0] Ed: 35200, train_loss: 1.24457, acc: 0.50514\n",
            "[INFO 2025-02-16 03:58:50,888] [0] Ed: 35200, train_loss: 1.24457, acc: 0.50514\n"
          ]
        },
        {
          "name": "stderr",
          "output_type": "stream",
          "text": [
            "INFO:root:[0] Ed: 38400, train_loss: 1.24311, acc: 0.50513\n"
          ]
        },
        {
          "name": "stdout",
          "output_type": "stream",
          "text": [
            "[INFO 2025-02-16 03:58:56,440] [0] Ed: 38400, train_loss: 1.24311, acc: 0.50513\n",
            "[INFO 2025-02-16 03:58:56,440] [0] Ed: 38400, train_loss: 1.24311, acc: 0.50513\n"
          ]
        },
        {
          "name": "stderr",
          "output_type": "stream",
          "text": [
            "INFO:root:[0] Ed: 41600, train_loss: 1.23966, acc: 0.50683\n"
          ]
        },
        {
          "name": "stdout",
          "output_type": "stream",
          "text": [
            "[INFO 2025-02-16 03:59:01,986] [0] Ed: 41600, train_loss: 1.23966, acc: 0.50683\n",
            "[INFO 2025-02-16 03:59:01,986] [0] Ed: 41600, train_loss: 1.23966, acc: 0.50683\n"
          ]
        },
        {
          "name": "stderr",
          "output_type": "stream",
          "text": [
            "INFO:root:[0] Ed: 44800, train_loss: 1.23899, acc: 0.50661\n"
          ]
        },
        {
          "name": "stdout",
          "output_type": "stream",
          "text": [
            "[INFO 2025-02-16 03:59:07,540] [0] Ed: 44800, train_loss: 1.23899, acc: 0.50661\n",
            "[INFO 2025-02-16 03:59:07,540] [0] Ed: 44800, train_loss: 1.23899, acc: 0.50661\n"
          ]
        },
        {
          "name": "stderr",
          "output_type": "stream",
          "text": [
            "INFO:root:[0] Ed: 48000, train_loss: 1.23913, acc: 0.50658\n"
          ]
        },
        {
          "name": "stdout",
          "output_type": "stream",
          "text": [
            "[INFO 2025-02-16 03:59:13,085] [0] Ed: 48000, train_loss: 1.23913, acc: 0.50658\n",
            "[INFO 2025-02-16 03:59:13,085] [0] Ed: 48000, train_loss: 1.23913, acc: 0.50658\n"
          ]
        },
        {
          "name": "stderr",
          "output_type": "stream",
          "text": [
            "INFO:root:[0] Ed: 51200, train_loss: 1.23801, acc: 0.50695\n"
          ]
        },
        {
          "name": "stdout",
          "output_type": "stream",
          "text": [
            "[INFO 2025-02-16 03:59:18,635] [0] Ed: 51200, train_loss: 1.23801, acc: 0.50695\n",
            "[INFO 2025-02-16 03:59:18,635] [0] Ed: 51200, train_loss: 1.23801, acc: 0.50695\n"
          ]
        },
        {
          "name": "stderr",
          "output_type": "stream",
          "text": [
            "INFO:root:[0] Ed: 54400, train_loss: 1.23724, acc: 0.50743\n"
          ]
        },
        {
          "name": "stdout",
          "output_type": "stream",
          "text": [
            "[INFO 2025-02-16 03:59:24,197] [0] Ed: 54400, train_loss: 1.23724, acc: 0.50743\n",
            "[INFO 2025-02-16 03:59:24,197] [0] Ed: 54400, train_loss: 1.23724, acc: 0.50743\n"
          ]
        },
        {
          "name": "stderr",
          "output_type": "stream",
          "text": [
            "INFO:root:[0] Ed: 57600, train_loss: 1.23663, acc: 0.50776\n"
          ]
        },
        {
          "name": "stdout",
          "output_type": "stream",
          "text": [
            "[INFO 2025-02-16 03:59:29,758] [0] Ed: 57600, train_loss: 1.23663, acc: 0.50776\n",
            "[INFO 2025-02-16 03:59:29,758] [0] Ed: 57600, train_loss: 1.23663, acc: 0.50776\n"
          ]
        },
        {
          "name": "stderr",
          "output_type": "stream",
          "text": [
            "INFO:root:[0] Ed: 60800, train_loss: 1.23683, acc: 0.50819\n"
          ]
        },
        {
          "name": "stdout",
          "output_type": "stream",
          "text": [
            "[INFO 2025-02-16 03:59:35,312] [0] Ed: 60800, train_loss: 1.23683, acc: 0.50819\n",
            "[INFO 2025-02-16 03:59:35,312] [0] Ed: 60800, train_loss: 1.23683, acc: 0.50819\n"
          ]
        },
        {
          "name": "stderr",
          "output_type": "stream",
          "text": [
            "INFO:root:[0] Ed: 64000, train_loss: 1.23549, acc: 0.50863\n"
          ]
        },
        {
          "name": "stdout",
          "output_type": "stream",
          "text": [
            "[INFO 2025-02-16 03:59:40,869] [0] Ed: 64000, train_loss: 1.23549, acc: 0.50863\n",
            "[INFO 2025-02-16 03:59:40,869] [0] Ed: 64000, train_loss: 1.23549, acc: 0.50863\n"
          ]
        },
        {
          "name": "stderr",
          "output_type": "stream",
          "text": [
            "INFO:root:[0] Ed: 67200, train_loss: 1.23463, acc: 0.50918\n"
          ]
        },
        {
          "name": "stdout",
          "output_type": "stream",
          "text": [
            "[INFO 2025-02-16 03:59:46,428] [0] Ed: 67200, train_loss: 1.23463, acc: 0.50918\n",
            "[INFO 2025-02-16 03:59:46,428] [0] Ed: 67200, train_loss: 1.23463, acc: 0.50918\n"
          ]
        },
        {
          "name": "stderr",
          "output_type": "stream",
          "text": [
            "INFO:root:[0] Ed: 70400, train_loss: 1.23371, acc: 0.50936\n"
          ]
        },
        {
          "name": "stdout",
          "output_type": "stream",
          "text": [
            "[INFO 2025-02-16 03:59:51,984] [0] Ed: 70400, train_loss: 1.23371, acc: 0.50936\n",
            "[INFO 2025-02-16 03:59:51,984] [0] Ed: 70400, train_loss: 1.23371, acc: 0.50936\n"
          ]
        },
        {
          "name": "stderr",
          "output_type": "stream",
          "text": [
            "INFO:root:[0] Ed: 73600, train_loss: 1.23385, acc: 0.50879\n"
          ]
        },
        {
          "name": "stdout",
          "output_type": "stream",
          "text": [
            "[INFO 2025-02-16 03:59:57,539] [0] Ed: 73600, train_loss: 1.23385, acc: 0.50879\n",
            "[INFO 2025-02-16 03:59:57,539] [0] Ed: 73600, train_loss: 1.23385, acc: 0.50879\n"
          ]
        },
        {
          "name": "stderr",
          "output_type": "stream",
          "text": [
            "INFO:root:[0] Ed: 76800, train_loss: 1.23291, acc: 0.50913\n"
          ]
        },
        {
          "name": "stdout",
          "output_type": "stream",
          "text": [
            "[INFO 2025-02-16 04:00:03,090] [0] Ed: 76800, train_loss: 1.23291, acc: 0.50913\n",
            "[INFO 2025-02-16 04:00:03,090] [0] Ed: 76800, train_loss: 1.23291, acc: 0.50913\n"
          ]
        },
        {
          "name": "stderr",
          "output_type": "stream",
          "text": [
            "INFO:root:[0] Ed: 80000, train_loss: 1.23327, acc: 0.50890\n"
          ]
        },
        {
          "name": "stdout",
          "output_type": "stream",
          "text": [
            "[INFO 2025-02-16 04:00:08,636] [0] Ed: 80000, train_loss: 1.23327, acc: 0.50890\n",
            "[INFO 2025-02-16 04:00:08,636] [0] Ed: 80000, train_loss: 1.23327, acc: 0.50890\n"
          ]
        },
        {
          "name": "stderr",
          "output_type": "stream",
          "text": [
            "INFO:root:[0] Ed: 83200, train_loss: 1.23239, acc: 0.50937\n"
          ]
        },
        {
          "name": "stdout",
          "output_type": "stream",
          "text": [
            "[INFO 2025-02-16 04:00:14,180] [0] Ed: 83200, train_loss: 1.23239, acc: 0.50937\n",
            "[INFO 2025-02-16 04:00:14,180] [0] Ed: 83200, train_loss: 1.23239, acc: 0.50937\n"
          ]
        },
        {
          "name": "stderr",
          "output_type": "stream",
          "text": [
            "INFO:root:[0] Ed: 86400, train_loss: 1.23181, acc: 0.51015\n"
          ]
        },
        {
          "name": "stdout",
          "output_type": "stream",
          "text": [
            "[INFO 2025-02-16 04:00:19,730] [0] Ed: 86400, train_loss: 1.23181, acc: 0.51015\n",
            "[INFO 2025-02-16 04:00:19,730] [0] Ed: 86400, train_loss: 1.23181, acc: 0.51015\n"
          ]
        },
        {
          "name": "stderr",
          "output_type": "stream",
          "text": [
            "INFO:root:[0] Ed: 89600, train_loss: 1.23055, acc: 0.51096\n"
          ]
        },
        {
          "name": "stdout",
          "output_type": "stream",
          "text": [
            "[INFO 2025-02-16 04:00:25,279] [0] Ed: 89600, train_loss: 1.23055, acc: 0.51096\n",
            "[INFO 2025-02-16 04:00:25,279] [0] Ed: 89600, train_loss: 1.23055, acc: 0.51096\n"
          ]
        },
        {
          "name": "stderr",
          "output_type": "stream",
          "text": [
            "INFO:root:[0] Ed: 92800, train_loss: 1.23147, acc: 0.51014\n"
          ]
        },
        {
          "name": "stdout",
          "output_type": "stream",
          "text": [
            "[INFO 2025-02-16 04:00:30,813] [0] Ed: 92800, train_loss: 1.23147, acc: 0.51014\n",
            "[INFO 2025-02-16 04:00:30,813] [0] Ed: 92800, train_loss: 1.23147, acc: 0.51014\n"
          ]
        },
        {
          "name": "stderr",
          "output_type": "stream",
          "text": [
            "INFO:root:[0] Ed: 96000, train_loss: 1.23107, acc: 0.50996\n"
          ]
        },
        {
          "name": "stdout",
          "output_type": "stream",
          "text": [
            "[INFO 2025-02-16 04:00:36,351] [0] Ed: 96000, train_loss: 1.23107, acc: 0.50996\n",
            "[INFO 2025-02-16 04:00:36,351] [0] Ed: 96000, train_loss: 1.23107, acc: 0.50996\n"
          ]
        },
        {
          "name": "stderr",
          "output_type": "stream",
          "text": [
            "INFO:root:[0] Ed: 99200, train_loss: 1.23111, acc: 0.50980\n"
          ]
        },
        {
          "name": "stdout",
          "output_type": "stream",
          "text": [
            "[INFO 2025-02-16 04:00:41,890] [0] Ed: 99200, train_loss: 1.23111, acc: 0.50980\n",
            "[INFO 2025-02-16 04:00:41,890] [0] Ed: 99200, train_loss: 1.23111, acc: 0.50980\n"
          ]
        },
        {
          "name": "stderr",
          "output_type": "stream",
          "text": [
            "INFO:root:[0] Ed: 102400, train_loss: 1.22984, acc: 0.51030\n"
          ]
        },
        {
          "name": "stdout",
          "output_type": "stream",
          "text": [
            "[INFO 2025-02-16 04:00:47,433] [0] Ed: 102400, train_loss: 1.22984, acc: 0.51030\n",
            "[INFO 2025-02-16 04:00:47,433] [0] Ed: 102400, train_loss: 1.22984, acc: 0.51030\n"
          ]
        },
        {
          "name": "stderr",
          "output_type": "stream",
          "text": [
            "INFO:root:[0] Ed: 105600, train_loss: 1.22836, acc: 0.51086\n"
          ]
        },
        {
          "name": "stdout",
          "output_type": "stream",
          "text": [
            "[INFO 2025-02-16 04:00:52,981] [0] Ed: 105600, train_loss: 1.22836, acc: 0.51086\n",
            "[INFO 2025-02-16 04:00:52,981] [0] Ed: 105600, train_loss: 1.22836, acc: 0.51086\n"
          ]
        },
        {
          "name": "stderr",
          "output_type": "stream",
          "text": [
            "INFO:root:[0] Ed: 108800, train_loss: 1.22847, acc: 0.51087\n"
          ]
        },
        {
          "name": "stdout",
          "output_type": "stream",
          "text": [
            "[INFO 2025-02-16 04:00:58,530] [0] Ed: 108800, train_loss: 1.22847, acc: 0.51087\n",
            "[INFO 2025-02-16 04:00:58,530] [0] Ed: 108800, train_loss: 1.22847, acc: 0.51087\n"
          ]
        },
        {
          "name": "stderr",
          "output_type": "stream",
          "text": [
            "INFO:root:[0] Ed: 112000, train_loss: 1.22894, acc: 0.51073\n"
          ]
        },
        {
          "name": "stdout",
          "output_type": "stream",
          "text": [
            "[INFO 2025-02-16 04:01:04,078] [0] Ed: 112000, train_loss: 1.22894, acc: 0.51073\n",
            "[INFO 2025-02-16 04:01:04,078] [0] Ed: 112000, train_loss: 1.22894, acc: 0.51073\n"
          ]
        },
        {
          "name": "stderr",
          "output_type": "stream",
          "text": [
            "INFO:root:[0] Ed: 115200, train_loss: 1.22860, acc: 0.51108\n"
          ]
        },
        {
          "name": "stdout",
          "output_type": "stream",
          "text": [
            "[INFO 2025-02-16 04:01:09,628] [0] Ed: 115200, train_loss: 1.22860, acc: 0.51108\n",
            "[INFO 2025-02-16 04:01:09,628] [0] Ed: 115200, train_loss: 1.22860, acc: 0.51108\n"
          ]
        },
        {
          "name": "stderr",
          "output_type": "stream",
          "text": [
            "INFO:root:[0] Ed: 118400, train_loss: 1.22746, acc: 0.51133\n"
          ]
        },
        {
          "name": "stdout",
          "output_type": "stream",
          "text": [
            "[INFO 2025-02-16 04:01:15,191] [0] Ed: 118400, train_loss: 1.22746, acc: 0.51133\n",
            "[INFO 2025-02-16 04:01:15,191] [0] Ed: 118400, train_loss: 1.22746, acc: 0.51133\n"
          ]
        },
        {
          "name": "stderr",
          "output_type": "stream",
          "text": [
            "INFO:root:[0] Ed: 121600, train_loss: 1.22723, acc: 0.51150\n"
          ]
        },
        {
          "name": "stdout",
          "output_type": "stream",
          "text": [
            "[INFO 2025-02-16 04:01:20,752] [0] Ed: 121600, train_loss: 1.22723, acc: 0.51150\n",
            "[INFO 2025-02-16 04:01:20,752] [0] Ed: 121600, train_loss: 1.22723, acc: 0.51150\n"
          ]
        },
        {
          "name": "stderr",
          "output_type": "stream",
          "text": [
            "INFO:root:[0] Ed: 124800, train_loss: 1.22677, acc: 0.51163\n"
          ]
        },
        {
          "name": "stdout",
          "output_type": "stream",
          "text": [
            "[INFO 2025-02-16 04:01:26,306] [0] Ed: 124800, train_loss: 1.22677, acc: 0.51163\n",
            "[INFO 2025-02-16 04:01:26,306] [0] Ed: 124800, train_loss: 1.22677, acc: 0.51163\n"
          ]
        },
        {
          "name": "stderr",
          "output_type": "stream",
          "text": [
            "INFO:root:[0] Ed: 128000, train_loss: 1.22730, acc: 0.51155\n"
          ]
        },
        {
          "name": "stdout",
          "output_type": "stream",
          "text": [
            "[INFO 2025-02-16 04:01:31,863] [0] Ed: 128000, train_loss: 1.22730, acc: 0.51155\n",
            "[INFO 2025-02-16 04:01:31,863] [0] Ed: 128000, train_loss: 1.22730, acc: 0.51155\n"
          ]
        },
        {
          "name": "stderr",
          "output_type": "stream",
          "text": [
            "INFO:root:[0] Ed: 131200, train_loss: 1.22692, acc: 0.51175\n"
          ]
        },
        {
          "name": "stdout",
          "output_type": "stream",
          "text": [
            "[INFO 2025-02-16 04:01:37,429] [0] Ed: 131200, train_loss: 1.22692, acc: 0.51175\n",
            "[INFO 2025-02-16 04:01:37,429] [0] Ed: 131200, train_loss: 1.22692, acc: 0.51175\n"
          ]
        },
        {
          "name": "stderr",
          "output_type": "stream",
          "text": [
            "INFO:root:[0] Ed: 134400, train_loss: 1.22687, acc: 0.51157\n"
          ]
        },
        {
          "name": "stdout",
          "output_type": "stream",
          "text": [
            "[INFO 2025-02-16 04:01:42,989] [0] Ed: 134400, train_loss: 1.22687, acc: 0.51157\n",
            "[INFO 2025-02-16 04:01:42,989] [0] Ed: 134400, train_loss: 1.22687, acc: 0.51157\n"
          ]
        },
        {
          "name": "stderr",
          "output_type": "stream",
          "text": [
            "INFO:root:[0] Ed: 137600, train_loss: 1.22710, acc: 0.51156\n"
          ]
        },
        {
          "name": "stdout",
          "output_type": "stream",
          "text": [
            "[INFO 2025-02-16 04:01:48,553] [0] Ed: 137600, train_loss: 1.22710, acc: 0.51156\n",
            "[INFO 2025-02-16 04:01:48,553] [0] Ed: 137600, train_loss: 1.22710, acc: 0.51156\n"
          ]
        },
        {
          "name": "stderr",
          "output_type": "stream",
          "text": [
            "INFO:root:[0] Ed: 140800, train_loss: 1.22675, acc: 0.51180\n"
          ]
        },
        {
          "name": "stdout",
          "output_type": "stream",
          "text": [
            "[INFO 2025-02-16 04:01:54,102] [0] Ed: 140800, train_loss: 1.22675, acc: 0.51180\n",
            "[INFO 2025-02-16 04:01:54,102] [0] Ed: 140800, train_loss: 1.22675, acc: 0.51180\n"
          ]
        },
        {
          "name": "stderr",
          "output_type": "stream",
          "text": [
            "INFO:root:[0] Ed: 144000, train_loss: 1.22678, acc: 0.51153\n"
          ]
        },
        {
          "name": "stdout",
          "output_type": "stream",
          "text": [
            "[INFO 2025-02-16 04:01:59,661] [0] Ed: 144000, train_loss: 1.22678, acc: 0.51153\n",
            "[INFO 2025-02-16 04:01:59,661] [0] Ed: 144000, train_loss: 1.22678, acc: 0.51153\n"
          ]
        },
        {
          "name": "stderr",
          "output_type": "stream",
          "text": [
            "INFO:root:[0] Ed: 147200, train_loss: 1.22634, acc: 0.51162\n"
          ]
        },
        {
          "name": "stdout",
          "output_type": "stream",
          "text": [
            "[INFO 2025-02-16 04:02:05,213] [0] Ed: 147200, train_loss: 1.22634, acc: 0.51162\n",
            "[INFO 2025-02-16 04:02:05,213] [0] Ed: 147200, train_loss: 1.22634, acc: 0.51162\n"
          ]
        },
        {
          "name": "stderr",
          "output_type": "stream",
          "text": [
            "INFO:root:[0] Ed: 150400, train_loss: 1.22589, acc: 0.51193\n"
          ]
        },
        {
          "name": "stdout",
          "output_type": "stream",
          "text": [
            "[INFO 2025-02-16 04:02:10,761] [0] Ed: 150400, train_loss: 1.22589, acc: 0.51193\n",
            "[INFO 2025-02-16 04:02:10,761] [0] Ed: 150400, train_loss: 1.22589, acc: 0.51193\n"
          ]
        },
        {
          "name": "stderr",
          "output_type": "stream",
          "text": [
            "INFO:root:[0] Ed: 153600, train_loss: 1.22531, acc: 0.51214\n"
          ]
        },
        {
          "name": "stdout",
          "output_type": "stream",
          "text": [
            "[INFO 2025-02-16 04:02:16,316] [0] Ed: 153600, train_loss: 1.22531, acc: 0.51214\n",
            "[INFO 2025-02-16 04:02:16,316] [0] Ed: 153600, train_loss: 1.22531, acc: 0.51214\n"
          ]
        },
        {
          "name": "stderr",
          "output_type": "stream",
          "text": [
            "INFO:root:[0] Ed: 156800, train_loss: 1.22475, acc: 0.51242\n"
          ]
        },
        {
          "name": "stdout",
          "output_type": "stream",
          "text": [
            "[INFO 2025-02-16 04:02:21,862] [0] Ed: 156800, train_loss: 1.22475, acc: 0.51242\n",
            "[INFO 2025-02-16 04:02:21,862] [0] Ed: 156800, train_loss: 1.22475, acc: 0.51242\n"
          ]
        },
        {
          "name": "stderr",
          "output_type": "stream",
          "text": [
            "INFO:root:[0] Ed: 160000, train_loss: 1.22446, acc: 0.51273\n"
          ]
        },
        {
          "name": "stdout",
          "output_type": "stream",
          "text": [
            "[INFO 2025-02-16 04:02:27,413] [0] Ed: 160000, train_loss: 1.22446, acc: 0.51273\n",
            "[INFO 2025-02-16 04:02:27,413] [0] Ed: 160000, train_loss: 1.22446, acc: 0.51273\n"
          ]
        },
        {
          "name": "stderr",
          "output_type": "stream",
          "text": [
            "INFO:root:[0] Ed: 163200, train_loss: 1.22414, acc: 0.51288\n"
          ]
        },
        {
          "name": "stdout",
          "output_type": "stream",
          "text": [
            "[INFO 2025-02-16 04:02:32,964] [0] Ed: 163200, train_loss: 1.22414, acc: 0.51288\n",
            "[INFO 2025-02-16 04:02:32,964] [0] Ed: 163200, train_loss: 1.22414, acc: 0.51288\n"
          ]
        },
        {
          "name": "stderr",
          "output_type": "stream",
          "text": [
            "INFO:root:[0] Ed: 166400, train_loss: 1.22423, acc: 0.51284\n"
          ]
        },
        {
          "name": "stdout",
          "output_type": "stream",
          "text": [
            "[INFO 2025-02-16 04:02:38,512] [0] Ed: 166400, train_loss: 1.22423, acc: 0.51284\n",
            "[INFO 2025-02-16 04:02:38,512] [0] Ed: 166400, train_loss: 1.22423, acc: 0.51284\n"
          ]
        },
        {
          "name": "stderr",
          "output_type": "stream",
          "text": [
            "INFO:root:[0] Ed: 169600, train_loss: 1.22424, acc: 0.51298\n"
          ]
        },
        {
          "name": "stdout",
          "output_type": "stream",
          "text": [
            "[INFO 2025-02-16 04:02:44,062] [0] Ed: 169600, train_loss: 1.22424, acc: 0.51298\n",
            "[INFO 2025-02-16 04:02:44,062] [0] Ed: 169600, train_loss: 1.22424, acc: 0.51298\n"
          ]
        },
        {
          "name": "stderr",
          "output_type": "stream",
          "text": [
            "INFO:root:[0] Ed: 172800, train_loss: 1.22402, acc: 0.51313\n"
          ]
        },
        {
          "name": "stdout",
          "output_type": "stream",
          "text": [
            "[INFO 2025-02-16 04:02:49,608] [0] Ed: 172800, train_loss: 1.22402, acc: 0.51313\n",
            "[INFO 2025-02-16 04:02:49,608] [0] Ed: 172800, train_loss: 1.22402, acc: 0.51313\n"
          ]
        },
        {
          "name": "stderr",
          "output_type": "stream",
          "text": [
            "INFO:root:[0] Ed: 176000, train_loss: 1.22376, acc: 0.51320\n"
          ]
        },
        {
          "name": "stdout",
          "output_type": "stream",
          "text": [
            "[INFO 2025-02-16 04:02:55,148] [0] Ed: 176000, train_loss: 1.22376, acc: 0.51320\n",
            "[INFO 2025-02-16 04:02:55,148] [0] Ed: 176000, train_loss: 1.22376, acc: 0.51320\n"
          ]
        },
        {
          "name": "stderr",
          "output_type": "stream",
          "text": [
            "INFO:root:[0] Ed: 179200, train_loss: 1.22374, acc: 0.51329\n"
          ]
        },
        {
          "name": "stdout",
          "output_type": "stream",
          "text": [
            "[INFO 2025-02-16 04:03:00,695] [0] Ed: 179200, train_loss: 1.22374, acc: 0.51329\n",
            "[INFO 2025-02-16 04:03:00,695] [0] Ed: 179200, train_loss: 1.22374, acc: 0.51329\n"
          ]
        },
        {
          "name": "stderr",
          "output_type": "stream",
          "text": [
            "INFO:root:[0] Ed: 182400, train_loss: 1.22385, acc: 0.51329\n"
          ]
        },
        {
          "name": "stdout",
          "output_type": "stream",
          "text": [
            "[INFO 2025-02-16 04:03:06,243] [0] Ed: 182400, train_loss: 1.22385, acc: 0.51329\n",
            "[INFO 2025-02-16 04:03:06,243] [0] Ed: 182400, train_loss: 1.22385, acc: 0.51329\n"
          ]
        },
        {
          "name": "stderr",
          "output_type": "stream",
          "text": [
            "INFO:root:[0] Ed: 185600, train_loss: 1.22361, acc: 0.51339\n"
          ]
        },
        {
          "name": "stdout",
          "output_type": "stream",
          "text": [
            "[INFO 2025-02-16 04:03:11,790] [0] Ed: 185600, train_loss: 1.22361, acc: 0.51339\n",
            "[INFO 2025-02-16 04:03:11,790] [0] Ed: 185600, train_loss: 1.22361, acc: 0.51339\n"
          ]
        },
        {
          "name": "stderr",
          "output_type": "stream",
          "text": [
            "INFO:root:[0] Ed: 188800, train_loss: 1.22360, acc: 0.51350\n"
          ]
        },
        {
          "name": "stdout",
          "output_type": "stream",
          "text": [
            "[INFO 2025-02-16 04:03:17,334] [0] Ed: 188800, train_loss: 1.22360, acc: 0.51350\n",
            "[INFO 2025-02-16 04:03:17,334] [0] Ed: 188800, train_loss: 1.22360, acc: 0.51350\n"
          ]
        },
        {
          "name": "stderr",
          "output_type": "stream",
          "text": [
            "INFO:root:[0] Ed: 192000, train_loss: 1.22386, acc: 0.51335\n"
          ]
        },
        {
          "name": "stdout",
          "output_type": "stream",
          "text": [
            "[INFO 2025-02-16 04:03:22,890] [0] Ed: 192000, train_loss: 1.22386, acc: 0.51335\n",
            "[INFO 2025-02-16 04:03:22,890] [0] Ed: 192000, train_loss: 1.22386, acc: 0.51335\n"
          ]
        },
        {
          "name": "stderr",
          "output_type": "stream",
          "text": [
            "INFO:root:[0] Ed: 195200, train_loss: 1.22363, acc: 0.51352\n"
          ]
        },
        {
          "name": "stdout",
          "output_type": "stream",
          "text": [
            "[INFO 2025-02-16 04:03:28,442] [0] Ed: 195200, train_loss: 1.22363, acc: 0.51352\n",
            "[INFO 2025-02-16 04:03:28,442] [0] Ed: 195200, train_loss: 1.22363, acc: 0.51352\n"
          ]
        },
        {
          "name": "stderr",
          "output_type": "stream",
          "text": [
            "INFO:root:[0] Ed: 198400, train_loss: 1.22379, acc: 0.51368\n"
          ]
        },
        {
          "name": "stdout",
          "output_type": "stream",
          "text": [
            "[INFO 2025-02-16 04:03:33,991] [0] Ed: 198400, train_loss: 1.22379, acc: 0.51368\n",
            "[INFO 2025-02-16 04:03:33,991] [0] Ed: 198400, train_loss: 1.22379, acc: 0.51368\n"
          ]
        },
        {
          "name": "stderr",
          "output_type": "stream",
          "text": [
            "INFO:root:[0] Ed: 201600, train_loss: 1.22336, acc: 0.51383\n"
          ]
        },
        {
          "name": "stdout",
          "output_type": "stream",
          "text": [
            "[INFO 2025-02-16 04:03:39,540] [0] Ed: 201600, train_loss: 1.22336, acc: 0.51383\n",
            "[INFO 2025-02-16 04:03:39,540] [0] Ed: 201600, train_loss: 1.22336, acc: 0.51383\n"
          ]
        },
        {
          "name": "stderr",
          "output_type": "stream",
          "text": [
            "INFO:root:[0] Ed: 204800, train_loss: 1.22353, acc: 0.51366\n"
          ]
        },
        {
          "name": "stdout",
          "output_type": "stream",
          "text": [
            "[INFO 2025-02-16 04:03:45,091] [0] Ed: 204800, train_loss: 1.22353, acc: 0.51366\n",
            "[INFO 2025-02-16 04:03:45,091] [0] Ed: 204800, train_loss: 1.22353, acc: 0.51366\n"
          ]
        },
        {
          "name": "stderr",
          "output_type": "stream",
          "text": [
            "INFO:root:[0] Ed: 208000, train_loss: 1.22373, acc: 0.51373\n"
          ]
        },
        {
          "name": "stdout",
          "output_type": "stream",
          "text": [
            "[INFO 2025-02-16 04:03:50,644] [0] Ed: 208000, train_loss: 1.22373, acc: 0.51373\n",
            "[INFO 2025-02-16 04:03:50,644] [0] Ed: 208000, train_loss: 1.22373, acc: 0.51373\n"
          ]
        },
        {
          "name": "stderr",
          "output_type": "stream",
          "text": [
            "INFO:root:[0] Ed: 211200, train_loss: 1.22368, acc: 0.51378\n"
          ]
        },
        {
          "name": "stdout",
          "output_type": "stream",
          "text": [
            "[INFO 2025-02-16 04:03:56,202] [0] Ed: 211200, train_loss: 1.22368, acc: 0.51378\n",
            "[INFO 2025-02-16 04:03:56,202] [0] Ed: 211200, train_loss: 1.22368, acc: 0.51378\n"
          ]
        },
        {
          "name": "stderr",
          "output_type": "stream",
          "text": [
            "INFO:root:[0] Ed: 214400, train_loss: 1.22366, acc: 0.51379\n"
          ]
        },
        {
          "name": "stdout",
          "output_type": "stream",
          "text": [
            "[INFO 2025-02-16 04:04:01,765] [0] Ed: 214400, train_loss: 1.22366, acc: 0.51379\n",
            "[INFO 2025-02-16 04:04:01,765] [0] Ed: 214400, train_loss: 1.22366, acc: 0.51379\n"
          ]
        },
        {
          "name": "stderr",
          "output_type": "stream",
          "text": [
            "INFO:root:[0] Ed: 217600, train_loss: 1.22366, acc: 0.51368\n"
          ]
        },
        {
          "name": "stdout",
          "output_type": "stream",
          "text": [
            "[INFO 2025-02-16 04:04:07,324] [0] Ed: 217600, train_loss: 1.22366, acc: 0.51368\n",
            "[INFO 2025-02-16 04:04:07,324] [0] Ed: 217600, train_loss: 1.22366, acc: 0.51368\n"
          ]
        },
        {
          "name": "stderr",
          "output_type": "stream",
          "text": [
            "INFO:root:[0] Ed: 220800, train_loss: 1.22344, acc: 0.51375\n"
          ]
        },
        {
          "name": "stdout",
          "output_type": "stream",
          "text": [
            "[INFO 2025-02-16 04:04:12,883] [0] Ed: 220800, train_loss: 1.22344, acc: 0.51375\n",
            "[INFO 2025-02-16 04:04:12,883] [0] Ed: 220800, train_loss: 1.22344, acc: 0.51375\n"
          ]
        },
        {
          "name": "stderr",
          "output_type": "stream",
          "text": [
            "INFO:root:[0] Ed: 224000, train_loss: 1.22293, acc: 0.51390\n"
          ]
        },
        {
          "name": "stdout",
          "output_type": "stream",
          "text": [
            "[INFO 2025-02-16 04:04:18,440] [0] Ed: 224000, train_loss: 1.22293, acc: 0.51390\n",
            "[INFO 2025-02-16 04:04:18,440] [0] Ed: 224000, train_loss: 1.22293, acc: 0.51390\n"
          ]
        },
        {
          "name": "stderr",
          "output_type": "stream",
          "text": [
            "INFO:root:[0] Ed: 227200, train_loss: 1.22260, acc: 0.51404\n"
          ]
        },
        {
          "name": "stdout",
          "output_type": "stream",
          "text": [
            "[INFO 2025-02-16 04:04:23,999] [0] Ed: 227200, train_loss: 1.22260, acc: 0.51404\n",
            "[INFO 2025-02-16 04:04:23,999] [0] Ed: 227200, train_loss: 1.22260, acc: 0.51404\n"
          ]
        },
        {
          "name": "stderr",
          "output_type": "stream",
          "text": [
            "INFO:root:[0] Ed: 230400, train_loss: 1.22235, acc: 0.51417\n"
          ]
        },
        {
          "name": "stdout",
          "output_type": "stream",
          "text": [
            "[INFO 2025-02-16 04:04:29,553] [0] Ed: 230400, train_loss: 1.22235, acc: 0.51417\n",
            "[INFO 2025-02-16 04:04:29,553] [0] Ed: 230400, train_loss: 1.22235, acc: 0.51417\n"
          ]
        },
        {
          "name": "stderr",
          "output_type": "stream",
          "text": [
            "INFO:root:[0] Ed: 233600, train_loss: 1.22172, acc: 0.51449\n"
          ]
        },
        {
          "name": "stdout",
          "output_type": "stream",
          "text": [
            "[INFO 2025-02-16 04:04:35,107] [0] Ed: 233600, train_loss: 1.22172, acc: 0.51449\n",
            "[INFO 2025-02-16 04:04:35,107] [0] Ed: 233600, train_loss: 1.22172, acc: 0.51449\n"
          ]
        },
        {
          "name": "stderr",
          "output_type": "stream",
          "text": [
            "INFO:root:Training finish.\n"
          ]
        },
        {
          "name": "stdout",
          "output_type": "stream",
          "text": [
            "[INFO 2025-02-16 04:04:39,725] Training finish.\n",
            "[INFO 2025-02-16 04:04:39,725] Training finish.\n"
          ]
        },
        {
          "name": "stderr",
          "output_type": "stream",
          "text": [
            "INFO:root:Model saved to /content/model/epoch-5.pt.\n"
          ]
        },
        {
          "name": "stdout",
          "output_type": "stream",
          "text": [
            "[INFO 2025-02-16 04:04:39,847] Model saved to /content/model/epoch-5.pt.\n",
            "[INFO 2025-02-16 04:04:39,847] Model saved to /content/model/epoch-5.pt.\n"
          ]
        }
      ],
      "source": [
        "    train(0, args)\n"
      ]
    },
    {
      "cell_type": "code",
      "execution_count": null,
      "metadata": {
        "id": "BnZ9gUKYdGRM"
      },
      "outputs": [],
      "source": [
        "def test(rank, args):\n",
        "    is_distributed = False\n",
        "\n",
        "    torch.cuda.set_device(rank)\n",
        "\n",
        "    if args.load_ckpt_name is not None:\n",
        "        ckpt_path = get_checkpoint(args.model_dir, args.load_ckpt_name)\n",
        "\n",
        "    assert ckpt_path is not None, 'No checkpoint found.'\n",
        "    checkpoint = torch.load(ckpt_path, map_location='cpu')\n",
        "\n",
        "    subcategory_dict = checkpoint['subcategory_dict']\n",
        "    category_dict = checkpoint['category_dict']\n",
        "    word_dict = checkpoint['word_dict']\n",
        "\n",
        "    dummy_embedding_matrix = np.zeros((len(word_dict) + 1, args.word_embedding_dim))\n",
        "    model = Model(args, dummy_embedding_matrix, len(category_dict), len(subcategory_dict))\n",
        "    model.load_state_dict(checkpoint['model_state_dict'])\n",
        "    logging.info(f\"Model loaded from {ckpt_path}\")\n",
        "\n",
        "    if args.enable_gpu:\n",
        "        model.cuda(rank)\n",
        "\n",
        "    model.eval()\n",
        "    torch.set_grad_enabled(False)\n",
        "\n",
        "    news, news_index, category_dict, subcategory_dict, word_dict = read_news(\n",
        "        os.path.join(args.train_data_dir, 'news.tsv'), args.test_abstract_dir, args, mode='train')\n",
        "    news_title, news_category, news_subcategory, news_abstract = get_doc_input(\n",
        "        news, news_index, category_dict, subcategory_dict, word_dict, args)\n",
        "    news_combined = np.concatenate([x for x in [news_title, news_category, news_subcategory, news_abstract] if x is not None], axis=-1)\n",
        "\n",
        "    news_dataset = NewsDataset(news_combined)\n",
        "    news_dataloader = DataLoader(news_dataset,\n",
        "                                 batch_size=args.batch_size,\n",
        "                                 num_workers=4)\n",
        "\n",
        "    news_scoring = []\n",
        "    with torch.no_grad():\n",
        "        for input_ids in tqdm(news_dataloader):\n",
        "            input_ids = input_ids.cuda(rank)\n",
        "            news_vec = model.news_encoder(input_ids)\n",
        "            news_vec = news_vec.to(torch.device(\"cpu\")).detach().numpy()\n",
        "            news_scoring.extend(news_vec)\n",
        "\n",
        "    news_scoring = np.array(news_scoring)\n",
        "    logging.info(\"news scoring num: {}\".format(news_scoring.shape[0]))\n",
        "\n",
        "    if rank == 0:\n",
        "        doc_sim = 0\n",
        "        for _ in tqdm(range(1000000)):\n",
        "            i = random.randrange(1, len(news_scoring))\n",
        "            j = random.randrange(1, len(news_scoring))\n",
        "            if i != j:\n",
        "                doc_sim += np.dot(news_scoring[i], news_scoring[j]) / (np.linalg.norm(news_scoring[i]) * np.linalg.norm(news_scoring[j]))\n",
        "        logging.info(f'News doc-sim: {doc_sim / 1000000}')\n",
        "\n",
        "    data_file_path = os.path.join(args.test_data_dir, f'behaviors_{rank}.tsv')\n",
        "\n",
        "    def collate_fn(tuple_list):\n",
        "        log_vecs = torch.FloatTensor([x[0] for x in tuple_list])\n",
        "        log_mask = torch.FloatTensor([x[1] for x in tuple_list])\n",
        "        news_vecs = [x[2] for x in tuple_list]\n",
        "        labels = [x[3] for x in tuple_list]\n",
        "        return (log_vecs, log_mask, news_vecs, labels)\n",
        "\n",
        "    dataset = DatasetTest(data_file_path, news_index, news_scoring, args)\n",
        "    dataloader = DataLoader(dataset, batch_size=args.batch_size, collate_fn=collate_fn)\n",
        "\n",
        "    AUC = []\n",
        "    MRR = []\n",
        "    nDCG5 = []\n",
        "    nDCG10 = []\n",
        "\n",
        "    def print_metrics(rank, cnt, x):\n",
        "        logging.info(\"[{}] {} samples: {}\".format(rank, cnt, '\\t'.join([\"{:0.2f}\".format(i * 100) for i in x])))\n",
        "\n",
        "    def get_mean(arr):\n",
        "        return [np.array(i).mean() for i in arr]\n",
        "\n",
        "    def get_sum(arr):\n",
        "        return [np.array(i).sum() for i in arr]\n",
        "\n",
        "    local_sample_num = 0\n",
        "\n",
        "    for cnt, (log_vecs, log_mask, news_vecs, labels) in enumerate(dataloader):\n",
        "        local_sample_num += log_vecs.shape[0]\n",
        "\n",
        "        if args.enable_gpu:\n",
        "            log_vecs = log_vecs.cuda(rank, non_blocking=True)\n",
        "            log_mask = log_mask.cuda(rank, non_blocking=True)\n",
        "\n",
        "        user_vecs = model.user_encoder(log_vecs, log_mask).to(torch.device(\"cpu\")).detach().numpy()\n",
        "\n",
        "        for user_vec, news_vec, label in zip(user_vecs, news_vecs, labels):\n",
        "            if label.mean() == 0 or label.mean() == 1:\n",
        "                continue\n",
        "\n",
        "            score = np.dot(news_vec, user_vec)\n",
        "\n",
        "            auc = roc_auc_score(label, score)\n",
        "            mrr = mrr_score(label, score)\n",
        "            ndcg5 = ndcg_score(label, score, k=5)\n",
        "            ndcg10 = ndcg_score(label, score, k=10)\n",
        "\n",
        "            AUC.append(auc)\n",
        "            MRR.append(mrr)\n",
        "            nDCG5.append(ndcg5)\n",
        "            nDCG10.append(ndcg10)\n",
        "\n",
        "        if cnt % args.log_steps == 0:\n",
        "            print_metrics(rank, local_sample_num, get_mean([AUC, MRR, nDCG5, nDCG10]))\n",
        "\n",
        "    logging.info('[{}] local_sample_num: {}'.format(rank, local_sample_num))\n",
        "    if is_distributed:\n",
        "        local_sample_num = torch.tensor(local_sample_num).cuda(rank)\n",
        "        dist.reduce(local_sample_num, dst=0, op=dist.ReduceOp.SUM)\n",
        "        local_metrics_sum = torch.FloatTensor(get_sum([AUC, MRR, nDCG5, nDCG10])).cuda(rank)\n",
        "        dist.reduce(local_metrics_sum, dst=0, op=dist.ReduceOp.SUM)\n",
        "        if rank == 0:\n",
        "            print_metrics('*', local_sample_num, local_metrics_sum / local_sample_num)\n",
        "    else:\n",
        "        print_metrics('*', local_sample_num, get_mean([AUC, MRR, nDCG5, nDCG10]))\n"
      ]
    },
    {
      "cell_type": "code",
      "execution_count": null,
      "metadata": {
        "colab": {
          "base_uri": "https://localhost:8080/"
        },
        "id": "OaJL9wmsUIoy",
        "outputId": "8bd736f0-03f1-4327-b0d8-8f7598652927"
      },
      "outputs": [
        {
          "name": "stderr",
          "output_type": "stream",
          "text": [
            "INFO:root:Preparing testing data...\n"
          ]
        },
        {
          "name": "stdout",
          "output_type": "stream",
          "text": [
            "[INFO 2025-02-16 04:04:39,964] Preparing testing data...\n",
            "[INFO 2025-02-16 04:04:39,964] Preparing testing data...\n"
          ]
        },
        {
          "name": "stderr",
          "output_type": "stream",
          "text": [
            "73152it [00:01, 55099.19it/s]\n",
            "INFO:root:Writing files...\n"
          ]
        },
        {
          "name": "stdout",
          "output_type": "stream",
          "text": [
            "[INFO 2025-02-16 04:04:41,514] Writing files...\n",
            "[INFO 2025-02-16 04:04:41,514] Writing files...\n"
          ]
        },
        {
          "name": "stderr",
          "output_type": "stream",
          "text": [
            "INFO:root:73152 testing samples in total.\n"
          ]
        },
        {
          "name": "stdout",
          "output_type": "stream",
          "text": [
            "[INFO 2025-02-16 04:04:42,929] 73152 testing samples in total.\n",
            "[INFO 2025-02-16 04:04:42,929] 73152 testing samples in total.\n"
          ]
        },
        {
          "name": "stderr",
          "output_type": "stream",
          "text": [
            "<ipython-input-19-2a413c7c0f14>:10: FutureWarning: You are using `torch.load` with `weights_only=False` (the current default value), which uses the default pickle module implicitly. It is possible to construct malicious pickle data which will execute arbitrary code during unpickling (See https://github.com/pytorch/pytorch/blob/main/SECURITY.md#untrusted-models for more details). In a future release, the default value for `weights_only` will be flipped to `True`. This limits the functions that could be executed during unpickling. Arbitrary objects will no longer be allowed to be loaded via this mode unless they are explicitly allowlisted by the user via `torch.serialization.add_safe_globals`. We recommend you start setting `weights_only=True` for any use case where you don't have full control of the loaded file. Please open an issue on GitHub for any issues related to this experimental feature.\n",
            "  checkpoint = torch.load(ckpt_path, map_location='cpu')\n",
            "INFO:root:Model loaded from /content/model/epoch-5.pt\n"
          ]
        },
        {
          "name": "stdout",
          "output_type": "stream",
          "text": [
            "[INFO 2025-02-16 04:04:42,967] Model loaded from /content/model/epoch-5.pt\n",
            "[INFO 2025-02-16 04:04:42,967] Model loaded from /content/model/epoch-5.pt\n"
          ]
        },
        {
          "name": "stderr",
          "output_type": "stream",
          "text": [
            "51282it [00:04, 11935.00it/s]\n",
            "100%|██████████| 51282/51282 [00:00<00:00, 184251.70it/s]\n",
            "100%|██████████| 401/401 [00:01<00:00, 313.91it/s]\n",
            "INFO:root:news scoring num: 51283\n"
          ]
        },
        {
          "name": "stdout",
          "output_type": "stream",
          "text": [
            "[INFO 2025-02-16 04:04:49,207] news scoring num: 51283\n",
            "[INFO 2025-02-16 04:04:49,207] news scoring num: 51283\n"
          ]
        },
        {
          "name": "stderr",
          "output_type": "stream",
          "text": [
            "100%|██████████| 1000000/1000000 [00:09<00:00, 107058.99it/s]\n",
            "INFO:root:News doc-sim: 0.12817811946745758\n"
          ]
        },
        {
          "name": "stdout",
          "output_type": "stream",
          "text": [
            "[INFO 2025-02-16 04:04:58,555] News doc-sim: 0.12817811946745758\n",
            "[INFO 2025-02-16 04:04:58,555] News doc-sim: 0.12817811946745758\n"
          ]
        },
        {
          "name": "stderr",
          "output_type": "stream",
          "text": [
            "<ipython-input-19-2a413c7c0f14>:61: UserWarning: Creating a tensor from a list of numpy.ndarrays is extremely slow. Please consider converting the list to a single numpy.ndarray with numpy.array() before converting to a tensor. (Triggered internally at ../torch/csrc/utils/tensor_new.cpp:278.)\n",
            "  log_vecs = torch.FloatTensor([x[0] for x in tuple_list])\n",
            "INFO:root:[0] 128 samples: 61.40\t28.85\t29.55\t38.26\n"
          ]
        },
        {
          "name": "stdout",
          "output_type": "stream",
          "text": [
            "[INFO 2025-02-16 04:04:59,230] [0] 128 samples: 61.40\t28.85\t29.55\t38.26\n",
            "[INFO 2025-02-16 04:04:59,230] [0] 128 samples: 61.40\t28.85\t29.55\t38.26\n"
          ]
        },
        {
          "name": "stderr",
          "output_type": "stream",
          "text": [
            "INFO:root:[0] 12928 samples: 63.58\t30.21\t32.97\t39.13\n"
          ]
        },
        {
          "name": "stdout",
          "output_type": "stream",
          "text": [
            "[INFO 2025-02-16 04:06:10,877] [0] 12928 samples: 63.58\t30.21\t32.97\t39.13\n",
            "[INFO 2025-02-16 04:06:10,877] [0] 12928 samples: 63.58\t30.21\t32.97\t39.13\n"
          ]
        },
        {
          "name": "stderr",
          "output_type": "stream",
          "text": [
            "INFO:root:[0] 25728 samples: 63.57\t30.42\t33.22\t39.27\n"
          ]
        },
        {
          "name": "stdout",
          "output_type": "stream",
          "text": [
            "[INFO 2025-02-16 04:07:22,000] [0] 25728 samples: 63.57\t30.42\t33.22\t39.27\n",
            "[INFO 2025-02-16 04:07:22,000] [0] 25728 samples: 63.57\t30.42\t33.22\t39.27\n"
          ]
        },
        {
          "name": "stderr",
          "output_type": "stream",
          "text": [
            "INFO:root:[0] 38528 samples: 63.51\t30.30\t33.09\t39.20\n"
          ]
        },
        {
          "name": "stdout",
          "output_type": "stream",
          "text": [
            "[INFO 2025-02-16 04:08:33,108] [0] 38528 samples: 63.51\t30.30\t33.09\t39.20\n",
            "[INFO 2025-02-16 04:08:33,108] [0] 38528 samples: 63.51\t30.30\t33.09\t39.20\n"
          ]
        },
        {
          "name": "stderr",
          "output_type": "stream",
          "text": [
            "INFO:root:[0] 51328 samples: 63.38\t30.15\t32.86\t39.02\n"
          ]
        },
        {
          "name": "stdout",
          "output_type": "stream",
          "text": [
            "[INFO 2025-02-16 04:09:44,650] [0] 51328 samples: 63.38\t30.15\t32.86\t39.02\n",
            "[INFO 2025-02-16 04:09:44,650] [0] 51328 samples: 63.38\t30.15\t32.86\t39.02\n"
          ]
        },
        {
          "name": "stderr",
          "output_type": "stream",
          "text": [
            "INFO:root:[0] 64128 samples: 63.37\t30.16\t32.88\t39.06\n"
          ]
        },
        {
          "name": "stdout",
          "output_type": "stream",
          "text": [
            "[INFO 2025-02-16 04:10:55,804] [0] 64128 samples: 63.37\t30.16\t32.88\t39.06\n",
            "[INFO 2025-02-16 04:10:55,804] [0] 64128 samples: 63.37\t30.16\t32.88\t39.06\n"
          ]
        },
        {
          "name": "stderr",
          "output_type": "stream",
          "text": [
            "INFO:root:[0] local_sample_num: 73152\n"
          ]
        },
        {
          "name": "stdout",
          "output_type": "stream",
          "text": [
            "[INFO 2025-02-16 04:11:46,083] [0] local_sample_num: 73152\n",
            "[INFO 2025-02-16 04:11:46,083] [0] local_sample_num: 73152\n"
          ]
        },
        {
          "name": "stderr",
          "output_type": "stream",
          "text": [
            "INFO:root:[*] 73152 samples: 63.36\t30.19\t32.90\t39.09\n"
          ]
        },
        {
          "name": "stdout",
          "output_type": "stream",
          "text": [
            "[INFO 2025-02-16 04:11:46,115] [*] 73152 samples: 63.36\t30.19\t32.90\t39.09\n",
            "[INFO 2025-02-16 04:11:46,115] [*] 73152 samples: 63.36\t30.19\t32.90\t39.09\n"
          ]
        }
      ],
      "source": [
        "args.mode = 'test'\n",
        "args.user_log_mask=True\n",
        "args.batch_size=128\n",
        "args.load_ckpt_name= 'epoch-5.pt'\n",
        "args.prepare=True\n",
        "if 'test' in args.mode:\n",
        "        if args.prepare:\n",
        "            logging.info('Preparing testing data...')\n",
        "            total_sample_num = prepare_testing_data(args.test_data_dir, args.nGPU)\n",
        "        else:\n",
        "            total_sample_num = 0\n",
        "            for i in range(args.nGPU):\n",
        "                data_file_path = os.path.join(args.test_data_dir, f'behaviors_{i}.tsv')\n",
        "                if not os.path.exists(data_file_path):\n",
        "                    logging.error(f'Splited testing data {data_file_path} for GPU {i} does not exist. Please set the parameter --prepare as True and rerun the code.')\n",
        "                    exit()\n",
        "                result = subprocess.getoutput(f'wc -l {data_file_path}')\n",
        "                total_sample_num += int(result.split(' ')[0])\n",
        "            logging.info('Skip testing data preparation.')\n",
        "        logging.info(f'{total_sample_num} testing samples in total.')\n",
        "\n",
        "        test(0, args)"
      ]
    },
    {
      "cell_type": "code",
      "execution_count": null,
      "metadata": {
        "id": "5694OJnDLmEV"
      },
      "outputs": [],
      "source": []
    }
  ],
  "metadata": {
    "accelerator": "GPU",
    "colab": {
      "gpuType": "T4",
      "provenance": []
    },
    "kernelspec": {
      "display_name": "Python 3",
      "name": "python3"
    },
    "language_info": {
      "name": "python"
    }
  },
  "nbformat": 4,
  "nbformat_minor": 0
}
