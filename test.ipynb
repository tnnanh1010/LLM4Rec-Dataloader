{
 "cells": [
  {
   "cell_type": "code",
   "execution_count": null,
   "metadata": {},
   "outputs": [
    {
     "ename": "",
     "evalue": "",
     "output_type": "error",
     "traceback": [
      "\u001b[1;31mRunning cells with 'Python 3.8.10' requires the ipykernel package.\n",
      "\u001b[1;31mRun the following command to install 'ipykernel' into the Python environment. \n",
      "\u001b[1;31mCommand: '/usr/bin/python -m pip install ipykernel -U --user --force-reinstall'"
     ]
    }
   ],
   "source": [
    "import pandas as pd\n",
    "import numpy as np\n",
    "import torch\n",
    "import torch.nn as nn\n",
    "import torch.optim as optim\n",
    "from scipy.sparse import coo_matrix\n",
    "\n",
    "# Load MovieLens dataset\n",
    "def load_movielens_data(filepath=\"ml-latest-small/ratings.csv\"):\n",
    "    data = pd.read_csv(filepath)\n",
    "    return data\n",
    "\n",
    "# Preprocess: Convert ratings to binary interactions\n",
    "def preprocess_movielens(data, threshold=4.0):\n",
    "    data['interaction'] = (data['rating'] >= threshold).astype(int)\n",
    "    user_map = {user: idx for idx, user in enumerate(data['userId'].unique())}\n",
    "    item_map = {item: idx for idx, item in enumerate(data['movieId'].unique())}\n",
    "    data['userId'] = data['userId'].map(user_map)\n",
    "    data['movieId'] = data['movieId'].map(item_map)\n",
    "    num_users = len(user_map)\n",
    "    num_items = len(item_map)\n",
    "    return data, num_users, num_items\n",
    "\n",
    "# Matrix Factorization Model\n",
    "class MatrixFactorization(nn.Module):\n",
    "    def __init__(self, num_users, num_items, latent_dim):\n",
    "        super().__init__()\n",
    "        self.user_embeddings = nn.Embedding(num_users, latent_dim)\n",
    "        self.item_embeddings = nn.Embedding(num_items, latent_dim)\n",
    "    \n",
    "    def forward(self, user_ids, item_ids):\n",
    "        user_factors = self.user_embeddings(user_ids)\n",
    "        item_factors = self.item_embeddings(item_ids)\n",
    "        scores = (user_factors * item_factors).sum(dim=1)  # Dot product\n",
    "        probabilities = torch.sigmoid(scores)  # Convert to probabilities\n",
    "        return probabilities\n",
    "\n",
    "# Training function\n",
    "def train_model(data, num_users, num_items, latent_dim=10, epochs=10, lr=0.01):\n",
    "    model = MatrixFactorization(num_users, num_items, latent_dim)\n",
    "    criterion = nn.BCELoss()  # Binary Cross-Entropy Loss\n",
    "    optimizer = optim.Adam(model.parameters(), lr=lr)\n",
    "    \n",
    "    interactions = torch.tensor(data[['userId', 'movieId', 'interaction']].values, dtype=torch.long)\n",
    "    for epoch in range(epochs):\n",
    "        total_loss = 0\n",
    "        for row in interactions:\n",
    "            user_id, item_id, label = row\n",
    "            user_id = torch.tensor([user_id])\n",
    "            item_id = torch.tensor([item_id])\n",
    "            label = torch.tensor([label], dtype=torch.float32)\n",
    "            \n",
    "            # Forward pass\n",
    "            prediction = model(user_id, item_id)\n",
    "            \n",
    "            # Compute loss\n",
    "            loss = criterion(prediction, label)\n",
    "            total_loss += loss.item()\n",
    "            \n",
    "            # Backward pass\n",
    "            optimizer.zero_grad()\n",
    "            loss.backward()\n",
    "            optimizer.step()\n",
    "        \n",
    "        print(f\"Epoch {epoch + 1}/{epochs}, Loss: {total_loss:.4f}\")\n",
    "    \n",
    "    return model\n",
    "\n",
    "# Evaluation: Generate predictions for all user-item pairs\n",
    "def evaluate_model(model, num_users, num_items):\n",
    "    user_ids = torch.arange(num_users).repeat_interleave(num_items)\n",
    "    item_ids = torch.arange(num_items).repeat(num_users)\n",
    "    with torch.no_grad():\n",
    "        predictions = model(user_ids, item_ids)\n",
    "    return predictions.reshape(num_users, num_items)\n"
   ]
  },
  {
   "cell_type": "code",
   "execution_count": 3,
   "metadata": {},
   "outputs": [
    {
     "name": "stderr",
     "output_type": "stream",
     "text": [
      "100%|██████████| 4.81k/4.81k [00:29<00:00, 162KB/s] "
     ]
    },
    {
     "name": "stdout",
     "output_type": "stream",
     "text": [
      "ZIPPATH=  /home/vinmike/Documents/GitHub/LLM4Rec-Dataloader/data/data/ml-100K.zip\n",
      "1\n"
     ]
    },
    {
     "name": "stderr",
     "output_type": "stream",
     "text": [
      "\n"
     ]
    },
    {
     "ename": "NameError",
     "evalue": "name 'preprocess_movielens' is not defined",
     "output_type": "error",
     "traceback": [
      "\u001b[0;31m---------------------------------------------------------------------------\u001b[0m",
      "\u001b[0;31mNameError\u001b[0m                                 Traceback (most recent call last)",
      "Cell \u001b[0;32mIn[3], line 4\u001b[0m\n\u001b[1;32m      2\u001b[0m \u001b[38;5;66;03m# Load and preprocess data\u001b[39;00m\n\u001b[1;32m      3\u001b[0m movielens_data \u001b[38;5;241m=\u001b[39m movielens\u001b[38;5;241m.\u001b[39mload_pandas_df(\u001b[38;5;124m\"\u001b[39m\u001b[38;5;124m100K\u001b[39m\u001b[38;5;124m\"\u001b[39m)\n\u001b[0;32m----> 4\u001b[0m processed_data, num_users, num_items \u001b[38;5;241m=\u001b[39m \u001b[43mpreprocess_movielens\u001b[49m(movielens_data)\n",
      "\u001b[0;31mNameError\u001b[0m: name 'preprocess_movielens' is not defined"
     ]
    }
   ],
   "source": [
    "\n",
    "import movielens\n",
    "# Load and preprocess data\n",
    "movielens_data = movielens.load_pandas_df(\"100K\")\n",
    "processed_data, num_users, num_items = preprocess_movielens(movielens_data)\n",
    "\n"
   ]
  },
  {
   "cell_type": "code",
   "execution_count": null,
   "metadata": {},
   "outputs": [],
   "source": [
    "\n",
    "# Train the model\n",
    "model = train_model(processed_data, num_users, num_items, latent_dim=10, epochs=10, lr=0.01)\n",
    "\n",
    "# Evaluate the model\n",
    "predictions = evaluate_model(model, num_users, num_items)\n",
    "print(predictions)"
   ]
  }
 ],
 "metadata": {
  "kernelspec": {
   "display_name": "Python 3",
   "language": "python",
   "name": "python3"
  },
  "language_info": {
   "codemirror_mode": {
    "name": "ipython",
    "version": 3
   },
   "file_extension": ".py",
   "mimetype": "text/x-python",
   "name": "python",
   "nbconvert_exporter": "python",
   "pygments_lexer": "ipython3",
   "version": "3.8.10"
  }
 },
 "nbformat": 4,
 "nbformat_minor": 2
}
